{
 "cells": [
  {
   "cell_type": "markdown",
   "id": "7a899787",
   "metadata": {},
   "source": [
    "## X-Ray Abnormality Detection | DenseNet-169, pretrained on ImageNet"
   ]
  },
  {
   "cell_type": "markdown",
   "id": "c7764e65",
   "metadata": {},
   "source": [
    "> **Antonopoulos Ilias** ( *p3352004* ) <br />\n",
    "> **Ndoja Silva** ( *p3352017* ) <br />\n",
    "> **MSc in Data Science, AUEB**"
   ]
  },
  {
   "cell_type": "markdown",
   "id": "aa71e65e",
   "metadata": {},
   "source": [
    "## Table of Contents\n",
    "\n",
    "- [Data Loading](#Data-Loading)\n",
    " * [Create a tensorflow input pipeline for the training data](#Create-a-tensorflow-input-pipeline-for-the-training-data)\n",
    " * [Create a tensorflow input pipeline for the testing data](#Create-a-tensorflow-input-pipeline-for-the-testing-data)\n",
    "- [Baseline Performance](#Baseline-Performance)\n",
    " * [DenseNet169-architecture,-pretrained-on-ImageNet](#DenseNet169-architecture,-pretrained-on-ImageNet)"
   ]
  },
  {
   "cell_type": "code",
   "execution_count": 1,
   "id": "99fc7dec",
   "metadata": {},
   "outputs": [],
   "source": [
    "import gc\n",
    "import os\n",
    "import pathlib\n",
    "import random\n",
    "import re\n",
    "from glob import glob\n",
    "from PIL import Image\n",
    "from typing import Iterable\n",
    "\n",
    "import matplotlib.pyplot as plt\n",
    "import numpy as np\n",
    "import pandas as pd\n",
    "import tensorflow as tf\n",
    "import tensorflow_addons as tfa\n",
    "from matplotlib import image\n",
    "from sklearn.metrics import cohen_kappa_score, confusion_matrix, classification_report\n",
    "\n",
    "\n",
    "pd.set_option(\"max_colwidth\", None)\n",
    "plt.style.use(\"dark_background\")"
   ]
  },
  {
   "cell_type": "code",
   "execution_count": 2,
   "id": "6d6c351a",
   "metadata": {},
   "outputs": [
    {
     "name": "stdout",
     "output_type": "stream",
     "text": [
      "2.8.0\n"
     ]
    }
   ],
   "source": [
    "print(tf.__version__)"
   ]
  },
  {
   "cell_type": "code",
   "execution_count": 3,
   "id": "1fa8b39b",
   "metadata": {},
   "outputs": [
    {
     "name": "stdout",
     "output_type": "stream",
     "text": [
      "Num GPUs Available:  1\n"
     ]
    },
    {
     "name": "stderr",
     "output_type": "stream",
     "text": [
      "2022-03-27 14:06:50.853723: I tensorflow/stream_executor/cuda/cuda_gpu_executor.cc:936] successful NUMA node read from SysFS had negative value (-1), but there must be at least one NUMA node, so returning NUMA node zero\n",
      "2022-03-27 14:06:50.880422: I tensorflow/stream_executor/cuda/cuda_gpu_executor.cc:936] successful NUMA node read from SysFS had negative value (-1), but there must be at least one NUMA node, so returning NUMA node zero\n",
      "2022-03-27 14:06:50.880578: I tensorflow/stream_executor/cuda/cuda_gpu_executor.cc:936] successful NUMA node read from SysFS had negative value (-1), but there must be at least one NUMA node, so returning NUMA node zero\n"
     ]
    }
   ],
   "source": [
    "print(\"Num GPUs Available: \", len(tf.config.list_physical_devices(\"GPU\")))"
   ]
  },
  {
   "cell_type": "code",
   "execution_count": 4,
   "id": "8d64d949",
   "metadata": {},
   "outputs": [],
   "source": [
    "gpus = tf.config.experimental.list_physical_devices(\"GPU\")\n",
    "\n",
    "try:\n",
    "    tf.config.experimental.set_memory_growth(gpus[0], True)\n",
    "except IndexError:\n",
    "    print(\"Cannot memory-restrict the GPU, if no GPU exists in system. Ignore...\")\n",
    "    pass"
   ]
  },
  {
   "cell_type": "code",
   "execution_count": 5,
   "id": "a6659fde",
   "metadata": {},
   "outputs": [],
   "source": [
    "SEED = 99910123\n",
    "\n",
    "os.environ[\"PYTHONHASHSEED\"] = str(SEED)\n",
    "random.seed(SEED)\n",
    "tf.random.set_seed(SEED)\n",
    "np.random.seed(SEED)"
   ]
  },
  {
   "cell_type": "markdown",
   "id": "b5346f99",
   "metadata": {},
   "source": [
    "### Data Loading"
   ]
  },
  {
   "cell_type": "code",
   "execution_count": 6,
   "id": "5819c5d3",
   "metadata": {},
   "outputs": [],
   "source": [
    "DATASET_DIR = \"../data/MURA-v1.1/\""
   ]
  },
  {
   "cell_type": "code",
   "execution_count": 7,
   "id": "22e69e6c",
   "metadata": {},
   "outputs": [],
   "source": [
    "def inspect_df(df: pd.DataFrame, n: int = 5) -> pd.DataFrame:\n",
    "    \"\"\"Helper method to easily inspect DataFrames.\"\"\"\n",
    "\n",
    "    print(f\"shape: {df.shape}\")\n",
    "\n",
    "    return df.head(n)"
   ]
  },
  {
   "cell_type": "code",
   "execution_count": 8,
   "id": "67d931da",
   "metadata": {},
   "outputs": [
    {
     "data": {
      "text/plain": [
       "['../data/MURA-v1.1/train/XR_WRIST/patient08092/study1_negative/image1.png',\n",
       " '../data/MURA-v1.1/train/XR_FINGER/patient01064/study1_positive/image1.png',\n",
       " '../data/MURA-v1.1/valid/XR_ELBOW/patient11831/study1_positive/image1.png',\n",
       " '../data/MURA-v1.1/train/XR_SHOULDER/patient00442/study1_positive/image1.png',\n",
       " '../data/MURA-v1.1/train/XR_ELBOW/patient06289/study1_negative/image3.png',\n",
       " '../data/MURA-v1.1/train/XR_WRIST/patient08562/study1_negative/image2.png',\n",
       " '../data/MURA-v1.1/train/XR_FINGER/patient04280/study1_negative/image3.png',\n",
       " '../data/MURA-v1.1/train/XR_WRIST/patient07018/study1_positive/image1.png',\n",
       " '../data/MURA-v1.1/train/XR_ELBOW/patient06000/study1_negative/image1.png',\n",
       " '../data/MURA-v1.1/train/XR_SHOULDER/patient00497/study2_negative/image4.png']"
      ]
     },
     "execution_count": 8,
     "metadata": {},
     "output_type": "execute_result"
    }
   ],
   "source": [
    "random.choices(glob(os.path.join(DATASET_DIR, \"*\", \"*\", \"*\", \"*\", \"*.png\")), k=10)"
   ]
  },
  {
   "cell_type": "markdown",
   "id": "3e68ad35",
   "metadata": {},
   "source": [
    "So, the data structure is the following:\n",
    "\n",
    "```\n",
    "\n",
    "└─train {data subset}\n",
    "│   └───XR_ELBOW {study type}\n",
    "│       │  └───patient00011 {patient}\n",
    "│       │         └───study1_negative {study with label}\n",
    "│       │               └───image1.png {view}\n",
    "│       │               └───image2.png \n",
    "│       │               └───image3.png \n",
    "                        └───...\n",
    "   ...\n",
    "   \n",
    "\n",
    "└─valid {data subset}\n",
    "│   └───XR_HUMERUS {study type}\n",
    "│       │  └───patient11216 {patient}\n",
    "│       │         └───study1_negative {study with label}\n",
    "│       │               └───image1.png {view}\n",
    "│       │               └───image2.png \n",
    "                        └───...\n",
    "```"
   ]
  },
  {
   "cell_type": "code",
   "execution_count": 9,
   "id": "0e99c8e4",
   "metadata": {},
   "outputs": [
    {
     "name": "stdout",
     "output_type": "stream",
     "text": [
      "Total PNG images found in dir <../data/MURA-v1.1/>: 40009\n"
     ]
    }
   ],
   "source": [
    "image_count = len(list(pathlib.Path(DATASET_DIR).glob(\"*/*/*/*/*.png\")))\n",
    "\n",
    "print(f\"Total PNG images found in dir <{DATASET_DIR}>: {image_count}\")"
   ]
  },
  {
   "cell_type": "markdown",
   "id": "e3cc7391",
   "metadata": {},
   "source": [
    "We will start by creating a tabular form of the training data (with no actual image files), in order to quickly analyze them. A proper data loader (of the actual image files) will be implemented after that, in a tensorflow-friendly manner."
   ]
  },
  {
   "cell_type": "code",
   "execution_count": 10,
   "id": "6ee568f1",
   "metadata": {
    "scrolled": false
   },
   "outputs": [
    {
     "name": "stdout",
     "output_type": "stream",
     "text": [
      "shape: (36808, 1)\n"
     ]
    },
    {
     "data": {
      "text/html": [
       "<div>\n",
       "<style scoped>\n",
       "    .dataframe tbody tr th:only-of-type {\n",
       "        vertical-align: middle;\n",
       "    }\n",
       "\n",
       "    .dataframe tbody tr th {\n",
       "        vertical-align: top;\n",
       "    }\n",
       "\n",
       "    .dataframe thead th {\n",
       "        text-align: right;\n",
       "    }\n",
       "</style>\n",
       "<table border=\"1\" class=\"dataframe\">\n",
       "  <thead>\n",
       "    <tr style=\"text-align: right;\">\n",
       "      <th></th>\n",
       "      <th>image_path</th>\n",
       "    </tr>\n",
       "  </thead>\n",
       "  <tbody>\n",
       "    <tr>\n",
       "      <th>0</th>\n",
       "      <td>MURA-v1.1/train/XR_SHOULDER/patient00001/study1_positive/image1.png</td>\n",
       "    </tr>\n",
       "    <tr>\n",
       "      <th>1</th>\n",
       "      <td>MURA-v1.1/train/XR_SHOULDER/patient00001/study1_positive/image2.png</td>\n",
       "    </tr>\n",
       "    <tr>\n",
       "      <th>2</th>\n",
       "      <td>MURA-v1.1/train/XR_SHOULDER/patient00001/study1_positive/image3.png</td>\n",
       "    </tr>\n",
       "    <tr>\n",
       "      <th>3</th>\n",
       "      <td>MURA-v1.1/train/XR_SHOULDER/patient00002/study1_positive/image1.png</td>\n",
       "    </tr>\n",
       "    <tr>\n",
       "      <th>4</th>\n",
       "      <td>MURA-v1.1/train/XR_SHOULDER/patient00002/study1_positive/image2.png</td>\n",
       "    </tr>\n",
       "  </tbody>\n",
       "</table>\n",
       "</div>"
      ],
      "text/plain": [
       "                                                            image_path\n",
       "0  MURA-v1.1/train/XR_SHOULDER/patient00001/study1_positive/image1.png\n",
       "1  MURA-v1.1/train/XR_SHOULDER/patient00001/study1_positive/image2.png\n",
       "2  MURA-v1.1/train/XR_SHOULDER/patient00001/study1_positive/image3.png\n",
       "3  MURA-v1.1/train/XR_SHOULDER/patient00002/study1_positive/image1.png\n",
       "4  MURA-v1.1/train/XR_SHOULDER/patient00002/study1_positive/image2.png"
      ]
     },
     "execution_count": 10,
     "metadata": {},
     "output_type": "execute_result"
    }
   ],
   "source": [
    "train_image_paths = pd.read_csv(\n",
    "    os.path.join(DATASET_DIR, \"train_image_paths.csv\"),\n",
    "    names=[\"image_path\"],\n",
    "    header=None,\n",
    "    index_col=False,\n",
    ")\n",
    "\n",
    "inspect_df(train_image_paths)"
   ]
  },
  {
   "cell_type": "code",
   "execution_count": 11,
   "id": "60a69725",
   "metadata": {},
   "outputs": [],
   "source": [
    "train_image_paths[\"image_path\"] = train_image_paths[\"image_path\"].map(\n",
    "    lambda x: os.path.join(\"../data/\", x)\n",
    ")\n",
    "train_image_paths[\"study_type\"] = train_image_paths[\"image_path\"].map(\n",
    "    lambda x: x.split(\"/\")[3]\n",
    ")\n",
    "train_image_paths[\"patient\"] = train_image_paths[\"image_path\"].map(\n",
    "    lambda x: x.split(\"/\")[4]\n",
    ")\n",
    "train_image_paths[\"study\"] = train_image_paths[\"image_path\"].map(\n",
    "    lambda x: x.split(\"/\")[5]\n",
    ")\n",
    "train_image_paths[\"study_path\"] = train_image_paths[\"image_path\"].map(\n",
    "    lambda x: re.sub(r\"image\\d+.png\", \"\", x)\n",
    ")"
   ]
  },
  {
   "cell_type": "code",
   "execution_count": 12,
   "id": "d073e76e",
   "metadata": {},
   "outputs": [
    {
     "name": "stdout",
     "output_type": "stream",
     "text": [
      "shape: (36808, 5)\n"
     ]
    },
    {
     "data": {
      "text/html": [
       "<div>\n",
       "<style scoped>\n",
       "    .dataframe tbody tr th:only-of-type {\n",
       "        vertical-align: middle;\n",
       "    }\n",
       "\n",
       "    .dataframe tbody tr th {\n",
       "        vertical-align: top;\n",
       "    }\n",
       "\n",
       "    .dataframe thead th {\n",
       "        text-align: right;\n",
       "    }\n",
       "</style>\n",
       "<table border=\"1\" class=\"dataframe\">\n",
       "  <thead>\n",
       "    <tr style=\"text-align: right;\">\n",
       "      <th></th>\n",
       "      <th>image_path</th>\n",
       "      <th>study_type</th>\n",
       "      <th>patient</th>\n",
       "      <th>study</th>\n",
       "      <th>study_path</th>\n",
       "    </tr>\n",
       "  </thead>\n",
       "  <tbody>\n",
       "    <tr>\n",
       "      <th>0</th>\n",
       "      <td>../data/MURA-v1.1/train/XR_SHOULDER/patient00001/study1_positive/image1.png</td>\n",
       "      <td>train</td>\n",
       "      <td>XR_SHOULDER</td>\n",
       "      <td>patient00001</td>\n",
       "      <td>../data/MURA-v1.1/train/XR_SHOULDER/patient00001/study1_positive/</td>\n",
       "    </tr>\n",
       "    <tr>\n",
       "      <th>1</th>\n",
       "      <td>../data/MURA-v1.1/train/XR_SHOULDER/patient00001/study1_positive/image2.png</td>\n",
       "      <td>train</td>\n",
       "      <td>XR_SHOULDER</td>\n",
       "      <td>patient00001</td>\n",
       "      <td>../data/MURA-v1.1/train/XR_SHOULDER/patient00001/study1_positive/</td>\n",
       "    </tr>\n",
       "    <tr>\n",
       "      <th>2</th>\n",
       "      <td>../data/MURA-v1.1/train/XR_SHOULDER/patient00001/study1_positive/image3.png</td>\n",
       "      <td>train</td>\n",
       "      <td>XR_SHOULDER</td>\n",
       "      <td>patient00001</td>\n",
       "      <td>../data/MURA-v1.1/train/XR_SHOULDER/patient00001/study1_positive/</td>\n",
       "    </tr>\n",
       "    <tr>\n",
       "      <th>3</th>\n",
       "      <td>../data/MURA-v1.1/train/XR_SHOULDER/patient00002/study1_positive/image1.png</td>\n",
       "      <td>train</td>\n",
       "      <td>XR_SHOULDER</td>\n",
       "      <td>patient00002</td>\n",
       "      <td>../data/MURA-v1.1/train/XR_SHOULDER/patient00002/study1_positive/</td>\n",
       "    </tr>\n",
       "    <tr>\n",
       "      <th>4</th>\n",
       "      <td>../data/MURA-v1.1/train/XR_SHOULDER/patient00002/study1_positive/image2.png</td>\n",
       "      <td>train</td>\n",
       "      <td>XR_SHOULDER</td>\n",
       "      <td>patient00002</td>\n",
       "      <td>../data/MURA-v1.1/train/XR_SHOULDER/patient00002/study1_positive/</td>\n",
       "    </tr>\n",
       "  </tbody>\n",
       "</table>\n",
       "</div>"
      ],
      "text/plain": [
       "                                                                    image_path  \\\n",
       "0  ../data/MURA-v1.1/train/XR_SHOULDER/patient00001/study1_positive/image1.png   \n",
       "1  ../data/MURA-v1.1/train/XR_SHOULDER/patient00001/study1_positive/image2.png   \n",
       "2  ../data/MURA-v1.1/train/XR_SHOULDER/patient00001/study1_positive/image3.png   \n",
       "3  ../data/MURA-v1.1/train/XR_SHOULDER/patient00002/study1_positive/image1.png   \n",
       "4  ../data/MURA-v1.1/train/XR_SHOULDER/patient00002/study1_positive/image2.png   \n",
       "\n",
       "  study_type      patient         study  \\\n",
       "0      train  XR_SHOULDER  patient00001   \n",
       "1      train  XR_SHOULDER  patient00001   \n",
       "2      train  XR_SHOULDER  patient00001   \n",
       "3      train  XR_SHOULDER  patient00002   \n",
       "4      train  XR_SHOULDER  patient00002   \n",
       "\n",
       "                                                          study_path  \n",
       "0  ../data/MURA-v1.1/train/XR_SHOULDER/patient00001/study1_positive/  \n",
       "1  ../data/MURA-v1.1/train/XR_SHOULDER/patient00001/study1_positive/  \n",
       "2  ../data/MURA-v1.1/train/XR_SHOULDER/patient00001/study1_positive/  \n",
       "3  ../data/MURA-v1.1/train/XR_SHOULDER/patient00002/study1_positive/  \n",
       "4  ../data/MURA-v1.1/train/XR_SHOULDER/patient00002/study1_positive/  "
      ]
     },
     "execution_count": 12,
     "metadata": {},
     "output_type": "execute_result"
    }
   ],
   "source": [
    "inspect_df(train_image_paths)"
   ]
  },
  {
   "cell_type": "code",
   "execution_count": 13,
   "id": "59cf2544",
   "metadata": {
    "scrolled": false
   },
   "outputs": [
    {
     "name": "stdout",
     "output_type": "stream",
     "text": [
      "shape: (13457, 2)\n"
     ]
    },
    {
     "data": {
      "text/html": [
       "<div>\n",
       "<style scoped>\n",
       "    .dataframe tbody tr th:only-of-type {\n",
       "        vertical-align: middle;\n",
       "    }\n",
       "\n",
       "    .dataframe tbody tr th {\n",
       "        vertical-align: top;\n",
       "    }\n",
       "\n",
       "    .dataframe thead th {\n",
       "        text-align: right;\n",
       "    }\n",
       "</style>\n",
       "<table border=\"1\" class=\"dataframe\">\n",
       "  <thead>\n",
       "    <tr style=\"text-align: right;\">\n",
       "      <th></th>\n",
       "      <th>study_path</th>\n",
       "      <th>label</th>\n",
       "    </tr>\n",
       "  </thead>\n",
       "  <tbody>\n",
       "    <tr>\n",
       "      <th>0</th>\n",
       "      <td>MURA-v1.1/train/XR_SHOULDER/patient00001/study1_positive/</td>\n",
       "      <td>1</td>\n",
       "    </tr>\n",
       "    <tr>\n",
       "      <th>1</th>\n",
       "      <td>MURA-v1.1/train/XR_SHOULDER/patient00002/study1_positive/</td>\n",
       "      <td>1</td>\n",
       "    </tr>\n",
       "    <tr>\n",
       "      <th>2</th>\n",
       "      <td>MURA-v1.1/train/XR_SHOULDER/patient00003/study1_positive/</td>\n",
       "      <td>1</td>\n",
       "    </tr>\n",
       "    <tr>\n",
       "      <th>3</th>\n",
       "      <td>MURA-v1.1/train/XR_SHOULDER/patient00004/study1_positive/</td>\n",
       "      <td>1</td>\n",
       "    </tr>\n",
       "    <tr>\n",
       "      <th>4</th>\n",
       "      <td>MURA-v1.1/train/XR_SHOULDER/patient00005/study1_positive/</td>\n",
       "      <td>1</td>\n",
       "    </tr>\n",
       "  </tbody>\n",
       "</table>\n",
       "</div>"
      ],
      "text/plain": [
       "                                                  study_path  label\n",
       "0  MURA-v1.1/train/XR_SHOULDER/patient00001/study1_positive/      1\n",
       "1  MURA-v1.1/train/XR_SHOULDER/patient00002/study1_positive/      1\n",
       "2  MURA-v1.1/train/XR_SHOULDER/patient00003/study1_positive/      1\n",
       "3  MURA-v1.1/train/XR_SHOULDER/patient00004/study1_positive/      1\n",
       "4  MURA-v1.1/train/XR_SHOULDER/patient00005/study1_positive/      1"
      ]
     },
     "execution_count": 13,
     "metadata": {},
     "output_type": "execute_result"
    }
   ],
   "source": [
    "train_labeled_studies = pd.read_csv(\n",
    "    os.path.join(DATASET_DIR, \"train_labeled_studies.csv\"),\n",
    "    names=[\"study_path\", \"label\"],\n",
    "    header=None,\n",
    "    index_col=False,\n",
    ")\n",
    "\n",
    "inspect_df(train_labeled_studies)"
   ]
  },
  {
   "cell_type": "code",
   "execution_count": 14,
   "id": "df9a7f5d",
   "metadata": {},
   "outputs": [],
   "source": [
    "train_labeled_studies[\"study_path\"] = train_labeled_studies[\"study_path\"].map(\n",
    "    lambda x: os.path.join(\"../data/\", x)\n",
    ")\n",
    "train_labeled_studies[\"label\"] = train_labeled_studies[\"label\"].map(str)"
   ]
  },
  {
   "cell_type": "code",
   "execution_count": 15,
   "id": "408b169b",
   "metadata": {
    "scrolled": false
   },
   "outputs": [
    {
     "name": "stdout",
     "output_type": "stream",
     "text": [
      "shape: (13457, 2)\n"
     ]
    },
    {
     "data": {
      "text/html": [
       "<div>\n",
       "<style scoped>\n",
       "    .dataframe tbody tr th:only-of-type {\n",
       "        vertical-align: middle;\n",
       "    }\n",
       "\n",
       "    .dataframe tbody tr th {\n",
       "        vertical-align: top;\n",
       "    }\n",
       "\n",
       "    .dataframe thead th {\n",
       "        text-align: right;\n",
       "    }\n",
       "</style>\n",
       "<table border=\"1\" class=\"dataframe\">\n",
       "  <thead>\n",
       "    <tr style=\"text-align: right;\">\n",
       "      <th></th>\n",
       "      <th>study_path</th>\n",
       "      <th>label</th>\n",
       "    </tr>\n",
       "  </thead>\n",
       "  <tbody>\n",
       "    <tr>\n",
       "      <th>0</th>\n",
       "      <td>../data/MURA-v1.1/train/XR_SHOULDER/patient00001/study1_positive/</td>\n",
       "      <td>1</td>\n",
       "    </tr>\n",
       "    <tr>\n",
       "      <th>1</th>\n",
       "      <td>../data/MURA-v1.1/train/XR_SHOULDER/patient00002/study1_positive/</td>\n",
       "      <td>1</td>\n",
       "    </tr>\n",
       "    <tr>\n",
       "      <th>2</th>\n",
       "      <td>../data/MURA-v1.1/train/XR_SHOULDER/patient00003/study1_positive/</td>\n",
       "      <td>1</td>\n",
       "    </tr>\n",
       "    <tr>\n",
       "      <th>3</th>\n",
       "      <td>../data/MURA-v1.1/train/XR_SHOULDER/patient00004/study1_positive/</td>\n",
       "      <td>1</td>\n",
       "    </tr>\n",
       "    <tr>\n",
       "      <th>4</th>\n",
       "      <td>../data/MURA-v1.1/train/XR_SHOULDER/patient00005/study1_positive/</td>\n",
       "      <td>1</td>\n",
       "    </tr>\n",
       "  </tbody>\n",
       "</table>\n",
       "</div>"
      ],
      "text/plain": [
       "                                                          study_path label\n",
       "0  ../data/MURA-v1.1/train/XR_SHOULDER/patient00001/study1_positive/     1\n",
       "1  ../data/MURA-v1.1/train/XR_SHOULDER/patient00002/study1_positive/     1\n",
       "2  ../data/MURA-v1.1/train/XR_SHOULDER/patient00003/study1_positive/     1\n",
       "3  ../data/MURA-v1.1/train/XR_SHOULDER/patient00004/study1_positive/     1\n",
       "4  ../data/MURA-v1.1/train/XR_SHOULDER/patient00005/study1_positive/     1"
      ]
     },
     "execution_count": 15,
     "metadata": {},
     "output_type": "execute_result"
    }
   ],
   "source": [
    "inspect_df(train_labeled_studies)"
   ]
  },
  {
   "cell_type": "code",
   "execution_count": 16,
   "id": "98c49b41",
   "metadata": {},
   "outputs": [
    {
     "name": "stdout",
     "output_type": "stream",
     "text": [
      "shape: (36808, 6)\n"
     ]
    },
    {
     "data": {
      "text/html": [
       "<div>\n",
       "<style scoped>\n",
       "    .dataframe tbody tr th:only-of-type {\n",
       "        vertical-align: middle;\n",
       "    }\n",
       "\n",
       "    .dataframe tbody tr th {\n",
       "        vertical-align: top;\n",
       "    }\n",
       "\n",
       "    .dataframe thead th {\n",
       "        text-align: right;\n",
       "    }\n",
       "</style>\n",
       "<table border=\"1\" class=\"dataframe\">\n",
       "  <thead>\n",
       "    <tr style=\"text-align: right;\">\n",
       "      <th></th>\n",
       "      <th>image_path</th>\n",
       "      <th>study_type</th>\n",
       "      <th>patient</th>\n",
       "      <th>study</th>\n",
       "      <th>study_path</th>\n",
       "      <th>label</th>\n",
       "    </tr>\n",
       "  </thead>\n",
       "  <tbody>\n",
       "    <tr>\n",
       "      <th>0</th>\n",
       "      <td>../data/MURA-v1.1/train/XR_SHOULDER/patient00001/study1_positive/image1.png</td>\n",
       "      <td>train</td>\n",
       "      <td>XR_SHOULDER</td>\n",
       "      <td>patient00001</td>\n",
       "      <td>../data/MURA-v1.1/train/XR_SHOULDER/patient00001/study1_positive/</td>\n",
       "      <td>1</td>\n",
       "    </tr>\n",
       "    <tr>\n",
       "      <th>1</th>\n",
       "      <td>../data/MURA-v1.1/train/XR_SHOULDER/patient00001/study1_positive/image2.png</td>\n",
       "      <td>train</td>\n",
       "      <td>XR_SHOULDER</td>\n",
       "      <td>patient00001</td>\n",
       "      <td>../data/MURA-v1.1/train/XR_SHOULDER/patient00001/study1_positive/</td>\n",
       "      <td>1</td>\n",
       "    </tr>\n",
       "    <tr>\n",
       "      <th>2</th>\n",
       "      <td>../data/MURA-v1.1/train/XR_SHOULDER/patient00001/study1_positive/image3.png</td>\n",
       "      <td>train</td>\n",
       "      <td>XR_SHOULDER</td>\n",
       "      <td>patient00001</td>\n",
       "      <td>../data/MURA-v1.1/train/XR_SHOULDER/patient00001/study1_positive/</td>\n",
       "      <td>1</td>\n",
       "    </tr>\n",
       "    <tr>\n",
       "      <th>3</th>\n",
       "      <td>../data/MURA-v1.1/train/XR_SHOULDER/patient00002/study1_positive/image1.png</td>\n",
       "      <td>train</td>\n",
       "      <td>XR_SHOULDER</td>\n",
       "      <td>patient00002</td>\n",
       "      <td>../data/MURA-v1.1/train/XR_SHOULDER/patient00002/study1_positive/</td>\n",
       "      <td>1</td>\n",
       "    </tr>\n",
       "    <tr>\n",
       "      <th>4</th>\n",
       "      <td>../data/MURA-v1.1/train/XR_SHOULDER/patient00002/study1_positive/image2.png</td>\n",
       "      <td>train</td>\n",
       "      <td>XR_SHOULDER</td>\n",
       "      <td>patient00002</td>\n",
       "      <td>../data/MURA-v1.1/train/XR_SHOULDER/patient00002/study1_positive/</td>\n",
       "      <td>1</td>\n",
       "    </tr>\n",
       "  </tbody>\n",
       "</table>\n",
       "</div>"
      ],
      "text/plain": [
       "                                                                    image_path  \\\n",
       "0  ../data/MURA-v1.1/train/XR_SHOULDER/patient00001/study1_positive/image1.png   \n",
       "1  ../data/MURA-v1.1/train/XR_SHOULDER/patient00001/study1_positive/image2.png   \n",
       "2  ../data/MURA-v1.1/train/XR_SHOULDER/patient00001/study1_positive/image3.png   \n",
       "3  ../data/MURA-v1.1/train/XR_SHOULDER/patient00002/study1_positive/image1.png   \n",
       "4  ../data/MURA-v1.1/train/XR_SHOULDER/patient00002/study1_positive/image2.png   \n",
       "\n",
       "  study_type      patient         study  \\\n",
       "0      train  XR_SHOULDER  patient00001   \n",
       "1      train  XR_SHOULDER  patient00001   \n",
       "2      train  XR_SHOULDER  patient00001   \n",
       "3      train  XR_SHOULDER  patient00002   \n",
       "4      train  XR_SHOULDER  patient00002   \n",
       "\n",
       "                                                          study_path label  \n",
       "0  ../data/MURA-v1.1/train/XR_SHOULDER/patient00001/study1_positive/     1  \n",
       "1  ../data/MURA-v1.1/train/XR_SHOULDER/patient00001/study1_positive/     1  \n",
       "2  ../data/MURA-v1.1/train/XR_SHOULDER/patient00001/study1_positive/     1  \n",
       "3  ../data/MURA-v1.1/train/XR_SHOULDER/patient00002/study1_positive/     1  \n",
       "4  ../data/MURA-v1.1/train/XR_SHOULDER/patient00002/study1_positive/     1  "
      ]
     },
     "execution_count": 16,
     "metadata": {},
     "output_type": "execute_result"
    }
   ],
   "source": [
    "ref_trainset = pd.merge(\n",
    "    train_image_paths, train_labeled_studies, how=\"inner\", on=\"study_path\"\n",
    ")\n",
    "\n",
    "inspect_df(ref_trainset)"
   ]
  },
  {
   "cell_type": "markdown",
   "id": "41eafe23",
   "metadata": {},
   "source": [
    "#### Create a tensorflow input pipeline for the training data"
   ]
  },
  {
   "cell_type": "code",
   "execution_count": 17,
   "id": "19f477b2",
   "metadata": {},
   "outputs": [],
   "source": [
    "IMAGE_WIDTH = 224\n",
    "IMAGE_HEIGHT = 224"
   ]
  },
  {
   "cell_type": "code",
   "execution_count": 18,
   "id": "c8637a1c",
   "metadata": {},
   "outputs": [],
   "source": [
    "training = tf.keras.preprocessing.image.ImageDataGenerator(\n",
    "    rotation_range=30,\n",
    "    horizontal_flip=True,\n",
    "    fill_mode=\"constant\",\n",
    "    cval=0.0,\n",
    "    rescale=1.0 / 255,\n",
    "    validation_split=0.2,\n",
    ")"
   ]
  },
  {
   "cell_type": "code",
   "execution_count": 19,
   "id": "21f38eee",
   "metadata": {},
   "outputs": [
    {
     "name": "stdout",
     "output_type": "stream",
     "text": [
      "Found 29447 non-validated image filenames belonging to 2 classes.\n"
     ]
    }
   ],
   "source": [
    "trainset = training.flow_from_dataframe(\n",
    "    dataframe=ref_trainset,\n",
    "    x_col=\"image_path\",\n",
    "    y_col=\"label\",\n",
    "    target_size=(IMAGE_WIDTH, IMAGE_HEIGHT),\n",
    "    class_mode=\"binary\",\n",
    "    color_mode=\"rgb\",  # 3 channels\n",
    "    batch_size=16,\n",
    "    seed=SEED,\n",
    "    shuffle=True,\n",
    "    validate_filenames=False,\n",
    "    subset=\"training\",\n",
    ")"
   ]
  },
  {
   "cell_type": "code",
   "execution_count": 20,
   "id": "3d3baff1",
   "metadata": {},
   "outputs": [
    {
     "name": "stdout",
     "output_type": "stream",
     "text": [
      "Found 7361 non-validated image filenames belonging to 2 classes.\n"
     ]
    }
   ],
   "source": [
    "validationset = training.flow_from_dataframe(\n",
    "    dataframe=ref_trainset,\n",
    "    x_col=\"image_path\",\n",
    "    y_col=\"label\",\n",
    "    target_size=(IMAGE_WIDTH, IMAGE_HEIGHT),\n",
    "    class_mode=\"binary\",\n",
    "    color_mode=\"rgb\",  # 3 channels\n",
    "    batch_size=16,\n",
    "    seed=SEED,\n",
    "    shuffle=True,\n",
    "    validate_filenames=False,\n",
    "    subset=\"validation\",\n",
    ")"
   ]
  },
  {
   "cell_type": "markdown",
   "id": "6384ad36",
   "metadata": {},
   "source": [
    "#### Create a tensorflow input pipeline for the testing data"
   ]
  },
  {
   "cell_type": "code",
   "execution_count": 21,
   "id": "530cb791",
   "metadata": {},
   "outputs": [],
   "source": [
    "test_image_paths = pd.read_csv(\n",
    "    os.path.join(DATASET_DIR, \"valid_image_paths.csv\"),\n",
    "    names=[\"image_path\"],\n",
    "    header=None,\n",
    "    index_col=False,\n",
    ")"
   ]
  },
  {
   "cell_type": "code",
   "execution_count": 22,
   "id": "3c564c7c",
   "metadata": {},
   "outputs": [],
   "source": [
    "test_image_paths[\"image_path\"] = test_image_paths[\"image_path\"].map(\n",
    "    lambda x: os.path.join(\"../data/\", x)\n",
    ")\n",
    "test_image_paths[\"study_type\"] = test_image_paths[\"image_path\"].map(\n",
    "    lambda x: x.split(\"/\")[3]\n",
    ")\n",
    "test_image_paths[\"patient\"] = test_image_paths[\"image_path\"].map(\n",
    "    lambda x: x.split(\"/\")[4]\n",
    ")\n",
    "test_image_paths[\"study\"] = test_image_paths[\"image_path\"].map(\n",
    "    lambda x: x.split(\"/\")[5]\n",
    ")\n",
    "test_image_paths[\"study_path\"] = test_image_paths[\"image_path\"].map(\n",
    "    lambda x: re.sub(r\"image\\d+.png\", \"\", x)\n",
    ")"
   ]
  },
  {
   "cell_type": "code",
   "execution_count": 23,
   "id": "02fa25e7",
   "metadata": {},
   "outputs": [],
   "source": [
    "test_labeled_studies = pd.read_csv(\n",
    "    os.path.join(DATASET_DIR, \"valid_labeled_studies.csv\"),\n",
    "    names=[\"study_path\", \"label\"],\n",
    "    header=None,\n",
    "    index_col=False,\n",
    ")"
   ]
  },
  {
   "cell_type": "code",
   "execution_count": 24,
   "id": "3b658d66",
   "metadata": {},
   "outputs": [],
   "source": [
    "test_labeled_studies[\"study_path\"] = test_labeled_studies[\"study_path\"].map(\n",
    "    lambda x: os.path.join(\"../data/\", x)\n",
    ")\n",
    "test_labeled_studies[\"label\"] = test_labeled_studies[\"label\"].map(str)"
   ]
  },
  {
   "cell_type": "code",
   "execution_count": 25,
   "id": "28789518",
   "metadata": {},
   "outputs": [
    {
     "name": "stdout",
     "output_type": "stream",
     "text": [
      "shape: (3197, 6)\n"
     ]
    },
    {
     "data": {
      "text/html": [
       "<div>\n",
       "<style scoped>\n",
       "    .dataframe tbody tr th:only-of-type {\n",
       "        vertical-align: middle;\n",
       "    }\n",
       "\n",
       "    .dataframe tbody tr th {\n",
       "        vertical-align: top;\n",
       "    }\n",
       "\n",
       "    .dataframe thead th {\n",
       "        text-align: right;\n",
       "    }\n",
       "</style>\n",
       "<table border=\"1\" class=\"dataframe\">\n",
       "  <thead>\n",
       "    <tr style=\"text-align: right;\">\n",
       "      <th></th>\n",
       "      <th>image_path</th>\n",
       "      <th>study_type</th>\n",
       "      <th>patient</th>\n",
       "      <th>study</th>\n",
       "      <th>study_path</th>\n",
       "      <th>label</th>\n",
       "    </tr>\n",
       "  </thead>\n",
       "  <tbody>\n",
       "    <tr>\n",
       "      <th>0</th>\n",
       "      <td>../data/MURA-v1.1/valid/XR_WRIST/patient11185/study1_positive/image1.png</td>\n",
       "      <td>valid</td>\n",
       "      <td>XR_WRIST</td>\n",
       "      <td>patient11185</td>\n",
       "      <td>../data/MURA-v1.1/valid/XR_WRIST/patient11185/study1_positive/</td>\n",
       "      <td>1</td>\n",
       "    </tr>\n",
       "    <tr>\n",
       "      <th>1</th>\n",
       "      <td>../data/MURA-v1.1/valid/XR_WRIST/patient11185/study1_positive/image2.png</td>\n",
       "      <td>valid</td>\n",
       "      <td>XR_WRIST</td>\n",
       "      <td>patient11185</td>\n",
       "      <td>../data/MURA-v1.1/valid/XR_WRIST/patient11185/study1_positive/</td>\n",
       "      <td>1</td>\n",
       "    </tr>\n",
       "    <tr>\n",
       "      <th>2</th>\n",
       "      <td>../data/MURA-v1.1/valid/XR_WRIST/patient11185/study1_positive/image3.png</td>\n",
       "      <td>valid</td>\n",
       "      <td>XR_WRIST</td>\n",
       "      <td>patient11185</td>\n",
       "      <td>../data/MURA-v1.1/valid/XR_WRIST/patient11185/study1_positive/</td>\n",
       "      <td>1</td>\n",
       "    </tr>\n",
       "    <tr>\n",
       "      <th>3</th>\n",
       "      <td>../data/MURA-v1.1/valid/XR_WRIST/patient11185/study1_positive/image4.png</td>\n",
       "      <td>valid</td>\n",
       "      <td>XR_WRIST</td>\n",
       "      <td>patient11185</td>\n",
       "      <td>../data/MURA-v1.1/valid/XR_WRIST/patient11185/study1_positive/</td>\n",
       "      <td>1</td>\n",
       "    </tr>\n",
       "    <tr>\n",
       "      <th>4</th>\n",
       "      <td>../data/MURA-v1.1/valid/XR_WRIST/patient11186/study1_positive/image1.png</td>\n",
       "      <td>valid</td>\n",
       "      <td>XR_WRIST</td>\n",
       "      <td>patient11186</td>\n",
       "      <td>../data/MURA-v1.1/valid/XR_WRIST/patient11186/study1_positive/</td>\n",
       "      <td>1</td>\n",
       "    </tr>\n",
       "  </tbody>\n",
       "</table>\n",
       "</div>"
      ],
      "text/plain": [
       "                                                                 image_path  \\\n",
       "0  ../data/MURA-v1.1/valid/XR_WRIST/patient11185/study1_positive/image1.png   \n",
       "1  ../data/MURA-v1.1/valid/XR_WRIST/patient11185/study1_positive/image2.png   \n",
       "2  ../data/MURA-v1.1/valid/XR_WRIST/patient11185/study1_positive/image3.png   \n",
       "3  ../data/MURA-v1.1/valid/XR_WRIST/patient11185/study1_positive/image4.png   \n",
       "4  ../data/MURA-v1.1/valid/XR_WRIST/patient11186/study1_positive/image1.png   \n",
       "\n",
       "  study_type   patient         study  \\\n",
       "0      valid  XR_WRIST  patient11185   \n",
       "1      valid  XR_WRIST  patient11185   \n",
       "2      valid  XR_WRIST  patient11185   \n",
       "3      valid  XR_WRIST  patient11185   \n",
       "4      valid  XR_WRIST  patient11186   \n",
       "\n",
       "                                                       study_path label  \n",
       "0  ../data/MURA-v1.1/valid/XR_WRIST/patient11185/study1_positive/     1  \n",
       "1  ../data/MURA-v1.1/valid/XR_WRIST/patient11185/study1_positive/     1  \n",
       "2  ../data/MURA-v1.1/valid/XR_WRIST/patient11185/study1_positive/     1  \n",
       "3  ../data/MURA-v1.1/valid/XR_WRIST/patient11185/study1_positive/     1  \n",
       "4  ../data/MURA-v1.1/valid/XR_WRIST/patient11186/study1_positive/     1  "
      ]
     },
     "execution_count": 25,
     "metadata": {},
     "output_type": "execute_result"
    }
   ],
   "source": [
    "ref_testset = pd.merge(\n",
    "    test_image_paths, test_labeled_studies, how=\"inner\", on=\"study_path\"\n",
    ")\n",
    "\n",
    "inspect_df(ref_testset)"
   ]
  },
  {
   "cell_type": "code",
   "execution_count": 26,
   "id": "7a83dfa4",
   "metadata": {},
   "outputs": [],
   "source": [
    "testing = tf.keras.preprocessing.image.ImageDataGenerator(\n",
    "    rescale=1.0 / 255,\n",
    ")"
   ]
  },
  {
   "cell_type": "code",
   "execution_count": 27,
   "id": "c466ce62",
   "metadata": {},
   "outputs": [
    {
     "name": "stdout",
     "output_type": "stream",
     "text": [
      "Found 3197 validated image filenames belonging to 2 classes.\n"
     ]
    }
   ],
   "source": [
    "testset = testing.flow_from_dataframe(\n",
    "    dataframe=ref_testset,\n",
    "    x_col=\"image_path\",\n",
    "    y_col=\"label\",\n",
    "    target_size=(IMAGE_WIDTH, IMAGE_HEIGHT),\n",
    "    class_mode=\"binary\",\n",
    "    batch_size=16,\n",
    "    seed=SEED,\n",
    ")"
   ]
  },
  {
   "cell_type": "markdown",
   "id": "30d182d1",
   "metadata": {},
   "source": [
    "### Baseline Performance"
   ]
  },
  {
   "cell_type": "code",
   "execution_count": 28,
   "id": "6de7e829",
   "metadata": {},
   "outputs": [],
   "source": [
    "def study_oriented_transformation(dataset: pd.DataFrame) -> Iterable:\n",
    "\n",
    "    for study, group in dataset.groupby(\"study_path\"):\n",
    "\n",
    "        study_label = group[\"label\"].values.take(0)\n",
    "        study_prediction = 1 if group[\"prediction\"].mean() > 0.5 else 0\n",
    "\n",
    "        yield study, study_label, study_prediction"
   ]
  },
  {
   "cell_type": "markdown",
   "id": "92e2665b",
   "metadata": {},
   "source": [
    "#### DenseNet169 architecture, pretrained on ImageNet"
   ]
  },
  {
   "cell_type": "code",
   "execution_count": 29,
   "id": "53dda1c7",
   "metadata": {},
   "outputs": [],
   "source": [
    "def clean_up(model_):\n",
    "    tf.keras.backend.clear_session()\n",
    "    del model_\n",
    "    gc.collect()"
   ]
  },
  {
   "cell_type": "code",
   "execution_count": 30,
   "id": "404f8518",
   "metadata": {},
   "outputs": [],
   "source": [
    "# the tfa.metrics.F1Score (https://www.tensorflow.org/addons/api_docs/python/tfa/metrics/F1Score)\n",
    "# requires some reshaping that is inconsistent with the other metrics we like to track\n",
    "# so we will define it from scratch\n",
    "\n",
    "\n",
    "class F1Score(tf.keras.metrics.Metric):\n",
    "    def __init__(self, name=\"f1_score\", **kwargs):\n",
    "        super().__init__(name=name, **kwargs)\n",
    "        self.f1 = self.add_weight(name=\"f1\", initializer=\"zeros\")\n",
    "        self.precision_fn = tf.keras.metrics.Precision()\n",
    "        self.recall_fn = tf.keras.metrics.Recall()\n",
    "\n",
    "    def update_state(self, y_true, y_pred, sample_weight=None):\n",
    "        p = self.precision_fn(y_true, y_pred)\n",
    "        r = self.recall_fn(y_true, y_pred)\n",
    "        self.f1.assign(2 * ((p * r) / (p + r + 1e-10)))\n",
    "\n",
    "    def result(self):\n",
    "        return self.f1\n",
    "\n",
    "    def reset_state(self):\n",
    "        # we also need to reset the state of the precision and recall objects\n",
    "        self.precision_fn.reset_state()\n",
    "        self.recall_fn.reset_state()\n",
    "        self.f1.assign(0)"
   ]
  },
  {
   "cell_type": "code",
   "execution_count": 31,
   "id": "4e3a6125",
   "metadata": {},
   "outputs": [
    {
     "name": "stderr",
     "output_type": "stream",
     "text": [
      "2022-03-27 14:06:55.034790: I tensorflow/core/platform/cpu_feature_guard.cc:151] This TensorFlow binary is optimized with oneAPI Deep Neural Network Library (oneDNN) to use the following CPU instructions in performance-critical operations:  AVX2 FMA\n",
      "To enable them in other operations, rebuild TensorFlow with the appropriate compiler flags.\n",
      "2022-03-27 14:06:55.035529: I tensorflow/stream_executor/cuda/cuda_gpu_executor.cc:936] successful NUMA node read from SysFS had negative value (-1), but there must be at least one NUMA node, so returning NUMA node zero\n",
      "2022-03-27 14:06:55.035760: I tensorflow/stream_executor/cuda/cuda_gpu_executor.cc:936] successful NUMA node read from SysFS had negative value (-1), but there must be at least one NUMA node, so returning NUMA node zero\n",
      "2022-03-27 14:06:55.035893: I tensorflow/stream_executor/cuda/cuda_gpu_executor.cc:936] successful NUMA node read from SysFS had negative value (-1), but there must be at least one NUMA node, so returning NUMA node zero\n",
      "2022-03-27 14:06:55.670245: I tensorflow/stream_executor/cuda/cuda_gpu_executor.cc:936] successful NUMA node read from SysFS had negative value (-1), but there must be at least one NUMA node, so returning NUMA node zero\n",
      "2022-03-27 14:06:55.670423: I tensorflow/stream_executor/cuda/cuda_gpu_executor.cc:936] successful NUMA node read from SysFS had negative value (-1), but there must be at least one NUMA node, so returning NUMA node zero\n",
      "2022-03-27 14:06:55.670546: I tensorflow/stream_executor/cuda/cuda_gpu_executor.cc:936] successful NUMA node read from SysFS had negative value (-1), but there must be at least one NUMA node, so returning NUMA node zero\n",
      "2022-03-27 14:06:55.670905: I tensorflow/core/common_runtime/gpu/gpu_device.cc:1525] Created device /job:localhost/replica:0/task:0/device:GPU:0 with 2098 MB memory:  -> device: 0, name: Quadro T1000, pci bus id: 0000:01:00.0, compute capability: 7.5\n"
     ]
    }
   ],
   "source": [
    "METRICS = [\n",
    "    tf.keras.metrics.TruePositives(name=\"tp\"),\n",
    "    tf.keras.metrics.FalsePositives(name=\"fp\"),\n",
    "    tf.keras.metrics.TrueNegatives(name=\"tn\"),\n",
    "    tf.keras.metrics.FalseNegatives(name=\"fn\"),\n",
    "    tf.keras.metrics.BinaryAccuracy(name=\"binary_acc\"),\n",
    "    tf.keras.metrics.Precision(name=\"precision\"),\n",
    "    tf.keras.metrics.Recall(name=\"recall\"),\n",
    "    F1Score(name=\"f1_score\"),\n",
    "    tf.keras.metrics.AUC(name=\"roc_auc\", curve=\"ROC\"),\n",
    "    tf.keras.metrics.AUC(name=\"pr_auc\", curve=\"PR\"),\n",
    "    tfa.metrics.CohenKappa(name=\"cohen_kappa\", num_classes=2),\n",
    "]"
   ]
  },
  {
   "cell_type": "code",
   "execution_count": 32,
   "id": "4d269acc",
   "metadata": {},
   "outputs": [],
   "source": [
    "def plot_metrics(\n",
    "    history: tf.keras.callbacks.History,\n",
    "    metrics: list = [\"loss\", \"cohen_kappa\", \"precision\", \"recall\"],\n",
    ") -> None:\n",
    "\n",
    "    plt.rcParams[\"figure.figsize\"] = (18, 15)\n",
    "\n",
    "    for n, metric in enumerate(metrics):\n",
    "        name = metric.replace(\"_\", \" \").capitalize()\n",
    "        plt.subplot(2, 2, n + 1)\n",
    "        plt.plot(\n",
    "            history.epoch, history.history[metric], linewidth=1.8, label=\"training\"\n",
    "        )\n",
    "        plt.plot(\n",
    "            history.epoch,\n",
    "            history.history[\"val_\" + metric],\n",
    "            linestyle=\"--\",\n",
    "            linewidth=1.8,\n",
    "            label=\"validation\",\n",
    "        )\n",
    "        plt.xlabel(\"epoch\")\n",
    "        plt.ylabel(name)\n",
    "        if metric == \"loss\":\n",
    "            plt.ylim([0, plt.ylim()[1]])\n",
    "        elif metric == \"cohen_kappa\":\n",
    "            plt.ylim([-1, 1])\n",
    "        else:\n",
    "            plt.ylim([0, 1])\n",
    "\n",
    "        plt.legend()"
   ]
  },
  {
   "cell_type": "code",
   "execution_count": 33,
   "id": "30921b05",
   "metadata": {},
   "outputs": [],
   "source": [
    "\"\"\"\n",
    "Densenet-169 model from `\"Densely Connected Convolutional Networks\" <https://arxiv.org/pdf/1608.06993.pdf>`_.\n",
    "\"\"\"\n",
    "densenet = tf.keras.applications.densenet.DenseNet169(\n",
    "    include_top=False,  # do not include the fully-connected layer at the top of the network\n",
    "    weights=\"imagenet\",\n",
    "    input_shape=(IMAGE_WIDTH, IMAGE_HEIGHT, 3),\n",
    "    pooling=\"avg\",  # pooling mode for feature extraction\n",
    "    classes=2,\n",
    ")"
   ]
  },
  {
   "cell_type": "code",
   "execution_count": 34,
   "id": "202355bd",
   "metadata": {},
   "outputs": [],
   "source": [
    "def make_densenet_model(\n",
    "    base_model: tf.keras.applications.densenet.DenseNet201,\n",
    ") -> tf.keras.Model:\n",
    "\n",
    "    # freeze base model\n",
    "    base_model.trainable = False\n",
    "\n",
    "    inputs = tf.keras.Input(shape=(IMAGE_WIDTH, IMAGE_HEIGHT, 3))\n",
    "    # the base model contains batchnorm layer - we want to keep them in inference mode\n",
    "    # when we unfreeze the base model for fine-tuning, so we make sure that the\n",
    "    # base model is running in inference mode here.\n",
    "    x = base_model(inputs, training=False)\n",
    "    x = tf.keras.layers.Dropout(rate=0.2)(x)\n",
    "    output = tf.keras.layers.Dense(units=1, activation=\"sigmoid\")(x)\n",
    "\n",
    "    model = tf.keras.Model(inputs, output)\n",
    "\n",
    "    model.compile(\n",
    "        optimizer=tf.keras.optimizers.Adam(learning_rate=0.001),\n",
    "        loss=tf.keras.losses.BinaryCrossentropy(),\n",
    "        metrics=METRICS,\n",
    "    )\n",
    "\n",
    "    return model"
   ]
  },
  {
   "cell_type": "code",
   "execution_count": 35,
   "id": "b2e68f4f",
   "metadata": {},
   "outputs": [],
   "source": [
    "model = make_densenet_model(base_model=densenet)"
   ]
  },
  {
   "cell_type": "code",
   "execution_count": 36,
   "id": "1c19ad13",
   "metadata": {
    "scrolled": false
   },
   "outputs": [
    {
     "name": "stdout",
     "output_type": "stream",
     "text": [
      "Model: \"model\"\n",
      "_________________________________________________________________\n",
      " Layer (type)                Output Shape              Param #   \n",
      "=================================================================\n",
      " input_2 (InputLayer)        [(None, 224, 224, 3)]     0         \n",
      "                                                                 \n",
      " densenet169 (Functional)    (None, 1664)              12642880  \n",
      "                                                                 \n",
      " dropout (Dropout)           (None, 1664)              0         \n",
      "                                                                 \n",
      " dense (Dense)               (None, 1)                 1665      \n",
      "                                                                 \n",
      "=================================================================\n",
      "Total params: 12,644,545\n",
      "Trainable params: 1,665\n",
      "Non-trainable params: 12,642,880\n",
      "_________________________________________________________________\n"
     ]
    }
   ],
   "source": [
    "model.summary()"
   ]
  },
  {
   "cell_type": "code",
   "execution_count": 37,
   "id": "97981226",
   "metadata": {
    "scrolled": false
   },
   "outputs": [
    {
     "data": {
      "image/png": "[encoded data removed]",
      "text/plain": [
       "<IPython.core.display.Image object>"
      ]
     },
     "execution_count": 37,
     "metadata": {},
     "output_type": "execute_result"
    }
   ],
   "source": [
    "tf.keras.utils.plot_model(\n",
    "    model,\n",
    "    to_file=\"../static/densenet169_pt_imagenet-all-study-types-12644545.png\",\n",
    "    show_shapes=True,\n",
    "    show_layer_names=True,\n",
    ")"
   ]
  },
  {
   "cell_type": "code",
   "execution_count": 38,
   "id": "571221da",
   "metadata": {},
   "outputs": [],
   "source": [
    "early_stopping = tf.keras.callbacks.EarlyStopping(\n",
    "    monitor=\"val_cohen_kappa\",\n",
    "    verbose=1,\n",
    "    patience=5,\n",
    "    mode=\"max\",\n",
    ")"
   ]
  },
  {
   "cell_type": "code",
   "execution_count": 39,
   "id": "16cd65d0",
   "metadata": {},
   "outputs": [],
   "source": [
    "reduce_lr_on_plateau = tf.keras.callbacks.ReduceLROnPlateau(\n",
    "    monitor=\"val_cohen_kappa\", factor=0.2, verbose=1, patience=7, min_lr=1e-10\n",
    ")"
   ]
  },
  {
   "cell_type": "code",
   "execution_count": null,
   "id": "aa319ec8",
   "metadata": {
    "scrolled": false
   },
   "outputs": [
    {
     "name": "stdout",
     "output_type": "stream",
     "text": [
      "Epoch 1/20\n"
     ]
    },
    {
     "name": "stderr",
     "output_type": "stream",
     "text": [
      "2022-03-27 14:07:07.351359: I tensorflow/stream_executor/cuda/cuda_dnn.cc:368] Loaded cuDNN version 8303\n",
      "2022-03-27 14:07:08.780399: W tensorflow/core/common_runtime/bfc_allocator.cc:343] Garbage collection: deallocate free memory regions (i.e., allocations) so that we can re-allocate a larger region to avoid OOM due to memory fragmentation. If you see this message frequently, you are running near the threshold of the available device memory and re-allocation may incur great performance overhead. You may try smaller batch sizes to observe the performance impact. Set TF_ENABLE_GPU_GARBAGE_COLLECTION=false if you'd like to disable this feature.\n",
      "2022-03-27 14:07:10.562903: W tensorflow/core/common_runtime/bfc_allocator.cc:343] Garbage collection: deallocate free memory regions (i.e., allocations) so that we can re-allocate a larger region to avoid OOM due to memory fragmentation. If you see this message frequently, you are running near the threshold of the available device memory and re-allocation may incur great performance overhead. You may try smaller batch sizes to observe the performance impact. Set TF_ENABLE_GPU_GARBAGE_COLLECTION=false if you'd like to disable this feature.\n"
     ]
    },
    {
     "name": "stdout",
     "output_type": "stream",
     "text": [
      "1841/1841 [==============================] - ETA: 0s - loss: 0.5869 - tp: 4470.0000 - fp: 2700.0000 - tn: 16042.0000 - fn: 6235.0000 - binary_acc: 0.6966 - precision: 0.6234 - recall: 0.4176 - f1_score: 0.5001 - roc_auc: 0.7118 - pr_auc: 0.6079 - cohen_kappa: 0.2943"
     ]
    }
   ],
   "source": [
    "history = model.fit(\n",
    "    trainset,\n",
    "    epochs=20,\n",
    "    validation_data=validationset,\n",
    "    callbacks=[early_stopping, reduce_lr_on_plateau],\n",
    ")"
   ]
  },
  {
   "cell_type": "code",
   "execution_count": null,
   "id": "d4fda3ed",
   "metadata": {},
   "outputs": [],
   "source": [
    "plot_metrics(history)"
   ]
  },
  {
   "cell_type": "code",
   "execution_count": null,
   "id": "96ab3e5e",
   "metadata": {},
   "outputs": [],
   "source": [
    "# model naming convention: {architecture}-{which-study-type?}-{num-parameters}.h5\n",
    "#\n",
    "# to load models:\n",
    "# model = tf.keras.models.load_model(\n",
    "#     '../models/densenet169_pt_imagenet-all-study-types-12644545.h5',\n",
    "#     custom_objects={'F1Score': F1Score}\n",
    "# )\n",
    "# densenet = tf.keras.models.load_model(\n",
    "#     '../models/densenet169_base.h5',\n",
    "# )\n",
    "model.save(\"../models/densenet169_pt_imagenet-all-study-types-12644545.h5\")\n",
    "densenet.save(\"../models/densenet169_base.h5\")"
   ]
  },
  {
   "cell_type": "code",
   "execution_count": null,
   "id": "54ecc66f",
   "metadata": {},
   "outputs": [],
   "source": [
    "# fine-tuning: unfreeze the base model and train the entire model end-to-end with a low learning rate\n",
    "densenet.trainable = True\n",
    "\n",
    "model.compile(\n",
    "    optimizer=tf.keras.optimizers.Adam(1e-5),\n",
    "    loss=tf.keras.losses.BinaryCrossentropy(),\n",
    "    metrics=METRICS,\n",
    ")"
   ]
  },
  {
   "cell_type": "code",
   "execution_count": null,
   "id": "3e36539b",
   "metadata": {
    "scrolled": false
   },
   "outputs": [],
   "source": [
    "history = model.fit(\n",
    "    trainset,\n",
    "    epochs=10,\n",
    "    validation_data=validationset,\n",
    "    callbacks=[early_stopping, reduce_lr_on_plateau],\n",
    ")"
   ]
  },
  {
   "cell_type": "code",
   "execution_count": null,
   "id": "21b3e659",
   "metadata": {
    "scrolled": false
   },
   "outputs": [],
   "source": [
    "# get the loss value & metrics values for the model in test mode\n",
    "evaluation_metrics = model.evaluate(testset, verbose=1)"
   ]
  },
  {
   "cell_type": "code",
   "execution_count": null,
   "id": "3dde6265",
   "metadata": {},
   "outputs": [],
   "source": [
    "loss = evaluation_metrics.pop(0)"
   ]
  },
  {
   "cell_type": "code",
   "execution_count": null,
   "id": "9fab3d36",
   "metadata": {},
   "outputs": [],
   "source": [
    "print(\"EVALUATION ON TEST DATASET\")\n",
    "print(\"=\" * 32)\n",
    "print(f\"loss        : {loss}\")\n",
    "for metric, score in zip(METRICS, evaluation_metrics):\n",
    "\n",
    "    print(f\"{metric.name + ' ' * (12 - len(metric.name))}: {score}\")\n",
    "print(\"=\" * 32)"
   ]
  },
  {
   "cell_type": "code",
   "execution_count": null,
   "id": "6af0810e",
   "metadata": {},
   "outputs": [],
   "source": [
    "# get predictions for the test dataset\n",
    "preds = model.predict(testset, verbose=1)"
   ]
  },
  {
   "cell_type": "code",
   "execution_count": null,
   "id": "a425738d",
   "metadata": {},
   "outputs": [],
   "source": [
    "temp_testset = ref_testset.copy()\n",
    "\n",
    "temp_testset[\"label\"] = temp_testset[\"label\"].map(int)"
   ]
  },
  {
   "cell_type": "code",
   "execution_count": null,
   "id": "7846413c",
   "metadata": {},
   "outputs": [],
   "source": [
    "cohen_kappa_score(\n",
    "    y1=temp_testset[\"label\"].values,\n",
    "    y2=np.vectorize(lambda x: 1 if x > 0.5 else 0)(preds.ravel()),\n",
    "    labels=[0, 1],\n",
    ")"
   ]
  },
  {
   "cell_type": "code",
   "execution_count": null,
   "id": "54151ddb",
   "metadata": {},
   "outputs": [],
   "source": [
    "print(\n",
    "    classification_report(\n",
    "        temp_testset[\"label\"].values,\n",
    "        np.vectorize(lambda x: 1 if x > 0.5 else 0)(preds.ravel()),\n",
    "    )\n",
    ")"
   ]
  },
  {
   "cell_type": "code",
   "execution_count": null,
   "id": "d1306b32",
   "metadata": {},
   "outputs": [],
   "source": [
    "temp_testset[\"prediction\"] = preds.ravel()"
   ]
  },
  {
   "cell_type": "code",
   "execution_count": null,
   "id": "e7620629",
   "metadata": {},
   "outputs": [],
   "source": [
    "temp_testset = pd.DataFrame(\n",
    "    [*study_oriented_transformation(temp_testset)],\n",
    "    columns=[\"study\", \"label\", \"prediction\"],\n",
    ")"
   ]
  },
  {
   "cell_type": "code",
   "execution_count": null,
   "id": "82ed6666",
   "metadata": {
    "scrolled": false
   },
   "outputs": [],
   "source": [
    "cohen_kappa_score(\n",
    "    y1=temp_testset[\"label\"].values, y2=temp_testset[\"prediction\"].values, labels=[0, 1]\n",
    ")"
   ]
  },
  {
   "cell_type": "code",
   "execution_count": null,
   "id": "816fae38",
   "metadata": {},
   "outputs": [],
   "source": [
    "print(\n",
    "    classification_report(\n",
    "        temp_testset[\"label\"].values,\n",
    "        temp_testset[\"prediction\"].values,\n",
    "    )\n",
    ")"
   ]
  },
  {
   "cell_type": "code",
   "execution_count": null,
   "id": "9491c46f",
   "metadata": {},
   "outputs": [],
   "source": [
    "clean_up(model)\n",
    "clean_up(densenet)\n",
    "del temp_testset"
   ]
  }
 ],
 "metadata": {
  "kernelspec": {
   "display_name": "Python 3 (ipykernel)",
   "language": "python",
   "name": "python3"
  },
  "language_info": {
   "codemirror_mode": {
    "name": "ipython",
    "version": 3
   },
   "file_extension": ".py",
   "mimetype": "text/x-python",
   "name": "python",
   "nbconvert_exporter": "python",
   "pygments_lexer": "ipython3",
   "version": "3.8.10"
  }
 },
 "nbformat": 4,
 "nbformat_minor": 5
}
