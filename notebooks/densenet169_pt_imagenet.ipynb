{
 "cells": [
  {
   "cell_type": "markdown",
   "id": "7a899787",
   "metadata": {},
   "source": [
    "## X-Ray Abnormality Detection | DenseNet-169, pretrained on ImageNet"
   ]
  },
  {
   "cell_type": "markdown",
   "id": "c7764e65",
   "metadata": {},
   "source": [
    "> **Antonopoulos Ilias** ( *p3352004* ) <br />\n",
    "> **Ndoja Silva** ( *p3352017* ) <br />\n",
    "> **MSc in Data Science, AUEB**"
   ]
  },
  {
   "cell_type": "markdown",
   "id": "aa71e65e",
   "metadata": {},
   "source": [
    "## Table of Contents\n",
    "\n",
    "- [Data Loading](#Data-Loading)\n",
    " * [Create a tensorflow input pipeline for the training data](#Create-a-tensorflow-input-pipeline-for-the-training-data)\n",
    " * [Create a tensorflow input pipeline for the testing data](#Create-a-tensorflow-input-pipeline-for-the-testing-data)\n",
    "- [Baseline Performance](#Baseline-Performance)\n",
    " * [DenseNet169-architecture,-pretrained-on-ImageNet](#DenseNet169-architecture,-pretrained-on-ImageNet)"
   ]
  },
  {
   "cell_type": "code",
   "execution_count": 1,
   "id": "99fc7dec",
   "metadata": {},
   "outputs": [],
   "source": [
    "import gc\n",
    "import os\n",
    "import pathlib\n",
    "import random\n",
    "import re\n",
    "from glob import glob\n",
    "from PIL import Image\n",
    "from typing import Iterable\n",
    "\n",
    "import matplotlib.pyplot as plt\n",
    "import numpy as np\n",
    "import pandas as pd\n",
    "import tensorflow as tf\n",
    "import tensorflow_addons as tfa\n",
    "from matplotlib import image\n",
    "from sklearn.metrics import cohen_kappa_score, confusion_matrix, classification_report\n",
    "\n",
    "\n",
    "pd.set_option(\"max_colwidth\", None)\n",
    "plt.style.use(\"dark_background\")"
   ]
  },
  {
   "cell_type": "code",
   "execution_count": 2,
   "id": "6d6c351a",
   "metadata": {},
   "outputs": [
    {
     "name": "stdout",
     "output_type": "stream",
     "text": [
      "2.8.0\n"
     ]
    }
   ],
   "source": [
    "print(tf.__version__)"
   ]
  },
  {
   "cell_type": "code",
   "execution_count": 3,
   "id": "1fa8b39b",
   "metadata": {},
   "outputs": [
    {
     "name": "stdout",
     "output_type": "stream",
     "text": [
      "Num GPUs Available:  1\n"
     ]
    },
    {
     "name": "stderr",
     "output_type": "stream",
     "text": [
      "2022-03-28 00:21:44.417500: I tensorflow/stream_executor/cuda/cuda_gpu_executor.cc:936] successful NUMA node read from SysFS had negative value (-1), but there must be at least one NUMA node, so returning NUMA node zero\n",
      "2022-03-28 00:21:44.444914: I tensorflow/stream_executor/cuda/cuda_gpu_executor.cc:936] successful NUMA node read from SysFS had negative value (-1), but there must be at least one NUMA node, so returning NUMA node zero\n",
      "2022-03-28 00:21:44.445059: I tensorflow/stream_executor/cuda/cuda_gpu_executor.cc:936] successful NUMA node read from SysFS had negative value (-1), but there must be at least one NUMA node, so returning NUMA node zero\n"
     ]
    }
   ],
   "source": [
    "print(\"Num GPUs Available: \", len(tf.config.list_physical_devices(\"GPU\")))"
   ]
  },
  {
   "cell_type": "code",
   "execution_count": 4,
   "id": "8d64d949",
   "metadata": {},
   "outputs": [],
   "source": [
    "gpus = tf.config.experimental.list_physical_devices(\"GPU\")\n",
    "\n",
    "try:\n",
    "    tf.config.experimental.set_memory_growth(gpus[0], True)\n",
    "except IndexError:\n",
    "    print(\"Cannot memory-restrict the GPU, if no GPU exists in system. Ignore...\")\n",
    "    pass"
   ]
  },
  {
   "cell_type": "code",
   "execution_count": 5,
   "id": "a6659fde",
   "metadata": {},
   "outputs": [],
   "source": [
    "SEED = 99910123\n",
    "\n",
    "os.environ[\"PYTHONHASHSEED\"] = str(SEED)\n",
    "random.seed(SEED)\n",
    "tf.random.set_seed(SEED)\n",
    "np.random.seed(SEED)"
   ]
  },
  {
   "cell_type": "markdown",
   "id": "b5346f99",
   "metadata": {},
   "source": [
    "### Data Loading"
   ]
  },
  {
   "cell_type": "code",
   "execution_count": 6,
   "id": "5819c5d3",
   "metadata": {},
   "outputs": [],
   "source": [
    "DATASET_DIR = \"../data/MURA-v1.1/\""
   ]
  },
  {
   "cell_type": "code",
   "execution_count": 7,
   "id": "22e69e6c",
   "metadata": {},
   "outputs": [],
   "source": [
    "def inspect_df(df: pd.DataFrame, n: int = 5) -> pd.DataFrame:\n",
    "    \"\"\"Helper method to easily inspect DataFrames.\"\"\"\n",
    "\n",
    "    print(f\"shape: {df.shape}\")\n",
    "\n",
    "    return df.head(n)"
   ]
  },
  {
   "cell_type": "code",
   "execution_count": 8,
   "id": "67d931da",
   "metadata": {},
   "outputs": [
    {
     "data": {
      "text/plain": [
       "['../data/MURA-v1.1/train/XR_WRIST/patient08092/study1_negative/image1.png',\n",
       " '../data/MURA-v1.1/train/XR_FINGER/patient01064/study1_positive/image1.png',\n",
       " '../data/MURA-v1.1/valid/XR_ELBOW/patient11831/study1_positive/image1.png',\n",
       " '../data/MURA-v1.1/train/XR_SHOULDER/patient00442/study1_positive/image1.png',\n",
       " '../data/MURA-v1.1/train/XR_ELBOW/patient06289/study1_negative/image3.png',\n",
       " '../data/MURA-v1.1/train/XR_WRIST/patient08562/study1_negative/image2.png',\n",
       " '../data/MURA-v1.1/train/XR_FINGER/patient04280/study1_negative/image3.png',\n",
       " '../data/MURA-v1.1/train/XR_WRIST/patient07018/study1_positive/image1.png',\n",
       " '../data/MURA-v1.1/train/XR_ELBOW/patient06000/study1_negative/image1.png',\n",
       " '../data/MURA-v1.1/train/XR_SHOULDER/patient00497/study2_negative/image4.png']"
      ]
     },
     "execution_count": 8,
     "metadata": {},
     "output_type": "execute_result"
    }
   ],
   "source": [
    "random.choices(glob(os.path.join(DATASET_DIR, \"*\", \"*\", \"*\", \"*\", \"*.png\")), k=10)"
   ]
  },
  {
   "cell_type": "markdown",
   "id": "3e68ad35",
   "metadata": {},
   "source": [
    "So, the data structure is the following:\n",
    "\n",
    "```\n",
    "\n",
    "└─train {data subset}\n",
    "│   └───XR_ELBOW {study type}\n",
    "│       │  └───patient00011 {patient}\n",
    "│       │         └───study1_negative {study with label}\n",
    "│       │               └───image1.png {view}\n",
    "│       │               └───image2.png \n",
    "│       │               └───image3.png \n",
    "                        └───...\n",
    "   ...\n",
    "   \n",
    "\n",
    "└─valid {data subset}\n",
    "│   └───XR_HUMERUS {study type}\n",
    "│       │  └───patient11216 {patient}\n",
    "│       │         └───study1_negative {study with label}\n",
    "│       │               └───image1.png {view}\n",
    "│       │               └───image2.png \n",
    "                        └───...\n",
    "```"
   ]
  },
  {
   "cell_type": "code",
   "execution_count": 9,
   "id": "0e99c8e4",
   "metadata": {},
   "outputs": [
    {
     "name": "stdout",
     "output_type": "stream",
     "text": [
      "Total PNG images found in dir <../data/MURA-v1.1/>: 40009\n"
     ]
    }
   ],
   "source": [
    "image_count = len(list(pathlib.Path(DATASET_DIR).glob(\"*/*/*/*/*.png\")))\n",
    "\n",
    "print(f\"Total PNG images found in dir <{DATASET_DIR}>: {image_count}\")"
   ]
  },
  {
   "cell_type": "markdown",
   "id": "e3cc7391",
   "metadata": {},
   "source": [
    "We will start by creating a tabular form of the training data (with no actual image files), in order to quickly analyze them. A proper data loader (of the actual image files) will be implemented after that, in a tensorflow-friendly manner."
   ]
  },
  {
   "cell_type": "code",
   "execution_count": 10,
   "id": "6ee568f1",
   "metadata": {
    "scrolled": false
   },
   "outputs": [
    {
     "name": "stdout",
     "output_type": "stream",
     "text": [
      "shape: (36808, 1)\n"
     ]
    },
    {
     "data": {
      "text/html": [
       "<div>\n",
       "<style scoped>\n",
       "    .dataframe tbody tr th:only-of-type {\n",
       "        vertical-align: middle;\n",
       "    }\n",
       "\n",
       "    .dataframe tbody tr th {\n",
       "        vertical-align: top;\n",
       "    }\n",
       "\n",
       "    .dataframe thead th {\n",
       "        text-align: right;\n",
       "    }\n",
       "</style>\n",
       "<table border=\"1\" class=\"dataframe\">\n",
       "  <thead>\n",
       "    <tr style=\"text-align: right;\">\n",
       "      <th></th>\n",
       "      <th>image_path</th>\n",
       "    </tr>\n",
       "  </thead>\n",
       "  <tbody>\n",
       "    <tr>\n",
       "      <th>0</th>\n",
       "      <td>MURA-v1.1/train/XR_SHOULDER/patient00001/study1_positive/image1.png</td>\n",
       "    </tr>\n",
       "    <tr>\n",
       "      <th>1</th>\n",
       "      <td>MURA-v1.1/train/XR_SHOULDER/patient00001/study1_positive/image2.png</td>\n",
       "    </tr>\n",
       "    <tr>\n",
       "      <th>2</th>\n",
       "      <td>MURA-v1.1/train/XR_SHOULDER/patient00001/study1_positive/image3.png</td>\n",
       "    </tr>\n",
       "    <tr>\n",
       "      <th>3</th>\n",
       "      <td>MURA-v1.1/train/XR_SHOULDER/patient00002/study1_positive/image1.png</td>\n",
       "    </tr>\n",
       "    <tr>\n",
       "      <th>4</th>\n",
       "      <td>MURA-v1.1/train/XR_SHOULDER/patient00002/study1_positive/image2.png</td>\n",
       "    </tr>\n",
       "  </tbody>\n",
       "</table>\n",
       "</div>"
      ],
      "text/plain": [
       "                                                            image_path\n",
       "0  MURA-v1.1/train/XR_SHOULDER/patient00001/study1_positive/image1.png\n",
       "1  MURA-v1.1/train/XR_SHOULDER/patient00001/study1_positive/image2.png\n",
       "2  MURA-v1.1/train/XR_SHOULDER/patient00001/study1_positive/image3.png\n",
       "3  MURA-v1.1/train/XR_SHOULDER/patient00002/study1_positive/image1.png\n",
       "4  MURA-v1.1/train/XR_SHOULDER/patient00002/study1_positive/image2.png"
      ]
     },
     "execution_count": 10,
     "metadata": {},
     "output_type": "execute_result"
    }
   ],
   "source": [
    "train_image_paths = pd.read_csv(\n",
    "    os.path.join(DATASET_DIR, \"train_image_paths.csv\"),\n",
    "    names=[\"image_path\"],\n",
    "    header=None,\n",
    "    index_col=False,\n",
    ")\n",
    "\n",
    "inspect_df(train_image_paths)"
   ]
  },
  {
   "cell_type": "code",
   "execution_count": 11,
   "id": "60a69725",
   "metadata": {},
   "outputs": [],
   "source": [
    "train_image_paths[\"image_path\"] = train_image_paths[\"image_path\"].map(\n",
    "    lambda x: os.path.join(\"../data/\", x)\n",
    ")\n",
    "train_image_paths[\"study_type\"] = train_image_paths[\"image_path\"].map(\n",
    "    lambda x: x.split(\"/\")[3]\n",
    ")\n",
    "train_image_paths[\"patient\"] = train_image_paths[\"image_path\"].map(\n",
    "    lambda x: x.split(\"/\")[4]\n",
    ")\n",
    "train_image_paths[\"study\"] = train_image_paths[\"image_path\"].map(\n",
    "    lambda x: x.split(\"/\")[5]\n",
    ")\n",
    "train_image_paths[\"study_path\"] = train_image_paths[\"image_path\"].map(\n",
    "    lambda x: re.sub(r\"image\\d+.png\", \"\", x)\n",
    ")"
   ]
  },
  {
   "cell_type": "code",
   "execution_count": 12,
   "id": "d073e76e",
   "metadata": {},
   "outputs": [
    {
     "name": "stdout",
     "output_type": "stream",
     "text": [
      "shape: (36808, 5)\n"
     ]
    },
    {
     "data": {
      "text/html": [
       "<div>\n",
       "<style scoped>\n",
       "    .dataframe tbody tr th:only-of-type {\n",
       "        vertical-align: middle;\n",
       "    }\n",
       "\n",
       "    .dataframe tbody tr th {\n",
       "        vertical-align: top;\n",
       "    }\n",
       "\n",
       "    .dataframe thead th {\n",
       "        text-align: right;\n",
       "    }\n",
       "</style>\n",
       "<table border=\"1\" class=\"dataframe\">\n",
       "  <thead>\n",
       "    <tr style=\"text-align: right;\">\n",
       "      <th></th>\n",
       "      <th>image_path</th>\n",
       "      <th>study_type</th>\n",
       "      <th>patient</th>\n",
       "      <th>study</th>\n",
       "      <th>study_path</th>\n",
       "    </tr>\n",
       "  </thead>\n",
       "  <tbody>\n",
       "    <tr>\n",
       "      <th>0</th>\n",
       "      <td>../data/MURA-v1.1/train/XR_SHOULDER/patient00001/study1_positive/image1.png</td>\n",
       "      <td>train</td>\n",
       "      <td>XR_SHOULDER</td>\n",
       "      <td>patient00001</td>\n",
       "      <td>../data/MURA-v1.1/train/XR_SHOULDER/patient00001/study1_positive/</td>\n",
       "    </tr>\n",
       "    <tr>\n",
       "      <th>1</th>\n",
       "      <td>../data/MURA-v1.1/train/XR_SHOULDER/patient00001/study1_positive/image2.png</td>\n",
       "      <td>train</td>\n",
       "      <td>XR_SHOULDER</td>\n",
       "      <td>patient00001</td>\n",
       "      <td>../data/MURA-v1.1/train/XR_SHOULDER/patient00001/study1_positive/</td>\n",
       "    </tr>\n",
       "    <tr>\n",
       "      <th>2</th>\n",
       "      <td>../data/MURA-v1.1/train/XR_SHOULDER/patient00001/study1_positive/image3.png</td>\n",
       "      <td>train</td>\n",
       "      <td>XR_SHOULDER</td>\n",
       "      <td>patient00001</td>\n",
       "      <td>../data/MURA-v1.1/train/XR_SHOULDER/patient00001/study1_positive/</td>\n",
       "    </tr>\n",
       "    <tr>\n",
       "      <th>3</th>\n",
       "      <td>../data/MURA-v1.1/train/XR_SHOULDER/patient00002/study1_positive/image1.png</td>\n",
       "      <td>train</td>\n",
       "      <td>XR_SHOULDER</td>\n",
       "      <td>patient00002</td>\n",
       "      <td>../data/MURA-v1.1/train/XR_SHOULDER/patient00002/study1_positive/</td>\n",
       "    </tr>\n",
       "    <tr>\n",
       "      <th>4</th>\n",
       "      <td>../data/MURA-v1.1/train/XR_SHOULDER/patient00002/study1_positive/image2.png</td>\n",
       "      <td>train</td>\n",
       "      <td>XR_SHOULDER</td>\n",
       "      <td>patient00002</td>\n",
       "      <td>../data/MURA-v1.1/train/XR_SHOULDER/patient00002/study1_positive/</td>\n",
       "    </tr>\n",
       "  </tbody>\n",
       "</table>\n",
       "</div>"
      ],
      "text/plain": [
       "                                                                    image_path  \\\n",
       "0  ../data/MURA-v1.1/train/XR_SHOULDER/patient00001/study1_positive/image1.png   \n",
       "1  ../data/MURA-v1.1/train/XR_SHOULDER/patient00001/study1_positive/image2.png   \n",
       "2  ../data/MURA-v1.1/train/XR_SHOULDER/patient00001/study1_positive/image3.png   \n",
       "3  ../data/MURA-v1.1/train/XR_SHOULDER/patient00002/study1_positive/image1.png   \n",
       "4  ../data/MURA-v1.1/train/XR_SHOULDER/patient00002/study1_positive/image2.png   \n",
       "\n",
       "  study_type      patient         study  \\\n",
       "0      train  XR_SHOULDER  patient00001   \n",
       "1      train  XR_SHOULDER  patient00001   \n",
       "2      train  XR_SHOULDER  patient00001   \n",
       "3      train  XR_SHOULDER  patient00002   \n",
       "4      train  XR_SHOULDER  patient00002   \n",
       "\n",
       "                                                          study_path  \n",
       "0  ../data/MURA-v1.1/train/XR_SHOULDER/patient00001/study1_positive/  \n",
       "1  ../data/MURA-v1.1/train/XR_SHOULDER/patient00001/study1_positive/  \n",
       "2  ../data/MURA-v1.1/train/XR_SHOULDER/patient00001/study1_positive/  \n",
       "3  ../data/MURA-v1.1/train/XR_SHOULDER/patient00002/study1_positive/  \n",
       "4  ../data/MURA-v1.1/train/XR_SHOULDER/patient00002/study1_positive/  "
      ]
     },
     "execution_count": 12,
     "metadata": {},
     "output_type": "execute_result"
    }
   ],
   "source": [
    "inspect_df(train_image_paths)"
   ]
  },
  {
   "cell_type": "code",
   "execution_count": 13,
   "id": "59cf2544",
   "metadata": {
    "scrolled": false
   },
   "outputs": [
    {
     "name": "stdout",
     "output_type": "stream",
     "text": [
      "shape: (13457, 2)\n"
     ]
    },
    {
     "data": {
      "text/html": [
       "<div>\n",
       "<style scoped>\n",
       "    .dataframe tbody tr th:only-of-type {\n",
       "        vertical-align: middle;\n",
       "    }\n",
       "\n",
       "    .dataframe tbody tr th {\n",
       "        vertical-align: top;\n",
       "    }\n",
       "\n",
       "    .dataframe thead th {\n",
       "        text-align: right;\n",
       "    }\n",
       "</style>\n",
       "<table border=\"1\" class=\"dataframe\">\n",
       "  <thead>\n",
       "    <tr style=\"text-align: right;\">\n",
       "      <th></th>\n",
       "      <th>study_path</th>\n",
       "      <th>label</th>\n",
       "    </tr>\n",
       "  </thead>\n",
       "  <tbody>\n",
       "    <tr>\n",
       "      <th>0</th>\n",
       "      <td>MURA-v1.1/train/XR_SHOULDER/patient00001/study1_positive/</td>\n",
       "      <td>1</td>\n",
       "    </tr>\n",
       "    <tr>\n",
       "      <th>1</th>\n",
       "      <td>MURA-v1.1/train/XR_SHOULDER/patient00002/study1_positive/</td>\n",
       "      <td>1</td>\n",
       "    </tr>\n",
       "    <tr>\n",
       "      <th>2</th>\n",
       "      <td>MURA-v1.1/train/XR_SHOULDER/patient00003/study1_positive/</td>\n",
       "      <td>1</td>\n",
       "    </tr>\n",
       "    <tr>\n",
       "      <th>3</th>\n",
       "      <td>MURA-v1.1/train/XR_SHOULDER/patient00004/study1_positive/</td>\n",
       "      <td>1</td>\n",
       "    </tr>\n",
       "    <tr>\n",
       "      <th>4</th>\n",
       "      <td>MURA-v1.1/train/XR_SHOULDER/patient00005/study1_positive/</td>\n",
       "      <td>1</td>\n",
       "    </tr>\n",
       "  </tbody>\n",
       "</table>\n",
       "</div>"
      ],
      "text/plain": [
       "                                                  study_path  label\n",
       "0  MURA-v1.1/train/XR_SHOULDER/patient00001/study1_positive/      1\n",
       "1  MURA-v1.1/train/XR_SHOULDER/patient00002/study1_positive/      1\n",
       "2  MURA-v1.1/train/XR_SHOULDER/patient00003/study1_positive/      1\n",
       "3  MURA-v1.1/train/XR_SHOULDER/patient00004/study1_positive/      1\n",
       "4  MURA-v1.1/train/XR_SHOULDER/patient00005/study1_positive/      1"
      ]
     },
     "execution_count": 13,
     "metadata": {},
     "output_type": "execute_result"
    }
   ],
   "source": [
    "train_labeled_studies = pd.read_csv(\n",
    "    os.path.join(DATASET_DIR, \"train_labeled_studies.csv\"),\n",
    "    names=[\"study_path\", \"label\"],\n",
    "    header=None,\n",
    "    index_col=False,\n",
    ")\n",
    "\n",
    "inspect_df(train_labeled_studies)"
   ]
  },
  {
   "cell_type": "code",
   "execution_count": 14,
   "id": "df9a7f5d",
   "metadata": {},
   "outputs": [],
   "source": [
    "train_labeled_studies[\"study_path\"] = train_labeled_studies[\"study_path\"].map(\n",
    "    lambda x: os.path.join(\"../data/\", x)\n",
    ")\n",
    "train_labeled_studies[\"label\"] = train_labeled_studies[\"label\"].map(str)"
   ]
  },
  {
   "cell_type": "code",
   "execution_count": 15,
   "id": "408b169b",
   "metadata": {
    "scrolled": false
   },
   "outputs": [
    {
     "name": "stdout",
     "output_type": "stream",
     "text": [
      "shape: (13457, 2)\n"
     ]
    },
    {
     "data": {
      "text/html": [
       "<div>\n",
       "<style scoped>\n",
       "    .dataframe tbody tr th:only-of-type {\n",
       "        vertical-align: middle;\n",
       "    }\n",
       "\n",
       "    .dataframe tbody tr th {\n",
       "        vertical-align: top;\n",
       "    }\n",
       "\n",
       "    .dataframe thead th {\n",
       "        text-align: right;\n",
       "    }\n",
       "</style>\n",
       "<table border=\"1\" class=\"dataframe\">\n",
       "  <thead>\n",
       "    <tr style=\"text-align: right;\">\n",
       "      <th></th>\n",
       "      <th>study_path</th>\n",
       "      <th>label</th>\n",
       "    </tr>\n",
       "  </thead>\n",
       "  <tbody>\n",
       "    <tr>\n",
       "      <th>0</th>\n",
       "      <td>../data/MURA-v1.1/train/XR_SHOULDER/patient00001/study1_positive/</td>\n",
       "      <td>1</td>\n",
       "    </tr>\n",
       "    <tr>\n",
       "      <th>1</th>\n",
       "      <td>../data/MURA-v1.1/train/XR_SHOULDER/patient00002/study1_positive/</td>\n",
       "      <td>1</td>\n",
       "    </tr>\n",
       "    <tr>\n",
       "      <th>2</th>\n",
       "      <td>../data/MURA-v1.1/train/XR_SHOULDER/patient00003/study1_positive/</td>\n",
       "      <td>1</td>\n",
       "    </tr>\n",
       "    <tr>\n",
       "      <th>3</th>\n",
       "      <td>../data/MURA-v1.1/train/XR_SHOULDER/patient00004/study1_positive/</td>\n",
       "      <td>1</td>\n",
       "    </tr>\n",
       "    <tr>\n",
       "      <th>4</th>\n",
       "      <td>../data/MURA-v1.1/train/XR_SHOULDER/patient00005/study1_positive/</td>\n",
       "      <td>1</td>\n",
       "    </tr>\n",
       "  </tbody>\n",
       "</table>\n",
       "</div>"
      ],
      "text/plain": [
       "                                                          study_path label\n",
       "0  ../data/MURA-v1.1/train/XR_SHOULDER/patient00001/study1_positive/     1\n",
       "1  ../data/MURA-v1.1/train/XR_SHOULDER/patient00002/study1_positive/     1\n",
       "2  ../data/MURA-v1.1/train/XR_SHOULDER/patient00003/study1_positive/     1\n",
       "3  ../data/MURA-v1.1/train/XR_SHOULDER/patient00004/study1_positive/     1\n",
       "4  ../data/MURA-v1.1/train/XR_SHOULDER/patient00005/study1_positive/     1"
      ]
     },
     "execution_count": 15,
     "metadata": {},
     "output_type": "execute_result"
    }
   ],
   "source": [
    "inspect_df(train_labeled_studies)"
   ]
  },
  {
   "cell_type": "code",
   "execution_count": 16,
   "id": "98c49b41",
   "metadata": {},
   "outputs": [
    {
     "name": "stdout",
     "output_type": "stream",
     "text": [
      "shape: (36808, 6)\n"
     ]
    },
    {
     "data": {
      "text/html": [
       "<div>\n",
       "<style scoped>\n",
       "    .dataframe tbody tr th:only-of-type {\n",
       "        vertical-align: middle;\n",
       "    }\n",
       "\n",
       "    .dataframe tbody tr th {\n",
       "        vertical-align: top;\n",
       "    }\n",
       "\n",
       "    .dataframe thead th {\n",
       "        text-align: right;\n",
       "    }\n",
       "</style>\n",
       "<table border=\"1\" class=\"dataframe\">\n",
       "  <thead>\n",
       "    <tr style=\"text-align: right;\">\n",
       "      <th></th>\n",
       "      <th>image_path</th>\n",
       "      <th>study_type</th>\n",
       "      <th>patient</th>\n",
       "      <th>study</th>\n",
       "      <th>study_path</th>\n",
       "      <th>label</th>\n",
       "    </tr>\n",
       "  </thead>\n",
       "  <tbody>\n",
       "    <tr>\n",
       "      <th>0</th>\n",
       "      <td>../data/MURA-v1.1/train/XR_SHOULDER/patient00001/study1_positive/image1.png</td>\n",
       "      <td>train</td>\n",
       "      <td>XR_SHOULDER</td>\n",
       "      <td>patient00001</td>\n",
       "      <td>../data/MURA-v1.1/train/XR_SHOULDER/patient00001/study1_positive/</td>\n",
       "      <td>1</td>\n",
       "    </tr>\n",
       "    <tr>\n",
       "      <th>1</th>\n",
       "      <td>../data/MURA-v1.1/train/XR_SHOULDER/patient00001/study1_positive/image2.png</td>\n",
       "      <td>train</td>\n",
       "      <td>XR_SHOULDER</td>\n",
       "      <td>patient00001</td>\n",
       "      <td>../data/MURA-v1.1/train/XR_SHOULDER/patient00001/study1_positive/</td>\n",
       "      <td>1</td>\n",
       "    </tr>\n",
       "    <tr>\n",
       "      <th>2</th>\n",
       "      <td>../data/MURA-v1.1/train/XR_SHOULDER/patient00001/study1_positive/image3.png</td>\n",
       "      <td>train</td>\n",
       "      <td>XR_SHOULDER</td>\n",
       "      <td>patient00001</td>\n",
       "      <td>../data/MURA-v1.1/train/XR_SHOULDER/patient00001/study1_positive/</td>\n",
       "      <td>1</td>\n",
       "    </tr>\n",
       "    <tr>\n",
       "      <th>3</th>\n",
       "      <td>../data/MURA-v1.1/train/XR_SHOULDER/patient00002/study1_positive/image1.png</td>\n",
       "      <td>train</td>\n",
       "      <td>XR_SHOULDER</td>\n",
       "      <td>patient00002</td>\n",
       "      <td>../data/MURA-v1.1/train/XR_SHOULDER/patient00002/study1_positive/</td>\n",
       "      <td>1</td>\n",
       "    </tr>\n",
       "    <tr>\n",
       "      <th>4</th>\n",
       "      <td>../data/MURA-v1.1/train/XR_SHOULDER/patient00002/study1_positive/image2.png</td>\n",
       "      <td>train</td>\n",
       "      <td>XR_SHOULDER</td>\n",
       "      <td>patient00002</td>\n",
       "      <td>../data/MURA-v1.1/train/XR_SHOULDER/patient00002/study1_positive/</td>\n",
       "      <td>1</td>\n",
       "    </tr>\n",
       "  </tbody>\n",
       "</table>\n",
       "</div>"
      ],
      "text/plain": [
       "                                                                    image_path  \\\n",
       "0  ../data/MURA-v1.1/train/XR_SHOULDER/patient00001/study1_positive/image1.png   \n",
       "1  ../data/MURA-v1.1/train/XR_SHOULDER/patient00001/study1_positive/image2.png   \n",
       "2  ../data/MURA-v1.1/train/XR_SHOULDER/patient00001/study1_positive/image3.png   \n",
       "3  ../data/MURA-v1.1/train/XR_SHOULDER/patient00002/study1_positive/image1.png   \n",
       "4  ../data/MURA-v1.1/train/XR_SHOULDER/patient00002/study1_positive/image2.png   \n",
       "\n",
       "  study_type      patient         study  \\\n",
       "0      train  XR_SHOULDER  patient00001   \n",
       "1      train  XR_SHOULDER  patient00001   \n",
       "2      train  XR_SHOULDER  patient00001   \n",
       "3      train  XR_SHOULDER  patient00002   \n",
       "4      train  XR_SHOULDER  patient00002   \n",
       "\n",
       "                                                          study_path label  \n",
       "0  ../data/MURA-v1.1/train/XR_SHOULDER/patient00001/study1_positive/     1  \n",
       "1  ../data/MURA-v1.1/train/XR_SHOULDER/patient00001/study1_positive/     1  \n",
       "2  ../data/MURA-v1.1/train/XR_SHOULDER/patient00001/study1_positive/     1  \n",
       "3  ../data/MURA-v1.1/train/XR_SHOULDER/patient00002/study1_positive/     1  \n",
       "4  ../data/MURA-v1.1/train/XR_SHOULDER/patient00002/study1_positive/     1  "
      ]
     },
     "execution_count": 16,
     "metadata": {},
     "output_type": "execute_result"
    }
   ],
   "source": [
    "ref_trainset = pd.merge(\n",
    "    train_image_paths, train_labeled_studies, how=\"inner\", on=\"study_path\"\n",
    ")\n",
    "\n",
    "inspect_df(ref_trainset)"
   ]
  },
  {
   "cell_type": "markdown",
   "id": "41eafe23",
   "metadata": {},
   "source": [
    "#### Create a tensorflow input pipeline for the training data"
   ]
  },
  {
   "cell_type": "code",
   "execution_count": 17,
   "id": "19f477b2",
   "metadata": {},
   "outputs": [],
   "source": [
    "IMAGE_WIDTH = 224\n",
    "IMAGE_HEIGHT = 224"
   ]
  },
  {
   "cell_type": "code",
   "execution_count": 18,
   "id": "c8637a1c",
   "metadata": {},
   "outputs": [],
   "source": [
    "training = tf.keras.preprocessing.image.ImageDataGenerator(\n",
    "    rotation_range=30,\n",
    "    horizontal_flip=True,\n",
    "    fill_mode=\"constant\",\n",
    "    cval=0.0,\n",
    "    rescale=1.0 / 255,\n",
    "    validation_split=0.2,\n",
    "    preprocessing_function=tf.keras.applications.densenet.preprocess_input,\n",
    ")"
   ]
  },
  {
   "cell_type": "code",
   "execution_count": 19,
   "id": "21f38eee",
   "metadata": {},
   "outputs": [
    {
     "name": "stdout",
     "output_type": "stream",
     "text": [
      "Found 29447 non-validated image filenames belonging to 2 classes.\n"
     ]
    }
   ],
   "source": [
    "trainset = training.flow_from_dataframe(\n",
    "    dataframe=ref_trainset,\n",
    "    x_col=\"image_path\",\n",
    "    y_col=\"label\",\n",
    "    target_size=(IMAGE_WIDTH, IMAGE_HEIGHT),\n",
    "    class_mode=\"binary\",\n",
    "    color_mode=\"rgb\",  # 3 channels\n",
    "    batch_size=8,\n",
    "    seed=SEED,\n",
    "    shuffle=True,\n",
    "    validate_filenames=False,\n",
    "    subset=\"training\",\n",
    ")"
   ]
  },
  {
   "cell_type": "code",
   "execution_count": 20,
   "id": "3d3baff1",
   "metadata": {},
   "outputs": [
    {
     "name": "stdout",
     "output_type": "stream",
     "text": [
      "Found 7361 non-validated image filenames belonging to 2 classes.\n"
     ]
    }
   ],
   "source": [
    "validationset = training.flow_from_dataframe(\n",
    "    dataframe=ref_trainset,\n",
    "    x_col=\"image_path\",\n",
    "    y_col=\"label\",\n",
    "    target_size=(IMAGE_WIDTH, IMAGE_HEIGHT),\n",
    "    class_mode=\"binary\",\n",
    "    color_mode=\"rgb\",  # 3 channels\n",
    "    batch_size=8,\n",
    "    seed=SEED,\n",
    "    shuffle=True,\n",
    "    validate_filenames=False,\n",
    "    subset=\"validation\",\n",
    ")"
   ]
  },
  {
   "cell_type": "markdown",
   "id": "6384ad36",
   "metadata": {},
   "source": [
    "#### Create a tensorflow input pipeline for the testing data"
   ]
  },
  {
   "cell_type": "code",
   "execution_count": 21,
   "id": "530cb791",
   "metadata": {},
   "outputs": [],
   "source": [
    "test_image_paths = pd.read_csv(\n",
    "    os.path.join(DATASET_DIR, \"valid_image_paths.csv\"),\n",
    "    names=[\"image_path\"],\n",
    "    header=None,\n",
    "    index_col=False,\n",
    ")"
   ]
  },
  {
   "cell_type": "code",
   "execution_count": 22,
   "id": "3c564c7c",
   "metadata": {},
   "outputs": [],
   "source": [
    "test_image_paths[\"image_path\"] = test_image_paths[\"image_path\"].map(\n",
    "    lambda x: os.path.join(\"../data/\", x)\n",
    ")\n",
    "test_image_paths[\"study_type\"] = test_image_paths[\"image_path\"].map(\n",
    "    lambda x: x.split(\"/\")[3]\n",
    ")\n",
    "test_image_paths[\"patient\"] = test_image_paths[\"image_path\"].map(\n",
    "    lambda x: x.split(\"/\")[4]\n",
    ")\n",
    "test_image_paths[\"study\"] = test_image_paths[\"image_path\"].map(\n",
    "    lambda x: x.split(\"/\")[5]\n",
    ")\n",
    "test_image_paths[\"study_path\"] = test_image_paths[\"image_path\"].map(\n",
    "    lambda x: re.sub(r\"image\\d+.png\", \"\", x)\n",
    ")"
   ]
  },
  {
   "cell_type": "code",
   "execution_count": 23,
   "id": "02fa25e7",
   "metadata": {},
   "outputs": [],
   "source": [
    "test_labeled_studies = pd.read_csv(\n",
    "    os.path.join(DATASET_DIR, \"valid_labeled_studies.csv\"),\n",
    "    names=[\"study_path\", \"label\"],\n",
    "    header=None,\n",
    "    index_col=False,\n",
    ")"
   ]
  },
  {
   "cell_type": "code",
   "execution_count": 24,
   "id": "3b658d66",
   "metadata": {},
   "outputs": [],
   "source": [
    "test_labeled_studies[\"study_path\"] = test_labeled_studies[\"study_path\"].map(\n",
    "    lambda x: os.path.join(\"../data/\", x)\n",
    ")\n",
    "test_labeled_studies[\"label\"] = test_labeled_studies[\"label\"].map(str)"
   ]
  },
  {
   "cell_type": "code",
   "execution_count": 25,
   "id": "28789518",
   "metadata": {},
   "outputs": [
    {
     "name": "stdout",
     "output_type": "stream",
     "text": [
      "shape: (3197, 6)\n"
     ]
    },
    {
     "data": {
      "text/html": [
       "<div>\n",
       "<style scoped>\n",
       "    .dataframe tbody tr th:only-of-type {\n",
       "        vertical-align: middle;\n",
       "    }\n",
       "\n",
       "    .dataframe tbody tr th {\n",
       "        vertical-align: top;\n",
       "    }\n",
       "\n",
       "    .dataframe thead th {\n",
       "        text-align: right;\n",
       "    }\n",
       "</style>\n",
       "<table border=\"1\" class=\"dataframe\">\n",
       "  <thead>\n",
       "    <tr style=\"text-align: right;\">\n",
       "      <th></th>\n",
       "      <th>image_path</th>\n",
       "      <th>study_type</th>\n",
       "      <th>patient</th>\n",
       "      <th>study</th>\n",
       "      <th>study_path</th>\n",
       "      <th>label</th>\n",
       "    </tr>\n",
       "  </thead>\n",
       "  <tbody>\n",
       "    <tr>\n",
       "      <th>0</th>\n",
       "      <td>../data/MURA-v1.1/valid/XR_WRIST/patient11185/study1_positive/image1.png</td>\n",
       "      <td>valid</td>\n",
       "      <td>XR_WRIST</td>\n",
       "      <td>patient11185</td>\n",
       "      <td>../data/MURA-v1.1/valid/XR_WRIST/patient11185/study1_positive/</td>\n",
       "      <td>1</td>\n",
       "    </tr>\n",
       "    <tr>\n",
       "      <th>1</th>\n",
       "      <td>../data/MURA-v1.1/valid/XR_WRIST/patient11185/study1_positive/image2.png</td>\n",
       "      <td>valid</td>\n",
       "      <td>XR_WRIST</td>\n",
       "      <td>patient11185</td>\n",
       "      <td>../data/MURA-v1.1/valid/XR_WRIST/patient11185/study1_positive/</td>\n",
       "      <td>1</td>\n",
       "    </tr>\n",
       "    <tr>\n",
       "      <th>2</th>\n",
       "      <td>../data/MURA-v1.1/valid/XR_WRIST/patient11185/study1_positive/image3.png</td>\n",
       "      <td>valid</td>\n",
       "      <td>XR_WRIST</td>\n",
       "      <td>patient11185</td>\n",
       "      <td>../data/MURA-v1.1/valid/XR_WRIST/patient11185/study1_positive/</td>\n",
       "      <td>1</td>\n",
       "    </tr>\n",
       "    <tr>\n",
       "      <th>3</th>\n",
       "      <td>../data/MURA-v1.1/valid/XR_WRIST/patient11185/study1_positive/image4.png</td>\n",
       "      <td>valid</td>\n",
       "      <td>XR_WRIST</td>\n",
       "      <td>patient11185</td>\n",
       "      <td>../data/MURA-v1.1/valid/XR_WRIST/patient11185/study1_positive/</td>\n",
       "      <td>1</td>\n",
       "    </tr>\n",
       "    <tr>\n",
       "      <th>4</th>\n",
       "      <td>../data/MURA-v1.1/valid/XR_WRIST/patient11186/study1_positive/image1.png</td>\n",
       "      <td>valid</td>\n",
       "      <td>XR_WRIST</td>\n",
       "      <td>patient11186</td>\n",
       "      <td>../data/MURA-v1.1/valid/XR_WRIST/patient11186/study1_positive/</td>\n",
       "      <td>1</td>\n",
       "    </tr>\n",
       "  </tbody>\n",
       "</table>\n",
       "</div>"
      ],
      "text/plain": [
       "                                                                 image_path  \\\n",
       "0  ../data/MURA-v1.1/valid/XR_WRIST/patient11185/study1_positive/image1.png   \n",
       "1  ../data/MURA-v1.1/valid/XR_WRIST/patient11185/study1_positive/image2.png   \n",
       "2  ../data/MURA-v1.1/valid/XR_WRIST/patient11185/study1_positive/image3.png   \n",
       "3  ../data/MURA-v1.1/valid/XR_WRIST/patient11185/study1_positive/image4.png   \n",
       "4  ../data/MURA-v1.1/valid/XR_WRIST/patient11186/study1_positive/image1.png   \n",
       "\n",
       "  study_type   patient         study  \\\n",
       "0      valid  XR_WRIST  patient11185   \n",
       "1      valid  XR_WRIST  patient11185   \n",
       "2      valid  XR_WRIST  patient11185   \n",
       "3      valid  XR_WRIST  patient11185   \n",
       "4      valid  XR_WRIST  patient11186   \n",
       "\n",
       "                                                       study_path label  \n",
       "0  ../data/MURA-v1.1/valid/XR_WRIST/patient11185/study1_positive/     1  \n",
       "1  ../data/MURA-v1.1/valid/XR_WRIST/patient11185/study1_positive/     1  \n",
       "2  ../data/MURA-v1.1/valid/XR_WRIST/patient11185/study1_positive/     1  \n",
       "3  ../data/MURA-v1.1/valid/XR_WRIST/patient11185/study1_positive/     1  \n",
       "4  ../data/MURA-v1.1/valid/XR_WRIST/patient11186/study1_positive/     1  "
      ]
     },
     "execution_count": 25,
     "metadata": {},
     "output_type": "execute_result"
    }
   ],
   "source": [
    "ref_testset = pd.merge(\n",
    "    test_image_paths, test_labeled_studies, how=\"inner\", on=\"study_path\"\n",
    ")\n",
    "\n",
    "inspect_df(ref_testset)"
   ]
  },
  {
   "cell_type": "code",
   "execution_count": 26,
   "id": "7a83dfa4",
   "metadata": {},
   "outputs": [],
   "source": [
    "testing = tf.keras.preprocessing.image.ImageDataGenerator(\n",
    "    rescale=1.0 / 255,\n",
    "    preprocessing_function=tf.keras.applications.densenet.preprocess_input,\n",
    ")"
   ]
  },
  {
   "cell_type": "code",
   "execution_count": 27,
   "id": "c466ce62",
   "metadata": {},
   "outputs": [
    {
     "name": "stdout",
     "output_type": "stream",
     "text": [
      "Found 3197 validated image filenames belonging to 2 classes.\n"
     ]
    }
   ],
   "source": [
    "testset = testing.flow_from_dataframe(\n",
    "    dataframe=ref_testset,\n",
    "    x_col=\"image_path\",\n",
    "    y_col=\"label\",\n",
    "    target_size=(IMAGE_WIDTH, IMAGE_HEIGHT),\n",
    "    class_mode=\"binary\",\n",
    "    batch_size=8,\n",
    "    seed=SEED,\n",
    ")"
   ]
  },
  {
   "cell_type": "markdown",
   "id": "30d182d1",
   "metadata": {},
   "source": [
    "### Baseline Performance"
   ]
  },
  {
   "cell_type": "code",
   "execution_count": 28,
   "id": "6de7e829",
   "metadata": {},
   "outputs": [],
   "source": [
    "def study_oriented_transformation(dataset: pd.DataFrame) -> Iterable:\n",
    "\n",
    "    for study, group in dataset.groupby(\"study_path\"):\n",
    "\n",
    "        study_label = group[\"label\"].values.take(0)\n",
    "        study_prediction = 1 if group[\"prediction\"].mean() > 0.5 else 0\n",
    "\n",
    "        yield study, study_label, study_prediction"
   ]
  },
  {
   "cell_type": "markdown",
   "id": "92e2665b",
   "metadata": {},
   "source": [
    "#### DenseNet169 architecture, pretrained on ImageNet"
   ]
  },
  {
   "cell_type": "code",
   "execution_count": 29,
   "id": "53dda1c7",
   "metadata": {},
   "outputs": [],
   "source": [
    "def clean_up(model_):\n",
    "    tf.keras.backend.clear_session()\n",
    "    del model_\n",
    "    gc.collect()"
   ]
  },
  {
   "cell_type": "code",
   "execution_count": 30,
   "id": "404f8518",
   "metadata": {},
   "outputs": [],
   "source": [
    "# the tfa.metrics.F1Score (https://www.tensorflow.org/addons/api_docs/python/tfa/metrics/F1Score)\n",
    "# requires some reshaping that is inconsistent with the other metrics we like to track\n",
    "# so we will define it from scratch\n",
    "\n",
    "\n",
    "class F1Score(tf.keras.metrics.Metric):\n",
    "    def __init__(self, name=\"f1_score\", **kwargs):\n",
    "        super().__init__(name=name, **kwargs)\n",
    "        self.f1 = self.add_weight(name=\"f1\", initializer=\"zeros\")\n",
    "        self.precision_fn = tf.keras.metrics.Precision()\n",
    "        self.recall_fn = tf.keras.metrics.Recall()\n",
    "\n",
    "    def update_state(self, y_true, y_pred, sample_weight=None):\n",
    "        p = self.precision_fn(y_true, y_pred)\n",
    "        r = self.recall_fn(y_true, y_pred)\n",
    "        self.f1.assign(2 * ((p * r) / (p + r + 1e-10)))\n",
    "\n",
    "    def result(self):\n",
    "        return self.f1\n",
    "\n",
    "    def reset_state(self):\n",
    "        # we also need to reset the state of the precision and recall objects\n",
    "        self.precision_fn.reset_state()\n",
    "        self.recall_fn.reset_state()\n",
    "        self.f1.assign(0)"
   ]
  },
  {
   "cell_type": "code",
   "execution_count": 31,
   "id": "4e3a6125",
   "metadata": {},
   "outputs": [
    {
     "name": "stderr",
     "output_type": "stream",
     "text": [
      "2022-03-28 00:21:48.523850: I tensorflow/core/platform/cpu_feature_guard.cc:151] This TensorFlow binary is optimized with oneAPI Deep Neural Network Library (oneDNN) to use the following CPU instructions in performance-critical operations:  AVX2 FMA\n",
      "To enable them in other operations, rebuild TensorFlow with the appropriate compiler flags.\n",
      "2022-03-28 00:21:48.524744: I tensorflow/stream_executor/cuda/cuda_gpu_executor.cc:936] successful NUMA node read from SysFS had negative value (-1), but there must be at least one NUMA node, so returning NUMA node zero\n",
      "2022-03-28 00:21:48.525100: I tensorflow/stream_executor/cuda/cuda_gpu_executor.cc:936] successful NUMA node read from SysFS had negative value (-1), but there must be at least one NUMA node, so returning NUMA node zero\n",
      "2022-03-28 00:21:48.525335: I tensorflow/stream_executor/cuda/cuda_gpu_executor.cc:936] successful NUMA node read from SysFS had negative value (-1), but there must be at least one NUMA node, so returning NUMA node zero\n",
      "2022-03-28 00:21:49.243666: I tensorflow/stream_executor/cuda/cuda_gpu_executor.cc:936] successful NUMA node read from SysFS had negative value (-1), but there must be at least one NUMA node, so returning NUMA node zero\n",
      "2022-03-28 00:21:49.243825: I tensorflow/stream_executor/cuda/cuda_gpu_executor.cc:936] successful NUMA node read from SysFS had negative value (-1), but there must be at least one NUMA node, so returning NUMA node zero\n",
      "2022-03-28 00:21:49.243948: I tensorflow/stream_executor/cuda/cuda_gpu_executor.cc:936] successful NUMA node read from SysFS had negative value (-1), but there must be at least one NUMA node, so returning NUMA node zero\n",
      "2022-03-28 00:21:49.244307: I tensorflow/core/common_runtime/gpu/gpu_device.cc:1525] Created device /job:localhost/replica:0/task:0/device:GPU:0 with 2083 MB memory:  -> device: 0, name: Quadro T1000, pci bus id: 0000:01:00.0, compute capability: 7.5\n"
     ]
    }
   ],
   "source": [
    "METRICS = [\n",
    "    tf.keras.metrics.TruePositives(name=\"tp\"),\n",
    "    tf.keras.metrics.FalsePositives(name=\"fp\"),\n",
    "    tf.keras.metrics.TrueNegatives(name=\"tn\"),\n",
    "    tf.keras.metrics.FalseNegatives(name=\"fn\"),\n",
    "    tf.keras.metrics.BinaryAccuracy(name=\"binary_acc\"),\n",
    "    tf.keras.metrics.Precision(name=\"precision\"),\n",
    "    tf.keras.metrics.Recall(name=\"recall\"),\n",
    "    F1Score(name=\"f1_score\"),\n",
    "    tf.keras.metrics.AUC(name=\"roc_auc\", curve=\"ROC\"),\n",
    "    tf.keras.metrics.AUC(name=\"pr_auc\", curve=\"PR\"),\n",
    "    tfa.metrics.CohenKappa(name=\"cohen_kappa\", num_classes=2),\n",
    "]"
   ]
  },
  {
   "cell_type": "code",
   "execution_count": 32,
   "id": "4d269acc",
   "metadata": {},
   "outputs": [],
   "source": [
    "def plot_metrics(\n",
    "    history: tf.keras.callbacks.History,\n",
    "    metrics: list = [\"loss\", \"cohen_kappa\", \"precision\", \"recall\"],\n",
    ") -> None:\n",
    "\n",
    "    plt.rcParams[\"figure.figsize\"] = (18, 15)\n",
    "\n",
    "    for n, metric in enumerate(metrics):\n",
    "        name = metric.replace(\"_\", \" \").capitalize()\n",
    "        plt.subplot(2, 2, n + 1)\n",
    "        plt.plot(\n",
    "            history.epoch, history.history[metric], linewidth=1.8, label=\"training\"\n",
    "        )\n",
    "        plt.plot(\n",
    "            history.epoch,\n",
    "            history.history[\"val_\" + metric],\n",
    "            linestyle=\"--\",\n",
    "            linewidth=1.8,\n",
    "            label=\"validation\",\n",
    "        )\n",
    "        plt.xlabel(\"epoch\")\n",
    "        plt.ylabel(name)\n",
    "        if metric == \"loss\":\n",
    "            plt.ylim([0, plt.ylim()[1]])\n",
    "        elif metric == \"cohen_kappa\":\n",
    "            plt.ylim([-1, 1])\n",
    "        else:\n",
    "            plt.ylim([0, 1])\n",
    "\n",
    "        plt.legend()"
   ]
  },
  {
   "cell_type": "code",
   "execution_count": 33,
   "id": "30921b05",
   "metadata": {},
   "outputs": [],
   "source": [
    "\"\"\"\n",
    "Densenet-169 model from `\"Densely Connected Convolutional Networks\" <https://arxiv.org/pdf/1608.06993.pdf>`_.\n",
    "\"\"\"\n",
    "densenet = tf.keras.applications.densenet.DenseNet169(\n",
    "    include_top=False,  # do not include the fully-connected layer at the top of the network\n",
    "    weights=\"imagenet\",\n",
    "    input_shape=(IMAGE_WIDTH, IMAGE_HEIGHT, 3),\n",
    "    pooling=\"avg\",  # pooling mode for feature extraction\n",
    "    classes=2,\n",
    ")"
   ]
  },
  {
   "cell_type": "code",
   "execution_count": 34,
   "id": "202355bd",
   "metadata": {},
   "outputs": [],
   "source": [
    "def make_densenet_model(\n",
    "    base_model: tf.keras.applications.densenet.DenseNet201,\n",
    ") -> tf.keras.Model:\n",
    "\n",
    "    # freeze base model\n",
    "    base_model.trainable = False\n",
    "\n",
    "    inputs = tf.keras.Input(shape=(IMAGE_WIDTH, IMAGE_HEIGHT, 3))\n",
    "    # the base model contains batchnorm layer - we want to keep them in inference mode\n",
    "    # when we unfreeze the base model for fine-tuning, so we make sure that the\n",
    "    # base model is running in inference mode here.\n",
    "    x = base_model(inputs, training=False)\n",
    "    x = tf.keras.layers.Dropout(rate=0.2)(x)\n",
    "    output = tf.keras.layers.Dense(units=1, activation=\"sigmoid\")(x)\n",
    "\n",
    "    model = tf.keras.Model(inputs, output)\n",
    "\n",
    "    model.compile(\n",
    "        optimizer=tf.keras.optimizers.Adam(learning_rate=0.001),\n",
    "        loss=tf.keras.losses.BinaryCrossentropy(),\n",
    "        metrics=METRICS,\n",
    "    )\n",
    "\n",
    "    return model"
   ]
  },
  {
   "cell_type": "code",
   "execution_count": 35,
   "id": "b2e68f4f",
   "metadata": {},
   "outputs": [],
   "source": [
    "model = make_densenet_model(base_model=densenet)"
   ]
  },
  {
   "cell_type": "code",
   "execution_count": 36,
   "id": "1c19ad13",
   "metadata": {
    "scrolled": false
   },
   "outputs": [
    {
     "name": "stdout",
     "output_type": "stream",
     "text": [
      "Model: \"model\"\n",
      "_________________________________________________________________\n",
      " Layer (type)                Output Shape              Param #   \n",
      "=================================================================\n",
      " input_2 (InputLayer)        [(None, 224, 224, 3)]     0         \n",
      "                                                                 \n",
      " densenet169 (Functional)    (None, 1664)              12642880  \n",
      "                                                                 \n",
      " dropout (Dropout)           (None, 1664)              0         \n",
      "                                                                 \n",
      " dense (Dense)               (None, 1)                 1665      \n",
      "                                                                 \n",
      "=================================================================\n",
      "Total params: 12,644,545\n",
      "Trainable params: 1,665\n",
      "Non-trainable params: 12,642,880\n",
      "_________________________________________________________________\n"
     ]
    }
   ],
   "source": [
    "model.summary()"
   ]
  },
  {
   "cell_type": "code",
   "execution_count": 37,
   "id": "97981226",
   "metadata": {
    "scrolled": false
   },
   "outputs": [
    {
     "data": {
      "image/png": "[encoded data removed]",
      "text/plain": [
       "<IPython.core.display.Image object>"
      ]
     },
     "execution_count": 37,
     "metadata": {},
     "output_type": "execute_result"
    }
   ],
   "source": [
    "tf.keras.utils.plot_model(\n",
    "    model,\n",
    "    to_file=\"../static/densenet169_pt_imagenet-all-study-types-12644545.png\",\n",
    "    show_shapes=True,\n",
    "    show_layer_names=True,\n",
    ")"
   ]
  },
  {
   "cell_type": "code",
   "execution_count": 38,
   "id": "571221da",
   "metadata": {},
   "outputs": [],
   "source": [
    "early_stopping = tf.keras.callbacks.EarlyStopping(\n",
    "    monitor=\"val_cohen_kappa\",\n",
    "    verbose=1,\n",
    "    patience=5,\n",
    "    mode=\"max\",\n",
    ")"
   ]
  },
  {
   "cell_type": "code",
   "execution_count": 39,
   "id": "16cd65d0",
   "metadata": {},
   "outputs": [],
   "source": [
    "reduce_lr_on_plateau = tf.keras.callbacks.ReduceLROnPlateau(\n",
    "    monitor=\"val_cohen_kappa\", factor=0.2, verbose=1, patience=7, min_lr=1e-10\n",
    ")"
   ]
  },
  {
   "cell_type": "code",
   "execution_count": 40,
   "id": "aa319ec8",
   "metadata": {
    "scrolled": false
   },
   "outputs": [
    {
     "name": "stdout",
     "output_type": "stream",
     "text": [
      "Epoch 1/20\n"
     ]
    },
    {
     "name": "stderr",
     "output_type": "stream",
     "text": [
      "2022-03-28 00:22:00.642859: I tensorflow/stream_executor/cuda/cuda_dnn.cc:368] Loaded cuDNN version 8303\n",
      "2022-03-28 00:22:01.997464: W tensorflow/core/common_runtime/bfc_allocator.cc:343] Garbage collection: deallocate free memory regions (i.e., allocations) so that we can re-allocate a larger region to avoid OOM due to memory fragmentation. If you see this message frequently, you are running near the threshold of the available device memory and re-allocation may incur great performance overhead. You may try smaller batch sizes to observe the performance impact. Set TF_ENABLE_GPU_GARBAGE_COLLECTION=false if you'd like to disable this feature.\n",
      "2022-03-28 00:22:03.461452: W tensorflow/core/common_runtime/bfc_allocator.cc:343] Garbage collection: deallocate free memory regions (i.e., allocations) so that we can re-allocate a larger region to avoid OOM due to memory fragmentation. If you see this message frequently, you are running near the threshold of the available device memory and re-allocation may incur great performance overhead. You may try smaller batch sizes to observe the performance impact. Set TF_ENABLE_GPU_GARBAGE_COLLECTION=false if you'd like to disable this feature.\n"
     ]
    },
    {
     "name": "stdout",
     "output_type": "stream",
     "text": [
      "3681/3681 [==============================] - 382s 100ms/step - loss: 0.6525 - tp: 353.0000 - fp: 431.0000 - tn: 18311.0000 - fn: 10352.0000 - binary_acc: 0.6338 - precision: 0.4503 - recall: 0.0330 - f1_score: 0.0615 - roc_auc: 0.5498 - pr_auc: 0.4032 - cohen_kappa: 0.0125 - val_loss: 0.7032 - val_tp: 164.0000 - val_fp: 112.0000 - val_tn: 3081.0000 - val_fn: 4004.0000 - val_binary_acc: 0.4408 - val_precision: 0.5942 - val_recall: 0.0393 - val_f1_score: 0.0738 - val_roc_auc: 0.4903 - val_pr_auc: 0.5633 - val_cohen_kappa: 0.0037 - lr: 0.0010\n",
      "Epoch 2/20\n",
      "3681/3681 [==============================] - 349s 95ms/step - loss: 0.6449 - tp: 607.0000 - fp: 495.0000 - tn: 18247.0000 - fn: 10098.0000 - binary_acc: 0.6403 - precision: 0.5508 - recall: 0.0567 - f1_score: 0.1028 - roc_auc: 0.5752 - pr_auc: 0.4337 - cohen_kappa: 0.0375 - val_loss: 0.7888 - val_tp: 6.0000 - val_fp: 5.0000 - val_tn: 3188.0000 - val_fn: 4162.0000 - val_binary_acc: 0.4339 - val_precision: 0.5455 - val_recall: 0.0014 - val_f1_score: 0.0029 - val_roc_auc: 0.4993 - val_pr_auc: 0.5650 - val_cohen_kappa: -1.0967e-04 - lr: 0.0010\n",
      "Epoch 3/20\n",
      "3681/3681 [==============================] - 348s 94ms/step - loss: 0.6405 - tp: 879.0000 - fp: 650.0000 - tn: 18092.0000 - fn: 9826.0000 - binary_acc: 0.6442 - precision: 0.5749 - recall: 0.0821 - f1_score: 0.1437 - roc_auc: 0.5907 - pr_auc: 0.4510 - cohen_kappa: 0.0581 - val_loss: 0.8514 - val_tp: 9.0000 - val_fp: 3.0000 - val_tn: 3190.0000 - val_fn: 4159.0000 - val_binary_acc: 0.4346 - val_precision: 0.7500 - val_recall: 0.0022 - val_f1_score: 0.0043 - val_roc_auc: 0.5135 - val_pr_auc: 0.5789 - val_cohen_kappa: 0.0011 - lr: 0.0010\n",
      "Epoch 4/20\n",
      "3681/3681 [==============================] - 348s 95ms/step - loss: 0.6403 - tp: 1009.0000 - fp: 777.0000 - tn: 17965.0000 - fn: 9696.0000 - binary_acc: 0.6443 - precision: 0.5649 - recall: 0.0943 - f1_score: 0.1616 - roc_auc: 0.5918 - pr_auc: 0.4547 - cohen_kappa: 0.0643 - val_loss: 0.7148 - val_tp: 156.0000 - val_fp: 105.0000 - val_tn: 3088.0000 - val_fn: 4012.0000 - val_binary_acc: 0.4407 - val_precision: 0.5977 - val_recall: 0.0374 - val_f1_score: 0.0704 - val_roc_auc: 0.5067 - val_pr_auc: 0.5736 - val_cohen_kappa: 0.0040 - lr: 0.0010\n",
      "Epoch 5/20\n",
      "3681/3681 [==============================] - 348s 94ms/step - loss: 0.6375 - tp: 1181.0000 - fp: 935.0000 - tn: 17807.0000 - fn: 9524.0000 - binary_acc: 0.6448 - precision: 0.5581 - recall: 0.1103 - f1_score: 0.1842 - roc_auc: 0.6013 - pr_auc: 0.4626 - cohen_kappa: 0.0730 - val_loss: 0.7322 - val_tp: 85.0000 - val_fp: 46.0000 - val_tn: 3147.0000 - val_fn: 4083.0000 - val_binary_acc: 0.4391 - val_precision: 0.6489 - val_recall: 0.0204 - val_f1_score: 0.0395 - val_roc_auc: 0.5125 - val_pr_auc: 0.5820 - val_cohen_kappa: 0.0052 - lr: 0.0010\n",
      "Epoch 6/20\n",
      "3681/3681 [==============================] - 348s 95ms/step - loss: 0.6373 - tp: 1216.0000 - fp: 934.0000 - tn: 17808.0000 - fn: 9489.0000 - binary_acc: 0.6460 - precision: 0.5656 - recall: 0.1136 - f1_score: 0.1892 - roc_auc: 0.6023 - pr_auc: 0.4631 - cohen_kappa: 0.0769 - val_loss: 0.8633 - val_tp: 17.0000 - val_fp: 8.0000 - val_tn: 3185.0000 - val_fn: 4151.0000 - val_binary_acc: 0.4350 - val_precision: 0.6800 - val_recall: 0.0041 - val_f1_score: 0.0081 - val_roc_auc: 0.5163 - val_pr_auc: 0.5812 - val_cohen_kappa: 0.0014 - lr: 0.0010\n",
      "Epoch 7/20\n",
      "3681/3681 [==============================] - 349s 95ms/step - loss: 0.6346 - tp: 1347.0000 - fp: 1034.0000 - tn: 17708.0000 - fn: 9358.0000 - binary_acc: 0.6471 - precision: 0.5657 - recall: 0.1258 - f1_score: 0.2059 - roc_auc: 0.6107 - pr_auc: 0.4729 - cohen_kappa: 0.0848 - val_loss: 0.8270 - val_tp: 21.0000 - val_fp: 8.0000 - val_tn: 3185.0000 - val_fn: 4147.0000 - val_binary_acc: 0.4355 - val_precision: 0.7241 - val_recall: 0.0050 - val_f1_score: 0.0100 - val_roc_auc: 0.5127 - val_pr_auc: 0.5829 - val_cohen_kappa: 0.0022 - lr: 0.0010\n",
      "Epoch 8/20\n",
      "3681/3681 [==============================] - 350s 95ms/step - loss: 0.6337 - tp: 1345.0000 - fp: 1017.0000 - tn: 17725.0000 - fn: 9360.0000 - binary_acc: 0.6476 - precision: 0.5694 - recall: 0.1256 - f1_score: 0.2059 - roc_auc: 0.6121 - pr_auc: 0.4735 - cohen_kappa: 0.0857 - val_loss: 0.7022 - val_tp: 764.0000 - val_fp: 511.0000 - val_tn: 2682.0000 - val_fn: 3404.0000 - val_binary_acc: 0.4681 - val_precision: 0.5992 - val_recall: 0.1833 - val_f1_score: 0.2807 - val_roc_auc: 0.5243 - val_pr_auc: 0.5909 - val_cohen_kappa: 0.0210 - lr: 0.0010\n",
      "Epoch 9/20\n",
      "3681/3681 [==============================] - ETA: 0s - loss: 0.6325 - tp: 1455.0000 - fp: 1102.0000 - tn: 17640.0000 - fn: 9250.0000 - binary_acc: 0.6485 - precision: 0.5690 - recall: 0.1359 - f1_score: 0.2194 - roc_auc: 0.6136 - pr_auc: 0.4785 - cohen_kappa: 0.0922\n",
      "Epoch 9: ReduceLROnPlateau reducing learning rate to 0.00020000000949949026.\n",
      "3681/3681 [==============================] - 348s 95ms/step - loss: 0.6325 - tp: 1455.0000 - fp: 1102.0000 - tn: 17640.0000 - fn: 9250.0000 - binary_acc: 0.6485 - precision: 0.5690 - recall: 0.1359 - f1_score: 0.2194 - roc_auc: 0.6136 - pr_auc: 0.4785 - cohen_kappa: 0.0922 - val_loss: 0.7923 - val_tp: 35.0000 - val_fp: 12.0000 - val_tn: 3181.0000 - val_fn: 4133.0000 - val_binary_acc: 0.4369 - val_precision: 0.7447 - val_recall: 0.0084 - val_f1_score: 0.0166 - val_roc_auc: 0.5255 - val_pr_auc: 0.5967 - val_cohen_kappa: 0.0040 - lr: 0.0010\n",
      "Epoch 10/20\n",
      "3681/3681 [==============================] - 349s 95ms/step - loss: 0.6303 - tp: 1278.0000 - fp: 801.0000 - tn: 17941.0000 - fn: 9427.0000 - binary_acc: 0.6527 - precision: 0.6147 - recall: 0.1194 - f1_score: 0.1999 - roc_auc: 0.6194 - pr_auc: 0.4874 - cohen_kappa: 0.0927 - val_loss: 0.7612 - val_tp: 62.0000 - val_fp: 23.0000 - val_tn: 3170.0000 - val_fn: 4106.0000 - val_binary_acc: 0.4391 - val_precision: 0.7294 - val_recall: 0.0149 - val_f1_score: 0.0292 - val_roc_auc: 0.5209 - val_pr_auc: 0.5858 - val_cohen_kappa: 0.0067 - lr: 2.0000e-04\n",
      "Epoch 11/20\n",
      "3681/3681 [==============================] - 349s 95ms/step - loss: 0.6302 - tp: 1204.0000 - fp: 713.0000 - tn: 18029.0000 - fn: 9501.0000 - binary_acc: 0.6531 - precision: 0.6281 - recall: 0.1125 - f1_score: 0.1908 - roc_auc: 0.6237 - pr_auc: 0.4909 - cohen_kappa: 0.0903 - val_loss: 0.7633 - val_tp: 47.0000 - val_fp: 25.0000 - val_tn: 3168.0000 - val_fn: 4121.0000 - val_binary_acc: 0.4368 - val_precision: 0.6528 - val_recall: 0.0113 - val_f1_score: 0.0222 - val_roc_auc: 0.5249 - val_pr_auc: 0.5899 - val_cohen_kappa: 0.0030 - lr: 2.0000e-04\n",
      "Epoch 12/20\n",
      "3681/3681 [==============================] - 349s 95ms/step - loss: 0.6302 - tp: 1263.0000 - fp: 768.0000 - tn: 17974.0000 - fn: 9442.0000 - binary_acc: 0.6533 - precision: 0.6219 - recall: 0.1180 - f1_score: 0.1983 - roc_auc: 0.6214 - pr_auc: 0.4891 - cohen_kappa: 0.0932 - val_loss: 0.7524 - val_tp: 68.0000 - val_fp: 33.0000 - val_tn: 3160.0000 - val_fn: 4100.0000 - val_binary_acc: 0.4385 - val_precision: 0.6733 - val_recall: 0.0163 - val_f1_score: 0.0319 - val_roc_auc: 0.5121 - val_pr_auc: 0.5843 - val_cohen_kappa: 0.0052 - lr: 2.0000e-04\n",
      "Epoch 13/20\n",
      "3681/3681 [==============================] - 351s 95ms/step - loss: 0.6286 - tp: 1239.0000 - fp: 722.0000 - tn: 18020.0000 - fn: 9466.0000 - binary_acc: 0.6540 - precision: 0.6318 - recall: 0.1157 - f1_score: 0.1956 - roc_auc: 0.6264 - pr_auc: 0.4937 - cohen_kappa: 0.0936 - val_loss: 0.7485 - val_tp: 83.0000 - val_fp: 36.0000 - val_tn: 3157.0000 - val_fn: 4085.0000 - val_binary_acc: 0.4402 - val_precision: 0.6975 - val_recall: 0.0199 - val_f1_score: 0.0387 - val_roc_auc: 0.5332 - val_pr_auc: 0.5947 - val_cohen_kappa: 0.0075 - lr: 2.0000e-04\n",
      "Epoch 13: early stopping\n"
     ]
    }
   ],
   "source": [
    "history = model.fit(\n",
    "    trainset,\n",
    "    epochs=20,\n",
    "    validation_data=validationset,\n",
    "    callbacks=[early_stopping, reduce_lr_on_plateau],\n",
    ")"
   ]
  },
  {
   "cell_type": "code",
   "execution_count": 41,
   "id": "d4fda3ed",
   "metadata": {},
   "outputs": [
    {
     "data": {
      "image/png": "[encoded data removed]",
      "text/plain": [
       "<Figure size 1296x1080 with 4 Axes>"
      ]
     },
     "metadata": {},
     "output_type": "display_data"
    }
   ],
   "source": [
    "plot_metrics(history)"
   ]
  },
  {
   "cell_type": "code",
   "execution_count": 42,
   "id": "96ab3e5e",
   "metadata": {},
   "outputs": [
    {
     "name": "stdout",
     "output_type": "stream",
     "text": [
      "WARNING:tensorflow:Compiled the loaded model, but the compiled metrics have yet to be built. `model.compile_metrics` will be empty until you train or evaluate the model.\n"
     ]
    }
   ],
   "source": [
    "# model naming convention: {architecture}-{which-study-type?}-{num-parameters}.h5\n",
    "#\n",
    "# to load models:\n",
    "# model = tf.keras.models.load_model(\n",
    "#     '../models/densenet169_pt_imagenet-all-study-types-12644545.h5',\n",
    "#     custom_objects={'F1Score': F1Score}\n",
    "# )\n",
    "# densenet = tf.keras.models.load_model(\n",
    "#     '../models/densenet169_base.h5',\n",
    "# )\n",
    "model.save(\"../models/densenet169_pt_imagenet-all-study-types-12644545.h5\")\n",
    "densenet.save(\"../models/densenet169_base.h5\")"
   ]
  },
  {
   "cell_type": "code",
   "execution_count": 43,
   "id": "54ecc66f",
   "metadata": {},
   "outputs": [],
   "source": [
    "# fine-tuning: unfreeze the base model and train the entire model end-to-end with a low learning rate\n",
    "densenet.trainable = True\n",
    "\n",
    "model.compile(\n",
    "    optimizer=tf.keras.optimizers.Adam(1e-5),\n",
    "    loss=tf.keras.losses.BinaryCrossentropy(),\n",
    "    metrics=METRICS,\n",
    ")"
   ]
  },
  {
   "cell_type": "code",
   "execution_count": 44,
   "id": "3e36539b",
   "metadata": {
    "scrolled": false
   },
   "outputs": [
    {
     "name": "stdout",
     "output_type": "stream",
     "text": [
      "Epoch 1/10\n"
     ]
    },
    {
     "name": "stderr",
     "output_type": "stream",
     "text": [
      "2022-03-28 01:38:21.217645: W tensorflow/core/common_runtime/bfc_allocator.cc:275] Allocator (GPU_0_bfc) ran out of memory trying to allocate 1.78GiB with freed_by_count=0. The caller indicates that this is not a failure, but may mean that there could be performance gains if more memory were available.\n",
      "2022-03-28 01:38:21.217677: W tensorflow/core/common_runtime/bfc_allocator.cc:275] Allocator (GPU_0_bfc) ran out of memory trying to allocate 1.78GiB with freed_by_count=0. The caller indicates that this is not a failure, but may mean that there could be performance gains if more memory were available.\n",
      "2022-03-28 01:38:21.243849: W tensorflow/core/common_runtime/bfc_allocator.cc:275] Allocator (GPU_0_bfc) ran out of memory trying to allocate 1.79GiB with freed_by_count=0. The caller indicates that this is not a failure, but may mean that there could be performance gains if more memory were available.\n",
      "2022-03-28 01:38:21.243912: W tensorflow/core/common_runtime/bfc_allocator.cc:275] Allocator (GPU_0_bfc) ran out of memory trying to allocate 1.79GiB with freed_by_count=0. The caller indicates that this is not a failure, but may mean that there could be performance gains if more memory were available.\n",
      "2022-03-28 01:38:22.788335: W tensorflow/core/common_runtime/bfc_allocator.cc:275] Allocator (GPU_0_bfc) ran out of memory trying to allocate 1.08GiB with freed_by_count=0. The caller indicates that this is not a failure, but may mean that there could be performance gains if more memory were available.\n",
      "2022-03-28 01:38:22.788367: W tensorflow/core/common_runtime/bfc_allocator.cc:275] Allocator (GPU_0_bfc) ran out of memory trying to allocate 1.08GiB with freed_by_count=0. The caller indicates that this is not a failure, but may mean that there could be performance gains if more memory were available.\n",
      "2022-03-28 01:38:22.807605: W tensorflow/core/common_runtime/bfc_allocator.cc:275] Allocator (GPU_0_bfc) ran out of memory trying to allocate 1.09GiB with freed_by_count=0. The caller indicates that this is not a failure, but may mean that there could be performance gains if more memory were available.\n",
      "2022-03-28 01:38:22.807626: W tensorflow/core/common_runtime/bfc_allocator.cc:275] Allocator (GPU_0_bfc) ran out of memory trying to allocate 1.09GiB with freed_by_count=0. The caller indicates that this is not a failure, but may mean that there could be performance gains if more memory were available.\n",
      "2022-03-28 01:38:23.557124: W tensorflow/core/common_runtime/bfc_allocator.cc:275] Allocator (GPU_0_bfc) ran out of memory trying to allocate 1.06GiB with freed_by_count=0. The caller indicates that this is not a failure, but may mean that there could be performance gains if more memory were available.\n",
      "2022-03-28 01:38:23.557174: W tensorflow/core/common_runtime/bfc_allocator.cc:275] Allocator (GPU_0_bfc) ran out of memory trying to allocate 1.06GiB with freed_by_count=0. The caller indicates that this is not a failure, but may mean that there could be performance gains if more memory were available.\n"
     ]
    },
    {
     "name": "stdout",
     "output_type": "stream",
     "text": [
      "3681/3681 [==============================] - 1096s 293ms/step - loss: 0.6573 - tp: 340.0000 - fp: 312.0000 - tn: 21623.0000 - fn: 14533.0000 - binary_acc: 0.5967 - precision: 0.5215 - recall: 0.0229 - f1_score: 0.0438 - roc_auc: 0.5467 - pr_auc: 0.4401 - cohen_kappa: 0.0102 - val_loss: 0.7508 - val_tp: 50.0000 - val_fp: 24.0000 - val_tn: 3169.0000 - val_fn: 4118.0000 - val_binary_acc: 0.4373 - val_precision: 0.6757 - val_recall: 0.0120 - val_f1_score: 0.0236 - val_roc_auc: 0.4824 - val_pr_auc: 0.5564 - val_cohen_kappa: 0.0039 - lr: 1.0000e-05\n",
      "Epoch 2/10\n",
      "3681/3681 [==============================] - 1070s 291ms/step - loss: 0.6348 - tp: 1448.0000 - fp: 979.0000 - tn: 17763.0000 - fn: 9257.0000 - binary_acc: 0.6524 - precision: 0.5966 - recall: 0.1353 - f1_score: 0.2205 - roc_auc: 0.6048 - pr_auc: 0.4817 - cohen_kappa: 0.0995 - val_loss: 0.7999 - val_tp: 79.0000 - val_fp: 12.0000 - val_tn: 3181.0000 - val_fn: 4089.0000 - val_binary_acc: 0.4429 - val_precision: 0.8681 - val_recall: 0.0190 - val_f1_score: 0.0371 - val_roc_auc: 0.5231 - val_pr_auc: 0.6026 - val_cohen_kappa: 0.0132 - lr: 1.0000e-05\n",
      "Epoch 3/10\n",
      "3681/3681 [==============================] - 1070s 291ms/step - loss: 0.5780 - tp: 3524.0000 - fp: 1379.0000 - tn: 17363.0000 - fn: 7181.0000 - binary_acc: 0.7093 - precision: 0.7187 - recall: 0.3292 - f1_score: 0.4516 - roc_auc: 0.7066 - pr_auc: 0.6276 - cohen_kappa: 0.2892 - val_loss: 0.7812 - val_tp: 621.0000 - val_fp: 244.0000 - val_tn: 2949.0000 - val_fn: 3547.0000 - val_binary_acc: 0.4850 - val_precision: 0.7179 - val_recall: 0.1490 - val_f1_score: 0.2468 - val_roc_auc: 0.5910 - val_pr_auc: 0.6572 - val_cohen_kappa: 0.0647 - lr: 1.0000e-05\n",
      "Epoch 4/10\n",
      "3681/3681 [==============================] - 1071s 291ms/step - loss: 0.5359 - tp: 4448.0000 - fp: 1243.0000 - tn: 17499.0000 - fn: 6257.0000 - binary_acc: 0.7453 - precision: 0.7816 - recall: 0.4155 - f1_score: 0.5426 - roc_auc: 0.7529 - pr_auc: 0.6957 - cohen_kappa: 0.3882 - val_loss: 0.8103 - val_tp: 519.0000 - val_fp: 134.0000 - val_tn: 3059.0000 - val_fn: 3649.0000 - val_binary_acc: 0.4861 - val_precision: 0.7948 - val_recall: 0.1245 - val_f1_score: 0.2153 - val_roc_auc: 0.6193 - val_pr_auc: 0.6886 - val_cohen_kappa: 0.0731 - lr: 1.0000e-05\n",
      "Epoch 5/10\n",
      "3681/3681 [==============================] - 1070s 291ms/step - loss: 0.5182 - tp: 4747.0000 - fp: 1157.0000 - tn: 17585.0000 - fn: 5958.0000 - binary_acc: 0.7584 - precision: 0.8040 - recall: 0.4434 - f1_score: 0.5716 - roc_auc: 0.7726 - pr_auc: 0.7198 - cohen_kappa: 0.4223 - val_loss: 0.8131 - val_tp: 494.0000 - val_fp: 81.0000 - val_tn: 3112.0000 - val_fn: 3674.0000 - val_binary_acc: 0.4899 - val_precision: 0.8591 - val_recall: 0.1185 - val_f1_score: 0.2083 - val_roc_auc: 0.6352 - val_pr_auc: 0.7084 - val_cohen_kappa: 0.0823 - lr: 1.0000e-05\n",
      "Epoch 6/10\n",
      "3681/3681 [==============================] - 1070s 291ms/step - loss: 0.5046 - tp: 4907.0000 - fp: 1108.0000 - tn: 17634.0000 - fn: 5798.0000 - binary_acc: 0.7655 - precision: 0.8158 - recall: 0.4584 - f1_score: 0.5870 - roc_auc: 0.7851 - pr_auc: 0.7371 - cohen_kappa: 0.4407 - val_loss: 0.8062 - val_tp: 629.0000 - val_fp: 111.0000 - val_tn: 3082.0000 - val_fn: 3539.0000 - val_binary_acc: 0.5041 - val_precision: 0.8500 - val_recall: 0.1509 - val_f1_score: 0.2563 - val_roc_auc: 0.6449 - val_pr_auc: 0.7193 - val_cohen_kappa: 0.1032 - lr: 1.0000e-05\n",
      "Epoch 7/10\n",
      "3681/3681 [==============================] - 1070s 291ms/step - loss: 0.4919 - tp: 5127.0000 - fp: 1071.0000 - tn: 17671.0000 - fn: 5578.0000 - binary_acc: 0.7742 - precision: 0.8272 - recall: 0.4789 - f1_score: 0.6066 - roc_auc: 0.7960 - pr_auc: 0.7500 - cohen_kappa: 0.4636 - val_loss: 0.8285 - val_tp: 481.0000 - val_fp: 72.0000 - val_tn: 3121.0000 - val_fn: 3687.0000 - val_binary_acc: 0.4893 - val_precision: 0.8698 - val_recall: 0.1154 - val_f1_score: 0.2038 - val_roc_auc: 0.5846 - val_pr_auc: 0.6774 - val_cohen_kappa: 0.0820 - lr: 1.0000e-05\n",
      "Epoch 8/10\n",
      "3681/3681 [==============================] - ETA: 0s - loss: 0.4846 - tp: 5193.0000 - fp: 999.0000 - tn: 17743.0000 - fn: 5512.0000 - binary_acc: 0.7789 - precision: 0.8387 - recall: 0.4851 - f1_score: 0.6147 - roc_auc: 0.8036 - pr_auc: 0.7595 - cohen_kappa: 0.4747\n",
      "Epoch 8: ReduceLROnPlateau reducing learning rate to 1.9999999494757505e-06.\n",
      "3681/3681 [==============================] - 1070s 291ms/step - loss: 0.4846 - tp: 5193.0000 - fp: 999.0000 - tn: 17743.0000 - fn: 5512.0000 - binary_acc: 0.7789 - precision: 0.8387 - recall: 0.4851 - f1_score: 0.6147 - roc_auc: 0.8036 - pr_auc: 0.7595 - cohen_kappa: 0.4747 - val_loss: 1.0845 - val_tp: 609.0000 - val_fp: 115.0000 - val_tn: 3078.0000 - val_fn: 3559.0000 - val_binary_acc: 0.5009 - val_precision: 0.8412 - val_recall: 0.1461 - val_f1_score: 0.2490 - val_roc_auc: 0.6109 - val_pr_auc: 0.6915 - val_cohen_kappa: 0.0978 - lr: 1.0000e-05\n",
      "Epoch 9/10\n",
      "3681/3681 [==============================] - 1070s 291ms/step - loss: 0.4544 - tp: 5592.0000 - fp: 963.0000 - tn: 17779.0000 - fn: 5113.0000 - binary_acc: 0.7937 - precision: 0.8531 - recall: 0.5224 - f1_score: 0.6480 - roc_auc: 0.8294 - pr_auc: 0.7903 - cohen_kappa: 0.5137 - val_loss: 1.2255 - val_tp: 682.0000 - val_fp: 124.0000 - val_tn: 3069.0000 - val_fn: 3486.0000 - val_binary_acc: 0.5096 - val_precision: 0.8462 - val_recall: 0.1636 - val_f1_score: 0.2742 - val_roc_auc: 0.6132 - val_pr_auc: 0.6991 - val_cohen_kappa: 0.1111 - lr: 2.0000e-06\n",
      "Epoch 10/10\n",
      "3681/3681 [==============================] - 1070s 291ms/step - loss: 0.4446 - tp: 5761.0000 - fp: 1000.0000 - tn: 17742.0000 - fn: 4944.0000 - binary_acc: 0.7981 - precision: 0.8521 - recall: 0.5382 - f1_score: 0.6597 - roc_auc: 0.8394 - pr_auc: 0.8001 - cohen_kappa: 0.5264 - val_loss: 1.3705 - val_tp: 545.0000 - val_fp: 84.0000 - val_tn: 3109.0000 - val_fn: 3623.0000 - val_binary_acc: 0.4964 - val_precision: 0.8665 - val_recall: 0.1308 - val_f1_score: 0.2272 - val_roc_auc: 0.6096 - val_pr_auc: 0.6973 - val_cohen_kappa: 0.0925 - lr: 2.0000e-06\n"
     ]
    }
   ],
   "source": [
    "history = model.fit(\n",
    "    trainset,\n",
    "    epochs=10,\n",
    "    validation_data=validationset,\n",
    "    callbacks=[early_stopping, reduce_lr_on_plateau],\n",
    ")"
   ]
  },
  {
   "cell_type": "code",
   "execution_count": 45,
   "id": "21b3e659",
   "metadata": {
    "scrolled": false
   },
   "outputs": [
    {
     "name": "stdout",
     "output_type": "stream",
     "text": [
      "400/400 [==============================] - 29s 73ms/step - loss: 0.6743 - tp: 676.0000 - fp: 87.0000 - tn: 1580.0000 - fn: 854.0000 - binary_acc: 0.7057 - precision: 0.8860 - recall: 0.4418 - f1_score: 0.5896 - roc_auc: 0.7660 - pr_auc: 0.7956 - cohen_kappa: 0.3978\n"
     ]
    }
   ],
   "source": [
    "# get the loss value & metrics values for the model in test mode\n",
    "evaluation_metrics = model.evaluate(testset, verbose=1)"
   ]
  },
  {
   "cell_type": "code",
   "execution_count": 46,
   "id": "3dde6265",
   "metadata": {},
   "outputs": [],
   "source": [
    "loss = evaluation_metrics.pop(0)"
   ]
  },
  {
   "cell_type": "code",
   "execution_count": 47,
   "id": "9fab3d36",
   "metadata": {},
   "outputs": [
    {
     "name": "stdout",
     "output_type": "stream",
     "text": [
      "EVALUATION ON TEST DATASET\n",
      "================================\n",
      "loss        : 0.6742851734161377\n",
      "tp          : 676.0\n",
      "fp          : 87.0\n",
      "tn          : 1580.0\n",
      "fn          : 854.0\n",
      "binary_acc  : 0.7056615352630615\n",
      "precision   : 0.8859764337539673\n",
      "recall      : 0.4418300688266754\n",
      "f1_score    : 0.5896205902099609\n",
      "roc_auc     : 0.766038179397583\n",
      "pr_auc      : 0.7955601215362549\n",
      "cohen_kappa : 0.39783579111099243\n",
      "================================\n"
     ]
    }
   ],
   "source": [
    "print(\"EVALUATION ON TEST DATASET\")\n",
    "print(\"=\" * 32)\n",
    "print(f\"loss        : {loss}\")\n",
    "for metric, score in zip(METRICS, evaluation_metrics):\n",
    "\n",
    "    print(f\"{metric.name + ' ' * (12 - len(metric.name))}: {score}\")\n",
    "print(\"=\" * 32)"
   ]
  },
  {
   "cell_type": "code",
   "execution_count": 48,
   "id": "6af0810e",
   "metadata": {},
   "outputs": [
    {
     "name": "stdout",
     "output_type": "stream",
     "text": [
      "400/400 [==============================] - 25s 59ms/step\n"
     ]
    }
   ],
   "source": [
    "# get predictions for the test dataset\n",
    "preds = model.predict(testset, verbose=1)"
   ]
  },
  {
   "cell_type": "code",
   "execution_count": 49,
   "id": "a425738d",
   "metadata": {},
   "outputs": [],
   "source": [
    "temp_testset = ref_testset.copy()\n",
    "\n",
    "temp_testset[\"label\"] = temp_testset[\"label\"].map(int)"
   ]
  },
  {
   "cell_type": "code",
   "execution_count": 50,
   "id": "7846413c",
   "metadata": {},
   "outputs": [
    {
     "data": {
      "text/plain": [
       "-0.028350615029280712"
      ]
     },
     "execution_count": 50,
     "metadata": {},
     "output_type": "execute_result"
    }
   ],
   "source": [
    "cohen_kappa_score(\n",
    "    y1=temp_testset[\"label\"].values,\n",
    "    y2=np.vectorize(lambda x: 1 if x > 0.5 else 0)(preds.ravel()),\n",
    "    labels=[0, 1],\n",
    ")"
   ]
  },
  {
   "cell_type": "code",
   "execution_count": 51,
   "id": "54151ddb",
   "metadata": {},
   "outputs": [
    {
     "name": "stdout",
     "output_type": "stream",
     "text": [
      "              precision    recall  f1-score   support\n",
      "\n",
      "           0       0.51      0.75      0.61      1667\n",
      "           1       0.45      0.22      0.30      1530\n",
      "\n",
      "    accuracy                           0.50      3197\n",
      "   macro avg       0.48      0.49      0.45      3197\n",
      "weighted avg       0.48      0.50      0.46      3197\n",
      "\n"
     ]
    }
   ],
   "source": [
    "print(\n",
    "    classification_report(\n",
    "        temp_testset[\"label\"].values,\n",
    "        np.vectorize(lambda x: 1 if x > 0.5 else 0)(preds.ravel()),\n",
    "    )\n",
    ")"
   ]
  },
  {
   "cell_type": "code",
   "execution_count": 52,
   "id": "d1306b32",
   "metadata": {},
   "outputs": [],
   "source": [
    "temp_testset[\"prediction\"] = preds.ravel()"
   ]
  },
  {
   "cell_type": "code",
   "execution_count": 53,
   "id": "e7620629",
   "metadata": {},
   "outputs": [],
   "source": [
    "temp_testset = pd.DataFrame(\n",
    "    [*study_oriented_transformation(temp_testset)],\n",
    "    columns=[\"study\", \"label\", \"prediction\"],\n",
    ")"
   ]
  },
  {
   "cell_type": "code",
   "execution_count": 54,
   "id": "82ed6666",
   "metadata": {
    "scrolled": false
   },
   "outputs": [
    {
     "data": {
      "text/plain": [
       "-0.059021449186313246"
      ]
     },
     "execution_count": 54,
     "metadata": {},
     "output_type": "execute_result"
    }
   ],
   "source": [
    "cohen_kappa_score(\n",
    "    y1=temp_testset[\"label\"].values, y2=temp_testset[\"prediction\"].values, labels=[0, 1]\n",
    ")"
   ]
  },
  {
   "cell_type": "code",
   "execution_count": 55,
   "id": "816fae38",
   "metadata": {},
   "outputs": [
    {
     "name": "stdout",
     "output_type": "stream",
     "text": [
      "              precision    recall  f1-score   support\n",
      "\n",
      "           0       0.53      0.76      0.63       661\n",
      "           1       0.38      0.19      0.25       538\n",
      "\n",
      "    accuracy                           0.50      1199\n",
      "   macro avg       0.46      0.47      0.44      1199\n",
      "weighted avg       0.47      0.50      0.46      1199\n",
      "\n"
     ]
    }
   ],
   "source": [
    "print(\n",
    "    classification_report(\n",
    "        temp_testset[\"label\"].values,\n",
    "        temp_testset[\"prediction\"].values,\n",
    "    )\n",
    ")"
   ]
  },
  {
   "cell_type": "code",
   "execution_count": 56,
   "id": "e9b1776c",
   "metadata": {},
   "outputs": [
    {
     "name": "stdout",
     "output_type": "stream",
     "text": [
      "WARNING:tensorflow:Compiled the loaded model, but the compiled metrics have yet to be built. `model.compile_metrics` will be empty until you train or evaluate the model.\n"
     ]
    }
   ],
   "source": [
    "# model naming convention: {architecture}-{which-study-type?}-{num-parameters}.h5\n",
    "#\n",
    "# to load models:\n",
    "# model = tf.keras.models.load_model(\n",
    "#     '../models/densenet169_pt_imagenet-all-study-types-12644545.h5',\n",
    "#     custom_objects={'F1Score': F1Score}\n",
    "# )\n",
    "# densenet = tf.keras.models.load_model(\n",
    "#     '../models/densenet169_base.h5',\n",
    "# )\n",
    "model.save(\"../models/densenet169_pt_imagenet-all-study-types-12644545.h5\")\n",
    "densenet.save(\"../models/densenet169_base.h5\")"
   ]
  },
  {
   "cell_type": "code",
   "execution_count": 57,
   "id": "9491c46f",
   "metadata": {},
   "outputs": [],
   "source": [
    "clean_up(model)\n",
    "clean_up(densenet)\n",
    "del temp_testset"
   ]
  }
 ],
 "metadata": {
  "kernelspec": {
   "display_name": "Python 3 (ipykernel)",
   "language": "python",
   "name": "python3"
  },
  "language_info": {
   "codemirror_mode": {
    "name": "ipython",
    "version": 3
   },
   "file_extension": ".py",
   "mimetype": "text/x-python",
   "name": "python",
   "nbconvert_exporter": "python",
   "pygments_lexer": "ipython3",
   "version": "3.8.10"
  }
 },
 "nbformat": 4,
 "nbformat_minor": 5
}
