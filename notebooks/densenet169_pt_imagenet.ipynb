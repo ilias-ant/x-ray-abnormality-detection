{
 "cells": [
  {
   "cell_type": "markdown",
   "id": "7a899787",
   "metadata": {},
   "source": [
    "## X-Ray Abnormality Detection | DenseNet-169, pretrained on ImageNet"
   ]
  },
  {
   "cell_type": "markdown",
   "id": "c7764e65",
   "metadata": {},
   "source": [
    "> **Antonopoulos Ilias** ( *p3352004* ) <br />\n",
    "> **Ndoja Silva** ( *p3352017* ) <br />\n",
    "> **MSc in Data Science, AUEB**"
   ]
  },
  {
   "cell_type": "markdown",
   "id": "aa71e65e",
   "metadata": {},
   "source": [
    "## Table of Contents\n",
    "\n",
    "- [Data Loading](#Data-Loading)\n",
    " * [Create a tensorflow input pipeline for the training data](#Create-a-tensorflow-input-pipeline-for-the-training-data)\n",
    "- [DenseNet169 architecture, pretrained on ImageNet](#DenseNet169-architecture,-pretrained-on-ImageNet)"
   ]
  },
  {
   "cell_type": "code",
   "execution_count": 1,
   "id": "99fc7dec",
   "metadata": {},
   "outputs": [],
   "source": [
    "import os\n",
    "import pathlib\n",
    "import random\n",
    "import re\n",
    "from glob import glob\n",
    "\n",
    "import matplotlib.pyplot as plt\n",
    "import numpy as np\n",
    "import pandas as pd\n",
    "import tensorflow as tf\n",
    "import tensorflow_addons as tfa\n",
    "from sklearn.metrics import cohen_kappa_score\n",
    "from sklearn.utils import shuffle\n",
    "\n",
    "from utils import (\n",
    "    clean_up,\n",
    "    F1Score,\n",
    "    inspect_df,\n",
    "    plot_metrics,\n",
    ")\n",
    "\n",
    "\n",
    "pd.set_option(\"max_colwidth\", None)\n",
    "plt.style.use(\"dark_background\")"
   ]
  },
  {
   "cell_type": "code",
   "execution_count": 2,
   "id": "6d6c351a",
   "metadata": {},
   "outputs": [
    {
     "name": "stdout",
     "output_type": "stream",
     "text": [
      "2.8.0\n"
     ]
    }
   ],
   "source": [
    "print(tf.__version__)"
   ]
  },
  {
   "cell_type": "code",
   "execution_count": 3,
   "id": "1fa8b39b",
   "metadata": {},
   "outputs": [
    {
     "name": "stdout",
     "output_type": "stream",
     "text": [
      "Num GPUs Available:  1\n"
     ]
    },
    {
     "name": "stderr",
     "output_type": "stream",
     "text": [
      "2022-04-03 03:25:49.496955: I tensorflow/stream_executor/cuda/cuda_gpu_executor.cc:936] successful NUMA node read from SysFS had negative value (-1), but there must be at least one NUMA node, so returning NUMA node zero\n",
      "2022-04-03 03:25:49.524557: I tensorflow/stream_executor/cuda/cuda_gpu_executor.cc:936] successful NUMA node read from SysFS had negative value (-1), but there must be at least one NUMA node, so returning NUMA node zero\n",
      "2022-04-03 03:25:49.524712: I tensorflow/stream_executor/cuda/cuda_gpu_executor.cc:936] successful NUMA node read from SysFS had negative value (-1), but there must be at least one NUMA node, so returning NUMA node zero\n"
     ]
    }
   ],
   "source": [
    "print(\"Num GPUs Available: \", len(tf.config.list_physical_devices(\"GPU\")))"
   ]
  },
  {
   "cell_type": "code",
   "execution_count": 4,
   "id": "8d64d949",
   "metadata": {},
   "outputs": [],
   "source": [
    "gpus = tf.config.experimental.list_physical_devices(\"GPU\")\n",
    "\n",
    "try:\n",
    "    tf.config.experimental.set_memory_growth(gpus[0], True)\n",
    "except IndexError:\n",
    "    print(\"Cannot memory-restrict the GPU, if no GPU exists in system. Ignore...\")\n",
    "    pass"
   ]
  },
  {
   "cell_type": "code",
   "execution_count": 5,
   "id": "a6659fde",
   "metadata": {},
   "outputs": [],
   "source": [
    "SEED = 99910123\n",
    "\n",
    "os.environ[\"PYTHONHASHSEED\"] = str(SEED)\n",
    "random.seed(SEED)\n",
    "tf.random.set_seed(SEED)\n",
    "np.random.seed(SEED)"
   ]
  },
  {
   "cell_type": "markdown",
   "id": "b5346f99",
   "metadata": {},
   "source": [
    "### Data Loading"
   ]
  },
  {
   "cell_type": "code",
   "execution_count": 6,
   "id": "5819c5d3",
   "metadata": {},
   "outputs": [],
   "source": [
    "DATASET_DIR = \"../data/MURA-v1.1/\""
   ]
  },
  {
   "cell_type": "code",
   "execution_count": 7,
   "id": "67d931da",
   "metadata": {},
   "outputs": [
    {
     "data": {
      "text/plain": [
       "['../data/MURA-v1.1/train/XR_WRIST/patient08092/study1_negative/image1.png',\n",
       " '../data/MURA-v1.1/train/XR_FINGER/patient01064/study1_positive/image1.png',\n",
       " '../data/MURA-v1.1/valid/XR_ELBOW/patient11831/study1_positive/image1.png',\n",
       " '../data/MURA-v1.1/train/XR_SHOULDER/patient00442/study1_positive/image1.png',\n",
       " '../data/MURA-v1.1/train/XR_ELBOW/patient06289/study1_negative/image3.png',\n",
       " '../data/MURA-v1.1/train/XR_WRIST/patient08562/study1_negative/image2.png',\n",
       " '../data/MURA-v1.1/train/XR_FINGER/patient04280/study1_negative/image3.png',\n",
       " '../data/MURA-v1.1/train/XR_WRIST/patient07018/study1_positive/image1.png',\n",
       " '../data/MURA-v1.1/train/XR_ELBOW/patient06000/study1_negative/image1.png',\n",
       " '../data/MURA-v1.1/train/XR_SHOULDER/patient00497/study2_negative/image4.png']"
      ]
     },
     "execution_count": 7,
     "metadata": {},
     "output_type": "execute_result"
    }
   ],
   "source": [
    "random.choices(glob(os.path.join(DATASET_DIR, \"*\", \"*\", \"*\", \"*\", \"*.png\")), k=10)"
   ]
  },
  {
   "cell_type": "markdown",
   "id": "3e68ad35",
   "metadata": {},
   "source": [
    "So, the data structure is the following:\n",
    "\n",
    "```\n",
    "\n",
    "└─train {data subset}\n",
    "│   └───XR_ELBOW {study type}\n",
    "│       │  └───patient00011 {patient}\n",
    "│       │         └───study1_negative {study with label}\n",
    "│       │               └───image1.png {view}\n",
    "│       │               └───image2.png \n",
    "│       │               └───image3.png \n",
    "                        └───...\n",
    "   ...\n",
    "   \n",
    "\n",
    "└─valid {data subset}\n",
    "│   └───XR_HUMERUS {study type}\n",
    "│       │  └───patient11216 {patient}\n",
    "│       │         └───study1_negative {study with label}\n",
    "│       │               └───image1.png {view}\n",
    "│       │               └───image2.png \n",
    "                        └───...\n",
    "```"
   ]
  },
  {
   "cell_type": "code",
   "execution_count": 8,
   "id": "0e99c8e4",
   "metadata": {},
   "outputs": [
    {
     "name": "stdout",
     "output_type": "stream",
     "text": [
      "Total PNG images found in dir <../data/MURA-v1.1/>: 40009\n"
     ]
    }
   ],
   "source": [
    "image_count = len(list(pathlib.Path(DATASET_DIR).glob(\"*/*/*/*/*.png\")))\n",
    "\n",
    "print(f\"Total PNG images found in dir <{DATASET_DIR}>: {image_count}\")"
   ]
  },
  {
   "cell_type": "markdown",
   "id": "e3cc7391",
   "metadata": {},
   "source": [
    "We will start by creating a tabular form of the training data (with no actual image files), in order to quickly analyze them. A proper data loader (of the actual image files) will be implemented after that, in a tensorflow-friendly manner."
   ]
  },
  {
   "cell_type": "code",
   "execution_count": 9,
   "id": "6ee568f1",
   "metadata": {
    "scrolled": false
   },
   "outputs": [
    {
     "name": "stdout",
     "output_type": "stream",
     "text": [
      "shape: (36808, 1)\n"
     ]
    },
    {
     "data": {
      "text/html": [
       "<div>\n",
       "<style scoped>\n",
       "    .dataframe tbody tr th:only-of-type {\n",
       "        vertical-align: middle;\n",
       "    }\n",
       "\n",
       "    .dataframe tbody tr th {\n",
       "        vertical-align: top;\n",
       "    }\n",
       "\n",
       "    .dataframe thead th {\n",
       "        text-align: right;\n",
       "    }\n",
       "</style>\n",
       "<table border=\"1\" class=\"dataframe\">\n",
       "  <thead>\n",
       "    <tr style=\"text-align: right;\">\n",
       "      <th></th>\n",
       "      <th>image_path</th>\n",
       "    </tr>\n",
       "  </thead>\n",
       "  <tbody>\n",
       "    <tr>\n",
       "      <th>0</th>\n",
       "      <td>MURA-v1.1/train/XR_SHOULDER/patient00001/study1_positive/image1.png</td>\n",
       "    </tr>\n",
       "    <tr>\n",
       "      <th>1</th>\n",
       "      <td>MURA-v1.1/train/XR_SHOULDER/patient00001/study1_positive/image2.png</td>\n",
       "    </tr>\n",
       "    <tr>\n",
       "      <th>2</th>\n",
       "      <td>MURA-v1.1/train/XR_SHOULDER/patient00001/study1_positive/image3.png</td>\n",
       "    </tr>\n",
       "    <tr>\n",
       "      <th>3</th>\n",
       "      <td>MURA-v1.1/train/XR_SHOULDER/patient00002/study1_positive/image1.png</td>\n",
       "    </tr>\n",
       "    <tr>\n",
       "      <th>4</th>\n",
       "      <td>MURA-v1.1/train/XR_SHOULDER/patient00002/study1_positive/image2.png</td>\n",
       "    </tr>\n",
       "  </tbody>\n",
       "</table>\n",
       "</div>"
      ],
      "text/plain": [
       "                                                            image_path\n",
       "0  MURA-v1.1/train/XR_SHOULDER/patient00001/study1_positive/image1.png\n",
       "1  MURA-v1.1/train/XR_SHOULDER/patient00001/study1_positive/image2.png\n",
       "2  MURA-v1.1/train/XR_SHOULDER/patient00001/study1_positive/image3.png\n",
       "3  MURA-v1.1/train/XR_SHOULDER/patient00002/study1_positive/image1.png\n",
       "4  MURA-v1.1/train/XR_SHOULDER/patient00002/study1_positive/image2.png"
      ]
     },
     "execution_count": 9,
     "metadata": {},
     "output_type": "execute_result"
    }
   ],
   "source": [
    "train_image_paths = pd.read_csv(\n",
    "    os.path.join(DATASET_DIR, \"train_image_paths.csv\"),\n",
    "    names=[\"image_path\"],\n",
    "    header=None,\n",
    "    index_col=False,\n",
    ")\n",
    "\n",
    "inspect_df(train_image_paths)"
   ]
  },
  {
   "cell_type": "code",
   "execution_count": 10,
   "id": "60a69725",
   "metadata": {},
   "outputs": [],
   "source": [
    "train_image_paths[\"image_path\"] = train_image_paths[\"image_path\"].map(\n",
    "    lambda x: os.path.join(\"../data/\", x)\n",
    ")\n",
    "train_image_paths[\"study_type\"] = train_image_paths[\"image_path\"].map(\n",
    "    lambda x: x.split(\"/\")[4]\n",
    ")\n",
    "train_image_paths[\"patient\"] = train_image_paths[\"image_path\"].map(\n",
    "    lambda x: x.split(\"/\")[5]\n",
    ")\n",
    "train_image_paths[\"study\"] = train_image_paths[\"image_path\"].map(\n",
    "    lambda x: x.split(\"/\")[6]\n",
    ")\n",
    "train_image_paths[\"study_path\"] = train_image_paths[\"image_path\"].map(\n",
    "    lambda x: re.sub(r\"image\\d+.png\", \"\", x)\n",
    ")"
   ]
  },
  {
   "cell_type": "code",
   "execution_count": 11,
   "id": "d073e76e",
   "metadata": {},
   "outputs": [
    {
     "name": "stdout",
     "output_type": "stream",
     "text": [
      "shape: (36808, 5)\n"
     ]
    },
    {
     "data": {
      "text/html": [
       "<div>\n",
       "<style scoped>\n",
       "    .dataframe tbody tr th:only-of-type {\n",
       "        vertical-align: middle;\n",
       "    }\n",
       "\n",
       "    .dataframe tbody tr th {\n",
       "        vertical-align: top;\n",
       "    }\n",
       "\n",
       "    .dataframe thead th {\n",
       "        text-align: right;\n",
       "    }\n",
       "</style>\n",
       "<table border=\"1\" class=\"dataframe\">\n",
       "  <thead>\n",
       "    <tr style=\"text-align: right;\">\n",
       "      <th></th>\n",
       "      <th>image_path</th>\n",
       "      <th>study_type</th>\n",
       "      <th>patient</th>\n",
       "      <th>study</th>\n",
       "      <th>study_path</th>\n",
       "    </tr>\n",
       "  </thead>\n",
       "  <tbody>\n",
       "    <tr>\n",
       "      <th>0</th>\n",
       "      <td>../data/MURA-v1.1/train/XR_SHOULDER/patient00001/study1_positive/image1.png</td>\n",
       "      <td>XR_SHOULDER</td>\n",
       "      <td>patient00001</td>\n",
       "      <td>study1_positive</td>\n",
       "      <td>../data/MURA-v1.1/train/XR_SHOULDER/patient00001/study1_positive/</td>\n",
       "    </tr>\n",
       "    <tr>\n",
       "      <th>1</th>\n",
       "      <td>../data/MURA-v1.1/train/XR_SHOULDER/patient00001/study1_positive/image2.png</td>\n",
       "      <td>XR_SHOULDER</td>\n",
       "      <td>patient00001</td>\n",
       "      <td>study1_positive</td>\n",
       "      <td>../data/MURA-v1.1/train/XR_SHOULDER/patient00001/study1_positive/</td>\n",
       "    </tr>\n",
       "    <tr>\n",
       "      <th>2</th>\n",
       "      <td>../data/MURA-v1.1/train/XR_SHOULDER/patient00001/study1_positive/image3.png</td>\n",
       "      <td>XR_SHOULDER</td>\n",
       "      <td>patient00001</td>\n",
       "      <td>study1_positive</td>\n",
       "      <td>../data/MURA-v1.1/train/XR_SHOULDER/patient00001/study1_positive/</td>\n",
       "    </tr>\n",
       "    <tr>\n",
       "      <th>3</th>\n",
       "      <td>../data/MURA-v1.1/train/XR_SHOULDER/patient00002/study1_positive/image1.png</td>\n",
       "      <td>XR_SHOULDER</td>\n",
       "      <td>patient00002</td>\n",
       "      <td>study1_positive</td>\n",
       "      <td>../data/MURA-v1.1/train/XR_SHOULDER/patient00002/study1_positive/</td>\n",
       "    </tr>\n",
       "    <tr>\n",
       "      <th>4</th>\n",
       "      <td>../data/MURA-v1.1/train/XR_SHOULDER/patient00002/study1_positive/image2.png</td>\n",
       "      <td>XR_SHOULDER</td>\n",
       "      <td>patient00002</td>\n",
       "      <td>study1_positive</td>\n",
       "      <td>../data/MURA-v1.1/train/XR_SHOULDER/patient00002/study1_positive/</td>\n",
       "    </tr>\n",
       "  </tbody>\n",
       "</table>\n",
       "</div>"
      ],
      "text/plain": [
       "                                                                    image_path  \\\n",
       "0  ../data/MURA-v1.1/train/XR_SHOULDER/patient00001/study1_positive/image1.png   \n",
       "1  ../data/MURA-v1.1/train/XR_SHOULDER/patient00001/study1_positive/image2.png   \n",
       "2  ../data/MURA-v1.1/train/XR_SHOULDER/patient00001/study1_positive/image3.png   \n",
       "3  ../data/MURA-v1.1/train/XR_SHOULDER/patient00002/study1_positive/image1.png   \n",
       "4  ../data/MURA-v1.1/train/XR_SHOULDER/patient00002/study1_positive/image2.png   \n",
       "\n",
       "    study_type       patient            study  \\\n",
       "0  XR_SHOULDER  patient00001  study1_positive   \n",
       "1  XR_SHOULDER  patient00001  study1_positive   \n",
       "2  XR_SHOULDER  patient00001  study1_positive   \n",
       "3  XR_SHOULDER  patient00002  study1_positive   \n",
       "4  XR_SHOULDER  patient00002  study1_positive   \n",
       "\n",
       "                                                          study_path  \n",
       "0  ../data/MURA-v1.1/train/XR_SHOULDER/patient00001/study1_positive/  \n",
       "1  ../data/MURA-v1.1/train/XR_SHOULDER/patient00001/study1_positive/  \n",
       "2  ../data/MURA-v1.1/train/XR_SHOULDER/patient00001/study1_positive/  \n",
       "3  ../data/MURA-v1.1/train/XR_SHOULDER/patient00002/study1_positive/  \n",
       "4  ../data/MURA-v1.1/train/XR_SHOULDER/patient00002/study1_positive/  "
      ]
     },
     "execution_count": 11,
     "metadata": {},
     "output_type": "execute_result"
    }
   ],
   "source": [
    "inspect_df(train_image_paths)"
   ]
  },
  {
   "cell_type": "code",
   "execution_count": 12,
   "id": "59cf2544",
   "metadata": {
    "scrolled": false
   },
   "outputs": [
    {
     "name": "stdout",
     "output_type": "stream",
     "text": [
      "shape: (13457, 2)\n"
     ]
    },
    {
     "data": {
      "text/html": [
       "<div>\n",
       "<style scoped>\n",
       "    .dataframe tbody tr th:only-of-type {\n",
       "        vertical-align: middle;\n",
       "    }\n",
       "\n",
       "    .dataframe tbody tr th {\n",
       "        vertical-align: top;\n",
       "    }\n",
       "\n",
       "    .dataframe thead th {\n",
       "        text-align: right;\n",
       "    }\n",
       "</style>\n",
       "<table border=\"1\" class=\"dataframe\">\n",
       "  <thead>\n",
       "    <tr style=\"text-align: right;\">\n",
       "      <th></th>\n",
       "      <th>study_path</th>\n",
       "      <th>label</th>\n",
       "    </tr>\n",
       "  </thead>\n",
       "  <tbody>\n",
       "    <tr>\n",
       "      <th>0</th>\n",
       "      <td>MURA-v1.1/train/XR_SHOULDER/patient00001/study1_positive/</td>\n",
       "      <td>1</td>\n",
       "    </tr>\n",
       "    <tr>\n",
       "      <th>1</th>\n",
       "      <td>MURA-v1.1/train/XR_SHOULDER/patient00002/study1_positive/</td>\n",
       "      <td>1</td>\n",
       "    </tr>\n",
       "    <tr>\n",
       "      <th>2</th>\n",
       "      <td>MURA-v1.1/train/XR_SHOULDER/patient00003/study1_positive/</td>\n",
       "      <td>1</td>\n",
       "    </tr>\n",
       "    <tr>\n",
       "      <th>3</th>\n",
       "      <td>MURA-v1.1/train/XR_SHOULDER/patient00004/study1_positive/</td>\n",
       "      <td>1</td>\n",
       "    </tr>\n",
       "    <tr>\n",
       "      <th>4</th>\n",
       "      <td>MURA-v1.1/train/XR_SHOULDER/patient00005/study1_positive/</td>\n",
       "      <td>1</td>\n",
       "    </tr>\n",
       "  </tbody>\n",
       "</table>\n",
       "</div>"
      ],
      "text/plain": [
       "                                                  study_path  label\n",
       "0  MURA-v1.1/train/XR_SHOULDER/patient00001/study1_positive/      1\n",
       "1  MURA-v1.1/train/XR_SHOULDER/patient00002/study1_positive/      1\n",
       "2  MURA-v1.1/train/XR_SHOULDER/patient00003/study1_positive/      1\n",
       "3  MURA-v1.1/train/XR_SHOULDER/patient00004/study1_positive/      1\n",
       "4  MURA-v1.1/train/XR_SHOULDER/patient00005/study1_positive/      1"
      ]
     },
     "execution_count": 12,
     "metadata": {},
     "output_type": "execute_result"
    }
   ],
   "source": [
    "train_labeled_studies = pd.read_csv(\n",
    "    os.path.join(DATASET_DIR, \"train_labeled_studies.csv\"),\n",
    "    names=[\"study_path\", \"label\"],\n",
    "    header=None,\n",
    "    index_col=False,\n",
    ")\n",
    "\n",
    "inspect_df(train_labeled_studies)"
   ]
  },
  {
   "cell_type": "code",
   "execution_count": 13,
   "id": "df9a7f5d",
   "metadata": {},
   "outputs": [],
   "source": [
    "train_labeled_studies[\"study_path\"] = train_labeled_studies[\"study_path\"].map(\n",
    "    lambda x: os.path.join(\"../data/\", x)\n",
    ")\n",
    "train_labeled_studies[\"label\"] = train_labeled_studies[\"label\"].map(str)"
   ]
  },
  {
   "cell_type": "code",
   "execution_count": 14,
   "id": "408b169b",
   "metadata": {
    "scrolled": false
   },
   "outputs": [
    {
     "name": "stdout",
     "output_type": "stream",
     "text": [
      "shape: (13457, 2)\n"
     ]
    },
    {
     "data": {
      "text/html": [
       "<div>\n",
       "<style scoped>\n",
       "    .dataframe tbody tr th:only-of-type {\n",
       "        vertical-align: middle;\n",
       "    }\n",
       "\n",
       "    .dataframe tbody tr th {\n",
       "        vertical-align: top;\n",
       "    }\n",
       "\n",
       "    .dataframe thead th {\n",
       "        text-align: right;\n",
       "    }\n",
       "</style>\n",
       "<table border=\"1\" class=\"dataframe\">\n",
       "  <thead>\n",
       "    <tr style=\"text-align: right;\">\n",
       "      <th></th>\n",
       "      <th>study_path</th>\n",
       "      <th>label</th>\n",
       "    </tr>\n",
       "  </thead>\n",
       "  <tbody>\n",
       "    <tr>\n",
       "      <th>0</th>\n",
       "      <td>../data/MURA-v1.1/train/XR_SHOULDER/patient00001/study1_positive/</td>\n",
       "      <td>1</td>\n",
       "    </tr>\n",
       "    <tr>\n",
       "      <th>1</th>\n",
       "      <td>../data/MURA-v1.1/train/XR_SHOULDER/patient00002/study1_positive/</td>\n",
       "      <td>1</td>\n",
       "    </tr>\n",
       "    <tr>\n",
       "      <th>2</th>\n",
       "      <td>../data/MURA-v1.1/train/XR_SHOULDER/patient00003/study1_positive/</td>\n",
       "      <td>1</td>\n",
       "    </tr>\n",
       "    <tr>\n",
       "      <th>3</th>\n",
       "      <td>../data/MURA-v1.1/train/XR_SHOULDER/patient00004/study1_positive/</td>\n",
       "      <td>1</td>\n",
       "    </tr>\n",
       "    <tr>\n",
       "      <th>4</th>\n",
       "      <td>../data/MURA-v1.1/train/XR_SHOULDER/patient00005/study1_positive/</td>\n",
       "      <td>1</td>\n",
       "    </tr>\n",
       "  </tbody>\n",
       "</table>\n",
       "</div>"
      ],
      "text/plain": [
       "                                                          study_path label\n",
       "0  ../data/MURA-v1.1/train/XR_SHOULDER/patient00001/study1_positive/     1\n",
       "1  ../data/MURA-v1.1/train/XR_SHOULDER/patient00002/study1_positive/     1\n",
       "2  ../data/MURA-v1.1/train/XR_SHOULDER/patient00003/study1_positive/     1\n",
       "3  ../data/MURA-v1.1/train/XR_SHOULDER/patient00004/study1_positive/     1\n",
       "4  ../data/MURA-v1.1/train/XR_SHOULDER/patient00005/study1_positive/     1"
      ]
     },
     "execution_count": 14,
     "metadata": {},
     "output_type": "execute_result"
    }
   ],
   "source": [
    "inspect_df(train_labeled_studies)"
   ]
  },
  {
   "cell_type": "code",
   "execution_count": 15,
   "id": "98c49b41",
   "metadata": {
    "scrolled": true
   },
   "outputs": [
    {
     "name": "stdout",
     "output_type": "stream",
     "text": [
      "shape: (36808, 6)\n"
     ]
    },
    {
     "data": {
      "text/html": [
       "<div>\n",
       "<style scoped>\n",
       "    .dataframe tbody tr th:only-of-type {\n",
       "        vertical-align: middle;\n",
       "    }\n",
       "\n",
       "    .dataframe tbody tr th {\n",
       "        vertical-align: top;\n",
       "    }\n",
       "\n",
       "    .dataframe thead th {\n",
       "        text-align: right;\n",
       "    }\n",
       "</style>\n",
       "<table border=\"1\" class=\"dataframe\">\n",
       "  <thead>\n",
       "    <tr style=\"text-align: right;\">\n",
       "      <th></th>\n",
       "      <th>image_path</th>\n",
       "      <th>study_type</th>\n",
       "      <th>patient</th>\n",
       "      <th>study</th>\n",
       "      <th>study_path</th>\n",
       "      <th>label</th>\n",
       "    </tr>\n",
       "  </thead>\n",
       "  <tbody>\n",
       "    <tr>\n",
       "      <th>0</th>\n",
       "      <td>../data/MURA-v1.1/train/XR_SHOULDER/patient00001/study1_positive/image1.png</td>\n",
       "      <td>XR_SHOULDER</td>\n",
       "      <td>patient00001</td>\n",
       "      <td>study1_positive</td>\n",
       "      <td>../data/MURA-v1.1/train/XR_SHOULDER/patient00001/study1_positive/</td>\n",
       "      <td>1</td>\n",
       "    </tr>\n",
       "    <tr>\n",
       "      <th>1</th>\n",
       "      <td>../data/MURA-v1.1/train/XR_SHOULDER/patient00001/study1_positive/image2.png</td>\n",
       "      <td>XR_SHOULDER</td>\n",
       "      <td>patient00001</td>\n",
       "      <td>study1_positive</td>\n",
       "      <td>../data/MURA-v1.1/train/XR_SHOULDER/patient00001/study1_positive/</td>\n",
       "      <td>1</td>\n",
       "    </tr>\n",
       "    <tr>\n",
       "      <th>2</th>\n",
       "      <td>../data/MURA-v1.1/train/XR_SHOULDER/patient00001/study1_positive/image3.png</td>\n",
       "      <td>XR_SHOULDER</td>\n",
       "      <td>patient00001</td>\n",
       "      <td>study1_positive</td>\n",
       "      <td>../data/MURA-v1.1/train/XR_SHOULDER/patient00001/study1_positive/</td>\n",
       "      <td>1</td>\n",
       "    </tr>\n",
       "    <tr>\n",
       "      <th>3</th>\n",
       "      <td>../data/MURA-v1.1/train/XR_SHOULDER/patient00002/study1_positive/image1.png</td>\n",
       "      <td>XR_SHOULDER</td>\n",
       "      <td>patient00002</td>\n",
       "      <td>study1_positive</td>\n",
       "      <td>../data/MURA-v1.1/train/XR_SHOULDER/patient00002/study1_positive/</td>\n",
       "      <td>1</td>\n",
       "    </tr>\n",
       "    <tr>\n",
       "      <th>4</th>\n",
       "      <td>../data/MURA-v1.1/train/XR_SHOULDER/patient00002/study1_positive/image2.png</td>\n",
       "      <td>XR_SHOULDER</td>\n",
       "      <td>patient00002</td>\n",
       "      <td>study1_positive</td>\n",
       "      <td>../data/MURA-v1.1/train/XR_SHOULDER/patient00002/study1_positive/</td>\n",
       "      <td>1</td>\n",
       "    </tr>\n",
       "  </tbody>\n",
       "</table>\n",
       "</div>"
      ],
      "text/plain": [
       "                                                                    image_path  \\\n",
       "0  ../data/MURA-v1.1/train/XR_SHOULDER/patient00001/study1_positive/image1.png   \n",
       "1  ../data/MURA-v1.1/train/XR_SHOULDER/patient00001/study1_positive/image2.png   \n",
       "2  ../data/MURA-v1.1/train/XR_SHOULDER/patient00001/study1_positive/image3.png   \n",
       "3  ../data/MURA-v1.1/train/XR_SHOULDER/patient00002/study1_positive/image1.png   \n",
       "4  ../data/MURA-v1.1/train/XR_SHOULDER/patient00002/study1_positive/image2.png   \n",
       "\n",
       "    study_type       patient            study  \\\n",
       "0  XR_SHOULDER  patient00001  study1_positive   \n",
       "1  XR_SHOULDER  patient00001  study1_positive   \n",
       "2  XR_SHOULDER  patient00001  study1_positive   \n",
       "3  XR_SHOULDER  patient00002  study1_positive   \n",
       "4  XR_SHOULDER  patient00002  study1_positive   \n",
       "\n",
       "                                                          study_path label  \n",
       "0  ../data/MURA-v1.1/train/XR_SHOULDER/patient00001/study1_positive/     1  \n",
       "1  ../data/MURA-v1.1/train/XR_SHOULDER/patient00001/study1_positive/     1  \n",
       "2  ../data/MURA-v1.1/train/XR_SHOULDER/patient00001/study1_positive/     1  \n",
       "3  ../data/MURA-v1.1/train/XR_SHOULDER/patient00002/study1_positive/     1  \n",
       "4  ../data/MURA-v1.1/train/XR_SHOULDER/patient00002/study1_positive/     1  "
      ]
     },
     "execution_count": 15,
     "metadata": {},
     "output_type": "execute_result"
    }
   ],
   "source": [
    "ref_trainset = pd.merge(\n",
    "    train_image_paths, train_labeled_studies, how=\"inner\", on=\"study_path\"\n",
    ")\n",
    "\n",
    "inspect_df(ref_trainset)"
   ]
  },
  {
   "cell_type": "markdown",
   "id": "41eafe23",
   "metadata": {},
   "source": [
    "#### Create a tensorflow input pipeline for the training data"
   ]
  },
  {
   "cell_type": "code",
   "execution_count": 16,
   "id": "19f477b2",
   "metadata": {},
   "outputs": [],
   "source": [
    "IMAGE_WIDTH = 224\n",
    "IMAGE_HEIGHT = 224"
   ]
  },
  {
   "cell_type": "markdown",
   "id": "135b50bf",
   "metadata": {},
   "source": [
    "Since image directory follows a specific ontological structure (7 upper extremities aka study types) we will shuffle the training dataset beforehand in order to ensure that the validation set will be representable of all study types. \n",
    "\n",
    "This is due to the fact that tf.keras `tf.keras.preprocessing.image.ImageDataGenerator` first performs the train-val split and then shuffles per epoch by default."
   ]
  },
  {
   "cell_type": "code",
   "execution_count": 17,
   "id": "ecdf24d7",
   "metadata": {},
   "outputs": [],
   "source": [
    "ref_trainset = shuffle(ref_trainset, random_state=SEED)"
   ]
  },
  {
   "cell_type": "code",
   "execution_count": 18,
   "id": "c8637a1c",
   "metadata": {},
   "outputs": [],
   "source": [
    "training = tf.keras.preprocessing.image.ImageDataGenerator(\n",
    "    rotation_range=30,\n",
    "    horizontal_flip=True,\n",
    "    fill_mode=\"constant\",\n",
    "    cval=0.0,\n",
    "    validation_split=0.2,\n",
    "    preprocessing_function=tf.keras.applications.densenet.preprocess_input,\n",
    ")"
   ]
  },
  {
   "cell_type": "code",
   "execution_count": 19,
   "id": "21f38eee",
   "metadata": {},
   "outputs": [
    {
     "name": "stdout",
     "output_type": "stream",
     "text": [
      "Found 29447 validated image filenames belonging to 2 classes.\n"
     ]
    }
   ],
   "source": [
    "trainset = training.flow_from_dataframe(\n",
    "    dataframe=ref_trainset,\n",
    "    x_col=\"image_path\",\n",
    "    y_col=\"label\",\n",
    "    target_size=(IMAGE_WIDTH, IMAGE_HEIGHT),\n",
    "    class_mode=\"binary\",\n",
    "    batch_size=8,\n",
    "    seed=SEED,\n",
    "    shuffle=True,\n",
    "    subset=\"training\",\n",
    ")"
   ]
  },
  {
   "cell_type": "code",
   "execution_count": 20,
   "id": "3d3baff1",
   "metadata": {},
   "outputs": [
    {
     "name": "stdout",
     "output_type": "stream",
     "text": [
      "Found 7361 validated image filenames belonging to 2 classes.\n"
     ]
    }
   ],
   "source": [
    "validationset = training.flow_from_dataframe(\n",
    "    dataframe=ref_trainset,\n",
    "    x_col=\"image_path\",\n",
    "    y_col=\"label\",\n",
    "    target_size=(IMAGE_WIDTH, IMAGE_HEIGHT),\n",
    "    class_mode=\"binary\",\n",
    "    batch_size=8,\n",
    "    seed=SEED,\n",
    "    shuffle=False,\n",
    "    subset=\"validation\",\n",
    ")"
   ]
  },
  {
   "cell_type": "markdown",
   "id": "92e2665b",
   "metadata": {},
   "source": [
    "### DenseNet169 architecture, pretrained on ImageNet"
   ]
  },
  {
   "cell_type": "code",
   "execution_count": 21,
   "id": "4e3a6125",
   "metadata": {},
   "outputs": [
    {
     "name": "stderr",
     "output_type": "stream",
     "text": [
      "2022-04-03 03:25:53.928639: I tensorflow/core/platform/cpu_feature_guard.cc:151] This TensorFlow binary is optimized with oneAPI Deep Neural Network Library (oneDNN) to use the following CPU instructions in performance-critical operations:  AVX2 FMA\n",
      "To enable them in other operations, rebuild TensorFlow with the appropriate compiler flags.\n",
      "2022-04-03 03:25:53.929854: I tensorflow/stream_executor/cuda/cuda_gpu_executor.cc:936] successful NUMA node read from SysFS had negative value (-1), but there must be at least one NUMA node, so returning NUMA node zero\n",
      "2022-04-03 03:25:53.930034: I tensorflow/stream_executor/cuda/cuda_gpu_executor.cc:936] successful NUMA node read from SysFS had negative value (-1), but there must be at least one NUMA node, so returning NUMA node zero\n",
      "2022-04-03 03:25:53.930148: I tensorflow/stream_executor/cuda/cuda_gpu_executor.cc:936] successful NUMA node read from SysFS had negative value (-1), but there must be at least one NUMA node, so returning NUMA node zero\n",
      "2022-04-03 03:25:54.652058: I tensorflow/stream_executor/cuda/cuda_gpu_executor.cc:936] successful NUMA node read from SysFS had negative value (-1), but there must be at least one NUMA node, so returning NUMA node zero\n",
      "2022-04-03 03:25:54.652241: I tensorflow/stream_executor/cuda/cuda_gpu_executor.cc:936] successful NUMA node read from SysFS had negative value (-1), but there must be at least one NUMA node, so returning NUMA node zero\n",
      "2022-04-03 03:25:54.652363: I tensorflow/stream_executor/cuda/cuda_gpu_executor.cc:936] successful NUMA node read from SysFS had negative value (-1), but there must be at least one NUMA node, so returning NUMA node zero\n",
      "2022-04-03 03:25:54.652716: I tensorflow/core/common_runtime/gpu/gpu_device.cc:1525] Created device /job:localhost/replica:0/task:0/device:GPU:0 with 2169 MB memory:  -> device: 0, name: Quadro T1000, pci bus id: 0000:01:00.0, compute capability: 7.5\n"
     ]
    }
   ],
   "source": [
    "METRICS = [\n",
    "    tf.keras.metrics.TruePositives(name=\"tp\"),\n",
    "    tf.keras.metrics.FalsePositives(name=\"fp\"),\n",
    "    tf.keras.metrics.TrueNegatives(name=\"tn\"),\n",
    "    tf.keras.metrics.FalseNegatives(name=\"fn\"),\n",
    "    tf.keras.metrics.BinaryAccuracy(name=\"binary_acc\"),\n",
    "    tf.keras.metrics.Precision(name=\"precision\"),\n",
    "    tf.keras.metrics.Recall(name=\"recall\"),\n",
    "    F1Score(name=\"f1_score\"),\n",
    "    tf.keras.metrics.AUC(name=\"roc_auc\", curve=\"ROC\"),\n",
    "    tf.keras.metrics.AUC(name=\"pr_auc\", curve=\"PR\"),\n",
    "    tfa.metrics.CohenKappa(name=\"cohen_kappa\", num_classes=2),\n",
    "]"
   ]
  },
  {
   "cell_type": "code",
   "execution_count": 22,
   "id": "30921b05",
   "metadata": {},
   "outputs": [],
   "source": [
    "\"\"\"\n",
    "Densenet-169 model from `\"Densely Connected Convolutional Networks\" <https://arxiv.org/pdf/1608.06993.pdf>`_.\n",
    "\n",
    "We will opt for max pooling for feature extraction, since we want to \"emphasize\" any sharp features on the image\n",
    "(e.g hardware placed on human body that most definitely suggests abnormality).\n",
    "\"\"\"\n",
    "densenet = tf.keras.applications.densenet.DenseNet169(\n",
    "    include_top=False,  # do not include the fully-connected layer at the top of the network\n",
    "    weights=\"imagenet\",\n",
    "    input_shape=(IMAGE_WIDTH, IMAGE_HEIGHT, 3),\n",
    "    pooling=\"max\",  # pooling mode for feature extraction\n",
    "    classes=2,\n",
    ")"
   ]
  },
  {
   "cell_type": "code",
   "execution_count": 23,
   "id": "202355bd",
   "metadata": {},
   "outputs": [],
   "source": [
    "def make_densenet_model(\n",
    "    base_model: tf.keras.applications.densenet.DenseNet169,\n",
    ") -> tf.keras.Model:\n",
    "\n",
    "    # freeze base model\n",
    "    base_model.trainable = False\n",
    "\n",
    "    inputs = tf.keras.Input(shape=(IMAGE_WIDTH, IMAGE_HEIGHT, 3))\n",
    "    x = base_model(inputs, training=False)\n",
    "    x = tf.keras.layers.Dropout(rate=0.2)(x)\n",
    "    output = tf.keras.layers.Dense(units=1, activation=\"sigmoid\")(x)\n",
    "\n",
    "    model = tf.keras.Model(inputs, output)\n",
    "\n",
    "    model.compile(\n",
    "        optimizer=tf.keras.optimizers.Adam(learning_rate=0.0001),\n",
    "        loss=tf.keras.losses.BinaryCrossentropy(),\n",
    "        metrics=METRICS,\n",
    "    )\n",
    "\n",
    "    return model"
   ]
  },
  {
   "cell_type": "code",
   "execution_count": 24,
   "id": "b2e68f4f",
   "metadata": {},
   "outputs": [],
   "source": [
    "model = make_densenet_model(base_model=densenet)"
   ]
  },
  {
   "cell_type": "code",
   "execution_count": 25,
   "id": "1c19ad13",
   "metadata": {
    "scrolled": false
   },
   "outputs": [
    {
     "name": "stdout",
     "output_type": "stream",
     "text": [
      "Model: \"model\"\n",
      "_________________________________________________________________\n",
      " Layer (type)                Output Shape              Param #   \n",
      "=================================================================\n",
      " input_2 (InputLayer)        [(None, 224, 224, 3)]     0         \n",
      "                                                                 \n",
      " densenet169 (Functional)    (None, 1664)              12642880  \n",
      "                                                                 \n",
      " dropout (Dropout)           (None, 1664)              0         \n",
      "                                                                 \n",
      " dense (Dense)               (None, 1)                 1665      \n",
      "                                                                 \n",
      "=================================================================\n",
      "Total params: 12,644,545\n",
      "Trainable params: 1,665\n",
      "Non-trainable params: 12,642,880\n",
      "_________________________________________________________________\n"
     ]
    }
   ],
   "source": [
    "model.summary()"
   ]
  },
  {
   "cell_type": "code",
   "execution_count": 26,
   "id": "97981226",
   "metadata": {
    "scrolled": false
   },
   "outputs": [
    {
     "data": {
      "image/png": "[encoded data removed]",
      "text/plain": [
       "<IPython.core.display.Image object>"
      ]
     },
     "execution_count": 26,
     "metadata": {},
     "output_type": "execute_result"
    }
   ],
   "source": [
    "tf.keras.utils.plot_model(\n",
    "    model,\n",
    "    to_file=f\"../static/densenet169_pt_imagenet-all-study-types-{model.count_params()}.png\",\n",
    "    show_shapes=True,\n",
    "    show_layer_names=True,\n",
    ")"
   ]
  },
  {
   "cell_type": "code",
   "execution_count": 27,
   "id": "4213d77b",
   "metadata": {},
   "outputs": [],
   "source": [
    "early_stopping = tf.keras.callbacks.EarlyStopping(\n",
    "    monitor=\"val_cohen_kappa\",\n",
    "    verbose=1,\n",
    "    patience=5,\n",
    "    mode=\"max\",\n",
    "    baseline=0.0,\n",
    "    restore_best_weights=True,\n",
    ")"
   ]
  },
  {
   "cell_type": "code",
   "execution_count": 28,
   "id": "aa319ec8",
   "metadata": {
    "scrolled": false
   },
   "outputs": [
    {
     "name": "stdout",
     "output_type": "stream",
     "text": [
      "Epoch 1/20\n"
     ]
    },
    {
     "name": "stderr",
     "output_type": "stream",
     "text": [
      "2022-04-03 03:26:05.701330: I tensorflow/stream_executor/cuda/cuda_dnn.cc:368] Loaded cuDNN version 8303\n",
      "2022-04-03 03:26:07.139352: W tensorflow/core/common_runtime/bfc_allocator.cc:343] Garbage collection: deallocate free memory regions (i.e., allocations) so that we can re-allocate a larger region to avoid OOM due to memory fragmentation. If you see this message frequently, you are running near the threshold of the available device memory and re-allocation may incur great performance overhead. You may try smaller batch sizes to observe the performance impact. Set TF_ENABLE_GPU_GARBAGE_COLLECTION=false if you'd like to disable this feature.\n"
     ]
    },
    {
     "name": "stdout",
     "output_type": "stream",
     "text": [
      "3681/3681 [==============================] - 376s 99ms/step - loss: 1.0214 - tp: 5496.0000 - fp: 5943.0000 - tn: 11573.0000 - fn: 6435.0000 - binary_acc: 0.5797 - precision: 0.4805 - recall: 0.4606 - f1_score: 0.4703 - roc_auc: 0.5882 - pr_auc: 0.4833 - cohen_kappa: 0.1222 - val_loss: 0.6823 - val_tp: 1162.0000 - val_fp: 696.0000 - val_tn: 3723.0000 - val_fn: 1780.0000 - val_binary_acc: 0.6636 - val_precision: 0.6254 - val_recall: 0.3950 - val_f1_score: 0.4842 - val_roc_auc: 0.6933 - val_pr_auc: 0.6024 - val_cohen_kappa: 0.2530\n",
      "Epoch 2/20\n",
      "3681/3681 [==============================] - 346s 94ms/step - loss: 0.7153 - tp: 6240.0000 - fp: 4645.0000 - tn: 12871.0000 - fn: 5691.0000 - binary_acc: 0.6490 - precision: 0.5733 - recall: 0.5230 - f1_score: 0.5470 - roc_auc: 0.6847 - pr_auc: 0.6005 - cohen_kappa: 0.2615 - val_loss: 0.5894 - val_tp: 1264.0000 - val_fp: 512.0000 - val_tn: 3907.0000 - val_fn: 1678.0000 - val_binary_acc: 0.7025 - val_precision: 0.7117 - val_recall: 0.4296 - val_f1_score: 0.5358 - val_roc_auc: 0.7429 - val_pr_auc: 0.6805 - val_cohen_kappa: 0.3360\n",
      "Epoch 3/20\n",
      "3681/3681 [==============================] - 343s 93ms/step - loss: 0.6260 - tp: 6452.0000 - fp: 3987.0000 - tn: 13529.0000 - fn: 5479.0000 - binary_acc: 0.6785 - precision: 0.6181 - recall: 0.5408 - f1_score: 0.5768 - roc_auc: 0.7218 - pr_auc: 0.6499 - cohen_kappa: 0.3195 - val_loss: 0.5562 - val_tp: 1521.0000 - val_fp: 654.0000 - val_tn: 3765.0000 - val_fn: 1421.0000 - val_binary_acc: 0.7181 - val_precision: 0.6993 - val_recall: 0.5170 - val_f1_score: 0.5945 - val_roc_auc: 0.7677 - val_pr_auc: 0.7100 - val_cohen_kappa: 0.3858\n",
      "Epoch 4/20\n",
      "3681/3681 [==============================] - 344s 93ms/step - loss: 0.5929 - tp: 6506.0000 - fp: 3588.0000 - tn: 13928.0000 - fn: 5425.0000 - binary_acc: 0.6939 - precision: 0.6445 - recall: 0.5453 - f1_score: 0.5908 - roc_auc: 0.7391 - pr_auc: 0.6749 - cohen_kappa: 0.3490 - val_loss: 0.5503 - val_tp: 1539.0000 - val_fp: 615.0000 - val_tn: 3804.0000 - val_fn: 1403.0000 - val_binary_acc: 0.7259 - val_precision: 0.7145 - val_recall: 0.5231 - val_f1_score: 0.6040 - val_roc_auc: 0.7743 - val_pr_auc: 0.7192 - val_cohen_kappa: 0.4019\n",
      "Epoch 5/20\n",
      "3681/3681 [==============================] - 344s 93ms/step - loss: 0.5827 - tp: 6414.0000 - fp: 3386.0000 - tn: 14130.0000 - fn: 5517.0000 - binary_acc: 0.6977 - precision: 0.6545 - recall: 0.5376 - f1_score: 0.5903 - roc_auc: 0.7440 - pr_auc: 0.6835 - cohen_kappa: 0.3544 - val_loss: 0.5739 - val_tp: 1036.0000 - val_fp: 234.0000 - val_tn: 4185.0000 - val_fn: 1906.0000 - val_binary_acc: 0.7093 - val_precision: 0.8157 - val_recall: 0.3521 - val_f1_score: 0.4919 - val_roc_auc: 0.7791 - val_pr_auc: 0.7249 - val_cohen_kappa: 0.3306\n",
      "Epoch 6/20\n",
      "3681/3681 [==============================] - 344s 94ms/step - loss: 0.5703 - tp: 6507.0000 - fp: 3202.0000 - tn: 14314.0000 - fn: 5424.0000 - binary_acc: 0.7071 - precision: 0.6702 - recall: 0.5454 - f1_score: 0.6014 - roc_auc: 0.7559 - pr_auc: 0.6990 - cohen_kappa: 0.3737 - val_loss: 0.5424 - val_tp: 1658.0000 - val_fp: 679.0000 - val_tn: 3740.0000 - val_fn: 1284.0000 - val_binary_acc: 0.7333 - val_precision: 0.7095 - val_recall: 0.5636 - val_f1_score: 0.6281 - val_roc_auc: 0.7856 - val_pr_auc: 0.7255 - val_cohen_kappa: 0.4245\n",
      "Epoch 7/20\n",
      "3681/3681 [==============================] - 344s 93ms/step - loss: 0.5710 - tp: 6589.0000 - fp: 3195.0000 - tn: 14321.0000 - fn: 5342.0000 - binary_acc: 0.7101 - precision: 0.6734 - recall: 0.5523 - f1_score: 0.6069 - roc_auc: 0.7550 - pr_auc: 0.6975 - cohen_kappa: 0.3808 - val_loss: 0.5544 - val_tp: 1906.0000 - val_fp: 996.0000 - val_tn: 3423.0000 - val_fn: 1036.0000 - val_binary_acc: 0.7240 - val_precision: 0.6568 - val_recall: 0.6479 - val_f1_score: 0.6523 - val_roc_auc: 0.7785 - val_pr_auc: 0.7212 - val_cohen_kappa: 0.4234\n",
      "Epoch 8/20\n",
      "3681/3681 [==============================] - 344s 93ms/step - loss: 0.5699 - tp: 6567.0000 - fp: 3198.0000 - tn: 14318.0000 - fn: 5364.0000 - binary_acc: 0.7092 - precision: 0.6725 - recall: 0.5504 - f1_score: 0.6054 - roc_auc: 0.7568 - pr_auc: 0.6953 - cohen_kappa: 0.3788 - val_loss: 0.5665 - val_tp: 2147.0000 - val_fp: 1359.0000 - val_tn: 3060.0000 - val_fn: 795.0000 - val_binary_acc: 0.7074 - val_precision: 0.6124 - val_recall: 0.7298 - val_f1_score: 0.6659 - val_roc_auc: 0.7847 - val_pr_auc: 0.7264 - val_cohen_kappa: 0.4091\n",
      "Epoch 9/20\n",
      "3681/3681 [==============================] - 344s 93ms/step - loss: 0.5689 - tp: 6577.0000 - fp: 3138.0000 - tn: 14378.0000 - fn: 5354.0000 - binary_acc: 0.7116 - precision: 0.6770 - recall: 0.5513 - f1_score: 0.6077 - roc_auc: 0.7571 - pr_auc: 0.6993 - cohen_kappa: 0.3835 - val_loss: 0.5416 - val_tp: 1617.0000 - val_fp: 637.0000 - val_tn: 3782.0000 - val_fn: 1325.0000 - val_binary_acc: 0.7335 - val_precision: 0.7174 - val_recall: 0.5496 - val_f1_score: 0.6224 - val_roc_auc: 0.7870 - val_pr_auc: 0.7287 - val_cohen_kappa: 0.4220\n",
      "Epoch 10/20\n",
      "3681/3681 [==============================] - 345s 94ms/step - loss: 0.5674 - tp: 6557.0000 - fp: 3107.0000 - tn: 14409.0000 - fn: 5374.0000 - binary_acc: 0.7120 - precision: 0.6785 - recall: 0.5496 - f1_score: 0.6073 - roc_auc: 0.7593 - pr_auc: 0.6993 - cohen_kappa: 0.3838 - val_loss: 0.5499 - val_tp: 1320.0000 - val_fp: 410.0000 - val_tn: 4009.0000 - val_fn: 1622.0000 - val_binary_acc: 0.7240 - val_precision: 0.7630 - val_recall: 0.4487 - val_f1_score: 0.5651 - val_roc_auc: 0.7800 - val_pr_auc: 0.7269 - val_cohen_kappa: 0.3822\n",
      "Epoch 11/20\n",
      "3681/3681 [==============================] - ETA: 0s - loss: 0.5726 - tp: 6479.0000 - fp: 3180.0000 - tn: 14336.0000 - fn: 5452.0000 - binary_acc: 0.7069 - precision: 0.6708 - recall: 0.5430 - f1_score: 0.6002 - roc_auc: 0.7531 - pr_auc: 0.6945 - cohen_kappa: 0.3728Restoring model weights from the end of the best epoch: 6.\n",
      "3681/3681 [==============================] - 344s 93ms/step - loss: 0.5726 - tp: 6479.0000 - fp: 3180.0000 - tn: 14336.0000 - fn: 5452.0000 - binary_acc: 0.7069 - precision: 0.6708 - recall: 0.5430 - f1_score: 0.6002 - roc_auc: 0.7531 - pr_auc: 0.6945 - cohen_kappa: 0.3728 - val_loss: 0.5470 - val_tp: 1344.0000 - val_fp: 411.0000 - val_tn: 4008.0000 - val_fn: 1598.0000 - val_binary_acc: 0.7271 - val_precision: 0.7658 - val_recall: 0.4568 - val_f1_score: 0.5723 - val_roc_auc: 0.7850 - val_pr_auc: 0.7266 - val_cohen_kappa: 0.3901\n",
      "Epoch 11: early stopping\n"
     ]
    }
   ],
   "source": [
    "history = model.fit(\n",
    "    trainset,\n",
    "    epochs=20,\n",
    "    validation_data=validationset,\n",
    "    callbacks=[early_stopping],\n",
    ")"
   ]
  },
  {
   "cell_type": "code",
   "execution_count": 29,
   "id": "d4fda3ed",
   "metadata": {},
   "outputs": [
    {
     "data": {
      "image/png": "[encoded data removed]",
      "text/plain": [
       "<Figure size 1296x1080 with 4 Axes>"
      ]
     },
     "metadata": {},
     "output_type": "display_data"
    }
   ],
   "source": [
    "plot_metrics(history)"
   ]
  },
  {
   "cell_type": "code",
   "execution_count": 30,
   "id": "96ab3e5e",
   "metadata": {},
   "outputs": [
    {
     "name": "stdout",
     "output_type": "stream",
     "text": [
      "Saving: ../models/densenet169_pt_imagenet-all-study-types-12644545.h5\n",
      "WARNING:tensorflow:Compiled the loaded model, but the compiled metrics have yet to be built. `model.compile_metrics` will be empty until you train or evaluate the model.\n"
     ]
    }
   ],
   "source": [
    "# model naming convention: {architecture}-{which-study-type?}-{num-parameters}.h5\n",
    "#\n",
    "# to load models:\n",
    "# model = tf.keras.models.load_model(\n",
    "#     '../models/densenet169_pt_imagenet-all-study-types-?.h5',\n",
    "#     custom_objects={'F1Score': F1Score}\n",
    "# )\n",
    "# densenet = tf.keras.models.load_model(\n",
    "#     '../models/densenet169_base.h5',\n",
    "# )\n",
    "print(\n",
    "    f\"Saving: ../models/densenet169_pt_imagenet-all-study-types-{model.count_params()}.h5\"\n",
    ")\n",
    "model.save(\n",
    "    f\"../models/densenet169_pt_imagenet-all-study-types-{model.count_params()}.h5\"\n",
    ")\n",
    "densenet.save(\"../models/densenet169_base.h5\")"
   ]
  },
  {
   "cell_type": "code",
   "execution_count": 31,
   "id": "54ecc66f",
   "metadata": {},
   "outputs": [],
   "source": [
    "# fine-tuning: unfreeze the base model and train the entire model end-to-end with a low learning rate\n",
    "densenet.trainable = True\n",
    "\n",
    "model.compile(\n",
    "    optimizer=tf.keras.optimizers.Adam(\n",
    "        1e-5\n",
    "    ),  # we need small learning rate to avoid catastrophic forgetting\n",
    "    loss=tf.keras.losses.BinaryCrossentropy(),\n",
    "    metrics=METRICS,\n",
    ")"
   ]
  },
  {
   "cell_type": "code",
   "execution_count": 32,
   "id": "656215e6",
   "metadata": {},
   "outputs": [],
   "source": [
    "reduce_lr_on_plateau = tf.keras.callbacks.ReduceLROnPlateau(\n",
    "    monitor=\"val_cohen_kappa\",\n",
    "    verbose=1,\n",
    "    patience=4,\n",
    "    mode=\"max\",\n",
    "    factor=0.2,\n",
    "    min_lr=1e-10,\n",
    ")"
   ]
  },
  {
   "cell_type": "code",
   "execution_count": 33,
   "id": "3e36539b",
   "metadata": {
    "scrolled": false
   },
   "outputs": [
    {
     "name": "stdout",
     "output_type": "stream",
     "text": [
      "Epoch 1/10\n"
     ]
    },
    {
     "name": "stderr",
     "output_type": "stream",
     "text": [
      "2022-04-03 04:29:48.912695: W tensorflow/core/common_runtime/bfc_allocator.cc:275] Allocator (GPU_0_bfc) ran out of memory trying to allocate 1.78GiB with freed_by_count=0. The caller indicates that this is not a failure, but may mean that there could be performance gains if more memory were available.\n",
      "2022-04-03 04:29:48.912747: W tensorflow/core/common_runtime/bfc_allocator.cc:275] Allocator (GPU_0_bfc) ran out of memory trying to allocate 1.78GiB with freed_by_count=0. The caller indicates that this is not a failure, but may mean that there could be performance gains if more memory were available.\n",
      "2022-04-03 04:29:48.934469: W tensorflow/core/common_runtime/bfc_allocator.cc:275] Allocator (GPU_0_bfc) ran out of memory trying to allocate 1.79GiB with freed_by_count=0. The caller indicates that this is not a failure, but may mean that there could be performance gains if more memory were available.\n",
      "2022-04-03 04:29:48.934522: W tensorflow/core/common_runtime/bfc_allocator.cc:275] Allocator (GPU_0_bfc) ran out of memory trying to allocate 1.79GiB with freed_by_count=0. The caller indicates that this is not a failure, but may mean that there could be performance gains if more memory were available.\n",
      "2022-04-03 04:29:50.435408: W tensorflow/core/common_runtime/bfc_allocator.cc:275] Allocator (GPU_0_bfc) ran out of memory trying to allocate 1.08GiB with freed_by_count=0. The caller indicates that this is not a failure, but may mean that there could be performance gains if more memory were available.\n",
      "2022-04-03 04:29:50.435460: W tensorflow/core/common_runtime/bfc_allocator.cc:275] Allocator (GPU_0_bfc) ran out of memory trying to allocate 1.08GiB with freed_by_count=0. The caller indicates that this is not a failure, but may mean that there could be performance gains if more memory were available.\n",
      "2022-04-03 04:29:50.451579: W tensorflow/core/common_runtime/bfc_allocator.cc:275] Allocator (GPU_0_bfc) ran out of memory trying to allocate 1.09GiB with freed_by_count=0. The caller indicates that this is not a failure, but may mean that there could be performance gains if more memory were available.\n",
      "2022-04-03 04:29:50.451614: W tensorflow/core/common_runtime/bfc_allocator.cc:275] Allocator (GPU_0_bfc) ran out of memory trying to allocate 1.09GiB with freed_by_count=0. The caller indicates that this is not a failure, but may mean that there could be performance gains if more memory were available.\n",
      "2022-04-03 04:29:51.186318: W tensorflow/core/common_runtime/bfc_allocator.cc:275] Allocator (GPU_0_bfc) ran out of memory trying to allocate 1.06GiB with freed_by_count=0. The caller indicates that this is not a failure, but may mean that there could be performance gains if more memory were available.\n",
      "2022-04-03 04:29:51.186367: W tensorflow/core/common_runtime/bfc_allocator.cc:275] Allocator (GPU_0_bfc) ran out of memory trying to allocate 1.06GiB with freed_by_count=0. The caller indicates that this is not a failure, but may mean that there could be performance gains if more memory were available.\n"
     ]
    },
    {
     "name": "stdout",
     "output_type": "stream",
     "text": [
      "3681/3681 [==============================] - 1032s 276ms/step - loss: 0.5124 - tp: 8144.0000 - fp: 2389.0000 - tn: 19546.0000 - fn: 6729.0000 - binary_acc: 0.7523 - precision: 0.7732 - recall: 0.5476 - f1_score: 0.6411 - roc_auc: 0.8004 - pr_auc: 0.7657 - cohen_kappa: 0.4603 - val_loss: 0.4768 - val_tp: 1913.0000 - val_fp: 558.0000 - val_tn: 3861.0000 - val_fn: 1029.0000 - val_binary_acc: 0.7844 - val_precision: 0.7742 - val_recall: 0.6502 - val_f1_score: 0.7068 - val_roc_auc: 0.8393 - val_pr_auc: 0.8063 - val_cohen_kappa: 0.5384 - lr: 1.0000e-05\n",
      "Epoch 2/10\n",
      "3681/3681 [==============================] - 986s 268ms/step - loss: 0.4646 - tp: 7467.0000 - fp: 1699.0000 - tn: 15817.0000 - fn: 4464.0000 - binary_acc: 0.7907 - precision: 0.8146 - recall: 0.6258 - f1_score: 0.7079 - roc_auc: 0.8424 - pr_auc: 0.8198 - cohen_kappa: 0.5491 - val_loss: 0.4751 - val_tp: 2099.0000 - val_fp: 737.0000 - val_tn: 3682.0000 - val_fn: 843.0000 - val_binary_acc: 0.7854 - val_precision: 0.7401 - val_recall: 0.7135 - val_f1_score: 0.7265 - val_roc_auc: 0.8481 - val_pr_auc: 0.8207 - val_cohen_kappa: 0.5500 - lr: 1.0000e-05\n",
      "Epoch 3/10\n",
      "3681/3681 [==============================] - 986s 268ms/step - loss: 0.4441 - tp: 7708.0000 - fp: 1606.0000 - tn: 15910.0000 - fn: 4223.0000 - binary_acc: 0.8021 - precision: 0.8276 - recall: 0.6460 - f1_score: 0.7256 - roc_auc: 0.8573 - pr_auc: 0.8374 - cohen_kappa: 0.5744 - val_loss: 0.4447 - val_tp: 1962.0000 - val_fp: 437.0000 - val_tn: 3982.0000 - val_fn: 980.0000 - val_binary_acc: 0.8075 - val_precision: 0.8178 - val_recall: 0.6669 - val_f1_score: 0.7347 - val_roc_auc: 0.8585 - val_pr_auc: 0.8347 - val_cohen_kappa: 0.5861 - lr: 1.0000e-05\n",
      "Epoch 4/10\n",
      "3681/3681 [==============================] - 987s 268ms/step - loss: 0.4281 - tp: 7888.0000 - fp: 1590.0000 - tn: 15926.0000 - fn: 4043.0000 - binary_acc: 0.8087 - precision: 0.8322 - recall: 0.6611 - f1_score: 0.7369 - roc_auc: 0.8673 - pr_auc: 0.8504 - cohen_kappa: 0.5897 - val_loss: 0.4635 - val_tp: 1566.0000 - val_fp: 172.0000 - val_tn: 4247.0000 - val_fn: 1376.0000 - val_binary_acc: 0.7897 - val_precision: 0.9010 - val_recall: 0.5323 - val_f1_score: 0.6692 - val_roc_auc: 0.8654 - val_pr_auc: 0.8394 - val_cohen_kappa: 0.5296 - lr: 1.0000e-05\n",
      "Epoch 5/10\n",
      "3681/3681 [==============================] - 986s 268ms/step - loss: 0.4162 - tp: 8054.0000 - fp: 1485.0000 - tn: 16031.0000 - fn: 3877.0000 - binary_acc: 0.8179 - precision: 0.8443 - recall: 0.6750 - f1_score: 0.7503 - roc_auc: 0.8745 - pr_auc: 0.8600 - cohen_kappa: 0.6098 - val_loss: 0.4487 - val_tp: 2224.0000 - val_fp: 749.0000 - val_tn: 3670.0000 - val_fn: 718.0000 - val_binary_acc: 0.8007 - val_precision: 0.7481 - val_recall: 0.7559 - val_f1_score: 0.7520 - val_roc_auc: 0.8669 - val_pr_auc: 0.8440 - val_cohen_kappa: 0.5854 - lr: 1.0000e-05\n",
      "Epoch 6/10\n",
      "3681/3681 [==============================] - 986s 268ms/step - loss: 0.4013 - tp: 8256.0000 - fp: 1482.0000 - tn: 16034.0000 - fn: 3675.0000 - binary_acc: 0.8249 - precision: 0.8478 - recall: 0.6920 - f1_score: 0.7620 - roc_auc: 0.8843 - pr_auc: 0.8700 - cohen_kappa: 0.6257 - val_loss: 0.4424 - val_tp: 1658.0000 - val_fp: 198.0000 - val_tn: 4221.0000 - val_fn: 1284.0000 - val_binary_acc: 0.7987 - val_precision: 0.8933 - val_recall: 0.5636 - val_f1_score: 0.6911 - val_roc_auc: 0.8704 - val_pr_auc: 0.8456 - val_cohen_kappa: 0.5529 - lr: 1.0000e-05\n",
      "Epoch 7/10\n",
      "3681/3681 [==============================] - ETA: 0s - loss: 0.3897 - tp: 8435.0000 - fp: 1427.0000 - tn: 16089.0000 - fn: 3496.0000 - binary_acc: 0.8328 - precision: 0.8553 - recall: 0.7070 - f1_score: 0.7741 - roc_auc: 0.8908 - pr_auc: 0.8777 - cohen_kappa: 0.6433\n",
      "Epoch 7: ReduceLROnPlateau reducing learning rate to 1.9999999494757505e-06.\n",
      "3681/3681 [==============================] - 986s 268ms/step - loss: 0.3897 - tp: 8435.0000 - fp: 1427.0000 - tn: 16089.0000 - fn: 3496.0000 - binary_acc: 0.8328 - precision: 0.8553 - recall: 0.7070 - f1_score: 0.7741 - roc_auc: 0.8908 - pr_auc: 0.8777 - cohen_kappa: 0.6433 - val_loss: 0.4469 - val_tp: 1994.0000 - val_fp: 483.0000 - val_tn: 3936.0000 - val_fn: 948.0000 - val_binary_acc: 0.8056 - val_precision: 0.8050 - val_recall: 0.6778 - val_f1_score: 0.7359 - val_roc_auc: 0.8659 - val_pr_auc: 0.8397 - val_cohen_kappa: 0.5839 - lr: 1.0000e-05\n",
      "Epoch 8/10\n",
      "3681/3681 [==============================] - 987s 268ms/step - loss: 0.3467 - tp: 8870.0000 - fp: 1342.0000 - tn: 16174.0000 - fn: 3061.0000 - binary_acc: 0.8505 - precision: 0.8686 - recall: 0.7434 - f1_score: 0.8012 - roc_auc: 0.9145 - pr_auc: 0.9045 - cohen_kappa: 0.6825 - val_loss: 0.4124 - val_tp: 2072.0000 - val_fp: 429.0000 - val_tn: 3990.0000 - val_fn: 870.0000 - val_binary_acc: 0.8235 - val_precision: 0.8285 - val_recall: 0.7043 - val_f1_score: 0.7613 - val_roc_auc: 0.8805 - val_pr_auc: 0.8631 - val_cohen_kappa: 0.6228 - lr: 2.0000e-06\n",
      "Epoch 9/10\n",
      "3681/3681 [==============================] - 987s 268ms/step - loss: 0.3326 - tp: 9016.0000 - fp: 1250.0000 - tn: 16266.0000 - fn: 2915.0000 - binary_acc: 0.8586 - precision: 0.8782 - recall: 0.7557 - f1_score: 0.8124 - roc_auc: 0.9215 - pr_auc: 0.9124 - cohen_kappa: 0.6999 - val_loss: 0.4285 - val_tp: 1964.0000 - val_fp: 322.0000 - val_tn: 4097.0000 - val_fn: 978.0000 - val_binary_acc: 0.8234 - val_precision: 0.8591 - val_recall: 0.6676 - val_f1_score: 0.7513 - val_roc_auc: 0.8791 - val_pr_auc: 0.8602 - val_cohen_kappa: 0.6177 - lr: 2.0000e-06\n",
      "Epoch 10/10\n",
      "3681/3681 [==============================] - 987s 268ms/step - loss: 0.3250 - tp: 9085.0000 - fp: 1250.0000 - tn: 16266.0000 - fn: 2846.0000 - binary_acc: 0.8609 - precision: 0.8791 - recall: 0.7615 - f1_score: 0.8160 - roc_auc: 0.9251 - pr_auc: 0.9165 - cohen_kappa: 0.7051 - val_loss: 0.4192 - val_tp: 2084.0000 - val_fp: 425.0000 - val_tn: 3994.0000 - val_fn: 858.0000 - val_binary_acc: 0.8257 - val_precision: 0.8306 - val_recall: 0.7084 - val_f1_score: 0.7646 - val_roc_auc: 0.8807 - val_pr_auc: 0.8593 - val_cohen_kappa: 0.6276 - lr: 2.0000e-06\n"
     ]
    }
   ],
   "source": [
    "history = model.fit(\n",
    "    trainset,\n",
    "    epochs=10,\n",
    "    validation_data=validationset,\n",
    "    callbacks=[early_stopping, reduce_lr_on_plateau],\n",
    ")"
   ]
  },
  {
   "cell_type": "code",
   "execution_count": 34,
   "id": "e9b1776c",
   "metadata": {
    "scrolled": true
   },
   "outputs": [
    {
     "name": "stdout",
     "output_type": "stream",
     "text": [
      "Saving: ../models/densenet169_pt_imagenet-all-study-types-12644545.h5\n",
      "WARNING:tensorflow:Compiled the loaded model, but the compiled metrics have yet to be built. `model.compile_metrics` will be empty until you train or evaluate the model.\n"
     ]
    }
   ],
   "source": [
    "# model naming convention: {architecture}-{which-study-type?}-{num-parameters}.h5\n",
    "#\n",
    "# to load models:\n",
    "# model = tf.keras.models.load_model(\n",
    "#     '../models/densenet169_pt_imagenet-all-study-types-?.h5',\n",
    "#     custom_objects={'F1Score': F1Score}\n",
    "# )\n",
    "# densenet = tf.keras.models.load_model(\n",
    "#     '../models/densenet169_base.h5',\n",
    "# )\n",
    "print(\n",
    "    f\"Saving: ../models/densenet169_pt_imagenet-all-study-types-{model.count_params()}.h5\"\n",
    ")\n",
    "model.save(\n",
    "    f\"../models/densenet169_pt_imagenet-all-study-types-{model.count_params()}.h5\"\n",
    ")\n",
    "densenet.save(\"../models/densenet169_base.h5\")"
   ]
  },
  {
   "cell_type": "code",
   "execution_count": 35,
   "id": "69bdf980",
   "metadata": {},
   "outputs": [
    {
     "data": {
      "image/png": "[encoded data removed]",
      "text/plain": [
       "<Figure size 1296x1080 with 4 Axes>"
      ]
     },
     "metadata": {},
     "output_type": "display_data"
    }
   ],
   "source": [
    "plot_metrics(history)"
   ]
  },
  {
   "cell_type": "code",
   "execution_count": 36,
   "id": "9660337e",
   "metadata": {},
   "outputs": [
    {
     "name": "stdout",
     "output_type": "stream",
     "text": [
      "921/921 [==============================] - 67s 73ms/step - loss: 0.4167 - tp: 2093.0000 - fp: 420.0000 - tn: 3999.0000 - fn: 849.0000 - binary_acc: 0.8276 - precision: 0.8329 - recall: 0.7114 - f1_score: 0.7674 - roc_auc: 0.8819 - pr_auc: 0.8618 - cohen_kappa: 0.6318\n"
     ]
    }
   ],
   "source": [
    "# get the loss value & metrics values for the model in validation mode\n",
    "evaluation_metrics = model.evaluate(validationset, verbose=1)"
   ]
  },
  {
   "cell_type": "code",
   "execution_count": 37,
   "id": "7e502324",
   "metadata": {},
   "outputs": [
    {
     "name": "stdout",
     "output_type": "stream",
     "text": [
      "val loss    : 0.41673240065574646\n",
      "tp          : 2093.0\n",
      "fp          : 420.0\n",
      "tn          : 3999.0\n",
      "fn          : 849.0\n",
      "binary_acc  : 0.8276049494743347\n",
      "precision   : 0.8328690528869629\n",
      "recall      : 0.7114207744598389\n",
      "f1_score    : 0.7673693895339966\n",
      "roc_auc     : 0.8819436430931091\n",
      "pr_auc      : 0.861823558807373\n",
      "cohen_kappa : 0.631772518157959\n"
     ]
    }
   ],
   "source": [
    "loss = evaluation_metrics.pop(0)\n",
    "\n",
    "print(f\"val loss    : {loss}\")\n",
    "for metric, score in zip(METRICS, evaluation_metrics):\n",
    "\n",
    "    print(f\"{metric.name + ' ' * (12 - len(metric.name))}: {score}\")"
   ]
  },
  {
   "cell_type": "code",
   "execution_count": 38,
   "id": "9491c46f",
   "metadata": {},
   "outputs": [],
   "source": [
    "clean_up(model)\n",
    "clean_up(densenet)"
   ]
  }
 ],
 "metadata": {
  "kernelspec": {
   "display_name": "Python 3 (ipykernel)",
   "language": "python",
   "name": "python3"
  },
  "language_info": {
   "codemirror_mode": {
    "name": "ipython",
    "version": 3
   },
   "file_extension": ".py",
   "mimetype": "text/x-python",
   "name": "python",
   "nbconvert_exporter": "python",
   "pygments_lexer": "ipython3",
   "version": "3.8.10"
  }
 },
 "nbformat": 4,
 "nbformat_minor": 5
}
