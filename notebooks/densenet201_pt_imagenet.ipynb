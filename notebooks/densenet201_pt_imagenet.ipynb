{
 "cells": [
  {
   "cell_type": "markdown",
   "id": "7a899787",
   "metadata": {},
   "source": [
    "## X-Ray Abnormality Detection | DenseNet-20, pretrained on ImageNet"
   ]
  },
  {
   "cell_type": "markdown",
   "id": "c7764e65",
   "metadata": {},
   "source": [
    "> **Antonopoulos Ilias** ( *p3352004* ) <br />\n",
    "> **Ndoja Silva** ( *p3352017* ) <br />\n",
    "> **MSc in Data Science, AUEB**"
   ]
  },
  {
   "cell_type": "markdown",
   "id": "aa71e65e",
   "metadata": {},
   "source": [
    "## Table of Contents\n",
    "\n",
    "- [Data Loading](#Data-Loading)\n",
    " * [Create a tensorflow input pipeline for the training data](#Create-a-tensorflow-input-pipeline-for-the-training-data)\n",
    "- [DenseNet201 architecture, pretrained on ImageNet](#DenseNet201-architecture,-pretrained-on-ImageNet)"
   ]
  },
  {
   "cell_type": "code",
   "execution_count": 1,
   "id": "99fc7dec",
   "metadata": {},
   "outputs": [],
   "source": [
    "import os\n",
    "import pathlib\n",
    "import random\n",
    "import re\n",
    "from glob import glob\n",
    "\n",
    "import matplotlib.pyplot as plt\n",
    "import numpy as np\n",
    "import pandas as pd\n",
    "import tensorflow as tf\n",
    "import tensorflow_addons as tfa\n",
    "from sklearn.metrics import cohen_kappa_score\n",
    "from sklearn.utils import shuffle\n",
    "\n",
    "from utils import (\n",
    "    clean_up,\n",
    "    F1Score,\n",
    "    inspect_df,\n",
    "    plot_metrics,\n",
    ")\n",
    "\n",
    "\n",
    "pd.set_option(\"max_colwidth\", None)\n",
    "plt.style.use(\"dark_background\")"
   ]
  },
  {
   "cell_type": "code",
   "execution_count": 2,
   "id": "6d6c351a",
   "metadata": {},
   "outputs": [
    {
     "name": "stdout",
     "output_type": "stream",
     "text": [
      "2.8.0\n"
     ]
    }
   ],
   "source": [
    "print(tf.__version__)"
   ]
  },
  {
   "cell_type": "code",
   "execution_count": 3,
   "id": "1fa8b39b",
   "metadata": {},
   "outputs": [
    {
     "name": "stdout",
     "output_type": "stream",
     "text": [
      "Num GPUs Available:  1\n"
     ]
    },
    {
     "name": "stderr",
     "output_type": "stream",
     "text": [
      "2022-04-08 23:40:27.016959: I tensorflow/stream_executor/cuda/cuda_gpu_executor.cc:936] successful NUMA node read from SysFS had negative value (-1), but there must be at least one NUMA node, so returning NUMA node zero\n",
      "2022-04-08 23:40:27.043975: I tensorflow/stream_executor/cuda/cuda_gpu_executor.cc:936] successful NUMA node read from SysFS had negative value (-1), but there must be at least one NUMA node, so returning NUMA node zero\n",
      "2022-04-08 23:40:27.044129: I tensorflow/stream_executor/cuda/cuda_gpu_executor.cc:936] successful NUMA node read from SysFS had negative value (-1), but there must be at least one NUMA node, so returning NUMA node zero\n"
     ]
    }
   ],
   "source": [
    "print(\"Num GPUs Available: \", len(tf.config.list_physical_devices(\"GPU\")))"
   ]
  },
  {
   "cell_type": "code",
   "execution_count": 4,
   "id": "8d64d949",
   "metadata": {},
   "outputs": [],
   "source": [
    "gpus = tf.config.experimental.list_physical_devices(\"GPU\")\n",
    "\n",
    "try:\n",
    "    tf.config.experimental.set_memory_growth(gpus[0], True)\n",
    "except IndexError:\n",
    "    print(\"Cannot memory-restrict the GPU, if no GPU exists in system. Ignore...\")\n",
    "    pass"
   ]
  },
  {
   "cell_type": "code",
   "execution_count": 5,
   "id": "a6659fde",
   "metadata": {},
   "outputs": [],
   "source": [
    "SEED = 99910123\n",
    "\n",
    "os.environ[\"PYTHONHASHSEED\"] = str(SEED)\n",
    "random.seed(SEED)\n",
    "tf.random.set_seed(SEED)\n",
    "np.random.seed(SEED)"
   ]
  },
  {
   "cell_type": "markdown",
   "id": "b5346f99",
   "metadata": {},
   "source": [
    "### Data Loading"
   ]
  },
  {
   "cell_type": "code",
   "execution_count": 6,
   "id": "5819c5d3",
   "metadata": {},
   "outputs": [],
   "source": [
    "DATASET_DIR = \"../data/MURA-v1.1/\""
   ]
  },
  {
   "cell_type": "code",
   "execution_count": 7,
   "id": "67d931da",
   "metadata": {},
   "outputs": [
    {
     "data": {
      "text/plain": [
       "['../data/MURA-v1.1/train/XR_WRIST/patient08092/study1_negative/image1.png',\n",
       " '../data/MURA-v1.1/train/XR_FINGER/patient01064/study1_positive/image1.png',\n",
       " '../data/MURA-v1.1/valid/XR_ELBOW/patient11831/study1_positive/image1.png',\n",
       " '../data/MURA-v1.1/train/XR_SHOULDER/patient00442/study1_positive/image1.png',\n",
       " '../data/MURA-v1.1/train/XR_ELBOW/patient06289/study1_negative/image3.png',\n",
       " '../data/MURA-v1.1/train/XR_WRIST/patient08562/study1_negative/image2.png',\n",
       " '../data/MURA-v1.1/train/XR_FINGER/patient04280/study1_negative/image3.png',\n",
       " '../data/MURA-v1.1/train/XR_WRIST/patient07018/study1_positive/image1.png',\n",
       " '../data/MURA-v1.1/train/XR_ELBOW/patient06000/study1_negative/image1.png',\n",
       " '../data/MURA-v1.1/train/XR_SHOULDER/patient00497/study2_negative/image4.png']"
      ]
     },
     "execution_count": 7,
     "metadata": {},
     "output_type": "execute_result"
    }
   ],
   "source": [
    "random.choices(glob(os.path.join(DATASET_DIR, \"*\", \"*\", \"*\", \"*\", \"*.png\")), k=10)"
   ]
  },
  {
   "cell_type": "markdown",
   "id": "3e68ad35",
   "metadata": {},
   "source": [
    "So, the data structure is the following:\n",
    "\n",
    "```\n",
    "\n",
    "└─train {data subset}\n",
    "│   └───XR_ELBOW {study type}\n",
    "│       │  └───patient00011 {patient}\n",
    "│       │         └───study1_negative {study with label}\n",
    "│       │               └───image1.png {view}\n",
    "│       │               └───image2.png \n",
    "│       │               └───image3.png \n",
    "                        └───...\n",
    "   ...\n",
    "   \n",
    "\n",
    "└─valid {data subset}\n",
    "│   └───XR_HUMERUS {study type}\n",
    "│       │  └───patient11216 {patient}\n",
    "│       │         └───study1_negative {study with label}\n",
    "│       │               └───image1.png {view}\n",
    "│       │               └───image2.png \n",
    "                        └───...\n",
    "```"
   ]
  },
  {
   "cell_type": "code",
   "execution_count": 8,
   "id": "0e99c8e4",
   "metadata": {},
   "outputs": [
    {
     "name": "stdout",
     "output_type": "stream",
     "text": [
      "Total PNG images found in dir <../data/MURA-v1.1/>: 40009\n"
     ]
    }
   ],
   "source": [
    "image_count = len(list(pathlib.Path(DATASET_DIR).glob(\"*/*/*/*/*.png\")))\n",
    "\n",
    "print(f\"Total PNG images found in dir <{DATASET_DIR}>: {image_count}\")"
   ]
  },
  {
   "cell_type": "markdown",
   "id": "e3cc7391",
   "metadata": {},
   "source": [
    "We will start by creating a tabular form of the training data (with no actual image files), in order to quickly analyze them. A proper data loader (of the actual image files) will be implemented after that, in a tensorflow-friendly manner."
   ]
  },
  {
   "cell_type": "code",
   "execution_count": 9,
   "id": "6ee568f1",
   "metadata": {
    "scrolled": false
   },
   "outputs": [
    {
     "name": "stdout",
     "output_type": "stream",
     "text": [
      "shape: (36808, 1)\n"
     ]
    },
    {
     "data": {
      "text/html": [
       "<div>\n",
       "<style scoped>\n",
       "    .dataframe tbody tr th:only-of-type {\n",
       "        vertical-align: middle;\n",
       "    }\n",
       "\n",
       "    .dataframe tbody tr th {\n",
       "        vertical-align: top;\n",
       "    }\n",
       "\n",
       "    .dataframe thead th {\n",
       "        text-align: right;\n",
       "    }\n",
       "</style>\n",
       "<table border=\"1\" class=\"dataframe\">\n",
       "  <thead>\n",
       "    <tr style=\"text-align: right;\">\n",
       "      <th></th>\n",
       "      <th>image_path</th>\n",
       "    </tr>\n",
       "  </thead>\n",
       "  <tbody>\n",
       "    <tr>\n",
       "      <th>0</th>\n",
       "      <td>MURA-v1.1/train/XR_SHOULDER/patient00001/study1_positive/image1.png</td>\n",
       "    </tr>\n",
       "    <tr>\n",
       "      <th>1</th>\n",
       "      <td>MURA-v1.1/train/XR_SHOULDER/patient00001/study1_positive/image2.png</td>\n",
       "    </tr>\n",
       "    <tr>\n",
       "      <th>2</th>\n",
       "      <td>MURA-v1.1/train/XR_SHOULDER/patient00001/study1_positive/image3.png</td>\n",
       "    </tr>\n",
       "    <tr>\n",
       "      <th>3</th>\n",
       "      <td>MURA-v1.1/train/XR_SHOULDER/patient00002/study1_positive/image1.png</td>\n",
       "    </tr>\n",
       "    <tr>\n",
       "      <th>4</th>\n",
       "      <td>MURA-v1.1/train/XR_SHOULDER/patient00002/study1_positive/image2.png</td>\n",
       "    </tr>\n",
       "  </tbody>\n",
       "</table>\n",
       "</div>"
      ],
      "text/plain": [
       "                                                            image_path\n",
       "0  MURA-v1.1/train/XR_SHOULDER/patient00001/study1_positive/image1.png\n",
       "1  MURA-v1.1/train/XR_SHOULDER/patient00001/study1_positive/image2.png\n",
       "2  MURA-v1.1/train/XR_SHOULDER/patient00001/study1_positive/image3.png\n",
       "3  MURA-v1.1/train/XR_SHOULDER/patient00002/study1_positive/image1.png\n",
       "4  MURA-v1.1/train/XR_SHOULDER/patient00002/study1_positive/image2.png"
      ]
     },
     "execution_count": 9,
     "metadata": {},
     "output_type": "execute_result"
    }
   ],
   "source": [
    "train_image_paths = pd.read_csv(\n",
    "    os.path.join(DATASET_DIR, \"train_image_paths.csv\"),\n",
    "    names=[\"image_path\"],\n",
    "    header=None,\n",
    "    index_col=False,\n",
    ")\n",
    "\n",
    "inspect_df(train_image_paths)"
   ]
  },
  {
   "cell_type": "code",
   "execution_count": 10,
   "id": "60a69725",
   "metadata": {},
   "outputs": [],
   "source": [
    "train_image_paths[\"image_path\"] = train_image_paths[\"image_path\"].map(\n",
    "    lambda x: os.path.join(\"../data/\", x)\n",
    ")\n",
    "train_image_paths[\"study_type\"] = train_image_paths[\"image_path\"].map(\n",
    "    lambda x: x.split(\"/\")[4]\n",
    ")\n",
    "train_image_paths[\"patient\"] = train_image_paths[\"image_path\"].map(\n",
    "    lambda x: x.split(\"/\")[5]\n",
    ")\n",
    "train_image_paths[\"study\"] = train_image_paths[\"image_path\"].map(\n",
    "    lambda x: x.split(\"/\")[6]\n",
    ")\n",
    "train_image_paths[\"study_path\"] = train_image_paths[\"image_path\"].map(\n",
    "    lambda x: re.sub(r\"image\\d+.png\", \"\", x)\n",
    ")"
   ]
  },
  {
   "cell_type": "code",
   "execution_count": 11,
   "id": "d073e76e",
   "metadata": {},
   "outputs": [
    {
     "name": "stdout",
     "output_type": "stream",
     "text": [
      "shape: (36808, 5)\n"
     ]
    },
    {
     "data": {
      "text/html": [
       "<div>\n",
       "<style scoped>\n",
       "    .dataframe tbody tr th:only-of-type {\n",
       "        vertical-align: middle;\n",
       "    }\n",
       "\n",
       "    .dataframe tbody tr th {\n",
       "        vertical-align: top;\n",
       "    }\n",
       "\n",
       "    .dataframe thead th {\n",
       "        text-align: right;\n",
       "    }\n",
       "</style>\n",
       "<table border=\"1\" class=\"dataframe\">\n",
       "  <thead>\n",
       "    <tr style=\"text-align: right;\">\n",
       "      <th></th>\n",
       "      <th>image_path</th>\n",
       "      <th>study_type</th>\n",
       "      <th>patient</th>\n",
       "      <th>study</th>\n",
       "      <th>study_path</th>\n",
       "    </tr>\n",
       "  </thead>\n",
       "  <tbody>\n",
       "    <tr>\n",
       "      <th>0</th>\n",
       "      <td>../data/MURA-v1.1/train/XR_SHOULDER/patient00001/study1_positive/image1.png</td>\n",
       "      <td>XR_SHOULDER</td>\n",
       "      <td>patient00001</td>\n",
       "      <td>study1_positive</td>\n",
       "      <td>../data/MURA-v1.1/train/XR_SHOULDER/patient00001/study1_positive/</td>\n",
       "    </tr>\n",
       "    <tr>\n",
       "      <th>1</th>\n",
       "      <td>../data/MURA-v1.1/train/XR_SHOULDER/patient00001/study1_positive/image2.png</td>\n",
       "      <td>XR_SHOULDER</td>\n",
       "      <td>patient00001</td>\n",
       "      <td>study1_positive</td>\n",
       "      <td>../data/MURA-v1.1/train/XR_SHOULDER/patient00001/study1_positive/</td>\n",
       "    </tr>\n",
       "    <tr>\n",
       "      <th>2</th>\n",
       "      <td>../data/MURA-v1.1/train/XR_SHOULDER/patient00001/study1_positive/image3.png</td>\n",
       "      <td>XR_SHOULDER</td>\n",
       "      <td>patient00001</td>\n",
       "      <td>study1_positive</td>\n",
       "      <td>../data/MURA-v1.1/train/XR_SHOULDER/patient00001/study1_positive/</td>\n",
       "    </tr>\n",
       "    <tr>\n",
       "      <th>3</th>\n",
       "      <td>../data/MURA-v1.1/train/XR_SHOULDER/patient00002/study1_positive/image1.png</td>\n",
       "      <td>XR_SHOULDER</td>\n",
       "      <td>patient00002</td>\n",
       "      <td>study1_positive</td>\n",
       "      <td>../data/MURA-v1.1/train/XR_SHOULDER/patient00002/study1_positive/</td>\n",
       "    </tr>\n",
       "    <tr>\n",
       "      <th>4</th>\n",
       "      <td>../data/MURA-v1.1/train/XR_SHOULDER/patient00002/study1_positive/image2.png</td>\n",
       "      <td>XR_SHOULDER</td>\n",
       "      <td>patient00002</td>\n",
       "      <td>study1_positive</td>\n",
       "      <td>../data/MURA-v1.1/train/XR_SHOULDER/patient00002/study1_positive/</td>\n",
       "    </tr>\n",
       "  </tbody>\n",
       "</table>\n",
       "</div>"
      ],
      "text/plain": [
       "                                                                    image_path  \\\n",
       "0  ../data/MURA-v1.1/train/XR_SHOULDER/patient00001/study1_positive/image1.png   \n",
       "1  ../data/MURA-v1.1/train/XR_SHOULDER/patient00001/study1_positive/image2.png   \n",
       "2  ../data/MURA-v1.1/train/XR_SHOULDER/patient00001/study1_positive/image3.png   \n",
       "3  ../data/MURA-v1.1/train/XR_SHOULDER/patient00002/study1_positive/image1.png   \n",
       "4  ../data/MURA-v1.1/train/XR_SHOULDER/patient00002/study1_positive/image2.png   \n",
       "\n",
       "    study_type       patient            study  \\\n",
       "0  XR_SHOULDER  patient00001  study1_positive   \n",
       "1  XR_SHOULDER  patient00001  study1_positive   \n",
       "2  XR_SHOULDER  patient00001  study1_positive   \n",
       "3  XR_SHOULDER  patient00002  study1_positive   \n",
       "4  XR_SHOULDER  patient00002  study1_positive   \n",
       "\n",
       "                                                          study_path  \n",
       "0  ../data/MURA-v1.1/train/XR_SHOULDER/patient00001/study1_positive/  \n",
       "1  ../data/MURA-v1.1/train/XR_SHOULDER/patient00001/study1_positive/  \n",
       "2  ../data/MURA-v1.1/train/XR_SHOULDER/patient00001/study1_positive/  \n",
       "3  ../data/MURA-v1.1/train/XR_SHOULDER/patient00002/study1_positive/  \n",
       "4  ../data/MURA-v1.1/train/XR_SHOULDER/patient00002/study1_positive/  "
      ]
     },
     "execution_count": 11,
     "metadata": {},
     "output_type": "execute_result"
    }
   ],
   "source": [
    "inspect_df(train_image_paths)"
   ]
  },
  {
   "cell_type": "code",
   "execution_count": 12,
   "id": "59cf2544",
   "metadata": {
    "scrolled": false
   },
   "outputs": [
    {
     "name": "stdout",
     "output_type": "stream",
     "text": [
      "shape: (13457, 2)\n"
     ]
    },
    {
     "data": {
      "text/html": [
       "<div>\n",
       "<style scoped>\n",
       "    .dataframe tbody tr th:only-of-type {\n",
       "        vertical-align: middle;\n",
       "    }\n",
       "\n",
       "    .dataframe tbody tr th {\n",
       "        vertical-align: top;\n",
       "    }\n",
       "\n",
       "    .dataframe thead th {\n",
       "        text-align: right;\n",
       "    }\n",
       "</style>\n",
       "<table border=\"1\" class=\"dataframe\">\n",
       "  <thead>\n",
       "    <tr style=\"text-align: right;\">\n",
       "      <th></th>\n",
       "      <th>study_path</th>\n",
       "      <th>label</th>\n",
       "    </tr>\n",
       "  </thead>\n",
       "  <tbody>\n",
       "    <tr>\n",
       "      <th>0</th>\n",
       "      <td>MURA-v1.1/train/XR_SHOULDER/patient00001/study1_positive/</td>\n",
       "      <td>1</td>\n",
       "    </tr>\n",
       "    <tr>\n",
       "      <th>1</th>\n",
       "      <td>MURA-v1.1/train/XR_SHOULDER/patient00002/study1_positive/</td>\n",
       "      <td>1</td>\n",
       "    </tr>\n",
       "    <tr>\n",
       "      <th>2</th>\n",
       "      <td>MURA-v1.1/train/XR_SHOULDER/patient00003/study1_positive/</td>\n",
       "      <td>1</td>\n",
       "    </tr>\n",
       "    <tr>\n",
       "      <th>3</th>\n",
       "      <td>MURA-v1.1/train/XR_SHOULDER/patient00004/study1_positive/</td>\n",
       "      <td>1</td>\n",
       "    </tr>\n",
       "    <tr>\n",
       "      <th>4</th>\n",
       "      <td>MURA-v1.1/train/XR_SHOULDER/patient00005/study1_positive/</td>\n",
       "      <td>1</td>\n",
       "    </tr>\n",
       "  </tbody>\n",
       "</table>\n",
       "</div>"
      ],
      "text/plain": [
       "                                                  study_path  label\n",
       "0  MURA-v1.1/train/XR_SHOULDER/patient00001/study1_positive/      1\n",
       "1  MURA-v1.1/train/XR_SHOULDER/patient00002/study1_positive/      1\n",
       "2  MURA-v1.1/train/XR_SHOULDER/patient00003/study1_positive/      1\n",
       "3  MURA-v1.1/train/XR_SHOULDER/patient00004/study1_positive/      1\n",
       "4  MURA-v1.1/train/XR_SHOULDER/patient00005/study1_positive/      1"
      ]
     },
     "execution_count": 12,
     "metadata": {},
     "output_type": "execute_result"
    }
   ],
   "source": [
    "train_labeled_studies = pd.read_csv(\n",
    "    os.path.join(DATASET_DIR, \"train_labeled_studies.csv\"),\n",
    "    names=[\"study_path\", \"label\"],\n",
    "    header=None,\n",
    "    index_col=False,\n",
    ")\n",
    "\n",
    "inspect_df(train_labeled_studies)"
   ]
  },
  {
   "cell_type": "code",
   "execution_count": 13,
   "id": "df9a7f5d",
   "metadata": {},
   "outputs": [],
   "source": [
    "train_labeled_studies[\"study_path\"] = train_labeled_studies[\"study_path\"].map(\n",
    "    lambda x: os.path.join(\"../data/\", x)\n",
    ")\n",
    "train_labeled_studies[\"label\"] = train_labeled_studies[\"label\"].map(str)"
   ]
  },
  {
   "cell_type": "code",
   "execution_count": 14,
   "id": "408b169b",
   "metadata": {
    "scrolled": false
   },
   "outputs": [
    {
     "name": "stdout",
     "output_type": "stream",
     "text": [
      "shape: (13457, 2)\n"
     ]
    },
    {
     "data": {
      "text/html": [
       "<div>\n",
       "<style scoped>\n",
       "    .dataframe tbody tr th:only-of-type {\n",
       "        vertical-align: middle;\n",
       "    }\n",
       "\n",
       "    .dataframe tbody tr th {\n",
       "        vertical-align: top;\n",
       "    }\n",
       "\n",
       "    .dataframe thead th {\n",
       "        text-align: right;\n",
       "    }\n",
       "</style>\n",
       "<table border=\"1\" class=\"dataframe\">\n",
       "  <thead>\n",
       "    <tr style=\"text-align: right;\">\n",
       "      <th></th>\n",
       "      <th>study_path</th>\n",
       "      <th>label</th>\n",
       "    </tr>\n",
       "  </thead>\n",
       "  <tbody>\n",
       "    <tr>\n",
       "      <th>0</th>\n",
       "      <td>../data/MURA-v1.1/train/XR_SHOULDER/patient00001/study1_positive/</td>\n",
       "      <td>1</td>\n",
       "    </tr>\n",
       "    <tr>\n",
       "      <th>1</th>\n",
       "      <td>../data/MURA-v1.1/train/XR_SHOULDER/patient00002/study1_positive/</td>\n",
       "      <td>1</td>\n",
       "    </tr>\n",
       "    <tr>\n",
       "      <th>2</th>\n",
       "      <td>../data/MURA-v1.1/train/XR_SHOULDER/patient00003/study1_positive/</td>\n",
       "      <td>1</td>\n",
       "    </tr>\n",
       "    <tr>\n",
       "      <th>3</th>\n",
       "      <td>../data/MURA-v1.1/train/XR_SHOULDER/patient00004/study1_positive/</td>\n",
       "      <td>1</td>\n",
       "    </tr>\n",
       "    <tr>\n",
       "      <th>4</th>\n",
       "      <td>../data/MURA-v1.1/train/XR_SHOULDER/patient00005/study1_positive/</td>\n",
       "      <td>1</td>\n",
       "    </tr>\n",
       "  </tbody>\n",
       "</table>\n",
       "</div>"
      ],
      "text/plain": [
       "                                                          study_path label\n",
       "0  ../data/MURA-v1.1/train/XR_SHOULDER/patient00001/study1_positive/     1\n",
       "1  ../data/MURA-v1.1/train/XR_SHOULDER/patient00002/study1_positive/     1\n",
       "2  ../data/MURA-v1.1/train/XR_SHOULDER/patient00003/study1_positive/     1\n",
       "3  ../data/MURA-v1.1/train/XR_SHOULDER/patient00004/study1_positive/     1\n",
       "4  ../data/MURA-v1.1/train/XR_SHOULDER/patient00005/study1_positive/     1"
      ]
     },
     "execution_count": 14,
     "metadata": {},
     "output_type": "execute_result"
    }
   ],
   "source": [
    "inspect_df(train_labeled_studies)"
   ]
  },
  {
   "cell_type": "code",
   "execution_count": 15,
   "id": "98c49b41",
   "metadata": {
    "scrolled": true
   },
   "outputs": [
    {
     "name": "stdout",
     "output_type": "stream",
     "text": [
      "shape: (36808, 6)\n"
     ]
    },
    {
     "data": {
      "text/html": [
       "<div>\n",
       "<style scoped>\n",
       "    .dataframe tbody tr th:only-of-type {\n",
       "        vertical-align: middle;\n",
       "    }\n",
       "\n",
       "    .dataframe tbody tr th {\n",
       "        vertical-align: top;\n",
       "    }\n",
       "\n",
       "    .dataframe thead th {\n",
       "        text-align: right;\n",
       "    }\n",
       "</style>\n",
       "<table border=\"1\" class=\"dataframe\">\n",
       "  <thead>\n",
       "    <tr style=\"text-align: right;\">\n",
       "      <th></th>\n",
       "      <th>image_path</th>\n",
       "      <th>study_type</th>\n",
       "      <th>patient</th>\n",
       "      <th>study</th>\n",
       "      <th>study_path</th>\n",
       "      <th>label</th>\n",
       "    </tr>\n",
       "  </thead>\n",
       "  <tbody>\n",
       "    <tr>\n",
       "      <th>0</th>\n",
       "      <td>../data/MURA-v1.1/train/XR_SHOULDER/patient00001/study1_positive/image1.png</td>\n",
       "      <td>XR_SHOULDER</td>\n",
       "      <td>patient00001</td>\n",
       "      <td>study1_positive</td>\n",
       "      <td>../data/MURA-v1.1/train/XR_SHOULDER/patient00001/study1_positive/</td>\n",
       "      <td>1</td>\n",
       "    </tr>\n",
       "    <tr>\n",
       "      <th>1</th>\n",
       "      <td>../data/MURA-v1.1/train/XR_SHOULDER/patient00001/study1_positive/image2.png</td>\n",
       "      <td>XR_SHOULDER</td>\n",
       "      <td>patient00001</td>\n",
       "      <td>study1_positive</td>\n",
       "      <td>../data/MURA-v1.1/train/XR_SHOULDER/patient00001/study1_positive/</td>\n",
       "      <td>1</td>\n",
       "    </tr>\n",
       "    <tr>\n",
       "      <th>2</th>\n",
       "      <td>../data/MURA-v1.1/train/XR_SHOULDER/patient00001/study1_positive/image3.png</td>\n",
       "      <td>XR_SHOULDER</td>\n",
       "      <td>patient00001</td>\n",
       "      <td>study1_positive</td>\n",
       "      <td>../data/MURA-v1.1/train/XR_SHOULDER/patient00001/study1_positive/</td>\n",
       "      <td>1</td>\n",
       "    </tr>\n",
       "    <tr>\n",
       "      <th>3</th>\n",
       "      <td>../data/MURA-v1.1/train/XR_SHOULDER/patient00002/study1_positive/image1.png</td>\n",
       "      <td>XR_SHOULDER</td>\n",
       "      <td>patient00002</td>\n",
       "      <td>study1_positive</td>\n",
       "      <td>../data/MURA-v1.1/train/XR_SHOULDER/patient00002/study1_positive/</td>\n",
       "      <td>1</td>\n",
       "    </tr>\n",
       "    <tr>\n",
       "      <th>4</th>\n",
       "      <td>../data/MURA-v1.1/train/XR_SHOULDER/patient00002/study1_positive/image2.png</td>\n",
       "      <td>XR_SHOULDER</td>\n",
       "      <td>patient00002</td>\n",
       "      <td>study1_positive</td>\n",
       "      <td>../data/MURA-v1.1/train/XR_SHOULDER/patient00002/study1_positive/</td>\n",
       "      <td>1</td>\n",
       "    </tr>\n",
       "  </tbody>\n",
       "</table>\n",
       "</div>"
      ],
      "text/plain": [
       "                                                                    image_path  \\\n",
       "0  ../data/MURA-v1.1/train/XR_SHOULDER/patient00001/study1_positive/image1.png   \n",
       "1  ../data/MURA-v1.1/train/XR_SHOULDER/patient00001/study1_positive/image2.png   \n",
       "2  ../data/MURA-v1.1/train/XR_SHOULDER/patient00001/study1_positive/image3.png   \n",
       "3  ../data/MURA-v1.1/train/XR_SHOULDER/patient00002/study1_positive/image1.png   \n",
       "4  ../data/MURA-v1.1/train/XR_SHOULDER/patient00002/study1_positive/image2.png   \n",
       "\n",
       "    study_type       patient            study  \\\n",
       "0  XR_SHOULDER  patient00001  study1_positive   \n",
       "1  XR_SHOULDER  patient00001  study1_positive   \n",
       "2  XR_SHOULDER  patient00001  study1_positive   \n",
       "3  XR_SHOULDER  patient00002  study1_positive   \n",
       "4  XR_SHOULDER  patient00002  study1_positive   \n",
       "\n",
       "                                                          study_path label  \n",
       "0  ../data/MURA-v1.1/train/XR_SHOULDER/patient00001/study1_positive/     1  \n",
       "1  ../data/MURA-v1.1/train/XR_SHOULDER/patient00001/study1_positive/     1  \n",
       "2  ../data/MURA-v1.1/train/XR_SHOULDER/patient00001/study1_positive/     1  \n",
       "3  ../data/MURA-v1.1/train/XR_SHOULDER/patient00002/study1_positive/     1  \n",
       "4  ../data/MURA-v1.1/train/XR_SHOULDER/patient00002/study1_positive/     1  "
      ]
     },
     "execution_count": 15,
     "metadata": {},
     "output_type": "execute_result"
    }
   ],
   "source": [
    "ref_trainset = pd.merge(\n",
    "    train_image_paths, train_labeled_studies, how=\"inner\", on=\"study_path\"\n",
    ")\n",
    "\n",
    "inspect_df(ref_trainset)"
   ]
  },
  {
   "cell_type": "markdown",
   "id": "41eafe23",
   "metadata": {},
   "source": [
    "#### Create a tensorflow input pipeline for the training data"
   ]
  },
  {
   "cell_type": "code",
   "execution_count": 16,
   "id": "19f477b2",
   "metadata": {},
   "outputs": [],
   "source": [
    "IMAGE_WIDTH = 224\n",
    "IMAGE_HEIGHT = 224"
   ]
  },
  {
   "cell_type": "markdown",
   "id": "135b50bf",
   "metadata": {},
   "source": [
    "Since image directory follows a specific ontological structure (7 upper extremities aka study types) we will shuffle the training dataset beforehand in order to ensure that the validation set will be representable of all study types. \n",
    "\n",
    "This is due to the fact that tf.keras `tf.keras.preprocessing.image.ImageDataGenerator` first performs the train-val split and then shuffles per epoch by default."
   ]
  },
  {
   "cell_type": "code",
   "execution_count": 17,
   "id": "ecdf24d7",
   "metadata": {},
   "outputs": [],
   "source": [
    "ref_trainset = shuffle(ref_trainset, random_state=SEED)"
   ]
  },
  {
   "cell_type": "code",
   "execution_count": 18,
   "id": "c8637a1c",
   "metadata": {},
   "outputs": [],
   "source": [
    "training = tf.keras.preprocessing.image.ImageDataGenerator(\n",
    "    rotation_range=30,\n",
    "    horizontal_flip=True,\n",
    "    fill_mode=\"constant\",\n",
    "    cval=0.0,\n",
    "    validation_split=0.2,\n",
    "    preprocessing_function=tf.keras.applications.densenet.preprocess_input,\n",
    ")"
   ]
  },
  {
   "cell_type": "code",
   "execution_count": 19,
   "id": "21f38eee",
   "metadata": {},
   "outputs": [
    {
     "name": "stdout",
     "output_type": "stream",
     "text": [
      "Found 29447 validated image filenames belonging to 2 classes.\n"
     ]
    }
   ],
   "source": [
    "trainset = training.flow_from_dataframe(\n",
    "    dataframe=ref_trainset,\n",
    "    x_col=\"image_path\",\n",
    "    y_col=\"label\",\n",
    "    target_size=(IMAGE_WIDTH, IMAGE_HEIGHT),\n",
    "    class_mode=\"binary\",\n",
    "    batch_size=8,\n",
    "    seed=SEED,\n",
    "    shuffle=True,\n",
    "    subset=\"training\",\n",
    ")"
   ]
  },
  {
   "cell_type": "code",
   "execution_count": 20,
   "id": "3d3baff1",
   "metadata": {},
   "outputs": [
    {
     "name": "stdout",
     "output_type": "stream",
     "text": [
      "Found 7361 validated image filenames belonging to 2 classes.\n"
     ]
    }
   ],
   "source": [
    "validationset = training.flow_from_dataframe(\n",
    "    dataframe=ref_trainset,\n",
    "    x_col=\"image_path\",\n",
    "    y_col=\"label\",\n",
    "    target_size=(IMAGE_WIDTH, IMAGE_HEIGHT),\n",
    "    class_mode=\"binary\",\n",
    "    batch_size=8,\n",
    "    seed=SEED,\n",
    "    shuffle=False,\n",
    "    subset=\"validation\",\n",
    ")"
   ]
  },
  {
   "cell_type": "markdown",
   "id": "92e2665b",
   "metadata": {},
   "source": [
    "### DenseNet201 architecture, pretrained on ImageNet"
   ]
  },
  {
   "cell_type": "code",
   "execution_count": 21,
   "id": "4e3a6125",
   "metadata": {},
   "outputs": [
    {
     "name": "stderr",
     "output_type": "stream",
     "text": [
      "2022-04-08 23:40:31.519107: I tensorflow/core/platform/cpu_feature_guard.cc:151] This TensorFlow binary is optimized with oneAPI Deep Neural Network Library (oneDNN) to use the following CPU instructions in performance-critical operations:  AVX2 FMA\n",
      "To enable them in other operations, rebuild TensorFlow with the appropriate compiler flags.\n",
      "2022-04-08 23:40:31.520144: I tensorflow/stream_executor/cuda/cuda_gpu_executor.cc:936] successful NUMA node read from SysFS had negative value (-1), but there must be at least one NUMA node, so returning NUMA node zero\n",
      "2022-04-08 23:40:31.520339: I tensorflow/stream_executor/cuda/cuda_gpu_executor.cc:936] successful NUMA node read from SysFS had negative value (-1), but there must be at least one NUMA node, so returning NUMA node zero\n",
      "2022-04-08 23:40:31.520458: I tensorflow/stream_executor/cuda/cuda_gpu_executor.cc:936] successful NUMA node read from SysFS had negative value (-1), but there must be at least one NUMA node, so returning NUMA node zero\n",
      "2022-04-08 23:40:32.236075: I tensorflow/stream_executor/cuda/cuda_gpu_executor.cc:936] successful NUMA node read from SysFS had negative value (-1), but there must be at least one NUMA node, so returning NUMA node zero\n",
      "2022-04-08 23:40:32.236244: I tensorflow/stream_executor/cuda/cuda_gpu_executor.cc:936] successful NUMA node read from SysFS had negative value (-1), but there must be at least one NUMA node, so returning NUMA node zero\n",
      "2022-04-08 23:40:32.236367: I tensorflow/stream_executor/cuda/cuda_gpu_executor.cc:936] successful NUMA node read from SysFS had negative value (-1), but there must be at least one NUMA node, so returning NUMA node zero\n",
      "2022-04-08 23:40:32.236728: I tensorflow/core/common_runtime/gpu/gpu_device.cc:1525] Created device /job:localhost/replica:0/task:0/device:GPU:0 with 2134 MB memory:  -> device: 0, name: Quadro T1000, pci bus id: 0000:01:00.0, compute capability: 7.5\n"
     ]
    }
   ],
   "source": [
    "METRICS = [\n",
    "    tf.keras.metrics.TruePositives(name=\"tp\"),\n",
    "    tf.keras.metrics.FalsePositives(name=\"fp\"),\n",
    "    tf.keras.metrics.TrueNegatives(name=\"tn\"),\n",
    "    tf.keras.metrics.FalseNegatives(name=\"fn\"),\n",
    "    tf.keras.metrics.BinaryAccuracy(name=\"binary_acc\"),\n",
    "    tf.keras.metrics.Precision(name=\"precision\"),\n",
    "    tf.keras.metrics.Recall(name=\"recall\"),\n",
    "    F1Score(name=\"f1_score\"),\n",
    "    tf.keras.metrics.AUC(name=\"roc_auc\", curve=\"ROC\"),\n",
    "    tf.keras.metrics.AUC(name=\"pr_auc\", curve=\"PR\"),\n",
    "    tfa.metrics.CohenKappa(name=\"cohen_kappa\", num_classes=2),\n",
    "]"
   ]
  },
  {
   "cell_type": "code",
   "execution_count": 22,
   "id": "30921b05",
   "metadata": {},
   "outputs": [],
   "source": [
    "\"\"\"\n",
    "Densenet-201 model from `\"Densely Connected Convolutional Networks\" <https://arxiv.org/pdf/1608.06993.pdf>`_.\n",
    "\n",
    "We will opt for max pooling for feature extraction, since we want to \"emphasize\" any sharp features on the image\n",
    "(e.g hardware placed on human body that most definitely suggests abnormality).\n",
    "\"\"\"\n",
    "densenet = tf.keras.applications.densenet.DenseNet201(\n",
    "    include_top=False,  # do not include the fully-connected layer at the top of the network\n",
    "    weights=\"imagenet\",\n",
    "    input_shape=(IMAGE_WIDTH, IMAGE_HEIGHT, 3),\n",
    "    pooling=\"max\",  # pooling mode for feature extraction\n",
    "    classes=2,\n",
    ")"
   ]
  },
  {
   "cell_type": "code",
   "execution_count": 23,
   "id": "202355bd",
   "metadata": {},
   "outputs": [],
   "source": [
    "def make_densenet_model(\n",
    "    base_model: tf.keras.applications.densenet.DenseNet201,\n",
    ") -> tf.keras.Model:\n",
    "\n",
    "    # freeze base model\n",
    "    base_model.trainable = False\n",
    "\n",
    "    inputs = tf.keras.Input(shape=(IMAGE_WIDTH, IMAGE_HEIGHT, 3))\n",
    "    x = base_model(inputs, training=False)\n",
    "    x = tf.keras.layers.Dropout(rate=0.2)(x)\n",
    "    output = tf.keras.layers.Dense(units=1, activation=\"sigmoid\")(x)\n",
    "\n",
    "    model = tf.keras.Model(inputs, output)\n",
    "\n",
    "    model.compile(\n",
    "        optimizer=tf.keras.optimizers.Adam(learning_rate=0.0001),\n",
    "        loss=tf.keras.losses.BinaryCrossentropy(),\n",
    "        metrics=METRICS,\n",
    "    )\n",
    "\n",
    "    return model"
   ]
  },
  {
   "cell_type": "code",
   "execution_count": 24,
   "id": "b2e68f4f",
   "metadata": {},
   "outputs": [],
   "source": [
    "model = make_densenet_model(base_model=densenet)"
   ]
  },
  {
   "cell_type": "code",
   "execution_count": 25,
   "id": "1c19ad13",
   "metadata": {
    "scrolled": false
   },
   "outputs": [
    {
     "name": "stdout",
     "output_type": "stream",
     "text": [
      "Model: \"model\"\n",
      "_________________________________________________________________\n",
      " Layer (type)                Output Shape              Param #   \n",
      "=================================================================\n",
      " input_2 (InputLayer)        [(None, 224, 224, 3)]     0         \n",
      "                                                                 \n",
      " densenet201 (Functional)    (None, 1920)              18321984  \n",
      "                                                                 \n",
      " dropout (Dropout)           (None, 1920)              0         \n",
      "                                                                 \n",
      " dense (Dense)               (None, 1)                 1921      \n",
      "                                                                 \n",
      "=================================================================\n",
      "Total params: 18,323,905\n",
      "Trainable params: 1,921\n",
      "Non-trainable params: 18,321,984\n",
      "_________________________________________________________________\n"
     ]
    }
   ],
   "source": [
    "model.summary()"
   ]
  },
  {
   "cell_type": "code",
   "execution_count": 26,
   "id": "97981226",
   "metadata": {
    "scrolled": false
   },
   "outputs": [
    {
     "data": {
      "image/png": "[encoded data removed]",
      "text/plain": [
       "<IPython.core.display.Image object>"
      ]
     },
     "execution_count": 26,
     "metadata": {},
     "output_type": "execute_result"
    }
   ],
   "source": [
    "tf.keras.utils.plot_model(\n",
    "    model,\n",
    "    to_file=f\"../static/densenet201_pt_imagenet-all-study-types-{model.count_params()}.png\",\n",
    "    show_shapes=True,\n",
    "    show_layer_names=True,\n",
    ")"
   ]
  },
  {
   "cell_type": "code",
   "execution_count": 27,
   "id": "4213d77b",
   "metadata": {},
   "outputs": [],
   "source": [
    "early_stopping = tf.keras.callbacks.EarlyStopping(\n",
    "    monitor=\"val_cohen_kappa\",\n",
    "    verbose=1,\n",
    "    patience=5,\n",
    "    mode=\"max\",\n",
    "    baseline=0.0,\n",
    "    restore_best_weights=True,\n",
    ")"
   ]
  },
  {
   "cell_type": "code",
   "execution_count": 28,
   "id": "aa319ec8",
   "metadata": {
    "scrolled": false
   },
   "outputs": [
    {
     "name": "stdout",
     "output_type": "stream",
     "text": [
      "Epoch 1/20\n"
     ]
    },
    {
     "name": "stderr",
     "output_type": "stream",
     "text": [
      "2022-04-08 23:40:45.135131: I tensorflow/stream_executor/cuda/cuda_dnn.cc:368] Loaded cuDNN version 8303\n",
      "2022-04-08 23:40:46.597295: W tensorflow/core/common_runtime/bfc_allocator.cc:343] Garbage collection: deallocate free memory regions (i.e., allocations) so that we can re-allocate a larger region to avoid OOM due to memory fragmentation. If you see this message frequently, you are running near the threshold of the available device memory and re-allocation may incur great performance overhead. You may try smaller batch sizes to observe the performance impact. Set TF_ENABLE_GPU_GARBAGE_COLLECTION=false if you'd like to disable this feature.\n",
      "2022-04-08 23:40:48.945135: W tensorflow/core/common_runtime/bfc_allocator.cc:275] Allocator (GPU_0_bfc) ran out of memory trying to allocate 3.50GiB with freed_by_count=0. The caller indicates that this is not a failure, but may mean that there could be performance gains if more memory were available.\n",
      "2022-04-08 23:40:48.945162: W tensorflow/core/common_runtime/bfc_allocator.cc:275] Allocator (GPU_0_bfc) ran out of memory trying to allocate 3.50GiB with freed_by_count=0. The caller indicates that this is not a failure, but may mean that there could be performance gains if more memory were available.\n"
     ]
    },
    {
     "name": "stdout",
     "output_type": "stream",
     "text": [
      "3185/3681 [========================>.....] - ETA: 45s - loss: 0.9047 - tp: 4801.0000 - fp: 4821.0000 - tn: 10302.0000 - fn: 5556.0000 - binary_acc: 0.5927 - precision: 0.4990 - recall: 0.4636 - f1_score: 0.4806 - roc_auc: 0.6012 - pr_auc: 0.4981 - cohen_kappa: 0.1464"
     ]
    },
    {
     "name": "stderr",
     "output_type": "stream",
     "text": [
      "2022-04-08 23:45:44.527618: W tensorflow/core/common_runtime/bfc_allocator.cc:275] Allocator (GPU_0_bfc) ran out of memory trying to allocate 3.49GiB with freed_by_count=0. The caller indicates that this is not a failure, but may mean that there could be performance gains if more memory were available.\n",
      "2022-04-08 23:45:44.527653: W tensorflow/core/common_runtime/bfc_allocator.cc:275] Allocator (GPU_0_bfc) ran out of memory trying to allocate 3.49GiB with freed_by_count=0. The caller indicates that this is not a failure, but may mean that there could be performance gains if more memory were available.\n"
     ]
    },
    {
     "name": "stdout",
     "output_type": "stream",
     "text": [
      "3681/3681 [==============================] - ETA: 0s - loss: 0.8825 - tp: 5599.0000 - fp: 5474.0000 - tn: 12042.0000 - fn: 6332.0000 - binary_acc: 0.5991 - precision: 0.5056 - recall: 0.4693 - f1_score: 0.4868 - roc_auc: 0.6087 - pr_auc: 0.5051 - cohen_kappa: 0.1586"
     ]
    },
    {
     "name": "stderr",
     "output_type": "stream",
     "text": [
      "2022-04-08 23:48:12.896995: W tensorflow/core/common_runtime/bfc_allocator.cc:275] Allocator (GPU_0_bfc) ran out of memory trying to allocate 3.47GiB with freed_by_count=0. The caller indicates that this is not a failure, but may mean that there could be performance gains if more memory were available.\n",
      "2022-04-08 23:48:12.897034: W tensorflow/core/common_runtime/bfc_allocator.cc:275] Allocator (GPU_0_bfc) ran out of memory trying to allocate 3.47GiB with freed_by_count=0. The caller indicates that this is not a failure, but may mean that there could be performance gains if more memory were available.\n"
     ]
    },
    {
     "name": "stdout",
     "output_type": "stream",
     "text": [
      "3681/3681 [==============================] - 458s 121ms/step - loss: 0.8825 - tp: 5599.0000 - fp: 5474.0000 - tn: 12042.0000 - fn: 6332.0000 - binary_acc: 0.5991 - precision: 0.5056 - recall: 0.4693 - f1_score: 0.4868 - roc_auc: 0.6087 - pr_auc: 0.5051 - cohen_kappa: 0.1586 - val_loss: 0.6214 - val_tp: 1631.0000 - val_fp: 1056.0000 - val_tn: 3363.0000 - val_fn: 1311.0000 - val_binary_acc: 0.6784 - val_precision: 0.6070 - val_recall: 0.5544 - val_f1_score: 0.5795 - val_roc_auc: 0.7179 - val_pr_auc: 0.6320 - val_cohen_kappa: 0.3201\n",
      "Epoch 2/20\n",
      "3681/3681 [==============================] - 406s 110ms/step - loss: 0.6684 - tp: 6311.0000 - fp: 4331.0000 - tn: 13185.0000 - fn: 5620.0000 - binary_acc: 0.6621 - precision: 0.5930 - recall: 0.5290 - f1_score: 0.5592 - roc_auc: 0.6979 - pr_auc: 0.6236 - cohen_kappa: 0.2866 - val_loss: 0.5622 - val_tp: 1450.0000 - val_fp: 610.0000 - val_tn: 3809.0000 - val_fn: 1492.0000 - val_binary_acc: 0.7144 - val_precision: 0.7039 - val_recall: 0.4929 - val_f1_score: 0.5798 - val_roc_auc: 0.7654 - val_pr_auc: 0.6995 - val_cohen_kappa: 0.3735\n",
      "Epoch 3/20\n",
      "3681/3681 [==============================] - 408s 111ms/step - loss: 0.6044 - tp: 6461.0000 - fp: 3732.0000 - tn: 13784.0000 - fn: 5470.0000 - binary_acc: 0.6875 - precision: 0.6339 - recall: 0.5415 - f1_score: 0.5841 - roc_auc: 0.7329 - pr_auc: 0.6678 - cohen_kappa: 0.3363 - val_loss: 0.5459 - val_tp: 1645.0000 - val_fp: 703.0000 - val_tn: 3716.0000 - val_fn: 1297.0000 - val_binary_acc: 0.7283 - val_precision: 0.7006 - val_recall: 0.5591 - val_f1_score: 0.6219 - val_roc_auc: 0.7790 - val_pr_auc: 0.7211 - val_cohen_kappa: 0.4140\n",
      "Epoch 4/20\n",
      "3681/3681 [==============================] - 420s 114ms/step - loss: 0.5839 - tp: 6520.0000 - fp: 3439.0000 - tn: 14077.0000 - fn: 5411.0000 - binary_acc: 0.6995 - precision: 0.6547 - recall: 0.5465 - f1_score: 0.5957 - roc_auc: 0.7451 - pr_auc: 0.6870 - cohen_kappa: 0.3596 - val_loss: 0.5439 - val_tp: 1624.0000 - val_fp: 652.0000 - val_tn: 3767.0000 - val_fn: 1318.0000 - val_binary_acc: 0.7324 - val_precision: 0.7135 - val_recall: 0.5520 - val_f1_score: 0.6225 - val_roc_auc: 0.7826 - val_pr_auc: 0.7282 - val_cohen_kappa: 0.4204\n",
      "Epoch 5/20\n",
      "3681/3681 [==============================] - 396s 108ms/step - loss: 0.5717 - tp: 6593.0000 - fp: 3273.0000 - tn: 14243.0000 - fn: 5338.0000 - binary_acc: 0.7076 - precision: 0.6683 - recall: 0.5526 - f1_score: 0.6049 - roc_auc: 0.7551 - pr_auc: 0.6984 - cohen_kappa: 0.3761 - val_loss: 0.5511 - val_tp: 1206.0000 - val_fp: 300.0000 - val_tn: 4119.0000 - val_fn: 1736.0000 - val_binary_acc: 0.7234 - val_precision: 0.8008 - val_recall: 0.4099 - val_f1_score: 0.5423 - val_roc_auc: 0.7891 - val_pr_auc: 0.7356 - val_cohen_kappa: 0.3724\n",
      "Epoch 6/20\n",
      "3681/3681 [==============================] - 412s 112ms/step - loss: 0.5679 - tp: 6622.0000 - fp: 3157.0000 - tn: 14359.0000 - fn: 5309.0000 - binary_acc: 0.7125 - precision: 0.6772 - recall: 0.5550 - f1_score: 0.6100 - roc_auc: 0.7586 - pr_auc: 0.7039 - cohen_kappa: 0.3859 - val_loss: 0.5373 - val_tp: 1715.0000 - val_fp: 735.0000 - val_tn: 3684.0000 - val_fn: 1227.0000 - val_binary_acc: 0.7335 - val_precision: 0.7000 - val_recall: 0.5829 - val_f1_score: 0.6361 - val_roc_auc: 0.7908 - val_pr_auc: 0.7348 - val_cohen_kappa: 0.4286\n",
      "Epoch 7/20\n",
      "3681/3681 [==============================] - 426s 116ms/step - loss: 0.5656 - tp: 6620.0000 - fp: 3100.0000 - tn: 14416.0000 - fn: 5311.0000 - binary_acc: 0.7144 - precision: 0.6811 - recall: 0.5549 - f1_score: 0.6115 - roc_auc: 0.7608 - pr_auc: 0.7069 - cohen_kappa: 0.3894 - val_loss: 0.5391 - val_tp: 1782.0000 - val_fp: 799.0000 - val_tn: 3620.0000 - val_fn: 1160.0000 - val_binary_acc: 0.7339 - val_precision: 0.6904 - val_recall: 0.6057 - val_f1_score: 0.6453 - val_roc_auc: 0.7891 - val_pr_auc: 0.7374 - val_cohen_kappa: 0.4338\n",
      "Epoch 8/20\n",
      "3681/3681 [==============================] - 424s 115ms/step - loss: 0.5669 - tp: 6571.0000 - fp: 3194.0000 - tn: 14322.0000 - fn: 5360.0000 - binary_acc: 0.7095 - precision: 0.6729 - recall: 0.5508 - f1_score: 0.6057 - roc_auc: 0.7590 - pr_auc: 0.7059 - cohen_kappa: 0.3794 - val_loss: 0.5590 - val_tp: 2171.0000 - val_fp: 1337.0000 - val_tn: 3082.0000 - val_fn: 771.0000 - val_binary_acc: 0.7136 - val_precision: 0.6189 - val_recall: 0.7379 - val_f1_score: 0.6732 - val_roc_auc: 0.7941 - val_pr_auc: 0.7360 - val_cohen_kappa: 0.4218\n",
      "Epoch 9/20\n",
      "3681/3681 [==============================] - 428s 116ms/step - loss: 0.5658 - tp: 6629.0000 - fp: 3152.0000 - tn: 14364.0000 - fn: 5302.0000 - binary_acc: 0.7129 - precision: 0.6777 - recall: 0.5556 - f1_score: 0.6106 - roc_auc: 0.7603 - pr_auc: 0.7054 - cohen_kappa: 0.3868 - val_loss: 0.5385 - val_tp: 1584.0000 - val_fp: 580.0000 - val_tn: 3839.0000 - val_fn: 1358.0000 - val_binary_acc: 0.7367 - val_precision: 0.7320 - val_recall: 0.5384 - val_f1_score: 0.6204 - val_roc_auc: 0.7907 - val_pr_auc: 0.7327 - val_cohen_kappa: 0.4260\n",
      "Epoch 10/20\n",
      "3681/3681 [==============================] - 398s 108ms/step - loss: 0.5645 - tp: 6623.0000 - fp: 3103.0000 - tn: 14413.0000 - fn: 5308.0000 - binary_acc: 0.7144 - precision: 0.6810 - recall: 0.5551 - f1_score: 0.6116 - roc_auc: 0.7610 - pr_auc: 0.7094 - cohen_kappa: 0.3894 - val_loss: 0.5400 - val_tp: 1413.0000 - val_fp: 433.0000 - val_tn: 3986.0000 - val_fn: 1529.0000 - val_binary_acc: 0.7335 - val_precision: 0.7654 - val_recall: 0.4803 - val_f1_score: 0.5902 - val_roc_auc: 0.7918 - val_pr_auc: 0.7342 - val_cohen_kappa: 0.4077\n",
      "Epoch 11/20\n",
      "3681/3681 [==============================] - 408s 111ms/step - loss: 0.5662 - tp: 6560.0000 - fp: 3175.0000 - tn: 14341.0000 - fn: 5371.0000 - binary_acc: 0.7098 - precision: 0.6739 - recall: 0.5498 - f1_score: 0.6056 - roc_auc: 0.7596 - pr_auc: 0.7047 - cohen_kappa: 0.3797 - val_loss: 0.5425 - val_tp: 1514.0000 - val_fp: 505.0000 - val_tn: 3914.0000 - val_fn: 1428.0000 - val_binary_acc: 0.7374 - val_precision: 0.7499 - val_recall: 0.5146 - val_f1_score: 0.6104 - val_roc_auc: 0.7866 - val_pr_auc: 0.7324 - val_cohen_kappa: 0.4225\n",
      "Epoch 12/20\n",
      "3681/3681 [==============================] - ETA: 0s - loss: 0.5662 - tp: 6643.0000 - fp: 3131.0000 - tn: 14385.0000 - fn: 5288.0000 - binary_acc: 0.7141 - precision: 0.6797 - recall: 0.5568 - f1_score: 0.6121 - roc_auc: 0.7601 - pr_auc: 0.7046 - cohen_kappa: 0.3893Restoring model weights from the end of the best epoch: 7.\n",
      "3681/3681 [==============================] - 409s 111ms/step - loss: 0.5662 - tp: 6643.0000 - fp: 3131.0000 - tn: 14385.0000 - fn: 5288.0000 - binary_acc: 0.7141 - precision: 0.6797 - recall: 0.5568 - f1_score: 0.6121 - roc_auc: 0.7601 - pr_auc: 0.7046 - cohen_kappa: 0.3893 - val_loss: 0.5396 - val_tp: 1371.0000 - val_fp: 394.0000 - val_tn: 4025.0000 - val_fn: 1571.0000 - val_binary_acc: 0.7331 - val_precision: 0.7768 - val_recall: 0.4660 - val_f1_score: 0.5825 - val_roc_auc: 0.7948 - val_pr_auc: 0.7383 - val_cohen_kappa: 0.4039\n",
      "Epoch 12: early stopping\n"
     ]
    }
   ],
   "source": [
    "history = model.fit(\n",
    "    trainset,\n",
    "    epochs=20,\n",
    "    validation_data=validationset,\n",
    "    callbacks=[early_stopping],\n",
    ")"
   ]
  },
  {
   "cell_type": "code",
   "execution_count": 29,
   "id": "d4fda3ed",
   "metadata": {},
   "outputs": [
    {
     "data": {
      "image/png": "[encoded data removed]",
      "text/plain": [
       "<Figure size 1296x1080 with 4 Axes>"
      ]
     },
     "metadata": {},
     "output_type": "display_data"
    }
   ],
   "source": [
    "plot_metrics(history)"
   ]
  },
  {
   "cell_type": "code",
   "execution_count": 30,
   "id": "96ab3e5e",
   "metadata": {},
   "outputs": [
    {
     "name": "stdout",
     "output_type": "stream",
     "text": [
      "Saving: ../models/densenet201_pt_imagenet-all-study-types-18323905.h5\n",
      "WARNING:tensorflow:Compiled the loaded model, but the compiled metrics have yet to be built. `model.compile_metrics` will be empty until you train or evaluate the model.\n"
     ]
    }
   ],
   "source": [
    "# model naming convention: {architecture}-{which-study-type?}-{num-parameters}.h5\n",
    "#\n",
    "# to load models:\n",
    "# model = tf.keras.models.load_model(\n",
    "#     '../models/densenet201_pt_imagenet-all-study-types-?.h5',\n",
    "#     custom_objects={'F1Score': F1Score}\n",
    "# )\n",
    "# densenet = tf.keras.models.load_model(\n",
    "#     '../models/densenet201_base.h5',\n",
    "# )\n",
    "print(\n",
    "    f\"Saving: ../models/densenet201_pt_imagenet-all-study-types-{model.count_params()}.h5\"\n",
    ")\n",
    "model.save(\n",
    "    f\"../models/densenet201_pt_imagenet-all-study-types-{model.count_params()}.h5\"\n",
    ")\n",
    "densenet.save(\"../models/densenet201_base.h5\")"
   ]
  },
  {
   "cell_type": "code",
   "execution_count": 31,
   "id": "54ecc66f",
   "metadata": {},
   "outputs": [],
   "source": [
    "# fine-tuning: unfreeze the base model and train the entire model end-to-end with a low learning rate\n",
    "densenet.trainable = True\n",
    "\n",
    "model.compile(\n",
    "    optimizer=tf.keras.optimizers.Adam(\n",
    "        1e-5\n",
    "    ),  # we need small learning rate to avoid catastrophic forgetting\n",
    "    loss=tf.keras.losses.BinaryCrossentropy(),\n",
    "    metrics=METRICS,\n",
    ")"
   ]
  },
  {
   "cell_type": "code",
   "execution_count": 32,
   "id": "656215e6",
   "metadata": {},
   "outputs": [],
   "source": [
    "reduce_lr_on_plateau = tf.keras.callbacks.ReduceLROnPlateau(\n",
    "    monitor=\"val_cohen_kappa\",\n",
    "    verbose=1,\n",
    "    patience=4,\n",
    "    mode=\"max\",\n",
    "    factor=0.2,\n",
    "    min_lr=1e-10,\n",
    ")"
   ]
  },
  {
   "cell_type": "code",
   "execution_count": 33,
   "id": "3e36539b",
   "metadata": {
    "scrolled": false
   },
   "outputs": [
    {
     "name": "stdout",
     "output_type": "stream",
     "text": [
      "Epoch 1/10\n"
     ]
    },
    {
     "name": "stderr",
     "output_type": "stream",
     "text": [
      "2022-04-09 01:04:03.991831: W tensorflow/core/common_runtime/bfc_allocator.cc:275] Allocator (GPU_0_bfc) ran out of memory trying to allocate 547.19MiB with freed_by_count=0. The caller indicates that this is not a failure, but may mean that there could be performance gains if more memory were available.\n",
      "2022-04-09 01:04:03.991884: W tensorflow/core/common_runtime/bfc_allocator.cc:275] Allocator (GPU_0_bfc) ran out of memory trying to allocate 547.19MiB with freed_by_count=0. The caller indicates that this is not a failure, but may mean that there could be performance gains if more memory were available.\n",
      "2022-04-09 01:04:04.002866: W tensorflow/core/common_runtime/bfc_allocator.cc:275] Allocator (GPU_0_bfc) ran out of memory trying to allocate 550.17MiB with freed_by_count=0. The caller indicates that this is not a failure, but may mean that there could be performance gains if more memory were available.\n",
      "2022-04-09 01:04:04.002918: W tensorflow/core/common_runtime/bfc_allocator.cc:275] Allocator (GPU_0_bfc) ran out of memory trying to allocate 550.17MiB with freed_by_count=0. The caller indicates that this is not a failure, but may mean that there could be performance gains if more memory were available.\n"
     ]
    },
    {
     "name": "stdout",
     "output_type": "stream",
     "text": [
      "3681/3681 [==============================] - 1347s 361ms/step - loss: 0.5023 - tp: 8410.0000 - fp: 2464.0000 - tn: 19471.0000 - fn: 6463.0000 - binary_acc: 0.7575 - precision: 0.7734 - recall: 0.5655 - f1_score: 0.6533 - roc_auc: 0.8113 - pr_auc: 0.7747 - cohen_kappa: 0.4736 - val_loss: 0.4828 - val_tp: 2093.0000 - val_fp: 808.0000 - val_tn: 3611.0000 - val_fn: 849.0000 - val_binary_acc: 0.7749 - val_precision: 0.7215 - val_recall: 0.7114 - val_f1_score: 0.7164 - val_roc_auc: 0.8426 - val_pr_auc: 0.8128 - val_cohen_kappa: 0.5298 - lr: 1.0000e-05\n",
      "Epoch 2/10\n",
      "3681/3681 [==============================] - 1321s 359ms/step - loss: 0.4589 - tp: 7523.0000 - fp: 1629.0000 - tn: 15887.0000 - fn: 4408.0000 - binary_acc: 0.7950 - precision: 0.8220 - recall: 0.6305 - f1_score: 0.7137 - roc_auc: 0.8473 - pr_auc: 0.8243 - cohen_kappa: 0.5583 - val_loss: 0.4560 - val_tp: 1907.0000 - val_fp: 441.0000 - val_tn: 3978.0000 - val_fn: 1035.0000 - val_binary_acc: 0.7995 - val_precision: 0.8122 - val_recall: 0.6482 - val_f1_score: 0.7210 - val_roc_auc: 0.8521 - val_pr_auc: 0.8276 - val_cohen_kappa: 0.5676 - lr: 1.0000e-05\n",
      "Epoch 3/10\n",
      "3681/3681 [==============================] - 1320s 359ms/step - loss: 0.4377 - tp: 7842.0000 - fp: 1620.0000 - tn: 15896.0000 - fn: 4089.0000 - binary_acc: 0.8061 - precision: 0.8288 - recall: 0.6573 - f1_score: 0.7331 - roc_auc: 0.8617 - pr_auc: 0.8422 - cohen_kappa: 0.5841 - val_loss: 0.4866 - val_tp: 1492.0000 - val_fp: 152.0000 - val_tn: 4267.0000 - val_fn: 1450.0000 - val_binary_acc: 0.7824 - val_precision: 0.9075 - val_recall: 0.5071 - val_f1_score: 0.6507 - val_roc_auc: 0.8607 - val_pr_auc: 0.8345 - val_cohen_kappa: 0.5104 - lr: 1.0000e-05\n",
      "Epoch 4/10\n",
      "3681/3681 [==============================] - 1320s 359ms/step - loss: 0.4207 - tp: 8057.0000 - fp: 1562.0000 - tn: 15954.0000 - fn: 3874.0000 - binary_acc: 0.8154 - precision: 0.8376 - recall: 0.6753 - f1_score: 0.7477 - roc_auc: 0.8727 - pr_auc: 0.8556 - cohen_kappa: 0.6048 - val_loss: 0.4338 - val_tp: 2133.0000 - val_fp: 549.0000 - val_tn: 3870.0000 - val_fn: 809.0000 - val_binary_acc: 0.8155 - val_precision: 0.7953 - val_recall: 0.7250 - val_f1_score: 0.7585 - val_roc_auc: 0.8699 - val_pr_auc: 0.8466 - val_cohen_kappa: 0.6098 - lr: 1.0000e-05\n",
      "Epoch 5/10\n",
      "3681/3681 [==============================] - 1320s 358ms/step - loss: 0.4069 - tp: 8233.0000 - fp: 1515.0000 - tn: 16001.0000 - fn: 3698.0000 - binary_acc: 0.8230 - precision: 0.8446 - recall: 0.6901 - f1_score: 0.7595 - roc_auc: 0.8813 - pr_auc: 0.8664 - cohen_kappa: 0.6217 - val_loss: 0.4388 - val_tp: 1713.0000 - val_fp: 202.0000 - val_tn: 4217.0000 - val_fn: 1229.0000 - val_binary_acc: 0.8056 - val_precision: 0.8945 - val_recall: 0.5823 - val_f1_score: 0.7054 - val_roc_auc: 0.8692 - val_pr_auc: 0.8481 - val_cohen_kappa: 0.5698 - lr: 1.0000e-05\n",
      "Epoch 6/10\n",
      "3681/3681 [==============================] - 1320s 359ms/step - loss: 0.3914 - tp: 8416.0000 - fp: 1488.0000 - tn: 16028.0000 - fn: 3515.0000 - binary_acc: 0.8301 - precision: 0.8498 - recall: 0.7054 - f1_score: 0.7709 - roc_auc: 0.8908 - pr_auc: 0.8761 - cohen_kappa: 0.6377 - val_loss: 0.4360 - val_tp: 2001.0000 - val_fp: 467.0000 - val_tn: 3952.0000 - val_fn: 941.0000 - val_binary_acc: 0.8087 - val_precision: 0.8108 - val_recall: 0.6801 - val_f1_score: 0.7397 - val_roc_auc: 0.8674 - val_pr_auc: 0.8446 - val_cohen_kappa: 0.5904 - lr: 1.0000e-05\n",
      "Epoch 7/10\n",
      "3681/3681 [==============================] - 1320s 358ms/step - loss: 0.3771 - tp: 8590.0000 - fp: 1409.0000 - tn: 16107.0000 - fn: 3341.0000 - binary_acc: 0.8387 - precision: 0.8591 - recall: 0.7200 - f1_score: 0.7834 - roc_auc: 0.8983 - pr_auc: 0.8864 - cohen_kappa: 0.6565 - val_loss: 0.4331 - val_tp: 2092.0000 - val_fp: 550.0000 - val_tn: 3869.0000 - val_fn: 850.0000 - val_binary_acc: 0.8098 - val_precision: 0.7918 - val_recall: 0.7111 - val_f1_score: 0.7493 - val_roc_auc: 0.8686 - val_pr_auc: 0.8470 - val_cohen_kappa: 0.5968 - lr: 1.0000e-05\n",
      "Epoch 8/10\n",
      "3681/3681 [==============================] - ETA: 0s - loss: 0.3616 - tp: 8710.0000 - fp: 1406.0000 - tn: 16110.0000 - fn: 3221.0000 - binary_acc: 0.8429 - precision: 0.8610 - recall: 0.7300 - f1_score: 0.7901 - roc_auc: 0.9078 - pr_auc: 0.8953 - cohen_kappa: 0.6659\n",
      "Epoch 8: ReduceLROnPlateau reducing learning rate to 1.9999999494757505e-06.\n",
      "3681/3681 [==============================] - 1320s 359ms/step - loss: 0.3616 - tp: 8710.0000 - fp: 1406.0000 - tn: 16110.0000 - fn: 3221.0000 - binary_acc: 0.8429 - precision: 0.8610 - recall: 0.7300 - f1_score: 0.7901 - roc_auc: 0.9078 - pr_auc: 0.8953 - cohen_kappa: 0.6659 - val_loss: 0.4532 - val_tp: 1799.0000 - val_fp: 253.0000 - val_tn: 4166.0000 - val_fn: 1143.0000 - val_binary_acc: 0.8104 - val_precision: 0.8767 - val_recall: 0.6115 - val_f1_score: 0.7205 - val_roc_auc: 0.8699 - val_pr_auc: 0.8472 - val_cohen_kappa: 0.5837 - lr: 1.0000e-05\n",
      "Epoch 9/10\n",
      "3681/3681 [==============================] - 1321s 359ms/step - loss: 0.3131 - tp: 9217.0000 - fp: 1220.0000 - tn: 16296.0000 - fn: 2714.0000 - binary_acc: 0.8664 - precision: 0.8831 - recall: 0.7725 - f1_score: 0.8241 - roc_auc: 0.9309 - pr_auc: 0.9224 - cohen_kappa: 0.7172 - val_loss: 0.4216 - val_tp: 2125.0000 - val_fp: 433.0000 - val_tn: 3986.0000 - val_fn: 817.0000 - val_binary_acc: 0.8302 - val_precision: 0.8307 - val_recall: 0.7223 - val_f1_score: 0.7727 - val_roc_auc: 0.8819 - val_pr_auc: 0.8614 - val_cohen_kappa: 0.6382 - lr: 2.0000e-06\n",
      "Epoch 10/10\n",
      "3681/3681 [==============================] - 1321s 359ms/step - loss: 0.2955 - tp: 9383.0000 - fp: 1111.0000 - tn: 16405.0000 - fn: 2548.0000 - binary_acc: 0.8757 - precision: 0.8941 - recall: 0.7864 - f1_score: 0.8368 - roc_auc: 0.9386 - pr_auc: 0.9306 - cohen_kappa: 0.7372 - val_loss: 0.4282 - val_tp: 2167.0000 - val_fp: 526.0000 - val_tn: 3893.0000 - val_fn: 775.0000 - val_binary_acc: 0.8233 - val_precision: 0.8047 - val_recall: 0.7366 - val_f1_score: 0.7691 - val_roc_auc: 0.8800 - val_pr_auc: 0.8602 - val_cohen_kappa: 0.6264 - lr: 2.0000e-06\n"
     ]
    }
   ],
   "source": [
    "history = model.fit(\n",
    "    trainset,\n",
    "    epochs=10,\n",
    "    validation_data=validationset,\n",
    "    callbacks=[early_stopping, reduce_lr_on_plateau],\n",
    ")"
   ]
  },
  {
   "cell_type": "code",
   "execution_count": 34,
   "id": "e9b1776c",
   "metadata": {
    "scrolled": true
   },
   "outputs": [
    {
     "name": "stdout",
     "output_type": "stream",
     "text": [
      "Saving: ../models/densenet201_pt_imagenet-all-study-types-18323905.h5\n",
      "WARNING:tensorflow:Compiled the loaded model, but the compiled metrics have yet to be built. `model.compile_metrics` will be empty until you train or evaluate the model.\n"
     ]
    }
   ],
   "source": [
    "# model naming convention: {architecture}-{which-study-type?}-{num-parameters}.h5\n",
    "#\n",
    "# to load models:\n",
    "# model = tf.keras.models.load_model(\n",
    "#     '../models/densenet201_pt_imagenet-all-study-types-?.h5',\n",
    "#     custom_objects={'F1Score': F1Score}\n",
    "# )\n",
    "# densenet = tf.keras.models.load_model(\n",
    "#     '../models/densenet201_base.h5',\n",
    "# )\n",
    "print(\n",
    "    f\"Saving: ../models/densenet201_pt_imagenet-all-study-types-{model.count_params()}.h5\"\n",
    ")\n",
    "model.save(\n",
    "    f\"../models/densenet201_pt_imagenet-all-study-types-{model.count_params()}.h5\"\n",
    ")\n",
    "densenet.save(\"../models/densenet201_base.h5\")"
   ]
  },
  {
   "cell_type": "code",
   "execution_count": 35,
   "id": "69bdf980",
   "metadata": {},
   "outputs": [
    {
     "data": {
      "image/png": "[encoded data removed]",
      "text/plain": [
       "<Figure size 1296x1080 with 4 Axes>"
      ]
     },
     "metadata": {},
     "output_type": "display_data"
    }
   ],
   "source": [
    "plot_metrics(history)"
   ]
  },
  {
   "cell_type": "code",
   "execution_count": 36,
   "id": "9660337e",
   "metadata": {},
   "outputs": [
    {
     "name": "stdout",
     "output_type": "stream",
     "text": [
      "921/921 [==============================] - 76s 83ms/step - loss: 0.4265 - tp: 2167.0000 - fp: 511.0000 - tn: 3908.0000 - fn: 775.0000 - binary_acc: 0.8253 - precision: 0.8092 - recall: 0.7366 - f1_score: 0.7712 - roc_auc: 0.8815 - pr_auc: 0.8595 - cohen_kappa: 0.6304\n"
     ]
    }
   ],
   "source": [
    "# get the loss value & metrics values for the model in validation mode\n",
    "evaluation_metrics = model.evaluate(validationset, verbose=1)"
   ]
  },
  {
   "cell_type": "code",
   "execution_count": 37,
   "id": "7e502324",
   "metadata": {},
   "outputs": [
    {
     "name": "stdout",
     "output_type": "stream",
     "text": [
      "val loss    : 0.4265146851539612\n",
      "tp          : 2167.0\n",
      "fp          : 511.0\n",
      "tn          : 3908.0\n",
      "fn          : 775.0\n",
      "binary_acc  : 0.8252954483032227\n",
      "precision   : 0.8091859817504883\n",
      "recall      : 0.7365737557411194\n",
      "f1_score    : 0.771174430847168\n",
      "roc_auc     : 0.881514847278595\n",
      "pr_auc      : 0.8594996929168701\n",
      "cohen_kappa : 0.6303903460502625\n"
     ]
    }
   ],
   "source": [
    "loss = evaluation_metrics.pop(0)\n",
    "\n",
    "print(f\"val loss    : {loss}\")\n",
    "for metric, score in zip(METRICS, evaluation_metrics):\n",
    "\n",
    "    print(f\"{metric.name + ' ' * (12 - len(metric.name))}: {score}\")"
   ]
  },
  {
   "cell_type": "code",
   "execution_count": 38,
   "id": "9491c46f",
   "metadata": {},
   "outputs": [],
   "source": [
    "clean_up(model)\n",
    "clean_up(densenet)"
   ]
  }
 ],
 "metadata": {
  "kernelspec": {
   "display_name": "Python 3 (ipykernel)",
   "language": "python",
   "name": "python3"
  },
  "language_info": {
   "codemirror_mode": {
    "name": "ipython",
    "version": 3
   },
   "file_extension": ".py",
   "mimetype": "text/x-python",
   "name": "python",
   "nbconvert_exporter": "python",
   "pygments_lexer": "ipython3",
   "version": "3.8.10"
  }
 },
 "nbformat": 4,
 "nbformat_minor": 5
}
