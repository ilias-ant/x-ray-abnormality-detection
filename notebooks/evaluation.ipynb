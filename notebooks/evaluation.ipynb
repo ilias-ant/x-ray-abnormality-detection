{
 "cells": [
  {
   "cell_type": "markdown",
   "id": "ca1cb9b4",
   "metadata": {},
   "source": [
    "## X-Ray Abnormality Detection | Evaluation"
   ]
  },
  {
   "cell_type": "markdown",
   "id": "1becbf68",
   "metadata": {},
   "source": [
    "> **Antonopoulos Ilias** ( *p3352004* ) <br />\n",
    "> **Ndoja Silva** ( *p3352017* ) <br />\n",
    "> **MSc in Data Science, AUEB**"
   ]
  },
  {
   "cell_type": "markdown",
   "id": "6fd3690c",
   "metadata": {},
   "source": [
    "## Table of Contents\n",
    "\n",
    "\n",
    "* [CNN architecture with sensible defaults](#CNN-architecture-with-sensible-defaults,-all-study-types)\n",
    "* [DenseNet169 architecture, pretrained on ImageNet](#DenseNet169-architecture,-pretrained-on-ImageNet)\n",
    "* [VGG19 architecture, pretrained on ImageNet](#VGG19-architecture,-pretrained-on-ImageNet)\n",
    "* [Ensemble model: generic CNN + wrist CNN](#Ensemble-model:-generic-CNN-+-wrist-CNN)\n",
    "* [Ensemble model: DenseNet169 + VGG19](#Ensemble-model:-DenseNet169-+-VGG19)"
   ]
  },
  {
   "cell_type": "code",
   "execution_count": 1,
   "id": "ea2220df",
   "metadata": {},
   "outputs": [],
   "source": [
    "import os\n",
    "import pathlib\n",
    "import random\n",
    "import re\n",
    "\n",
    "import numpy as np\n",
    "import pandas as pd\n",
    "import tensorflow as tf\n",
    "import tensorflow_addons as tfa\n",
    "from sklearn import metrics\n",
    "from sklearn.utils import shuffle\n",
    "\n",
    "from utils import (\n",
    "    clean_up,\n",
    "    F1Score,\n",
    "    inspect_df,\n",
    "    study_oriented_transformation,\n",
    "    study_oriented_transformation_on_ensemble,\n",
    ")"
   ]
  },
  {
   "cell_type": "code",
   "execution_count": 2,
   "id": "8d59fda5",
   "metadata": {},
   "outputs": [
    {
     "name": "stdout",
     "output_type": "stream",
     "text": [
      "2.8.0\n"
     ]
    }
   ],
   "source": [
    "print(tf.__version__)"
   ]
  },
  {
   "cell_type": "code",
   "execution_count": 4,
   "id": "170df75c",
   "metadata": {},
   "outputs": [],
   "source": [
    "SEED = 99910123\n",
    "\n",
    "os.environ[\"PYTHONHASHSEED\"] = str(SEED)\n",
    "random.seed(SEED)\n",
    "tf.random.set_seed(SEED)\n",
    "np.random.seed(SEED)"
   ]
  },
  {
   "cell_type": "code",
   "execution_count": 5,
   "id": "340630b7",
   "metadata": {},
   "outputs": [],
   "source": [
    "DATASET_DIR = \"../data/MURA-v1.1/\"\n",
    "IMAGE_WIDTH = 224\n",
    "IMAGE_HEIGHT = 224"
   ]
  },
  {
   "cell_type": "code",
   "execution_count": 6,
   "id": "562bde1b",
   "metadata": {},
   "outputs": [],
   "source": [
    "STUDY_TYPES = [\n",
    "    \"XR_SHOULDER\",\n",
    "    \"XR_ELBOW\",\n",
    "    \"XR_HUMERUS\",\n",
    "    \"XR_HAND\",\n",
    "    \"XR_WRIST\",\n",
    "    \"XR_FOREARM\",\n",
    "    \"XR_FINGER\",\n",
    "]"
   ]
  },
  {
   "cell_type": "code",
   "execution_count": 7,
   "id": "d1defe76",
   "metadata": {},
   "outputs": [
    {
     "name": "stderr",
     "output_type": "stream",
     "text": [
      "2022-04-02 20:19:48.692619: I tensorflow/core/platform/cpu_feature_guard.cc:151] This TensorFlow binary is optimized with oneAPI Deep Neural Network Library (oneDNN) to use the following CPU instructions in performance-critical operations:  AVX2 FMA\n",
      "To enable them in other operations, rebuild TensorFlow with the appropriate compiler flags.\n",
      "2022-04-02 20:19:48.693485: I tensorflow/stream_executor/cuda/cuda_gpu_executor.cc:936] successful NUMA node read from SysFS had negative value (-1), but there must be at least one NUMA node, so returning NUMA node zero\n",
      "2022-04-02 20:19:48.693776: I tensorflow/stream_executor/cuda/cuda_gpu_executor.cc:936] successful NUMA node read from SysFS had negative value (-1), but there must be at least one NUMA node, so returning NUMA node zero\n",
      "2022-04-02 20:19:48.694016: I tensorflow/stream_executor/cuda/cuda_gpu_executor.cc:936] successful NUMA node read from SysFS had negative value (-1), but there must be at least one NUMA node, so returning NUMA node zero\n",
      "2022-04-02 20:19:49.066450: I tensorflow/stream_executor/cuda/cuda_gpu_executor.cc:936] successful NUMA node read from SysFS had negative value (-1), but there must be at least one NUMA node, so returning NUMA node zero\n",
      "2022-04-02 20:19:49.066615: I tensorflow/stream_executor/cuda/cuda_gpu_executor.cc:936] successful NUMA node read from SysFS had negative value (-1), but there must be at least one NUMA node, so returning NUMA node zero\n",
      "2022-04-02 20:19:49.066733: I tensorflow/stream_executor/cuda/cuda_gpu_executor.cc:936] successful NUMA node read from SysFS had negative value (-1), but there must be at least one NUMA node, so returning NUMA node zero\n",
      "2022-04-02 20:19:49.066833: I tensorflow/core/common_runtime/gpu/gpu_device.cc:1525] Created device /job:localhost/replica:0/task:0/device:GPU:0 with 2238 MB memory:  -> device: 0, name: Quadro T1000, pci bus id: 0000:01:00.0, compute capability: 7.5\n"
     ]
    }
   ],
   "source": [
    "METRICS = [\n",
    "    tf.keras.metrics.TruePositives(name=\"tp\"),\n",
    "    tf.keras.metrics.FalsePositives(name=\"fp\"),\n",
    "    tf.keras.metrics.TrueNegatives(name=\"tn\"),\n",
    "    tf.keras.metrics.FalseNegatives(name=\"fn\"),\n",
    "    tf.keras.metrics.BinaryAccuracy(name=\"binary_acc\"),\n",
    "    tf.keras.metrics.Precision(name=\"precision\"),\n",
    "    tf.keras.metrics.Recall(name=\"recall\"),\n",
    "    F1Score(name=\"f1_score\"),\n",
    "    tf.keras.metrics.AUC(name=\"roc_auc\", curve=\"ROC\"),\n",
    "    tf.keras.metrics.AUC(name=\"pr_auc\", curve=\"PR\"),\n",
    "    tfa.metrics.CohenKappa(name=\"cohen_kappa\", num_classes=2),\n",
    "]"
   ]
  },
  {
   "cell_type": "code",
   "execution_count": 8,
   "id": "de2fb0f4",
   "metadata": {},
   "outputs": [],
   "source": [
    "test_image_paths = pd.read_csv(\n",
    "    os.path.join(DATASET_DIR, \"valid_image_paths.csv\"),\n",
    "    names=[\"image_path\"],\n",
    "    header=None,\n",
    "    index_col=False,\n",
    ")"
   ]
  },
  {
   "cell_type": "code",
   "execution_count": 9,
   "id": "84f0d813",
   "metadata": {},
   "outputs": [],
   "source": [
    "test_image_paths[\"image_path\"] = test_image_paths[\"image_path\"].map(\n",
    "    lambda x: os.path.join(\"../data/\", x)\n",
    ")\n",
    "test_image_paths[\"study_type\"] = test_image_paths[\"image_path\"].map(\n",
    "    lambda x: x.split(\"/\")[4]\n",
    ")\n",
    "test_image_paths[\"patient\"] = test_image_paths[\"image_path\"].map(\n",
    "    lambda x: x.split(\"/\")[5]\n",
    ")\n",
    "test_image_paths[\"study\"] = test_image_paths[\"image_path\"].map(\n",
    "    lambda x: x.split(\"/\")[6]\n",
    ")\n",
    "test_image_paths[\"study_path\"] = test_image_paths[\"image_path\"].map(\n",
    "    lambda x: re.sub(r\"image\\d+.png\", \"\", x)\n",
    ")"
   ]
  },
  {
   "cell_type": "code",
   "execution_count": 10,
   "id": "ce557b73",
   "metadata": {},
   "outputs": [],
   "source": [
    "test_labeled_studies = pd.read_csv(\n",
    "    os.path.join(DATASET_DIR, \"valid_labeled_studies.csv\"),\n",
    "    names=[\"study_path\", \"label\"],\n",
    "    header=None,\n",
    "    index_col=False,\n",
    ")"
   ]
  },
  {
   "cell_type": "code",
   "execution_count": 11,
   "id": "bda945d5",
   "metadata": {},
   "outputs": [],
   "source": [
    "test_labeled_studies[\"study_path\"] = test_labeled_studies[\"study_path\"].map(\n",
    "    lambda x: os.path.join(\"../data/\", x)\n",
    ")\n",
    "test_labeled_studies[\"label\"] = test_labeled_studies[\"label\"].map(str)"
   ]
  },
  {
   "cell_type": "code",
   "execution_count": 12,
   "id": "90ff2567",
   "metadata": {},
   "outputs": [
    {
     "name": "stdout",
     "output_type": "stream",
     "text": [
      "shape: (3197, 6)\n"
     ]
    },
    {
     "data": {
      "text/html": [
       "<div>\n",
       "<style scoped>\n",
       "    .dataframe tbody tr th:only-of-type {\n",
       "        vertical-align: middle;\n",
       "    }\n",
       "\n",
       "    .dataframe tbody tr th {\n",
       "        vertical-align: top;\n",
       "    }\n",
       "\n",
       "    .dataframe thead th {\n",
       "        text-align: right;\n",
       "    }\n",
       "</style>\n",
       "<table border=\"1\" class=\"dataframe\">\n",
       "  <thead>\n",
       "    <tr style=\"text-align: right;\">\n",
       "      <th></th>\n",
       "      <th>image_path</th>\n",
       "      <th>study_type</th>\n",
       "      <th>patient</th>\n",
       "      <th>study</th>\n",
       "      <th>study_path</th>\n",
       "      <th>label</th>\n",
       "    </tr>\n",
       "  </thead>\n",
       "  <tbody>\n",
       "    <tr>\n",
       "      <th>0</th>\n",
       "      <td>../data/MURA-v1.1/valid/XR_WRIST/patient11185/...</td>\n",
       "      <td>XR_WRIST</td>\n",
       "      <td>patient11185</td>\n",
       "      <td>study1_positive</td>\n",
       "      <td>../data/MURA-v1.1/valid/XR_WRIST/patient11185/...</td>\n",
       "      <td>1</td>\n",
       "    </tr>\n",
       "    <tr>\n",
       "      <th>1</th>\n",
       "      <td>../data/MURA-v1.1/valid/XR_WRIST/patient11185/...</td>\n",
       "      <td>XR_WRIST</td>\n",
       "      <td>patient11185</td>\n",
       "      <td>study1_positive</td>\n",
       "      <td>../data/MURA-v1.1/valid/XR_WRIST/patient11185/...</td>\n",
       "      <td>1</td>\n",
       "    </tr>\n",
       "    <tr>\n",
       "      <th>2</th>\n",
       "      <td>../data/MURA-v1.1/valid/XR_WRIST/patient11185/...</td>\n",
       "      <td>XR_WRIST</td>\n",
       "      <td>patient11185</td>\n",
       "      <td>study1_positive</td>\n",
       "      <td>../data/MURA-v1.1/valid/XR_WRIST/patient11185/...</td>\n",
       "      <td>1</td>\n",
       "    </tr>\n",
       "    <tr>\n",
       "      <th>3</th>\n",
       "      <td>../data/MURA-v1.1/valid/XR_WRIST/patient11185/...</td>\n",
       "      <td>XR_WRIST</td>\n",
       "      <td>patient11185</td>\n",
       "      <td>study1_positive</td>\n",
       "      <td>../data/MURA-v1.1/valid/XR_WRIST/patient11185/...</td>\n",
       "      <td>1</td>\n",
       "    </tr>\n",
       "    <tr>\n",
       "      <th>4</th>\n",
       "      <td>../data/MURA-v1.1/valid/XR_WRIST/patient11186/...</td>\n",
       "      <td>XR_WRIST</td>\n",
       "      <td>patient11186</td>\n",
       "      <td>study1_positive</td>\n",
       "      <td>../data/MURA-v1.1/valid/XR_WRIST/patient11186/...</td>\n",
       "      <td>1</td>\n",
       "    </tr>\n",
       "  </tbody>\n",
       "</table>\n",
       "</div>"
      ],
      "text/plain": [
       "                                          image_path study_type       patient  \\\n",
       "0  ../data/MURA-v1.1/valid/XR_WRIST/patient11185/...   XR_WRIST  patient11185   \n",
       "1  ../data/MURA-v1.1/valid/XR_WRIST/patient11185/...   XR_WRIST  patient11185   \n",
       "2  ../data/MURA-v1.1/valid/XR_WRIST/patient11185/...   XR_WRIST  patient11185   \n",
       "3  ../data/MURA-v1.1/valid/XR_WRIST/patient11185/...   XR_WRIST  patient11185   \n",
       "4  ../data/MURA-v1.1/valid/XR_WRIST/patient11186/...   XR_WRIST  patient11186   \n",
       "\n",
       "             study                                         study_path label  \n",
       "0  study1_positive  ../data/MURA-v1.1/valid/XR_WRIST/patient11185/...     1  \n",
       "1  study1_positive  ../data/MURA-v1.1/valid/XR_WRIST/patient11185/...     1  \n",
       "2  study1_positive  ../data/MURA-v1.1/valid/XR_WRIST/patient11185/...     1  \n",
       "3  study1_positive  ../data/MURA-v1.1/valid/XR_WRIST/patient11185/...     1  \n",
       "4  study1_positive  ../data/MURA-v1.1/valid/XR_WRIST/patient11186/...     1  "
      ]
     },
     "execution_count": 12,
     "metadata": {},
     "output_type": "execute_result"
    }
   ],
   "source": [
    "ref_testset = pd.merge(\n",
    "    test_image_paths, test_labeled_studies, how=\"inner\", on=\"study_path\"\n",
    ")\n",
    "\n",
    "inspect_df(ref_testset)"
   ]
  },
  {
   "cell_type": "markdown",
   "id": "6bf7c85a",
   "metadata": {},
   "source": [
    "### CNN architecture with sensible defaults, all study types"
   ]
  },
  {
   "cell_type": "code",
   "execution_count": 13,
   "id": "8a862488",
   "metadata": {},
   "outputs": [],
   "source": [
    "cnn_testing = tf.keras.preprocessing.image.ImageDataGenerator(\n",
    "    rescale=1.0 / 255,\n",
    ")"
   ]
  },
  {
   "cell_type": "code",
   "execution_count": 14,
   "id": "8d2b96e2",
   "metadata": {},
   "outputs": [
    {
     "name": "stdout",
     "output_type": "stream",
     "text": [
      "Found 3197 validated image filenames belonging to 2 classes.\n"
     ]
    }
   ],
   "source": [
    "testset = cnn_testing.flow_from_dataframe(\n",
    "    dataframe=ref_testset,\n",
    "    x_col=\"image_path\",\n",
    "    y_col=\"label\",\n",
    "    target_size=(IMAGE_WIDTH, IMAGE_HEIGHT),\n",
    "    class_mode=\"binary\",\n",
    "    batch_size=32,\n",
    "    seed=SEED,\n",
    "    shuffle=False,  # this is very important in order to properly use raw predictions to evaluate on study-level!\n",
    ")"
   ]
  },
  {
   "cell_type": "code",
   "execution_count": 15,
   "id": "4e456804",
   "metadata": {},
   "outputs": [],
   "source": [
    "model = tf.keras.models.load_model(\n",
    "    \"../models/cnn-all-study-types-3305473.h5\", custom_objects={\"F1Score\": F1Score}\n",
    ")"
   ]
  },
  {
   "cell_type": "code",
   "execution_count": 16,
   "id": "39b2afce",
   "metadata": {
    "scrolled": false
   },
   "outputs": [
    {
     "name": "stderr",
     "output_type": "stream",
     "text": [
      "2022-04-02 20:19:51.200312: I tensorflow/stream_executor/cuda/cuda_dnn.cc:368] Loaded cuDNN version 8303\n"
     ]
    },
    {
     "name": "stdout",
     "output_type": "stream",
     "text": [
      "100/100 [==============================] - 11s 84ms/step - loss: 0.7336 - tp: 573.0000 - fp: 89.0000 - tn: 1578.0000 - fn: 957.0000 - binary_acc: 0.6728 - precision: 0.8656 - recall: 0.3745 - f1_score: 0.5228 - roc_auc: 0.7789 - pr_auc: 0.7842 - cohen_kappa: 0.3288\n"
     ]
    }
   ],
   "source": [
    "evaluation_metrics = model.evaluate(testset, verbose=1)"
   ]
  },
  {
   "cell_type": "code",
   "execution_count": 17,
   "id": "2a96c55d",
   "metadata": {},
   "outputs": [
    {
     "name": "stdout",
     "output_type": "stream",
     "text": [
      "================================\n",
      "test loss   : 0.7335954308509827\n",
      "tp          : 573.0\n",
      "fp          : 89.0\n",
      "tn          : 1578.0\n",
      "fn          : 957.0\n",
      "binary_acc  : 0.6728182435035706\n",
      "precision   : 0.865558922290802\n",
      "recall      : 0.3745098114013672\n",
      "f1_score    : 0.5228102803230286\n",
      "roc_auc     : 0.7789220809936523\n",
      "pr_auc      : 0.7841886878013611\n",
      "cohen_kappa : 0.328785240650177\n",
      "================================\n"
     ]
    }
   ],
   "source": [
    "loss = evaluation_metrics.pop(0)\n",
    "\n",
    "print(\"=\" * 32)\n",
    "print(f\"test loss   : {loss}\")\n",
    "for metric, score in zip(METRICS, evaluation_metrics):\n",
    "\n",
    "    print(f\"{metric.name + ' ' * (12 - len(metric.name))}: {score}\")\n",
    "print(\"=\" * 32)"
   ]
  },
  {
   "cell_type": "code",
   "execution_count": 18,
   "id": "a707b867",
   "metadata": {},
   "outputs": [
    {
     "name": "stdout",
     "output_type": "stream",
     "text": [
      "100/100 [==============================] - 8s 79ms/step\n"
     ]
    }
   ],
   "source": [
    "# get predictions for the test dataset\n",
    "preds = model.predict(testset, verbose=1)"
   ]
  },
  {
   "cell_type": "code",
   "execution_count": 19,
   "id": "242c6f43",
   "metadata": {},
   "outputs": [],
   "source": [
    "temp_testset = ref_testset.copy()\n",
    "\n",
    "temp_testset[\"label\"] = temp_testset[\"label\"].map(int)\n",
    "temp_testset[\"prediction\"] = preds.ravel()"
   ]
  },
  {
   "cell_type": "code",
   "execution_count": 20,
   "id": "37229179",
   "metadata": {
    "scrolled": true
   },
   "outputs": [],
   "source": [
    "temp_testset = pd.DataFrame(\n",
    "    [*study_oriented_transformation(temp_testset)],\n",
    "    columns=[\"study_type\", \"study\", \"label\", \"prediction\"],\n",
    ")"
   ]
  },
  {
   "cell_type": "code",
   "execution_count": 21,
   "id": "17a587f2",
   "metadata": {},
   "outputs": [
    {
     "name": "stdout",
     "output_type": "stream",
     "text": [
      "======================================\n",
      "study type       : all studies\n",
      "-----------------\n",
      "Cohen's kappa (κ): 0.33419514321369503\n",
      "ROC AUC          : 0.6573879837353565\n",
      "F1               : 0.49729729729729727\n",
      "======================================\n"
     ]
    }
   ],
   "source": [
    "k = metrics.cohen_kappa_score(\n",
    "    temp_testset[\"label\"].values, temp_testset[\"prediction\"].values\n",
    ")\n",
    "roc_auc = metrics.roc_auc_score(\n",
    "    temp_testset[\"label\"].values, temp_testset[\"prediction\"].values\n",
    ")\n",
    "f1 = metrics.f1_score(temp_testset[\"label\"].values, temp_testset[\"prediction\"].values)\n",
    "\n",
    "print(\"=\" * 38)\n",
    "print(f\"study type       : all studies\")\n",
    "print(\"-----------------\")\n",
    "print(f\"Cohen's kappa (κ): {k}\")\n",
    "print(f\"ROC AUC          : {roc_auc}\")\n",
    "print(f\"F1               : {f1}\")\n",
    "print(\"=\" * 38)"
   ]
  },
  {
   "cell_type": "code",
   "execution_count": 22,
   "id": "7f984327",
   "metadata": {},
   "outputs": [
    {
     "name": "stdout",
     "output_type": "stream",
     "text": [
      "======================================\n",
      "study type       : XR_SHOULDER\n",
      "-----------------\n",
      "Cohen's kappa (κ): 0.3331184874852293\n",
      "ROC AUC          : 0.6648591174906964\n",
      "F1               : 0.5492957746478874\n",
      "======================================\n",
      "study type       : XR_ELBOW\n",
      "-----------------\n",
      "Cohen's kappa (κ): 0.30396475770925113\n",
      "ROC AUC          : 0.6363636363636364\n",
      "F1               : 0.42857142857142855\n",
      "======================================\n",
      "study type       : XR_HUMERUS\n",
      "-----------------\n",
      "Cohen's kappa (κ): 0.4200903183169953\n",
      "ROC AUC          : 0.7092844600526779\n",
      "F1               : 0.6138613861386137\n",
      "======================================\n",
      "study type       : XR_HAND\n",
      "-----------------\n",
      "Cohen's kappa (κ): 0.1603598835670813\n",
      "ROC AUC          : 0.5681818181818181\n",
      "F1               : 0.24000000000000002\n",
      "======================================\n",
      "study type       : XR_WRIST\n",
      "-----------------\n",
      "Cohen's kappa (κ): 0.37654296005504073\n",
      "ROC AUC          : 0.671281296023564\n",
      "F1               : 0.5255474452554746\n",
      "======================================\n",
      "study type       : XR_FOREARM\n",
      "-----------------\n",
      "Cohen's kappa (κ): 0.38368860055607046\n",
      "ROC AUC          : 0.6875\n",
      "F1               : 0.5454545454545454\n",
      "======================================\n",
      "study type       : XR_FINGER\n",
      "-----------------\n",
      "Cohen's kappa (κ): 0.3021290976681311\n",
      "ROC AUC          : 0.6463462545835517\n",
      "F1               : 0.4778761061946903\n"
     ]
    }
   ],
   "source": [
    "for study_type in STUDY_TYPES:\n",
    "\n",
    "    temp = temp_testset[temp_testset[\"study_type\"] == study_type]\n",
    "\n",
    "    k = metrics.cohen_kappa_score(temp[\"label\"].values, temp[\"prediction\"].values)\n",
    "    roc_auc = metrics.roc_auc_score(temp[\"label\"].values, temp[\"prediction\"].values)\n",
    "    f1 = metrics.f1_score(temp[\"label\"].values, temp[\"prediction\"].values)\n",
    "    print(\"=\" * 38)\n",
    "    print(f\"study type       : {study_type}\")\n",
    "    print(\"-----------------\")\n",
    "    print(f\"Cohen's kappa (κ): {k}\")\n",
    "    print(f\"ROC AUC          : {roc_auc}\")\n",
    "    print(f\"F1               : {f1}\")"
   ]
  },
  {
   "cell_type": "code",
   "execution_count": 23,
   "id": "8f7bcb60",
   "metadata": {},
   "outputs": [],
   "source": [
    "clean_up(model)\n",
    "del temp, temp_testset"
   ]
  },
  {
   "cell_type": "markdown",
   "id": "b174b268",
   "metadata": {},
   "source": [
    "### DenseNet169 architecture, pretrained on ImageNet"
   ]
  },
  {
   "cell_type": "code",
   "execution_count": 24,
   "id": "92140a36",
   "metadata": {},
   "outputs": [],
   "source": [
    "densenet_testing = tf.keras.preprocessing.image.ImageDataGenerator(\n",
    "    preprocessing_function=tf.keras.applications.densenet.preprocess_input,\n",
    ")"
   ]
  },
  {
   "cell_type": "code",
   "execution_count": 25,
   "id": "b3a54726",
   "metadata": {},
   "outputs": [
    {
     "name": "stdout",
     "output_type": "stream",
     "text": [
      "Found 3197 validated image filenames belonging to 2 classes.\n"
     ]
    }
   ],
   "source": [
    "testset = densenet_testing.flow_from_dataframe(\n",
    "    dataframe=ref_testset,\n",
    "    x_col=\"image_path\",\n",
    "    y_col=\"label\",\n",
    "    target_size=(IMAGE_WIDTH, IMAGE_HEIGHT),\n",
    "    class_mode=\"binary\",\n",
    "    batch_size=32,\n",
    "    seed=SEED,\n",
    "    shuffle=False,  # this is very important in order to properly use raw predictions to evaluate on study-level!\n",
    ")"
   ]
  },
  {
   "cell_type": "code",
   "execution_count": 26,
   "id": "88fc0223",
   "metadata": {},
   "outputs": [],
   "source": [
    "model = tf.keras.models.load_model(\n",
    "    \"../models/densenet169_pt_imagenet-all-study-types-12644545.h5\",\n",
    "    custom_objects={\"F1Score\": F1Score},\n",
    ")"
   ]
  },
  {
   "cell_type": "code",
   "execution_count": 27,
   "id": "714259f3",
   "metadata": {},
   "outputs": [
    {
     "name": "stdout",
     "output_type": "stream",
     "text": [
      "100/100 [==============================] - 31s 241ms/step - loss: 0.4718 - tp: 1074.0000 - fp: 159.0000 - tn: 1508.0000 - fn: 456.0000 - binary_acc: 0.8076 - precision: 0.8710 - recall: 0.7020 - f1_score: 0.7774 - roc_auc: 0.8799 - pr_auc: 0.8806 - cohen_kappa: 0.6115\n"
     ]
    }
   ],
   "source": [
    "evaluation_metrics = model.evaluate(testset, verbose=1)"
   ]
  },
  {
   "cell_type": "code",
   "execution_count": 28,
   "id": "0fc45be9",
   "metadata": {},
   "outputs": [
    {
     "name": "stdout",
     "output_type": "stream",
     "text": [
      "================================\n",
      "test loss   : 0.47183555364608765\n",
      "tp          : 1074.0\n",
      "fp          : 159.0\n",
      "tn          : 1508.0\n",
      "fn          : 456.0\n",
      "binary_acc  : 0.8076321482658386\n",
      "precision   : 0.871046245098114\n",
      "recall      : 0.7019608020782471\n",
      "f1_score    : 0.7774158120155334\n",
      "roc_auc     : 0.8799281120300293\n",
      "pr_auc      : 0.8806084990501404\n",
      "cohen_kappa : 0.6114572286605835\n",
      "================================\n"
     ]
    }
   ],
   "source": [
    "loss = evaluation_metrics.pop(0)\n",
    "\n",
    "print(\"=\" * 32)\n",
    "print(f\"test loss   : {loss}\")\n",
    "for metric, score in zip(METRICS, evaluation_metrics):\n",
    "\n",
    "    print(f\"{metric.name + ' ' * (12 - len(metric.name))}: {score}\")\n",
    "print(\"=\" * 32)"
   ]
  },
  {
   "cell_type": "code",
   "execution_count": 29,
   "id": "b092b9ba",
   "metadata": {},
   "outputs": [
    {
     "name": "stdout",
     "output_type": "stream",
     "text": [
      "100/100 [==============================] - 20s 187ms/step\n"
     ]
    }
   ],
   "source": [
    "# get predictions for the test dataset\n",
    "preds = model.predict(testset, verbose=1)"
   ]
  },
  {
   "cell_type": "code",
   "execution_count": 30,
   "id": "a940de67",
   "metadata": {},
   "outputs": [],
   "source": [
    "temp_testset = ref_testset.copy()\n",
    "\n",
    "temp_testset[\"label\"] = temp_testset[\"label\"].map(int)\n",
    "temp_testset[\"prediction\"] = preds.ravel()"
   ]
  },
  {
   "cell_type": "code",
   "execution_count": 31,
   "id": "9952783b",
   "metadata": {},
   "outputs": [],
   "source": [
    "temp_testset = pd.DataFrame(\n",
    "    [*study_oriented_transformation(temp_testset)],\n",
    "    columns=[\"study_type\", \"study\", \"label\", \"prediction\"],\n",
    ")"
   ]
  },
  {
   "cell_type": "code",
   "execution_count": 32,
   "id": "3e3fd730",
   "metadata": {},
   "outputs": [
    {
     "name": "stdout",
     "output_type": "stream",
     "text": [
      "======================================\n",
      "study type       : all studies\n",
      "-----------------\n",
      "Cohen's kappa (κ): 0.6389900496085796\n",
      "ROC AUC          : 0.8133066942618202\n",
      "F1               : 0.7821576763485477\n",
      "======================================\n"
     ]
    }
   ],
   "source": [
    "k = metrics.cohen_kappa_score(\n",
    "    temp_testset[\"label\"].values, temp_testset[\"prediction\"].values\n",
    ")\n",
    "roc_auc = metrics.roc_auc_score(\n",
    "    temp_testset[\"label\"].values, temp_testset[\"prediction\"].values\n",
    ")\n",
    "f1 = metrics.f1_score(temp_testset[\"label\"].values, temp_testset[\"prediction\"].values)\n",
    "\n",
    "print(\"=\" * 38)\n",
    "print(f\"study type       : all studies\")\n",
    "print(\"-----------------\")\n",
    "print(f\"Cohen's kappa (κ): {k}\")\n",
    "print(f\"ROC AUC          : {roc_auc}\")\n",
    "print(f\"F1               : {f1}\")\n",
    "print(\"=\" * 38)"
   ]
  },
  {
   "cell_type": "code",
   "execution_count": 33,
   "id": "f7bdd38e",
   "metadata": {},
   "outputs": [
    {
     "name": "stdout",
     "output_type": "stream",
     "text": [
      "======================================\n",
      "study type       : XR_SHOULDER\n",
      "-----------------\n",
      "Cohen's kappa (κ): 0.5365750079626288\n",
      "ROC AUC          : 0.7686868686868686\n",
      "F1               : 0.7715736040609137\n",
      "======================================\n",
      "study type       : XR_ELBOW\n",
      "-----------------\n",
      "Cohen's kappa (κ): 0.6908286540752084\n",
      "ROC AUC          : 0.8343214756258235\n",
      "F1               : 0.8034188034188035\n",
      "======================================\n",
      "study type       : XR_HUMERUS\n",
      "-----------------\n",
      "Cohen's kappa (κ): 0.733142982648803\n",
      "ROC AUC          : 0.8663301141352062\n",
      "F1               : 0.8593750000000001\n",
      "======================================\n",
      "study type       : XR_HAND\n",
      "-----------------\n",
      "Cohen's kappa (κ): 0.46513919684651384\n",
      "ROC AUC          : 0.7124212421242124\n",
      "F1               : 0.6060606060606061\n",
      "======================================\n",
      "study type       : XR_WRIST\n",
      "-----------------\n",
      "Cohen's kappa (κ): 0.7106889448386359\n",
      "ROC AUC          : 0.8429675994108984\n",
      "F1               : 0.8139534883720931\n",
      "======================================\n",
      "study type       : XR_FOREARM\n",
      "-----------------\n",
      "Cohen's kappa (κ): 0.6803250543664874\n",
      "ROC AUC          : 0.8365036231884059\n",
      "F1               : 0.8073394495412843\n",
      "======================================\n",
      "study type       : XR_FINGER\n",
      "-----------------\n",
      "Cohen's kappa (κ): 0.6280552603613178\n",
      "ROC AUC          : 0.8095861707700367\n",
      "F1               : 0.7746478873239436\n"
     ]
    }
   ],
   "source": [
    "for study_type in STUDY_TYPES:\n",
    "\n",
    "    temp = temp_testset[temp_testset[\"study_type\"] == study_type]\n",
    "\n",
    "    k = metrics.cohen_kappa_score(temp[\"label\"].values, temp[\"prediction\"].values)\n",
    "    roc_auc = metrics.roc_auc_score(temp[\"label\"].values, temp[\"prediction\"].values)\n",
    "    f1 = metrics.f1_score(temp[\"label\"].values, temp[\"prediction\"].values)\n",
    "    print(\"=\" * 38)\n",
    "    print(f\"study type       : {study_type}\")\n",
    "    print(\"-----------------\")\n",
    "    print(f\"Cohen's kappa (κ): {k}\")\n",
    "    print(f\"ROC AUC          : {roc_auc}\")\n",
    "    print(f\"F1               : {f1}\")"
   ]
  },
  {
   "cell_type": "code",
   "execution_count": 34,
   "id": "23dd8472",
   "metadata": {},
   "outputs": [],
   "source": [
    "clean_up(model)\n",
    "del temp, temp_testset"
   ]
  },
  {
   "cell_type": "markdown",
   "id": "f6db6e0d",
   "metadata": {},
   "source": [
    "### VGG19 architecture, pretrained on ImageNet"
   ]
  },
  {
   "cell_type": "code",
   "execution_count": 35,
   "id": "59747ea6",
   "metadata": {},
   "outputs": [],
   "source": [
    "vgg19_testing = tf.keras.preprocessing.image.ImageDataGenerator(\n",
    "    preprocessing_function=tf.keras.applications.vgg19.preprocess_input,\n",
    ")"
   ]
  },
  {
   "cell_type": "code",
   "execution_count": 36,
   "id": "311bce83",
   "metadata": {},
   "outputs": [
    {
     "name": "stdout",
     "output_type": "stream",
     "text": [
      "Found 3197 validated image filenames belonging to 2 classes.\n"
     ]
    }
   ],
   "source": [
    "testset = vgg19_testing.flow_from_dataframe(\n",
    "    dataframe=ref_testset,\n",
    "    x_col=\"image_path\",\n",
    "    y_col=\"label\",\n",
    "    target_size=(IMAGE_WIDTH, IMAGE_HEIGHT),\n",
    "    class_mode=\"binary\",\n",
    "    batch_size=32,\n",
    "    seed=SEED,\n",
    "    shuffle=False,  # this is very important in order to properly use raw predictions to evaluate on study-level!\n",
    ")"
   ]
  },
  {
   "cell_type": "code",
   "execution_count": 37,
   "id": "bb15de99",
   "metadata": {},
   "outputs": [],
   "source": [
    "model = tf.keras.models.load_model(\n",
    "    \"../models/vgg19_pt_imagenet-all-study-types-20024897.h5\",\n",
    "    custom_objects={\"F1Score\": F1Score},\n",
    ")"
   ]
  },
  {
   "cell_type": "code",
   "execution_count": 38,
   "id": "56908901",
   "metadata": {},
   "outputs": [
    {
     "name": "stderr",
     "output_type": "stream",
     "text": [
      "2022-04-02 20:21:06.787414: W tensorflow/core/common_runtime/bfc_allocator.cc:275] Allocator (GPU_0_bfc) ran out of memory trying to allocate 1.02GiB with freed_by_count=0. The caller indicates that this is not a failure, but may mean that there could be performance gains if more memory were available.\n",
      "2022-04-02 20:21:06.787452: W tensorflow/core/common_runtime/bfc_allocator.cc:275] Allocator (GPU_0_bfc) ran out of memory trying to allocate 1.02GiB with freed_by_count=0. The caller indicates that this is not a failure, but may mean that there could be performance gains if more memory were available.\n",
      "2022-04-02 20:21:07.263980: W tensorflow/core/common_runtime/bfc_allocator.cc:275] Allocator (GPU_0_bfc) ran out of memory trying to allocate 3.46GiB with freed_by_count=0. The caller indicates that this is not a failure, but may mean that there could be performance gains if more memory were available.\n",
      "2022-04-02 20:21:07.264017: W tensorflow/core/common_runtime/bfc_allocator.cc:275] Allocator (GPU_0_bfc) ran out of memory trying to allocate 3.46GiB with freed_by_count=0. The caller indicates that this is not a failure, but may mean that there could be performance gains if more memory were available.\n",
      "2022-04-02 20:21:07.264032: W tensorflow/core/common_runtime/bfc_allocator.cc:275] Allocator (GPU_0_bfc) ran out of memory trying to allocate 3.04GiB with freed_by_count=0. The caller indicates that this is not a failure, but may mean that there could be performance gains if more memory were available.\n",
      "2022-04-02 20:21:07.264044: W tensorflow/core/common_runtime/bfc_allocator.cc:275] Allocator (GPU_0_bfc) ran out of memory trying to allocate 3.04GiB with freed_by_count=0. The caller indicates that this is not a failure, but may mean that there could be performance gains if more memory were available.\n",
      "2022-04-02 20:21:07.433019: W tensorflow/core/common_runtime/bfc_allocator.cc:275] Allocator (GPU_0_bfc) ran out of memory trying to allocate 1.74GiB with freed_by_count=0. The caller indicates that this is not a failure, but may mean that there could be performance gains if more memory were available.\n",
      "2022-04-02 20:21:07.433040: W tensorflow/core/common_runtime/bfc_allocator.cc:275] Allocator (GPU_0_bfc) ran out of memory trying to allocate 1.74GiB with freed_by_count=0. The caller indicates that this is not a failure, but may mean that there could be performance gains if more memory were available.\n",
      "2022-04-02 20:21:07.737131: W tensorflow/core/common_runtime/bfc_allocator.cc:275] Allocator (GPU_0_bfc) ran out of memory trying to allocate 1.29GiB with freed_by_count=0. The caller indicates that this is not a failure, but may mean that there could be performance gains if more memory were available.\n",
      "2022-04-02 20:21:07.737170: W tensorflow/core/common_runtime/bfc_allocator.cc:275] Allocator (GPU_0_bfc) ran out of memory trying to allocate 1.29GiB with freed_by_count=0. The caller indicates that this is not a failure, but may mean that there could be performance gains if more memory were available.\n"
     ]
    },
    {
     "name": "stdout",
     "output_type": "stream",
     "text": [
      "100/100 [==============================] - 48s 433ms/step - loss: 0.4564 - tp: 1124.0000 - fp: 199.0000 - tn: 1468.0000 - fn: 406.0000 - binary_acc: 0.8108 - precision: 0.8496 - recall: 0.7346 - f1_score: 0.7879 - roc_auc: 0.8819 - pr_auc: 0.8869 - cohen_kappa: 0.6187\n"
     ]
    }
   ],
   "source": [
    "evaluation_metrics = model.evaluate(testset, verbose=1)"
   ]
  },
  {
   "cell_type": "code",
   "execution_count": 39,
   "id": "fade8b95",
   "metadata": {},
   "outputs": [
    {
     "name": "stdout",
     "output_type": "stream",
     "text": [
      "================================\n",
      "test loss   : 0.45638495683670044\n",
      "tp          : 1124.0\n",
      "fp          : 199.0\n",
      "tn          : 1468.0\n",
      "fn          : 406.0\n",
      "binary_acc  : 0.8107600808143616\n",
      "precision   : 0.8495842814445496\n",
      "recall      : 0.7346405386924744\n",
      "f1_score    : 0.7879425287246704\n",
      "roc_auc     : 0.881947934627533\n",
      "pr_auc      : 0.8868595361709595\n",
      "cohen_kappa : 0.618704080581665\n",
      "================================\n"
     ]
    }
   ],
   "source": [
    "loss = evaluation_metrics.pop(0)\n",
    "\n",
    "print(\"=\" * 32)\n",
    "print(f\"test loss   : {loss}\")\n",
    "for metric, score in zip(METRICS, evaluation_metrics):\n",
    "\n",
    "    print(f\"{metric.name + ' ' * (12 - len(metric.name))}: {score}\")\n",
    "print(\"=\" * 32)"
   ]
  },
  {
   "cell_type": "code",
   "execution_count": 40,
   "id": "22446ec0",
   "metadata": {},
   "outputs": [
    {
     "name": "stdout",
     "output_type": "stream",
     "text": [
      "100/100 [==============================] - 40s 406ms/step\n"
     ]
    }
   ],
   "source": [
    "# get predictions for the test dataset\n",
    "preds = model.predict(testset, verbose=1)"
   ]
  },
  {
   "cell_type": "code",
   "execution_count": 41,
   "id": "32267de0",
   "metadata": {},
   "outputs": [],
   "source": [
    "temp_testset = ref_testset.copy()\n",
    "\n",
    "temp_testset[\"label\"] = temp_testset[\"label\"].map(int)\n",
    "temp_testset[\"prediction\"] = preds.ravel()"
   ]
  },
  {
   "cell_type": "code",
   "execution_count": 42,
   "id": "f733d90c",
   "metadata": {},
   "outputs": [],
   "source": [
    "temp_testset = pd.DataFrame(\n",
    "    [*study_oriented_transformation(temp_testset)],\n",
    "    columns=[\"study_type\", \"study\", \"label\", \"prediction\"],\n",
    ")"
   ]
  },
  {
   "cell_type": "code",
   "execution_count": 43,
   "id": "f55c3695",
   "metadata": {},
   "outputs": [
    {
     "name": "stdout",
     "output_type": "stream",
     "text": [
      "======================================\n",
      "study type       : all studies\n",
      "-----------------\n",
      "Cohen's kappa (κ): 0.6472350842514489\n",
      "ROC AUC          : 0.8185806117800561\n",
      "F1               : 0.7910750507099392\n",
      "======================================\n"
     ]
    }
   ],
   "source": [
    "k = metrics.cohen_kappa_score(\n",
    "    temp_testset[\"label\"].values, temp_testset[\"prediction\"].values\n",
    ")\n",
    "roc_auc = metrics.roc_auc_score(\n",
    "    temp_testset[\"label\"].values, temp_testset[\"prediction\"].values\n",
    ")\n",
    "f1 = metrics.f1_score(temp_testset[\"label\"].values, temp_testset[\"prediction\"].values)\n",
    "\n",
    "print(\"=\" * 38)\n",
    "print(f\"study type       : all studies\")\n",
    "print(\"-----------------\")\n",
    "print(f\"Cohen's kappa (κ): {k}\")\n",
    "print(f\"ROC AUC          : {roc_auc}\")\n",
    "print(f\"F1               : {f1}\")\n",
    "print(\"=\" * 38)"
   ]
  },
  {
   "cell_type": "code",
   "execution_count": 44,
   "id": "27fe68ec",
   "metadata": {},
   "outputs": [
    {
     "name": "stdout",
     "output_type": "stream",
     "text": [
      "======================================\n",
      "study type       : XR_SHOULDER\n",
      "-----------------\n",
      "Cohen's kappa (κ): 0.5770498776986068\n",
      "ROC AUC          : 0.7884635832004253\n",
      "F1               : 0.783068783068783\n",
      "======================================\n",
      "study type       : XR_ELBOW\n",
      "-----------------\n",
      "Cohen's kappa (κ): 0.6780984719864176\n",
      "ROC AUC          : 0.8288866930171278\n",
      "F1               : 0.7966101694915254\n",
      "======================================\n",
      "study type       : XR_HUMERUS\n",
      "-----------------\n",
      "Cohen's kappa (κ): 0.718348523114088\n",
      "ROC AUC          : 0.8589771729587358\n",
      "F1               : 0.8527131782945736\n",
      "======================================\n",
      "study type       : XR_HAND\n",
      "-----------------\n",
      "Cohen's kappa (κ): 0.5281343343828206\n",
      "ROC AUC          : 0.7453495349534953\n",
      "F1               : 0.6666666666666667\n",
      "======================================\n",
      "study type       : XR_WRIST\n",
      "-----------------\n",
      "Cohen's kappa (κ): 0.6965885985390466\n",
      "ROC AUC          : 0.8405743740795287\n",
      "F1               : 0.8111111111111111\n",
      "======================================\n",
      "study type       : XR_FOREARM\n",
      "-----------------\n",
      "Cohen's kappa (κ): 0.6810551558752997\n",
      "ROC AUC          : 0.8376358695652174\n",
      "F1               : 0.8141592920353982\n",
      "======================================\n",
      "study type       : XR_FINGER\n",
      "-----------------\n",
      "Cohen's kappa (κ): 0.6302654166116466\n",
      "ROC AUC          : 0.8125327396542693\n",
      "F1               : 0.7894736842105263\n"
     ]
    }
   ],
   "source": [
    "for study_type in STUDY_TYPES:\n",
    "\n",
    "    temp = temp_testset[temp_testset[\"study_type\"] == study_type]\n",
    "\n",
    "    k = metrics.cohen_kappa_score(temp[\"label\"].values, temp[\"prediction\"].values)\n",
    "    roc_auc = metrics.roc_auc_score(temp[\"label\"].values, temp[\"prediction\"].values)\n",
    "    f1 = metrics.f1_score(temp[\"label\"].values, temp[\"prediction\"].values)\n",
    "    print(\"=\" * 38)\n",
    "    print(f\"study type       : {study_type}\")\n",
    "    print(\"-----------------\")\n",
    "    print(f\"Cohen's kappa (κ): {k}\")\n",
    "    print(f\"ROC AUC          : {roc_auc}\")\n",
    "    print(f\"F1               : {f1}\")"
   ]
  },
  {
   "cell_type": "code",
   "execution_count": 45,
   "id": "2e262b87",
   "metadata": {},
   "outputs": [],
   "source": [
    "clean_up(model)\n",
    "del temp, temp_testset"
   ]
  },
  {
   "cell_type": "markdown",
   "id": "56e4c3af",
   "metadata": {},
   "source": [
    "### Ensemble model: generic CNN + wrist CNN"
   ]
  },
  {
   "cell_type": "markdown",
   "id": "19cc2dc5",
   "metadata": {},
   "source": [
    "This is simply a \"showerthought\" idea to try and create a model where the inference for a particular upper extremity region (aka study type) is being delegated to a model that has been trained exclusively for this region (in our case here `XR_WRIST`, but several other combination can be tried).\n",
    "\n",
    "**Note**: for this ensemble model to practically be meaningful, we make the assumption that we have (or we can acquire) the knowledge of the upper extremity region in which a given unseen image belongs to. If, during inference, we only have unseen images without any additional metadata then this approach does not stand."
   ]
  },
  {
   "cell_type": "code",
   "execution_count": 46,
   "id": "f074d932",
   "metadata": {},
   "outputs": [
    {
     "name": "stdout",
     "output_type": "stream",
     "text": [
      "Found 3197 validated image filenames belonging to 2 classes.\n"
     ]
    }
   ],
   "source": [
    "testset = cnn_testing.flow_from_dataframe(\n",
    "    dataframe=ref_testset,\n",
    "    x_col=\"image_path\",\n",
    "    y_col=\"label\",\n",
    "    target_size=(IMAGE_WIDTH, IMAGE_HEIGHT),\n",
    "    class_mode=\"binary\",\n",
    "    batch_size=32,\n",
    "    seed=SEED,\n",
    "    shuffle=False,  # this is very important in order to properly use raw predictions to evaluate on study-level!\n",
    ")"
   ]
  },
  {
   "cell_type": "code",
   "execution_count": 47,
   "id": "741e03a9",
   "metadata": {},
   "outputs": [],
   "source": [
    "all_types_model = tf.keras.models.load_model(\n",
    "    \"../models/cnn-all-study-types-3305473.h5\", custom_objects={\"F1Score\": F1Score}\n",
    ")"
   ]
  },
  {
   "cell_type": "code",
   "execution_count": 48,
   "id": "ef38c851",
   "metadata": {},
   "outputs": [],
   "source": [
    "wrist_model = tf.keras.models.load_model(\n",
    "    \"../models/cnn-XR_WRIST-3305473.h5\", custom_objects={\"F1Score\": F1Score}\n",
    ")"
   ]
  },
  {
   "cell_type": "code",
   "execution_count": 49,
   "id": "5ccd588e",
   "metadata": {},
   "outputs": [
    {
     "name": "stdout",
     "output_type": "stream",
     "text": [
      "100/100 [==============================] - 10s 95ms/step\n"
     ]
    }
   ],
   "source": [
    "# get predictions for the test dataset\n",
    "all_types_model_preds = all_types_model.predict(testset, verbose=1)"
   ]
  },
  {
   "cell_type": "code",
   "execution_count": 50,
   "id": "6b5d5be1",
   "metadata": {},
   "outputs": [
    {
     "name": "stdout",
     "output_type": "stream",
     "text": [
      "100/100 [==============================] - 10s 94ms/step\n"
     ]
    }
   ],
   "source": [
    "# get predictions for the test dataset\n",
    "wrist_model_preds = wrist_model.predict(testset, verbose=1)"
   ]
  },
  {
   "cell_type": "code",
   "execution_count": 51,
   "id": "c365c879",
   "metadata": {},
   "outputs": [],
   "source": [
    "temp_testset = ref_testset.copy()\n",
    "\n",
    "temp_testset[\"label\"] = temp_testset[\"label\"].map(int)\n",
    "temp_testset[\"prediction\"] = all_types_model_preds.ravel()\n",
    "temp_testset[\"wrist_prediction\"] = wrist_model_preds.ravel()"
   ]
  },
  {
   "cell_type": "code",
   "execution_count": 52,
   "id": "a815671e",
   "metadata": {},
   "outputs": [],
   "source": [
    "temp_testset[\"prediction\"] = temp_testset.apply(\n",
    "    lambda x: x.wrist_prediction if x.study_type == \"XR_WRIST\" else x.prediction, axis=1\n",
    ")  # replace generic predictions with wrist prediction when we're talking about wrist images"
   ]
  },
  {
   "cell_type": "code",
   "execution_count": 53,
   "id": "d913b223",
   "metadata": {},
   "outputs": [],
   "source": [
    "temp_testset = pd.DataFrame(\n",
    "    [*study_oriented_transformation(temp_testset)],\n",
    "    columns=[\"study_type\", \"study\", \"label\", \"prediction\"],\n",
    ")"
   ]
  },
  {
   "cell_type": "code",
   "execution_count": 54,
   "id": "43f0c92a",
   "metadata": {},
   "outputs": [
    {
     "name": "stdout",
     "output_type": "stream",
     "text": [
      "======================================\n",
      "study type       : all studies\n",
      "-----------------\n",
      "Cohen's kappa (κ): 0.33525353478153885\n",
      "ROC AUC          : 0.6589880152298252\n",
      "F1               : 0.519280205655527\n",
      "======================================\n"
     ]
    }
   ],
   "source": [
    "k = metrics.cohen_kappa_score(\n",
    "    temp_testset[\"label\"].values, temp_testset[\"prediction\"].values\n",
    ")\n",
    "roc_auc = metrics.roc_auc_score(\n",
    "    temp_testset[\"label\"].values, temp_testset[\"prediction\"].values\n",
    ")\n",
    "f1 = metrics.f1_score(temp_testset[\"label\"].values, temp_testset[\"prediction\"].values)\n",
    "\n",
    "print(\"=\" * 38)\n",
    "print(f\"study type       : all studies\")\n",
    "print(\"-----------------\")\n",
    "print(f\"Cohen's kappa (κ): {k}\")\n",
    "print(f\"ROC AUC          : {roc_auc}\")\n",
    "print(f\"F1               : {f1}\")\n",
    "print(\"=\" * 38)"
   ]
  },
  {
   "cell_type": "code",
   "execution_count": 55,
   "id": "a2ff57cc",
   "metadata": {
    "scrolled": false
   },
   "outputs": [
    {
     "name": "stdout",
     "output_type": "stream",
     "text": [
      "======================================\n",
      "study type       : XR_SHOULDER\n",
      "-----------------\n",
      "Cohen's kappa (κ): 0.3331184874852293\n",
      "ROC AUC          : 0.6648591174906964\n",
      "F1               : 0.5492957746478874\n",
      "======================================\n",
      "study type       : XR_ELBOW\n",
      "-----------------\n",
      "Cohen's kappa (κ): 0.30396475770925113\n",
      "ROC AUC          : 0.6363636363636364\n",
      "F1               : 0.42857142857142855\n",
      "======================================\n",
      "study type       : XR_HUMERUS\n",
      "-----------------\n",
      "Cohen's kappa (κ): 0.4200903183169953\n",
      "ROC AUC          : 0.7092844600526779\n",
      "F1               : 0.6138613861386137\n",
      "======================================\n",
      "study type       : XR_HAND\n",
      "-----------------\n",
      "Cohen's kappa (κ): 0.1603598835670813\n",
      "ROC AUC          : 0.5681818181818181\n",
      "F1               : 0.24000000000000002\n",
      "======================================\n",
      "study type       : XR_WRIST\n",
      "-----------------\n",
      "Cohen's kappa (κ): 0.39722127320350764\n",
      "ROC AUC          : 0.6926362297496318\n",
      "F1               : 0.6171428571428572\n",
      "======================================\n",
      "study type       : XR_FOREARM\n",
      "-----------------\n",
      "Cohen's kappa (κ): 0.38368860055607046\n",
      "ROC AUC          : 0.6875\n",
      "F1               : 0.5454545454545454\n",
      "======================================\n",
      "study type       : XR_FINGER\n",
      "-----------------\n",
      "Cohen's kappa (κ): 0.3021290976681311\n",
      "ROC AUC          : 0.6463462545835517\n",
      "F1               : 0.4778761061946903\n"
     ]
    }
   ],
   "source": [
    "for study_type in STUDY_TYPES:\n",
    "\n",
    "    temp = temp_testset[temp_testset[\"study_type\"] == study_type]\n",
    "\n",
    "    k = metrics.cohen_kappa_score(temp[\"label\"].values, temp[\"prediction\"].values)\n",
    "    roc_auc = metrics.roc_auc_score(temp[\"label\"].values, temp[\"prediction\"].values)\n",
    "    f1 = metrics.f1_score(temp[\"label\"].values, temp[\"prediction\"].values)\n",
    "    print(\"=\" * 38)\n",
    "    print(f\"study type       : {study_type}\")\n",
    "    print(\"-----------------\")\n",
    "    print(f\"Cohen's kappa (κ): {k}\")\n",
    "    print(f\"ROC AUC          : {roc_auc}\")\n",
    "    print(f\"F1               : {f1}\")"
   ]
  },
  {
   "cell_type": "code",
   "execution_count": 56,
   "id": "87fa13f4",
   "metadata": {},
   "outputs": [],
   "source": [
    "clean_up(all_types_model)\n",
    "clean_up(wrist_model)\n",
    "del temp, temp_testset"
   ]
  },
  {
   "cell_type": "markdown",
   "id": "913f45cc",
   "metadata": {},
   "source": [
    "### Ensemble model: DenseNet169 + VGG19"
   ]
  },
  {
   "cell_type": "code",
   "execution_count": 57,
   "id": "5b69baea",
   "metadata": {},
   "outputs": [
    {
     "name": "stdout",
     "output_type": "stream",
     "text": [
      "Found 3197 validated image filenames belonging to 2 classes.\n"
     ]
    }
   ],
   "source": [
    "densenet_testset = densenet_testing.flow_from_dataframe(\n",
    "    dataframe=ref_testset,\n",
    "    x_col=\"image_path\",\n",
    "    y_col=\"label\",\n",
    "    target_size=(IMAGE_WIDTH, IMAGE_HEIGHT),\n",
    "    class_mode=\"binary\",\n",
    "    batch_size=32,\n",
    "    seed=SEED,\n",
    "    shuffle=False,  # this is very important in order to properly use raw predictions to evaluate on study-level!\n",
    ")"
   ]
  },
  {
   "cell_type": "code",
   "execution_count": 58,
   "id": "f20edfd5",
   "metadata": {},
   "outputs": [
    {
     "name": "stdout",
     "output_type": "stream",
     "text": [
      "Found 3197 validated image filenames belonging to 2 classes.\n"
     ]
    }
   ],
   "source": [
    "vgg19_testset = vgg19_testing.flow_from_dataframe(\n",
    "    dataframe=ref_testset,\n",
    "    x_col=\"image_path\",\n",
    "    y_col=\"label\",\n",
    "    target_size=(IMAGE_WIDTH, IMAGE_HEIGHT),\n",
    "    class_mode=\"binary\",\n",
    "    batch_size=32,\n",
    "    seed=SEED,\n",
    "    shuffle=False,  # this is very important in order to properly use raw predictions to evaluate on study-level!\n",
    ")"
   ]
  },
  {
   "cell_type": "code",
   "execution_count": 59,
   "id": "e389bf98",
   "metadata": {},
   "outputs": [],
   "source": [
    "densenet_model = tf.keras.models.load_model(\n",
    "    \"../models/densenet169_pt_imagenet-all-study-types-12644545.h5\",\n",
    "    custom_objects={\"F1Score\": F1Score},\n",
    ")"
   ]
  },
  {
   "cell_type": "code",
   "execution_count": 60,
   "id": "b6fbacf0",
   "metadata": {},
   "outputs": [],
   "source": [
    "vgg19_model = tf.keras.models.load_model(\n",
    "    \"../models/vgg19_pt_imagenet-all-study-types-20024897.h5\",\n",
    "    custom_objects={\"F1Score\": F1Score},\n",
    ")"
   ]
  },
  {
   "cell_type": "code",
   "execution_count": 61,
   "id": "b1cbe824",
   "metadata": {},
   "outputs": [
    {
     "name": "stdout",
     "output_type": "stream",
     "text": [
      "100/100 [==============================] - 21s 192ms/step\n"
     ]
    }
   ],
   "source": [
    "densenet_preds = densenet_model.predict(densenet_testset, verbose=1)"
   ]
  },
  {
   "cell_type": "code",
   "execution_count": 62,
   "id": "e108ded1",
   "metadata": {},
   "outputs": [
    {
     "name": "stdout",
     "output_type": "stream",
     "text": [
      "100/100 [==============================] - 39s 392ms/step\n"
     ]
    }
   ],
   "source": [
    "vgg19_preds = vgg19_model.predict(vgg19_testset, verbose=1)"
   ]
  },
  {
   "cell_type": "code",
   "execution_count": 63,
   "id": "68ea17d6",
   "metadata": {},
   "outputs": [],
   "source": [
    "temp_testset = ref_testset.copy()\n",
    "\n",
    "temp_testset[\"label\"] = temp_testset[\"label\"].map(int)\n",
    "temp_testset[\"predictionA\"] = densenet_preds.ravel()\n",
    "temp_testset[\"predictionB\"] = vgg19_preds.ravel()"
   ]
  },
  {
   "cell_type": "code",
   "execution_count": 64,
   "id": "9ebc8805",
   "metadata": {},
   "outputs": [],
   "source": [
    "temp_testset = pd.DataFrame(\n",
    "    [*study_oriented_transformation_on_ensemble(temp_testset)],\n",
    "    columns=[\"study_type\", \"study\", \"label\", \"prediction\"],\n",
    ")"
   ]
  },
  {
   "cell_type": "code",
   "execution_count": 65,
   "id": "289b3d46",
   "metadata": {},
   "outputs": [
    {
     "name": "stdout",
     "output_type": "stream",
     "text": [
      "======================================\n",
      "study type       : all studies\n",
      "-----------------\n",
      "Cohen's kappa (κ): 0.646365349262074\n",
      "ROC AUC          : 0.8173700431361743\n",
      "F1               : 0.7880658436213993\n",
      "======================================\n"
     ]
    }
   ],
   "source": [
    "k = metrics.cohen_kappa_score(\n",
    "    temp_testset[\"label\"].values, temp_testset[\"prediction\"].values\n",
    ")\n",
    "roc_auc = metrics.roc_auc_score(\n",
    "    temp_testset[\"label\"].values, temp_testset[\"prediction\"].values\n",
    ")\n",
    "f1 = metrics.f1_score(temp_testset[\"label\"].values, temp_testset[\"prediction\"].values)\n",
    "\n",
    "print(\"=\" * 38)\n",
    "print(f\"study type       : all studies\")\n",
    "print(\"-----------------\")\n",
    "print(f\"Cohen's kappa (κ): {k}\")\n",
    "print(f\"ROC AUC          : {roc_auc}\")\n",
    "print(f\"F1               : {f1}\")\n",
    "print(\"=\" * 38)"
   ]
  },
  {
   "cell_type": "code",
   "execution_count": 66,
   "id": "43b6cb78",
   "metadata": {},
   "outputs": [
    {
     "name": "stdout",
     "output_type": "stream",
     "text": [
      "======================================\n",
      "study type       : XR_SHOULDER\n",
      "-----------------\n",
      "Cohen's kappa (κ): 0.5567952396132185\n",
      "ROC AUC          : 0.7785752259436471\n",
      "F1               : 0.7772020725388602\n",
      "======================================\n",
      "study type       : XR_ELBOW\n",
      "-----------------\n",
      "Cohen's kappa (κ): 0.7049235993208829\n",
      "ROC AUC          : 0.841897233201581\n",
      "F1               : 0.8135593220338984\n",
      "======================================\n",
      "study type       : XR_HUMERUS\n",
      "-----------------\n",
      "Cohen's kappa (κ): 0.718348523114088\n",
      "ROC AUC          : 0.8589771729587358\n",
      "F1               : 0.8527131782945736\n",
      "======================================\n",
      "study type       : XR_HAND\n",
      "-----------------\n",
      "Cohen's kappa (κ): 0.4803471994759253\n",
      "ROC AUC          : 0.71999699969997\n",
      "F1               : 0.6200000000000001\n",
      "======================================\n",
      "study type       : XR_WRIST\n",
      "-----------------\n",
      "Cohen's kappa (κ): 0.7296577946768061\n",
      "ROC AUC          : 0.8532768777614138\n",
      "F1               : 0.8275862068965517\n",
      "======================================\n",
      "study type       : XR_FOREARM\n",
      "-----------------\n",
      "Cohen's kappa (κ): 0.634866163349348\n",
      "ROC AUC          : 0.8141983695652174\n",
      "F1               : 0.7818181818181819\n",
      "======================================\n",
      "study type       : XR_FINGER\n",
      "-----------------\n",
      "Cohen's kappa (κ): 0.6525479814692257\n",
      "ROC AUC          : 0.8228129910948141\n",
      "F1               : 0.7972972972972974\n"
     ]
    }
   ],
   "source": [
    "for study_type in STUDY_TYPES:\n",
    "\n",
    "    temp = temp_testset[temp_testset[\"study_type\"] == study_type]\n",
    "\n",
    "    k = metrics.cohen_kappa_score(temp[\"label\"].values, temp[\"prediction\"].values)\n",
    "    roc_auc = metrics.roc_auc_score(temp[\"label\"].values, temp[\"prediction\"].values)\n",
    "    f1 = metrics.f1_score(temp[\"label\"].values, temp[\"prediction\"].values)\n",
    "    print(\"=\" * 38)\n",
    "    print(f\"study type       : {study_type}\")\n",
    "    print(\"-----------------\")\n",
    "    print(f\"Cohen's kappa (κ): {k}\")\n",
    "    print(f\"ROC AUC          : {roc_auc}\")\n",
    "    print(f\"F1               : {f1}\")"
   ]
  },
  {
   "cell_type": "code",
   "execution_count": 67,
   "id": "d9c11ccb",
   "metadata": {},
   "outputs": [],
   "source": [
    "clean_up(densenet_model)\n",
    "clean_up(vgg19_model)\n",
    "del temp, temp_testset"
   ]
  }
 ],
 "metadata": {
  "kernelspec": {
   "display_name": "Python 3 (ipykernel)",
   "language": "python",
   "name": "python3"
  },
  "language_info": {
   "codemirror_mode": {
    "name": "ipython",
    "version": 3
   },
   "file_extension": ".py",
   "mimetype": "text/x-python",
   "name": "python",
   "nbconvert_exporter": "python",
   "pygments_lexer": "ipython3",
   "version": "3.8.10"
  }
 },
 "nbformat": 4,
 "nbformat_minor": 5
}
