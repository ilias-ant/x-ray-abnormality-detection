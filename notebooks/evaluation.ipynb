{
 "cells": [
  {
   "cell_type": "markdown",
   "id": "ca1cb9b4",
   "metadata": {},
   "source": [
    "## X-Ray Abnormality Detection | Evaluation"
   ]
  },
  {
   "cell_type": "markdown",
   "id": "1becbf68",
   "metadata": {},
   "source": [
    "> **Antonopoulos Ilias** ( *p3352004* ) <br />\n",
    "> **Ndoja Silva** ( *p3352017* ) <br />\n",
    "> **MSc in Data Science, AUEB**"
   ]
  },
  {
   "cell_type": "markdown",
   "id": "6fd3690c",
   "metadata": {},
   "source": [
    "## Table of Contents\n",
    "\n",
    "\n",
    "* [CNN architecture with sensible defaults](#CNN-architecture-with-sensible-defaults,-all-study-types)\n",
    "* [DenseNet169 architecture, pretrained on ImageNet](#DenseNet169-architecture,-pretrained-on-ImageNet)\n",
    "* [VGG19 architecture, pretrained on ImageNet](#VGG19-architecture,-pretrained-on-ImageNet)\n",
    "* [Ensemble model: generic CNN + wrist CNN](#Ensemble-model:-generic-CNN-+-wrist-CNN)\n",
    "* [Ensemble model: DenseNet169 + VGG19](#Ensemble-model:-DenseNet169-+-VGG19)"
   ]
  },
  {
   "cell_type": "code",
   "execution_count": 1,
   "id": "ea2220df",
   "metadata": {},
   "outputs": [],
   "source": [
    "import os\n",
    "import pathlib\n",
    "import random\n",
    "import re\n",
    "\n",
    "import numpy as np\n",
    "import pandas as pd\n",
    "import tensorflow as tf\n",
    "import tensorflow_addons as tfa\n",
    "from sklearn import metrics\n",
    "from sklearn.utils import shuffle\n",
    "\n",
    "from utils import (\n",
    "    clean_up,\n",
    "    F1Score,\n",
    "    inspect_df,\n",
    "    study_oriented_transformation,\n",
    "    study_oriented_transformation_on_ensemble,\n",
    ")"
   ]
  },
  {
   "cell_type": "code",
   "execution_count": 2,
   "id": "8d59fda5",
   "metadata": {},
   "outputs": [
    {
     "name": "stdout",
     "output_type": "stream",
     "text": [
      "2.8.0\n"
     ]
    }
   ],
   "source": [
    "print(tf.__version__)"
   ]
  },
  {
   "cell_type": "code",
   "execution_count": 3,
   "id": "170df75c",
   "metadata": {},
   "outputs": [],
   "source": [
    "SEED = 99910123\n",
    "\n",
    "os.environ[\"PYTHONHASHSEED\"] = str(SEED)\n",
    "random.seed(SEED)\n",
    "tf.random.set_seed(SEED)\n",
    "np.random.seed(SEED)"
   ]
  },
  {
   "cell_type": "code",
   "execution_count": 4,
   "id": "340630b7",
   "metadata": {},
   "outputs": [],
   "source": [
    "DATASET_DIR = \"../data/MURA-v1.1/\"\n",
    "IMAGE_WIDTH = 224\n",
    "IMAGE_HEIGHT = 224"
   ]
  },
  {
   "cell_type": "code",
   "execution_count": 5,
   "id": "562bde1b",
   "metadata": {},
   "outputs": [],
   "source": [
    "STUDY_TYPES = [\n",
    "    \"XR_SHOULDER\",\n",
    "    \"XR_ELBOW\",\n",
    "    \"XR_HUMERUS\",\n",
    "    \"XR_HAND\",\n",
    "    \"XR_WRIST\",\n",
    "    \"XR_FOREARM\",\n",
    "    \"XR_FINGER\",\n",
    "]"
   ]
  },
  {
   "cell_type": "code",
   "execution_count": 6,
   "id": "d1defe76",
   "metadata": {},
   "outputs": [
    {
     "name": "stderr",
     "output_type": "stream",
     "text": [
      "2022-04-03 17:17:17.313690: I tensorflow/stream_executor/cuda/cuda_gpu_executor.cc:936] successful NUMA node read from SysFS had negative value (-1), but there must be at least one NUMA node, so returning NUMA node zero\n",
      "2022-04-03 17:17:17.340725: I tensorflow/stream_executor/cuda/cuda_gpu_executor.cc:936] successful NUMA node read from SysFS had negative value (-1), but there must be at least one NUMA node, so returning NUMA node zero\n",
      "2022-04-03 17:17:17.340900: I tensorflow/stream_executor/cuda/cuda_gpu_executor.cc:936] successful NUMA node read from SysFS had negative value (-1), but there must be at least one NUMA node, so returning NUMA node zero\n",
      "2022-04-03 17:17:17.341735: I tensorflow/core/platform/cpu_feature_guard.cc:151] This TensorFlow binary is optimized with oneAPI Deep Neural Network Library (oneDNN) to use the following CPU instructions in performance-critical operations:  AVX2 FMA\n",
      "To enable them in other operations, rebuild TensorFlow with the appropriate compiler flags.\n",
      "2022-04-03 17:17:17.342331: I tensorflow/stream_executor/cuda/cuda_gpu_executor.cc:936] successful NUMA node read from SysFS had negative value (-1), but there must be at least one NUMA node, so returning NUMA node zero\n",
      "2022-04-03 17:17:17.342469: I tensorflow/stream_executor/cuda/cuda_gpu_executor.cc:936] successful NUMA node read from SysFS had negative value (-1), but there must be at least one NUMA node, so returning NUMA node zero\n",
      "2022-04-03 17:17:17.342588: I tensorflow/stream_executor/cuda/cuda_gpu_executor.cc:936] successful NUMA node read from SysFS had negative value (-1), but there must be at least one NUMA node, so returning NUMA node zero\n",
      "2022-04-03 17:17:17.999591: I tensorflow/stream_executor/cuda/cuda_gpu_executor.cc:936] successful NUMA node read from SysFS had negative value (-1), but there must be at least one NUMA node, so returning NUMA node zero\n",
      "2022-04-03 17:17:17.999759: I tensorflow/stream_executor/cuda/cuda_gpu_executor.cc:936] successful NUMA node read from SysFS had negative value (-1), but there must be at least one NUMA node, so returning NUMA node zero\n",
      "2022-04-03 17:17:17.999884: I tensorflow/stream_executor/cuda/cuda_gpu_executor.cc:936] successful NUMA node read from SysFS had negative value (-1), but there must be at least one NUMA node, so returning NUMA node zero\n",
      "2022-04-03 17:17:18.000239: I tensorflow/core/common_runtime/gpu/gpu_device.cc:1525] Created device /job:localhost/replica:0/task:0/device:GPU:0 with 2136 MB memory:  -> device: 0, name: Quadro T1000, pci bus id: 0000:01:00.0, compute capability: 7.5\n"
     ]
    }
   ],
   "source": [
    "METRICS = [\n",
    "    tf.keras.metrics.TruePositives(name=\"tp\"),\n",
    "    tf.keras.metrics.FalsePositives(name=\"fp\"),\n",
    "    tf.keras.metrics.TrueNegatives(name=\"tn\"),\n",
    "    tf.keras.metrics.FalseNegatives(name=\"fn\"),\n",
    "    tf.keras.metrics.BinaryAccuracy(name=\"binary_acc\"),\n",
    "    tf.keras.metrics.Precision(name=\"precision\"),\n",
    "    tf.keras.metrics.Recall(name=\"recall\"),\n",
    "    F1Score(name=\"f1_score\"),\n",
    "    tf.keras.metrics.AUC(name=\"roc_auc\", curve=\"ROC\"),\n",
    "    tf.keras.metrics.AUC(name=\"pr_auc\", curve=\"PR\"),\n",
    "    tfa.metrics.CohenKappa(name=\"cohen_kappa\", num_classes=2),\n",
    "]"
   ]
  },
  {
   "cell_type": "code",
   "execution_count": 7,
   "id": "de2fb0f4",
   "metadata": {},
   "outputs": [],
   "source": [
    "test_image_paths = pd.read_csv(\n",
    "    os.path.join(DATASET_DIR, \"valid_image_paths.csv\"),\n",
    "    names=[\"image_path\"],\n",
    "    header=None,\n",
    "    index_col=False,\n",
    ")"
   ]
  },
  {
   "cell_type": "code",
   "execution_count": 8,
   "id": "84f0d813",
   "metadata": {},
   "outputs": [],
   "source": [
    "test_image_paths[\"image_path\"] = test_image_paths[\"image_path\"].map(\n",
    "    lambda x: os.path.join(\"../data/\", x)\n",
    ")\n",
    "test_image_paths[\"study_type\"] = test_image_paths[\"image_path\"].map(\n",
    "    lambda x: x.split(\"/\")[4]\n",
    ")\n",
    "test_image_paths[\"patient\"] = test_image_paths[\"image_path\"].map(\n",
    "    lambda x: x.split(\"/\")[5]\n",
    ")\n",
    "test_image_paths[\"study\"] = test_image_paths[\"image_path\"].map(\n",
    "    lambda x: x.split(\"/\")[6]\n",
    ")\n",
    "test_image_paths[\"study_path\"] = test_image_paths[\"image_path\"].map(\n",
    "    lambda x: re.sub(r\"image\\d+.png\", \"\", x)\n",
    ")"
   ]
  },
  {
   "cell_type": "code",
   "execution_count": 9,
   "id": "ce557b73",
   "metadata": {},
   "outputs": [],
   "source": [
    "test_labeled_studies = pd.read_csv(\n",
    "    os.path.join(DATASET_DIR, \"valid_labeled_studies.csv\"),\n",
    "    names=[\"study_path\", \"label\"],\n",
    "    header=None,\n",
    "    index_col=False,\n",
    ")"
   ]
  },
  {
   "cell_type": "code",
   "execution_count": 10,
   "id": "bda945d5",
   "metadata": {},
   "outputs": [],
   "source": [
    "test_labeled_studies[\"study_path\"] = test_labeled_studies[\"study_path\"].map(\n",
    "    lambda x: os.path.join(\"../data/\", x)\n",
    ")\n",
    "test_labeled_studies[\"label\"] = test_labeled_studies[\"label\"].map(str)"
   ]
  },
  {
   "cell_type": "code",
   "execution_count": 11,
   "id": "90ff2567",
   "metadata": {},
   "outputs": [
    {
     "name": "stdout",
     "output_type": "stream",
     "text": [
      "shape: (3197, 6)\n"
     ]
    },
    {
     "data": {
      "text/html": [
       "<div>\n",
       "<style scoped>\n",
       "    .dataframe tbody tr th:only-of-type {\n",
       "        vertical-align: middle;\n",
       "    }\n",
       "\n",
       "    .dataframe tbody tr th {\n",
       "        vertical-align: top;\n",
       "    }\n",
       "\n",
       "    .dataframe thead th {\n",
       "        text-align: right;\n",
       "    }\n",
       "</style>\n",
       "<table border=\"1\" class=\"dataframe\">\n",
       "  <thead>\n",
       "    <tr style=\"text-align: right;\">\n",
       "      <th></th>\n",
       "      <th>image_path</th>\n",
       "      <th>study_type</th>\n",
       "      <th>patient</th>\n",
       "      <th>study</th>\n",
       "      <th>study_path</th>\n",
       "      <th>label</th>\n",
       "    </tr>\n",
       "  </thead>\n",
       "  <tbody>\n",
       "    <tr>\n",
       "      <th>0</th>\n",
       "      <td>../data/MURA-v1.1/valid/XR_WRIST/patient11185/...</td>\n",
       "      <td>XR_WRIST</td>\n",
       "      <td>patient11185</td>\n",
       "      <td>study1_positive</td>\n",
       "      <td>../data/MURA-v1.1/valid/XR_WRIST/patient11185/...</td>\n",
       "      <td>1</td>\n",
       "    </tr>\n",
       "    <tr>\n",
       "      <th>1</th>\n",
       "      <td>../data/MURA-v1.1/valid/XR_WRIST/patient11185/...</td>\n",
       "      <td>XR_WRIST</td>\n",
       "      <td>patient11185</td>\n",
       "      <td>study1_positive</td>\n",
       "      <td>../data/MURA-v1.1/valid/XR_WRIST/patient11185/...</td>\n",
       "      <td>1</td>\n",
       "    </tr>\n",
       "    <tr>\n",
       "      <th>2</th>\n",
       "      <td>../data/MURA-v1.1/valid/XR_WRIST/patient11185/...</td>\n",
       "      <td>XR_WRIST</td>\n",
       "      <td>patient11185</td>\n",
       "      <td>study1_positive</td>\n",
       "      <td>../data/MURA-v1.1/valid/XR_WRIST/patient11185/...</td>\n",
       "      <td>1</td>\n",
       "    </tr>\n",
       "    <tr>\n",
       "      <th>3</th>\n",
       "      <td>../data/MURA-v1.1/valid/XR_WRIST/patient11185/...</td>\n",
       "      <td>XR_WRIST</td>\n",
       "      <td>patient11185</td>\n",
       "      <td>study1_positive</td>\n",
       "      <td>../data/MURA-v1.1/valid/XR_WRIST/patient11185/...</td>\n",
       "      <td>1</td>\n",
       "    </tr>\n",
       "    <tr>\n",
       "      <th>4</th>\n",
       "      <td>../data/MURA-v1.1/valid/XR_WRIST/patient11186/...</td>\n",
       "      <td>XR_WRIST</td>\n",
       "      <td>patient11186</td>\n",
       "      <td>study1_positive</td>\n",
       "      <td>../data/MURA-v1.1/valid/XR_WRIST/patient11186/...</td>\n",
       "      <td>1</td>\n",
       "    </tr>\n",
       "  </tbody>\n",
       "</table>\n",
       "</div>"
      ],
      "text/plain": [
       "                                          image_path study_type       patient  \\\n",
       "0  ../data/MURA-v1.1/valid/XR_WRIST/patient11185/...   XR_WRIST  patient11185   \n",
       "1  ../data/MURA-v1.1/valid/XR_WRIST/patient11185/...   XR_WRIST  patient11185   \n",
       "2  ../data/MURA-v1.1/valid/XR_WRIST/patient11185/...   XR_WRIST  patient11185   \n",
       "3  ../data/MURA-v1.1/valid/XR_WRIST/patient11185/...   XR_WRIST  patient11185   \n",
       "4  ../data/MURA-v1.1/valid/XR_WRIST/patient11186/...   XR_WRIST  patient11186   \n",
       "\n",
       "             study                                         study_path label  \n",
       "0  study1_positive  ../data/MURA-v1.1/valid/XR_WRIST/patient11185/...     1  \n",
       "1  study1_positive  ../data/MURA-v1.1/valid/XR_WRIST/patient11185/...     1  \n",
       "2  study1_positive  ../data/MURA-v1.1/valid/XR_WRIST/patient11185/...     1  \n",
       "3  study1_positive  ../data/MURA-v1.1/valid/XR_WRIST/patient11185/...     1  \n",
       "4  study1_positive  ../data/MURA-v1.1/valid/XR_WRIST/patient11186/...     1  "
      ]
     },
     "execution_count": 11,
     "metadata": {},
     "output_type": "execute_result"
    }
   ],
   "source": [
    "ref_testset = pd.merge(\n",
    "    test_image_paths, test_labeled_studies, how=\"inner\", on=\"study_path\"\n",
    ")\n",
    "\n",
    "inspect_df(ref_testset)"
   ]
  },
  {
   "cell_type": "markdown",
   "id": "6bf7c85a",
   "metadata": {},
   "source": [
    "### CNN architecture with sensible defaults, all study types"
   ]
  },
  {
   "cell_type": "code",
   "execution_count": 12,
   "id": "8a862488",
   "metadata": {},
   "outputs": [],
   "source": [
    "cnn_testing = tf.keras.preprocessing.image.ImageDataGenerator(\n",
    "    rescale=1.0 / 255,\n",
    ")"
   ]
  },
  {
   "cell_type": "code",
   "execution_count": 13,
   "id": "8d2b96e2",
   "metadata": {},
   "outputs": [
    {
     "name": "stdout",
     "output_type": "stream",
     "text": [
      "Found 3197 validated image filenames belonging to 2 classes.\n"
     ]
    }
   ],
   "source": [
    "testset = cnn_testing.flow_from_dataframe(\n",
    "    dataframe=ref_testset,\n",
    "    x_col=\"image_path\",\n",
    "    y_col=\"label\",\n",
    "    target_size=(IMAGE_WIDTH, IMAGE_HEIGHT),\n",
    "    class_mode=\"binary\",\n",
    "    batch_size=32,\n",
    "    seed=SEED,\n",
    "    shuffle=False,  # this is very important in order to properly use raw predictions to evaluate on study-level!\n",
    ")"
   ]
  },
  {
   "cell_type": "code",
   "execution_count": 14,
   "id": "4e456804",
   "metadata": {},
   "outputs": [],
   "source": [
    "model = tf.keras.models.load_model(\n",
    "    \"../models/cnn-all-study-types-3309921.h5\", custom_objects={\"F1Score\": F1Score}\n",
    ")"
   ]
  },
  {
   "cell_type": "code",
   "execution_count": 15,
   "id": "39b2afce",
   "metadata": {
    "scrolled": false
   },
   "outputs": [
    {
     "name": "stderr",
     "output_type": "stream",
     "text": [
      "2022-04-03 17:17:31.937370: I tensorflow/stream_executor/cuda/cuda_dnn.cc:368] Loaded cuDNN version 8303\n"
     ]
    },
    {
     "name": "stdout",
     "output_type": "stream",
     "text": [
      "100/100 [==============================] - 12s 87ms/step - loss: 0.6807 - tp: 898.0000 - fp: 416.0000 - tn: 1251.0000 - fn: 632.0000 - binary_acc: 0.6722 - precision: 0.6834 - recall: 0.5869 - f1_score: 0.6315 - roc_auc: 0.7456 - pr_auc: 0.7524 - cohen_kappa: 0.3393\n"
     ]
    }
   ],
   "source": [
    "evaluation_metrics = model.evaluate(testset, verbose=1)"
   ]
  },
  {
   "cell_type": "code",
   "execution_count": 16,
   "id": "2a96c55d",
   "metadata": {},
   "outputs": [
    {
     "name": "stdout",
     "output_type": "stream",
     "text": [
      "================================\n",
      "test loss   : 0.6806519031524658\n",
      "tp          : 898.0\n",
      "fp          : 416.0\n",
      "tn          : 1251.0\n",
      "fn          : 632.0\n",
      "binary_acc  : 0.6721926927566528\n",
      "precision   : 0.6834094524383545\n",
      "recall      : 0.586928129196167\n",
      "f1_score    : 0.6315049529075623\n",
      "roc_auc     : 0.7455726861953735\n",
      "pr_auc      : 0.752379298210144\n",
      "cohen_kappa : 0.33934664726257324\n",
      "================================\n"
     ]
    }
   ],
   "source": [
    "loss = evaluation_metrics.pop(0)\n",
    "\n",
    "print(\"=\" * 32)\n",
    "print(f\"test loss   : {loss}\")\n",
    "for metric, score in zip(METRICS, evaluation_metrics):\n",
    "\n",
    "    print(f\"{metric.name + ' ' * (12 - len(metric.name))}: {score}\")\n",
    "print(\"=\" * 32)"
   ]
  },
  {
   "cell_type": "code",
   "execution_count": 17,
   "id": "a707b867",
   "metadata": {},
   "outputs": [
    {
     "name": "stdout",
     "output_type": "stream",
     "text": [
      "100/100 [==============================] - 8s 79ms/step\n"
     ]
    }
   ],
   "source": [
    "# get predictions for the test dataset\n",
    "preds = model.predict(testset, verbose=1)"
   ]
  },
  {
   "cell_type": "code",
   "execution_count": 18,
   "id": "242c6f43",
   "metadata": {},
   "outputs": [],
   "source": [
    "temp_testset = ref_testset.copy()\n",
    "\n",
    "temp_testset[\"label\"] = temp_testset[\"label\"].map(int)\n",
    "temp_testset[\"prediction\"] = preds.ravel()"
   ]
  },
  {
   "cell_type": "code",
   "execution_count": 19,
   "id": "37229179",
   "metadata": {
    "scrolled": true
   },
   "outputs": [],
   "source": [
    "temp_testset = pd.DataFrame(\n",
    "    [*study_oriented_transformation(temp_testset)],\n",
    "    columns=[\"study_type\", \"study\", \"label\", \"prediction\"],\n",
    ")"
   ]
  },
  {
   "cell_type": "code",
   "execution_count": 20,
   "id": "17a587f2",
   "metadata": {},
   "outputs": [
    {
     "name": "stdout",
     "output_type": "stream",
     "text": [
      "======================================\n",
      "study type       : all studies\n",
      "-----------------\n",
      "Cohen's kappa (κ): 0.3868457901656811\n",
      "ROC AUC          : 0.6909141269564533\n",
      "F1               : 0.6413586413586414\n",
      "======================================\n"
     ]
    }
   ],
   "source": [
    "k = metrics.cohen_kappa_score(\n",
    "    temp_testset[\"label\"].values, temp_testset[\"prediction\"].values\n",
    ")\n",
    "roc_auc = metrics.roc_auc_score(\n",
    "    temp_testset[\"label\"].values, temp_testset[\"prediction\"].values\n",
    ")\n",
    "f1 = metrics.f1_score(temp_testset[\"label\"].values, temp_testset[\"prediction\"].values)\n",
    "\n",
    "print(\"=\" * 38)\n",
    "print(f\"study type       : all studies\")\n",
    "print(\"-----------------\")\n",
    "print(f\"Cohen's kappa (κ): {k}\")\n",
    "print(f\"ROC AUC          : {roc_auc}\")\n",
    "print(f\"F1               : {f1}\")\n",
    "print(\"=\" * 38)"
   ]
  },
  {
   "cell_type": "code",
   "execution_count": 21,
   "id": "7f984327",
   "metadata": {},
   "outputs": [
    {
     "name": "stdout",
     "output_type": "stream",
     "text": [
      "======================================\n",
      "study type       : XR_SHOULDER\n",
      "-----------------\n",
      "Cohen's kappa (κ): 0.17390390074650397\n",
      "ROC AUC          : 0.5879319510898458\n",
      "F1               : 0.6666666666666666\n",
      "======================================\n",
      "study type       : XR_ELBOW\n",
      "-----------------\n",
      "Cohen's kappa (κ): 0.501328903654485\n",
      "ROC AUC          : 0.7485177865612649\n",
      "F1               : 0.703125\n",
      "======================================\n",
      "study type       : XR_HUMERUS\n",
      "-----------------\n",
      "Cohen's kappa (κ): 0.4371296905859118\n",
      "ROC AUC          : 0.7186128182616329\n",
      "F1               : 0.7205882352941175\n",
      "======================================\n",
      "study type       : XR_HAND\n",
      "-----------------\n",
      "Cohen's kappa (κ): 0.17563003377500652\n",
      "ROC AUC          : 0.5760576057605761\n",
      "F1               : 0.2962962962962963\n",
      "======================================\n",
      "study type       : XR_WRIST\n",
      "-----------------\n",
      "Cohen's kappa (κ): 0.5101806491120637\n",
      "ROC AUC          : 0.74539764359352\n",
      "F1               : 0.6823529411764705\n",
      "======================================\n",
      "study type       : XR_FOREARM\n",
      "-----------------\n",
      "Cohen's kappa (κ): 0.4361177953477713\n",
      "ROC AUC          : 0.7154664855072463\n",
      "F1               : 0.6542056074766355\n",
      "======================================\n",
      "study type       : XR_FINGER\n",
      "-----------------\n",
      "Cohen's kappa (κ): 0.3700839888014932\n",
      "ROC AUC          : 0.681770560502881\n",
      "F1               : 0.6029411764705882\n"
     ]
    }
   ],
   "source": [
    "for study_type in STUDY_TYPES:\n",
    "\n",
    "    temp = temp_testset[temp_testset[\"study_type\"] == study_type]\n",
    "\n",
    "    k = metrics.cohen_kappa_score(temp[\"label\"].values, temp[\"prediction\"].values)\n",
    "    roc_auc = metrics.roc_auc_score(temp[\"label\"].values, temp[\"prediction\"].values)\n",
    "    f1 = metrics.f1_score(temp[\"label\"].values, temp[\"prediction\"].values)\n",
    "    print(\"=\" * 38)\n",
    "    print(f\"study type       : {study_type}\")\n",
    "    print(\"-----------------\")\n",
    "    print(f\"Cohen's kappa (κ): {k}\")\n",
    "    print(f\"ROC AUC          : {roc_auc}\")\n",
    "    print(f\"F1               : {f1}\")"
   ]
  },
  {
   "cell_type": "code",
   "execution_count": 22,
   "id": "8f7bcb60",
   "metadata": {},
   "outputs": [],
   "source": [
    "clean_up(model)\n",
    "del temp, temp_testset"
   ]
  },
  {
   "cell_type": "markdown",
   "id": "b174b268",
   "metadata": {},
   "source": [
    "### DenseNet169 architecture, pretrained on ImageNet"
   ]
  },
  {
   "cell_type": "code",
   "execution_count": 23,
   "id": "92140a36",
   "metadata": {},
   "outputs": [],
   "source": [
    "densenet_testing = tf.keras.preprocessing.image.ImageDataGenerator(\n",
    "    preprocessing_function=tf.keras.applications.densenet.preprocess_input,\n",
    ")"
   ]
  },
  {
   "cell_type": "code",
   "execution_count": 24,
   "id": "b3a54726",
   "metadata": {},
   "outputs": [
    {
     "name": "stdout",
     "output_type": "stream",
     "text": [
      "Found 3197 validated image filenames belonging to 2 classes.\n"
     ]
    }
   ],
   "source": [
    "testset = densenet_testing.flow_from_dataframe(\n",
    "    dataframe=ref_testset,\n",
    "    x_col=\"image_path\",\n",
    "    y_col=\"label\",\n",
    "    target_size=(IMAGE_WIDTH, IMAGE_HEIGHT),\n",
    "    class_mode=\"binary\",\n",
    "    batch_size=32,\n",
    "    seed=SEED,\n",
    "    shuffle=False,  # this is very important in order to properly use raw predictions to evaluate on study-level!\n",
    ")"
   ]
  },
  {
   "cell_type": "code",
   "execution_count": 25,
   "id": "88fc0223",
   "metadata": {},
   "outputs": [],
   "source": [
    "model = tf.keras.models.load_model(\n",
    "    \"../models/densenet169_pt_imagenet-all-study-types-12644545.h5\",\n",
    "    custom_objects={\"F1Score\": F1Score},\n",
    ")"
   ]
  },
  {
   "cell_type": "code",
   "execution_count": 26,
   "id": "714259f3",
   "metadata": {},
   "outputs": [
    {
     "name": "stderr",
     "output_type": "stream",
     "text": [
      "2022-04-03 17:19:40.411147: W tensorflow/core/common_runtime/bfc_allocator.cc:275] Allocator (GPU_0_bfc) ran out of memory trying to allocate 1.86GiB with freed_by_count=0. The caller indicates that this is not a failure, but may mean that there could be performance gains if more memory were available.\n",
      "2022-04-03 17:19:40.411176: W tensorflow/core/common_runtime/bfc_allocator.cc:275] Allocator (GPU_0_bfc) ran out of memory trying to allocate 1.86GiB with freed_by_count=0. The caller indicates that this is not a failure, but may mean that there could be performance gains if more memory were available.\n"
     ]
    },
    {
     "name": "stdout",
     "output_type": "stream",
     "text": [
      " 99/100 [============================>.] - ETA: 0s - loss: 0.4746 - tp: 1054.0000 - fp: 127.0000 - tn: 1511.0000 - fn: 476.0000 - binary_acc: 0.8097 - precision: 0.8925 - recall: 0.6889 - f1_score: 0.7776 - roc_auc: 0.8813 - pr_auc: 0.8813 - cohen_kappa: 0.6160"
     ]
    },
    {
     "name": "stderr",
     "output_type": "stream",
     "text": [
      "2022-04-03 17:20:05.311489: W tensorflow/core/common_runtime/bfc_allocator.cc:275] Allocator (GPU_0_bfc) ran out of memory trying to allocate 1.86GiB with freed_by_count=0. The caller indicates that this is not a failure, but may mean that there could be performance gains if more memory were available.\n",
      "2022-04-03 17:20:05.311521: W tensorflow/core/common_runtime/bfc_allocator.cc:275] Allocator (GPU_0_bfc) ran out of memory trying to allocate 1.86GiB with freed_by_count=0. The caller indicates that this is not a failure, but may mean that there could be performance gains if more memory were available.\n"
     ]
    },
    {
     "name": "stdout",
     "output_type": "stream",
     "text": [
      "100/100 [==============================] - 31s 252ms/step - loss: 0.4713 - tp: 1054.0000 - fp: 128.0000 - tn: 1539.0000 - fn: 476.0000 - binary_acc: 0.8111 - precision: 0.8917 - recall: 0.6889 - f1_score: 0.7773 - roc_auc: 0.8823 - pr_auc: 0.8808 - cohen_kappa: 0.6179\n"
     ]
    }
   ],
   "source": [
    "evaluation_metrics = model.evaluate(testset, verbose=1)"
   ]
  },
  {
   "cell_type": "code",
   "execution_count": 27,
   "id": "0fc45be9",
   "metadata": {},
   "outputs": [
    {
     "name": "stdout",
     "output_type": "stream",
     "text": [
      "================================\n",
      "test loss   : 0.47125089168548584\n",
      "tp          : 1054.0\n",
      "fp          : 128.0\n",
      "tn          : 1539.0\n",
      "fn          : 476.0\n",
      "binary_acc  : 0.8110728859901428\n",
      "precision   : 0.8917089700698853\n",
      "recall      : 0.6888889074325562\n",
      "f1_score    : 0.7772861123085022\n",
      "roc_auc     : 0.882323145866394\n",
      "pr_auc      : 0.8807572722434998\n",
      "cohen_kappa : 0.6178791522979736\n",
      "================================\n"
     ]
    }
   ],
   "source": [
    "loss = evaluation_metrics.pop(0)\n",
    "\n",
    "print(\"=\" * 32)\n",
    "print(f\"test loss   : {loss}\")\n",
    "for metric, score in zip(METRICS, evaluation_metrics):\n",
    "\n",
    "    print(f\"{metric.name + ' ' * (12 - len(metric.name))}: {score}\")\n",
    "print(\"=\" * 32)"
   ]
  },
  {
   "cell_type": "code",
   "execution_count": 28,
   "id": "b092b9ba",
   "metadata": {},
   "outputs": [
    {
     "name": "stdout",
     "output_type": "stream",
     "text": [
      "100/100 [==============================] - 20s 188ms/step\n"
     ]
    }
   ],
   "source": [
    "# get predictions for the test dataset\n",
    "preds = model.predict(testset, verbose=1)"
   ]
  },
  {
   "cell_type": "code",
   "execution_count": 29,
   "id": "a940de67",
   "metadata": {},
   "outputs": [],
   "source": [
    "temp_testset = ref_testset.copy()\n",
    "\n",
    "temp_testset[\"label\"] = temp_testset[\"label\"].map(int)\n",
    "temp_testset[\"prediction\"] = preds.ravel()"
   ]
  },
  {
   "cell_type": "code",
   "execution_count": 30,
   "id": "9952783b",
   "metadata": {},
   "outputs": [],
   "source": [
    "temp_testset = pd.DataFrame(\n",
    "    [*study_oriented_transformation(temp_testset)],\n",
    "    columns=[\"study_type\", \"study\", \"label\", \"prediction\"],\n",
    ")"
   ]
  },
  {
   "cell_type": "code",
   "execution_count": 31,
   "id": "3e3fd730",
   "metadata": {},
   "outputs": [
    {
     "name": "stdout",
     "output_type": "stream",
     "text": [
      "======================================\n",
      "study type       : all studies\n",
      "-----------------\n",
      "Cohen's kappa (κ): 0.6291519630338803\n",
      "ROC AUC          : 0.8074492854692396\n",
      "F1               : 0.7724867724867724\n",
      "======================================\n"
     ]
    }
   ],
   "source": [
    "k = metrics.cohen_kappa_score(\n",
    "    temp_testset[\"label\"].values, temp_testset[\"prediction\"].values\n",
    ")\n",
    "roc_auc = metrics.roc_auc_score(\n",
    "    temp_testset[\"label\"].values, temp_testset[\"prediction\"].values\n",
    ")\n",
    "f1 = metrics.f1_score(temp_testset[\"label\"].values, temp_testset[\"prediction\"].values)\n",
    "\n",
    "print(\"=\" * 38)\n",
    "print(f\"study type       : all studies\")\n",
    "print(\"-----------------\")\n",
    "print(f\"Cohen's kappa (κ): {k}\")\n",
    "print(f\"ROC AUC          : {roc_auc}\")\n",
    "print(f\"F1               : {f1}\")\n",
    "print(\"=\" * 38)"
   ]
  },
  {
   "cell_type": "code",
   "execution_count": 32,
   "id": "f7bdd38e",
   "metadata": {},
   "outputs": [
    {
     "name": "stdout",
     "output_type": "stream",
     "text": [
      "======================================\n",
      "study type       : XR_SHOULDER\n",
      "-----------------\n",
      "Cohen's kappa (κ): 0.545619078036836\n",
      "ROC AUC          : 0.772461456671983\n",
      "F1               : 0.7608695652173914\n",
      "======================================\n",
      "study type       : XR_ELBOW\n",
      "-----------------\n",
      "Cohen's kappa (κ): 0.7177131189382338\n",
      "ROC AUC          : 0.8473320158102767\n",
      "F1               : 0.8205128205128205\n",
      "======================================\n",
      "study type       : XR_HUMERUS\n",
      "-----------------\n",
      "Cohen's kappa (κ): 0.718348523114088\n",
      "ROC AUC          : 0.8589771729587358\n",
      "F1               : 0.8527131782945736\n",
      "======================================\n",
      "study type       : XR_HAND\n",
      "-----------------\n",
      "Cohen's kappa (κ): 0.4344594036507806\n",
      "ROC AUC          : 0.6972697269726973\n",
      "F1               : 0.577319587628866\n",
      "======================================\n",
      "study type       : XR_WRIST\n",
      "-----------------\n",
      "Cohen's kappa (κ): 0.709736680955297\n",
      "ROC AUC          : 0.8413843888070692\n",
      "F1               : 0.8117647058823529\n",
      "======================================\n",
      "study type       : XR_FOREARM\n",
      "-----------------\n",
      "Cohen's kappa (κ): 0.6494786295405064\n",
      "ROC AUC          : 0.8208786231884058\n",
      "F1               : 0.7850467289719625\n",
      "======================================\n",
      "study type       : XR_FINGER\n",
      "-----------------\n",
      "Cohen's kappa (κ): 0.5929421147072507\n",
      "ROC AUC          : 0.7921031953902566\n",
      "F1               : 0.75177304964539\n"
     ]
    }
   ],
   "source": [
    "for study_type in STUDY_TYPES:\n",
    "\n",
    "    temp = temp_testset[temp_testset[\"study_type\"] == study_type]\n",
    "\n",
    "    k = metrics.cohen_kappa_score(temp[\"label\"].values, temp[\"prediction\"].values)\n",
    "    roc_auc = metrics.roc_auc_score(temp[\"label\"].values, temp[\"prediction\"].values)\n",
    "    f1 = metrics.f1_score(temp[\"label\"].values, temp[\"prediction\"].values)\n",
    "    print(\"=\" * 38)\n",
    "    print(f\"study type       : {study_type}\")\n",
    "    print(\"-----------------\")\n",
    "    print(f\"Cohen's kappa (κ): {k}\")\n",
    "    print(f\"ROC AUC          : {roc_auc}\")\n",
    "    print(f\"F1               : {f1}\")"
   ]
  },
  {
   "cell_type": "code",
   "execution_count": 33,
   "id": "23dd8472",
   "metadata": {},
   "outputs": [],
   "source": [
    "clean_up(model)\n",
    "del temp, temp_testset"
   ]
  },
  {
   "cell_type": "markdown",
   "id": "f6db6e0d",
   "metadata": {},
   "source": [
    "### VGG19 architecture, pretrained on ImageNet"
   ]
  },
  {
   "cell_type": "code",
   "execution_count": 34,
   "id": "59747ea6",
   "metadata": {},
   "outputs": [],
   "source": [
    "vgg19_testing = tf.keras.preprocessing.image.ImageDataGenerator(\n",
    "    preprocessing_function=tf.keras.applications.vgg19.preprocess_input,\n",
    ")"
   ]
  },
  {
   "cell_type": "code",
   "execution_count": 35,
   "id": "311bce83",
   "metadata": {},
   "outputs": [
    {
     "name": "stdout",
     "output_type": "stream",
     "text": [
      "Found 3197 validated image filenames belonging to 2 classes.\n"
     ]
    }
   ],
   "source": [
    "testset = vgg19_testing.flow_from_dataframe(\n",
    "    dataframe=ref_testset,\n",
    "    x_col=\"image_path\",\n",
    "    y_col=\"label\",\n",
    "    target_size=(IMAGE_WIDTH, IMAGE_HEIGHT),\n",
    "    class_mode=\"binary\",\n",
    "    batch_size=32,\n",
    "    seed=SEED,\n",
    "    shuffle=False,  # this is very important in order to properly use raw predictions to evaluate on study-level!\n",
    ")"
   ]
  },
  {
   "cell_type": "code",
   "execution_count": 36,
   "id": "bb15de99",
   "metadata": {},
   "outputs": [],
   "source": [
    "model = tf.keras.models.load_model(\n",
    "    \"../models/vgg19_pt_imagenet-all-study-types-20024897.h5\",\n",
    "    custom_objects={\"F1Score\": F1Score},\n",
    ")"
   ]
  },
  {
   "cell_type": "code",
   "execution_count": 37,
   "id": "56908901",
   "metadata": {},
   "outputs": [
    {
     "name": "stderr",
     "output_type": "stream",
     "text": [
      "2022-04-03 17:22:35.980760: W tensorflow/core/common_runtime/bfc_allocator.cc:275] Allocator (GPU_0_bfc) ran out of memory trying to allocate 1.02GiB with freed_by_count=0. The caller indicates that this is not a failure, but may mean that there could be performance gains if more memory were available.\n",
      "2022-04-03 17:22:35.980788: W tensorflow/core/common_runtime/bfc_allocator.cc:275] Allocator (GPU_0_bfc) ran out of memory trying to allocate 1.02GiB with freed_by_count=0. The caller indicates that this is not a failure, but may mean that there could be performance gains if more memory were available.\n",
      "2022-04-03 17:22:36.049683: W tensorflow/core/common_runtime/bfc_allocator.cc:275] Allocator (GPU_0_bfc) ran out of memory trying to allocate 939.37MiB with freed_by_count=0. The caller indicates that this is not a failure, but may mean that there could be performance gains if more memory were available.\n",
      "2022-04-03 17:22:36.049711: W tensorflow/core/common_runtime/bfc_allocator.cc:275] Allocator (GPU_0_bfc) ran out of memory trying to allocate 939.37MiB with freed_by_count=0. The caller indicates that this is not a failure, but may mean that there could be performance gains if more memory were available.\n",
      "2022-04-03 17:22:36.408457: W tensorflow/core/common_runtime/bfc_allocator.cc:275] Allocator (GPU_0_bfc) ran out of memory trying to allocate 3.46GiB with freed_by_count=0. The caller indicates that this is not a failure, but may mean that there could be performance gains if more memory were available.\n",
      "2022-04-03 17:22:36.408507: W tensorflow/core/common_runtime/bfc_allocator.cc:275] Allocator (GPU_0_bfc) ran out of memory trying to allocate 3.46GiB with freed_by_count=0. The caller indicates that this is not a failure, but may mean that there could be performance gains if more memory were available.\n"
     ]
    },
    {
     "name": "stdout",
     "output_type": "stream",
     "text": [
      "100/100 [==============================] - 48s 435ms/step - loss: 0.4947 - tp: 1017.0000 - fp: 134.0000 - tn: 1533.0000 - fn: 513.0000 - binary_acc: 0.7976 - precision: 0.8836 - recall: 0.6647 - f1_score: 0.7587 - roc_auc: 0.8708 - pr_auc: 0.8757 - cohen_kappa: 0.5903\n"
     ]
    }
   ],
   "source": [
    "evaluation_metrics = model.evaluate(testset, verbose=1)"
   ]
  },
  {
   "cell_type": "code",
   "execution_count": 38,
   "id": "fade8b95",
   "metadata": {},
   "outputs": [
    {
     "name": "stdout",
     "output_type": "stream",
     "text": [
      "================================\n",
      "test loss   : 0.494743287563324\n",
      "tp          : 1017.0\n",
      "fp          : 134.0\n",
      "tn          : 1533.0\n",
      "fn          : 513.0\n",
      "binary_acc  : 0.797622799873352\n",
      "precision   : 0.8835794925689697\n",
      "recall      : 0.6647058725357056\n",
      "f1_score    : 0.7586721777915955\n",
      "roc_auc     : 0.8708081841468811\n",
      "pr_auc      : 0.8756653070449829\n",
      "cohen_kappa : 0.5903308987617493\n",
      "================================\n"
     ]
    }
   ],
   "source": [
    "loss = evaluation_metrics.pop(0)\n",
    "\n",
    "print(\"=\" * 32)\n",
    "print(f\"test loss   : {loss}\")\n",
    "for metric, score in zip(METRICS, evaluation_metrics):\n",
    "\n",
    "    print(f\"{metric.name + ' ' * (12 - len(metric.name))}: {score}\")\n",
    "print(\"=\" * 32)"
   ]
  },
  {
   "cell_type": "code",
   "execution_count": 39,
   "id": "22446ec0",
   "metadata": {},
   "outputs": [
    {
     "name": "stdout",
     "output_type": "stream",
     "text": [
      "100/100 [==============================] - 39s 388ms/step\n"
     ]
    }
   ],
   "source": [
    "# get predictions for the test dataset\n",
    "preds = model.predict(testset, verbose=1)"
   ]
  },
  {
   "cell_type": "code",
   "execution_count": 40,
   "id": "32267de0",
   "metadata": {},
   "outputs": [],
   "source": [
    "temp_testset = ref_testset.copy()\n",
    "\n",
    "temp_testset[\"label\"] = temp_testset[\"label\"].map(int)\n",
    "temp_testset[\"prediction\"] = preds.ravel()"
   ]
  },
  {
   "cell_type": "code",
   "execution_count": 41,
   "id": "f733d90c",
   "metadata": {},
   "outputs": [],
   "source": [
    "temp_testset = pd.DataFrame(\n",
    "    [*study_oriented_transformation(temp_testset)],\n",
    "    columns=[\"study_type\", \"study\", \"label\", \"prediction\"],\n",
    ")"
   ]
  },
  {
   "cell_type": "code",
   "execution_count": 42,
   "id": "f55c3695",
   "metadata": {},
   "outputs": [
    {
     "name": "stdout",
     "output_type": "stream",
     "text": [
      "======================================\n",
      "study type       : all studies\n",
      "-----------------\n",
      "Cohen's kappa (κ): 0.5989064545711468\n",
      "ROC AUC          : 0.7919959057190581\n",
      "F1               : 0.7510729613733906\n",
      "======================================\n"
     ]
    }
   ],
   "source": [
    "k = metrics.cohen_kappa_score(\n",
    "    temp_testset[\"label\"].values, temp_testset[\"prediction\"].values\n",
    ")\n",
    "roc_auc = metrics.roc_auc_score(\n",
    "    temp_testset[\"label\"].values, temp_testset[\"prediction\"].values\n",
    ")\n",
    "f1 = metrics.f1_score(temp_testset[\"label\"].values, temp_testset[\"prediction\"].values)\n",
    "\n",
    "print(\"=\" * 38)\n",
    "print(f\"study type       : all studies\")\n",
    "print(\"-----------------\")\n",
    "print(f\"Cohen's kappa (κ): {k}\")\n",
    "print(f\"ROC AUC          : {roc_auc}\")\n",
    "print(f\"F1               : {f1}\")\n",
    "print(\"=\" * 38)"
   ]
  },
  {
   "cell_type": "code",
   "execution_count": 43,
   "id": "27fe68ec",
   "metadata": {},
   "outputs": [
    {
     "name": "stdout",
     "output_type": "stream",
     "text": [
      "======================================\n",
      "study type       : XR_SHOULDER\n",
      "-----------------\n",
      "Cohen's kappa (κ): 0.513914063332978\n",
      "ROC AUC          : 0.7562466772993088\n",
      "F1               : 0.7344632768361581\n",
      "======================================\n",
      "study type       : XR_ELBOW\n",
      "-----------------\n",
      "Cohen's kappa (κ): 0.6752312435765673\n",
      "ROC AUC          : 0.8246047430830038\n",
      "F1               : 0.7894736842105263\n",
      "======================================\n",
      "study type       : XR_HUMERUS\n",
      "-----------------\n",
      "Cohen's kappa (κ): 0.7034270650263621\n",
      "ROC AUC          : 0.8514047410008778\n",
      "F1               : 0.8412698412698412\n",
      "======================================\n",
      "study type       : XR_HAND\n",
      "-----------------\n",
      "Cohen's kappa (κ): 0.4223356942843024\n",
      "ROC AUC          : 0.6923192319231923\n",
      "F1               : 0.5714285714285714\n",
      "======================================\n",
      "study type       : XR_WRIST\n",
      "-----------------\n",
      "Cohen's kappa (κ): 0.6734537660747091\n",
      "ROC AUC          : 0.8239322533136966\n",
      "F1               : 0.7882352941176471\n",
      "======================================\n",
      "study type       : XR_FOREARM\n",
      "-----------------\n",
      "Cohen's kappa (κ): 0.6189985103701157\n",
      "ROC AUC          : 0.8058197463768116\n",
      "F1               : 0.766355140186916\n",
      "======================================\n",
      "study type       : XR_FINGER\n",
      "-----------------\n",
      "Cohen's kappa (κ): 0.5577869397526267\n",
      "ROC AUC          : 0.7746202200104767\n",
      "F1               : 0.7285714285714285\n"
     ]
    }
   ],
   "source": [
    "for study_type in STUDY_TYPES:\n",
    "\n",
    "    temp = temp_testset[temp_testset[\"study_type\"] == study_type]\n",
    "\n",
    "    k = metrics.cohen_kappa_score(temp[\"label\"].values, temp[\"prediction\"].values)\n",
    "    roc_auc = metrics.roc_auc_score(temp[\"label\"].values, temp[\"prediction\"].values)\n",
    "    f1 = metrics.f1_score(temp[\"label\"].values, temp[\"prediction\"].values)\n",
    "    print(\"=\" * 38)\n",
    "    print(f\"study type       : {study_type}\")\n",
    "    print(\"-----------------\")\n",
    "    print(f\"Cohen's kappa (κ): {k}\")\n",
    "    print(f\"ROC AUC          : {roc_auc}\")\n",
    "    print(f\"F1               : {f1}\")"
   ]
  },
  {
   "cell_type": "code",
   "execution_count": 44,
   "id": "2e262b87",
   "metadata": {},
   "outputs": [],
   "source": [
    "clean_up(model)\n",
    "del temp, temp_testset"
   ]
  },
  {
   "cell_type": "markdown",
   "id": "56e4c3af",
   "metadata": {},
   "source": [
    "### Ensemble model: generic CNN + wrist CNN"
   ]
  },
  {
   "cell_type": "markdown",
   "id": "19cc2dc5",
   "metadata": {},
   "source": [
    "This is simply a \"showerthought\" idea to try and create a model where the inference for a particular upper extremity region (aka study type) is being delegated to a model that has been trained exclusively for this region (in our case here `XR_WRIST`, but several other combination can be tried).\n",
    "\n",
    "**Note**: for this ensemble model to practically be meaningful, we make the assumption that we have (or we can acquire) the knowledge of the upper extremity region in which a given unseen image belongs to. If, during inference, we only have unseen images without any additional metadata then this approach does not stand."
   ]
  },
  {
   "cell_type": "code",
   "execution_count": 45,
   "id": "f074d932",
   "metadata": {},
   "outputs": [
    {
     "name": "stdout",
     "output_type": "stream",
     "text": [
      "Found 3197 validated image filenames belonging to 2 classes.\n"
     ]
    }
   ],
   "source": [
    "testset = cnn_testing.flow_from_dataframe(\n",
    "    dataframe=ref_testset,\n",
    "    x_col=\"image_path\",\n",
    "    y_col=\"label\",\n",
    "    target_size=(IMAGE_WIDTH, IMAGE_HEIGHT),\n",
    "    class_mode=\"binary\",\n",
    "    batch_size=32,\n",
    "    seed=SEED,\n",
    "    shuffle=False,  # this is very important in order to properly use raw predictions to evaluate on study-level!\n",
    ")"
   ]
  },
  {
   "cell_type": "code",
   "execution_count": 46,
   "id": "741e03a9",
   "metadata": {},
   "outputs": [],
   "source": [
    "all_types_model = tf.keras.models.load_model(\n",
    "    \"../models/cnn-all-study-types-3309921.h5\", custom_objects={\"F1Score\": F1Score}\n",
    ")"
   ]
  },
  {
   "cell_type": "code",
   "execution_count": 47,
   "id": "ef38c851",
   "metadata": {},
   "outputs": [],
   "source": [
    "wrist_model = tf.keras.models.load_model(\n",
    "    \"../models/cnn-XR_WRIST-3309921.h5\", custom_objects={\"F1Score\": F1Score}\n",
    ")"
   ]
  },
  {
   "cell_type": "code",
   "execution_count": 48,
   "id": "5ccd588e",
   "metadata": {},
   "outputs": [
    {
     "name": "stdout",
     "output_type": "stream",
     "text": [
      "100/100 [==============================] - 8s 76ms/step\n"
     ]
    }
   ],
   "source": [
    "# get predictions for the test dataset\n",
    "all_types_model_preds = all_types_model.predict(testset, verbose=1)"
   ]
  },
  {
   "cell_type": "code",
   "execution_count": 49,
   "id": "6b5d5be1",
   "metadata": {},
   "outputs": [
    {
     "name": "stdout",
     "output_type": "stream",
     "text": [
      "100/100 [==============================] - 8s 78ms/step\n"
     ]
    }
   ],
   "source": [
    "# get predictions for the test dataset\n",
    "wrist_model_preds = wrist_model.predict(testset, verbose=1)"
   ]
  },
  {
   "cell_type": "code",
   "execution_count": 50,
   "id": "c365c879",
   "metadata": {},
   "outputs": [],
   "source": [
    "temp_testset = ref_testset.copy()\n",
    "\n",
    "temp_testset[\"label\"] = temp_testset[\"label\"].map(int)\n",
    "temp_testset[\"prediction\"] = all_types_model_preds.ravel()\n",
    "temp_testset[\"wrist_prediction\"] = wrist_model_preds.ravel()"
   ]
  },
  {
   "cell_type": "code",
   "execution_count": 51,
   "id": "a815671e",
   "metadata": {},
   "outputs": [],
   "source": [
    "temp_testset[\"prediction\"] = temp_testset.apply(\n",
    "    lambda x: x.wrist_prediction if x.study_type == \"XR_WRIST\" else x.prediction, axis=1\n",
    ")  # replace generic predictions with wrist prediction when we're talking about wrist images"
   ]
  },
  {
   "cell_type": "code",
   "execution_count": 52,
   "id": "d913b223",
   "metadata": {},
   "outputs": [],
   "source": [
    "temp_testset = pd.DataFrame(\n",
    "    [*study_oriented_transformation(temp_testset)],\n",
    "    columns=[\"study_type\", \"study\", \"label\", \"prediction\"],\n",
    ")"
   ]
  },
  {
   "cell_type": "code",
   "execution_count": 53,
   "id": "43f0c92a",
   "metadata": {},
   "outputs": [
    {
     "name": "stdout",
     "output_type": "stream",
     "text": [
      "======================================\n",
      "study type       : all studies\n",
      "-----------------\n",
      "Cohen's kappa (κ): 0.4001677065419764\n",
      "ROC AUC          : 0.697938518297724\n",
      "F1               : 0.6528599605522682\n",
      "======================================\n"
     ]
    }
   ],
   "source": [
    "k = metrics.cohen_kappa_score(\n",
    "    temp_testset[\"label\"].values, temp_testset[\"prediction\"].values\n",
    ")\n",
    "roc_auc = metrics.roc_auc_score(\n",
    "    temp_testset[\"label\"].values, temp_testset[\"prediction\"].values\n",
    ")\n",
    "f1 = metrics.f1_score(temp_testset[\"label\"].values, temp_testset[\"prediction\"].values)\n",
    "\n",
    "print(\"=\" * 38)\n",
    "print(f\"study type       : all studies\")\n",
    "print(\"-----------------\")\n",
    "print(f\"Cohen's kappa (κ): {k}\")\n",
    "print(f\"ROC AUC          : {roc_auc}\")\n",
    "print(f\"F1               : {f1}\")\n",
    "print(\"=\" * 38)"
   ]
  },
  {
   "cell_type": "code",
   "execution_count": 54,
   "id": "a2ff57cc",
   "metadata": {
    "scrolled": false
   },
   "outputs": [
    {
     "name": "stdout",
     "output_type": "stream",
     "text": [
      "======================================\n",
      "study type       : XR_SHOULDER\n",
      "-----------------\n",
      "Cohen's kappa (κ): 0.17390390074650397\n",
      "ROC AUC          : 0.5879319510898458\n",
      "F1               : 0.6666666666666666\n",
      "======================================\n",
      "study type       : XR_ELBOW\n",
      "-----------------\n",
      "Cohen's kappa (κ): 0.501328903654485\n",
      "ROC AUC          : 0.7485177865612649\n",
      "F1               : 0.703125\n",
      "======================================\n",
      "study type       : XR_HUMERUS\n",
      "-----------------\n",
      "Cohen's kappa (κ): 0.4371296905859118\n",
      "ROC AUC          : 0.7186128182616329\n",
      "F1               : 0.7205882352941175\n",
      "======================================\n",
      "study type       : XR_HAND\n",
      "-----------------\n",
      "Cohen's kappa (κ): 0.17563003377500652\n",
      "ROC AUC          : 0.5760576057605761\n",
      "F1               : 0.2962962962962963\n",
      "======================================\n",
      "study type       : XR_WRIST\n",
      "-----------------\n",
      "Cohen's kappa (κ): 0.5826057631056321\n",
      "ROC AUC          : 0.7862297496318115\n",
      "F1               : 0.7431693989071039\n",
      "======================================\n",
      "study type       : XR_FOREARM\n",
      "-----------------\n",
      "Cohen's kappa (κ): 0.4361177953477713\n",
      "ROC AUC          : 0.7154664855072463\n",
      "F1               : 0.6542056074766355\n",
      "======================================\n",
      "study type       : XR_FINGER\n",
      "-----------------\n",
      "Cohen's kappa (κ): 0.3700839888014932\n",
      "ROC AUC          : 0.681770560502881\n",
      "F1               : 0.6029411764705882\n"
     ]
    }
   ],
   "source": [
    "for study_type in STUDY_TYPES:\n",
    "\n",
    "    temp = temp_testset[temp_testset[\"study_type\"] == study_type]\n",
    "\n",
    "    k = metrics.cohen_kappa_score(temp[\"label\"].values, temp[\"prediction\"].values)\n",
    "    roc_auc = metrics.roc_auc_score(temp[\"label\"].values, temp[\"prediction\"].values)\n",
    "    f1 = metrics.f1_score(temp[\"label\"].values, temp[\"prediction\"].values)\n",
    "    print(\"=\" * 38)\n",
    "    print(f\"study type       : {study_type}\")\n",
    "    print(\"-----------------\")\n",
    "    print(f\"Cohen's kappa (κ): {k}\")\n",
    "    print(f\"ROC AUC          : {roc_auc}\")\n",
    "    print(f\"F1               : {f1}\")"
   ]
  },
  {
   "cell_type": "code",
   "execution_count": 55,
   "id": "87fa13f4",
   "metadata": {},
   "outputs": [],
   "source": [
    "clean_up(all_types_model)\n",
    "clean_up(wrist_model)\n",
    "del temp, temp_testset"
   ]
  },
  {
   "cell_type": "markdown",
   "id": "913f45cc",
   "metadata": {},
   "source": [
    "### Ensemble model: DenseNet169 + VGG19"
   ]
  },
  {
   "cell_type": "code",
   "execution_count": 56,
   "id": "5b69baea",
   "metadata": {},
   "outputs": [
    {
     "name": "stdout",
     "output_type": "stream",
     "text": [
      "Found 3197 validated image filenames belonging to 2 classes.\n"
     ]
    }
   ],
   "source": [
    "densenet_testset = densenet_testing.flow_from_dataframe(\n",
    "    dataframe=ref_testset,\n",
    "    x_col=\"image_path\",\n",
    "    y_col=\"label\",\n",
    "    target_size=(IMAGE_WIDTH, IMAGE_HEIGHT),\n",
    "    class_mode=\"binary\",\n",
    "    batch_size=32,\n",
    "    seed=SEED,\n",
    "    shuffle=False,  # this is very important in order to properly use raw predictions to evaluate on study-level!\n",
    ")"
   ]
  },
  {
   "cell_type": "code",
   "execution_count": 57,
   "id": "f20edfd5",
   "metadata": {},
   "outputs": [
    {
     "name": "stdout",
     "output_type": "stream",
     "text": [
      "Found 3197 validated image filenames belonging to 2 classes.\n"
     ]
    }
   ],
   "source": [
    "vgg19_testset = vgg19_testing.flow_from_dataframe(\n",
    "    dataframe=ref_testset,\n",
    "    x_col=\"image_path\",\n",
    "    y_col=\"label\",\n",
    "    target_size=(IMAGE_WIDTH, IMAGE_HEIGHT),\n",
    "    class_mode=\"binary\",\n",
    "    batch_size=32,\n",
    "    seed=SEED,\n",
    "    shuffle=False,  # this is very important in order to properly use raw predictions to evaluate on study-level!\n",
    ")"
   ]
  },
  {
   "cell_type": "code",
   "execution_count": 58,
   "id": "e389bf98",
   "metadata": {},
   "outputs": [],
   "source": [
    "densenet_model = tf.keras.models.load_model(\n",
    "    \"../models/densenet169_pt_imagenet-all-study-types-12644545.h5\",\n",
    "    custom_objects={\"F1Score\": F1Score},\n",
    ")"
   ]
  },
  {
   "cell_type": "code",
   "execution_count": 59,
   "id": "b6fbacf0",
   "metadata": {},
   "outputs": [],
   "source": [
    "vgg19_model = tf.keras.models.load_model(\n",
    "    \"../models/vgg19_pt_imagenet-all-study-types-20024897.h5\",\n",
    "    custom_objects={\"F1Score\": F1Score},\n",
    ")"
   ]
  },
  {
   "cell_type": "code",
   "execution_count": 60,
   "id": "b1cbe824",
   "metadata": {},
   "outputs": [
    {
     "name": "stdout",
     "output_type": "stream",
     "text": [
      "100/100 [==============================] - 20s 190ms/step\n"
     ]
    }
   ],
   "source": [
    "densenet_preds = densenet_model.predict(densenet_testset, verbose=1)"
   ]
  },
  {
   "cell_type": "code",
   "execution_count": 61,
   "id": "e108ded1",
   "metadata": {},
   "outputs": [
    {
     "name": "stdout",
     "output_type": "stream",
     "text": [
      "100/100 [==============================] - 38s 386ms/step\n"
     ]
    }
   ],
   "source": [
    "vgg19_preds = vgg19_model.predict(vgg19_testset, verbose=1)"
   ]
  },
  {
   "cell_type": "code",
   "execution_count": 62,
   "id": "68ea17d6",
   "metadata": {},
   "outputs": [],
   "source": [
    "temp_testset = ref_testset.copy()\n",
    "\n",
    "temp_testset[\"label\"] = temp_testset[\"label\"].map(int)\n",
    "temp_testset[\"predictionA\"] = densenet_preds.ravel()\n",
    "temp_testset[\"predictionB\"] = vgg19_preds.ravel()"
   ]
  },
  {
   "cell_type": "code",
   "execution_count": 63,
   "id": "9ebc8805",
   "metadata": {},
   "outputs": [],
   "source": [
    "temp_testset = pd.DataFrame(\n",
    "    [*study_oriented_transformation_on_ensemble(temp_testset)],\n",
    "    columns=[\"study_type\", \"study\", \"label\", \"prediction\"],\n",
    ")"
   ]
  },
  {
   "cell_type": "code",
   "execution_count": 64,
   "id": "289b3d46",
   "metadata": {},
   "outputs": [
    {
     "name": "stdout",
     "output_type": "stream",
     "text": [
      "======================================\n",
      "study type       : all studies\n",
      "-----------------\n",
      "Cohen's kappa (κ): 0.6290206756015813\n",
      "ROC AUC          : 0.807276347091542\n",
      "F1               : 0.7720042417815483\n",
      "======================================\n"
     ]
    }
   ],
   "source": [
    "k = metrics.cohen_kappa_score(\n",
    "    temp_testset[\"label\"].values, temp_testset[\"prediction\"].values\n",
    ")\n",
    "roc_auc = metrics.roc_auc_score(\n",
    "    temp_testset[\"label\"].values, temp_testset[\"prediction\"].values\n",
    ")\n",
    "f1 = metrics.f1_score(temp_testset[\"label\"].values, temp_testset[\"prediction\"].values)\n",
    "\n",
    "print(\"=\" * 38)\n",
    "print(f\"study type       : all studies\")\n",
    "print(\"-----------------\")\n",
    "print(f\"Cohen's kappa (κ): {k}\")\n",
    "print(f\"ROC AUC          : {roc_auc}\")\n",
    "print(f\"F1               : {f1}\")\n",
    "print(\"=\" * 38)"
   ]
  },
  {
   "cell_type": "code",
   "execution_count": 65,
   "id": "43b6cb78",
   "metadata": {},
   "outputs": [
    {
     "name": "stdout",
     "output_type": "stream",
     "text": [
      "======================================\n",
      "study type       : XR_SHOULDER\n",
      "-----------------\n",
      "Cohen's kappa (κ): 0.5662727563078889\n",
      "ROC AUC          : 0.7827751196172249\n",
      "F1               : 0.7717391304347826\n",
      "======================================\n",
      "study type       : XR_ELBOW\n",
      "-----------------\n",
      "Cohen's kappa (κ): 0.7036152796725784\n",
      "ROC AUC          : 0.8397562582345192\n",
      "F1               : 0.810344827586207\n",
      "======================================\n",
      "study type       : XR_HUMERUS\n",
      "-----------------\n",
      "Cohen's kappa (κ): 0.733142982648803\n",
      "ROC AUC          : 0.8663301141352062\n",
      "F1               : 0.8593750000000001\n",
      "======================================\n",
      "study type       : XR_HAND\n",
      "-----------------\n",
      "Cohen's kappa (κ): 0.44984351836600234\n",
      "ROC AUC          : 0.7048454845484549\n",
      "F1               : 0.5918367346938775\n",
      "======================================\n",
      "study type       : XR_WRIST\n",
      "-----------------\n",
      "Cohen's kappa (κ): 0.7001725129384704\n",
      "ROC AUC          : 0.8362297496318114\n",
      "F1               : 0.8047337278106509\n",
      "======================================\n",
      "study type       : XR_FOREARM\n",
      "-----------------\n",
      "Cohen's kappa (κ): 0.6344480073293632\n",
      "ROC AUC          : 0.8136322463768116\n",
      "F1               : 0.7777777777777778\n",
      "======================================\n",
      "study type       : XR_FINGER\n",
      "-----------------\n",
      "Cohen's kappa (κ): 0.5810613113445937\n",
      "ROC AUC          : 0.7860790990047145\n",
      "F1               : 0.7428571428571429\n"
     ]
    }
   ],
   "source": [
    "for study_type in STUDY_TYPES:\n",
    "\n",
    "    temp = temp_testset[temp_testset[\"study_type\"] == study_type]\n",
    "\n",
    "    k = metrics.cohen_kappa_score(temp[\"label\"].values, temp[\"prediction\"].values)\n",
    "    roc_auc = metrics.roc_auc_score(temp[\"label\"].values, temp[\"prediction\"].values)\n",
    "    f1 = metrics.f1_score(temp[\"label\"].values, temp[\"prediction\"].values)\n",
    "    print(\"=\" * 38)\n",
    "    print(f\"study type       : {study_type}\")\n",
    "    print(\"-----------------\")\n",
    "    print(f\"Cohen's kappa (κ): {k}\")\n",
    "    print(f\"ROC AUC          : {roc_auc}\")\n",
    "    print(f\"F1               : {f1}\")"
   ]
  },
  {
   "cell_type": "code",
   "execution_count": 66,
   "id": "d9c11ccb",
   "metadata": {},
   "outputs": [],
   "source": [
    "clean_up(densenet_model)\n",
    "clean_up(vgg19_model)\n",
    "del temp, temp_testset"
   ]
  }
 ],
 "metadata": {
  "kernelspec": {
   "display_name": "Python 3 (ipykernel)",
   "language": "python",
   "name": "python3"
  },
  "language_info": {
   "codemirror_mode": {
    "name": "ipython",
    "version": 3
   },
   "file_extension": ".py",
   "mimetype": "text/x-python",
   "name": "python",
   "nbconvert_exporter": "python",
   "pygments_lexer": "ipython3",
   "version": "3.8.10"
  }
 },
 "nbformat": 4,
 "nbformat_minor": 5
}
