{
 "cells": [
  {
   "cell_type": "markdown",
   "id": "7a899787",
   "metadata": {},
   "source": [
    "## X-Ray Abnormality Detection | CNN"
   ]
  },
  {
   "cell_type": "markdown",
   "id": "c7764e65",
   "metadata": {},
   "source": [
    "> **Antonopoulos Ilias** ( *p3352004* ) <br />\n",
    "> **Ndoja Silva** ( *p3352017* ) <br />\n",
    "> **MSc in Data Science, AUEB**"
   ]
  },
  {
   "cell_type": "markdown",
   "id": "aa71e65e",
   "metadata": {},
   "source": [
    "## Table of Contents\n",
    "\n",
    "- [Data Loading](#Data-Loading)\n",
    " * [Create a tensorflow input pipeline for the training data](#Create-a-tensorflow-input-pipeline-for-the-training-data)\n",
    " * [Create a tensorflow input pipeline for the testing data](#Create-a-tensorflow-input-pipeline-for-the-testing-data)\n",
    "- [Baseline Performance](#Baseline-Performance)\n",
    " * [Random Classification](#Random-Classification)\n",
    " * [CNN architecture with sensible defaults](#CNN-architecture-with-sensible-defaults)\n",
    " * [Only on XR_SHOULDER study type](#Only-on-XR_SHOULDER-study-type)"
   ]
  },
  {
   "cell_type": "code",
   "execution_count": 1,
   "id": "99fc7dec",
   "metadata": {},
   "outputs": [],
   "source": [
    "import gc\n",
    "import os\n",
    "import pathlib\n",
    "import random\n",
    "import re\n",
    "from glob import glob\n",
    "from PIL import Image\n",
    "from typing import Iterable\n",
    "\n",
    "import matplotlib.pyplot as plt\n",
    "import numpy as np\n",
    "import pandas as pd\n",
    "import tensorflow as tf\n",
    "import tensorflow_addons as tfa\n",
    "from matplotlib import image\n",
    "from sklearn.metrics import cohen_kappa_score, confusion_matrix\n",
    "\n",
    "\n",
    "pd.set_option(\"max_colwidth\", None)\n",
    "plt.style.use(\"dark_background\")"
   ]
  },
  {
   "cell_type": "code",
   "execution_count": 2,
   "id": "6d6c351a",
   "metadata": {},
   "outputs": [
    {
     "name": "stdout",
     "output_type": "stream",
     "text": [
      "2.8.0\n"
     ]
    }
   ],
   "source": [
    "print(tf.__version__)"
   ]
  },
  {
   "cell_type": "code",
   "execution_count": 3,
   "id": "1fa8b39b",
   "metadata": {},
   "outputs": [
    {
     "name": "stdout",
     "output_type": "stream",
     "text": [
      "Num GPUs Available:  1\n"
     ]
    },
    {
     "name": "stderr",
     "output_type": "stream",
     "text": [
      "2022-03-31 14:00:29.044949: I tensorflow/stream_executor/cuda/cuda_gpu_executor.cc:936] successful NUMA node read from SysFS had negative value (-1), but there must be at least one NUMA node, so returning NUMA node zero\n",
      "2022-03-31 14:00:29.073023: I tensorflow/stream_executor/cuda/cuda_gpu_executor.cc:936] successful NUMA node read from SysFS had negative value (-1), but there must be at least one NUMA node, so returning NUMA node zero\n",
      "2022-03-31 14:00:29.073328: I tensorflow/stream_executor/cuda/cuda_gpu_executor.cc:936] successful NUMA node read from SysFS had negative value (-1), but there must be at least one NUMA node, so returning NUMA node zero\n"
     ]
    }
   ],
   "source": [
    "print(\"Num GPUs Available: \", len(tf.config.list_physical_devices(\"GPU\")))"
   ]
  },
  {
   "cell_type": "code",
   "execution_count": 4,
   "id": "8d64d949",
   "metadata": {},
   "outputs": [],
   "source": [
    "gpus = tf.config.experimental.list_physical_devices(\"GPU\")\n",
    "\n",
    "try:\n",
    "    tf.config.experimental.set_memory_growth(gpus[0], True)\n",
    "except IndexError:\n",
    "    print(\"Cannot memory-restrict the GPU, if no GPU exists in system. Ignore...\")\n",
    "    pass"
   ]
  },
  {
   "cell_type": "code",
   "execution_count": 5,
   "id": "a6659fde",
   "metadata": {},
   "outputs": [],
   "source": [
    "SEED = 99910123\n",
    "\n",
    "os.environ[\"PYTHONHASHSEED\"] = str(SEED)\n",
    "random.seed(SEED)\n",
    "tf.random.set_seed(SEED)\n",
    "np.random.seed(SEED)"
   ]
  },
  {
   "cell_type": "markdown",
   "id": "b5346f99",
   "metadata": {},
   "source": [
    "### Data Loading"
   ]
  },
  {
   "cell_type": "code",
   "execution_count": 6,
   "id": "5819c5d3",
   "metadata": {},
   "outputs": [],
   "source": [
    "DATASET_DIR = \"../data/MURA-v1.1/\""
   ]
  },
  {
   "cell_type": "code",
   "execution_count": 7,
   "id": "22e69e6c",
   "metadata": {},
   "outputs": [],
   "source": [
    "def inspect_df(df: pd.DataFrame, n: int = 5) -> pd.DataFrame:\n",
    "    \"\"\"Helper method to easily inspect DataFrames.\"\"\"\n",
    "\n",
    "    print(f\"shape: {df.shape}\")\n",
    "\n",
    "    return df.head(n)"
   ]
  },
  {
   "cell_type": "code",
   "execution_count": 8,
   "id": "67d931da",
   "metadata": {},
   "outputs": [
    {
     "data": {
      "text/plain": [
       "['../data/MURA-v1.1/train/XR_WRIST/patient08092/study1_negative/image1.png',\n",
       " '../data/MURA-v1.1/train/XR_FINGER/patient01064/study1_positive/image1.png',\n",
       " '../data/MURA-v1.1/valid/XR_ELBOW/patient11831/study1_positive/image1.png',\n",
       " '../data/MURA-v1.1/train/XR_SHOULDER/patient00442/study1_positive/image1.png',\n",
       " '../data/MURA-v1.1/train/XR_ELBOW/patient06289/study1_negative/image3.png',\n",
       " '../data/MURA-v1.1/train/XR_WRIST/patient08562/study1_negative/image2.png',\n",
       " '../data/MURA-v1.1/train/XR_FINGER/patient04280/study1_negative/image3.png',\n",
       " '../data/MURA-v1.1/train/XR_WRIST/patient07018/study1_positive/image1.png',\n",
       " '../data/MURA-v1.1/train/XR_ELBOW/patient06000/study1_negative/image1.png',\n",
       " '../data/MURA-v1.1/train/XR_SHOULDER/patient00497/study2_negative/image4.png']"
      ]
     },
     "execution_count": 8,
     "metadata": {},
     "output_type": "execute_result"
    }
   ],
   "source": [
    "random.choices(glob(os.path.join(DATASET_DIR, \"*\", \"*\", \"*\", \"*\", \"*.png\")), k=10)"
   ]
  },
  {
   "cell_type": "markdown",
   "id": "3e68ad35",
   "metadata": {},
   "source": [
    "So, the data structure is the following:\n",
    "\n",
    "```\n",
    "\n",
    "└─train {data subset}\n",
    "│   └───XR_ELBOW {study type}\n",
    "│       │  └───patient00011 {patient}\n",
    "│       │         └───study1_negative {study with label}\n",
    "│       │               └───image1.png {view}\n",
    "│       │               └───image2.png \n",
    "│       │               └───image3.png \n",
    "                        └───...\n",
    "   ...\n",
    "   \n",
    "\n",
    "└─valid {data subset}\n",
    "│   └───XR_HUMERUS {study type}\n",
    "│       │  └───patient11216 {patient}\n",
    "│       │         └───study1_negative {study with label}\n",
    "│       │               └───image1.png {view}\n",
    "│       │               └───image2.png \n",
    "                        └───...\n",
    "```"
   ]
  },
  {
   "cell_type": "code",
   "execution_count": 9,
   "id": "0e99c8e4",
   "metadata": {},
   "outputs": [
    {
     "name": "stdout",
     "output_type": "stream",
     "text": [
      "Total PNG images found in dir <../data/MURA-v1.1/>: 40009\n"
     ]
    }
   ],
   "source": [
    "image_count = len(list(pathlib.Path(DATASET_DIR).glob(\"*/*/*/*/*.png\")))\n",
    "\n",
    "print(f\"Total PNG images found in dir <{DATASET_DIR}>: {image_count}\")"
   ]
  },
  {
   "cell_type": "markdown",
   "id": "e3cc7391",
   "metadata": {},
   "source": [
    "We will start by creating a tabular form of the training data (with no actual image files), in order to quickly analyze them. A proper data loader (of the actual image files) will be implemented after that, in a tensorflow-friendly manner."
   ]
  },
  {
   "cell_type": "code",
   "execution_count": 10,
   "id": "6ee568f1",
   "metadata": {
    "scrolled": false
   },
   "outputs": [
    {
     "name": "stdout",
     "output_type": "stream",
     "text": [
      "shape: (36808, 1)\n"
     ]
    },
    {
     "data": {
      "text/html": [
       "<div>\n",
       "<style scoped>\n",
       "    .dataframe tbody tr th:only-of-type {\n",
       "        vertical-align: middle;\n",
       "    }\n",
       "\n",
       "    .dataframe tbody tr th {\n",
       "        vertical-align: top;\n",
       "    }\n",
       "\n",
       "    .dataframe thead th {\n",
       "        text-align: right;\n",
       "    }\n",
       "</style>\n",
       "<table border=\"1\" class=\"dataframe\">\n",
       "  <thead>\n",
       "    <tr style=\"text-align: right;\">\n",
       "      <th></th>\n",
       "      <th>image_path</th>\n",
       "    </tr>\n",
       "  </thead>\n",
       "  <tbody>\n",
       "    <tr>\n",
       "      <th>0</th>\n",
       "      <td>MURA-v1.1/train/XR_SHOULDER/patient00001/study1_positive/image1.png</td>\n",
       "    </tr>\n",
       "    <tr>\n",
       "      <th>1</th>\n",
       "      <td>MURA-v1.1/train/XR_SHOULDER/patient00001/study1_positive/image2.png</td>\n",
       "    </tr>\n",
       "    <tr>\n",
       "      <th>2</th>\n",
       "      <td>MURA-v1.1/train/XR_SHOULDER/patient00001/study1_positive/image3.png</td>\n",
       "    </tr>\n",
       "    <tr>\n",
       "      <th>3</th>\n",
       "      <td>MURA-v1.1/train/XR_SHOULDER/patient00002/study1_positive/image1.png</td>\n",
       "    </tr>\n",
       "    <tr>\n",
       "      <th>4</th>\n",
       "      <td>MURA-v1.1/train/XR_SHOULDER/patient00002/study1_positive/image2.png</td>\n",
       "    </tr>\n",
       "  </tbody>\n",
       "</table>\n",
       "</div>"
      ],
      "text/plain": [
       "                                                            image_path\n",
       "0  MURA-v1.1/train/XR_SHOULDER/patient00001/study1_positive/image1.png\n",
       "1  MURA-v1.1/train/XR_SHOULDER/patient00001/study1_positive/image2.png\n",
       "2  MURA-v1.1/train/XR_SHOULDER/patient00001/study1_positive/image3.png\n",
       "3  MURA-v1.1/train/XR_SHOULDER/patient00002/study1_positive/image1.png\n",
       "4  MURA-v1.1/train/XR_SHOULDER/patient00002/study1_positive/image2.png"
      ]
     },
     "execution_count": 10,
     "metadata": {},
     "output_type": "execute_result"
    }
   ],
   "source": [
    "train_image_paths = pd.read_csv(\n",
    "    os.path.join(DATASET_DIR, \"train_image_paths.csv\"),\n",
    "    names=[\"image_path\"],\n",
    "    header=None,\n",
    "    index_col=False,\n",
    ")\n",
    "\n",
    "inspect_df(train_image_paths)"
   ]
  },
  {
   "cell_type": "code",
   "execution_count": 11,
   "id": "60a69725",
   "metadata": {},
   "outputs": [],
   "source": [
    "train_image_paths[\"image_path\"] = train_image_paths[\"image_path\"].map(\n",
    "    lambda x: os.path.join(\"../data/\", x)\n",
    ")\n",
    "train_image_paths[\"study_type\"] = train_image_paths[\"image_path\"].map(\n",
    "    lambda x: x.split(\"/\")[4]\n",
    ")\n",
    "train_image_paths[\"patient\"] = train_image_paths[\"image_path\"].map(\n",
    "    lambda x: x.split(\"/\")[5]\n",
    ")\n",
    "train_image_paths[\"study\"] = train_image_paths[\"image_path\"].map(\n",
    "    lambda x: x.split(\"/\")[6]\n",
    ")\n",
    "train_image_paths[\"study_path\"] = train_image_paths[\"image_path\"].map(\n",
    "    lambda x: re.sub(r\"image\\d+.png\", \"\", x)\n",
    ")"
   ]
  },
  {
   "cell_type": "code",
   "execution_count": 12,
   "id": "d073e76e",
   "metadata": {},
   "outputs": [
    {
     "name": "stdout",
     "output_type": "stream",
     "text": [
      "shape: (36808, 5)\n"
     ]
    },
    {
     "data": {
      "text/html": [
       "<div>\n",
       "<style scoped>\n",
       "    .dataframe tbody tr th:only-of-type {\n",
       "        vertical-align: middle;\n",
       "    }\n",
       "\n",
       "    .dataframe tbody tr th {\n",
       "        vertical-align: top;\n",
       "    }\n",
       "\n",
       "    .dataframe thead th {\n",
       "        text-align: right;\n",
       "    }\n",
       "</style>\n",
       "<table border=\"1\" class=\"dataframe\">\n",
       "  <thead>\n",
       "    <tr style=\"text-align: right;\">\n",
       "      <th></th>\n",
       "      <th>image_path</th>\n",
       "      <th>study_type</th>\n",
       "      <th>patient</th>\n",
       "      <th>study</th>\n",
       "      <th>study_path</th>\n",
       "    </tr>\n",
       "  </thead>\n",
       "  <tbody>\n",
       "    <tr>\n",
       "      <th>0</th>\n",
       "      <td>../data/MURA-v1.1/train/XR_SHOULDER/patient00001/study1_positive/image1.png</td>\n",
       "      <td>XR_SHOULDER</td>\n",
       "      <td>patient00001</td>\n",
       "      <td>study1_positive</td>\n",
       "      <td>../data/MURA-v1.1/train/XR_SHOULDER/patient00001/study1_positive/</td>\n",
       "    </tr>\n",
       "    <tr>\n",
       "      <th>1</th>\n",
       "      <td>../data/MURA-v1.1/train/XR_SHOULDER/patient00001/study1_positive/image2.png</td>\n",
       "      <td>XR_SHOULDER</td>\n",
       "      <td>patient00001</td>\n",
       "      <td>study1_positive</td>\n",
       "      <td>../data/MURA-v1.1/train/XR_SHOULDER/patient00001/study1_positive/</td>\n",
       "    </tr>\n",
       "    <tr>\n",
       "      <th>2</th>\n",
       "      <td>../data/MURA-v1.1/train/XR_SHOULDER/patient00001/study1_positive/image3.png</td>\n",
       "      <td>XR_SHOULDER</td>\n",
       "      <td>patient00001</td>\n",
       "      <td>study1_positive</td>\n",
       "      <td>../data/MURA-v1.1/train/XR_SHOULDER/patient00001/study1_positive/</td>\n",
       "    </tr>\n",
       "    <tr>\n",
       "      <th>3</th>\n",
       "      <td>../data/MURA-v1.1/train/XR_SHOULDER/patient00002/study1_positive/image1.png</td>\n",
       "      <td>XR_SHOULDER</td>\n",
       "      <td>patient00002</td>\n",
       "      <td>study1_positive</td>\n",
       "      <td>../data/MURA-v1.1/train/XR_SHOULDER/patient00002/study1_positive/</td>\n",
       "    </tr>\n",
       "    <tr>\n",
       "      <th>4</th>\n",
       "      <td>../data/MURA-v1.1/train/XR_SHOULDER/patient00002/study1_positive/image2.png</td>\n",
       "      <td>XR_SHOULDER</td>\n",
       "      <td>patient00002</td>\n",
       "      <td>study1_positive</td>\n",
       "      <td>../data/MURA-v1.1/train/XR_SHOULDER/patient00002/study1_positive/</td>\n",
       "    </tr>\n",
       "  </tbody>\n",
       "</table>\n",
       "</div>"
      ],
      "text/plain": [
       "                                                                    image_path  \\\n",
       "0  ../data/MURA-v1.1/train/XR_SHOULDER/patient00001/study1_positive/image1.png   \n",
       "1  ../data/MURA-v1.1/train/XR_SHOULDER/patient00001/study1_positive/image2.png   \n",
       "2  ../data/MURA-v1.1/train/XR_SHOULDER/patient00001/study1_positive/image3.png   \n",
       "3  ../data/MURA-v1.1/train/XR_SHOULDER/patient00002/study1_positive/image1.png   \n",
       "4  ../data/MURA-v1.1/train/XR_SHOULDER/patient00002/study1_positive/image2.png   \n",
       "\n",
       "    study_type       patient            study  \\\n",
       "0  XR_SHOULDER  patient00001  study1_positive   \n",
       "1  XR_SHOULDER  patient00001  study1_positive   \n",
       "2  XR_SHOULDER  patient00001  study1_positive   \n",
       "3  XR_SHOULDER  patient00002  study1_positive   \n",
       "4  XR_SHOULDER  patient00002  study1_positive   \n",
       "\n",
       "                                                          study_path  \n",
       "0  ../data/MURA-v1.1/train/XR_SHOULDER/patient00001/study1_positive/  \n",
       "1  ../data/MURA-v1.1/train/XR_SHOULDER/patient00001/study1_positive/  \n",
       "2  ../data/MURA-v1.1/train/XR_SHOULDER/patient00001/study1_positive/  \n",
       "3  ../data/MURA-v1.1/train/XR_SHOULDER/patient00002/study1_positive/  \n",
       "4  ../data/MURA-v1.1/train/XR_SHOULDER/patient00002/study1_positive/  "
      ]
     },
     "execution_count": 12,
     "metadata": {},
     "output_type": "execute_result"
    }
   ],
   "source": [
    "inspect_df(train_image_paths)"
   ]
  },
  {
   "cell_type": "code",
   "execution_count": 13,
   "id": "59cf2544",
   "metadata": {
    "scrolled": false
   },
   "outputs": [
    {
     "name": "stdout",
     "output_type": "stream",
     "text": [
      "shape: (13457, 2)\n"
     ]
    },
    {
     "data": {
      "text/html": [
       "<div>\n",
       "<style scoped>\n",
       "    .dataframe tbody tr th:only-of-type {\n",
       "        vertical-align: middle;\n",
       "    }\n",
       "\n",
       "    .dataframe tbody tr th {\n",
       "        vertical-align: top;\n",
       "    }\n",
       "\n",
       "    .dataframe thead th {\n",
       "        text-align: right;\n",
       "    }\n",
       "</style>\n",
       "<table border=\"1\" class=\"dataframe\">\n",
       "  <thead>\n",
       "    <tr style=\"text-align: right;\">\n",
       "      <th></th>\n",
       "      <th>study_path</th>\n",
       "      <th>label</th>\n",
       "    </tr>\n",
       "  </thead>\n",
       "  <tbody>\n",
       "    <tr>\n",
       "      <th>0</th>\n",
       "      <td>MURA-v1.1/train/XR_SHOULDER/patient00001/study1_positive/</td>\n",
       "      <td>1</td>\n",
       "    </tr>\n",
       "    <tr>\n",
       "      <th>1</th>\n",
       "      <td>MURA-v1.1/train/XR_SHOULDER/patient00002/study1_positive/</td>\n",
       "      <td>1</td>\n",
       "    </tr>\n",
       "    <tr>\n",
       "      <th>2</th>\n",
       "      <td>MURA-v1.1/train/XR_SHOULDER/patient00003/study1_positive/</td>\n",
       "      <td>1</td>\n",
       "    </tr>\n",
       "    <tr>\n",
       "      <th>3</th>\n",
       "      <td>MURA-v1.1/train/XR_SHOULDER/patient00004/study1_positive/</td>\n",
       "      <td>1</td>\n",
       "    </tr>\n",
       "    <tr>\n",
       "      <th>4</th>\n",
       "      <td>MURA-v1.1/train/XR_SHOULDER/patient00005/study1_positive/</td>\n",
       "      <td>1</td>\n",
       "    </tr>\n",
       "  </tbody>\n",
       "</table>\n",
       "</div>"
      ],
      "text/plain": [
       "                                                  study_path  label\n",
       "0  MURA-v1.1/train/XR_SHOULDER/patient00001/study1_positive/      1\n",
       "1  MURA-v1.1/train/XR_SHOULDER/patient00002/study1_positive/      1\n",
       "2  MURA-v1.1/train/XR_SHOULDER/patient00003/study1_positive/      1\n",
       "3  MURA-v1.1/train/XR_SHOULDER/patient00004/study1_positive/      1\n",
       "4  MURA-v1.1/train/XR_SHOULDER/patient00005/study1_positive/      1"
      ]
     },
     "execution_count": 13,
     "metadata": {},
     "output_type": "execute_result"
    }
   ],
   "source": [
    "train_labeled_studies = pd.read_csv(\n",
    "    os.path.join(DATASET_DIR, \"train_labeled_studies.csv\"),\n",
    "    names=[\"study_path\", \"label\"],\n",
    "    header=None,\n",
    "    index_col=False,\n",
    ")\n",
    "\n",
    "inspect_df(train_labeled_studies)"
   ]
  },
  {
   "cell_type": "code",
   "execution_count": 14,
   "id": "df9a7f5d",
   "metadata": {},
   "outputs": [],
   "source": [
    "train_labeled_studies[\"study_path\"] = train_labeled_studies[\"study_path\"].map(\n",
    "    lambda x: os.path.join(\"../data/\", x)\n",
    ")\n",
    "train_labeled_studies[\"label\"] = train_labeled_studies[\"label\"].map(str)"
   ]
  },
  {
   "cell_type": "code",
   "execution_count": 15,
   "id": "408b169b",
   "metadata": {
    "scrolled": false
   },
   "outputs": [
    {
     "name": "stdout",
     "output_type": "stream",
     "text": [
      "shape: (13457, 2)\n"
     ]
    },
    {
     "data": {
      "text/html": [
       "<div>\n",
       "<style scoped>\n",
       "    .dataframe tbody tr th:only-of-type {\n",
       "        vertical-align: middle;\n",
       "    }\n",
       "\n",
       "    .dataframe tbody tr th {\n",
       "        vertical-align: top;\n",
       "    }\n",
       "\n",
       "    .dataframe thead th {\n",
       "        text-align: right;\n",
       "    }\n",
       "</style>\n",
       "<table border=\"1\" class=\"dataframe\">\n",
       "  <thead>\n",
       "    <tr style=\"text-align: right;\">\n",
       "      <th></th>\n",
       "      <th>study_path</th>\n",
       "      <th>label</th>\n",
       "    </tr>\n",
       "  </thead>\n",
       "  <tbody>\n",
       "    <tr>\n",
       "      <th>0</th>\n",
       "      <td>../data/MURA-v1.1/train/XR_SHOULDER/patient00001/study1_positive/</td>\n",
       "      <td>1</td>\n",
       "    </tr>\n",
       "    <tr>\n",
       "      <th>1</th>\n",
       "      <td>../data/MURA-v1.1/train/XR_SHOULDER/patient00002/study1_positive/</td>\n",
       "      <td>1</td>\n",
       "    </tr>\n",
       "    <tr>\n",
       "      <th>2</th>\n",
       "      <td>../data/MURA-v1.1/train/XR_SHOULDER/patient00003/study1_positive/</td>\n",
       "      <td>1</td>\n",
       "    </tr>\n",
       "    <tr>\n",
       "      <th>3</th>\n",
       "      <td>../data/MURA-v1.1/train/XR_SHOULDER/patient00004/study1_positive/</td>\n",
       "      <td>1</td>\n",
       "    </tr>\n",
       "    <tr>\n",
       "      <th>4</th>\n",
       "      <td>../data/MURA-v1.1/train/XR_SHOULDER/patient00005/study1_positive/</td>\n",
       "      <td>1</td>\n",
       "    </tr>\n",
       "  </tbody>\n",
       "</table>\n",
       "</div>"
      ],
      "text/plain": [
       "                                                          study_path label\n",
       "0  ../data/MURA-v1.1/train/XR_SHOULDER/patient00001/study1_positive/     1\n",
       "1  ../data/MURA-v1.1/train/XR_SHOULDER/patient00002/study1_positive/     1\n",
       "2  ../data/MURA-v1.1/train/XR_SHOULDER/patient00003/study1_positive/     1\n",
       "3  ../data/MURA-v1.1/train/XR_SHOULDER/patient00004/study1_positive/     1\n",
       "4  ../data/MURA-v1.1/train/XR_SHOULDER/patient00005/study1_positive/     1"
      ]
     },
     "execution_count": 15,
     "metadata": {},
     "output_type": "execute_result"
    }
   ],
   "source": [
    "inspect_df(train_labeled_studies)"
   ]
  },
  {
   "cell_type": "code",
   "execution_count": 16,
   "id": "98c49b41",
   "metadata": {},
   "outputs": [
    {
     "name": "stdout",
     "output_type": "stream",
     "text": [
      "shape: (36808, 6)\n"
     ]
    },
    {
     "data": {
      "text/html": [
       "<div>\n",
       "<style scoped>\n",
       "    .dataframe tbody tr th:only-of-type {\n",
       "        vertical-align: middle;\n",
       "    }\n",
       "\n",
       "    .dataframe tbody tr th {\n",
       "        vertical-align: top;\n",
       "    }\n",
       "\n",
       "    .dataframe thead th {\n",
       "        text-align: right;\n",
       "    }\n",
       "</style>\n",
       "<table border=\"1\" class=\"dataframe\">\n",
       "  <thead>\n",
       "    <tr style=\"text-align: right;\">\n",
       "      <th></th>\n",
       "      <th>image_path</th>\n",
       "      <th>study_type</th>\n",
       "      <th>patient</th>\n",
       "      <th>study</th>\n",
       "      <th>study_path</th>\n",
       "      <th>label</th>\n",
       "    </tr>\n",
       "  </thead>\n",
       "  <tbody>\n",
       "    <tr>\n",
       "      <th>0</th>\n",
       "      <td>../data/MURA-v1.1/train/XR_SHOULDER/patient00001/study1_positive/image1.png</td>\n",
       "      <td>XR_SHOULDER</td>\n",
       "      <td>patient00001</td>\n",
       "      <td>study1_positive</td>\n",
       "      <td>../data/MURA-v1.1/train/XR_SHOULDER/patient00001/study1_positive/</td>\n",
       "      <td>1</td>\n",
       "    </tr>\n",
       "    <tr>\n",
       "      <th>1</th>\n",
       "      <td>../data/MURA-v1.1/train/XR_SHOULDER/patient00001/study1_positive/image2.png</td>\n",
       "      <td>XR_SHOULDER</td>\n",
       "      <td>patient00001</td>\n",
       "      <td>study1_positive</td>\n",
       "      <td>../data/MURA-v1.1/train/XR_SHOULDER/patient00001/study1_positive/</td>\n",
       "      <td>1</td>\n",
       "    </tr>\n",
       "    <tr>\n",
       "      <th>2</th>\n",
       "      <td>../data/MURA-v1.1/train/XR_SHOULDER/patient00001/study1_positive/image3.png</td>\n",
       "      <td>XR_SHOULDER</td>\n",
       "      <td>patient00001</td>\n",
       "      <td>study1_positive</td>\n",
       "      <td>../data/MURA-v1.1/train/XR_SHOULDER/patient00001/study1_positive/</td>\n",
       "      <td>1</td>\n",
       "    </tr>\n",
       "    <tr>\n",
       "      <th>3</th>\n",
       "      <td>../data/MURA-v1.1/train/XR_SHOULDER/patient00002/study1_positive/image1.png</td>\n",
       "      <td>XR_SHOULDER</td>\n",
       "      <td>patient00002</td>\n",
       "      <td>study1_positive</td>\n",
       "      <td>../data/MURA-v1.1/train/XR_SHOULDER/patient00002/study1_positive/</td>\n",
       "      <td>1</td>\n",
       "    </tr>\n",
       "    <tr>\n",
       "      <th>4</th>\n",
       "      <td>../data/MURA-v1.1/train/XR_SHOULDER/patient00002/study1_positive/image2.png</td>\n",
       "      <td>XR_SHOULDER</td>\n",
       "      <td>patient00002</td>\n",
       "      <td>study1_positive</td>\n",
       "      <td>../data/MURA-v1.1/train/XR_SHOULDER/patient00002/study1_positive/</td>\n",
       "      <td>1</td>\n",
       "    </tr>\n",
       "  </tbody>\n",
       "</table>\n",
       "</div>"
      ],
      "text/plain": [
       "                                                                    image_path  \\\n",
       "0  ../data/MURA-v1.1/train/XR_SHOULDER/patient00001/study1_positive/image1.png   \n",
       "1  ../data/MURA-v1.1/train/XR_SHOULDER/patient00001/study1_positive/image2.png   \n",
       "2  ../data/MURA-v1.1/train/XR_SHOULDER/patient00001/study1_positive/image3.png   \n",
       "3  ../data/MURA-v1.1/train/XR_SHOULDER/patient00002/study1_positive/image1.png   \n",
       "4  ../data/MURA-v1.1/train/XR_SHOULDER/patient00002/study1_positive/image2.png   \n",
       "\n",
       "    study_type       patient            study  \\\n",
       "0  XR_SHOULDER  patient00001  study1_positive   \n",
       "1  XR_SHOULDER  patient00001  study1_positive   \n",
       "2  XR_SHOULDER  patient00001  study1_positive   \n",
       "3  XR_SHOULDER  patient00002  study1_positive   \n",
       "4  XR_SHOULDER  patient00002  study1_positive   \n",
       "\n",
       "                                                          study_path label  \n",
       "0  ../data/MURA-v1.1/train/XR_SHOULDER/patient00001/study1_positive/     1  \n",
       "1  ../data/MURA-v1.1/train/XR_SHOULDER/patient00001/study1_positive/     1  \n",
       "2  ../data/MURA-v1.1/train/XR_SHOULDER/patient00001/study1_positive/     1  \n",
       "3  ../data/MURA-v1.1/train/XR_SHOULDER/patient00002/study1_positive/     1  \n",
       "4  ../data/MURA-v1.1/train/XR_SHOULDER/patient00002/study1_positive/     1  "
      ]
     },
     "execution_count": 16,
     "metadata": {},
     "output_type": "execute_result"
    }
   ],
   "source": [
    "ref_trainset = pd.merge(\n",
    "    train_image_paths, train_labeled_studies, how=\"inner\", on=\"study_path\"\n",
    ")\n",
    "\n",
    "inspect_df(ref_trainset)"
   ]
  },
  {
   "cell_type": "markdown",
   "id": "41eafe23",
   "metadata": {},
   "source": [
    "#### Create a tensorflow input pipeline for the training data"
   ]
  },
  {
   "cell_type": "code",
   "execution_count": 17,
   "id": "19f477b2",
   "metadata": {},
   "outputs": [],
   "source": [
    "IMAGE_WIDTH = 224\n",
    "IMAGE_HEIGHT = 224"
   ]
  },
  {
   "cell_type": "code",
   "execution_count": 18,
   "id": "c8637a1c",
   "metadata": {},
   "outputs": [],
   "source": [
    "training = tf.keras.preprocessing.image.ImageDataGenerator(\n",
    "    rescale=1.0 / 255,\n",
    "    validation_split=0.2,\n",
    ")"
   ]
  },
  {
   "cell_type": "code",
   "execution_count": 19,
   "id": "21f38eee",
   "metadata": {},
   "outputs": [
    {
     "name": "stdout",
     "output_type": "stream",
     "text": [
      "Found 29447 validated image filenames belonging to 2 classes.\n"
     ]
    }
   ],
   "source": [
    "trainset = training.flow_from_dataframe(\n",
    "    dataframe=ref_trainset,\n",
    "    x_col=\"image_path\",\n",
    "    y_col=\"label\",\n",
    "    target_size=(IMAGE_WIDTH, IMAGE_HEIGHT),\n",
    "    class_mode=\"binary\",\n",
    "    batch_size=32,\n",
    "    seed=SEED,\n",
    "    shuffle=True,\n",
    "    subset=\"training\",\n",
    ")"
   ]
  },
  {
   "cell_type": "code",
   "execution_count": 20,
   "id": "3d3baff1",
   "metadata": {},
   "outputs": [
    {
     "name": "stdout",
     "output_type": "stream",
     "text": [
      "Found 7361 validated image filenames belonging to 2 classes.\n"
     ]
    }
   ],
   "source": [
    "validationset = training.flow_from_dataframe(\n",
    "    dataframe=ref_trainset,\n",
    "    x_col=\"image_path\",\n",
    "    y_col=\"label\",\n",
    "    target_size=(IMAGE_WIDTH, IMAGE_HEIGHT),\n",
    "    class_mode=\"binary\",\n",
    "    batch_size=32,\n",
    "    seed=SEED,\n",
    "    shuffle=False,\n",
    "    subset=\"validation\",\n",
    ")"
   ]
  },
  {
   "cell_type": "markdown",
   "id": "6384ad36",
   "metadata": {},
   "source": [
    "#### Create a tensorflow input pipeline for the testing data"
   ]
  },
  {
   "cell_type": "code",
   "execution_count": 21,
   "id": "530cb791",
   "metadata": {},
   "outputs": [],
   "source": [
    "test_image_paths = pd.read_csv(\n",
    "    os.path.join(DATASET_DIR, \"valid_image_paths.csv\"),\n",
    "    names=[\"image_path\"],\n",
    "    header=None,\n",
    "    index_col=False,\n",
    ")"
   ]
  },
  {
   "cell_type": "code",
   "execution_count": 22,
   "id": "3c564c7c",
   "metadata": {},
   "outputs": [],
   "source": [
    "test_image_paths[\"image_path\"] = test_image_paths[\"image_path\"].map(\n",
    "    lambda x: os.path.join(\"../data/\", x)\n",
    ")\n",
    "test_image_paths[\"study_type\"] = test_image_paths[\"image_path\"].map(\n",
    "    lambda x: x.split(\"/\")[4]\n",
    ")\n",
    "test_image_paths[\"patient\"] = test_image_paths[\"image_path\"].map(\n",
    "    lambda x: x.split(\"/\")[5]\n",
    ")\n",
    "test_image_paths[\"study\"] = test_image_paths[\"image_path\"].map(\n",
    "    lambda x: x.split(\"/\")[6]\n",
    ")\n",
    "test_image_paths[\"study_path\"] = test_image_paths[\"image_path\"].map(\n",
    "    lambda x: re.sub(r\"image\\d+.png\", \"\", x)\n",
    ")"
   ]
  },
  {
   "cell_type": "code",
   "execution_count": 23,
   "id": "02fa25e7",
   "metadata": {},
   "outputs": [],
   "source": [
    "test_labeled_studies = pd.read_csv(\n",
    "    os.path.join(DATASET_DIR, \"valid_labeled_studies.csv\"),\n",
    "    names=[\"study_path\", \"label\"],\n",
    "    header=None,\n",
    "    index_col=False,\n",
    ")"
   ]
  },
  {
   "cell_type": "code",
   "execution_count": 24,
   "id": "3b658d66",
   "metadata": {},
   "outputs": [],
   "source": [
    "test_labeled_studies[\"study_path\"] = test_labeled_studies[\"study_path\"].map(\n",
    "    lambda x: os.path.join(\"../data/\", x)\n",
    ")\n",
    "test_labeled_studies[\"label\"] = test_labeled_studies[\"label\"].map(str)"
   ]
  },
  {
   "cell_type": "code",
   "execution_count": 25,
   "id": "28789518",
   "metadata": {},
   "outputs": [
    {
     "name": "stdout",
     "output_type": "stream",
     "text": [
      "shape: (3197, 6)\n"
     ]
    },
    {
     "data": {
      "text/html": [
       "<div>\n",
       "<style scoped>\n",
       "    .dataframe tbody tr th:only-of-type {\n",
       "        vertical-align: middle;\n",
       "    }\n",
       "\n",
       "    .dataframe tbody tr th {\n",
       "        vertical-align: top;\n",
       "    }\n",
       "\n",
       "    .dataframe thead th {\n",
       "        text-align: right;\n",
       "    }\n",
       "</style>\n",
       "<table border=\"1\" class=\"dataframe\">\n",
       "  <thead>\n",
       "    <tr style=\"text-align: right;\">\n",
       "      <th></th>\n",
       "      <th>image_path</th>\n",
       "      <th>study_type</th>\n",
       "      <th>patient</th>\n",
       "      <th>study</th>\n",
       "      <th>study_path</th>\n",
       "      <th>label</th>\n",
       "    </tr>\n",
       "  </thead>\n",
       "  <tbody>\n",
       "    <tr>\n",
       "      <th>0</th>\n",
       "      <td>../data/MURA-v1.1/valid/XR_WRIST/patient11185/study1_positive/image1.png</td>\n",
       "      <td>XR_WRIST</td>\n",
       "      <td>patient11185</td>\n",
       "      <td>study1_positive</td>\n",
       "      <td>../data/MURA-v1.1/valid/XR_WRIST/patient11185/study1_positive/</td>\n",
       "      <td>1</td>\n",
       "    </tr>\n",
       "    <tr>\n",
       "      <th>1</th>\n",
       "      <td>../data/MURA-v1.1/valid/XR_WRIST/patient11185/study1_positive/image2.png</td>\n",
       "      <td>XR_WRIST</td>\n",
       "      <td>patient11185</td>\n",
       "      <td>study1_positive</td>\n",
       "      <td>../data/MURA-v1.1/valid/XR_WRIST/patient11185/study1_positive/</td>\n",
       "      <td>1</td>\n",
       "    </tr>\n",
       "    <tr>\n",
       "      <th>2</th>\n",
       "      <td>../data/MURA-v1.1/valid/XR_WRIST/patient11185/study1_positive/image3.png</td>\n",
       "      <td>XR_WRIST</td>\n",
       "      <td>patient11185</td>\n",
       "      <td>study1_positive</td>\n",
       "      <td>../data/MURA-v1.1/valid/XR_WRIST/patient11185/study1_positive/</td>\n",
       "      <td>1</td>\n",
       "    </tr>\n",
       "    <tr>\n",
       "      <th>3</th>\n",
       "      <td>../data/MURA-v1.1/valid/XR_WRIST/patient11185/study1_positive/image4.png</td>\n",
       "      <td>XR_WRIST</td>\n",
       "      <td>patient11185</td>\n",
       "      <td>study1_positive</td>\n",
       "      <td>../data/MURA-v1.1/valid/XR_WRIST/patient11185/study1_positive/</td>\n",
       "      <td>1</td>\n",
       "    </tr>\n",
       "    <tr>\n",
       "      <th>4</th>\n",
       "      <td>../data/MURA-v1.1/valid/XR_WRIST/patient11186/study1_positive/image1.png</td>\n",
       "      <td>XR_WRIST</td>\n",
       "      <td>patient11186</td>\n",
       "      <td>study1_positive</td>\n",
       "      <td>../data/MURA-v1.1/valid/XR_WRIST/patient11186/study1_positive/</td>\n",
       "      <td>1</td>\n",
       "    </tr>\n",
       "  </tbody>\n",
       "</table>\n",
       "</div>"
      ],
      "text/plain": [
       "                                                                 image_path  \\\n",
       "0  ../data/MURA-v1.1/valid/XR_WRIST/patient11185/study1_positive/image1.png   \n",
       "1  ../data/MURA-v1.1/valid/XR_WRIST/patient11185/study1_positive/image2.png   \n",
       "2  ../data/MURA-v1.1/valid/XR_WRIST/patient11185/study1_positive/image3.png   \n",
       "3  ../data/MURA-v1.1/valid/XR_WRIST/patient11185/study1_positive/image4.png   \n",
       "4  ../data/MURA-v1.1/valid/XR_WRIST/patient11186/study1_positive/image1.png   \n",
       "\n",
       "  study_type       patient            study  \\\n",
       "0   XR_WRIST  patient11185  study1_positive   \n",
       "1   XR_WRIST  patient11185  study1_positive   \n",
       "2   XR_WRIST  patient11185  study1_positive   \n",
       "3   XR_WRIST  patient11185  study1_positive   \n",
       "4   XR_WRIST  patient11186  study1_positive   \n",
       "\n",
       "                                                       study_path label  \n",
       "0  ../data/MURA-v1.1/valid/XR_WRIST/patient11185/study1_positive/     1  \n",
       "1  ../data/MURA-v1.1/valid/XR_WRIST/patient11185/study1_positive/     1  \n",
       "2  ../data/MURA-v1.1/valid/XR_WRIST/patient11185/study1_positive/     1  \n",
       "3  ../data/MURA-v1.1/valid/XR_WRIST/patient11185/study1_positive/     1  \n",
       "4  ../data/MURA-v1.1/valid/XR_WRIST/patient11186/study1_positive/     1  "
      ]
     },
     "execution_count": 25,
     "metadata": {},
     "output_type": "execute_result"
    }
   ],
   "source": [
    "ref_testset = pd.merge(\n",
    "    test_image_paths, test_labeled_studies, how=\"inner\", on=\"study_path\"\n",
    ")\n",
    "\n",
    "inspect_df(ref_testset)"
   ]
  },
  {
   "cell_type": "code",
   "execution_count": 26,
   "id": "7a83dfa4",
   "metadata": {},
   "outputs": [],
   "source": [
    "testing = tf.keras.preprocessing.image.ImageDataGenerator(\n",
    "    rescale=1.0 / 255,\n",
    ")"
   ]
  },
  {
   "cell_type": "code",
   "execution_count": 27,
   "id": "c466ce62",
   "metadata": {},
   "outputs": [
    {
     "name": "stdout",
     "output_type": "stream",
     "text": [
      "Found 3197 validated image filenames belonging to 2 classes.\n"
     ]
    }
   ],
   "source": [
    "testset = testing.flow_from_dataframe(\n",
    "    dataframe=ref_testset,\n",
    "    x_col=\"image_path\",\n",
    "    y_col=\"label\",\n",
    "    target_size=(IMAGE_WIDTH, IMAGE_HEIGHT),\n",
    "    class_mode=\"binary\",\n",
    "    batch_size=32,\n",
    "    seed=SEED,\n",
    "    shuffle=False,  # this is very important in order to properly use raw predictions to evaluate on study-level!\n",
    ")"
   ]
  },
  {
   "cell_type": "markdown",
   "id": "30d182d1",
   "metadata": {},
   "source": [
    "### Baseline Performance"
   ]
  },
  {
   "cell_type": "markdown",
   "id": "86d916d4",
   "metadata": {},
   "source": [
    "#### Random Classification"
   ]
  },
  {
   "cell_type": "code",
   "execution_count": 28,
   "id": "c7b78f86",
   "metadata": {},
   "outputs": [],
   "source": [
    "class RandomClassifier(object):\n",
    "    \"\"\"Random classifier - predicts whether an image is normal or abnormal at random.\"\"\"\n",
    "\n",
    "    def predict(self, image_path: str) -> float:\n",
    "\n",
    "        return random.random()"
   ]
  },
  {
   "cell_type": "code",
   "execution_count": 29,
   "id": "06c3b41a",
   "metadata": {},
   "outputs": [],
   "source": [
    "temp_testset = ref_testset.copy()\n",
    "\n",
    "temp_testset[\"label\"] = temp_testset[\"label\"].map(int)"
   ]
  },
  {
   "cell_type": "code",
   "execution_count": 30,
   "id": "8489cd45",
   "metadata": {},
   "outputs": [],
   "source": [
    "model = RandomClassifier()\n",
    "\n",
    "temp_testset[\"prediction\"] = temp_testset[\"image_path\"].map(model.predict)"
   ]
  },
  {
   "cell_type": "code",
   "execution_count": 31,
   "id": "39cbfcc2",
   "metadata": {},
   "outputs": [
    {
     "data": {
      "text/plain": [
       "0.0049013669964691475"
      ]
     },
     "execution_count": 31,
     "metadata": {},
     "output_type": "execute_result"
    }
   ],
   "source": [
    "cohen_kappa_score(\n",
    "    temp_testset[\"label\"].values,\n",
    "    np.vectorize(lambda x: 1 if x > 0.5 else 0)(temp_testset[\"prediction\"].values),\n",
    ")"
   ]
  },
  {
   "cell_type": "markdown",
   "id": "21993e55",
   "metadata": {},
   "source": [
    "We now have to aggregate all the predictions - in a meaningful way - at the study level.\n",
    "\n",
    "We will assume that if the majority of the images of a given study are classified as abnormal, then the study will be classified as abnormal as well (and vice versa)."
   ]
  },
  {
   "cell_type": "code",
   "execution_count": 32,
   "id": "6de7e829",
   "metadata": {},
   "outputs": [],
   "source": [
    "def study_oriented_transformation(dataset: pd.DataFrame) -> Iterable:\n",
    "\n",
    "    for study, group in dataset.groupby(\"study_path\"):\n",
    "\n",
    "        study_label = group[\"label\"].values.take(0)\n",
    "        study_prediction = 1 if group[\"prediction\"].mean() > 0.5 else 0\n",
    "\n",
    "        yield study, study_label, study_prediction"
   ]
  },
  {
   "cell_type": "code",
   "execution_count": 33,
   "id": "e571b404",
   "metadata": {},
   "outputs": [],
   "source": [
    "temp_testset = pd.DataFrame(\n",
    "    [*study_oriented_transformation(temp_testset)],\n",
    "    columns=[\"study\", \"label\", \"prediction\"],\n",
    ")"
   ]
  },
  {
   "cell_type": "code",
   "execution_count": 34,
   "id": "6aa5e907",
   "metadata": {},
   "outputs": [
    {
     "data": {
      "text/plain": [
       "-0.02330674545107736"
      ]
     },
     "execution_count": 34,
     "metadata": {},
     "output_type": "execute_result"
    }
   ],
   "source": [
    "cohen_kappa_score(temp_testset[\"label\"].values, temp_testset[\"prediction\"].values)"
   ]
  },
  {
   "cell_type": "code",
   "execution_count": 35,
   "id": "adee55da",
   "metadata": {},
   "outputs": [],
   "source": [
    "del temp_testset\n",
    "del model"
   ]
  },
  {
   "cell_type": "markdown",
   "id": "92e2665b",
   "metadata": {},
   "source": [
    "#### CNN architecture with sensible defaults"
   ]
  },
  {
   "cell_type": "code",
   "execution_count": 36,
   "id": "53dda1c7",
   "metadata": {},
   "outputs": [],
   "source": [
    "def clean_up(model_):\n",
    "    tf.keras.backend.clear_session()\n",
    "    del model_\n",
    "    gc.collect()"
   ]
  },
  {
   "cell_type": "code",
   "execution_count": 37,
   "id": "404f8518",
   "metadata": {},
   "outputs": [],
   "source": [
    "# the tfa.metrics.F1Score (https://www.tensorflow.org/addons/api_docs/python/tfa/metrics/F1Score)\n",
    "# requires some reshaping that is inconsistent with the other metrics we like to track\n",
    "# so we will define it from scratch\n",
    "\n",
    "\n",
    "class F1Score(tf.keras.metrics.Metric):\n",
    "    def __init__(self, name=\"f1_score\", **kwargs):\n",
    "        super().__init__(name=name, **kwargs)\n",
    "        self.f1 = self.add_weight(name=\"f1\", initializer=\"zeros\")\n",
    "        self.precision_fn = tf.keras.metrics.Precision()\n",
    "        self.recall_fn = tf.keras.metrics.Recall()\n",
    "\n",
    "    def update_state(self, y_true, y_pred, sample_weight=None):\n",
    "        p = self.precision_fn(y_true, y_pred)\n",
    "        r = self.recall_fn(y_true, y_pred)\n",
    "        self.f1.assign(2 * ((p * r) / (p + r + 1e-10)))\n",
    "\n",
    "    def result(self):\n",
    "        return self.f1\n",
    "\n",
    "    def reset_state(self):\n",
    "        # we also need to reset the state of the precision and recall objects\n",
    "        self.precision_fn.reset_state()\n",
    "        self.recall_fn.reset_state()\n",
    "        self.f1.assign(0)"
   ]
  },
  {
   "cell_type": "code",
   "execution_count": 38,
   "id": "4e3a6125",
   "metadata": {},
   "outputs": [
    {
     "name": "stderr",
     "output_type": "stream",
     "text": [
      "2022-03-31 14:00:30.728016: I tensorflow/core/platform/cpu_feature_guard.cc:151] This TensorFlow binary is optimized with oneAPI Deep Neural Network Library (oneDNN) to use the following CPU instructions in performance-critical operations:  AVX2 FMA\n",
      "To enable them in other operations, rebuild TensorFlow with the appropriate compiler flags.\n",
      "2022-03-31 14:00:30.730152: I tensorflow/stream_executor/cuda/cuda_gpu_executor.cc:936] successful NUMA node read from SysFS had negative value (-1), but there must be at least one NUMA node, so returning NUMA node zero\n",
      "2022-03-31 14:00:30.730356: I tensorflow/stream_executor/cuda/cuda_gpu_executor.cc:936] successful NUMA node read from SysFS had negative value (-1), but there must be at least one NUMA node, so returning NUMA node zero\n",
      "2022-03-31 14:00:30.730474: I tensorflow/stream_executor/cuda/cuda_gpu_executor.cc:936] successful NUMA node read from SysFS had negative value (-1), but there must be at least one NUMA node, so returning NUMA node zero\n",
      "2022-03-31 14:00:31.493461: I tensorflow/stream_executor/cuda/cuda_gpu_executor.cc:936] successful NUMA node read from SysFS had negative value (-1), but there must be at least one NUMA node, so returning NUMA node zero\n",
      "2022-03-31 14:00:31.493615: I tensorflow/stream_executor/cuda/cuda_gpu_executor.cc:936] successful NUMA node read from SysFS had negative value (-1), but there must be at least one NUMA node, so returning NUMA node zero\n",
      "2022-03-31 14:00:31.493737: I tensorflow/stream_executor/cuda/cuda_gpu_executor.cc:936] successful NUMA node read from SysFS had negative value (-1), but there must be at least one NUMA node, so returning NUMA node zero\n",
      "2022-03-31 14:00:31.494333: I tensorflow/core/common_runtime/gpu/gpu_device.cc:1525] Created device /job:localhost/replica:0/task:0/device:GPU:0 with 2019 MB memory:  -> device: 0, name: Quadro T1000, pci bus id: 0000:01:00.0, compute capability: 7.5\n"
     ]
    }
   ],
   "source": [
    "METRICS = [\n",
    "    tf.keras.metrics.TruePositives(name=\"tp\"),\n",
    "    tf.keras.metrics.FalsePositives(name=\"fp\"),\n",
    "    tf.keras.metrics.TrueNegatives(name=\"tn\"),\n",
    "    tf.keras.metrics.FalseNegatives(name=\"fn\"),\n",
    "    tf.keras.metrics.BinaryAccuracy(name=\"binary_acc\"),\n",
    "    tf.keras.metrics.Precision(name=\"precision\"),\n",
    "    tf.keras.metrics.Recall(name=\"recall\"),\n",
    "    F1Score(name=\"f1_score\"),\n",
    "    tf.keras.metrics.AUC(name=\"roc_auc\", curve=\"ROC\"),\n",
    "    tf.keras.metrics.AUC(name=\"pr_auc\", curve=\"PR\"),\n",
    "    tfa.metrics.CohenKappa(name=\"cohen_kappa\", num_classes=2),\n",
    "]"
   ]
  },
  {
   "cell_type": "code",
   "execution_count": 39,
   "id": "4d269acc",
   "metadata": {},
   "outputs": [],
   "source": [
    "def plot_metrics(\n",
    "    history: tf.keras.callbacks.History,\n",
    "    metrics: list = [\"loss\", \"cohen_kappa\", \"precision\", \"recall\"],\n",
    ") -> None:\n",
    "\n",
    "    plt.rcParams[\"figure.figsize\"] = (18, 15)\n",
    "\n",
    "    for n, metric in enumerate(metrics):\n",
    "        name = metric.replace(\"_\", \" \").capitalize()\n",
    "        plt.subplot(2, 2, n + 1)\n",
    "        plt.plot(\n",
    "            history.epoch, history.history[metric], linewidth=1.8, label=\"training\"\n",
    "        )\n",
    "        plt.plot(\n",
    "            history.epoch,\n",
    "            history.history[\"val_\" + metric],\n",
    "            linestyle=\"--\",\n",
    "            linewidth=1.8,\n",
    "            label=\"validation\",\n",
    "        )\n",
    "        plt.xlabel(\"epoch\")\n",
    "        plt.ylabel(name)\n",
    "        if metric == \"loss\":\n",
    "            plt.ylim([0, plt.ylim()[1]])\n",
    "        elif metric == \"cohen_kappa\":\n",
    "            plt.ylim([-1, 1])\n",
    "        else:\n",
    "            plt.ylim([0, 1])\n",
    "\n",
    "        plt.legend()"
   ]
  },
  {
   "cell_type": "code",
   "execution_count": 40,
   "id": "202355bd",
   "metadata": {},
   "outputs": [],
   "source": [
    "def make_cnn_model():\n",
    "    \"\"\"Creates a CNN architecture with sensible defaults.\"\"\"\n",
    "    model = tf.keras.Sequential(\n",
    "        [\n",
    "            tf.keras.layers.Conv2D(\n",
    "                filters=32,\n",
    "                kernel_size=(3, 3),\n",
    "                strides=(1, 1),\n",
    "                padding=\"same\",\n",
    "                kernel_regularizer=\"l2\",\n",
    "                dilation_rate=(1, 1),\n",
    "                activation=\"relu\",\n",
    "                input_shape=(IMAGE_WIDTH, IMAGE_HEIGHT, 3),\n",
    "                name=\"1st-convolution\",\n",
    "            ),\n",
    "            tf.keras.layers.BatchNormalization(name=\"1st-batch-norm\"),\n",
    "            tf.keras.layers.MaxPool2D(\n",
    "                pool_size=(2, 2), strides=(2, 2), padding=\"same\", name=\"1st-max-pooling\"\n",
    "            ),\n",
    "            tf.keras.layers.Dropout(\n",
    "                rate=0.15,\n",
    "                name=\"1st-dropout\",\n",
    "            ),\n",
    "            tf.keras.layers.Conv2D(\n",
    "                filters=64,\n",
    "                kernel_size=(3, 3),\n",
    "                strides=(1, 1),\n",
    "                padding=\"same\",\n",
    "                kernel_regularizer=\"l2\",\n",
    "                dilation_rate=(1, 1),\n",
    "                activation=\"relu\",\n",
    "                name=\"2nd-convolution\",\n",
    "            ),\n",
    "            tf.keras.layers.BatchNormalization(name=\"2nd-batch-norm\"),\n",
    "            tf.keras.layers.MaxPool2D(\n",
    "                pool_size=(2, 2), strides=(2, 2), padding=\"same\", name=\"2nd-max-pooling\"\n",
    "            ),\n",
    "            tf.keras.layers.Dropout(\n",
    "                rate=0.15,\n",
    "                name=\"2nd-dropout\",\n",
    "            ),\n",
    "            tf.keras.layers.Conv2D(\n",
    "                filters=128,\n",
    "                kernel_size=(3, 3),\n",
    "                strides=(1, 1),\n",
    "                padding=\"same\",\n",
    "                kernel_regularizer=\"l2\",\n",
    "                dilation_rate=(1, 1),\n",
    "                activation=\"relu\",\n",
    "                name=\"3rd-convolution\",\n",
    "            ),\n",
    "            tf.keras.layers.BatchNormalization(name=\"3rd-batch-norm\"),\n",
    "            tf.keras.layers.MaxPool2D(\n",
    "                pool_size=(2, 2), strides=(2, 2), padding=\"same\", name=\"3rd-max-pooling\"\n",
    "            ),\n",
    "            tf.keras.layers.Dropout(\n",
    "                rate=0.15,\n",
    "                name=\"3rd-dropout\",\n",
    "            ),\n",
    "            tf.keras.layers.Flatten(name=\"flatten-layer\"),\n",
    "            tf.keras.layers.Dense(\n",
    "                units=32,\n",
    "                kernel_regularizer=\"l2\",\n",
    "                activation=\"relu\",\n",
    "                name=\"dense-layer\",\n",
    "            ),\n",
    "            tf.keras.layers.Dense(units=1, activation=\"sigmoid\", name=\"output-layer\"),\n",
    "        ]\n",
    "    )\n",
    "\n",
    "    model.compile(\n",
    "        optimizer=tf.keras.optimizers.Adam(learning_rate=0.0001),\n",
    "        loss=tf.keras.losses.BinaryCrossentropy(),\n",
    "        metrics=METRICS,\n",
    "    )\n",
    "\n",
    "    return model"
   ]
  },
  {
   "cell_type": "code",
   "execution_count": 41,
   "id": "b2e68f4f",
   "metadata": {},
   "outputs": [],
   "source": [
    "model = make_cnn_model()"
   ]
  },
  {
   "cell_type": "code",
   "execution_count": 42,
   "id": "1c19ad13",
   "metadata": {
    "scrolled": false
   },
   "outputs": [
    {
     "name": "stdout",
     "output_type": "stream",
     "text": [
      "Model: \"sequential\"\n",
      "_________________________________________________________________\n",
      " Layer (type)                Output Shape              Param #   \n",
      "=================================================================\n",
      " 1st-convolution (Conv2D)    (None, 224, 224, 32)      896       \n",
      "                                                                 \n",
      " 1st-batch-norm (BatchNormal  (None, 224, 224, 32)     128       \n",
      " ization)                                                        \n",
      "                                                                 \n",
      " 1st-max-pooling (MaxPooling  (None, 112, 112, 32)     0         \n",
      " 2D)                                                             \n",
      "                                                                 \n",
      " 1st-dropout (Dropout)       (None, 112, 112, 32)      0         \n",
      "                                                                 \n",
      " 2nd-convolution (Conv2D)    (None, 112, 112, 64)      18496     \n",
      "                                                                 \n",
      " 2nd-batch-norm (BatchNormal  (None, 112, 112, 64)     256       \n",
      " ization)                                                        \n",
      "                                                                 \n",
      " 2nd-max-pooling (MaxPooling  (None, 56, 56, 64)       0         \n",
      " 2D)                                                             \n",
      "                                                                 \n",
      " 2nd-dropout (Dropout)       (None, 56, 56, 64)        0         \n",
      "                                                                 \n",
      " 3rd-convolution (Conv2D)    (None, 56, 56, 128)       73856     \n",
      "                                                                 \n",
      " 3rd-batch-norm (BatchNormal  (None, 56, 56, 128)      512       \n",
      " ization)                                                        \n",
      "                                                                 \n",
      " 3rd-max-pooling (MaxPooling  (None, 28, 28, 128)      0         \n",
      " 2D)                                                             \n",
      "                                                                 \n",
      " 3rd-dropout (Dropout)       (None, 28, 28, 128)       0         \n",
      "                                                                 \n",
      " flatten-layer (Flatten)     (None, 100352)            0         \n",
      "                                                                 \n",
      " dense-layer (Dense)         (None, 32)                3211296   \n",
      "                                                                 \n",
      " output-layer (Dense)        (None, 1)                 33        \n",
      "                                                                 \n",
      "=================================================================\n",
      "Total params: 3,305,473\n",
      "Trainable params: 3,305,025\n",
      "Non-trainable params: 448\n",
      "_________________________________________________________________\n"
     ]
    }
   ],
   "source": [
    "model.summary()"
   ]
  },
  {
   "cell_type": "code",
   "execution_count": 43,
   "id": "97981226",
   "metadata": {
    "scrolled": false
   },
   "outputs": [
    {
     "data": {
      "image/png": "[encoded data removed]",
      "text/plain": [
       "<IPython.core.display.Image object>"
      ]
     },
     "execution_count": 43,
     "metadata": {},
     "output_type": "execute_result"
    }
   ],
   "source": [
    "tf.keras.utils.plot_model(\n",
    "    model,\n",
    "    to_file=\"../static/cnn-all-study-types-3305473.png\",\n",
    "    show_shapes=True,\n",
    "    show_layer_names=True,\n",
    ")"
   ]
  },
  {
   "cell_type": "code",
   "execution_count": 44,
   "id": "571221da",
   "metadata": {},
   "outputs": [],
   "source": [
    "early_stopping = tf.keras.callbacks.EarlyStopping(\n",
    "    monitor=\"val_loss\",\n",
    "    mode=\"min\",\n",
    "    verbose=1,\n",
    "    patience=20,\n",
    ")"
   ]
  },
  {
   "cell_type": "code",
   "execution_count": 45,
   "id": "16cd65d0",
   "metadata": {},
   "outputs": [],
   "source": [
    "reduce_lr_on_plateau = tf.keras.callbacks.ReduceLROnPlateau(\n",
    "    monitor=\"val_loss\", mode=\"min\", factor=0.2, verbose=1, patience=5, min_lr=1e-6\n",
    ")"
   ]
  },
  {
   "cell_type": "code",
   "execution_count": 46,
   "id": "aa319ec8",
   "metadata": {
    "scrolled": false
   },
   "outputs": [
    {
     "name": "stdout",
     "output_type": "stream",
     "text": [
      "Epoch 1/100\n"
     ]
    },
    {
     "name": "stderr",
     "output_type": "stream",
     "text": [
      "2022-03-31 14:00:35.209846: I tensorflow/stream_executor/cuda/cuda_dnn.cc:368] Loaded cuDNN version 8303\n"
     ]
    },
    {
     "name": "stdout",
     "output_type": "stream",
     "text": [
      "921/921 [==============================] - 180s 189ms/step - loss: 1.9228 - tp: 266.0000 - fp: 320.0000 - tn: 18422.0000 - fn: 10439.0000 - binary_acc: 0.6346 - precision: 0.4539 - recall: 0.0248 - f1_score: 0.0471 - roc_auc: 0.5581 - pr_auc: 0.3951 - cohen_kappa: 0.0098 - val_loss: 1.4399 - val_tp: 279.0000 - val_fp: 198.0000 - val_tn: 2995.0000 - val_fn: 3889.0000 - val_binary_acc: 0.4448 - val_precision: 0.5849 - val_recall: 0.0669 - val_f1_score: 0.1201 - val_roc_auc: 0.5123 - val_pr_auc: 0.5799 - val_cohen_kappa: 0.0043 - lr: 1.0000e-04\n",
      "Epoch 2/100\n",
      "921/921 [==============================] - 175s 190ms/step - loss: 1.0257 - tp: 41.0000 - fp: 65.0000 - tn: 18677.0000 - fn: 10664.0000 - binary_acc: 0.6357 - precision: 0.3868 - recall: 0.0038 - f1_score: 0.0076 - roc_auc: 0.6627 - pr_auc: 0.4929 - cohen_kappa: 4.5937e-04 - val_loss: 1.0950 - val_tp: 3.0000 - val_fp: 6.0000 - val_tn: 3187.0000 - val_fn: 4165.0000 - val_binary_acc: 0.4334 - val_precision: 0.3333 - val_recall: 7.1977e-04 - val_f1_score: 0.0014 - val_roc_auc: 0.5212 - val_pr_auc: 0.5780 - val_cohen_kappa: -0.0010 - lr: 1.0000e-04\n",
      "Epoch 3/100\n",
      "921/921 [==============================] - 172s 187ms/step - loss: 0.7832 - tp: 80.0000 - fp: 73.0000 - tn: 18669.0000 - fn: 10625.0000 - binary_acc: 0.6367 - precision: 0.5229 - recall: 0.0075 - f1_score: 0.0147 - roc_auc: 0.6924 - pr_auc: 0.5227 - cohen_kappa: 0.0045 - val_loss: 0.9507 - val_tp: 0.0000e+00 - val_fp: 0.0000e+00 - val_tn: 3193.0000 - val_fn: 4168.0000 - val_binary_acc: 0.4338 - val_precision: 0.0000e+00 - val_recall: 0.0000e+00 - val_f1_score: 0.0000e+00 - val_roc_auc: 0.5247 - val_pr_auc: 0.5812 - val_cohen_kappa: 0.0000e+00 - lr: 1.0000e-04\n",
      "Epoch 4/100\n",
      "921/921 [==============================] - 172s 187ms/step - loss: 0.7233 - tp: 2980.0000 - fp: 1916.0000 - tn: 16826.0000 - fn: 7725.0000 - binary_acc: 0.6726 - precision: 0.6087 - recall: 0.2784 - f1_score: 0.3820 - roc_auc: 0.7119 - pr_auc: 0.5443 - cohen_kappa: 0.1993 - val_loss: 1.3521 - val_tp: 48.0000 - val_fp: 11.0000 - val_tn: 3182.0000 - val_fn: 4120.0000 - val_binary_acc: 0.4388 - val_precision: 0.8136 - val_recall: 0.0115 - val_f1_score: 0.0227 - val_roc_auc: 0.5427 - val_pr_auc: 0.6026 - val_cohen_kappa: 0.0070 - lr: 1.0000e-04\n",
      "Epoch 5/100\n",
      "921/921 [==============================] - 171s 186ms/step - loss: 0.6838 - tp: 4308.0000 - fp: 2575.0000 - tn: 16167.0000 - fn: 6397.0000 - binary_acc: 0.6953 - precision: 0.6259 - recall: 0.4024 - f1_score: 0.4899 - roc_auc: 0.7320 - pr_auc: 0.5645 - cohen_kappa: 0.2870 - val_loss: 1.5806 - val_tp: 51.0000 - val_fp: 22.0000 - val_tn: 3171.0000 - val_fn: 4117.0000 - val_binary_acc: 0.4377 - val_precision: 0.6986 - val_recall: 0.0122 - val_f1_score: 0.0241 - val_roc_auc: 0.5424 - val_pr_auc: 0.5999 - val_cohen_kappa: 0.0046 - lr: 1.0000e-04\n",
      "Epoch 6/100\n",
      "921/921 [==============================] - 170s 185ms/step - loss: 0.6577 - tp: 4839.0000 - fp: 2537.0000 - tn: 16205.0000 - fn: 5866.0000 - binary_acc: 0.7146 - precision: 0.6560 - recall: 0.4520 - f1_score: 0.5353 - roc_auc: 0.7580 - pr_auc: 0.6157 - cohen_kappa: 0.3393 - val_loss: 1.4248 - val_tp: 124.0000 - val_fp: 61.0000 - val_tn: 3132.0000 - val_fn: 4044.0000 - val_binary_acc: 0.4423 - val_precision: 0.6703 - val_recall: 0.0298 - val_f1_score: 0.0570 - val_roc_auc: 0.5083 - val_pr_auc: 0.5787 - val_cohen_kappa: 0.0093 - lr: 1.0000e-04\n",
      "Epoch 7/100\n",
      "921/921 [==============================] - 176s 191ms/step - loss: 0.6275 - tp: 5605.0000 - fp: 2525.0000 - tn: 16217.0000 - fn: 5100.0000 - binary_acc: 0.7411 - precision: 0.6894 - recall: 0.5236 - f1_score: 0.5952 - roc_auc: 0.7969 - pr_auc: 0.6992 - cohen_kappa: 0.4100 - val_loss: 1.8151 - val_tp: 106.0000 - val_fp: 42.0000 - val_tn: 3151.0000 - val_fn: 4062.0000 - val_binary_acc: 0.4425 - val_precision: 0.7162 - val_recall: 0.0254 - val_f1_score: 0.0491 - val_roc_auc: 0.5689 - val_pr_auc: 0.6212 - val_cohen_kappa: 0.0107 - lr: 1.0000e-04\n",
      "Epoch 8/100\n",
      "921/921 [==============================] - ETA: 0s - loss: 0.5985 - tp: 6158.0000 - fp: 2236.0000 - tn: 16506.0000 - fn: 4547.0000 - binary_acc: 0.7697 - precision: 0.7336 - recall: 0.5752 - f1_score: 0.6449 - roc_auc: 0.8302 - pr_auc: 0.7500 - cohen_kappa: 0.4781\n",
      "Epoch 8: ReduceLROnPlateau reducing learning rate to 1.9999999494757503e-05.\n",
      "921/921 [==============================] - 173s 187ms/step - loss: 0.5985 - tp: 6158.0000 - fp: 2236.0000 - tn: 16506.0000 - fn: 4547.0000 - binary_acc: 0.7697 - precision: 0.7336 - recall: 0.5752 - f1_score: 0.6449 - roc_auc: 0.8302 - pr_auc: 0.7500 - cohen_kappa: 0.4781 - val_loss: 2.2770 - val_tp: 118.0000 - val_fp: 36.0000 - val_tn: 3157.0000 - val_fn: 4050.0000 - val_binary_acc: 0.4449 - val_precision: 0.7662 - val_recall: 0.0283 - val_f1_score: 0.0546 - val_roc_auc: 0.5862 - val_pr_auc: 0.6451 - val_cohen_kappa: 0.0149 - lr: 1.0000e-04\n",
      "Epoch 9/100\n",
      "921/921 [==============================] - 173s 188ms/step - loss: 0.5157 - tp: 7052.0000 - fp: 1577.0000 - tn: 17165.0000 - fn: 3653.0000 - binary_acc: 0.8224 - precision: 0.8172 - recall: 0.6588 - f1_score: 0.7295 - roc_auc: 0.8932 - pr_auc: 0.8411 - cohen_kappa: 0.5995 - val_loss: 1.6558 - val_tp: 168.0000 - val_fp: 47.0000 - val_tn: 3146.0000 - val_fn: 4000.0000 - val_binary_acc: 0.4502 - val_precision: 0.7814 - val_recall: 0.0403 - val_f1_score: 0.0767 - val_roc_auc: 0.5825 - val_pr_auc: 0.6428 - val_cohen_kappa: 0.0224 - lr: 2.0000e-05\n",
      "Epoch 10/100\n",
      "921/921 [==============================] - 173s 188ms/step - loss: 0.4844 - tp: 7439.0000 - fp: 1418.0000 - tn: 17324.0000 - fn: 3266.0000 - binary_acc: 0.8409 - precision: 0.8399 - recall: 0.6949 - f1_score: 0.7606 - roc_auc: 0.9112 - pr_auc: 0.8658 - cohen_kappa: 0.6431 - val_loss: 1.6554 - val_tp: 219.0000 - val_fp: 71.0000 - val_tn: 3122.0000 - val_fn: 3949.0000 - val_binary_acc: 0.4539 - val_precision: 0.7552 - val_recall: 0.0525 - val_f1_score: 0.0983 - val_roc_auc: 0.5649 - val_pr_auc: 0.6306 - val_cohen_kappa: 0.0265 - lr: 2.0000e-05\n",
      "Epoch 11/100\n",
      "921/921 [==============================] - 173s 188ms/step - loss: 0.4650 - tp: 7655.0000 - fp: 1331.0000 - tn: 17411.0000 - fn: 3050.0000 - binary_acc: 0.8512 - precision: 0.8519 - recall: 0.7151 - f1_score: 0.7775 - roc_auc: 0.9217 - pr_auc: 0.8811 - cohen_kappa: 0.6670 - val_loss: 1.9118 - val_tp: 201.0000 - val_fp: 62.0000 - val_tn: 3131.0000 - val_fn: 3967.0000 - val_binary_acc: 0.4527 - val_precision: 0.7643 - val_recall: 0.0482 - val_f1_score: 0.0907 - val_roc_auc: 0.5738 - val_pr_auc: 0.6376 - val_cohen_kappa: 0.0252 - lr: 2.0000e-05\n",
      "Epoch 12/100\n",
      "921/921 [==============================] - 172s 187ms/step - loss: 0.4429 - tp: 7914.0000 - fp: 1179.0000 - tn: 17563.0000 - fn: 2791.0000 - binary_acc: 0.8652 - precision: 0.8703 - recall: 0.7393 - f1_score: 0.7995 - roc_auc: 0.9340 - pr_auc: 0.9000 - cohen_kappa: 0.6989 - val_loss: 1.9600 - val_tp: 200.0000 - val_fp: 52.0000 - val_tn: 3141.0000 - val_fn: 3968.0000 - val_binary_acc: 0.4539 - val_precision: 0.7937 - val_recall: 0.0480 - val_f1_score: 0.0905 - val_roc_auc: 0.5881 - val_pr_auc: 0.6506 - val_cohen_kappa: 0.0277 - lr: 2.0000e-05\n",
      "Epoch 13/100\n",
      "921/921 [==============================] - ETA: 0s - loss: 0.4161 - tp: 8268.0000 - fp: 1024.0000 - tn: 17718.0000 - fn: 2437.0000 - binary_acc: 0.8825 - precision: 0.8898 - recall: 0.7723 - f1_score: 0.8269 - roc_auc: 0.9489 - pr_auc: 0.9221 - cohen_kappa: 0.7386\n",
      "Epoch 13: ReduceLROnPlateau reducing learning rate to 3.999999898951501e-06.\n",
      "921/921 [==============================] - 173s 187ms/step - loss: 0.4161 - tp: 8268.0000 - fp: 1024.0000 - tn: 17718.0000 - fn: 2437.0000 - binary_acc: 0.8825 - precision: 0.8898 - recall: 0.7723 - f1_score: 0.8269 - roc_auc: 0.9489 - pr_auc: 0.9221 - cohen_kappa: 0.7386 - val_loss: 1.8749 - val_tp: 248.0000 - val_fp: 80.0000 - val_tn: 3113.0000 - val_fn: 3920.0000 - val_binary_acc: 0.4566 - val_precision: 0.7561 - val_recall: 0.0595 - val_f1_score: 0.1103 - val_roc_auc: 0.5712 - val_pr_auc: 0.6333 - val_cohen_kappa: 0.0302 - lr: 2.0000e-05\n",
      "Epoch 14/100\n"
     ]
    },
    {
     "name": "stdout",
     "output_type": "stream",
     "text": [
      "921/921 [==============================] - 178s 193ms/step - loss: 0.3716 - tp: 8766.0000 - fp: 788.0000 - tn: 17954.0000 - fn: 1939.0000 - binary_acc: 0.9074 - precision: 0.9175 - recall: 0.8189 - f1_score: 0.8654 - roc_auc: 0.9681 - pr_auc: 0.9508 - cohen_kappa: 0.7952 - val_loss: 2.0677 - val_tp: 206.0000 - val_fp: 66.0000 - val_tn: 3127.0000 - val_fn: 3962.0000 - val_binary_acc: 0.4528 - val_precision: 0.7574 - val_recall: 0.0494 - val_f1_score: 0.0928 - val_roc_auc: 0.5747 - val_pr_auc: 0.6372 - val_cohen_kappa: 0.0252 - lr: 4.0000e-06\n",
      "Epoch 15/100\n",
      "921/921 [==============================] - 180s 195ms/step - loss: 0.3588 - tp: 8892.0000 - fp: 706.0000 - tn: 18036.0000 - fn: 1813.0000 - binary_acc: 0.9145 - precision: 0.9264 - recall: 0.8306 - f1_score: 0.8759 - roc_auc: 0.9724 - pr_auc: 0.9572 - cohen_kappa: 0.8110 - val_loss: 2.1727 - val_tp: 207.0000 - val_fp: 59.0000 - val_tn: 3134.0000 - val_fn: 3961.0000 - val_binary_acc: 0.4539 - val_precision: 0.7782 - val_recall: 0.0497 - val_f1_score: 0.0934 - val_roc_auc: 0.5758 - val_pr_auc: 0.6377 - val_cohen_kappa: 0.0273 - lr: 4.0000e-06\n",
      "Epoch 16/100\n",
      "921/921 [==============================] - 180s 196ms/step - loss: 0.3489 - tp: 9027.0000 - fp: 643.0000 - tn: 18099.0000 - fn: 1678.0000 - binary_acc: 0.9212 - precision: 0.9335 - recall: 0.8433 - f1_score: 0.8861 - roc_auc: 0.9759 - pr_auc: 0.9627 - cohen_kappa: 0.8261 - val_loss: 2.3201 - val_tp: 189.0000 - val_fp: 55.0000 - val_tn: 3138.0000 - val_fn: 3979.0000 - val_binary_acc: 0.4520 - val_precision: 0.7746 - val_recall: 0.0453 - val_f1_score: 0.0857 - val_roc_auc: 0.5737 - val_pr_auc: 0.6363 - val_cohen_kappa: 0.0246 - lr: 4.0000e-06\n",
      "Epoch 17/100\n",
      "921/921 [==============================] - 173s 188ms/step - loss: 0.3365 - tp: 9151.0000 - fp: 582.0000 - tn: 18160.0000 - fn: 1554.0000 - binary_acc: 0.9275 - precision: 0.9402 - recall: 0.8548 - f1_score: 0.8955 - roc_auc: 0.9793 - pr_auc: 0.9678 - cohen_kappa: 0.8401 - val_loss: 2.0789 - val_tp: 258.0000 - val_fp: 74.0000 - val_tn: 3119.0000 - val_fn: 3910.0000 - val_binary_acc: 0.4588 - val_precision: 0.7771 - val_recall: 0.0619 - val_f1_score: 0.1147 - val_roc_auc: 0.5768 - val_pr_auc: 0.6398 - val_cohen_kappa: 0.0340 - lr: 4.0000e-06\n",
      "Epoch 18/100\n",
      "921/921 [==============================] - ETA: 0s - loss: 0.3268 - tp: 9236.0000 - fp: 576.0000 - tn: 18166.0000 - fn: 1469.0000 - binary_acc: 0.9306 - precision: 0.9413 - recall: 0.8628 - f1_score: 0.9003 - roc_auc: 0.9821 - pr_auc: 0.9718 - cohen_kappa: 0.8472\n",
      "Epoch 18: ReduceLROnPlateau reducing learning rate to 1e-06.\n",
      "921/921 [==============================] - 172s 186ms/step - loss: 0.3268 - tp: 9236.0000 - fp: 576.0000 - tn: 18166.0000 - fn: 1469.0000 - binary_acc: 0.9306 - precision: 0.9413 - recall: 0.8628 - f1_score: 0.9003 - roc_auc: 0.9821 - pr_auc: 0.9718 - cohen_kappa: 0.8472 - val_loss: 2.2750 - val_tp: 215.0000 - val_fp: 58.0000 - val_tn: 3135.0000 - val_fn: 3953.0000 - val_binary_acc: 0.4551 - val_precision: 0.7875 - val_recall: 0.0516 - val_f1_score: 0.0968 - val_roc_auc: 0.5775 - val_pr_auc: 0.6391 - val_cohen_kappa: 0.0292 - lr: 4.0000e-06\n",
      "Epoch 19/100\n",
      "921/921 [==============================] - 170s 184ms/step - loss: 0.3134 - tp: 9380.0000 - fp: 465.0000 - tn: 18277.0000 - fn: 1325.0000 - binary_acc: 0.9392 - precision: 0.9528 - recall: 0.8762 - f1_score: 0.9129 - roc_auc: 0.9858 - pr_auc: 0.9775 - cohen_kappa: 0.8663 - val_loss: 2.2384 - val_tp: 232.0000 - val_fp: 67.0000 - val_tn: 3126.0000 - val_fn: 3936.0000 - val_binary_acc: 0.4562 - val_precision: 0.7759 - val_recall: 0.0557 - val_f1_score: 0.1039 - val_roc_auc: 0.5789 - val_pr_auc: 0.6403 - val_cohen_kappa: 0.0304 - lr: 1.0000e-06\n",
      "Epoch 20/100\n",
      "921/921 [==============================] - 169s 184ms/step - loss: 0.3091 - tp: 9464.0000 - fp: 447.0000 - tn: 18295.0000 - fn: 1241.0000 - binary_acc: 0.9427 - precision: 0.9549 - recall: 0.8841 - f1_score: 0.9181 - roc_auc: 0.9869 - pr_auc: 0.9794 - cohen_kappa: 0.8741 - val_loss: 2.2421 - val_tp: 224.0000 - val_fp: 64.0000 - val_tn: 3129.0000 - val_fn: 3944.0000 - val_binary_acc: 0.4555 - val_precision: 0.7778 - val_recall: 0.0537 - val_f1_score: 0.1005 - val_roc_auc: 0.5771 - val_pr_auc: 0.6390 - val_cohen_kappa: 0.0295 - lr: 1.0000e-06\n",
      "Epoch 21/100\n",
      "921/921 [==============================] - 170s 185ms/step - loss: 0.3072 - tp: 9452.0000 - fp: 466.0000 - tn: 18276.0000 - fn: 1253.0000 - binary_acc: 0.9416 - precision: 0.9530 - recall: 0.8830 - f1_score: 0.9166 - roc_auc: 0.9871 - pr_auc: 0.9797 - cohen_kappa: 0.8718 - val_loss: 2.2340 - val_tp: 234.0000 - val_fp: 67.0000 - val_tn: 3126.0000 - val_fn: 3934.0000 - val_binary_acc: 0.4565 - val_precision: 0.7774 - val_recall: 0.0561 - val_f1_score: 0.1047 - val_roc_auc: 0.5758 - val_pr_auc: 0.6388 - val_cohen_kappa: 0.0308 - lr: 1.0000e-06\n",
      "Epoch 22/100\n",
      "921/921 [==============================] - 177s 193ms/step - loss: 0.3040 - tp: 9473.0000 - fp: 415.0000 - tn: 18327.0000 - fn: 1232.0000 - binary_acc: 0.9441 - precision: 0.9580 - recall: 0.8849 - f1_score: 0.9200 - roc_auc: 0.9881 - pr_auc: 0.9811 - cohen_kappa: 0.8771 - val_loss: 2.2409 - val_tp: 238.0000 - val_fp: 68.0000 - val_tn: 3125.0000 - val_fn: 3930.0000 - val_binary_acc: 0.4569 - val_precision: 0.7778 - val_recall: 0.0571 - val_f1_score: 0.1064 - val_roc_auc: 0.5763 - val_pr_auc: 0.6395 - val_cohen_kappa: 0.0314 - lr: 1.0000e-06\n",
      "Epoch 23/100\n",
      "921/921 [==============================] - 176s 192ms/step - loss: 0.3004 - tp: 9532.0000 - fp: 408.0000 - tn: 18334.0000 - fn: 1173.0000 - binary_acc: 0.9463 - precision: 0.9590 - recall: 0.8904 - f1_score: 0.9234 - roc_auc: 0.9887 - pr_auc: 0.9822 - cohen_kappa: 0.8822 - val_loss: 2.2515 - val_tp: 240.0000 - val_fp: 65.0000 - val_tn: 3128.0000 - val_fn: 3928.0000 - val_binary_acc: 0.4575 - val_precision: 0.7869 - val_recall: 0.0576 - val_f1_score: 0.1073 - val_roc_auc: 0.5776 - val_pr_auc: 0.6397 - val_cohen_kappa: 0.0326 - lr: 1.0000e-06\n",
      "Epoch 23: early stopping\n"
     ]
    }
   ],
   "source": [
    "history = model.fit(\n",
    "    trainset,\n",
    "    epochs=100,\n",
    "    validation_data=validationset,\n",
    "    callbacks=[early_stopping, reduce_lr_on_plateau],\n",
    ")"
   ]
  },
  {
   "cell_type": "code",
   "execution_count": 47,
   "id": "d4fda3ed",
   "metadata": {},
   "outputs": [
    {
     "data": {
      "image/png": "[encoded data removed]",
      "text/plain": [
       "<Figure size 1296x1080 with 4 Axes>"
      ]
     },
     "metadata": {},
     "output_type": "display_data"
    }
   ],
   "source": [
    "plot_metrics(history)"
   ]
  },
  {
   "cell_type": "code",
   "execution_count": 48,
   "id": "21b3e659",
   "metadata": {
    "scrolled": false
   },
   "outputs": [
    {
     "name": "stdout",
     "output_type": "stream",
     "text": [
      "100/100 [==============================] - 11s 112ms/step - loss: 1.0607 - tp: 599.0000 - fp: 157.0000 - tn: 1510.0000 - fn: 931.0000 - binary_acc: 0.6597 - precision: 0.7923 - recall: 0.3915 - f1_score: 0.5241 - roc_auc: 0.7192 - pr_auc: 0.7361 - cohen_kappa: 0.3036\n"
     ]
    }
   ],
   "source": [
    "# get the loss value & metrics values for the model in test mode\n",
    "evaluation_metrics = model.evaluate(testset, verbose=1)"
   ]
  },
  {
   "cell_type": "code",
   "execution_count": 49,
   "id": "9fab3d36",
   "metadata": {},
   "outputs": [
    {
     "name": "stdout",
     "output_type": "stream",
     "text": [
      "test loss   : 1.0606653690338135\n",
      "tp          : 599.0\n",
      "fp          : 157.0\n",
      "tn          : 1510.0\n",
      "fn          : 931.0\n",
      "binary_acc  : 0.659680962562561\n",
      "precision   : 0.7923280596733093\n",
      "recall      : 0.3915032744407654\n",
      "f1_score    : 0.5240594744682312\n",
      "roc_auc     : 0.7192187309265137\n",
      "pr_auc      : 0.7360536456108093\n",
      "cohen_kappa : 0.30363398790359497\n"
     ]
    }
   ],
   "source": [
    "loss = evaluation_metrics.pop(0)\n",
    "\n",
    "print(f\"test loss   : {loss}\")\n",
    "for metric, score in zip(METRICS, evaluation_metrics):\n",
    "\n",
    "    print(f\"{metric.name + ' ' * (12 - len(metric.name))}: {score}\")"
   ]
  },
  {
   "cell_type": "code",
   "execution_count": 50,
   "id": "6af0810e",
   "metadata": {},
   "outputs": [
    {
     "name": "stdout",
     "output_type": "stream",
     "text": [
      "100/100 [==============================] - 10s 100ms/step\n"
     ]
    }
   ],
   "source": [
    "# get predictions for the test dataset\n",
    "preds = model.predict(testset, verbose=1)"
   ]
  },
  {
   "cell_type": "code",
   "execution_count": 51,
   "id": "a425738d",
   "metadata": {},
   "outputs": [],
   "source": [
    "temp_testset = ref_testset.copy()\n",
    "\n",
    "temp_testset[\"label\"] = temp_testset[\"label\"].map(int)"
   ]
  },
  {
   "cell_type": "code",
   "execution_count": 52,
   "id": "7846413c",
   "metadata": {},
   "outputs": [
    {
     "data": {
      "text/plain": [
       "0.3036339270091464"
      ]
     },
     "execution_count": 52,
     "metadata": {},
     "output_type": "execute_result"
    }
   ],
   "source": [
    "cohen_kappa_score(\n",
    "    temp_testset[\"label\"].values,\n",
    "    np.vectorize(lambda x: 1 if x > 0.5 else 0)(preds.ravel()),\n",
    ")"
   ]
  },
  {
   "cell_type": "code",
   "execution_count": 53,
   "id": "d1306b32",
   "metadata": {},
   "outputs": [],
   "source": [
    "temp_testset[\"prediction\"] = preds.ravel()"
   ]
  },
  {
   "cell_type": "code",
   "execution_count": 54,
   "id": "e7620629",
   "metadata": {},
   "outputs": [],
   "source": [
    "temp_testset = pd.DataFrame(\n",
    "    [*study_oriented_transformation(temp_testset)],\n",
    "    columns=[\"study\", \"label\", \"prediction\"],\n",
    ")"
   ]
  },
  {
   "cell_type": "code",
   "execution_count": 55,
   "id": "82ed6666",
   "metadata": {
    "scrolled": true
   },
   "outputs": [
    {
     "data": {
      "text/plain": [
       "0.33004350049280795"
      ]
     },
     "execution_count": 55,
     "metadata": {},
     "output_type": "execute_result"
    }
   ],
   "source": [
    "cohen_kappa_score(temp_testset[\"label\"].values, temp_testset[\"prediction\"].values)"
   ]
  },
  {
   "cell_type": "code",
   "execution_count": 56,
   "id": "ba8cf826",
   "metadata": {},
   "outputs": [],
   "source": [
    "# model naming convention: {architecture}-{study-type}-{num-parameters}.h5\n",
    "#\n",
    "# to load model:\n",
    "# model = tf.keras.models.load_model(\n",
    "#     '../models/cnn-all-study-types-3305473.h5',\n",
    "#     custom_objects={'F1Score': F1Score}\n",
    "# )\n",
    "model.save(\"../models/cnn-all-study-types-3305473.h5\")"
   ]
  },
  {
   "cell_type": "code",
   "execution_count": 57,
   "id": "9491c46f",
   "metadata": {},
   "outputs": [],
   "source": [
    "clean_up(model)\n",
    "del temp_testset"
   ]
  },
  {
   "cell_type": "markdown",
   "id": "5ba8e964",
   "metadata": {},
   "source": [
    "#### Only on XR_SHOULDER study type"
   ]
  },
  {
   "cell_type": "code",
   "execution_count": 74,
   "id": "ce4fc24b",
   "metadata": {},
   "outputs": [
    {
     "name": "stdout",
     "output_type": "stream",
     "text": [
      "Found 6704 validated image filenames belonging to 2 classes.\n"
     ]
    }
   ],
   "source": [
    "trainset = training.flow_from_dataframe(\n",
    "    dataframe=ref_trainset[ref_trainset[\"study_type\"] == \"XR_SHOULDER\"],\n",
    "    x_col=\"image_path\",\n",
    "    y_col=\"label\",\n",
    "    target_size=(IMAGE_WIDTH, IMAGE_HEIGHT),\n",
    "    class_mode=\"binary\",\n",
    "    batch_size=32,\n",
    "    seed=SEED,\n",
    "    shuffle=True,\n",
    "    subset=\"training\",\n",
    ")"
   ]
  },
  {
   "cell_type": "code",
   "execution_count": 75,
   "id": "deed28b0",
   "metadata": {},
   "outputs": [
    {
     "name": "stdout",
     "output_type": "stream",
     "text": [
      "Found 1675 validated image filenames belonging to 2 classes.\n"
     ]
    }
   ],
   "source": [
    "validationset = training.flow_from_dataframe(\n",
    "    dataframe=ref_trainset[ref_trainset[\"study_type\"] == \"XR_SHOULDER\"],\n",
    "    x_col=\"image_path\",\n",
    "    y_col=\"label\",\n",
    "    target_size=(IMAGE_WIDTH, IMAGE_HEIGHT),\n",
    "    class_mode=\"binary\",\n",
    "    batch_size=32,\n",
    "    seed=SEED,\n",
    "    shuffle=False,\n",
    "    subset=\"validation\",\n",
    ")"
   ]
  },
  {
   "cell_type": "code",
   "execution_count": 76,
   "id": "186cf77f",
   "metadata": {},
   "outputs": [
    {
     "name": "stdout",
     "output_type": "stream",
     "text": [
      "Found 563 validated image filenames belonging to 2 classes.\n"
     ]
    }
   ],
   "source": [
    "testset = testing.flow_from_dataframe(\n",
    "    dataframe=ref_testset[ref_testset[\"study_type\"] == \"XR_SHOULDER\"],\n",
    "    x_col=\"image_path\",\n",
    "    y_col=\"label\",\n",
    "    target_size=(IMAGE_WIDTH, IMAGE_HEIGHT),\n",
    "    class_mode=\"binary\",\n",
    "    batch_size=32,\n",
    "    shuffle=False,  # this is very important in order to properly use raw predictions to evaluate on study-level!\n",
    "    seed=SEED,\n",
    ")"
   ]
  },
  {
   "cell_type": "code",
   "execution_count": 77,
   "id": "0c48907f",
   "metadata": {},
   "outputs": [],
   "source": [
    "model = make_cnn_model()"
   ]
  },
  {
   "cell_type": "code",
   "execution_count": 78,
   "id": "981e8baa",
   "metadata": {
    "scrolled": false
   },
   "outputs": [
    {
     "name": "stdout",
     "output_type": "stream",
     "text": [
      "Epoch 1/100\n",
      "210/210 [==============================] - 40s 181ms/step - loss: 2.5243 - tp: 406.0000 - fp: 377.0000 - tn: 4047.0000 - fn: 2437.0000 - binary_acc: 0.6128 - precision: 0.5185 - recall: 0.1428 - f1_score: 0.2239 - roc_auc: 0.5585 - pr_auc: 0.4591 - cohen_kappa: 0.0662 - val_loss: 15.5182 - val_tp: 0.0000e+00 - val_fp: 0.0000e+00 - val_tn: 72.0000 - val_fn: 1603.0000 - val_binary_acc: 0.0430 - val_precision: 0.0000e+00 - val_recall: 0.0000e+00 - val_f1_score: 0.0000e+00 - val_roc_auc: 0.5000 - val_pr_auc: 0.9570 - val_cohen_kappa: 0.0000e+00 - lr: 1.0000e-04\n",
      "Epoch 2/100\n",
      "210/210 [==============================] - 36s 172ms/step - loss: 2.0795 - tp: 562.0000 - fp: 491.0000 - tn: 3648.0000 - fn: 2003.0000 - binary_acc: 0.6280 - precision: 0.5337 - recall: 0.2191 - f1_score: 0.3107 - roc_auc: 0.6107 - pr_auc: 0.4858 - cohen_kappa: 0.1132 - val_loss: 5.1594 - val_tp: 4.0000 - val_fp: 0.0000e+00 - val_tn: 72.0000 - val_fn: 1599.0000 - val_binary_acc: 0.0454 - val_precision: 1.0000 - val_recall: 0.0025 - val_f1_score: 0.0050 - val_roc_auc: 0.5090 - val_pr_auc: 0.9595 - val_cohen_kappa: 2.1499e-04 - lr: 1.0000e-04\n",
      "Epoch 3/100\n",
      "210/210 [==============================] - 40s 192ms/step - loss: 1.7602 - tp: 823.0000 - fp: 566.0000 - tn: 3573.0000 - fn: 1742.0000 - binary_acc: 0.6557 - precision: 0.5925 - recall: 0.3209 - f1_score: 0.4163 - roc_auc: 0.6510 - pr_auc: 0.5354 - cohen_kappa: 0.2017 - val_loss: 2.3707 - val_tp: 375.0000 - val_fp: 9.0000 - val_tn: 63.0000 - val_fn: 1228.0000 - val_binary_acc: 0.2615 - val_precision: 0.9766 - val_recall: 0.2339 - val_f1_score: 0.3775 - val_roc_auc: 0.6228 - val_pr_auc: 0.9717 - val_cohen_kappa: 0.0120 - lr: 1.0000e-04\n",
      "Epoch 4/100\n",
      "210/210 [==============================] - 42s 199ms/step - loss: 1.4974 - tp: 1204.0000 - fp: 686.0000 - tn: 3453.0000 - fn: 1361.0000 - binary_acc: 0.6947 - precision: 0.6370 - recall: 0.4694 - f1_score: 0.5405 - roc_auc: 0.7255 - pr_auc: 0.6242 - cohen_kappa: 0.3196 - val_loss: 1.7178 - val_tp: 696.0000 - val_fp: 5.0000 - val_tn: 67.0000 - val_fn: 907.0000 - val_binary_acc: 0.4555 - val_precision: 0.9929 - val_recall: 0.4342 - val_f1_score: 0.6042 - val_roc_auc: 0.7389 - val_pr_auc: 0.9812 - val_cohen_kappa: 0.0522 - lr: 1.0000e-04\n",
      "Epoch 5/100\n",
      "210/210 [==============================] - 42s 198ms/step - loss: 1.3176 - tp: 1266.0000 - fp: 605.0000 - tn: 3534.0000 - fn: 1299.0000 - binary_acc: 0.7160 - precision: 0.6766 - recall: 0.4936 - f1_score: 0.5708 - roc_auc: 0.7623 - pr_auc: 0.6808 - cohen_kappa: 0.3662 - val_loss: 1.5275 - val_tp: 784.0000 - val_fp: 8.0000 - val_tn: 64.0000 - val_fn: 819.0000 - val_binary_acc: 0.5063 - val_precision: 0.9899 - val_recall: 0.4891 - val_f1_score: 0.6547 - val_roc_auc: 0.7218 - val_pr_auc: 0.9825 - val_cohen_kappa: 0.0593 - lr: 1.0000e-04\n",
      "Epoch 6/100\n",
      "210/210 [==============================] - 42s 197ms/step - loss: 1.1684 - tp: 1356.0000 - fp: 560.0000 - tn: 3579.0000 - fn: 1209.0000 - binary_acc: 0.7361 - precision: 0.7077 - recall: 0.5287 - f1_score: 0.6052 - roc_auc: 0.7970 - pr_auc: 0.7275 - cohen_kappa: 0.4132 - val_loss: 1.1206 - val_tp: 1187.0000 - val_fp: 29.0000 - val_tn: 43.0000 - val_fn: 416.0000 - val_binary_acc: 0.7343 - val_precision: 0.9762 - val_recall: 0.7405 - val_f1_score: 0.8421 - val_roc_auc: 0.7486 - val_pr_auc: 0.9844 - val_cohen_kappa: 0.0947 - lr: 1.0000e-04\n",
      "Epoch 7/100\n",
      "210/210 [==============================] - 42s 198ms/step - loss: 1.0670 - tp: 1451.0000 - fp: 554.0000 - tn: 3585.0000 - fn: 1114.0000 - binary_acc: 0.7512 - precision: 0.7237 - recall: 0.5657 - f1_score: 0.6350 - roc_auc: 0.8167 - pr_auc: 0.7547 - cohen_kappa: 0.4505 - val_loss: 1.4472 - val_tp: 701.0000 - val_fp: 9.0000 - val_tn: 63.0000 - val_fn: 902.0000 - val_binary_acc: 0.4561 - val_precision: 0.9873 - val_recall: 0.4373 - val_f1_score: 0.6061 - val_roc_auc: 0.7361 - val_pr_auc: 0.9833 - val_cohen_kappa: 0.0451 - lr: 1.0000e-04\n",
      "Epoch 8/100\n",
      "210/210 [==============================] - 41s 197ms/step - loss: 0.9803 - tp: 1558.0000 - fp: 510.0000 - tn: 3629.0000 - fn: 1007.0000 - binary_acc: 0.7737 - precision: 0.7534 - recall: 0.6074 - f1_score: 0.6726 - roc_auc: 0.8395 - pr_auc: 0.7809 - cohen_kappa: 0.5027 - val_loss: 1.5633 - val_tp: 594.0000 - val_fp: 4.0000 - val_tn: 68.0000 - val_fn: 1009.0000 - val_binary_acc: 0.3952 - val_precision: 0.9933 - val_recall: 0.3706 - val_f1_score: 0.5398 - val_roc_auc: 0.7276 - val_pr_auc: 0.9840 - val_cohen_kappa: 0.0411 - lr: 1.0000e-04\n",
      "Epoch 9/100\n",
      "210/210 [==============================] - 41s 195ms/step - loss: 0.8971 - tp: 1702.0000 - fp: 461.0000 - tn: 3678.0000 - fn: 863.0000 - binary_acc: 0.8025 - precision: 0.7869 - recall: 0.6635 - f1_score: 0.7200 - roc_auc: 0.8729 - pr_auc: 0.8235 - cohen_kappa: 0.5691 - val_loss: 1.2987 - val_tp: 814.0000 - val_fp: 14.0000 - val_tn: 58.0000 - val_fn: 789.0000 - val_binary_acc: 0.5206 - val_precision: 0.9831 - val_recall: 0.5078 - val_f1_score: 0.6697 - val_roc_auc: 0.7254 - val_pr_auc: 0.9831 - val_cohen_kappa: 0.0510 - lr: 1.0000e-04\n",
      "Epoch 10/100\n",
      "210/210 [==============================] - 43s 206ms/step - loss: 0.8346 - tp: 1816.0000 - fp: 429.0000 - tn: 3710.0000 - fn: 749.0000 - binary_acc: 0.8243 - precision: 0.8089 - recall: 0.7080 - f1_score: 0.7551 - roc_auc: 0.8959 - pr_auc: 0.8552 - cohen_kappa: 0.6190 - val_loss: 0.8328 - val_tp: 1342.0000 - val_fp: 43.0000 - val_tn: 29.0000 - val_fn: 261.0000 - val_binary_acc: 0.8185 - val_precision: 0.9690 - val_recall: 0.8372 - val_f1_score: 0.8983 - val_roc_auc: 0.6961 - val_pr_auc: 0.9788 - val_cohen_kappa: 0.0981 - lr: 1.0000e-04\n",
      "Epoch 11/100\n",
      "210/210 [==============================] - 44s 211ms/step - loss: 0.7662 - tp: 1913.0000 - fp: 350.0000 - tn: 3789.0000 - fn: 652.0000 - binary_acc: 0.8505 - precision: 0.8453 - recall: 0.7458 - f1_score: 0.7925 - roc_auc: 0.9226 - pr_auc: 0.8906 - cohen_kappa: 0.6764 - val_loss: 1.1464 - val_tp: 966.0000 - val_fp: 16.0000 - val_tn: 56.0000 - val_fn: 637.0000 - val_binary_acc: 0.6101 - val_precision: 0.9837 - val_recall: 0.6026 - val_f1_score: 0.7474 - val_roc_auc: 0.7428 - val_pr_auc: 0.9846 - val_cohen_kappa: 0.0743 - lr: 1.0000e-04\n",
      "Epoch 12/100\n",
      "210/210 [==============================] - 45s 216ms/step - loss: 0.7208 - tp: 1994.0000 - fp: 340.0000 - tn: 3799.0000 - fn: 571.0000 - binary_acc: 0.8641 - precision: 0.8543 - recall: 0.7774 - f1_score: 0.8140 - roc_auc: 0.9367 - pr_auc: 0.9105 - cohen_kappa: 0.7074 - val_loss: 1.2531 - val_tp: 859.0000 - val_fp: 15.0000 - val_tn: 57.0000 - val_fn: 744.0000 - val_binary_acc: 0.5469 - val_precision: 0.9828 - val_recall: 0.5359 - val_f1_score: 0.6936 - val_roc_auc: 0.7095 - val_pr_auc: 0.9822 - val_cohen_kappa: 0.0561 - lr: 1.0000e-04\n",
      "Epoch 13/100\n",
      "210/210 [==============================] - 43s 205ms/step - loss: 0.6695 - tp: 2077.0000 - fp: 285.0000 - tn: 3854.0000 - fn: 488.0000 - binary_acc: 0.8847 - precision: 0.8793 - recall: 0.8097 - f1_score: 0.8431 - roc_auc: 0.9533 - pr_auc: 0.9299 - cohen_kappa: 0.7522 - val_loss: 1.5414 - val_tp: 723.0000 - val_fp: 7.0000 - val_tn: 65.0000 - val_fn: 880.0000 - val_binary_acc: 0.4704 - val_precision: 0.9904 - val_recall: 0.4510 - val_f1_score: 0.6198 - val_roc_auc: 0.7265 - val_pr_auc: 0.9836 - val_cohen_kappa: 0.0521 - lr: 1.0000e-04\n",
      "Epoch 14/100\n",
      "210/210 [==============================] - 42s 199ms/step - loss: 0.6174 - tp: 2205.0000 - fp: 229.0000 - tn: 3910.0000 - fn: 360.0000 - binary_acc: 0.9121 - precision: 0.9059 - recall: 0.8596 - f1_score: 0.8822 - roc_auc: 0.9704 - pr_auc: 0.9558 - cohen_kappa: 0.8122 - val_loss: 1.3809 - val_tp: 815.0000 - val_fp: 17.0000 - val_tn: 55.0000 - val_fn: 788.0000 - val_binary_acc: 0.5194 - val_precision: 0.9796 - val_recall: 0.5084 - val_f1_score: 0.6694 - val_roc_auc: 0.7118 - val_pr_auc: 0.9823 - val_cohen_kappa: 0.0445 - lr: 1.0000e-04\n",
      "Epoch 15/100\n",
      "210/210 [==============================] - ETA: 0s - loss: 0.5810 - tp: 2275.0000 - fp: 200.0000 - tn: 3939.0000 - fn: 290.0000 - binary_acc: 0.9269 - precision: 0.9192 - recall: 0.8869 - f1_score: 0.9028 - roc_auc: 0.9802 - pr_auc: 0.9719 - cohen_kappa: 0.8443\n",
      "Epoch 15: ReduceLROnPlateau reducing learning rate to 1.9999999494757503e-05.\n",
      "210/210 [==============================] - 40s 192ms/step - loss: 0.5810 - tp: 2275.0000 - fp: 200.0000 - tn: 3939.0000 - fn: 290.0000 - binary_acc: 0.9269 - precision: 0.9192 - recall: 0.8869 - f1_score: 0.9028 - roc_auc: 0.9802 - pr_auc: 0.9719 - cohen_kappa: 0.8443 - val_loss: 1.5993 - val_tp: 769.0000 - val_fp: 14.0000 - val_tn: 58.0000 - val_fn: 834.0000 - val_binary_acc: 0.4937 - val_precision: 0.9821 - val_recall: 0.4797 - val_f1_score: 0.6446 - val_roc_auc: 0.7027 - val_pr_auc: 0.9812 - val_cohen_kappa: 0.0443 - lr: 1.0000e-04\n"
     ]
    },
    {
     "name": "stdout",
     "output_type": "stream",
     "text": [
      "Epoch 16/100\n",
      "210/210 [==============================] - 42s 198ms/step - loss: 0.5021 - tp: 2419.0000 - fp: 73.0000 - tn: 4066.0000 - fn: 146.0000 - binary_acc: 0.9673 - precision: 0.9707 - recall: 0.9431 - f1_score: 0.9567 - roc_auc: 0.9953 - pr_auc: 0.9929 - cohen_kappa: 0.9305 - val_loss: 1.6245 - val_tp: 760.0000 - val_fp: 8.0000 - val_tn: 64.0000 - val_fn: 843.0000 - val_binary_acc: 0.4919 - val_precision: 0.9896 - val_recall: 0.4741 - val_f1_score: 0.6411 - val_roc_auc: 0.7117 - val_pr_auc: 0.9825 - val_cohen_kappa: 0.0555 - lr: 2.0000e-05\n",
      "Epoch 17/100\n",
      "210/210 [==============================] - 42s 199ms/step - loss: 0.4772 - tp: 2446.0000 - fp: 48.0000 - tn: 4091.0000 - fn: 119.0000 - binary_acc: 0.9751 - precision: 0.9808 - recall: 0.9536 - f1_score: 0.9670 - roc_auc: 0.9969 - pr_auc: 0.9949 - cohen_kappa: 0.9470 - val_loss: 1.4663 - val_tp: 875.0000 - val_fp: 15.0000 - val_tn: 57.0000 - val_fn: 728.0000 - val_binary_acc: 0.5564 - val_precision: 0.9831 - val_recall: 0.5459 - val_f1_score: 0.7020 - val_roc_auc: 0.7164 - val_pr_auc: 0.9827 - val_cohen_kappa: 0.0589 - lr: 2.0000e-05\n",
      "Epoch 18/100\n",
      "210/210 [==============================] - 42s 199ms/step - loss: 0.4586 - tp: 2467.0000 - fp: 58.0000 - tn: 4081.0000 - fn: 98.0000 - binary_acc: 0.9767 - precision: 0.9770 - recall: 0.9618 - f1_score: 0.9694 - roc_auc: 0.9978 - pr_auc: 0.9965 - cohen_kappa: 0.9506 - val_loss: 1.4431 - val_tp: 891.0000 - val_fp: 19.0000 - val_tn: 53.0000 - val_fn: 712.0000 - val_binary_acc: 0.5636 - val_precision: 0.9791 - val_recall: 0.5558 - val_f1_score: 0.7091 - val_roc_auc: 0.7198 - val_pr_auc: 0.9829 - val_cohen_kappa: 0.0522 - lr: 2.0000e-05\n",
      "Epoch 19/100\n",
      "210/210 [==============================] - 42s 199ms/step - loss: 0.4444 - tp: 2482.0000 - fp: 46.0000 - tn: 4093.0000 - fn: 83.0000 - binary_acc: 0.9808 - precision: 0.9818 - recall: 0.9676 - f1_score: 0.9747 - roc_auc: 0.9982 - pr_auc: 0.9971 - cohen_kappa: 0.9592 - val_loss: 1.4843 - val_tp: 871.0000 - val_fp: 15.0000 - val_tn: 57.0000 - val_fn: 732.0000 - val_binary_acc: 0.5540 - val_precision: 0.9831 - val_recall: 0.5434 - val_f1_score: 0.6999 - val_roc_auc: 0.7139 - val_pr_auc: 0.9824 - val_cohen_kappa: 0.0582 - lr: 2.0000e-05\n",
      "Epoch 20/100\n",
      "210/210 [==============================] - ETA: 0s - loss: 0.4299 - tp: 2493.0000 - fp: 40.0000 - tn: 4099.0000 - fn: 72.0000 - binary_acc: 0.9833 - precision: 0.9842 - recall: 0.9719 - f1_score: 0.9780 - roc_auc: 0.9987 - pr_auc: 0.9980 - cohen_kappa: 0.9646\n",
      "Epoch 20: ReduceLROnPlateau reducing learning rate to 3.999999898951501e-06.\n",
      "210/210 [==============================] - 43s 206ms/step - loss: 0.4299 - tp: 2493.0000 - fp: 40.0000 - tn: 4099.0000 - fn: 72.0000 - binary_acc: 0.9833 - precision: 0.9842 - recall: 0.9719 - f1_score: 0.9780 - roc_auc: 0.9987 - pr_auc: 0.9980 - cohen_kappa: 0.9646 - val_loss: 1.5825 - val_tp: 834.0000 - val_fp: 15.0000 - val_tn: 57.0000 - val_fn: 769.0000 - val_binary_acc: 0.5319 - val_precision: 0.9823 - val_recall: 0.5203 - val_f1_score: 0.6803 - val_roc_auc: 0.7059 - val_pr_auc: 0.9814 - val_cohen_kappa: 0.0520 - lr: 2.0000e-05\n",
      "Epoch 21/100\n",
      "210/210 [==============================] - 41s 196ms/step - loss: 0.4150 - tp: 2501.0000 - fp: 18.0000 - tn: 4121.0000 - fn: 64.0000 - binary_acc: 0.9878 - precision: 0.9929 - recall: 0.9750 - f1_score: 0.9839 - roc_auc: 0.9993 - pr_auc: 0.9989 - cohen_kappa: 0.9740 - val_loss: 1.4615 - val_tp: 900.0000 - val_fp: 19.0000 - val_tn: 53.0000 - val_fn: 703.0000 - val_binary_acc: 0.5690 - val_precision: 0.9793 - val_recall: 0.5614 - val_f1_score: 0.7137 - val_roc_auc: 0.7071 - val_pr_auc: 0.9816 - val_cohen_kappa: 0.0537 - lr: 4.0000e-06\n",
      "Epoch 22/100\n",
      "210/210 [==============================] - 42s 201ms/step - loss: 0.4094 - tp: 2516.0000 - fp: 18.0000 - tn: 4121.0000 - fn: 49.0000 - binary_acc: 0.9900 - precision: 0.9929 - recall: 0.9809 - f1_score: 0.9869 - roc_auc: 0.9993 - pr_auc: 0.9990 - cohen_kappa: 0.9788 - val_loss: 1.6974 - val_tp: 779.0000 - val_fp: 11.0000 - val_tn: 61.0000 - val_fn: 824.0000 - val_binary_acc: 0.5015 - val_precision: 0.9861 - val_recall: 0.4860 - val_f1_score: 0.6511 - val_roc_auc: 0.7151 - val_pr_auc: 0.9827 - val_cohen_kappa: 0.0521 - lr: 4.0000e-06\n",
      "Epoch 23/100\n",
      "210/210 [==============================] - 41s 194ms/step - loss: 0.4038 - tp: 2519.0000 - fp: 10.0000 - tn: 4129.0000 - fn: 46.0000 - binary_acc: 0.9916 - precision: 0.9960 - recall: 0.9821 - f1_score: 0.9890 - roc_auc: 0.9996 - pr_auc: 0.9994 - cohen_kappa: 0.9823 - val_loss: 1.6140 - val_tp: 832.0000 - val_fp: 15.0000 - val_tn: 57.0000 - val_fn: 771.0000 - val_binary_acc: 0.5307 - val_precision: 0.9823 - val_recall: 0.5190 - val_f1_score: 0.6792 - val_roc_auc: 0.7099 - val_pr_auc: 0.9820 - val_cohen_kappa: 0.0517 - lr: 4.0000e-06\n",
      "Epoch 24/100\n",
      "210/210 [==============================] - 41s 194ms/step - loss: 0.4017 - tp: 2514.0000 - fp: 21.0000 - tn: 4118.0000 - fn: 51.0000 - binary_acc: 0.9893 - precision: 0.9917 - recall: 0.9801 - f1_score: 0.9859 - roc_auc: 0.9995 - pr_auc: 0.9992 - cohen_kappa: 0.9772 - val_loss: 1.5811 - val_tp: 850.0000 - val_fp: 16.0000 - val_tn: 56.0000 - val_fn: 753.0000 - val_binary_acc: 0.5409 - val_precision: 0.9815 - val_recall: 0.5303 - val_f1_score: 0.6885 - val_roc_auc: 0.7138 - val_pr_auc: 0.9824 - val_cohen_kappa: 0.0523 - lr: 4.0000e-06\n",
      "Epoch 25/100\n",
      "210/210 [==============================] - ETA: 0s - loss: 0.3964 - tp: 2527.0000 - fp: 17.0000 - tn: 4122.0000 - fn: 38.0000 - binary_acc: 0.9918 - precision: 0.9933 - recall: 0.9852 - f1_score: 0.9892 - roc_auc: 0.9996 - pr_auc: 0.9994 - cohen_kappa: 0.9826\n",
      "Epoch 25: ReduceLROnPlateau reducing learning rate to 1e-06.\n",
      "210/210 [==============================] - 43s 205ms/step - loss: 0.3964 - tp: 2527.0000 - fp: 17.0000 - tn: 4122.0000 - fn: 38.0000 - binary_acc: 0.9918 - precision: 0.9933 - recall: 0.9852 - f1_score: 0.9892 - roc_auc: 0.9996 - pr_auc: 0.9994 - cohen_kappa: 0.9826 - val_loss: 1.4186 - val_tp: 936.0000 - val_fp: 22.0000 - val_tn: 50.0000 - val_fn: 667.0000 - val_binary_acc: 0.5887 - val_precision: 0.9770 - val_recall: 0.5839 - val_f1_score: 0.7310 - val_roc_auc: 0.7086 - val_pr_auc: 0.9818 - val_cohen_kappa: 0.0527 - lr: 4.0000e-06\n",
      "Epoch 26/100\n",
      "210/210 [==============================] - 41s 196ms/step - loss: 0.3937 - tp: 2529.0000 - fp: 18.0000 - tn: 4121.0000 - fn: 36.0000 - binary_acc: 0.9919 - precision: 0.9929 - recall: 0.9860 - f1_score: 0.9894 - roc_auc: 0.9997 - pr_auc: 0.9995 - cohen_kappa: 0.9829 - val_loss: 1.5615 - val_tp: 861.0000 - val_fp: 15.0000 - val_tn: 57.0000 - val_fn: 742.0000 - val_binary_acc: 0.5481 - val_precision: 0.9829 - val_recall: 0.5371 - val_f1_score: 0.6946 - val_roc_auc: 0.7128 - val_pr_auc: 0.9823 - val_cohen_kappa: 0.0565 - lr: 1.0000e-06\n",
      "Epoch 27/100\n",
      "210/210 [==============================] - 43s 206ms/step - loss: 0.3931 - tp: 2527.0000 - fp: 14.0000 - tn: 4125.0000 - fn: 38.0000 - binary_acc: 0.9922 - precision: 0.9945 - recall: 0.9852 - f1_score: 0.9898 - roc_auc: 0.9996 - pr_auc: 0.9994 - cohen_kappa: 0.9836 - val_loss: 1.5669 - val_tp: 861.0000 - val_fp: 15.0000 - val_tn: 57.0000 - val_fn: 742.0000 - val_binary_acc: 0.5481 - val_precision: 0.9829 - val_recall: 0.5371 - val_f1_score: 0.6946 - val_roc_auc: 0.7117 - val_pr_auc: 0.9822 - val_cohen_kappa: 0.0565 - lr: 1.0000e-06\n",
      "Epoch 28/100\n",
      "210/210 [==============================] - 42s 201ms/step - loss: 0.3911 - tp: 2535.0000 - fp: 13.0000 - tn: 4126.0000 - fn: 30.0000 - binary_acc: 0.9936 - precision: 0.9949 - recall: 0.9883 - f1_score: 0.9916 - roc_auc: 0.9997 - pr_auc: 0.9996 - cohen_kappa: 0.9864 - val_loss: 1.5911 - val_tp: 846.0000 - val_fp: 15.0000 - val_tn: 57.0000 - val_fn: 757.0000 - val_binary_acc: 0.5391 - val_precision: 0.9826 - val_recall: 0.5278 - val_f1_score: 0.6867 - val_roc_auc: 0.7122 - val_pr_auc: 0.9822 - val_cohen_kappa: 0.0539 - lr: 1.0000e-06\n",
      "Epoch 29/100\n",
      "210/210 [==============================] - 42s 199ms/step - loss: 0.3884 - tp: 2535.0000 - fp: 7.0000 - tn: 4132.0000 - fn: 30.0000 - binary_acc: 0.9945 - precision: 0.9972 - recall: 0.9883 - f1_score: 0.9928 - roc_auc: 0.9997 - pr_auc: 0.9996 - cohen_kappa: 0.9883 - val_loss: 1.5697 - val_tp: 856.0000 - val_fp: 16.0000 - val_tn: 56.0000 - val_fn: 747.0000 - val_binary_acc: 0.5445 - val_precision: 0.9817 - val_recall: 0.5340 - val_f1_score: 0.6917 - val_roc_auc: 0.7145 - val_pr_auc: 0.9824 - val_cohen_kappa: 0.0533 - lr: 1.0000e-06\n"
     ]
    },
    {
     "name": "stdout",
     "output_type": "stream",
     "text": [
      "Epoch 30/100\n",
      "210/210 [==============================] - 41s 194ms/step - loss: 0.3885 - tp: 2530.0000 - fp: 9.0000 - tn: 4130.0000 - fn: 35.0000 - binary_acc: 0.9934 - precision: 0.9965 - recall: 0.9864 - f1_score: 0.9914 - roc_auc: 0.9997 - pr_auc: 0.9995 - cohen_kappa: 0.9861 - val_loss: 1.5590 - val_tp: 864.0000 - val_fp: 16.0000 - val_tn: 56.0000 - val_fn: 739.0000 - val_binary_acc: 0.5493 - val_precision: 0.9818 - val_recall: 0.5390 - val_f1_score: 0.6959 - val_roc_auc: 0.7147 - val_pr_auc: 0.9825 - val_cohen_kappa: 0.0547 - lr: 1.0000e-06\n",
      "Epoch 30: early stopping\n"
     ]
    }
   ],
   "source": [
    "history = model.fit(\n",
    "    trainset,\n",
    "    epochs=100,\n",
    "    validation_data=validationset,\n",
    "    callbacks=[early_stopping, reduce_lr_on_plateau],\n",
    ")"
   ]
  },
  {
   "cell_type": "code",
   "execution_count": 79,
   "id": "a77278a7",
   "metadata": {},
   "outputs": [
    {
     "data": {
      "image/png": "[encoded data removed]",
      "text/plain": [
       "<Figure size 1296x1080 with 4 Axes>"
      ]
     },
     "metadata": {},
     "output_type": "display_data"
    }
   ],
   "source": [
    "plot_metrics(history)"
   ]
  },
  {
   "cell_type": "code",
   "execution_count": 80,
   "id": "7687b013",
   "metadata": {},
   "outputs": [
    {
     "name": "stdout",
     "output_type": "stream",
     "text": [
      "18/18 [==============================] - 2s 105ms/step - loss: 1.1991 - tp: 144.0000 - fp: 68.0000 - tn: 217.0000 - fn: 134.0000 - binary_acc: 0.6412 - precision: 0.6792 - recall: 0.5180 - f1_score: 0.5878 - roc_auc: 0.7119 - pr_auc: 0.7362 - cohen_kappa: 0.2802\n"
     ]
    }
   ],
   "source": [
    "# get the loss value & metrics values for the model in test mode\n",
    "evaluation_metrics = model.evaluate(testset, verbose=1)"
   ]
  },
  {
   "cell_type": "code",
   "execution_count": 81,
   "id": "f6a76183",
   "metadata": {},
   "outputs": [
    {
     "name": "stdout",
     "output_type": "stream",
     "text": [
      "test loss   : 1.199089527130127\n",
      "tp          : 144.0\n",
      "fp          : 68.0\n",
      "tn          : 217.0\n",
      "fn          : 134.0\n",
      "binary_acc  : 0.6412078142166138\n",
      "precision   : 0.6792452931404114\n",
      "recall      : 0.5179855823516846\n",
      "f1_score    : 0.5877551436424255\n",
      "roc_auc     : 0.7119209170341492\n",
      "pr_auc      : 0.7362457513809204\n",
      "cohen_kappa : 0.2802060842514038\n"
     ]
    }
   ],
   "source": [
    "loss = evaluation_metrics.pop(0)\n",
    "\n",
    "print(f\"test loss   : {loss}\")\n",
    "for metric, score in zip(METRICS, evaluation_metrics):\n",
    "\n",
    "    print(f\"{metric.name + ' ' * (12 - len(metric.name))}: {score}\")"
   ]
  },
  {
   "cell_type": "code",
   "execution_count": 82,
   "id": "90009e74",
   "metadata": {},
   "outputs": [
    {
     "name": "stdout",
     "output_type": "stream",
     "text": [
      "18/18 [==============================] - 2s 95ms/step\n"
     ]
    }
   ],
   "source": [
    "# get predictions for the test dataset\n",
    "preds = model.predict(testset, verbose=1)"
   ]
  },
  {
   "cell_type": "code",
   "execution_count": 83,
   "id": "f2d67393",
   "metadata": {},
   "outputs": [],
   "source": [
    "temp_testset = ref_testset[ref_testset[\"study_type\"] == \"XR_SHOULDER\"].copy()\n",
    "\n",
    "temp_testset[\"label\"] = temp_testset[\"label\"].map(int)"
   ]
  },
  {
   "cell_type": "code",
   "execution_count": 84,
   "id": "d7d86b78",
   "metadata": {},
   "outputs": [
    {
     "data": {
      "text/plain": [
       "0.28020607855795654"
      ]
     },
     "execution_count": 84,
     "metadata": {},
     "output_type": "execute_result"
    }
   ],
   "source": [
    "cohen_kappa_score(\n",
    "    temp_testset[\"label\"].values,\n",
    "    np.vectorize(lambda x: 1 if x > 0.5 else 0)(preds.ravel()),\n",
    ")"
   ]
  },
  {
   "cell_type": "code",
   "execution_count": 85,
   "id": "98f19d72",
   "metadata": {},
   "outputs": [],
   "source": [
    "temp_testset[\"prediction\"] = preds.ravel()"
   ]
  },
  {
   "cell_type": "code",
   "execution_count": 86,
   "id": "4cb476d9",
   "metadata": {},
   "outputs": [],
   "source": [
    "temp_testset = pd.DataFrame(\n",
    "    [*study_oriented_transformation(temp_testset)],\n",
    "    columns=[\"study\", \"label\", \"prediction\"],\n",
    ")"
   ]
  },
  {
   "cell_type": "code",
   "execution_count": 87,
   "id": "5b85ba17",
   "metadata": {},
   "outputs": [
    {
     "data": {
      "text/plain": [
       "0.38666809559532744"
      ]
     },
     "execution_count": 87,
     "metadata": {},
     "output_type": "execute_result"
    }
   ],
   "source": [
    "cohen_kappa_score(temp_testset[\"label\"].values, temp_testset[\"prediction\"].values)"
   ]
  },
  {
   "cell_type": "code",
   "execution_count": 88,
   "id": "79d50c5a",
   "metadata": {},
   "outputs": [],
   "source": [
    "# model naming convention: {architecture}-{study-type}-{num-parameters}.h5\n",
    "#\n",
    "# to load model:\n",
    "# model = tf.keras.models.load_model(\n",
    "#     '../models/cnn-XR_SHOULDER-3305473.h5',\n",
    "#     custom_objects={'F1Score': F1Score}\n",
    "# )\n",
    "model.save(\"../models/cnn-XR_SHOULDER-3305473.h5\")"
   ]
  },
  {
   "cell_type": "code",
   "execution_count": 89,
   "id": "18a2e6b5",
   "metadata": {},
   "outputs": [],
   "source": [
    "clean_up(model)\n",
    "del temp_testset"
   ]
  }
 ],
 "metadata": {
  "kernelspec": {
   "display_name": "Python 3 (ipykernel)",
   "language": "python",
   "name": "python3"
  },
  "language_info": {
   "codemirror_mode": {
    "name": "ipython",
    "version": 3
   },
   "file_extension": ".py",
   "mimetype": "text/x-python",
   "name": "python",
   "nbconvert_exporter": "python",
   "pygments_lexer": "ipython3",
   "version": "3.8.10"
  }
 },
 "nbformat": 4,
 "nbformat_minor": 5
}
