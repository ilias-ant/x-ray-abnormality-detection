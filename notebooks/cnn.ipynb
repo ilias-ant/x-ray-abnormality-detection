{
 "cells": [
  {
   "cell_type": "markdown",
   "id": "7a899787",
   "metadata": {},
   "source": [
    "## X-Ray Abnormality Detection | CNN"
   ]
  },
  {
   "cell_type": "markdown",
   "id": "c7764e65",
   "metadata": {},
   "source": [
    "> **Antonopoulos Ilias** ( *p3352004* ) <br />\n",
    "> **Ndoja Silva** ( *p3352017* ) <br />\n",
    "> **MSc in Data Science, AUEB**"
   ]
  },
  {
   "cell_type": "markdown",
   "id": "aa71e65e",
   "metadata": {},
   "source": [
    "## Table of Contents\n",
    "\n",
    "- [Data Loading](#Data-Loading)\n",
    " * [Create a tensorflow input pipeline for the training data](#Create-a-tensorflow-input-pipeline-for-the-training-data)\n",
    " * [Create a tensorflow input pipeline for the testing data](#Create-a-tensorflow-input-pipeline-for-the-testing-data)\n",
    "- [Baseline Performance](#Baseline-Performance)\n",
    " * [Random Classification](#Random-Classification)\n",
    " * [CNN architecture with sensible defaults](#CNN-architecture-with-sensible-defaults)\n",
    " * [Only on XR_SHOULDER study type](#Only-on-XR_SHOULDER-study-type)"
   ]
  },
  {
   "cell_type": "code",
   "execution_count": 1,
   "id": "99fc7dec",
   "metadata": {},
   "outputs": [],
   "source": [
    "import gc\n",
    "import os\n",
    "import pathlib\n",
    "import random\n",
    "import re\n",
    "from glob import glob\n",
    "from PIL import Image\n",
    "from typing import Iterable\n",
    "\n",
    "import matplotlib.pyplot as plt\n",
    "import numpy as np\n",
    "import pandas as pd\n",
    "import tensorflow as tf\n",
    "import tensorflow_addons as tfa\n",
    "from matplotlib import image\n",
    "from sklearn.metrics import cohen_kappa_score, confusion_matrix\n",
    "\n",
    "\n",
    "pd.set_option(\"max_colwidth\", None)\n",
    "plt.style.use(\"dark_background\")"
   ]
  },
  {
   "cell_type": "code",
   "execution_count": 2,
   "id": "6d6c351a",
   "metadata": {},
   "outputs": [
    {
     "name": "stdout",
     "output_type": "stream",
     "text": [
      "2.8.0\n"
     ]
    }
   ],
   "source": [
    "print(tf.__version__)"
   ]
  },
  {
   "cell_type": "code",
   "execution_count": 3,
   "id": "1fa8b39b",
   "metadata": {},
   "outputs": [
    {
     "name": "stdout",
     "output_type": "stream",
     "text": [
      "Num GPUs Available:  1\n"
     ]
    },
    {
     "name": "stderr",
     "output_type": "stream",
     "text": [
      "2022-03-28 12:37:14.215558: I tensorflow/stream_executor/cuda/cuda_gpu_executor.cc:936] successful NUMA node read from SysFS had negative value (-1), but there must be at least one NUMA node, so returning NUMA node zero\n",
      "2022-03-28 12:37:14.253079: I tensorflow/stream_executor/cuda/cuda_gpu_executor.cc:936] successful NUMA node read from SysFS had negative value (-1), but there must be at least one NUMA node, so returning NUMA node zero\n",
      "2022-03-28 12:37:14.253258: I tensorflow/stream_executor/cuda/cuda_gpu_executor.cc:936] successful NUMA node read from SysFS had negative value (-1), but there must be at least one NUMA node, so returning NUMA node zero\n"
     ]
    }
   ],
   "source": [
    "print(\"Num GPUs Available: \", len(tf.config.list_physical_devices(\"GPU\")))"
   ]
  },
  {
   "cell_type": "code",
   "execution_count": 4,
   "id": "8d64d949",
   "metadata": {},
   "outputs": [],
   "source": [
    "gpus = tf.config.experimental.list_physical_devices(\"GPU\")\n",
    "\n",
    "try:\n",
    "    tf.config.experimental.set_memory_growth(gpus[0], True)\n",
    "except IndexError:\n",
    "    print(\"Cannot memory-restrict the GPU, if no GPU exists in system. Ignore...\")\n",
    "    pass"
   ]
  },
  {
   "cell_type": "code",
   "execution_count": 5,
   "id": "a6659fde",
   "metadata": {},
   "outputs": [],
   "source": [
    "SEED = 99910123\n",
    "\n",
    "os.environ[\"PYTHONHASHSEED\"] = str(SEED)\n",
    "random.seed(SEED)\n",
    "tf.random.set_seed(SEED)\n",
    "np.random.seed(SEED)"
   ]
  },
  {
   "cell_type": "markdown",
   "id": "b5346f99",
   "metadata": {},
   "source": [
    "### Data Loading"
   ]
  },
  {
   "cell_type": "code",
   "execution_count": 6,
   "id": "5819c5d3",
   "metadata": {},
   "outputs": [],
   "source": [
    "DATASET_DIR = \"../data/MURA-v1.1/\""
   ]
  },
  {
   "cell_type": "code",
   "execution_count": 7,
   "id": "22e69e6c",
   "metadata": {},
   "outputs": [],
   "source": [
    "def inspect_df(df: pd.DataFrame, n: int = 5) -> pd.DataFrame:\n",
    "    \"\"\"Helper method to easily inspect DataFrames.\"\"\"\n",
    "\n",
    "    print(f\"shape: {df.shape}\")\n",
    "\n",
    "    return df.head(n)"
   ]
  },
  {
   "cell_type": "code",
   "execution_count": 8,
   "id": "67d931da",
   "metadata": {},
   "outputs": [
    {
     "data": {
      "text/plain": [
       "['../data/MURA-v1.1/train/XR_WRIST/patient08092/study1_negative/image1.png',\n",
       " '../data/MURA-v1.1/train/XR_FINGER/patient01064/study1_positive/image1.png',\n",
       " '../data/MURA-v1.1/valid/XR_ELBOW/patient11831/study1_positive/image1.png',\n",
       " '../data/MURA-v1.1/train/XR_SHOULDER/patient00442/study1_positive/image1.png',\n",
       " '../data/MURA-v1.1/train/XR_ELBOW/patient06289/study1_negative/image3.png',\n",
       " '../data/MURA-v1.1/train/XR_WRIST/patient08562/study1_negative/image2.png',\n",
       " '../data/MURA-v1.1/train/XR_FINGER/patient04280/study1_negative/image3.png',\n",
       " '../data/MURA-v1.1/train/XR_WRIST/patient07018/study1_positive/image1.png',\n",
       " '../data/MURA-v1.1/train/XR_ELBOW/patient06000/study1_negative/image1.png',\n",
       " '../data/MURA-v1.1/train/XR_SHOULDER/patient00497/study2_negative/image4.png']"
      ]
     },
     "execution_count": 8,
     "metadata": {},
     "output_type": "execute_result"
    }
   ],
   "source": [
    "random.choices(glob(os.path.join(DATASET_DIR, \"*\", \"*\", \"*\", \"*\", \"*.png\")), k=10)"
   ]
  },
  {
   "cell_type": "markdown",
   "id": "3e68ad35",
   "metadata": {},
   "source": [
    "So, the data structure is the following:\n",
    "\n",
    "```\n",
    "\n",
    "└─train {data subset}\n",
    "│   └───XR_ELBOW {study type}\n",
    "│       │  └───patient00011 {patient}\n",
    "│       │         └───study1_negative {study with label}\n",
    "│       │               └───image1.png {view}\n",
    "│       │               └───image2.png \n",
    "│       │               └───image3.png \n",
    "                        └───...\n",
    "   ...\n",
    "   \n",
    "\n",
    "└─valid {data subset}\n",
    "│   └───XR_HUMERUS {study type}\n",
    "│       │  └───patient11216 {patient}\n",
    "│       │         └───study1_negative {study with label}\n",
    "│       │               └───image1.png {view}\n",
    "│       │               └───image2.png \n",
    "                        └───...\n",
    "```"
   ]
  },
  {
   "cell_type": "code",
   "execution_count": 9,
   "id": "0e99c8e4",
   "metadata": {},
   "outputs": [
    {
     "name": "stdout",
     "output_type": "stream",
     "text": [
      "Total PNG images found in dir <../data/MURA-v1.1/>: 40009\n"
     ]
    }
   ],
   "source": [
    "image_count = len(list(pathlib.Path(DATASET_DIR).glob(\"*/*/*/*/*.png\")))\n",
    "\n",
    "print(f\"Total PNG images found in dir <{DATASET_DIR}>: {image_count}\")"
   ]
  },
  {
   "cell_type": "markdown",
   "id": "e3cc7391",
   "metadata": {},
   "source": [
    "We will start by creating a tabular form of the training data (with no actual image files), in order to quickly analyze them. A proper data loader (of the actual image files) will be implemented after that, in a tensorflow-friendly manner."
   ]
  },
  {
   "cell_type": "code",
   "execution_count": 10,
   "id": "6ee568f1",
   "metadata": {
    "scrolled": false
   },
   "outputs": [
    {
     "name": "stdout",
     "output_type": "stream",
     "text": [
      "shape: (36808, 1)\n"
     ]
    },
    {
     "data": {
      "text/html": [
       "<div>\n",
       "<style scoped>\n",
       "    .dataframe tbody tr th:only-of-type {\n",
       "        vertical-align: middle;\n",
       "    }\n",
       "\n",
       "    .dataframe tbody tr th {\n",
       "        vertical-align: top;\n",
       "    }\n",
       "\n",
       "    .dataframe thead th {\n",
       "        text-align: right;\n",
       "    }\n",
       "</style>\n",
       "<table border=\"1\" class=\"dataframe\">\n",
       "  <thead>\n",
       "    <tr style=\"text-align: right;\">\n",
       "      <th></th>\n",
       "      <th>image_path</th>\n",
       "    </tr>\n",
       "  </thead>\n",
       "  <tbody>\n",
       "    <tr>\n",
       "      <th>0</th>\n",
       "      <td>MURA-v1.1/train/XR_SHOULDER/patient00001/study1_positive/image1.png</td>\n",
       "    </tr>\n",
       "    <tr>\n",
       "      <th>1</th>\n",
       "      <td>MURA-v1.1/train/XR_SHOULDER/patient00001/study1_positive/image2.png</td>\n",
       "    </tr>\n",
       "    <tr>\n",
       "      <th>2</th>\n",
       "      <td>MURA-v1.1/train/XR_SHOULDER/patient00001/study1_positive/image3.png</td>\n",
       "    </tr>\n",
       "    <tr>\n",
       "      <th>3</th>\n",
       "      <td>MURA-v1.1/train/XR_SHOULDER/patient00002/study1_positive/image1.png</td>\n",
       "    </tr>\n",
       "    <tr>\n",
       "      <th>4</th>\n",
       "      <td>MURA-v1.1/train/XR_SHOULDER/patient00002/study1_positive/image2.png</td>\n",
       "    </tr>\n",
       "  </tbody>\n",
       "</table>\n",
       "</div>"
      ],
      "text/plain": [
       "                                                            image_path\n",
       "0  MURA-v1.1/train/XR_SHOULDER/patient00001/study1_positive/image1.png\n",
       "1  MURA-v1.1/train/XR_SHOULDER/patient00001/study1_positive/image2.png\n",
       "2  MURA-v1.1/train/XR_SHOULDER/patient00001/study1_positive/image3.png\n",
       "3  MURA-v1.1/train/XR_SHOULDER/patient00002/study1_positive/image1.png\n",
       "4  MURA-v1.1/train/XR_SHOULDER/patient00002/study1_positive/image2.png"
      ]
     },
     "execution_count": 10,
     "metadata": {},
     "output_type": "execute_result"
    }
   ],
   "source": [
    "train_image_paths = pd.read_csv(\n",
    "    os.path.join(DATASET_DIR, \"train_image_paths.csv\"),\n",
    "    names=[\"image_path\"],\n",
    "    header=None,\n",
    "    index_col=False,\n",
    ")\n",
    "\n",
    "inspect_df(train_image_paths)"
   ]
  },
  {
   "cell_type": "code",
   "execution_count": 11,
   "id": "60a69725",
   "metadata": {},
   "outputs": [],
   "source": [
    "train_image_paths[\"image_path\"] = train_image_paths[\"image_path\"].map(\n",
    "    lambda x: os.path.join(\"../data/\", x)\n",
    ")\n",
    "train_image_paths[\"study_type\"] = train_image_paths[\"image_path\"].map(\n",
    "    lambda x: x.split(\"/\")[4]\n",
    ")\n",
    "train_image_paths[\"patient\"] = train_image_paths[\"image_path\"].map(\n",
    "    lambda x: x.split(\"/\")[5]\n",
    ")\n",
    "train_image_paths[\"study\"] = train_image_paths[\"image_path\"].map(\n",
    "    lambda x: x.split(\"/\")[6]\n",
    ")\n",
    "train_image_paths[\"study_path\"] = train_image_paths[\"image_path\"].map(\n",
    "    lambda x: re.sub(r\"image\\d+.png\", \"\", x)\n",
    ")"
   ]
  },
  {
   "cell_type": "code",
   "execution_count": 12,
   "id": "d073e76e",
   "metadata": {},
   "outputs": [
    {
     "name": "stdout",
     "output_type": "stream",
     "text": [
      "shape: (36808, 5)\n"
     ]
    },
    {
     "data": {
      "text/html": [
       "<div>\n",
       "<style scoped>\n",
       "    .dataframe tbody tr th:only-of-type {\n",
       "        vertical-align: middle;\n",
       "    }\n",
       "\n",
       "    .dataframe tbody tr th {\n",
       "        vertical-align: top;\n",
       "    }\n",
       "\n",
       "    .dataframe thead th {\n",
       "        text-align: right;\n",
       "    }\n",
       "</style>\n",
       "<table border=\"1\" class=\"dataframe\">\n",
       "  <thead>\n",
       "    <tr style=\"text-align: right;\">\n",
       "      <th></th>\n",
       "      <th>image_path</th>\n",
       "      <th>study_type</th>\n",
       "      <th>patient</th>\n",
       "      <th>study</th>\n",
       "      <th>study_path</th>\n",
       "    </tr>\n",
       "  </thead>\n",
       "  <tbody>\n",
       "    <tr>\n",
       "      <th>0</th>\n",
       "      <td>../data/MURA-v1.1/train/XR_SHOULDER/patient00001/study1_positive/image1.png</td>\n",
       "      <td>XR_SHOULDER</td>\n",
       "      <td>patient00001</td>\n",
       "      <td>study1_positive</td>\n",
       "      <td>../data/MURA-v1.1/train/XR_SHOULDER/patient00001/study1_positive/</td>\n",
       "    </tr>\n",
       "    <tr>\n",
       "      <th>1</th>\n",
       "      <td>../data/MURA-v1.1/train/XR_SHOULDER/patient00001/study1_positive/image2.png</td>\n",
       "      <td>XR_SHOULDER</td>\n",
       "      <td>patient00001</td>\n",
       "      <td>study1_positive</td>\n",
       "      <td>../data/MURA-v1.1/train/XR_SHOULDER/patient00001/study1_positive/</td>\n",
       "    </tr>\n",
       "    <tr>\n",
       "      <th>2</th>\n",
       "      <td>../data/MURA-v1.1/train/XR_SHOULDER/patient00001/study1_positive/image3.png</td>\n",
       "      <td>XR_SHOULDER</td>\n",
       "      <td>patient00001</td>\n",
       "      <td>study1_positive</td>\n",
       "      <td>../data/MURA-v1.1/train/XR_SHOULDER/patient00001/study1_positive/</td>\n",
       "    </tr>\n",
       "    <tr>\n",
       "      <th>3</th>\n",
       "      <td>../data/MURA-v1.1/train/XR_SHOULDER/patient00002/study1_positive/image1.png</td>\n",
       "      <td>XR_SHOULDER</td>\n",
       "      <td>patient00002</td>\n",
       "      <td>study1_positive</td>\n",
       "      <td>../data/MURA-v1.1/train/XR_SHOULDER/patient00002/study1_positive/</td>\n",
       "    </tr>\n",
       "    <tr>\n",
       "      <th>4</th>\n",
       "      <td>../data/MURA-v1.1/train/XR_SHOULDER/patient00002/study1_positive/image2.png</td>\n",
       "      <td>XR_SHOULDER</td>\n",
       "      <td>patient00002</td>\n",
       "      <td>study1_positive</td>\n",
       "      <td>../data/MURA-v1.1/train/XR_SHOULDER/patient00002/study1_positive/</td>\n",
       "    </tr>\n",
       "  </tbody>\n",
       "</table>\n",
       "</div>"
      ],
      "text/plain": [
       "                                                                    image_path  \\\n",
       "0  ../data/MURA-v1.1/train/XR_SHOULDER/patient00001/study1_positive/image1.png   \n",
       "1  ../data/MURA-v1.1/train/XR_SHOULDER/patient00001/study1_positive/image2.png   \n",
       "2  ../data/MURA-v1.1/train/XR_SHOULDER/patient00001/study1_positive/image3.png   \n",
       "3  ../data/MURA-v1.1/train/XR_SHOULDER/patient00002/study1_positive/image1.png   \n",
       "4  ../data/MURA-v1.1/train/XR_SHOULDER/patient00002/study1_positive/image2.png   \n",
       "\n",
       "    study_type       patient            study  \\\n",
       "0  XR_SHOULDER  patient00001  study1_positive   \n",
       "1  XR_SHOULDER  patient00001  study1_positive   \n",
       "2  XR_SHOULDER  patient00001  study1_positive   \n",
       "3  XR_SHOULDER  patient00002  study1_positive   \n",
       "4  XR_SHOULDER  patient00002  study1_positive   \n",
       "\n",
       "                                                          study_path  \n",
       "0  ../data/MURA-v1.1/train/XR_SHOULDER/patient00001/study1_positive/  \n",
       "1  ../data/MURA-v1.1/train/XR_SHOULDER/patient00001/study1_positive/  \n",
       "2  ../data/MURA-v1.1/train/XR_SHOULDER/patient00001/study1_positive/  \n",
       "3  ../data/MURA-v1.1/train/XR_SHOULDER/patient00002/study1_positive/  \n",
       "4  ../data/MURA-v1.1/train/XR_SHOULDER/patient00002/study1_positive/  "
      ]
     },
     "execution_count": 12,
     "metadata": {},
     "output_type": "execute_result"
    }
   ],
   "source": [
    "inspect_df(train_image_paths)"
   ]
  },
  {
   "cell_type": "code",
   "execution_count": 13,
   "id": "59cf2544",
   "metadata": {
    "scrolled": false
   },
   "outputs": [
    {
     "name": "stdout",
     "output_type": "stream",
     "text": [
      "shape: (13457, 2)\n"
     ]
    },
    {
     "data": {
      "text/html": [
       "<div>\n",
       "<style scoped>\n",
       "    .dataframe tbody tr th:only-of-type {\n",
       "        vertical-align: middle;\n",
       "    }\n",
       "\n",
       "    .dataframe tbody tr th {\n",
       "        vertical-align: top;\n",
       "    }\n",
       "\n",
       "    .dataframe thead th {\n",
       "        text-align: right;\n",
       "    }\n",
       "</style>\n",
       "<table border=\"1\" class=\"dataframe\">\n",
       "  <thead>\n",
       "    <tr style=\"text-align: right;\">\n",
       "      <th></th>\n",
       "      <th>study_path</th>\n",
       "      <th>label</th>\n",
       "    </tr>\n",
       "  </thead>\n",
       "  <tbody>\n",
       "    <tr>\n",
       "      <th>0</th>\n",
       "      <td>MURA-v1.1/train/XR_SHOULDER/patient00001/study1_positive/</td>\n",
       "      <td>1</td>\n",
       "    </tr>\n",
       "    <tr>\n",
       "      <th>1</th>\n",
       "      <td>MURA-v1.1/train/XR_SHOULDER/patient00002/study1_positive/</td>\n",
       "      <td>1</td>\n",
       "    </tr>\n",
       "    <tr>\n",
       "      <th>2</th>\n",
       "      <td>MURA-v1.1/train/XR_SHOULDER/patient00003/study1_positive/</td>\n",
       "      <td>1</td>\n",
       "    </tr>\n",
       "    <tr>\n",
       "      <th>3</th>\n",
       "      <td>MURA-v1.1/train/XR_SHOULDER/patient00004/study1_positive/</td>\n",
       "      <td>1</td>\n",
       "    </tr>\n",
       "    <tr>\n",
       "      <th>4</th>\n",
       "      <td>MURA-v1.1/train/XR_SHOULDER/patient00005/study1_positive/</td>\n",
       "      <td>1</td>\n",
       "    </tr>\n",
       "  </tbody>\n",
       "</table>\n",
       "</div>"
      ],
      "text/plain": [
       "                                                  study_path  label\n",
       "0  MURA-v1.1/train/XR_SHOULDER/patient00001/study1_positive/      1\n",
       "1  MURA-v1.1/train/XR_SHOULDER/patient00002/study1_positive/      1\n",
       "2  MURA-v1.1/train/XR_SHOULDER/patient00003/study1_positive/      1\n",
       "3  MURA-v1.1/train/XR_SHOULDER/patient00004/study1_positive/      1\n",
       "4  MURA-v1.1/train/XR_SHOULDER/patient00005/study1_positive/      1"
      ]
     },
     "execution_count": 13,
     "metadata": {},
     "output_type": "execute_result"
    }
   ],
   "source": [
    "train_labeled_studies = pd.read_csv(\n",
    "    os.path.join(DATASET_DIR, \"train_labeled_studies.csv\"),\n",
    "    names=[\"study_path\", \"label\"],\n",
    "    header=None,\n",
    "    index_col=False,\n",
    ")\n",
    "\n",
    "inspect_df(train_labeled_studies)"
   ]
  },
  {
   "cell_type": "code",
   "execution_count": 14,
   "id": "df9a7f5d",
   "metadata": {},
   "outputs": [],
   "source": [
    "train_labeled_studies[\"study_path\"] = train_labeled_studies[\"study_path\"].map(\n",
    "    lambda x: os.path.join(\"../data/\", x)\n",
    ")\n",
    "train_labeled_studies[\"label\"] = train_labeled_studies[\"label\"].map(str)"
   ]
  },
  {
   "cell_type": "code",
   "execution_count": 15,
   "id": "408b169b",
   "metadata": {
    "scrolled": false
   },
   "outputs": [
    {
     "name": "stdout",
     "output_type": "stream",
     "text": [
      "shape: (13457, 2)\n"
     ]
    },
    {
     "data": {
      "text/html": [
       "<div>\n",
       "<style scoped>\n",
       "    .dataframe tbody tr th:only-of-type {\n",
       "        vertical-align: middle;\n",
       "    }\n",
       "\n",
       "    .dataframe tbody tr th {\n",
       "        vertical-align: top;\n",
       "    }\n",
       "\n",
       "    .dataframe thead th {\n",
       "        text-align: right;\n",
       "    }\n",
       "</style>\n",
       "<table border=\"1\" class=\"dataframe\">\n",
       "  <thead>\n",
       "    <tr style=\"text-align: right;\">\n",
       "      <th></th>\n",
       "      <th>study_path</th>\n",
       "      <th>label</th>\n",
       "    </tr>\n",
       "  </thead>\n",
       "  <tbody>\n",
       "    <tr>\n",
       "      <th>0</th>\n",
       "      <td>../data/MURA-v1.1/train/XR_SHOULDER/patient00001/study1_positive/</td>\n",
       "      <td>1</td>\n",
       "    </tr>\n",
       "    <tr>\n",
       "      <th>1</th>\n",
       "      <td>../data/MURA-v1.1/train/XR_SHOULDER/patient00002/study1_positive/</td>\n",
       "      <td>1</td>\n",
       "    </tr>\n",
       "    <tr>\n",
       "      <th>2</th>\n",
       "      <td>../data/MURA-v1.1/train/XR_SHOULDER/patient00003/study1_positive/</td>\n",
       "      <td>1</td>\n",
       "    </tr>\n",
       "    <tr>\n",
       "      <th>3</th>\n",
       "      <td>../data/MURA-v1.1/train/XR_SHOULDER/patient00004/study1_positive/</td>\n",
       "      <td>1</td>\n",
       "    </tr>\n",
       "    <tr>\n",
       "      <th>4</th>\n",
       "      <td>../data/MURA-v1.1/train/XR_SHOULDER/patient00005/study1_positive/</td>\n",
       "      <td>1</td>\n",
       "    </tr>\n",
       "  </tbody>\n",
       "</table>\n",
       "</div>"
      ],
      "text/plain": [
       "                                                          study_path label\n",
       "0  ../data/MURA-v1.1/train/XR_SHOULDER/patient00001/study1_positive/     1\n",
       "1  ../data/MURA-v1.1/train/XR_SHOULDER/patient00002/study1_positive/     1\n",
       "2  ../data/MURA-v1.1/train/XR_SHOULDER/patient00003/study1_positive/     1\n",
       "3  ../data/MURA-v1.1/train/XR_SHOULDER/patient00004/study1_positive/     1\n",
       "4  ../data/MURA-v1.1/train/XR_SHOULDER/patient00005/study1_positive/     1"
      ]
     },
     "execution_count": 15,
     "metadata": {},
     "output_type": "execute_result"
    }
   ],
   "source": [
    "inspect_df(train_labeled_studies)"
   ]
  },
  {
   "cell_type": "code",
   "execution_count": 16,
   "id": "98c49b41",
   "metadata": {},
   "outputs": [
    {
     "name": "stdout",
     "output_type": "stream",
     "text": [
      "shape: (36808, 6)\n"
     ]
    },
    {
     "data": {
      "text/html": [
       "<div>\n",
       "<style scoped>\n",
       "    .dataframe tbody tr th:only-of-type {\n",
       "        vertical-align: middle;\n",
       "    }\n",
       "\n",
       "    .dataframe tbody tr th {\n",
       "        vertical-align: top;\n",
       "    }\n",
       "\n",
       "    .dataframe thead th {\n",
       "        text-align: right;\n",
       "    }\n",
       "</style>\n",
       "<table border=\"1\" class=\"dataframe\">\n",
       "  <thead>\n",
       "    <tr style=\"text-align: right;\">\n",
       "      <th></th>\n",
       "      <th>image_path</th>\n",
       "      <th>study_type</th>\n",
       "      <th>patient</th>\n",
       "      <th>study</th>\n",
       "      <th>study_path</th>\n",
       "      <th>label</th>\n",
       "    </tr>\n",
       "  </thead>\n",
       "  <tbody>\n",
       "    <tr>\n",
       "      <th>0</th>\n",
       "      <td>../data/MURA-v1.1/train/XR_SHOULDER/patient00001/study1_positive/image1.png</td>\n",
       "      <td>XR_SHOULDER</td>\n",
       "      <td>patient00001</td>\n",
       "      <td>study1_positive</td>\n",
       "      <td>../data/MURA-v1.1/train/XR_SHOULDER/patient00001/study1_positive/</td>\n",
       "      <td>1</td>\n",
       "    </tr>\n",
       "    <tr>\n",
       "      <th>1</th>\n",
       "      <td>../data/MURA-v1.1/train/XR_SHOULDER/patient00001/study1_positive/image2.png</td>\n",
       "      <td>XR_SHOULDER</td>\n",
       "      <td>patient00001</td>\n",
       "      <td>study1_positive</td>\n",
       "      <td>../data/MURA-v1.1/train/XR_SHOULDER/patient00001/study1_positive/</td>\n",
       "      <td>1</td>\n",
       "    </tr>\n",
       "    <tr>\n",
       "      <th>2</th>\n",
       "      <td>../data/MURA-v1.1/train/XR_SHOULDER/patient00001/study1_positive/image3.png</td>\n",
       "      <td>XR_SHOULDER</td>\n",
       "      <td>patient00001</td>\n",
       "      <td>study1_positive</td>\n",
       "      <td>../data/MURA-v1.1/train/XR_SHOULDER/patient00001/study1_positive/</td>\n",
       "      <td>1</td>\n",
       "    </tr>\n",
       "    <tr>\n",
       "      <th>3</th>\n",
       "      <td>../data/MURA-v1.1/train/XR_SHOULDER/patient00002/study1_positive/image1.png</td>\n",
       "      <td>XR_SHOULDER</td>\n",
       "      <td>patient00002</td>\n",
       "      <td>study1_positive</td>\n",
       "      <td>../data/MURA-v1.1/train/XR_SHOULDER/patient00002/study1_positive/</td>\n",
       "      <td>1</td>\n",
       "    </tr>\n",
       "    <tr>\n",
       "      <th>4</th>\n",
       "      <td>../data/MURA-v1.1/train/XR_SHOULDER/patient00002/study1_positive/image2.png</td>\n",
       "      <td>XR_SHOULDER</td>\n",
       "      <td>patient00002</td>\n",
       "      <td>study1_positive</td>\n",
       "      <td>../data/MURA-v1.1/train/XR_SHOULDER/patient00002/study1_positive/</td>\n",
       "      <td>1</td>\n",
       "    </tr>\n",
       "  </tbody>\n",
       "</table>\n",
       "</div>"
      ],
      "text/plain": [
       "                                                                    image_path  \\\n",
       "0  ../data/MURA-v1.1/train/XR_SHOULDER/patient00001/study1_positive/image1.png   \n",
       "1  ../data/MURA-v1.1/train/XR_SHOULDER/patient00001/study1_positive/image2.png   \n",
       "2  ../data/MURA-v1.1/train/XR_SHOULDER/patient00001/study1_positive/image3.png   \n",
       "3  ../data/MURA-v1.1/train/XR_SHOULDER/patient00002/study1_positive/image1.png   \n",
       "4  ../data/MURA-v1.1/train/XR_SHOULDER/patient00002/study1_positive/image2.png   \n",
       "\n",
       "    study_type       patient            study  \\\n",
       "0  XR_SHOULDER  patient00001  study1_positive   \n",
       "1  XR_SHOULDER  patient00001  study1_positive   \n",
       "2  XR_SHOULDER  patient00001  study1_positive   \n",
       "3  XR_SHOULDER  patient00002  study1_positive   \n",
       "4  XR_SHOULDER  patient00002  study1_positive   \n",
       "\n",
       "                                                          study_path label  \n",
       "0  ../data/MURA-v1.1/train/XR_SHOULDER/patient00001/study1_positive/     1  \n",
       "1  ../data/MURA-v1.1/train/XR_SHOULDER/patient00001/study1_positive/     1  \n",
       "2  ../data/MURA-v1.1/train/XR_SHOULDER/patient00001/study1_positive/     1  \n",
       "3  ../data/MURA-v1.1/train/XR_SHOULDER/patient00002/study1_positive/     1  \n",
       "4  ../data/MURA-v1.1/train/XR_SHOULDER/patient00002/study1_positive/     1  "
      ]
     },
     "execution_count": 16,
     "metadata": {},
     "output_type": "execute_result"
    }
   ],
   "source": [
    "ref_trainset = pd.merge(\n",
    "    train_image_paths, train_labeled_studies, how=\"inner\", on=\"study_path\"\n",
    ")\n",
    "\n",
    "inspect_df(ref_trainset)"
   ]
  },
  {
   "cell_type": "markdown",
   "id": "41eafe23",
   "metadata": {},
   "source": [
    "#### Create a tensorflow input pipeline for the training data"
   ]
  },
  {
   "cell_type": "code",
   "execution_count": 17,
   "id": "19f477b2",
   "metadata": {},
   "outputs": [],
   "source": [
    "IMAGE_WIDTH = 224\n",
    "IMAGE_HEIGHT = 224"
   ]
  },
  {
   "cell_type": "code",
   "execution_count": 18,
   "id": "c8637a1c",
   "metadata": {},
   "outputs": [],
   "source": [
    "training = tf.keras.preprocessing.image.ImageDataGenerator(\n",
    "    rescale=1.0 / 255,\n",
    "    validation_split=0.2,\n",
    ")"
   ]
  },
  {
   "cell_type": "code",
   "execution_count": 19,
   "id": "21f38eee",
   "metadata": {},
   "outputs": [
    {
     "name": "stdout",
     "output_type": "stream",
     "text": [
      "Found 29447 validated image filenames belonging to 2 classes.\n"
     ]
    }
   ],
   "source": [
    "trainset = training.flow_from_dataframe(\n",
    "    dataframe=ref_trainset,\n",
    "    x_col=\"image_path\",\n",
    "    y_col=\"label\",\n",
    "    target_size=(IMAGE_WIDTH, IMAGE_HEIGHT),\n",
    "    class_mode=\"binary\",\n",
    "    batch_size=32,\n",
    "    seed=SEED,\n",
    "    shuffle=True,\n",
    "    subset=\"training\",\n",
    ")"
   ]
  },
  {
   "cell_type": "code",
   "execution_count": 20,
   "id": "3d3baff1",
   "metadata": {},
   "outputs": [
    {
     "name": "stdout",
     "output_type": "stream",
     "text": [
      "Found 7361 validated image filenames belonging to 2 classes.\n"
     ]
    }
   ],
   "source": [
    "validationset = training.flow_from_dataframe(\n",
    "    dataframe=ref_trainset,\n",
    "    x_col=\"image_path\",\n",
    "    y_col=\"label\",\n",
    "    target_size=(IMAGE_WIDTH, IMAGE_HEIGHT),\n",
    "    class_mode=\"binary\",\n",
    "    batch_size=32,\n",
    "    seed=SEED,\n",
    "    subset=\"validation\",\n",
    ")"
   ]
  },
  {
   "cell_type": "markdown",
   "id": "6384ad36",
   "metadata": {},
   "source": [
    "#### Create a tensorflow input pipeline for the testing data"
   ]
  },
  {
   "cell_type": "code",
   "execution_count": 21,
   "id": "530cb791",
   "metadata": {},
   "outputs": [],
   "source": [
    "test_image_paths = pd.read_csv(\n",
    "    os.path.join(DATASET_DIR, \"valid_image_paths.csv\"),\n",
    "    names=[\"image_path\"],\n",
    "    header=None,\n",
    "    index_col=False,\n",
    ")"
   ]
  },
  {
   "cell_type": "code",
   "execution_count": 22,
   "id": "3c564c7c",
   "metadata": {},
   "outputs": [],
   "source": [
    "test_image_paths[\"image_path\"] = test_image_paths[\"image_path\"].map(\n",
    "    lambda x: os.path.join(\"../data/\", x)\n",
    ")\n",
    "test_image_paths[\"study_type\"] = test_image_paths[\"image_path\"].map(\n",
    "    lambda x: x.split(\"/\")[4]\n",
    ")\n",
    "test_image_paths[\"patient\"] = test_image_paths[\"image_path\"].map(\n",
    "    lambda x: x.split(\"/\")[5]\n",
    ")\n",
    "test_image_paths[\"study\"] = test_image_paths[\"image_path\"].map(\n",
    "    lambda x: x.split(\"/\")[6]\n",
    ")\n",
    "test_image_paths[\"study_path\"] = test_image_paths[\"image_path\"].map(\n",
    "    lambda x: re.sub(r\"image\\d+.png\", \"\", x)\n",
    ")"
   ]
  },
  {
   "cell_type": "code",
   "execution_count": 23,
   "id": "02fa25e7",
   "metadata": {},
   "outputs": [],
   "source": [
    "test_labeled_studies = pd.read_csv(\n",
    "    os.path.join(DATASET_DIR, \"valid_labeled_studies.csv\"),\n",
    "    names=[\"study_path\", \"label\"],\n",
    "    header=None,\n",
    "    index_col=False,\n",
    ")"
   ]
  },
  {
   "cell_type": "code",
   "execution_count": 24,
   "id": "3b658d66",
   "metadata": {},
   "outputs": [],
   "source": [
    "test_labeled_studies[\"study_path\"] = test_labeled_studies[\"study_path\"].map(\n",
    "    lambda x: os.path.join(\"../data/\", x)\n",
    ")\n",
    "test_labeled_studies[\"label\"] = test_labeled_studies[\"label\"].map(str)"
   ]
  },
  {
   "cell_type": "code",
   "execution_count": 25,
   "id": "28789518",
   "metadata": {},
   "outputs": [
    {
     "name": "stdout",
     "output_type": "stream",
     "text": [
      "shape: (3197, 6)\n"
     ]
    },
    {
     "data": {
      "text/html": [
       "<div>\n",
       "<style scoped>\n",
       "    .dataframe tbody tr th:only-of-type {\n",
       "        vertical-align: middle;\n",
       "    }\n",
       "\n",
       "    .dataframe tbody tr th {\n",
       "        vertical-align: top;\n",
       "    }\n",
       "\n",
       "    .dataframe thead th {\n",
       "        text-align: right;\n",
       "    }\n",
       "</style>\n",
       "<table border=\"1\" class=\"dataframe\">\n",
       "  <thead>\n",
       "    <tr style=\"text-align: right;\">\n",
       "      <th></th>\n",
       "      <th>image_path</th>\n",
       "      <th>study_type</th>\n",
       "      <th>patient</th>\n",
       "      <th>study</th>\n",
       "      <th>study_path</th>\n",
       "      <th>label</th>\n",
       "    </tr>\n",
       "  </thead>\n",
       "  <tbody>\n",
       "    <tr>\n",
       "      <th>0</th>\n",
       "      <td>../data/MURA-v1.1/valid/XR_WRIST/patient11185/study1_positive/image1.png</td>\n",
       "      <td>XR_WRIST</td>\n",
       "      <td>patient11185</td>\n",
       "      <td>study1_positive</td>\n",
       "      <td>../data/MURA-v1.1/valid/XR_WRIST/patient11185/study1_positive/</td>\n",
       "      <td>1</td>\n",
       "    </tr>\n",
       "    <tr>\n",
       "      <th>1</th>\n",
       "      <td>../data/MURA-v1.1/valid/XR_WRIST/patient11185/study1_positive/image2.png</td>\n",
       "      <td>XR_WRIST</td>\n",
       "      <td>patient11185</td>\n",
       "      <td>study1_positive</td>\n",
       "      <td>../data/MURA-v1.1/valid/XR_WRIST/patient11185/study1_positive/</td>\n",
       "      <td>1</td>\n",
       "    </tr>\n",
       "    <tr>\n",
       "      <th>2</th>\n",
       "      <td>../data/MURA-v1.1/valid/XR_WRIST/patient11185/study1_positive/image3.png</td>\n",
       "      <td>XR_WRIST</td>\n",
       "      <td>patient11185</td>\n",
       "      <td>study1_positive</td>\n",
       "      <td>../data/MURA-v1.1/valid/XR_WRIST/patient11185/study1_positive/</td>\n",
       "      <td>1</td>\n",
       "    </tr>\n",
       "    <tr>\n",
       "      <th>3</th>\n",
       "      <td>../data/MURA-v1.1/valid/XR_WRIST/patient11185/study1_positive/image4.png</td>\n",
       "      <td>XR_WRIST</td>\n",
       "      <td>patient11185</td>\n",
       "      <td>study1_positive</td>\n",
       "      <td>../data/MURA-v1.1/valid/XR_WRIST/patient11185/study1_positive/</td>\n",
       "      <td>1</td>\n",
       "    </tr>\n",
       "    <tr>\n",
       "      <th>4</th>\n",
       "      <td>../data/MURA-v1.1/valid/XR_WRIST/patient11186/study1_positive/image1.png</td>\n",
       "      <td>XR_WRIST</td>\n",
       "      <td>patient11186</td>\n",
       "      <td>study1_positive</td>\n",
       "      <td>../data/MURA-v1.1/valid/XR_WRIST/patient11186/study1_positive/</td>\n",
       "      <td>1</td>\n",
       "    </tr>\n",
       "  </tbody>\n",
       "</table>\n",
       "</div>"
      ],
      "text/plain": [
       "                                                                 image_path  \\\n",
       "0  ../data/MURA-v1.1/valid/XR_WRIST/patient11185/study1_positive/image1.png   \n",
       "1  ../data/MURA-v1.1/valid/XR_WRIST/patient11185/study1_positive/image2.png   \n",
       "2  ../data/MURA-v1.1/valid/XR_WRIST/patient11185/study1_positive/image3.png   \n",
       "3  ../data/MURA-v1.1/valid/XR_WRIST/patient11185/study1_positive/image4.png   \n",
       "4  ../data/MURA-v1.1/valid/XR_WRIST/patient11186/study1_positive/image1.png   \n",
       "\n",
       "  study_type       patient            study  \\\n",
       "0   XR_WRIST  patient11185  study1_positive   \n",
       "1   XR_WRIST  patient11185  study1_positive   \n",
       "2   XR_WRIST  patient11185  study1_positive   \n",
       "3   XR_WRIST  patient11185  study1_positive   \n",
       "4   XR_WRIST  patient11186  study1_positive   \n",
       "\n",
       "                                                       study_path label  \n",
       "0  ../data/MURA-v1.1/valid/XR_WRIST/patient11185/study1_positive/     1  \n",
       "1  ../data/MURA-v1.1/valid/XR_WRIST/patient11185/study1_positive/     1  \n",
       "2  ../data/MURA-v1.1/valid/XR_WRIST/patient11185/study1_positive/     1  \n",
       "3  ../data/MURA-v1.1/valid/XR_WRIST/patient11185/study1_positive/     1  \n",
       "4  ../data/MURA-v1.1/valid/XR_WRIST/patient11186/study1_positive/     1  "
      ]
     },
     "execution_count": 25,
     "metadata": {},
     "output_type": "execute_result"
    }
   ],
   "source": [
    "ref_testset = pd.merge(\n",
    "    test_image_paths, test_labeled_studies, how=\"inner\", on=\"study_path\"\n",
    ")\n",
    "\n",
    "inspect_df(ref_testset)"
   ]
  },
  {
   "cell_type": "code",
   "execution_count": 26,
   "id": "7a83dfa4",
   "metadata": {},
   "outputs": [],
   "source": [
    "testing = tf.keras.preprocessing.image.ImageDataGenerator(\n",
    "    rescale=1.0\n",
    "    / 255,\n",
    ")"
   ]
  },
  {
   "cell_type": "code",
   "execution_count": 27,
   "id": "c466ce62",
   "metadata": {},
   "outputs": [
    {
     "name": "stdout",
     "output_type": "stream",
     "text": [
      "Found 3197 validated image filenames belonging to 2 classes.\n"
     ]
    }
   ],
   "source": [
    "testset = testing.flow_from_dataframe(\n",
    "    dataframe=ref_testset,\n",
    "    x_col=\"image_path\",\n",
    "    y_col=\"label\",\n",
    "    target_size=(IMAGE_WIDTH, IMAGE_HEIGHT),\n",
    "    class_mode=\"binary\",\n",
    "    batch_size=32,\n",
    "    seed=SEED,\n",
    ")"
   ]
  },
  {
   "cell_type": "markdown",
   "id": "30d182d1",
   "metadata": {},
   "source": [
    "### Baseline Performance"
   ]
  },
  {
   "cell_type": "markdown",
   "id": "86d916d4",
   "metadata": {},
   "source": [
    "#### Random Classification"
   ]
  },
  {
   "cell_type": "code",
   "execution_count": 28,
   "id": "c7b78f86",
   "metadata": {},
   "outputs": [],
   "source": [
    "class RandomClassifier(object):\n",
    "    \"\"\"Random classifier - predicts whether an image is normal or abnormal at random.\"\"\"\n",
    "\n",
    "    def predict(self, image_path: str) -> float:\n",
    "\n",
    "        return random.random()"
   ]
  },
  {
   "cell_type": "code",
   "execution_count": 29,
   "id": "06c3b41a",
   "metadata": {},
   "outputs": [],
   "source": [
    "temp_testset = ref_testset.copy()\n",
    "\n",
    "temp_testset[\"label\"] = temp_testset[\"label\"].map(int)"
   ]
  },
  {
   "cell_type": "code",
   "execution_count": 30,
   "id": "8489cd45",
   "metadata": {},
   "outputs": [],
   "source": [
    "model = RandomClassifier()\n",
    "\n",
    "temp_testset[\"prediction\"] = temp_testset[\"image_path\"].map(model.predict)"
   ]
  },
  {
   "cell_type": "code",
   "execution_count": 31,
   "id": "39cbfcc2",
   "metadata": {},
   "outputs": [
    {
     "data": {
      "text/plain": [
       "0.0049013669964691475"
      ]
     },
     "execution_count": 31,
     "metadata": {},
     "output_type": "execute_result"
    }
   ],
   "source": [
    "cohen_kappa_score(\n",
    "    temp_testset[\"label\"].values,\n",
    "    np.vectorize(lambda x: 1 if x > 0.5 else 0)(temp_testset[\"prediction\"].values),\n",
    ")"
   ]
  },
  {
   "cell_type": "markdown",
   "id": "21993e55",
   "metadata": {},
   "source": [
    "We now have to aggregate all the predictions - in a meaningful way - at the study level.\n",
    "\n",
    "We will assume that if the majority of the images of a given study are classified as abnormal, then the study will be classified as abnormal as well (and vice versa)."
   ]
  },
  {
   "cell_type": "code",
   "execution_count": 32,
   "id": "6de7e829",
   "metadata": {},
   "outputs": [],
   "source": [
    "def study_oriented_transformation(dataset: pd.DataFrame) -> Iterable:\n",
    "\n",
    "    for study, group in dataset.groupby(\"study_path\"):\n",
    "\n",
    "        study_label = group[\"label\"].values.take(0)\n",
    "        study_prediction = 1 if group[\"prediction\"].mean() > 0.5 else 0\n",
    "\n",
    "        yield study, study_label, study_prediction"
   ]
  },
  {
   "cell_type": "code",
   "execution_count": 33,
   "id": "e571b404",
   "metadata": {},
   "outputs": [],
   "source": [
    "temp_testset = pd.DataFrame(\n",
    "    [*study_oriented_transformation(temp_testset)],\n",
    "    columns=[\"study\", \"label\", \"prediction\"],\n",
    ")"
   ]
  },
  {
   "cell_type": "code",
   "execution_count": 34,
   "id": "6aa5e907",
   "metadata": {},
   "outputs": [
    {
     "data": {
      "text/plain": [
       "-0.02330674545107736"
      ]
     },
     "execution_count": 34,
     "metadata": {},
     "output_type": "execute_result"
    }
   ],
   "source": [
    "cohen_kappa_score(temp_testset[\"label\"].values, temp_testset[\"prediction\"].values)"
   ]
  },
  {
   "cell_type": "code",
   "execution_count": 35,
   "id": "adee55da",
   "metadata": {},
   "outputs": [],
   "source": [
    "del temp_testset\n",
    "del model"
   ]
  },
  {
   "cell_type": "markdown",
   "id": "92e2665b",
   "metadata": {},
   "source": [
    "#### CNN architecture with sensible defaults"
   ]
  },
  {
   "cell_type": "code",
   "execution_count": 36,
   "id": "53dda1c7",
   "metadata": {},
   "outputs": [],
   "source": [
    "def clean_up(model_):\n",
    "    tf.keras.backend.clear_session()\n",
    "    del model_\n",
    "    gc.collect()"
   ]
  },
  {
   "cell_type": "code",
   "execution_count": 37,
   "id": "404f8518",
   "metadata": {},
   "outputs": [],
   "source": [
    "# the tfa.metrics.F1Score (https://www.tensorflow.org/addons/api_docs/python/tfa/metrics/F1Score)\n",
    "# requires some reshaping that is inconsistent with the other metrics we like to track\n",
    "# so we will define it from scratch\n",
    "\n",
    "\n",
    "class F1Score(tf.keras.metrics.Metric):\n",
    "    def __init__(self, name=\"f1_score\", **kwargs):\n",
    "        super().__init__(name=name, **kwargs)\n",
    "        self.f1 = self.add_weight(name=\"f1\", initializer=\"zeros\")\n",
    "        self.precision_fn = tf.keras.metrics.Precision()\n",
    "        self.recall_fn = tf.keras.metrics.Recall()\n",
    "\n",
    "    def update_state(self, y_true, y_pred, sample_weight=None):\n",
    "        p = self.precision_fn(y_true, y_pred)\n",
    "        r = self.recall_fn(y_true, y_pred)\n",
    "        self.f1.assign(2 * ((p * r) / (p + r + 1e-10)))\n",
    "\n",
    "    def result(self):\n",
    "        return self.f1\n",
    "\n",
    "    def reset_state(self):\n",
    "        # we also need to reset the state of the precision and recall objects\n",
    "        self.precision_fn.reset_state()\n",
    "        self.recall_fn.reset_state()\n",
    "        self.f1.assign(0)"
   ]
  },
  {
   "cell_type": "code",
   "execution_count": 38,
   "id": "4e3a6125",
   "metadata": {},
   "outputs": [
    {
     "name": "stderr",
     "output_type": "stream",
     "text": [
      "2022-03-28 12:37:16.029648: I tensorflow/core/platform/cpu_feature_guard.cc:151] This TensorFlow binary is optimized with oneAPI Deep Neural Network Library (oneDNN) to use the following CPU instructions in performance-critical operations:  AVX2 FMA\n",
      "To enable them in other operations, rebuild TensorFlow with the appropriate compiler flags.\n",
      "2022-03-28 12:37:16.030488: I tensorflow/stream_executor/cuda/cuda_gpu_executor.cc:936] successful NUMA node read from SysFS had negative value (-1), but there must be at least one NUMA node, so returning NUMA node zero\n",
      "2022-03-28 12:37:16.030696: I tensorflow/stream_executor/cuda/cuda_gpu_executor.cc:936] successful NUMA node read from SysFS had negative value (-1), but there must be at least one NUMA node, so returning NUMA node zero\n",
      "2022-03-28 12:37:16.030819: I tensorflow/stream_executor/cuda/cuda_gpu_executor.cc:936] successful NUMA node read from SysFS had negative value (-1), but there must be at least one NUMA node, so returning NUMA node zero\n",
      "2022-03-28 12:37:16.497570: I tensorflow/stream_executor/cuda/cuda_gpu_executor.cc:936] successful NUMA node read from SysFS had negative value (-1), but there must be at least one NUMA node, so returning NUMA node zero\n",
      "2022-03-28 12:37:16.497766: I tensorflow/stream_executor/cuda/cuda_gpu_executor.cc:936] successful NUMA node read from SysFS had negative value (-1), but there must be at least one NUMA node, so returning NUMA node zero\n",
      "2022-03-28 12:37:16.497899: I tensorflow/stream_executor/cuda/cuda_gpu_executor.cc:936] successful NUMA node read from SysFS had negative value (-1), but there must be at least one NUMA node, so returning NUMA node zero\n",
      "2022-03-28 12:37:16.498015: I tensorflow/core/common_runtime/gpu/gpu_device.cc:1525] Created device /job:localhost/replica:0/task:0/device:GPU:0 with 1920 MB memory:  -> device: 0, name: Quadro T1000, pci bus id: 0000:01:00.0, compute capability: 7.5\n"
     ]
    }
   ],
   "source": [
    "METRICS = [\n",
    "    tf.keras.metrics.TruePositives(name=\"tp\"),\n",
    "    tf.keras.metrics.FalsePositives(name=\"fp\"),\n",
    "    tf.keras.metrics.TrueNegatives(name=\"tn\"),\n",
    "    tf.keras.metrics.FalseNegatives(name=\"fn\"),\n",
    "    tf.keras.metrics.BinaryAccuracy(name=\"binary_acc\"),\n",
    "    tf.keras.metrics.Precision(name=\"precision\"),\n",
    "    tf.keras.metrics.Recall(name=\"recall\"),\n",
    "    F1Score(name=\"f1_score\"),\n",
    "    tf.keras.metrics.AUC(name=\"roc_auc\", curve=\"ROC\"),\n",
    "    tf.keras.metrics.AUC(name=\"pr_auc\", curve=\"PR\"),\n",
    "    tfa.metrics.CohenKappa(name=\"cohen_kappa\", num_classes=2),\n",
    "]"
   ]
  },
  {
   "cell_type": "code",
   "execution_count": 39,
   "id": "4d269acc",
   "metadata": {},
   "outputs": [],
   "source": [
    "def plot_metrics(\n",
    "    history: tf.keras.callbacks.History,\n",
    "    metrics: list = [\"loss\", \"cohen_kappa\", \"precision\", \"recall\"],\n",
    ") -> None:\n",
    "\n",
    "    plt.rcParams[\"figure.figsize\"] = (18, 15)\n",
    "\n",
    "    for n, metric in enumerate(metrics):\n",
    "        name = metric.replace(\"_\", \" \").capitalize()\n",
    "        plt.subplot(2, 2, n + 1)\n",
    "        plt.plot(\n",
    "            history.epoch, history.history[metric], linewidth=1.8, label=\"training\"\n",
    "        )\n",
    "        plt.plot(\n",
    "            history.epoch,\n",
    "            history.history[\"val_\" + metric],\n",
    "            linestyle=\"--\",\n",
    "            linewidth=1.8,\n",
    "            label=\"validation\",\n",
    "        )\n",
    "        plt.xlabel(\"epoch\")\n",
    "        plt.ylabel(name)\n",
    "        if metric == \"loss\":\n",
    "            plt.ylim([0, plt.ylim()[1]])\n",
    "        elif metric == \"cohen_kappa\":\n",
    "            plt.ylim([-1, 1])\n",
    "        else:\n",
    "            plt.ylim([0, 1])\n",
    "\n",
    "        plt.legend()"
   ]
  },
  {
   "cell_type": "code",
   "execution_count": 40,
   "id": "202355bd",
   "metadata": {},
   "outputs": [],
   "source": [
    "def make_cnn_model():\n",
    "    \"\"\"Creates a CNN architecture with sensible defaults.\"\"\"\n",
    "    model = tf.keras.Sequential(\n",
    "        [\n",
    "            tf.keras.layers.Conv2D(\n",
    "                filters=32,\n",
    "                kernel_size=(3, 3),\n",
    "                strides=(1, 1),\n",
    "                padding=\"same\",\n",
    "                kernel_regularizer=\"l2\",\n",
    "                dilation_rate=(1, 1),\n",
    "                activation=\"relu\",\n",
    "                input_shape=(IMAGE_WIDTH, IMAGE_HEIGHT, 3),\n",
    "                name=\"1st-convolution\",\n",
    "            ),\n",
    "            tf.keras.layers.BatchNormalization(name=\"1st-batch-norm\"),\n",
    "            tf.keras.layers.MaxPool2D(\n",
    "                pool_size=(2, 2), strides=(2, 2), padding=\"same\", name=\"1st-max-pooling\"\n",
    "            ),\n",
    "            tf.keras.layers.Dropout(\n",
    "                rate=0.15,\n",
    "                name=\"1st-dropout\",\n",
    "            ),\n",
    "            tf.keras.layers.Conv2D(\n",
    "                filters=64,\n",
    "                kernel_size=(3, 3),\n",
    "                strides=(1, 1),\n",
    "                padding=\"same\",\n",
    "                kernel_regularizer=\"l2\",\n",
    "                dilation_rate=(1, 1),\n",
    "                activation=\"relu\",\n",
    "                name=\"2nd-convolution\",\n",
    "            ),\n",
    "            tf.keras.layers.BatchNormalization(name=\"2nd-batch-norm\"),\n",
    "            tf.keras.layers.MaxPool2D(\n",
    "                pool_size=(2, 2), strides=(2, 2), padding=\"same\", name=\"2nd-max-pooling\"\n",
    "            ),\n",
    "            tf.keras.layers.Dropout(\n",
    "                rate=0.15,\n",
    "                name=\"2nd-dropout\",\n",
    "            ),\n",
    "            tf.keras.layers.Conv2D(\n",
    "                filters=128,\n",
    "                kernel_size=(3, 3),\n",
    "                strides=(1, 1),\n",
    "                padding=\"same\",\n",
    "                kernel_regularizer=\"l2\",\n",
    "                dilation_rate=(1, 1),\n",
    "                activation=\"relu\",\n",
    "                name=\"3rd-convolution\",\n",
    "            ),\n",
    "            tf.keras.layers.BatchNormalization(name=\"3rd-batch-norm\"),\n",
    "            tf.keras.layers.MaxPool2D(\n",
    "                pool_size=(2, 2), strides=(2, 2), padding=\"same\", name=\"3rd-max-pooling\"\n",
    "            ),\n",
    "            tf.keras.layers.Dropout(\n",
    "                rate=0.15,\n",
    "                name=\"3rd-dropout\",\n",
    "            ),\n",
    "            tf.keras.layers.Flatten(name=\"flatten-layer\"),\n",
    "            tf.keras.layers.Dense(\n",
    "                units=32,\n",
    "                kernel_regularizer=\"l2\",\n",
    "                activation=\"relu\",\n",
    "                name=\"dense-layer\",\n",
    "            ),\n",
    "            tf.keras.layers.Dense(units=1, activation=\"sigmoid\", name=\"output-layer\"),\n",
    "        ]\n",
    "    )\n",
    "\n",
    "    model.compile(\n",
    "        optimizer=tf.keras.optimizers.Adam(learning_rate=0.0001),\n",
    "        loss=tf.keras.losses.BinaryCrossentropy(),\n",
    "        metrics=METRICS,\n",
    "    )\n",
    "\n",
    "    return model"
   ]
  },
  {
   "cell_type": "code",
   "execution_count": 41,
   "id": "b2e68f4f",
   "metadata": {},
   "outputs": [],
   "source": [
    "model = make_cnn_model()"
   ]
  },
  {
   "cell_type": "code",
   "execution_count": 42,
   "id": "1c19ad13",
   "metadata": {
    "scrolled": false
   },
   "outputs": [
    {
     "name": "stdout",
     "output_type": "stream",
     "text": [
      "Model: \"sequential\"\n",
      "_________________________________________________________________\n",
      " Layer (type)                Output Shape              Param #   \n",
      "=================================================================\n",
      " 1st-convolution (Conv2D)    (None, 224, 224, 32)      896       \n",
      "                                                                 \n",
      " 1st-batch-norm (BatchNormal  (None, 224, 224, 32)     128       \n",
      " ization)                                                        \n",
      "                                                                 \n",
      " 1st-max-pooling (MaxPooling  (None, 112, 112, 32)     0         \n",
      " 2D)                                                             \n",
      "                                                                 \n",
      " 1st-dropout (Dropout)       (None, 112, 112, 32)      0         \n",
      "                                                                 \n",
      " 2nd-convolution (Conv2D)    (None, 112, 112, 64)      18496     \n",
      "                                                                 \n",
      " 2nd-batch-norm (BatchNormal  (None, 112, 112, 64)     256       \n",
      " ization)                                                        \n",
      "                                                                 \n",
      " 2nd-max-pooling (MaxPooling  (None, 56, 56, 64)       0         \n",
      " 2D)                                                             \n",
      "                                                                 \n",
      " 2nd-dropout (Dropout)       (None, 56, 56, 64)        0         \n",
      "                                                                 \n",
      " 3rd-convolution (Conv2D)    (None, 56, 56, 128)       73856     \n",
      "                                                                 \n",
      " 3rd-batch-norm (BatchNormal  (None, 56, 56, 128)      512       \n",
      " ization)                                                        \n",
      "                                                                 \n",
      " 3rd-max-pooling (MaxPooling  (None, 28, 28, 128)      0         \n",
      " 2D)                                                             \n",
      "                                                                 \n",
      " 3rd-dropout (Dropout)       (None, 28, 28, 128)       0         \n",
      "                                                                 \n",
      " flatten-layer (Flatten)     (None, 100352)            0         \n",
      "                                                                 \n",
      " dense-layer (Dense)         (None, 32)                3211296   \n",
      "                                                                 \n",
      " output-layer (Dense)        (None, 1)                 33        \n",
      "                                                                 \n",
      "=================================================================\n",
      "Total params: 3,305,473\n",
      "Trainable params: 3,305,025\n",
      "Non-trainable params: 448\n",
      "_________________________________________________________________\n"
     ]
    }
   ],
   "source": [
    "model.summary()"
   ]
  },
  {
   "cell_type": "code",
   "execution_count": 43,
   "id": "97981226",
   "metadata": {
    "scrolled": false
   },
   "outputs": [
    {
     "data": {
      "image/png": "[encoded data removed]",
      "text/plain": [
       "<IPython.core.display.Image object>"
      ]
     },
     "execution_count": 43,
     "metadata": {},
     "output_type": "execute_result"
    }
   ],
   "source": [
    "tf.keras.utils.plot_model(\n",
    "    model,\n",
    "    to_file=\"../static/cnn-all-study-types-3305473.png\",\n",
    "    show_shapes=True,\n",
    "    show_layer_names=True,\n",
    ")"
   ]
  },
  {
   "cell_type": "code",
   "execution_count": 44,
   "id": "571221da",
   "metadata": {},
   "outputs": [],
   "source": [
    "early_stopping = tf.keras.callbacks.EarlyStopping(\n",
    "    monitor=\"val_loss\",\n",
    "    mode=\"min\",\n",
    "    verbose=1,\n",
    "    patience=20,\n",
    ")"
   ]
  },
  {
   "cell_type": "code",
   "execution_count": 45,
   "id": "16cd65d0",
   "metadata": {},
   "outputs": [],
   "source": [
    "reduce_lr_on_plateau = tf.keras.callbacks.ReduceLROnPlateau(\n",
    "    monitor=\"val_loss\", mode=\"min\", factor=0.2, verbose=1, patience=5, min_lr=1e-6\n",
    ")"
   ]
  },
  {
   "cell_type": "code",
   "execution_count": 46,
   "id": "aa319ec8",
   "metadata": {
    "scrolled": false
   },
   "outputs": [
    {
     "name": "stdout",
     "output_type": "stream",
     "text": [
      "Epoch 1/100\n"
     ]
    },
    {
     "name": "stderr",
     "output_type": "stream",
     "text": [
      "2022-03-28 12:37:19.697605: I tensorflow/stream_executor/cuda/cuda_dnn.cc:368] Loaded cuDNN version 8303\n",
      "2022-03-28 12:37:21.678312: W tensorflow/core/common_runtime/bfc_allocator.cc:343] Garbage collection: deallocate free memory regions (i.e., allocations) so that we can re-allocate a larger region to avoid OOM due to memory fragmentation. If you see this message frequently, you are running near the threshold of the available device memory and re-allocation may incur great performance overhead. You may try smaller batch sizes to observe the performance impact. Set TF_ENABLE_GPU_GARBAGE_COLLECTION=false if you'd like to disable this feature.\n"
     ]
    },
    {
     "name": "stdout",
     "output_type": "stream",
     "text": [
      "921/921 [==============================] - 169s 178ms/step - loss: 1.9103 - tp: 165.0000 - fp: 234.0000 - tn: 18508.0000 - fn: 10540.0000 - binary_acc: 0.6341 - precision: 0.4135 - recall: 0.0154 - f1_score: 0.0297 - roc_auc: 0.6076 - pr_auc: 0.4347 - cohen_kappa: 0.0037 - val_loss: 1.4679 - val_tp: 356.0000 - val_fp: 318.0000 - val_tn: 2875.0000 - val_fn: 3812.0000 - val_binary_acc: 0.4389 - val_precision: 0.5282 - val_recall: 0.0854 - val_f1_score: 0.1470 - val_roc_auc: 0.4821 - val_pr_auc: 0.5582 - val_cohen_kappa: -0.0126 - lr: 1.0000e-04\n",
      "Epoch 2/100\n",
      "921/921 [==============================] - 160s 173ms/step - loss: 1.0380 - tp: 427.0000 - fp: 416.0000 - tn: 18326.0000 - fn: 10278.0000 - binary_acc: 0.6368 - precision: 0.5065 - recall: 0.0399 - f1_score: 0.0740 - roc_auc: 0.6707 - pr_auc: 0.4981 - cohen_kappa: 0.0220 - val_loss: 1.1230 - val_tp: 367.0000 - val_fp: 277.0000 - val_tn: 2916.0000 - val_fn: 3801.0000 - val_binary_acc: 0.4460 - val_precision: 0.5699 - val_recall: 0.0881 - val_f1_score: 0.1525 - val_roc_auc: 0.5291 - val_pr_auc: 0.5786 - val_cohen_kappa: 0.0012 - lr: 1.0000e-04\n",
      "Epoch 3/100\n",
      "921/921 [==============================] - 159s 172ms/step - loss: 0.8226 - tp: 4066.0000 - fp: 2979.0000 - tn: 15763.0000 - fn: 6639.0000 - binary_acc: 0.6734 - precision: 0.5771 - recall: 0.3798 - f1_score: 0.4581 - roc_auc: 0.6928 - pr_auc: 0.5206 - cohen_kappa: 0.2383 - val_loss: 1.1171 - val_tp: 157.0000 - val_fp: 85.0000 - val_tn: 3108.0000 - val_fn: 4011.0000 - val_binary_acc: 0.4436 - val_precision: 0.6488 - val_recall: 0.0377 - val_f1_score: 0.0712 - val_roc_auc: 0.5466 - val_pr_auc: 0.6049 - val_cohen_kappa: 0.0097 - lr: 1.0000e-04\n",
      "Epoch 4/100\n",
      "921/921 [==============================] - 160s 174ms/step - loss: 0.7301 - tp: 4217.0000 - fp: 2654.0000 - tn: 16088.0000 - fn: 6488.0000 - binary_acc: 0.6895 - precision: 0.6137 - recall: 0.3939 - f1_score: 0.4799 - roc_auc: 0.7210 - pr_auc: 0.5544 - cohen_kappa: 0.2733 - val_loss: 1.4344 - val_tp: 58.0000 - val_fp: 20.0000 - val_tn: 3173.0000 - val_fn: 4110.0000 - val_binary_acc: 0.4389 - val_precision: 0.7436 - val_recall: 0.0139 - val_f1_score: 0.0273 - val_roc_auc: 0.5347 - val_pr_auc: 0.5975 - val_cohen_kappa: 0.0067 - lr: 1.0000e-04\n",
      "Epoch 5/100\n",
      "921/921 [==============================] - 161s 175ms/step - loss: 0.6866 - tp: 4663.0000 - fp: 2673.0000 - tn: 16069.0000 - fn: 6042.0000 - binary_acc: 0.7040 - precision: 0.6356 - recall: 0.4356 - f1_score: 0.5169 - roc_auc: 0.7420 - pr_auc: 0.5827 - cohen_kappa: 0.3142 - val_loss: 1.4102 - val_tp: 83.0000 - val_fp: 23.0000 - val_tn: 3170.0000 - val_fn: 4085.0000 - val_binary_acc: 0.4419 - val_precision: 0.7830 - val_recall: 0.0199 - val_f1_score: 0.0388 - val_roc_auc: 0.5666 - val_pr_auc: 0.6265 - val_cohen_kappa: 0.0111 - lr: 1.0000e-04\n",
      "Epoch 6/100\n",
      "921/921 [==============================] - 156s 169ms/step - loss: 0.6569 - tp: 5197.0000 - fp: 2661.0000 - tn: 16081.0000 - fn: 5508.0000 - binary_acc: 0.7226 - precision: 0.6614 - recall: 0.4855 - f1_score: 0.5599 - roc_auc: 0.7753 - pr_auc: 0.6651 - cohen_kappa: 0.3643 - val_loss: 1.2118 - val_tp: 186.0000 - val_fp: 82.0000 - val_tn: 3111.0000 - val_fn: 3982.0000 - val_binary_acc: 0.4479 - val_precision: 0.6940 - val_recall: 0.0446 - val_f1_score: 0.0839 - val_roc_auc: 0.5487 - val_pr_auc: 0.6049 - val_cohen_kappa: 0.0166 - lr: 1.0000e-04\n",
      "Epoch 7/100\n",
      "921/921 [==============================] - 157s 171ms/step - loss: 0.6446 - tp: 5729.0000 - fp: 2340.0000 - tn: 16402.0000 - fn: 4976.0000 - binary_acc: 0.7516 - precision: 0.7100 - recall: 0.5352 - f1_score: 0.6103 - roc_auc: 0.8085 - pr_auc: 0.7212 - cohen_kappa: 0.4332 - val_loss: 1.3244 - val_tp: 121.0000 - val_fp: 46.0000 - val_tn: 3147.0000 - val_fn: 4047.0000 - val_binary_acc: 0.4440 - val_precision: 0.7246 - val_recall: 0.0290 - val_f1_score: 0.0558 - val_roc_auc: 0.5589 - val_pr_auc: 0.6156 - val_cohen_kappa: 0.0128 - lr: 1.0000e-04\n",
      "Epoch 8/100\n",
      "921/921 [==============================] - ETA: 0s - loss: 0.5932 - tp: 6289.0000 - fp: 2112.0000 - tn: 16630.0000 - fn: 4416.0000 - binary_acc: 0.7783 - precision: 0.7486 - recall: 0.5875 - f1_score: 0.6583 - roc_auc: 0.8455 - pr_auc: 0.7746 - cohen_kappa: 0.4978\n",
      "Epoch 8: ReduceLROnPlateau reducing learning rate to 1.9999999494757503e-05.\n",
      "921/921 [==============================] - 159s 173ms/step - loss: 0.5932 - tp: 6289.0000 - fp: 2112.0000 - tn: 16630.0000 - fn: 4416.0000 - binary_acc: 0.7783 - precision: 0.7486 - recall: 0.5875 - f1_score: 0.6583 - roc_auc: 0.8455 - pr_auc: 0.7746 - cohen_kappa: 0.4978 - val_loss: 1.5502 - val_tp: 140.0000 - val_fp: 58.0000 - val_tn: 3135.0000 - val_fn: 4028.0000 - val_binary_acc: 0.4449 - val_precision: 0.7071 - val_recall: 0.0336 - val_f1_score: 0.0641 - val_roc_auc: 0.5597 - val_pr_auc: 0.6162 - val_cohen_kappa: 0.0135 - lr: 1.0000e-04\n",
      "Epoch 9/100\n",
      "921/921 [==============================] - 163s 177ms/step - loss: 0.5103 - tp: 7232.0000 - fp: 1427.0000 - tn: 17315.0000 - fn: 3473.0000 - binary_acc: 0.8336 - precision: 0.8352 - recall: 0.6756 - f1_score: 0.7470 - roc_auc: 0.9092 - pr_auc: 0.8642 - cohen_kappa: 0.6250 - val_loss: 1.8254 - val_tp: 164.0000 - val_fp: 53.0000 - val_tn: 3140.0000 - val_fn: 4004.0000 - val_binary_acc: 0.4489 - val_precision: 0.7558 - val_recall: 0.0393 - val_f1_score: 0.0748 - val_roc_auc: 0.5727 - val_pr_auc: 0.6327 - val_cohen_kappa: 0.0199 - lr: 2.0000e-05\n",
      "Epoch 10/100\n",
      "921/921 [==============================] - 168s 182ms/step - loss: 0.4761 - tp: 7589.0000 - fp: 1242.0000 - tn: 17500.0000 - fn: 3116.0000 - binary_acc: 0.8520 - precision: 0.8594 - recall: 0.7089 - f1_score: 0.7769 - roc_auc: 0.9245 - pr_auc: 0.8865 - cohen_kappa: 0.6677 - val_loss: 1.6467 - val_tp: 227.0000 - val_fp: 82.0000 - val_tn: 3111.0000 - val_fn: 3941.0000 - val_binary_acc: 0.4535 - val_precision: 0.7346 - val_recall: 0.0545 - val_f1_score: 0.1014 - val_roc_auc: 0.5813 - val_pr_auc: 0.6398 - val_cohen_kappa: 0.0252 - lr: 2.0000e-05\n",
      "Epoch 11/100\n",
      "921/921 [==============================] - 156s 170ms/step - loss: 0.4456 - tp: 7979.0000 - fp: 1111.0000 - tn: 17631.0000 - fn: 2726.0000 - binary_acc: 0.8697 - precision: 0.8778 - recall: 0.7454 - f1_score: 0.8062 - roc_auc: 0.9399 - pr_auc: 0.9097 - cohen_kappa: 0.7090 - val_loss: 1.8377 - val_tp: 182.0000 - val_fp: 54.0000 - val_tn: 3139.0000 - val_fn: 3986.0000 - val_binary_acc: 0.4512 - val_precision: 0.7712 - val_recall: 0.0437 - val_f1_score: 0.0827 - val_roc_auc: 0.5859 - val_pr_auc: 0.6452 - val_cohen_kappa: 0.0234 - lr: 2.0000e-05\n",
      "Epoch 12/100\n",
      "921/921 [==============================] - 174s 189ms/step - loss: 0.4173 - tp: 8391.0000 - fp: 976.0000 - tn: 17766.0000 - fn: 2314.0000 - binary_acc: 0.8883 - precision: 0.8958 - recall: 0.7838 - f1_score: 0.8361 - roc_auc: 0.9538 - pr_auc: 0.9295 - cohen_kappa: 0.7519 - val_loss: 1.6865 - val_tp: 278.0000 - val_fp: 114.0000 - val_tn: 3079.0000 - val_fn: 3890.0000 - val_binary_acc: 0.4561 - val_precision: 0.7092 - val_recall: 0.0667 - val_f1_score: 0.1219 - val_roc_auc: 0.5812 - val_pr_auc: 0.6406 - val_cohen_kappa: 0.0272 - lr: 2.0000e-05\n",
      "Epoch 13/100\n",
      "921/921 [==============================] - ETA: 0s - loss: 0.3847 - tp: 8767.0000 - fp: 764.0000 - tn: 17978.0000 - fn: 1938.0000 - binary_acc: 0.9082 - precision: 0.9198 - recall: 0.8190 - f1_score: 0.8665 - roc_auc: 0.9673 - pr_auc: 0.9501 - cohen_kappa: 0.7969\n",
      "Epoch 13: ReduceLROnPlateau reducing learning rate to 3.999999898951501e-06.\n",
      "921/921 [==============================] - 159s 173ms/step - loss: 0.3847 - tp: 8767.0000 - fp: 764.0000 - tn: 17978.0000 - fn: 1938.0000 - binary_acc: 0.9082 - precision: 0.9198 - recall: 0.8190 - f1_score: 0.8665 - roc_auc: 0.9673 - pr_auc: 0.9501 - cohen_kappa: 0.7969 - val_loss: 1.8932 - val_tp: 261.0000 - val_fp: 97.0000 - val_tn: 3096.0000 - val_fn: 3907.0000 - val_binary_acc: 0.4561 - val_precision: 0.7291 - val_recall: 0.0626 - val_f1_score: 0.1153 - val_roc_auc: 0.5862 - val_pr_auc: 0.6466 - val_cohen_kappa: 0.0283 - lr: 2.0000e-05\n",
      "Epoch 14/100\n"
     ]
    },
    {
     "name": "stdout",
     "output_type": "stream",
     "text": [
      "921/921 [==============================] - 158s 171ms/step - loss: 0.3365 - tp: 9362.0000 - fp: 478.0000 - tn: 18264.0000 - fn: 1343.0000 - binary_acc: 0.9382 - precision: 0.9514 - recall: 0.8745 - f1_score: 0.9114 - roc_auc: 0.9834 - pr_auc: 0.9742 - cohen_kappa: 0.8640 - val_loss: 2.0127 - val_tp: 243.0000 - val_fp: 88.0000 - val_tn: 3105.0000 - val_fn: 3925.0000 - val_binary_acc: 0.4548 - val_precision: 0.7341 - val_recall: 0.0583 - val_f1_score: 0.1080 - val_roc_auc: 0.5740 - val_pr_auc: 0.6354 - val_cohen_kappa: 0.0270 - lr: 4.0000e-06\n",
      "Epoch 15/100\n",
      "921/921 [==============================] - 162s 175ms/step - loss: 0.3240 - tp: 9472.0000 - fp: 447.0000 - tn: 18295.0000 - fn: 1233.0000 - binary_acc: 0.9429 - precision: 0.9549 - recall: 0.8848 - f1_score: 0.9185 - roc_auc: 0.9857 - pr_auc: 0.9778 - cohen_kappa: 0.8747 - val_loss: 2.1267 - val_tp: 211.0000 - val_fp: 84.0000 - val_tn: 3109.0000 - val_fn: 3957.0000 - val_binary_acc: 0.4510 - val_precision: 0.7153 - val_recall: 0.0506 - val_f1_score: 0.0946 - val_roc_auc: 0.5692 - val_pr_auc: 0.6311 - val_cohen_kappa: 0.0213 - lr: 4.0000e-06\n",
      "Epoch 16/100\n",
      "921/921 [==============================] - 155s 168ms/step - loss: 0.3122 - tp: 9568.0000 - fp: 435.0000 - tn: 18307.0000 - fn: 1137.0000 - binary_acc: 0.9466 - precision: 0.9565 - recall: 0.8938 - f1_score: 0.9241 - roc_auc: 0.9885 - pr_auc: 0.9820 - cohen_kappa: 0.8830 - val_loss: 2.2157 - val_tp: 196.0000 - val_fp: 79.0000 - val_tn: 3114.0000 - val_fn: 3972.0000 - val_binary_acc: 0.4497 - val_precision: 0.7127 - val_recall: 0.0470 - val_f1_score: 0.0882 - val_roc_auc: 0.5662 - val_pr_auc: 0.6275 - val_cohen_kappa: 0.0195 - lr: 4.0000e-06\n",
      "Epoch 17/100\n",
      "921/921 [==============================] - 159s 173ms/step - loss: 0.3017 - tp: 9714.0000 - fp: 375.0000 - tn: 18367.0000 - fn: 991.0000 - binary_acc: 0.9536 - precision: 0.9628 - recall: 0.9074 - f1_score: 0.9343 - roc_auc: 0.9901 - pr_auc: 0.9847 - cohen_kappa: 0.8985 - val_loss: 2.2543 - val_tp: 205.0000 - val_fp: 84.0000 - val_tn: 3109.0000 - val_fn: 3963.0000 - val_binary_acc: 0.4502 - val_precision: 0.7093 - val_recall: 0.0492 - val_f1_score: 0.0920 - val_roc_auc: 0.5672 - val_pr_auc: 0.6282 - val_cohen_kappa: 0.0200 - lr: 4.0000e-06\n",
      "Epoch 18/100\n",
      "921/921 [==============================] - ETA: 0s - loss: 0.2906 - tp: 9806.0000 - fp: 332.0000 - tn: 18410.0000 - fn: 899.0000 - binary_acc: 0.9582 - precision: 0.9673 - recall: 0.9160 - f1_score: 0.9409 - roc_auc: 0.9925 - pr_auc: 0.9880 - cohen_kappa: 0.9086\n",
      "Epoch 18: ReduceLROnPlateau reducing learning rate to 1e-06.\n",
      "921/921 [==============================] - 164s 178ms/step - loss: 0.2906 - tp: 9806.0000 - fp: 332.0000 - tn: 18410.0000 - fn: 899.0000 - binary_acc: 0.9582 - precision: 0.9673 - recall: 0.9160 - f1_score: 0.9409 - roc_auc: 0.9925 - pr_auc: 0.9880 - cohen_kappa: 0.9086 - val_loss: 2.3390 - val_tp: 186.0000 - val_fp: 72.0000 - val_tn: 3121.0000 - val_fn: 3982.0000 - val_binary_acc: 0.4493 - val_precision: 0.7209 - val_recall: 0.0446 - val_f1_score: 0.0840 - val_roc_auc: 0.5674 - val_pr_auc: 0.6292 - val_cohen_kappa: 0.0193 - lr: 4.0000e-06\n",
      "Epoch 19/100\n",
      "921/921 [==============================] - 160s 173ms/step - loss: 0.2780 - tp: 9905.0000 - fp: 261.0000 - tn: 18481.0000 - fn: 800.0000 - binary_acc: 0.9640 - precision: 0.9743 - recall: 0.9253 - f1_score: 0.9492 - roc_auc: 0.9944 - pr_auc: 0.9909 - cohen_kappa: 0.9213 - val_loss: 2.3428 - val_tp: 202.0000 - val_fp: 85.0000 - val_tn: 3108.0000 - val_fn: 3966.0000 - val_binary_acc: 0.4497 - val_precision: 0.7038 - val_recall: 0.0485 - val_f1_score: 0.0907 - val_roc_auc: 0.5666 - val_pr_auc: 0.6274 - val_cohen_kappa: 0.0191 - lr: 1.0000e-06\n",
      "Epoch 20/100\n",
      "921/921 [==============================] - 151s 163ms/step - loss: 0.2752 - tp: 9947.0000 - fp: 250.0000 - tn: 18492.0000 - fn: 758.0000 - binary_acc: 0.9658 - precision: 0.9755 - recall: 0.9292 - f1_score: 0.9518 - roc_auc: 0.9948 - pr_auc: 0.9916 - cohen_kappa: 0.9253 - val_loss: 2.4021 - val_tp: 192.0000 - val_fp: 80.0000 - val_tn: 3113.0000 - val_fn: 3976.0000 - val_binary_acc: 0.4490 - val_precision: 0.7059 - val_recall: 0.0461 - val_f1_score: 0.0865 - val_roc_auc: 0.5670 - val_pr_auc: 0.6280 - val_cohen_kappa: 0.0184 - lr: 1.0000e-06\n",
      "Epoch 21/100\n",
      "921/921 [==============================] - 152s 165ms/step - loss: 0.2708 - tp: 9975.0000 - fp: 240.0000 - tn: 18502.0000 - fn: 730.0000 - binary_acc: 0.9671 - precision: 0.9765 - recall: 0.9318 - f1_score: 0.9536 - roc_auc: 0.9952 - pr_auc: 0.9922 - cohen_kappa: 0.9281 - val_loss: 2.3608 - val_tp: 206.0000 - val_fp: 91.0000 - val_tn: 3102.0000 - val_fn: 3962.0000 - val_binary_acc: 0.4494 - val_precision: 0.6936 - val_recall: 0.0494 - val_f1_score: 0.0923 - val_roc_auc: 0.5664 - val_pr_auc: 0.6276 - val_cohen_kappa: 0.0183 - lr: 1.0000e-06\n",
      "Epoch 22/100\n",
      "921/921 [==============================] - 151s 164ms/step - loss: 0.2682 - tp: 9995.0000 - fp: 261.0000 - tn: 18481.0000 - fn: 710.0000 - binary_acc: 0.9670 - precision: 0.9746 - recall: 0.9337 - f1_score: 0.9537 - roc_auc: 0.9955 - pr_auc: 0.9928 - cohen_kappa: 0.9281 - val_loss: 2.4428 - val_tp: 188.0000 - val_fp: 82.0000 - val_tn: 3111.0000 - val_fn: 3980.0000 - val_binary_acc: 0.4482 - val_precision: 0.6963 - val_recall: 0.0451 - val_f1_score: 0.0847 - val_roc_auc: 0.5672 - val_pr_auc: 0.6278 - val_cohen_kappa: 0.0170 - lr: 1.0000e-06\n",
      "Epoch 23/100\n",
      "921/921 [==============================] - 154s 167ms/step - loss: 0.2651 - tp: 10030.0000 - fp: 218.0000 - tn: 18524.0000 - fn: 675.0000 - binary_acc: 0.9697 - precision: 0.9787 - recall: 0.9369 - f1_score: 0.9574 - roc_auc: 0.9959 - pr_auc: 0.9934 - cohen_kappa: 0.9339 - val_loss: 2.4489 - val_tp: 188.0000 - val_fp: 79.0000 - val_tn: 3114.0000 - val_fn: 3980.0000 - val_binary_acc: 0.4486 - val_precision: 0.7041 - val_recall: 0.0451 - val_f1_score: 0.0848 - val_roc_auc: 0.5676 - val_pr_auc: 0.6284 - val_cohen_kappa: 0.0178 - lr: 1.0000e-06\n",
      "Epoch 23: early stopping\n"
     ]
    }
   ],
   "source": [
    "history = model.fit(\n",
    "    trainset,\n",
    "    epochs=100,\n",
    "    validation_data=validationset,\n",
    "    callbacks=[early_stopping, reduce_lr_on_plateau],\n",
    ")"
   ]
  },
  {
   "cell_type": "code",
   "execution_count": 47,
   "id": "d4fda3ed",
   "metadata": {},
   "outputs": [
    {
     "data": {
      "image/png": "[encoded data removed]",
      "text/plain": [
       "<Figure size 1296x1080 with 4 Axes>"
      ]
     },
     "metadata": {},
     "output_type": "display_data"
    }
   ],
   "source": [
    "plot_metrics(history)"
   ]
  },
  {
   "cell_type": "code",
   "execution_count": 48,
   "id": "21b3e659",
   "metadata": {
    "scrolled": false
   },
   "outputs": [
    {
     "name": "stdout",
     "output_type": "stream",
     "text": [
      "100/100 [==============================] - 9s 94ms/step - loss: 1.1176 - tp: 606.0000 - fp: 170.0000 - tn: 1497.0000 - fn: 924.0000 - binary_acc: 0.6578 - precision: 0.7809 - recall: 0.3961 - f1_score: 0.5256 - roc_auc: 0.7142 - pr_auc: 0.7308 - cohen_kappa: 0.3002\n"
     ]
    }
   ],
   "source": [
    "# get the loss value & metrics values for the model in test mode\n",
    "evaluation_metrics = model.evaluate(testset, verbose=1)"
   ]
  },
  {
   "cell_type": "code",
   "execution_count": 49,
   "id": "9fab3d36",
   "metadata": {},
   "outputs": [
    {
     "name": "stdout",
     "output_type": "stream",
     "text": [
      "test loss   : 1.1175564527511597\n",
      "tp          : 606.0\n",
      "fp          : 170.0\n",
      "tn          : 1497.0\n",
      "fn          : 924.0\n",
      "binary_acc  : 0.6578041911125183\n",
      "precision   : 0.780927836894989\n",
      "recall      : 0.3960784375667572\n",
      "f1_score    : 0.5255854725837708\n",
      "roc_auc     : 0.7141691446304321\n",
      "pr_auc      : 0.7307987213134766\n",
      "cohen_kappa : 0.30017751455307007\n"
     ]
    }
   ],
   "source": [
    "loss = evaluation_metrics.pop(0)\n",
    "\n",
    "print(f\"test loss   : {loss}\")\n",
    "for metric, score in zip(METRICS, evaluation_metrics):\n",
    "\n",
    "    print(f\"{metric.name + ' ' * (12 - len(metric.name))}: {score}\")"
   ]
  },
  {
   "cell_type": "code",
   "execution_count": 50,
   "id": "6af0810e",
   "metadata": {},
   "outputs": [
    {
     "name": "stdout",
     "output_type": "stream",
     "text": [
      "100/100 [==============================] - 8s 79ms/step\n"
     ]
    }
   ],
   "source": [
    "# get predictions for the test dataset\n",
    "preds = model.predict(testset, verbose=1)"
   ]
  },
  {
   "cell_type": "code",
   "execution_count": 51,
   "id": "a425738d",
   "metadata": {},
   "outputs": [],
   "source": [
    "temp_testset = ref_testset.copy()\n",
    "\n",
    "temp_testset[\"label\"] = temp_testset[\"label\"].map(int)"
   ]
  },
  {
   "cell_type": "code",
   "execution_count": 52,
   "id": "7846413c",
   "metadata": {},
   "outputs": [
    {
     "data": {
      "text/plain": [
       "-0.02094754370091012"
      ]
     },
     "execution_count": 52,
     "metadata": {},
     "output_type": "execute_result"
    }
   ],
   "source": [
    "cohen_kappa_score(\n",
    "    temp_testset[\"label\"].values,\n",
    "    np.vectorize(lambda x: 1 if x > 0.5 else 0)(preds.ravel()),\n",
    ")"
   ]
  },
  {
   "cell_type": "code",
   "execution_count": 53,
   "id": "d1306b32",
   "metadata": {},
   "outputs": [],
   "source": [
    "temp_testset[\"prediction\"] = preds.ravel()"
   ]
  },
  {
   "cell_type": "code",
   "execution_count": 54,
   "id": "e7620629",
   "metadata": {},
   "outputs": [],
   "source": [
    "temp_testset = pd.DataFrame(\n",
    "    [*study_oriented_transformation(temp_testset)],\n",
    "    columns=[\"study\", \"label\", \"prediction\"],\n",
    ")"
   ]
  },
  {
   "cell_type": "code",
   "execution_count": 55,
   "id": "82ed6666",
   "metadata": {
    "scrolled": true
   },
   "outputs": [
    {
     "data": {
      "text/plain": [
       "-0.025174561294486253"
      ]
     },
     "execution_count": 55,
     "metadata": {},
     "output_type": "execute_result"
    }
   ],
   "source": [
    "cohen_kappa_score(temp_testset[\"label\"].values, temp_testset[\"prediction\"].values)"
   ]
  },
  {
   "cell_type": "code",
   "execution_count": 56,
   "id": "ba8cf826",
   "metadata": {},
   "outputs": [],
   "source": [
    "# model naming convention: {architecture}-{study-type}-{num-parameters}.h5\n",
    "#\n",
    "# to load model:\n",
    "# model = tf.keras.models.load_model(\n",
    "#     '../models/cnn-all-study-types-3305473.h5',\n",
    "#     custom_objects={'F1Score': F1Score}\n",
    "# )\n",
    "model.save(\"../models/cnn-all-study-types-3305473.h5\")"
   ]
  },
  {
   "cell_type": "code",
   "execution_count": 57,
   "id": "9491c46f",
   "metadata": {},
   "outputs": [],
   "source": [
    "clean_up(model)\n",
    "del temp_testset"
   ]
  },
  {
   "cell_type": "markdown",
   "id": "5ba8e964",
   "metadata": {},
   "source": [
    "#### Only on XR_SHOULDER study type"
   ]
  },
  {
   "cell_type": "code",
   "execution_count": 58,
   "id": "ce4fc24b",
   "metadata": {},
   "outputs": [
    {
     "name": "stdout",
     "output_type": "stream",
     "text": [
      "Found 6704 validated image filenames belonging to 2 classes.\n"
     ]
    }
   ],
   "source": [
    "trainset = training.flow_from_dataframe(\n",
    "    dataframe=ref_trainset[ref_trainset[\"study_type\"] == \"XR_SHOULDER\"],\n",
    "    x_col=\"image_path\",\n",
    "    y_col=\"label\",\n",
    "    target_size=(IMAGE_WIDTH, IMAGE_HEIGHT),\n",
    "    class_mode=\"binary\",\n",
    "    batch_size=32,\n",
    "    seed=SEED,\n",
    "    shuffle=True,\n",
    "    subset=\"training\",\n",
    ")"
   ]
  },
  {
   "cell_type": "code",
   "execution_count": 59,
   "id": "deed28b0",
   "metadata": {},
   "outputs": [
    {
     "name": "stdout",
     "output_type": "stream",
     "text": [
      "Found 1675 validated image filenames belonging to 2 classes.\n"
     ]
    }
   ],
   "source": [
    "validationset = training.flow_from_dataframe(\n",
    "    dataframe=ref_trainset[ref_trainset[\"study_type\"] == \"XR_SHOULDER\"],\n",
    "    x_col=\"image_path\",\n",
    "    y_col=\"label\",\n",
    "    target_size=(IMAGE_WIDTH, IMAGE_HEIGHT),\n",
    "    class_mode=\"binary\",\n",
    "    batch_size=32,\n",
    "    seed=SEED,\n",
    "    subset=\"validation\",\n",
    ")"
   ]
  },
  {
   "cell_type": "code",
   "execution_count": 60,
   "id": "186cf77f",
   "metadata": {},
   "outputs": [
    {
     "name": "stdout",
     "output_type": "stream",
     "text": [
      "Found 563 validated image filenames belonging to 2 classes.\n"
     ]
    }
   ],
   "source": [
    "testset = testing.flow_from_dataframe(\n",
    "    dataframe=ref_testset[ref_testset[\"study_type\"] == \"XR_SHOULDER\"],\n",
    "    x_col=\"image_path\",\n",
    "    y_col=\"label\",\n",
    "    target_size=(IMAGE_WIDTH, IMAGE_HEIGHT),\n",
    "    class_mode=\"binary\",\n",
    "    batch_size=32,\n",
    "    seed=SEED,\n",
    ")"
   ]
  },
  {
   "cell_type": "code",
   "execution_count": 61,
   "id": "0c48907f",
   "metadata": {},
   "outputs": [],
   "source": [
    "model = make_cnn_model()"
   ]
  },
  {
   "cell_type": "code",
   "execution_count": 62,
   "id": "981e8baa",
   "metadata": {
    "scrolled": false
   },
   "outputs": [
    {
     "name": "stdout",
     "output_type": "stream",
     "text": [
      "Epoch 1/100\n",
      "210/210 [==============================] - 39s 176ms/step - loss: 2.4716 - tp: 964.0000 - fp: 477.0000 - tn: 5329.0000 - fn: 3131.0000 - binary_acc: 0.6356 - precision: 0.6690 - recall: 0.2354 - f1_score: 0.3483 - roc_auc: 0.6261 - pr_auc: 0.5688 - cohen_kappa: 0.1694 - val_loss: 7.1312 - val_tp: 0.0000e+00 - val_fp: 0.0000e+00 - val_tn: 72.0000 - val_fn: 1603.0000 - val_binary_acc: 0.0430 - val_precision: 0.0000e+00 - val_recall: 0.0000e+00 - val_f1_score: 0.0000e+00 - val_roc_auc: 0.4842 - val_pr_auc: 0.9555 - val_cohen_kappa: 0.0000e+00 - lr: 1.0000e-04\n",
      "Epoch 2/100\n",
      "210/210 [==============================] - 34s 163ms/step - loss: 1.9950 - tp: 800.0000 - fp: 411.0000 - tn: 3728.0000 - fn: 1765.0000 - binary_acc: 0.6754 - precision: 0.6606 - recall: 0.3119 - f1_score: 0.4237 - roc_auc: 0.6966 - pr_auc: 0.5749 - cohen_kappa: 0.2363 - val_loss: 2.9220 - val_tp: 142.0000 - val_fp: 5.0000 - val_tn: 67.0000 - val_fn: 1461.0000 - val_binary_acc: 0.1248 - val_precision: 0.9660 - val_recall: 0.0886 - val_f1_score: 0.1623 - val_roc_auc: 0.6159 - val_pr_auc: 0.9696 - val_cohen_kappa: 0.0018 - lr: 1.0000e-04\n",
      "Epoch 3/100\n",
      "210/210 [==============================] - 34s 163ms/step - loss: 1.6230 - tp: 1092.0000 - fp: 515.0000 - tn: 3624.0000 - fn: 1473.0000 - binary_acc: 0.7035 - precision: 0.6795 - recall: 0.4257 - f1_score: 0.5235 - roc_auc: 0.7424 - pr_auc: 0.6486 - cohen_kappa: 0.3243 - val_loss: 2.2625 - val_tp: 213.0000 - val_fp: 2.0000 - val_tn: 70.0000 - val_fn: 1390.0000 - val_binary_acc: 0.1690 - val_precision: 0.9907 - val_recall: 0.1329 - val_f1_score: 0.2343 - val_roc_auc: 0.7270 - val_pr_auc: 0.9810 - val_cohen_kappa: 0.0103 - lr: 1.0000e-04\n",
      "Epoch 4/100\n",
      "210/210 [==============================] - 36s 172ms/step - loss: 1.3609 - tp: 1268.0000 - fp: 543.0000 - tn: 3596.0000 - fn: 1297.0000 - binary_acc: 0.7255 - precision: 0.7002 - recall: 0.4943 - f1_score: 0.5795 - roc_auc: 0.7658 - pr_auc: 0.6784 - cohen_kappa: 0.3847 - val_loss: 1.6098 - val_tp: 551.0000 - val_fp: 5.0000 - val_tn: 67.0000 - val_fn: 1052.0000 - val_binary_acc: 0.3690 - val_precision: 0.9910 - val_recall: 0.3437 - val_f1_score: 0.5104 - val_roc_auc: 0.7458 - val_pr_auc: 0.9840 - val_cohen_kappa: 0.0345 - lr: 1.0000e-04\n",
      "Epoch 5/100\n",
      "210/210 [==============================] - 35s 165ms/step - loss: 1.1681 - tp: 1398.0000 - fp: 524.0000 - tn: 3615.0000 - fn: 1167.0000 - binary_acc: 0.7478 - precision: 0.7274 - recall: 0.5450 - f1_score: 0.6231 - roc_auc: 0.7959 - pr_auc: 0.7195 - cohen_kappa: 0.4394 - val_loss: 1.7707 - val_tp: 449.0000 - val_fp: 6.0000 - val_tn: 66.0000 - val_fn: 1154.0000 - val_binary_acc: 0.3075 - val_precision: 0.9868 - val_recall: 0.2801 - val_f1_score: 0.4363 - val_roc_auc: 0.7449 - val_pr_auc: 0.9838 - val_cohen_kappa: 0.0228 - lr: 1.0000e-04\n",
      "Epoch 6/100\n",
      "210/210 [==============================] - 34s 162ms/step - loss: 1.0377 - tp: 1454.0000 - fp: 518.0000 - tn: 3621.0000 - fn: 1111.0000 - binary_acc: 0.7570 - precision: 0.7373 - recall: 0.5669 - f1_score: 0.6410 - roc_auc: 0.8151 - pr_auc: 0.7431 - cohen_kappa: 0.4620 - val_loss: 1.4606 - val_tp: 579.0000 - val_fp: 2.0000 - val_tn: 70.0000 - val_fn: 1024.0000 - val_binary_acc: 0.3875 - val_precision: 0.9966 - val_recall: 0.3612 - val_f1_score: 0.5302 - val_roc_auc: 0.7463 - val_pr_auc: 0.9852 - val_cohen_kappa: 0.0429 - lr: 1.0000e-04\n",
      "Epoch 7/100\n",
      "210/210 [==============================] - 34s 163ms/step - loss: 0.9313 - tp: 1557.0000 - fp: 501.0000 - tn: 3638.0000 - fn: 1008.0000 - binary_acc: 0.7749 - precision: 0.7566 - recall: 0.6070 - f1_score: 0.6736 - roc_auc: 0.8416 - pr_auc: 0.7774 - cohen_kappa: 0.5050 - val_loss: 1.3982 - val_tp: 618.0000 - val_fp: 5.0000 - val_tn: 67.0000 - val_fn: 985.0000 - val_binary_acc: 0.4090 - val_precision: 0.9920 - val_recall: 0.3855 - val_f1_score: 0.5553 - val_roc_auc: 0.7735 - val_pr_auc: 0.9868 - val_cohen_kappa: 0.0421 - lr: 1.0000e-04\n",
      "Epoch 8/100\n",
      "210/210 [==============================] - 34s 163ms/step - loss: 0.8494 - tp: 1631.0000 - fp: 436.0000 - tn: 3703.0000 - fn: 934.0000 - binary_acc: 0.7956 - precision: 0.7891 - recall: 0.6359 - f1_score: 0.7042 - roc_auc: 0.8650 - pr_auc: 0.8130 - cohen_kappa: 0.5509 - val_loss: 1.3374 - val_tp: 644.0000 - val_fp: 5.0000 - val_tn: 67.0000 - val_fn: 959.0000 - val_binary_acc: 0.4245 - val_precision: 0.9923 - val_recall: 0.4017 - val_f1_score: 0.5719 - val_roc_auc: 0.7737 - val_pr_auc: 0.9867 - val_cohen_kappa: 0.0454 - lr: 1.0000e-04\n",
      "Epoch 9/100\n",
      "210/210 [==============================] - 34s 162ms/step - loss: 0.7702 - tp: 1721.0000 - fp: 387.0000 - tn: 3752.0000 - fn: 844.0000 - binary_acc: 0.8164 - precision: 0.8164 - recall: 0.6710 - f1_score: 0.7366 - roc_auc: 0.8926 - pr_auc: 0.8497 - cohen_kappa: 0.5977 - val_loss: 1.1558 - val_tp: 836.0000 - val_fp: 7.0000 - val_tn: 65.0000 - val_fn: 767.0000 - val_binary_acc: 0.5379 - val_precision: 0.9917 - val_recall: 0.5215 - val_f1_score: 0.6836 - val_roc_auc: 0.7935 - val_pr_auc: 0.9885 - val_cohen_kappa: 0.0702 - lr: 1.0000e-04\n",
      "Epoch 10/100\n",
      "210/210 [==============================] - 34s 162ms/step - loss: 0.7224 - tp: 1843.0000 - fp: 369.0000 - tn: 3770.0000 - fn: 722.0000 - binary_acc: 0.8373 - precision: 0.8332 - recall: 0.7185 - f1_score: 0.7716 - roc_auc: 0.9108 - pr_auc: 0.8726 - cohen_kappa: 0.6463 - val_loss: 0.8517 - val_tp: 1249.0000 - val_fp: 32.0000 - val_tn: 40.0000 - val_fn: 354.0000 - val_binary_acc: 0.7696 - val_precision: 0.9750 - val_recall: 0.7792 - val_f1_score: 0.8662 - val_roc_auc: 0.7551 - val_pr_auc: 0.9852 - val_cohen_kappa: 0.1067 - lr: 1.0000e-04\n",
      "Epoch 11/100\n",
      "210/210 [==============================] - 34s 163ms/step - loss: 0.6774 - tp: 1947.0000 - fp: 305.0000 - tn: 3834.0000 - fn: 618.0000 - binary_acc: 0.8623 - precision: 0.8646 - recall: 0.7591 - f1_score: 0.8084 - roc_auc: 0.9338 - pr_auc: 0.9042 - cohen_kappa: 0.7017 - val_loss: 1.3909 - val_tp: 694.0000 - val_fp: 5.0000 - val_tn: 67.0000 - val_fn: 909.0000 - val_binary_acc: 0.4543 - val_precision: 0.9928 - val_recall: 0.4329 - val_f1_score: 0.6030 - val_roc_auc: 0.7742 - val_pr_auc: 0.9868 - val_cohen_kappa: 0.0520 - lr: 1.0000e-04\n",
      "Epoch 12/100\n",
      "210/210 [==============================] - 34s 163ms/step - loss: 0.6123 - tp: 2040.0000 - fp: 265.0000 - tn: 3874.0000 - fn: 525.0000 - binary_acc: 0.8822 - precision: 0.8850 - recall: 0.7953 - f1_score: 0.8378 - roc_auc: 0.9544 - pr_auc: 0.9330 - cohen_kappa: 0.7457 - val_loss: 1.1606 - val_tp: 886.0000 - val_fp: 14.0000 - val_tn: 58.0000 - val_fn: 717.0000 - val_binary_acc: 0.5636 - val_precision: 0.9844 - val_recall: 0.5527 - val_f1_score: 0.7080 - val_roc_auc: 0.7499 - val_pr_auc: 0.9847 - val_cohen_kappa: 0.0633 - lr: 1.0000e-04\n",
      "Epoch 13/100\n",
      "210/210 [==============================] - 34s 162ms/step - loss: 0.5742 - tp: 2152.0000 - fp: 222.0000 - tn: 3917.0000 - fn: 413.0000 - binary_acc: 0.9053 - precision: 0.9065 - recall: 0.8390 - f1_score: 0.8714 - roc_auc: 0.9669 - pr_auc: 0.9472 - cohen_kappa: 0.7966 - val_loss: 1.2687 - val_tp: 811.0000 - val_fp: 9.0000 - val_tn: 63.0000 - val_fn: 792.0000 - val_binary_acc: 0.5218 - val_precision: 0.9890 - val_recall: 0.5059 - val_f1_score: 0.6694 - val_roc_auc: 0.7539 - val_pr_auc: 0.9842 - val_cohen_kappa: 0.0615 - lr: 1.0000e-04\n",
      "Epoch 14/100\n",
      "210/210 [==============================] - 34s 163ms/step - loss: 0.5208 - tp: 2250.0000 - fp: 160.0000 - tn: 3979.0000 - fn: 315.0000 - binary_acc: 0.9291 - precision: 0.9336 - recall: 0.8772 - f1_score: 0.9045 - roc_auc: 0.9800 - pr_auc: 0.9699 - cohen_kappa: 0.8483 - val_loss: 1.0329 - val_tp: 1038.0000 - val_fp: 16.0000 - val_tn: 56.0000 - val_fn: 565.0000 - val_binary_acc: 0.6531 - val_precision: 0.9848 - val_recall: 0.6475 - val_f1_score: 0.7813 - val_roc_auc: 0.7782 - val_pr_auc: 0.9876 - val_cohen_kappa: 0.0916 - lr: 1.0000e-04\n",
      "Epoch 15/100\n",
      "210/210 [==============================] - ETA: 0s - loss: 0.4855 - tp: 2312.0000 - fp: 122.0000 - tn: 4017.0000 - fn: 253.0000 - binary_acc: 0.9441 - precision: 0.9499 - recall: 0.9014 - f1_score: 0.9250 - roc_auc: 0.9862 - pr_auc: 0.9790 - cohen_kappa: 0.8804\n",
      "Epoch 15: ReduceLROnPlateau reducing learning rate to 1.9999999494757503e-05.\n",
      "210/210 [==============================] - 35s 164ms/step - loss: 0.4855 - tp: 2312.0000 - fp: 122.0000 - tn: 4017.0000 - fn: 253.0000 - binary_acc: 0.9441 - precision: 0.9499 - recall: 0.9014 - f1_score: 0.9250 - roc_auc: 0.9862 - pr_auc: 0.9790 - cohen_kappa: 0.8804 - val_loss: 1.6024 - val_tp: 748.0000 - val_fp: 5.0000 - val_tn: 67.0000 - val_fn: 855.0000 - val_binary_acc: 0.4866 - val_precision: 0.9934 - val_recall: 0.4666 - val_f1_score: 0.6350 - val_roc_auc: 0.7737 - val_pr_auc: 0.9872 - val_cohen_kappa: 0.0598 - lr: 1.0000e-04\n"
     ]
    },
    {
     "name": "stdout",
     "output_type": "stream",
     "text": [
      "Epoch 16/100\n",
      "210/210 [==============================] - 34s 164ms/step - loss: 0.4141 - tp: 2446.0000 - fp: 54.0000 - tn: 4085.0000 - fn: 119.0000 - binary_acc: 0.9742 - precision: 0.9784 - recall: 0.9536 - f1_score: 0.9658 - roc_auc: 0.9971 - pr_auc: 0.9953 - cohen_kappa: 0.9451 - val_loss: 1.3747 - val_tp: 837.0000 - val_fp: 8.0000 - val_tn: 64.0000 - val_fn: 766.0000 - val_binary_acc: 0.5379 - val_precision: 0.9905 - val_recall: 0.5221 - val_f1_score: 0.6838 - val_roc_auc: 0.7648 - val_pr_auc: 0.9864 - val_cohen_kappa: 0.0682 - lr: 2.0000e-05\n",
      "Epoch 17/100\n",
      "210/210 [==============================] - 37s 174ms/step - loss: 0.3951 - tp: 2486.0000 - fp: 37.0000 - tn: 4102.0000 - fn: 79.0000 - binary_acc: 0.9827 - precision: 0.9853 - recall: 0.9692 - f1_score: 0.9772 - roc_auc: 0.9978 - pr_auc: 0.9967 - cohen_kappa: 0.9633 - val_loss: 1.4736 - val_tp: 791.0000 - val_fp: 8.0000 - val_tn: 64.0000 - val_fn: 812.0000 - val_binary_acc: 0.5104 - val_precision: 0.9900 - val_recall: 0.4934 - val_f1_score: 0.6586 - val_roc_auc: 0.7626 - val_pr_auc: 0.9862 - val_cohen_kappa: 0.0604 - lr: 2.0000e-05\n",
      "Epoch 18/100\n",
      "210/210 [==============================] - 38s 179ms/step - loss: 0.3813 - tp: 2483.0000 - fp: 33.0000 - tn: 4106.0000 - fn: 82.0000 - binary_acc: 0.9828 - precision: 0.9869 - recall: 0.9680 - f1_score: 0.9774 - roc_auc: 0.9986 - pr_auc: 0.9977 - cohen_kappa: 0.9636 - val_loss: 1.3408 - val_tp: 887.0000 - val_fp: 9.0000 - val_tn: 63.0000 - val_fn: 716.0000 - val_binary_acc: 0.5672 - val_precision: 0.9900 - val_recall: 0.5533 - val_f1_score: 0.7099 - val_roc_auc: 0.7657 - val_pr_auc: 0.9863 - val_cohen_kappa: 0.0753 - lr: 2.0000e-05\n",
      "Epoch 19/100\n",
      "210/210 [==============================] - 38s 181ms/step - loss: 0.3683 - tp: 2503.0000 - fp: 31.0000 - tn: 4108.0000 - fn: 62.0000 - binary_acc: 0.9861 - precision: 0.9878 - recall: 0.9758 - f1_score: 0.9818 - roc_auc: 0.9988 - pr_auc: 0.9979 - cohen_kappa: 0.9706 - val_loss: 1.4840 - val_tp: 811.0000 - val_fp: 9.0000 - val_tn: 63.0000 - val_fn: 792.0000 - val_binary_acc: 0.5218 - val_precision: 0.9890 - val_recall: 0.5059 - val_f1_score: 0.6694 - val_roc_auc: 0.7606 - val_pr_auc: 0.9861 - val_cohen_kappa: 0.0615 - lr: 2.0000e-05\n",
      "Epoch 20/100\n",
      "210/210 [==============================] - ETA: 0s - loss: 0.3559 - tp: 2510.0000 - fp: 21.0000 - tn: 4118.0000 - fn: 55.0000 - binary_acc: 0.9887 - precision: 0.9917 - recall: 0.9786 - f1_score: 0.9851 - roc_auc: 0.9989 - pr_auc: 0.9983 - cohen_kappa: 0.9759\n",
      "Epoch 20: ReduceLROnPlateau reducing learning rate to 3.999999898951501e-06.\n",
      "210/210 [==============================] - 36s 172ms/step - loss: 0.3559 - tp: 2510.0000 - fp: 21.0000 - tn: 4118.0000 - fn: 55.0000 - binary_acc: 0.9887 - precision: 0.9917 - recall: 0.9786 - f1_score: 0.9851 - roc_auc: 0.9989 - pr_auc: 0.9983 - cohen_kappa: 0.9759 - val_loss: 1.2708 - val_tp: 932.0000 - val_fp: 13.0000 - val_tn: 59.0000 - val_fn: 671.0000 - val_binary_acc: 0.5916 - val_precision: 0.9862 - val_recall: 0.5814 - val_f1_score: 0.7316 - val_roc_auc: 0.7597 - val_pr_auc: 0.9858 - val_cohen_kappa: 0.0747 - lr: 2.0000e-05\n",
      "Epoch 21/100\n",
      "210/210 [==============================] - 37s 173ms/step - loss: 0.3414 - tp: 2528.0000 - fp: 18.0000 - tn: 4121.0000 - fn: 37.0000 - binary_acc: 0.9918 - precision: 0.9929 - recall: 0.9856 - f1_score: 0.9892 - roc_auc: 0.9996 - pr_auc: 0.9993 - cohen_kappa: 0.9826 - val_loss: 1.3627 - val_tp: 885.0000 - val_fp: 11.0000 - val_tn: 61.0000 - val_fn: 718.0000 - val_binary_acc: 0.5648 - val_precision: 0.9877 - val_recall: 0.5521 - val_f1_score: 0.7083 - val_roc_auc: 0.7630 - val_pr_auc: 0.9862 - val_cohen_kappa: 0.0702 - lr: 4.0000e-06\n",
      "Epoch 22/100\n",
      "210/210 [==============================] - 35s 168ms/step - loss: 0.3367 - tp: 2536.0000 - fp: 18.0000 - tn: 4121.0000 - fn: 29.0000 - binary_acc: 0.9930 - precision: 0.9930 - recall: 0.9887 - f1_score: 0.9908 - roc_auc: 0.9996 - pr_auc: 0.9993 - cohen_kappa: 0.9851 - val_loss: 1.3036 - val_tp: 929.0000 - val_fp: 12.0000 - val_tn: 60.0000 - val_fn: 674.0000 - val_binary_acc: 0.5904 - val_precision: 0.9872 - val_recall: 0.5795 - val_f1_score: 0.7303 - val_roc_auc: 0.7653 - val_pr_auc: 0.9864 - val_cohen_kappa: 0.0766 - lr: 4.0000e-06\n",
      "Epoch 23/100\n",
      "210/210 [==============================] - 38s 182ms/step - loss: 0.3329 - tp: 2540.0000 - fp: 10.0000 - tn: 4129.0000 - fn: 25.0000 - binary_acc: 0.9948 - precision: 0.9961 - recall: 0.9903 - f1_score: 0.9932 - roc_auc: 0.9996 - pr_auc: 0.9993 - cohen_kappa: 0.9889 - val_loss: 1.3608 - val_tp: 895.0000 - val_fp: 11.0000 - val_tn: 61.0000 - val_fn: 708.0000 - val_binary_acc: 0.5707 - val_precision: 0.9879 - val_recall: 0.5583 - val_f1_score: 0.7134 - val_roc_auc: 0.7676 - val_pr_auc: 0.9865 - val_cohen_kappa: 0.0721 - lr: 4.0000e-06\n",
      "Epoch 24/100\n",
      "210/210 [==============================] - 38s 180ms/step - loss: 0.3306 - tp: 2533.0000 - fp: 14.0000 - tn: 4125.0000 - fn: 32.0000 - binary_acc: 0.9931 - precision: 0.9945 - recall: 0.9875 - f1_score: 0.9910 - roc_auc: 0.9996 - pr_auc: 0.9993 - cohen_kappa: 0.9855 - val_loss: 1.3930 - val_tp: 881.0000 - val_fp: 9.0000 - val_tn: 63.0000 - val_fn: 722.0000 - val_binary_acc: 0.5636 - val_precision: 0.9899 - val_recall: 0.5496 - val_f1_score: 0.7068 - val_roc_auc: 0.7657 - val_pr_auc: 0.9864 - val_cohen_kappa: 0.0741 - lr: 4.0000e-06\n",
      "Epoch 25/100\n",
      "210/210 [==============================] - ETA: 0s - loss: 0.3269 - tp: 2540.0000 - fp: 8.0000 - tn: 4131.0000 - fn: 25.0000 - binary_acc: 0.9951 - precision: 0.9969 - recall: 0.9903 - f1_score: 0.9935 - roc_auc: 0.9997 - pr_auc: 0.9994 - cohen_kappa: 0.9896\n",
      "Epoch 25: ReduceLROnPlateau reducing learning rate to 1e-06.\n",
      "210/210 [==============================] - 37s 175ms/step - loss: 0.3269 - tp: 2540.0000 - fp: 8.0000 - tn: 4131.0000 - fn: 25.0000 - binary_acc: 0.9951 - precision: 0.9969 - recall: 0.9903 - f1_score: 0.9935 - roc_auc: 0.9997 - pr_auc: 0.9994 - cohen_kappa: 0.9896 - val_loss: 1.3678 - val_tp: 894.0000 - val_fp: 11.0000 - val_tn: 61.0000 - val_fn: 709.0000 - val_binary_acc: 0.5701 - val_precision: 0.9878 - val_recall: 0.5577 - val_f1_score: 0.7129 - val_roc_auc: 0.7645 - val_pr_auc: 0.9863 - val_cohen_kappa: 0.0719 - lr: 4.0000e-06\n",
      "Epoch 26/100\n",
      "210/210 [==============================] - 38s 182ms/step - loss: 0.3239 - tp: 2535.0000 - fp: 4.0000 - tn: 4135.0000 - fn: 30.0000 - binary_acc: 0.9949 - precision: 0.9984 - recall: 0.9883 - f1_score: 0.9933 - roc_auc: 0.9997 - pr_auc: 0.9994 - cohen_kappa: 0.9892 - val_loss: 1.4021 - val_tp: 880.0000 - val_fp: 11.0000 - val_tn: 61.0000 - val_fn: 723.0000 - val_binary_acc: 0.5618 - val_precision: 0.9877 - val_recall: 0.5490 - val_f1_score: 0.7057 - val_roc_auc: 0.7630 - val_pr_auc: 0.9862 - val_cohen_kappa: 0.0692 - lr: 1.0000e-06\n",
      "Epoch 27/100\n",
      "210/210 [==============================] - 38s 182ms/step - loss: 0.3223 - tp: 2549.0000 - fp: 14.0000 - tn: 4125.0000 - fn: 16.0000 - binary_acc: 0.9955 - precision: 0.9945 - recall: 0.9938 - f1_score: 0.9941 - roc_auc: 0.9998 - pr_auc: 0.9996 - cohen_kappa: 0.9905 - val_loss: 1.4122 - val_tp: 876.0000 - val_fp: 11.0000 - val_tn: 61.0000 - val_fn: 727.0000 - val_binary_acc: 0.5594 - val_precision: 0.9876 - val_recall: 0.5465 - val_f1_score: 0.7036 - val_roc_auc: 0.7634 - val_pr_auc: 0.9862 - val_cohen_kappa: 0.0685 - lr: 1.0000e-06\n",
      "Epoch 28/100\n",
      "210/210 [==============================] - 34s 163ms/step - loss: 0.3214 - tp: 2547.0000 - fp: 12.0000 - tn: 4127.0000 - fn: 18.0000 - binary_acc: 0.9955 - precision: 0.9953 - recall: 0.9930 - f1_score: 0.9941 - roc_auc: 0.9998 - pr_auc: 0.9996 - cohen_kappa: 0.9905 - val_loss: 1.4271 - val_tp: 870.0000 - val_fp: 10.0000 - val_tn: 62.0000 - val_fn: 733.0000 - val_binary_acc: 0.5564 - val_precision: 0.9886 - val_recall: 0.5427 - val_f1_score: 0.7008 - val_roc_auc: 0.7640 - val_pr_auc: 0.9863 - val_cohen_kappa: 0.0697 - lr: 1.0000e-06\n",
      "Epoch 29/100\n",
      "210/210 [==============================] - 34s 163ms/step - loss: 0.3200 - tp: 2553.0000 - fp: 6.0000 - tn: 4133.0000 - fn: 12.0000 - binary_acc: 0.9973 - precision: 0.9977 - recall: 0.9953 - f1_score: 0.9965 - roc_auc: 0.9997 - pr_auc: 0.9995 - cohen_kappa: 0.9943 - val_loss: 1.4052 - val_tp: 881.0000 - val_fp: 10.0000 - val_tn: 62.0000 - val_fn: 722.0000 - val_binary_acc: 0.5630 - val_precision: 0.9888 - val_recall: 0.5496 - val_f1_score: 0.7065 - val_roc_auc: 0.7643 - val_pr_auc: 0.9863 - val_cohen_kappa: 0.0718 - lr: 1.0000e-06\n"
     ]
    },
    {
     "name": "stdout",
     "output_type": "stream",
     "text": [
      "Epoch 30/100\n",
      "210/210 [==============================] - 35s 165ms/step - loss: 0.3212 - tp: 2537.0000 - fp: 8.0000 - tn: 4131.0000 - fn: 28.0000 - binary_acc: 0.9946 - precision: 0.9969 - recall: 0.9891 - f1_score: 0.9930 - roc_auc: 0.9997 - pr_auc: 0.9995 - cohen_kappa: 0.9886 - val_loss: 1.4535 - val_tp: 855.0000 - val_fp: 9.0000 - val_tn: 63.0000 - val_fn: 748.0000 - val_binary_acc: 0.5481 - val_precision: 0.9896 - val_recall: 0.5334 - val_f1_score: 0.6931 - val_roc_auc: 0.7653 - val_pr_auc: 0.9864 - val_cohen_kappa: 0.0692 - lr: 1.0000e-06\n",
      "Epoch 30: early stopping\n"
     ]
    }
   ],
   "source": [
    "history = model.fit(\n",
    "    trainset,\n",
    "    epochs=100,\n",
    "    validation_data=validationset,\n",
    "    callbacks=[early_stopping, reduce_lr_on_plateau],\n",
    ")"
   ]
  },
  {
   "cell_type": "code",
   "execution_count": 63,
   "id": "a77278a7",
   "metadata": {},
   "outputs": [
    {
     "data": {
      "image/png": "[encoded data removed]",
      "text/plain": [
       "<Figure size 1296x1080 with 4 Axes>"
      ]
     },
     "metadata": {},
     "output_type": "display_data"
    }
   ],
   "source": [
    "plot_metrics(history)"
   ]
  },
  {
   "cell_type": "code",
   "execution_count": 64,
   "id": "7687b013",
   "metadata": {},
   "outputs": [
    {
     "name": "stdout",
     "output_type": "stream",
     "text": [
      "18/18 [==============================] - 2s 113ms/step - loss: 1.0409 - tp: 160.0000 - fp: 53.0000 - tn: 232.0000 - fn: 118.0000 - binary_acc: 0.6963 - precision: 0.7512 - recall: 0.5755 - f1_score: 0.6517 - roc_auc: 0.7435 - pr_auc: 0.7661 - cohen_kappa: 0.3907\n"
     ]
    }
   ],
   "source": [
    "# get the loss value & metrics values for the model in test mode\n",
    "evaluation_metrics = model.evaluate(testset, verbose=1)"
   ]
  },
  {
   "cell_type": "code",
   "execution_count": 65,
   "id": "f6a76183",
   "metadata": {},
   "outputs": [
    {
     "name": "stdout",
     "output_type": "stream",
     "text": [
      "test loss   : 1.0408942699432373\n",
      "tp          : 160.0\n",
      "fp          : 53.0\n",
      "tn          : 232.0\n",
      "fn          : 118.0\n",
      "binary_acc  : 0.6962699890136719\n",
      "precision   : 0.751173734664917\n",
      "recall      : 0.5755395889282227\n",
      "f1_score    : 0.6517311930656433\n",
      "roc_auc     : 0.7435251474380493\n",
      "pr_auc      : 0.7661154270172119\n",
      "cohen_kappa : 0.39069652557373047\n"
     ]
    }
   ],
   "source": [
    "loss = evaluation_metrics.pop(0)\n",
    "\n",
    "print(f\"test loss   : {loss}\")\n",
    "for metric, score in zip(METRICS, evaluation_metrics):\n",
    "\n",
    "    print(f\"{metric.name + ' ' * (12 - len(metric.name))}: {score}\")"
   ]
  },
  {
   "cell_type": "code",
   "execution_count": 66,
   "id": "90009e74",
   "metadata": {},
   "outputs": [
    {
     "name": "stdout",
     "output_type": "stream",
     "text": [
      "18/18 [==============================] - 1s 78ms/step\n"
     ]
    }
   ],
   "source": [
    "# get predictions for the test dataset\n",
    "preds = model.predict(testset, verbose=1)"
   ]
  },
  {
   "cell_type": "code",
   "execution_count": 67,
   "id": "f2d67393",
   "metadata": {},
   "outputs": [],
   "source": [
    "temp_testset = ref_testset[ref_testset[\"study_type\"] == \"XR_SHOULDER\"].copy()\n",
    "\n",
    "temp_testset[\"label\"] = temp_testset[\"label\"].map(int)"
   ]
  },
  {
   "cell_type": "code",
   "execution_count": 68,
   "id": "d7d86b78",
   "metadata": {},
   "outputs": [
    {
     "data": {
      "text/plain": [
       "(563, 1)"
      ]
     },
     "execution_count": 68,
     "metadata": {},
     "output_type": "execute_result"
    }
   ],
   "source": [
    "preds.shape"
   ]
  },
  {
   "cell_type": "code",
   "execution_count": 69,
   "id": "98f19d72",
   "metadata": {},
   "outputs": [],
   "source": [
    "temp_testset[\"prediction\"] = preds.ravel()"
   ]
  },
  {
   "cell_type": "code",
   "execution_count": 70,
   "id": "4cb476d9",
   "metadata": {},
   "outputs": [],
   "source": [
    "temp_testset = pd.DataFrame(\n",
    "    [*study_oriented_transformation(temp_testset)],\n",
    "    columns=[\"study\", \"label\", \"prediction\"],\n",
    ")"
   ]
  },
  {
   "cell_type": "code",
   "execution_count": 71,
   "id": "5b85ba17",
   "metadata": {},
   "outputs": [
    {
     "data": {
      "text/plain": [
       "-0.07997002462263159"
      ]
     },
     "execution_count": 71,
     "metadata": {},
     "output_type": "execute_result"
    }
   ],
   "source": [
    "cohen_kappa_score(temp_testset[\"label\"].values, temp_testset[\"prediction\"].values)"
   ]
  },
  {
   "cell_type": "code",
   "execution_count": 72,
   "id": "79d50c5a",
   "metadata": {},
   "outputs": [],
   "source": [
    "# model naming convention: {architecture}-{study-type}-{num-parameters}.h5\n",
    "#\n",
    "# to load model:\n",
    "# model = tf.keras.models.load_model(\n",
    "#     '../models/cnn-XR_SHOULDER-3305473.h5',\n",
    "#     custom_objects={'F1Score': F1Score}\n",
    "# )\n",
    "model.save(\"../models/cnn-XR_SHOULDER-3305473.h5\")"
   ]
  },
  {
   "cell_type": "code",
   "execution_count": 73,
   "id": "18a2e6b5",
   "metadata": {},
   "outputs": [],
   "source": [
    "clean_up(model)\n",
    "del temp_testset"
   ]
  }
 ],
 "metadata": {
  "kernelspec": {
   "display_name": "Python 3 (ipykernel)",
   "language": "python",
   "name": "python3"
  },
  "language_info": {
   "codemirror_mode": {
    "name": "ipython",
    "version": 3
   },
   "file_extension": ".py",
   "mimetype": "text/x-python",
   "name": "python",
   "nbconvert_exporter": "python",
   "pygments_lexer": "ipython3",
   "version": "3.8.10"
  }
 },
 "nbformat": 4,
 "nbformat_minor": 5
}
