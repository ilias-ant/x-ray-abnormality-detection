{
 "cells": [
  {
   "cell_type": "markdown",
   "id": "7a899787",
   "metadata": {},
   "source": [
    "## X-Ray Abnormality Detection with CNNs"
   ]
  },
  {
   "cell_type": "markdown",
   "id": "c7764e65",
   "metadata": {},
   "source": [
    "> **Antonopoulos Ilias** ( *p3352004* ) <br />\n",
    "> **Ndoja Silva** ( *p3352017* ) <br />\n",
    "> **MSc in Data Science, AUEB**"
   ]
  },
  {
   "cell_type": "markdown",
   "id": "aa71e65e",
   "metadata": {},
   "source": [
    "## Table of Contents\n",
    "\n",
    "- [Data Loading](#Data-Loading)\n",
    " * [Create a tensorflow input pipeline for the training data](#Create-a-tensorflow-input-pipeline-for-the-training-data)\n",
    " * [Create a tensorflow input pipeline for the testing data](#Create-a-tensorflow-input-pipeline-for-the-testing-data)\n",
    "- [Baseline Performance](#Baseline-Performance)\n",
    " * [Random Classification](#Random-Classification)\n",
    " * [CNN architecture with sensible defaults](#CNN-architecture-with-sensible-defaults)\n",
    " * [Only on XR_SHOULDER study type](#Only-on-XR_SHOULDER-study-type)"
   ]
  },
  {
   "cell_type": "code",
   "execution_count": 1,
   "id": "99fc7dec",
   "metadata": {},
   "outputs": [],
   "source": [
    "import gc\n",
    "import os\n",
    "import pathlib\n",
    "import random\n",
    "import re\n",
    "from glob import glob\n",
    "from PIL import Image\n",
    "from typing import Iterable\n",
    "\n",
    "import matplotlib.pyplot as plt\n",
    "import numpy as np\n",
    "import pandas as pd\n",
    "import tensorflow as tf\n",
    "import tensorflow_addons as tfa\n",
    "from matplotlib import image\n",
    "from sklearn.metrics import cohen_kappa_score, confusion_matrix\n",
    "\n",
    "\n",
    "pd.set_option(\"max_colwidth\", None)\n",
    "plt.style.use(\"dark_background\")"
   ]
  },
  {
   "cell_type": "code",
   "execution_count": 2,
   "id": "6d6c351a",
   "metadata": {},
   "outputs": [
    {
     "name": "stdout",
     "output_type": "stream",
     "text": [
      "2.8.0\n"
     ]
    }
   ],
   "source": [
    "print(tf.__version__)"
   ]
  },
  {
   "cell_type": "code",
   "execution_count": 3,
   "id": "1fa8b39b",
   "metadata": {},
   "outputs": [
    {
     "name": "stdout",
     "output_type": "stream",
     "text": [
      "Num GPUs Available:  1\n"
     ]
    },
    {
     "name": "stderr",
     "output_type": "stream",
     "text": [
      "2022-03-26 21:38:56.126010: I tensorflow/stream_executor/cuda/cuda_gpu_executor.cc:936] successful NUMA node read from SysFS had negative value (-1), but there must be at least one NUMA node, so returning NUMA node zero\n",
      "2022-03-26 21:38:56.152883: I tensorflow/stream_executor/cuda/cuda_gpu_executor.cc:936] successful NUMA node read from SysFS had negative value (-1), but there must be at least one NUMA node, so returning NUMA node zero\n",
      "2022-03-26 21:38:56.153057: I tensorflow/stream_executor/cuda/cuda_gpu_executor.cc:936] successful NUMA node read from SysFS had negative value (-1), but there must be at least one NUMA node, so returning NUMA node zero\n"
     ]
    }
   ],
   "source": [
    "print(\"Num GPUs Available: \", len(tf.config.list_physical_devices(\"GPU\")))"
   ]
  },
  {
   "cell_type": "code",
   "execution_count": 4,
   "id": "8d64d949",
   "metadata": {},
   "outputs": [],
   "source": [
    "gpus = tf.config.experimental.list_physical_devices(\"GPU\")\n",
    "\n",
    "try:\n",
    "    tf.config.experimental.set_memory_growth(gpus[0], True)\n",
    "except IndexError:\n",
    "    print(\"Cannot memory-restrict the GPU, if no GPU exists in system. Ignore...\")\n",
    "    pass"
   ]
  },
  {
   "cell_type": "code",
   "execution_count": 5,
   "id": "a6659fde",
   "metadata": {},
   "outputs": [],
   "source": [
    "SEED = 99910123\n",
    "\n",
    "os.environ[\"PYTHONHASHSEED\"] = str(SEED)\n",
    "random.seed(SEED)\n",
    "tf.random.set_seed(SEED)\n",
    "np.random.seed(SEED)"
   ]
  },
  {
   "cell_type": "markdown",
   "id": "b5346f99",
   "metadata": {},
   "source": [
    "### Data Loading"
   ]
  },
  {
   "cell_type": "code",
   "execution_count": 6,
   "id": "5819c5d3",
   "metadata": {},
   "outputs": [],
   "source": [
    "DATASET_DIR = \"../data/MURA-v1.1/\""
   ]
  },
  {
   "cell_type": "code",
   "execution_count": 7,
   "id": "22e69e6c",
   "metadata": {},
   "outputs": [],
   "source": [
    "def inspect_df(df: pd.DataFrame, n: int = 5) -> pd.DataFrame:\n",
    "    \"\"\"Helper method to easily inspect DataFrames.\"\"\"\n",
    "\n",
    "    print(f\"shape: {df.shape}\")\n",
    "\n",
    "    return df.head(n)"
   ]
  },
  {
   "cell_type": "code",
   "execution_count": 8,
   "id": "67d931da",
   "metadata": {},
   "outputs": [
    {
     "data": {
      "text/plain": [
       "['../data/MURA-v1.1/train/XR_WRIST/patient08092/study1_negative/image1.png',\n",
       " '../data/MURA-v1.1/train/XR_FINGER/patient01064/study1_positive/image1.png',\n",
       " '../data/MURA-v1.1/valid/XR_ELBOW/patient11831/study1_positive/image1.png',\n",
       " '../data/MURA-v1.1/train/XR_SHOULDER/patient00442/study1_positive/image1.png',\n",
       " '../data/MURA-v1.1/train/XR_ELBOW/patient06289/study1_negative/image3.png',\n",
       " '../data/MURA-v1.1/train/XR_WRIST/patient08562/study1_negative/image2.png',\n",
       " '../data/MURA-v1.1/train/XR_FINGER/patient04280/study1_negative/image3.png',\n",
       " '../data/MURA-v1.1/train/XR_WRIST/patient07018/study1_positive/image1.png',\n",
       " '../data/MURA-v1.1/train/XR_ELBOW/patient06000/study1_negative/image1.png',\n",
       " '../data/MURA-v1.1/train/XR_SHOULDER/patient00497/study2_negative/image4.png']"
      ]
     },
     "execution_count": 8,
     "metadata": {},
     "output_type": "execute_result"
    }
   ],
   "source": [
    "random.choices(glob(os.path.join(DATASET_DIR, \"*\", \"*\", \"*\", \"*\", \"*.png\")), k=10)"
   ]
  },
  {
   "cell_type": "markdown",
   "id": "3e68ad35",
   "metadata": {},
   "source": [
    "So, the data structure is the following:\n",
    "\n",
    "```\n",
    "\n",
    "└─train {data subset}\n",
    "│   └───XR_ELBOW {study type}\n",
    "│       │  └───patient00011 {patient}\n",
    "│       │         └───study1_negative {study with label}\n",
    "│       │               └───image1.png {view}\n",
    "│       │               └───image2.png \n",
    "│       │               └───image3.png \n",
    "                        └───...\n",
    "   ...\n",
    "   \n",
    "\n",
    "└─valid {data subset}\n",
    "│   └───XR_HUMERUS {study type}\n",
    "│       │  └───patient11216 {patient}\n",
    "│       │         └───study1_negative {study with label}\n",
    "│       │               └───image1.png {view}\n",
    "│       │               └───image2.png \n",
    "                        └───...\n",
    "```"
   ]
  },
  {
   "cell_type": "code",
   "execution_count": 9,
   "id": "0e99c8e4",
   "metadata": {},
   "outputs": [
    {
     "name": "stdout",
     "output_type": "stream",
     "text": [
      "Total PNG images found in dir <../data/MURA-v1.1/>: 40009\n"
     ]
    }
   ],
   "source": [
    "image_count = len(list(pathlib.Path(DATASET_DIR).glob(\"*/*/*/*/*.png\")))\n",
    "\n",
    "print(f\"Total PNG images found in dir <{DATASET_DIR}>: {image_count}\")"
   ]
  },
  {
   "cell_type": "markdown",
   "id": "e3cc7391",
   "metadata": {},
   "source": [
    "We will start by creating a tabular form of the training data (with no actual image files), in order to quickly analyze them. A proper data loader (of the actual image files) will be implemented after that, in a tensorflow-friendly manner."
   ]
  },
  {
   "cell_type": "code",
   "execution_count": 10,
   "id": "6ee568f1",
   "metadata": {
    "scrolled": false
   },
   "outputs": [
    {
     "name": "stdout",
     "output_type": "stream",
     "text": [
      "shape: (36808, 1)\n"
     ]
    },
    {
     "data": {
      "text/html": [
       "<div>\n",
       "<style scoped>\n",
       "    .dataframe tbody tr th:only-of-type {\n",
       "        vertical-align: middle;\n",
       "    }\n",
       "\n",
       "    .dataframe tbody tr th {\n",
       "        vertical-align: top;\n",
       "    }\n",
       "\n",
       "    .dataframe thead th {\n",
       "        text-align: right;\n",
       "    }\n",
       "</style>\n",
       "<table border=\"1\" class=\"dataframe\">\n",
       "  <thead>\n",
       "    <tr style=\"text-align: right;\">\n",
       "      <th></th>\n",
       "      <th>image_path</th>\n",
       "    </tr>\n",
       "  </thead>\n",
       "  <tbody>\n",
       "    <tr>\n",
       "      <th>0</th>\n",
       "      <td>MURA-v1.1/train/XR_SHOULDER/patient00001/study1_positive/image1.png</td>\n",
       "    </tr>\n",
       "    <tr>\n",
       "      <th>1</th>\n",
       "      <td>MURA-v1.1/train/XR_SHOULDER/patient00001/study1_positive/image2.png</td>\n",
       "    </tr>\n",
       "    <tr>\n",
       "      <th>2</th>\n",
       "      <td>MURA-v1.1/train/XR_SHOULDER/patient00001/study1_positive/image3.png</td>\n",
       "    </tr>\n",
       "    <tr>\n",
       "      <th>3</th>\n",
       "      <td>MURA-v1.1/train/XR_SHOULDER/patient00002/study1_positive/image1.png</td>\n",
       "    </tr>\n",
       "    <tr>\n",
       "      <th>4</th>\n",
       "      <td>MURA-v1.1/train/XR_SHOULDER/patient00002/study1_positive/image2.png</td>\n",
       "    </tr>\n",
       "  </tbody>\n",
       "</table>\n",
       "</div>"
      ],
      "text/plain": [
       "                                                            image_path\n",
       "0  MURA-v1.1/train/XR_SHOULDER/patient00001/study1_positive/image1.png\n",
       "1  MURA-v1.1/train/XR_SHOULDER/patient00001/study1_positive/image2.png\n",
       "2  MURA-v1.1/train/XR_SHOULDER/patient00001/study1_positive/image3.png\n",
       "3  MURA-v1.1/train/XR_SHOULDER/patient00002/study1_positive/image1.png\n",
       "4  MURA-v1.1/train/XR_SHOULDER/patient00002/study1_positive/image2.png"
      ]
     },
     "execution_count": 10,
     "metadata": {},
     "output_type": "execute_result"
    }
   ],
   "source": [
    "train_image_paths = pd.read_csv(\n",
    "    os.path.join(DATASET_DIR, \"train_image_paths.csv\"),\n",
    "    names=[\"image_path\"],\n",
    "    header=None,\n",
    "    index_col=False,\n",
    ")\n",
    "\n",
    "inspect_df(train_image_paths)"
   ]
  },
  {
   "cell_type": "code",
   "execution_count": 11,
   "id": "60a69725",
   "metadata": {},
   "outputs": [],
   "source": [
    "train_image_paths[\"image_path\"] = train_image_paths[\"image_path\"].map(\n",
    "    lambda x: os.path.join(\"../data/\", x)\n",
    ")\n",
    "train_image_paths[\"study_type\"] = train_image_paths[\"image_path\"].map(\n",
    "    lambda x: x.split(\"/\")[4]\n",
    ")\n",
    "train_image_paths[\"patient\"] = train_image_paths[\"image_path\"].map(\n",
    "    lambda x: x.split(\"/\")[5]\n",
    ")\n",
    "train_image_paths[\"study\"] = train_image_paths[\"image_path\"].map(\n",
    "    lambda x: x.split(\"/\")[6]\n",
    ")\n",
    "train_image_paths[\"study_path\"] = train_image_paths[\"image_path\"].map(\n",
    "    lambda x: re.sub(r\"image\\d+.png\", \"\", x)\n",
    ")"
   ]
  },
  {
   "cell_type": "code",
   "execution_count": 12,
   "id": "d073e76e",
   "metadata": {},
   "outputs": [
    {
     "name": "stdout",
     "output_type": "stream",
     "text": [
      "shape: (36808, 5)\n"
     ]
    },
    {
     "data": {
      "text/html": [
       "<div>\n",
       "<style scoped>\n",
       "    .dataframe tbody tr th:only-of-type {\n",
       "        vertical-align: middle;\n",
       "    }\n",
       "\n",
       "    .dataframe tbody tr th {\n",
       "        vertical-align: top;\n",
       "    }\n",
       "\n",
       "    .dataframe thead th {\n",
       "        text-align: right;\n",
       "    }\n",
       "</style>\n",
       "<table border=\"1\" class=\"dataframe\">\n",
       "  <thead>\n",
       "    <tr style=\"text-align: right;\">\n",
       "      <th></th>\n",
       "      <th>image_path</th>\n",
       "      <th>study_type</th>\n",
       "      <th>patient</th>\n",
       "      <th>study</th>\n",
       "      <th>study_path</th>\n",
       "    </tr>\n",
       "  </thead>\n",
       "  <tbody>\n",
       "    <tr>\n",
       "      <th>0</th>\n",
       "      <td>../data/MURA-v1.1/train/XR_SHOULDER/patient00001/study1_positive/image1.png</td>\n",
       "      <td>XR_SHOULDER</td>\n",
       "      <td>patient00001</td>\n",
       "      <td>study1_positive</td>\n",
       "      <td>../data/MURA-v1.1/train/XR_SHOULDER/patient00001/study1_positive/</td>\n",
       "    </tr>\n",
       "    <tr>\n",
       "      <th>1</th>\n",
       "      <td>../data/MURA-v1.1/train/XR_SHOULDER/patient00001/study1_positive/image2.png</td>\n",
       "      <td>XR_SHOULDER</td>\n",
       "      <td>patient00001</td>\n",
       "      <td>study1_positive</td>\n",
       "      <td>../data/MURA-v1.1/train/XR_SHOULDER/patient00001/study1_positive/</td>\n",
       "    </tr>\n",
       "    <tr>\n",
       "      <th>2</th>\n",
       "      <td>../data/MURA-v1.1/train/XR_SHOULDER/patient00001/study1_positive/image3.png</td>\n",
       "      <td>XR_SHOULDER</td>\n",
       "      <td>patient00001</td>\n",
       "      <td>study1_positive</td>\n",
       "      <td>../data/MURA-v1.1/train/XR_SHOULDER/patient00001/study1_positive/</td>\n",
       "    </tr>\n",
       "    <tr>\n",
       "      <th>3</th>\n",
       "      <td>../data/MURA-v1.1/train/XR_SHOULDER/patient00002/study1_positive/image1.png</td>\n",
       "      <td>XR_SHOULDER</td>\n",
       "      <td>patient00002</td>\n",
       "      <td>study1_positive</td>\n",
       "      <td>../data/MURA-v1.1/train/XR_SHOULDER/patient00002/study1_positive/</td>\n",
       "    </tr>\n",
       "    <tr>\n",
       "      <th>4</th>\n",
       "      <td>../data/MURA-v1.1/train/XR_SHOULDER/patient00002/study1_positive/image2.png</td>\n",
       "      <td>XR_SHOULDER</td>\n",
       "      <td>patient00002</td>\n",
       "      <td>study1_positive</td>\n",
       "      <td>../data/MURA-v1.1/train/XR_SHOULDER/patient00002/study1_positive/</td>\n",
       "    </tr>\n",
       "  </tbody>\n",
       "</table>\n",
       "</div>"
      ],
      "text/plain": [
       "                                                                    image_path  \\\n",
       "0  ../data/MURA-v1.1/train/XR_SHOULDER/patient00001/study1_positive/image1.png   \n",
       "1  ../data/MURA-v1.1/train/XR_SHOULDER/patient00001/study1_positive/image2.png   \n",
       "2  ../data/MURA-v1.1/train/XR_SHOULDER/patient00001/study1_positive/image3.png   \n",
       "3  ../data/MURA-v1.1/train/XR_SHOULDER/patient00002/study1_positive/image1.png   \n",
       "4  ../data/MURA-v1.1/train/XR_SHOULDER/patient00002/study1_positive/image2.png   \n",
       "\n",
       "    study_type       patient            study  \\\n",
       "0  XR_SHOULDER  patient00001  study1_positive   \n",
       "1  XR_SHOULDER  patient00001  study1_positive   \n",
       "2  XR_SHOULDER  patient00001  study1_positive   \n",
       "3  XR_SHOULDER  patient00002  study1_positive   \n",
       "4  XR_SHOULDER  patient00002  study1_positive   \n",
       "\n",
       "                                                          study_path  \n",
       "0  ../data/MURA-v1.1/train/XR_SHOULDER/patient00001/study1_positive/  \n",
       "1  ../data/MURA-v1.1/train/XR_SHOULDER/patient00001/study1_positive/  \n",
       "2  ../data/MURA-v1.1/train/XR_SHOULDER/patient00001/study1_positive/  \n",
       "3  ../data/MURA-v1.1/train/XR_SHOULDER/patient00002/study1_positive/  \n",
       "4  ../data/MURA-v1.1/train/XR_SHOULDER/patient00002/study1_positive/  "
      ]
     },
     "execution_count": 12,
     "metadata": {},
     "output_type": "execute_result"
    }
   ],
   "source": [
    "inspect_df(train_image_paths)"
   ]
  },
  {
   "cell_type": "code",
   "execution_count": 13,
   "id": "59cf2544",
   "metadata": {
    "scrolled": false
   },
   "outputs": [
    {
     "name": "stdout",
     "output_type": "stream",
     "text": [
      "shape: (13457, 2)\n"
     ]
    },
    {
     "data": {
      "text/html": [
       "<div>\n",
       "<style scoped>\n",
       "    .dataframe tbody tr th:only-of-type {\n",
       "        vertical-align: middle;\n",
       "    }\n",
       "\n",
       "    .dataframe tbody tr th {\n",
       "        vertical-align: top;\n",
       "    }\n",
       "\n",
       "    .dataframe thead th {\n",
       "        text-align: right;\n",
       "    }\n",
       "</style>\n",
       "<table border=\"1\" class=\"dataframe\">\n",
       "  <thead>\n",
       "    <tr style=\"text-align: right;\">\n",
       "      <th></th>\n",
       "      <th>study_path</th>\n",
       "      <th>label</th>\n",
       "    </tr>\n",
       "  </thead>\n",
       "  <tbody>\n",
       "    <tr>\n",
       "      <th>0</th>\n",
       "      <td>MURA-v1.1/train/XR_SHOULDER/patient00001/study1_positive/</td>\n",
       "      <td>1</td>\n",
       "    </tr>\n",
       "    <tr>\n",
       "      <th>1</th>\n",
       "      <td>MURA-v1.1/train/XR_SHOULDER/patient00002/study1_positive/</td>\n",
       "      <td>1</td>\n",
       "    </tr>\n",
       "    <tr>\n",
       "      <th>2</th>\n",
       "      <td>MURA-v1.1/train/XR_SHOULDER/patient00003/study1_positive/</td>\n",
       "      <td>1</td>\n",
       "    </tr>\n",
       "    <tr>\n",
       "      <th>3</th>\n",
       "      <td>MURA-v1.1/train/XR_SHOULDER/patient00004/study1_positive/</td>\n",
       "      <td>1</td>\n",
       "    </tr>\n",
       "    <tr>\n",
       "      <th>4</th>\n",
       "      <td>MURA-v1.1/train/XR_SHOULDER/patient00005/study1_positive/</td>\n",
       "      <td>1</td>\n",
       "    </tr>\n",
       "  </tbody>\n",
       "</table>\n",
       "</div>"
      ],
      "text/plain": [
       "                                                  study_path  label\n",
       "0  MURA-v1.1/train/XR_SHOULDER/patient00001/study1_positive/      1\n",
       "1  MURA-v1.1/train/XR_SHOULDER/patient00002/study1_positive/      1\n",
       "2  MURA-v1.1/train/XR_SHOULDER/patient00003/study1_positive/      1\n",
       "3  MURA-v1.1/train/XR_SHOULDER/patient00004/study1_positive/      1\n",
       "4  MURA-v1.1/train/XR_SHOULDER/patient00005/study1_positive/      1"
      ]
     },
     "execution_count": 13,
     "metadata": {},
     "output_type": "execute_result"
    }
   ],
   "source": [
    "train_labeled_studies = pd.read_csv(\n",
    "    os.path.join(DATASET_DIR, \"train_labeled_studies.csv\"),\n",
    "    names=[\"study_path\", \"label\"],\n",
    "    header=None,\n",
    "    index_col=False,\n",
    ")\n",
    "\n",
    "inspect_df(train_labeled_studies)"
   ]
  },
  {
   "cell_type": "code",
   "execution_count": 14,
   "id": "df9a7f5d",
   "metadata": {},
   "outputs": [],
   "source": [
    "train_labeled_studies[\"study_path\"] = train_labeled_studies[\"study_path\"].map(\n",
    "    lambda x: os.path.join(\"../data/\", x)\n",
    ")\n",
    "train_labeled_studies[\"label\"] = train_labeled_studies[\"label\"].map(str)"
   ]
  },
  {
   "cell_type": "code",
   "execution_count": 15,
   "id": "408b169b",
   "metadata": {
    "scrolled": false
   },
   "outputs": [
    {
     "name": "stdout",
     "output_type": "stream",
     "text": [
      "shape: (13457, 2)\n"
     ]
    },
    {
     "data": {
      "text/html": [
       "<div>\n",
       "<style scoped>\n",
       "    .dataframe tbody tr th:only-of-type {\n",
       "        vertical-align: middle;\n",
       "    }\n",
       "\n",
       "    .dataframe tbody tr th {\n",
       "        vertical-align: top;\n",
       "    }\n",
       "\n",
       "    .dataframe thead th {\n",
       "        text-align: right;\n",
       "    }\n",
       "</style>\n",
       "<table border=\"1\" class=\"dataframe\">\n",
       "  <thead>\n",
       "    <tr style=\"text-align: right;\">\n",
       "      <th></th>\n",
       "      <th>study_path</th>\n",
       "      <th>label</th>\n",
       "    </tr>\n",
       "  </thead>\n",
       "  <tbody>\n",
       "    <tr>\n",
       "      <th>0</th>\n",
       "      <td>../data/MURA-v1.1/train/XR_SHOULDER/patient00001/study1_positive/</td>\n",
       "      <td>1</td>\n",
       "    </tr>\n",
       "    <tr>\n",
       "      <th>1</th>\n",
       "      <td>../data/MURA-v1.1/train/XR_SHOULDER/patient00002/study1_positive/</td>\n",
       "      <td>1</td>\n",
       "    </tr>\n",
       "    <tr>\n",
       "      <th>2</th>\n",
       "      <td>../data/MURA-v1.1/train/XR_SHOULDER/patient00003/study1_positive/</td>\n",
       "      <td>1</td>\n",
       "    </tr>\n",
       "    <tr>\n",
       "      <th>3</th>\n",
       "      <td>../data/MURA-v1.1/train/XR_SHOULDER/patient00004/study1_positive/</td>\n",
       "      <td>1</td>\n",
       "    </tr>\n",
       "    <tr>\n",
       "      <th>4</th>\n",
       "      <td>../data/MURA-v1.1/train/XR_SHOULDER/patient00005/study1_positive/</td>\n",
       "      <td>1</td>\n",
       "    </tr>\n",
       "  </tbody>\n",
       "</table>\n",
       "</div>"
      ],
      "text/plain": [
       "                                                          study_path label\n",
       "0  ../data/MURA-v1.1/train/XR_SHOULDER/patient00001/study1_positive/     1\n",
       "1  ../data/MURA-v1.1/train/XR_SHOULDER/patient00002/study1_positive/     1\n",
       "2  ../data/MURA-v1.1/train/XR_SHOULDER/patient00003/study1_positive/     1\n",
       "3  ../data/MURA-v1.1/train/XR_SHOULDER/patient00004/study1_positive/     1\n",
       "4  ../data/MURA-v1.1/train/XR_SHOULDER/patient00005/study1_positive/     1"
      ]
     },
     "execution_count": 15,
     "metadata": {},
     "output_type": "execute_result"
    }
   ],
   "source": [
    "inspect_df(train_labeled_studies)"
   ]
  },
  {
   "cell_type": "code",
   "execution_count": 16,
   "id": "98c49b41",
   "metadata": {},
   "outputs": [
    {
     "name": "stdout",
     "output_type": "stream",
     "text": [
      "shape: (36808, 6)\n"
     ]
    },
    {
     "data": {
      "text/html": [
       "<div>\n",
       "<style scoped>\n",
       "    .dataframe tbody tr th:only-of-type {\n",
       "        vertical-align: middle;\n",
       "    }\n",
       "\n",
       "    .dataframe tbody tr th {\n",
       "        vertical-align: top;\n",
       "    }\n",
       "\n",
       "    .dataframe thead th {\n",
       "        text-align: right;\n",
       "    }\n",
       "</style>\n",
       "<table border=\"1\" class=\"dataframe\">\n",
       "  <thead>\n",
       "    <tr style=\"text-align: right;\">\n",
       "      <th></th>\n",
       "      <th>image_path</th>\n",
       "      <th>study_type</th>\n",
       "      <th>patient</th>\n",
       "      <th>study</th>\n",
       "      <th>study_path</th>\n",
       "      <th>label</th>\n",
       "    </tr>\n",
       "  </thead>\n",
       "  <tbody>\n",
       "    <tr>\n",
       "      <th>0</th>\n",
       "      <td>../data/MURA-v1.1/train/XR_SHOULDER/patient00001/study1_positive/image1.png</td>\n",
       "      <td>XR_SHOULDER</td>\n",
       "      <td>patient00001</td>\n",
       "      <td>study1_positive</td>\n",
       "      <td>../data/MURA-v1.1/train/XR_SHOULDER/patient00001/study1_positive/</td>\n",
       "      <td>1</td>\n",
       "    </tr>\n",
       "    <tr>\n",
       "      <th>1</th>\n",
       "      <td>../data/MURA-v1.1/train/XR_SHOULDER/patient00001/study1_positive/image2.png</td>\n",
       "      <td>XR_SHOULDER</td>\n",
       "      <td>patient00001</td>\n",
       "      <td>study1_positive</td>\n",
       "      <td>../data/MURA-v1.1/train/XR_SHOULDER/patient00001/study1_positive/</td>\n",
       "      <td>1</td>\n",
       "    </tr>\n",
       "    <tr>\n",
       "      <th>2</th>\n",
       "      <td>../data/MURA-v1.1/train/XR_SHOULDER/patient00001/study1_positive/image3.png</td>\n",
       "      <td>XR_SHOULDER</td>\n",
       "      <td>patient00001</td>\n",
       "      <td>study1_positive</td>\n",
       "      <td>../data/MURA-v1.1/train/XR_SHOULDER/patient00001/study1_positive/</td>\n",
       "      <td>1</td>\n",
       "    </tr>\n",
       "    <tr>\n",
       "      <th>3</th>\n",
       "      <td>../data/MURA-v1.1/train/XR_SHOULDER/patient00002/study1_positive/image1.png</td>\n",
       "      <td>XR_SHOULDER</td>\n",
       "      <td>patient00002</td>\n",
       "      <td>study1_positive</td>\n",
       "      <td>../data/MURA-v1.1/train/XR_SHOULDER/patient00002/study1_positive/</td>\n",
       "      <td>1</td>\n",
       "    </tr>\n",
       "    <tr>\n",
       "      <th>4</th>\n",
       "      <td>../data/MURA-v1.1/train/XR_SHOULDER/patient00002/study1_positive/image2.png</td>\n",
       "      <td>XR_SHOULDER</td>\n",
       "      <td>patient00002</td>\n",
       "      <td>study1_positive</td>\n",
       "      <td>../data/MURA-v1.1/train/XR_SHOULDER/patient00002/study1_positive/</td>\n",
       "      <td>1</td>\n",
       "    </tr>\n",
       "  </tbody>\n",
       "</table>\n",
       "</div>"
      ],
      "text/plain": [
       "                                                                    image_path  \\\n",
       "0  ../data/MURA-v1.1/train/XR_SHOULDER/patient00001/study1_positive/image1.png   \n",
       "1  ../data/MURA-v1.1/train/XR_SHOULDER/patient00001/study1_positive/image2.png   \n",
       "2  ../data/MURA-v1.1/train/XR_SHOULDER/patient00001/study1_positive/image3.png   \n",
       "3  ../data/MURA-v1.1/train/XR_SHOULDER/patient00002/study1_positive/image1.png   \n",
       "4  ../data/MURA-v1.1/train/XR_SHOULDER/patient00002/study1_positive/image2.png   \n",
       "\n",
       "    study_type       patient            study  \\\n",
       "0  XR_SHOULDER  patient00001  study1_positive   \n",
       "1  XR_SHOULDER  patient00001  study1_positive   \n",
       "2  XR_SHOULDER  patient00001  study1_positive   \n",
       "3  XR_SHOULDER  patient00002  study1_positive   \n",
       "4  XR_SHOULDER  patient00002  study1_positive   \n",
       "\n",
       "                                                          study_path label  \n",
       "0  ../data/MURA-v1.1/train/XR_SHOULDER/patient00001/study1_positive/     1  \n",
       "1  ../data/MURA-v1.1/train/XR_SHOULDER/patient00001/study1_positive/     1  \n",
       "2  ../data/MURA-v1.1/train/XR_SHOULDER/patient00001/study1_positive/     1  \n",
       "3  ../data/MURA-v1.1/train/XR_SHOULDER/patient00002/study1_positive/     1  \n",
       "4  ../data/MURA-v1.1/train/XR_SHOULDER/patient00002/study1_positive/     1  "
      ]
     },
     "execution_count": 16,
     "metadata": {},
     "output_type": "execute_result"
    }
   ],
   "source": [
    "ref_trainset = pd.merge(\n",
    "    train_image_paths, train_labeled_studies, how=\"inner\", on=\"study_path\"\n",
    ")\n",
    "\n",
    "inspect_df(ref_trainset)"
   ]
  },
  {
   "cell_type": "markdown",
   "id": "41eafe23",
   "metadata": {},
   "source": [
    "#### Create a tensorflow input pipeline for the training data"
   ]
  },
  {
   "cell_type": "code",
   "execution_count": 17,
   "id": "19f477b2",
   "metadata": {},
   "outputs": [],
   "source": [
    "IMAGE_WIDTH = 224\n",
    "IMAGE_HEIGHT = 224"
   ]
  },
  {
   "cell_type": "code",
   "execution_count": 18,
   "id": "c8637a1c",
   "metadata": {},
   "outputs": [],
   "source": [
    "training = tf.keras.preprocessing.image.ImageDataGenerator(\n",
    "    #     rotation_range=30,\n",
    "    #     brightness_range=None,\n",
    "    #     shear_range=0.2,\n",
    "    #     zoom_range=0.2,\n",
    "    #     horizontal_flip=True,\n",
    "    #     fill_mode=\"constant\",\n",
    "    #     cval=0.0,\n",
    "    rescale=1.0 / 255,\n",
    "    validation_split=0.2,\n",
    ")"
   ]
  },
  {
   "cell_type": "code",
   "execution_count": 19,
   "id": "21f38eee",
   "metadata": {},
   "outputs": [
    {
     "name": "stdout",
     "output_type": "stream",
     "text": [
      "Found 29447 validated image filenames belonging to 2 classes.\n"
     ]
    }
   ],
   "source": [
    "trainset = training.flow_from_dataframe(\n",
    "    dataframe=ref_trainset,\n",
    "    x_col=\"image_path\",\n",
    "    y_col=\"label\",\n",
    "    target_size=(IMAGE_WIDTH, IMAGE_HEIGHT),\n",
    "    class_mode=\"binary\",\n",
    "    batch_size=32,\n",
    "    seed=SEED,\n",
    "    shuffle=True,\n",
    "    subset=\"training\",\n",
    ")"
   ]
  },
  {
   "cell_type": "code",
   "execution_count": 20,
   "id": "3d3baff1",
   "metadata": {},
   "outputs": [
    {
     "name": "stdout",
     "output_type": "stream",
     "text": [
      "Found 7361 validated image filenames belonging to 2 classes.\n"
     ]
    }
   ],
   "source": [
    "validationset = training.flow_from_dataframe(\n",
    "    dataframe=ref_trainset,\n",
    "    x_col=\"image_path\",\n",
    "    y_col=\"label\",\n",
    "    target_size=(IMAGE_WIDTH, IMAGE_HEIGHT),\n",
    "    class_mode=\"binary\",\n",
    "    batch_size=32,\n",
    "    seed=SEED,\n",
    "    subset=\"validation\",\n",
    ")"
   ]
  },
  {
   "cell_type": "markdown",
   "id": "6384ad36",
   "metadata": {},
   "source": [
    "#### Create a tensorflow input pipeline for the testing data"
   ]
  },
  {
   "cell_type": "code",
   "execution_count": 21,
   "id": "530cb791",
   "metadata": {},
   "outputs": [],
   "source": [
    "test_image_paths = pd.read_csv(\n",
    "    os.path.join(DATASET_DIR, \"valid_image_paths.csv\"),\n",
    "    names=[\"image_path\"],\n",
    "    header=None,\n",
    "    index_col=False,\n",
    ")"
   ]
  },
  {
   "cell_type": "code",
   "execution_count": 22,
   "id": "3c564c7c",
   "metadata": {},
   "outputs": [],
   "source": [
    "test_image_paths[\"image_path\"] = test_image_paths[\"image_path\"].map(\n",
    "    lambda x: os.path.join(\"../data/\", x)\n",
    ")\n",
    "test_image_paths[\"study_type\"] = test_image_paths[\"image_path\"].map(\n",
    "    lambda x: x.split(\"/\")[4]\n",
    ")\n",
    "test_image_paths[\"patient\"] = test_image_paths[\"image_path\"].map(\n",
    "    lambda x: x.split(\"/\")[5]\n",
    ")\n",
    "test_image_paths[\"study\"] = test_image_paths[\"image_path\"].map(\n",
    "    lambda x: x.split(\"/\")[6]\n",
    ")\n",
    "test_image_paths[\"study_path\"] = test_image_paths[\"image_path\"].map(\n",
    "    lambda x: re.sub(r\"image\\d+.png\", \"\", x)\n",
    ")"
   ]
  },
  {
   "cell_type": "code",
   "execution_count": 23,
   "id": "02fa25e7",
   "metadata": {},
   "outputs": [],
   "source": [
    "test_labeled_studies = pd.read_csv(\n",
    "    os.path.join(DATASET_DIR, \"valid_labeled_studies.csv\"),\n",
    "    names=[\"study_path\", \"label\"],\n",
    "    header=None,\n",
    "    index_col=False,\n",
    ")"
   ]
  },
  {
   "cell_type": "code",
   "execution_count": 24,
   "id": "3b658d66",
   "metadata": {},
   "outputs": [],
   "source": [
    "test_labeled_studies[\"study_path\"] = test_labeled_studies[\"study_path\"].map(\n",
    "    lambda x: os.path.join(\"../data/\", x)\n",
    ")\n",
    "test_labeled_studies[\"label\"] = test_labeled_studies[\"label\"].map(str)"
   ]
  },
  {
   "cell_type": "code",
   "execution_count": 25,
   "id": "28789518",
   "metadata": {},
   "outputs": [
    {
     "name": "stdout",
     "output_type": "stream",
     "text": [
      "shape: (3197, 6)\n"
     ]
    },
    {
     "data": {
      "text/html": [
       "<div>\n",
       "<style scoped>\n",
       "    .dataframe tbody tr th:only-of-type {\n",
       "        vertical-align: middle;\n",
       "    }\n",
       "\n",
       "    .dataframe tbody tr th {\n",
       "        vertical-align: top;\n",
       "    }\n",
       "\n",
       "    .dataframe thead th {\n",
       "        text-align: right;\n",
       "    }\n",
       "</style>\n",
       "<table border=\"1\" class=\"dataframe\">\n",
       "  <thead>\n",
       "    <tr style=\"text-align: right;\">\n",
       "      <th></th>\n",
       "      <th>image_path</th>\n",
       "      <th>study_type</th>\n",
       "      <th>patient</th>\n",
       "      <th>study</th>\n",
       "      <th>study_path</th>\n",
       "      <th>label</th>\n",
       "    </tr>\n",
       "  </thead>\n",
       "  <tbody>\n",
       "    <tr>\n",
       "      <th>0</th>\n",
       "      <td>../data/MURA-v1.1/valid/XR_WRIST/patient11185/study1_positive/image1.png</td>\n",
       "      <td>XR_WRIST</td>\n",
       "      <td>patient11185</td>\n",
       "      <td>study1_positive</td>\n",
       "      <td>../data/MURA-v1.1/valid/XR_WRIST/patient11185/study1_positive/</td>\n",
       "      <td>1</td>\n",
       "    </tr>\n",
       "    <tr>\n",
       "      <th>1</th>\n",
       "      <td>../data/MURA-v1.1/valid/XR_WRIST/patient11185/study1_positive/image2.png</td>\n",
       "      <td>XR_WRIST</td>\n",
       "      <td>patient11185</td>\n",
       "      <td>study1_positive</td>\n",
       "      <td>../data/MURA-v1.1/valid/XR_WRIST/patient11185/study1_positive/</td>\n",
       "      <td>1</td>\n",
       "    </tr>\n",
       "    <tr>\n",
       "      <th>2</th>\n",
       "      <td>../data/MURA-v1.1/valid/XR_WRIST/patient11185/study1_positive/image3.png</td>\n",
       "      <td>XR_WRIST</td>\n",
       "      <td>patient11185</td>\n",
       "      <td>study1_positive</td>\n",
       "      <td>../data/MURA-v1.1/valid/XR_WRIST/patient11185/study1_positive/</td>\n",
       "      <td>1</td>\n",
       "    </tr>\n",
       "    <tr>\n",
       "      <th>3</th>\n",
       "      <td>../data/MURA-v1.1/valid/XR_WRIST/patient11185/study1_positive/image4.png</td>\n",
       "      <td>XR_WRIST</td>\n",
       "      <td>patient11185</td>\n",
       "      <td>study1_positive</td>\n",
       "      <td>../data/MURA-v1.1/valid/XR_WRIST/patient11185/study1_positive/</td>\n",
       "      <td>1</td>\n",
       "    </tr>\n",
       "    <tr>\n",
       "      <th>4</th>\n",
       "      <td>../data/MURA-v1.1/valid/XR_WRIST/patient11186/study1_positive/image1.png</td>\n",
       "      <td>XR_WRIST</td>\n",
       "      <td>patient11186</td>\n",
       "      <td>study1_positive</td>\n",
       "      <td>../data/MURA-v1.1/valid/XR_WRIST/patient11186/study1_positive/</td>\n",
       "      <td>1</td>\n",
       "    </tr>\n",
       "  </tbody>\n",
       "</table>\n",
       "</div>"
      ],
      "text/plain": [
       "                                                                 image_path  \\\n",
       "0  ../data/MURA-v1.1/valid/XR_WRIST/patient11185/study1_positive/image1.png   \n",
       "1  ../data/MURA-v1.1/valid/XR_WRIST/patient11185/study1_positive/image2.png   \n",
       "2  ../data/MURA-v1.1/valid/XR_WRIST/patient11185/study1_positive/image3.png   \n",
       "3  ../data/MURA-v1.1/valid/XR_WRIST/patient11185/study1_positive/image4.png   \n",
       "4  ../data/MURA-v1.1/valid/XR_WRIST/patient11186/study1_positive/image1.png   \n",
       "\n",
       "  study_type       patient            study  \\\n",
       "0   XR_WRIST  patient11185  study1_positive   \n",
       "1   XR_WRIST  patient11185  study1_positive   \n",
       "2   XR_WRIST  patient11185  study1_positive   \n",
       "3   XR_WRIST  patient11185  study1_positive   \n",
       "4   XR_WRIST  patient11186  study1_positive   \n",
       "\n",
       "                                                       study_path label  \n",
       "0  ../data/MURA-v1.1/valid/XR_WRIST/patient11185/study1_positive/     1  \n",
       "1  ../data/MURA-v1.1/valid/XR_WRIST/patient11185/study1_positive/     1  \n",
       "2  ../data/MURA-v1.1/valid/XR_WRIST/patient11185/study1_positive/     1  \n",
       "3  ../data/MURA-v1.1/valid/XR_WRIST/patient11185/study1_positive/     1  \n",
       "4  ../data/MURA-v1.1/valid/XR_WRIST/patient11186/study1_positive/     1  "
      ]
     },
     "execution_count": 25,
     "metadata": {},
     "output_type": "execute_result"
    }
   ],
   "source": [
    "ref_testset = pd.merge(\n",
    "    test_image_paths, test_labeled_studies, how=\"inner\", on=\"study_path\"\n",
    ")\n",
    "\n",
    "inspect_df(ref_testset)"
   ]
  },
  {
   "cell_type": "code",
   "execution_count": 26,
   "id": "7a83dfa4",
   "metadata": {},
   "outputs": [],
   "source": [
    "testing = tf.keras.preprocessing.image.ImageDataGenerator(\n",
    "    #     rotation_range=30,\n",
    "    #     brightness_range=None,\n",
    "    #     shear_range=0.2,\n",
    "    #     zoom_range=0.2,\n",
    "    #     horizontal_flip=True,\n",
    "    #     fill_mode=\"constant\",\n",
    "    #     cval=0.0,\n",
    "    rescale=1.0\n",
    "    / 255,\n",
    ")"
   ]
  },
  {
   "cell_type": "code",
   "execution_count": 27,
   "id": "c466ce62",
   "metadata": {},
   "outputs": [
    {
     "name": "stdout",
     "output_type": "stream",
     "text": [
      "Found 3197 validated image filenames belonging to 2 classes.\n"
     ]
    }
   ],
   "source": [
    "testset = testing.flow_from_dataframe(\n",
    "    dataframe=ref_testset,\n",
    "    x_col=\"image_path\",\n",
    "    y_col=\"label\",\n",
    "    target_size=(IMAGE_WIDTH, IMAGE_HEIGHT),\n",
    "    class_mode=\"binary\",\n",
    "    batch_size=32,\n",
    "    seed=SEED,\n",
    ")"
   ]
  },
  {
   "cell_type": "markdown",
   "id": "30d182d1",
   "metadata": {},
   "source": [
    "### Baseline Performance"
   ]
  },
  {
   "cell_type": "markdown",
   "id": "86d916d4",
   "metadata": {},
   "source": [
    "#### Random Classification"
   ]
  },
  {
   "cell_type": "code",
   "execution_count": 28,
   "id": "c7b78f86",
   "metadata": {},
   "outputs": [],
   "source": [
    "class RandomClassifier(object):\n",
    "    \"\"\"Random classifier - predicts whether an image is normal or abnormal at random.\"\"\"\n",
    "\n",
    "    def predict(self, image_path: str) -> float:\n",
    "\n",
    "        return random.random()"
   ]
  },
  {
   "cell_type": "code",
   "execution_count": 29,
   "id": "06c3b41a",
   "metadata": {},
   "outputs": [],
   "source": [
    "temp_testset = ref_testset.copy()\n",
    "\n",
    "temp_testset[\"label\"] = temp_testset[\"label\"].map(int)"
   ]
  },
  {
   "cell_type": "code",
   "execution_count": 30,
   "id": "8489cd45",
   "metadata": {},
   "outputs": [],
   "source": [
    "model = RandomClassifier()\n",
    "\n",
    "temp_testset[\"prediction\"] = temp_testset[\"image_path\"].map(model.predict)"
   ]
  },
  {
   "cell_type": "code",
   "execution_count": 31,
   "id": "39cbfcc2",
   "metadata": {},
   "outputs": [
    {
     "data": {
      "text/plain": [
       "0.0049013669964691475"
      ]
     },
     "execution_count": 31,
     "metadata": {},
     "output_type": "execute_result"
    }
   ],
   "source": [
    "cohen_kappa_score(\n",
    "    temp_testset[\"label\"].values,\n",
    "    np.vectorize(lambda x: 1 if x > 0.5 else 0)(temp_testset[\"prediction\"].values),\n",
    ")"
   ]
  },
  {
   "cell_type": "markdown",
   "id": "21993e55",
   "metadata": {},
   "source": [
    "We now have to aggregate all the predictions - in a meaningful way - at the study level.\n",
    "\n",
    "We will assume that if the majority of the images of a given study are classified as abnormal, then the study will be classified as abnormal as well (and vice versa)."
   ]
  },
  {
   "cell_type": "code",
   "execution_count": 32,
   "id": "6de7e829",
   "metadata": {},
   "outputs": [],
   "source": [
    "def study_oriented_transformation(dataset: pd.DataFrame) -> Iterable:\n",
    "\n",
    "    for study, group in dataset.groupby(\"study_path\"):\n",
    "\n",
    "        study_label = group[\"label\"].values.take(0)\n",
    "        study_prediction = 1 if group[\"prediction\"].mean() > 0.5 else 0\n",
    "\n",
    "        yield study, study_label, study_prediction"
   ]
  },
  {
   "cell_type": "code",
   "execution_count": 33,
   "id": "e571b404",
   "metadata": {},
   "outputs": [],
   "source": [
    "temp_testset = pd.DataFrame(\n",
    "    [*study_oriented_transformation(temp_testset)],\n",
    "    columns=[\"study\", \"label\", \"prediction\"],\n",
    ")"
   ]
  },
  {
   "cell_type": "code",
   "execution_count": 34,
   "id": "6aa5e907",
   "metadata": {},
   "outputs": [
    {
     "data": {
      "text/plain": [
       "-0.02330674545107736"
      ]
     },
     "execution_count": 34,
     "metadata": {},
     "output_type": "execute_result"
    }
   ],
   "source": [
    "cohen_kappa_score(temp_testset[\"label\"].values, temp_testset[\"prediction\"].values)"
   ]
  },
  {
   "cell_type": "code",
   "execution_count": 35,
   "id": "adee55da",
   "metadata": {},
   "outputs": [],
   "source": [
    "del temp_testset\n",
    "del model"
   ]
  },
  {
   "cell_type": "markdown",
   "id": "92e2665b",
   "metadata": {},
   "source": [
    "#### CNN architecture with sensible defaults"
   ]
  },
  {
   "cell_type": "code",
   "execution_count": 36,
   "id": "53dda1c7",
   "metadata": {},
   "outputs": [],
   "source": [
    "def clean_up(model_):\n",
    "    tf.keras.backend.clear_session()\n",
    "    del model_\n",
    "    gc.collect()"
   ]
  },
  {
   "cell_type": "code",
   "execution_count": 37,
   "id": "404f8518",
   "metadata": {},
   "outputs": [],
   "source": [
    "# the tfa.metrics.F1Score (https://www.tensorflow.org/addons/api_docs/python/tfa/metrics/F1Score)\n",
    "# requires some reshaping that is inconsistent with the other metrics we like to track\n",
    "# so we will define it from scratch\n",
    "\n",
    "\n",
    "class F1Score(tf.keras.metrics.Metric):\n",
    "    def __init__(self, name=\"f1_score\", **kwargs):\n",
    "        super().__init__(name=name, **kwargs)\n",
    "        self.f1 = self.add_weight(name=\"f1\", initializer=\"zeros\")\n",
    "        self.precision_fn = tf.keras.metrics.Precision()\n",
    "        self.recall_fn = tf.keras.metrics.Recall()\n",
    "\n",
    "    def update_state(self, y_true, y_pred, sample_weight=None):\n",
    "        p = self.precision_fn(y_true, y_pred)\n",
    "        r = self.recall_fn(y_true, y_pred)\n",
    "        self.f1.assign(2 * ((p * r) / (p + r + 1e-10)))\n",
    "\n",
    "    def result(self):\n",
    "        return self.f1\n",
    "\n",
    "    def reset_state(self):\n",
    "        # we also need to reset the state of the precision and recall objects\n",
    "        self.precision_fn.reset_state()\n",
    "        self.recall_fn.reset_state()\n",
    "        self.f1.assign(0)"
   ]
  },
  {
   "cell_type": "code",
   "execution_count": 38,
   "id": "4e3a6125",
   "metadata": {},
   "outputs": [
    {
     "name": "stderr",
     "output_type": "stream",
     "text": [
      "2022-03-26 21:39:00.752616: I tensorflow/core/platform/cpu_feature_guard.cc:151] This TensorFlow binary is optimized with oneAPI Deep Neural Network Library (oneDNN) to use the following CPU instructions in performance-critical operations:  AVX2 FMA\n",
      "To enable them in other operations, rebuild TensorFlow with the appropriate compiler flags.\n",
      "2022-03-26 21:39:00.753496: I tensorflow/stream_executor/cuda/cuda_gpu_executor.cc:936] successful NUMA node read from SysFS had negative value (-1), but there must be at least one NUMA node, so returning NUMA node zero\n",
      "2022-03-26 21:39:00.753688: I tensorflow/stream_executor/cuda/cuda_gpu_executor.cc:936] successful NUMA node read from SysFS had negative value (-1), but there must be at least one NUMA node, so returning NUMA node zero\n",
      "2022-03-26 21:39:00.753817: I tensorflow/stream_executor/cuda/cuda_gpu_executor.cc:936] successful NUMA node read from SysFS had negative value (-1), but there must be at least one NUMA node, so returning NUMA node zero\n",
      "2022-03-26 21:39:01.386542: I tensorflow/stream_executor/cuda/cuda_gpu_executor.cc:936] successful NUMA node read from SysFS had negative value (-1), but there must be at least one NUMA node, so returning NUMA node zero\n",
      "2022-03-26 21:39:01.386726: I tensorflow/stream_executor/cuda/cuda_gpu_executor.cc:936] successful NUMA node read from SysFS had negative value (-1), but there must be at least one NUMA node, so returning NUMA node zero\n",
      "2022-03-26 21:39:01.386852: I tensorflow/stream_executor/cuda/cuda_gpu_executor.cc:936] successful NUMA node read from SysFS had negative value (-1), but there must be at least one NUMA node, so returning NUMA node zero\n",
      "2022-03-26 21:39:01.387207: I tensorflow/core/common_runtime/gpu/gpu_device.cc:1525] Created device /job:localhost/replica:0/task:0/device:GPU:0 with 2176 MB memory:  -> device: 0, name: Quadro T1000, pci bus id: 0000:01:00.0, compute capability: 7.5\n"
     ]
    }
   ],
   "source": [
    "METRICS = [\n",
    "    tf.keras.metrics.TruePositives(name=\"tp\"),\n",
    "    tf.keras.metrics.FalsePositives(name=\"fp\"),\n",
    "    tf.keras.metrics.TrueNegatives(name=\"tn\"),\n",
    "    tf.keras.metrics.FalseNegatives(name=\"fn\"),\n",
    "    tf.keras.metrics.BinaryAccuracy(name=\"binary_acc\"),\n",
    "    tf.keras.metrics.Precision(name=\"precision\"),\n",
    "    tf.keras.metrics.Recall(name=\"recall\"),\n",
    "    F1Score(name=\"f1_score\"),\n",
    "    tf.keras.metrics.AUC(name=\"roc_auc\", curve=\"ROC\"),\n",
    "    tf.keras.metrics.AUC(name=\"pr_auc\", curve=\"PR\"),\n",
    "    tfa.metrics.CohenKappa(num_classes=2),\n",
    "]"
   ]
  },
  {
   "cell_type": "code",
   "execution_count": 39,
   "id": "4d269acc",
   "metadata": {},
   "outputs": [],
   "source": [
    "def plot_metrics(\n",
    "    history: tf.keras.callbacks.History,\n",
    "    metrics: list = [\"loss\", \"cohen_kappa\", \"precision\", \"recall\"],\n",
    ") -> None:\n",
    "\n",
    "    plt.rcParams[\"figure.figsize\"] = (18, 15)\n",
    "\n",
    "    for n, metric in enumerate(metrics):\n",
    "        name = metric.replace(\"_\", \" \").capitalize()\n",
    "        plt.subplot(2, 2, n + 1)\n",
    "        plt.plot(\n",
    "            history.epoch, history.history[metric], linewidth=1.8, label=\"training\"\n",
    "        )\n",
    "        plt.plot(\n",
    "            history.epoch,\n",
    "            history.history[\"val_\" + metric],\n",
    "            linestyle=\"--\",\n",
    "            linewidth=1.8,\n",
    "            label=\"validation\",\n",
    "        )\n",
    "        plt.xlabel(\"epoch\")\n",
    "        plt.ylabel(name)\n",
    "        if metric == \"loss\":\n",
    "            plt.ylim([0, plt.ylim()[1]])\n",
    "        elif metric == \"cohen_kappa\":\n",
    "            plt.ylim([-1, 1])\n",
    "        else:\n",
    "            plt.ylim([0, 1])\n",
    "\n",
    "        plt.legend()"
   ]
  },
  {
   "cell_type": "code",
   "execution_count": 40,
   "id": "202355bd",
   "metadata": {},
   "outputs": [],
   "source": [
    "def make_cnn_model():\n",
    "    \"\"\"Creates a CNN architecture with sensible defaults.\"\"\"\n",
    "    model = tf.keras.Sequential(\n",
    "        [\n",
    "            tf.keras.layers.Conv2D(\n",
    "                filters=64,\n",
    "                kernel_size=(3, 3),\n",
    "                strides=(1, 1),\n",
    "                padding=\"same\",\n",
    "                kernel_regularizer=\"l2\",\n",
    "                dilation_rate=(1, 1),\n",
    "                activation=\"relu\",\n",
    "                input_shape=(IMAGE_WIDTH, IMAGE_HEIGHT, 3),\n",
    "                name=\"1st-convolution\",\n",
    "            ),\n",
    "            tf.keras.layers.MaxPool2D(\n",
    "                pool_size=(2, 2), strides=(2, 2), padding=\"same\", name=\"1st-max-pooling\"\n",
    "            ),\n",
    "            tf.keras.layers.Dropout(\n",
    "                rate=0.15,\n",
    "                name=\"1st-dropout\",\n",
    "            ),\n",
    "            tf.keras.layers.Conv2D(\n",
    "                filters=32,\n",
    "                kernel_size=(3, 3),\n",
    "                strides=(1, 1),\n",
    "                padding=\"same\",\n",
    "                kernel_regularizer=\"l2\",\n",
    "                dilation_rate=(1, 1),\n",
    "                activation=\"relu\",\n",
    "                name=\"2nd-convolution\",\n",
    "            ),\n",
    "            tf.keras.layers.MaxPool2D(\n",
    "                pool_size=(2, 2), strides=(2, 2), padding=\"same\", name=\"2nd-max-pooling\"\n",
    "            ),\n",
    "            tf.keras.layers.Dropout(\n",
    "                rate=0.15,\n",
    "                name=\"2nd-dropout\",\n",
    "            ),\n",
    "            tf.keras.layers.Flatten(name=\"flatten-layer\"),\n",
    "            tf.keras.layers.Dense(\n",
    "                units=32,\n",
    "                kernel_regularizer=\"l2\",\n",
    "                activation=\"relu\",\n",
    "                name=\"dense-layer\",\n",
    "            ),\n",
    "            tf.keras.layers.Dense(units=1, activation=\"sigmoid\", name=\"output-layer\"),\n",
    "        ]\n",
    "    )\n",
    "\n",
    "    model.compile(\n",
    "        optimizer=tf.keras.optimizers.Adam(learning_rate=0.0001),\n",
    "        loss=tf.keras.losses.BinaryCrossentropy(),\n",
    "        metrics=METRICS,\n",
    "    )\n",
    "\n",
    "    return model"
   ]
  },
  {
   "cell_type": "code",
   "execution_count": 41,
   "id": "b2e68f4f",
   "metadata": {},
   "outputs": [],
   "source": [
    "model = make_cnn_model()"
   ]
  },
  {
   "cell_type": "code",
   "execution_count": 42,
   "id": "1c19ad13",
   "metadata": {
    "scrolled": false
   },
   "outputs": [
    {
     "name": "stdout",
     "output_type": "stream",
     "text": [
      "Model: \"sequential\"\n",
      "_________________________________________________________________\n",
      " Layer (type)                Output Shape              Param #   \n",
      "=================================================================\n",
      " 1st-convolution (Conv2D)    (None, 224, 224, 64)      1792      \n",
      "                                                                 \n",
      " 1st-max-pooling (MaxPooling  (None, 112, 112, 64)     0         \n",
      " 2D)                                                             \n",
      "                                                                 \n",
      " 1st-dropout (Dropout)       (None, 112, 112, 64)      0         \n",
      "                                                                 \n",
      " 2nd-convolution (Conv2D)    (None, 112, 112, 32)      18464     \n",
      "                                                                 \n",
      " 2nd-max-pooling (MaxPooling  (None, 56, 56, 32)       0         \n",
      " 2D)                                                             \n",
      "                                                                 \n",
      " 2nd-dropout (Dropout)       (None, 56, 56, 32)        0         \n",
      "                                                                 \n",
      " flatten-layer (Flatten)     (None, 100352)            0         \n",
      "                                                                 \n",
      " dense-layer (Dense)         (None, 32)                3211296   \n",
      "                                                                 \n",
      " output-layer (Dense)        (None, 1)                 33        \n",
      "                                                                 \n",
      "=================================================================\n",
      "Total params: 3,231,585\n",
      "Trainable params: 3,231,585\n",
      "Non-trainable params: 0\n",
      "_________________________________________________________________\n"
     ]
    }
   ],
   "source": [
    "model.summary()"
   ]
  },
  {
   "cell_type": "code",
   "execution_count": 43,
   "id": "97981226",
   "metadata": {
    "scrolled": false
   },
   "outputs": [
    {
     "data": {
      "image/png": "[encoded data removed]",
      "text/plain": [
       "<IPython.core.display.Image object>"
      ]
     },
     "execution_count": 43,
     "metadata": {},
     "output_type": "execute_result"
    }
   ],
   "source": [
    "tf.keras.utils.plot_model(\n",
    "    model,\n",
    "    to_file=\"../static/cnn-all-study-types-3231585.png\",\n",
    "    show_shapes=True,\n",
    "    show_layer_names=True,\n",
    ")"
   ]
  },
  {
   "cell_type": "code",
   "execution_count": 52,
   "id": "571221da",
   "metadata": {},
   "outputs": [],
   "source": [
    "early_stopping = tf.keras.callbacks.EarlyStopping(\n",
    "    monitor=\"val_loss\",\n",
    "    verbose=1,\n",
    "    patience=20,\n",
    "    mode=\"max\",\n",
    ")"
   ]
  },
  {
   "cell_type": "code",
   "execution_count": 53,
   "id": "16cd65d0",
   "metadata": {},
   "outputs": [],
   "source": [
    "reduce_lr_on_plateau = tf.keras.callbacks.ReduceLROnPlateau(\n",
    "    monitor=\"val_loss\", factor=0.2, verbose=1, patience=5, min_lr=1e-6\n",
    ")"
   ]
  },
  {
   "cell_type": "code",
   "execution_count": 54,
   "id": "aa319ec8",
   "metadata": {
    "scrolled": false
   },
   "outputs": [
    {
     "name": "stdout",
     "output_type": "stream",
     "text": [
      "Epoch 1/100\n"
     ]
    },
    {
     "name": "stderr",
     "output_type": "stream",
     "text": [
      "2022-03-26 13:25:50.337242: I tensorflow/stream_executor/cuda/cuda_dnn.cc:368] Loaded cuDNN version 8303\n",
      "2022-03-26 13:25:51.488247: W tensorflow/core/common_runtime/bfc_allocator.cc:275] Allocator (GPU_0_bfc) ran out of memory trying to allocate 1.02GiB with freed_by_count=0. The caller indicates that this is not a failure, but may mean that there could be performance gains if more memory were available.\n",
      "2022-03-26 13:25:51.488288: W tensorflow/core/common_runtime/bfc_allocator.cc:275] Allocator (GPU_0_bfc) ran out of memory trying to allocate 1.02GiB with freed_by_count=0. The caller indicates that this is not a failure, but may mean that there could be performance gains if more memory were available.\n",
      "2022-03-26 13:25:52.760583: W tensorflow/core/common_runtime/bfc_allocator.cc:275] Allocator (GPU_0_bfc) ran out of memory trying to allocate 1.45GiB with freed_by_count=0. The caller indicates that this is not a failure, but may mean that there could be performance gains if more memory were available.\n",
      "2022-03-26 13:25:52.760634: W tensorflow/core/common_runtime/bfc_allocator.cc:275] Allocator (GPU_0_bfc) ran out of memory trying to allocate 1.45GiB with freed_by_count=0. The caller indicates that this is not a failure, but may mean that there could be performance gains if more memory were available.\n",
      "2022-03-26 13:25:52.760644: W tensorflow/core/common_runtime/bfc_allocator.cc:343] Garbage collection: deallocate free memory regions (i.e., allocations) so that we can re-allocate a larger region to avoid OOM due to memory fragmentation. If you see this message frequently, you are running near the threshold of the available device memory and re-allocation may incur great performance overhead. You may try smaller batch sizes to observe the performance impact. Set TF_ENABLE_GPU_GARBAGE_COLLECTION=false if you'd like to disable this feature.\n"
     ]
    },
    {
     "name": "stdout",
     "output_type": "stream",
     "text": [
      "921/921 [==============================] - 164s 172ms/step - loss: 0.8938 - tp: 145.0000 - fp: 152.0000 - tn: 18590.0000 - fn: 10560.0000 - binary_acc: 0.6362 - precision: 0.4882 - recall: 0.0135 - f1_score: 0.0264 - roc_auc: 0.5972 - pr_auc: 0.4361 - cohen_kappa: 0.0069 - val_loss: 0.8601 - val_tp: 18.0000 - val_fp: 2.0000 - val_tn: 3191.0000 - val_fn: 4150.0000 - val_binary_acc: 0.4359 - val_precision: 0.9000 - val_recall: 0.0043 - val_f1_score: 0.0086 - val_roc_auc: 0.5267 - val_pr_auc: 0.5869 - val_cohen_kappa: 0.0032 - lr: 1.0000e-04\n",
      "Epoch 2/100\n",
      "921/921 [==============================] - 153s 166ms/step - loss: 0.6903 - tp: 238.0000 - fp: 170.0000 - tn: 18572.0000 - fn: 10467.0000 - binary_acc: 0.6388 - precision: 0.5833 - recall: 0.0222 - f1_score: 0.0428 - roc_auc: 0.6226 - pr_auc: 0.4686 - cohen_kappa: 0.0166 - val_loss: 0.8314 - val_tp: 7.0000 - val_fp: 2.0000 - val_tn: 3191.0000 - val_fn: 4161.0000 - val_binary_acc: 0.4345 - val_precision: 0.7778 - val_recall: 0.0017 - val_f1_score: 0.0034 - val_roc_auc: 0.5313 - val_pr_auc: 0.5870 - val_cohen_kappa: 9.1398e-04 - lr: 1.0000e-04\n",
      "Epoch 3/100\n",
      "921/921 [==============================] - 155s 168ms/step - loss: 0.6640 - tp: 372.0000 - fp: 247.0000 - tn: 18495.0000 - fn: 10333.0000 - binary_acc: 0.6407 - precision: 0.6010 - recall: 0.0348 - f1_score: 0.0657 - roc_auc: 0.6295 - pr_auc: 0.4791 - cohen_kappa: 0.0270 - val_loss: 0.8074 - val_tp: 15.0000 - val_fp: 2.0000 - val_tn: 3191.0000 - val_fn: 4153.0000 - val_binary_acc: 0.4355 - val_precision: 0.8824 - val_recall: 0.0036 - val_f1_score: 0.0072 - val_roc_auc: 0.5257 - val_pr_auc: 0.5779 - val_cohen_kappa: 0.0026 - lr: 1.0000e-04\n",
      "Epoch 4/100\n",
      "921/921 [==============================] - 166s 181ms/step - loss: 0.6546 - tp: 440.0000 - fp: 244.0000 - tn: 18498.0000 - fn: 10265.0000 - binary_acc: 0.6431 - precision: 0.6433 - recall: 0.0411 - f1_score: 0.0773 - roc_auc: 0.6307 - pr_auc: 0.4830 - cohen_kappa: 0.0351 - val_loss: 0.8749 - val_tp: 10.0000 - val_fp: 2.0000 - val_tn: 3191.0000 - val_fn: 4158.0000 - val_binary_acc: 0.4349 - val_precision: 0.8333 - val_recall: 0.0024 - val_f1_score: 0.0048 - val_roc_auc: 0.5248 - val_pr_auc: 0.5834 - val_cohen_kappa: 0.0015 - lr: 1.0000e-04\n",
      "Epoch 5/100\n",
      "921/921 [==============================] - 185s 201ms/step - loss: 0.6497 - tp: 472.0000 - fp: 358.0000 - tn: 18384.0000 - fn: 10233.0000 - binary_acc: 0.6403 - precision: 0.5687 - recall: 0.0441 - f1_score: 0.0818 - roc_auc: 0.6327 - pr_auc: 0.4780 - cohen_kappa: 0.0312 - val_loss: 0.8480 - val_tp: 14.0000 - val_fp: 4.0000 - val_tn: 3189.0000 - val_fn: 4154.0000 - val_binary_acc: 0.4351 - val_precision: 0.7778 - val_recall: 0.0034 - val_f1_score: 0.0067 - val_roc_auc: 0.5269 - val_pr_auc: 0.5898 - val_cohen_kappa: 0.0018 - lr: 1.0000e-04\n",
      "Epoch 6/100\n",
      "921/921 [==============================] - 139s 151ms/step - loss: 0.6463 - tp: 543.0000 - fp: 389.0000 - tn: 18353.0000 - fn: 10162.0000 - binary_acc: 0.6417 - precision: 0.5826 - recall: 0.0507 - f1_score: 0.0933 - roc_auc: 0.6342 - pr_auc: 0.4819 - cohen_kappa: 0.0373 - val_loss: 0.7974 - val_tp: 12.0000 - val_fp: 2.0000 - val_tn: 3191.0000 - val_fn: 4156.0000 - val_binary_acc: 0.4351 - val_precision: 0.8571 - val_recall: 0.0029 - val_f1_score: 0.0057 - val_roc_auc: 0.5218 - val_pr_auc: 0.5847 - val_cohen_kappa: 0.0020 - lr: 1.0000e-04\n",
      "Epoch 7/100\n",
      "921/921 [==============================] - 140s 152ms/step - loss: 0.6434 - tp: 781.0000 - fp: 526.0000 - tn: 18216.0000 - fn: 9924.0000 - binary_acc: 0.6451 - precision: 0.5976 - recall: 0.0730 - f1_score: 0.1300 - roc_auc: 0.6384 - pr_auc: 0.4871 - cohen_kappa: 0.0553 - val_loss: 0.7738 - val_tp: 59.0000 - val_fp: 15.0000 - val_tn: 3178.0000 - val_fn: 4109.0000 - val_binary_acc: 0.4398 - val_precision: 0.7973 - val_recall: 0.0142 - val_f1_score: 0.0278 - val_roc_auc: 0.5254 - val_pr_auc: 0.5893 - val_cohen_kappa: 0.0082 - lr: 1.0000e-04\n",
      "Epoch 8/100\n",
      "921/921 [==============================] - 138s 150ms/step - loss: 0.6419 - tp: 807.0000 - fp: 546.0000 - tn: 18196.0000 - fn: 9898.0000 - binary_acc: 0.6453 - precision: 0.5965 - recall: 0.0754 - f1_score: 0.1339 - roc_auc: 0.6396 - pr_auc: 0.4887 - cohen_kappa: 0.0569 - val_loss: 0.8563 - val_tp: 38.0000 - val_fp: 7.0000 - val_tn: 3186.0000 - val_fn: 4130.0000 - val_binary_acc: 0.4380 - val_precision: 0.8444 - val_recall: 0.0091 - val_f1_score: 0.0180 - val_roc_auc: 0.5315 - val_pr_auc: 0.5957 - val_cohen_kappa: 0.0060 - lr: 1.0000e-04\n",
      "Epoch 9/100\n",
      "921/921 [==============================] - 141s 153ms/step - loss: 0.6404 - tp: 982.0000 - fp: 659.0000 - tn: 18083.0000 - fn: 9723.0000 - binary_acc: 0.6474 - precision: 0.5984 - recall: 0.0917 - f1_score: 0.1591 - roc_auc: 0.6429 - pr_auc: 0.4937 - cohen_kappa: 0.0691 - val_loss: 0.8754 - val_tp: 35.0000 - val_fp: 8.0000 - val_tn: 3185.0000 - val_fn: 4133.0000 - val_binary_acc: 0.4374 - val_precision: 0.8140 - val_recall: 0.0084 - val_f1_score: 0.0166 - val_roc_auc: 0.5209 - val_pr_auc: 0.5884 - val_cohen_kappa: 0.0051 - lr: 1.0000e-04\n",
      "Epoch 10/100\n",
      "921/921 [==============================] - 136s 147ms/step - loss: 0.6394 - tp: 1119.0000 - fp: 738.0000 - tn: 18004.0000 - fn: 9586.0000 - binary_acc: 0.6494 - precision: 0.6026 - recall: 0.1045 - f1_score: 0.1782 - roc_auc: 0.6437 - pr_auc: 0.4945 - cohen_kappa: 0.0792 - val_loss: 0.8266 - val_tp: 49.0000 - val_fp: 16.0000 - val_tn: 3177.0000 - val_fn: 4119.0000 - val_binary_acc: 0.4383 - val_precision: 0.7538 - val_recall: 0.0118 - val_f1_score: 0.0232 - val_roc_auc: 0.5143 - val_pr_auc: 0.5791 - val_cohen_kappa: 0.0059 - lr: 1.0000e-04\n",
      "Epoch 11/100\n",
      "921/921 [==============================] - 135s 147ms/step - loss: 0.6389 - tp: 1147.0000 - fp: 785.0000 - tn: 17957.0000 - fn: 9558.0000 - binary_acc: 0.6488 - precision: 0.5937 - recall: 0.1071 - f1_score: 0.1815 - roc_auc: 0.6440 - pr_auc: 0.4937 - cohen_kappa: 0.0792 - val_loss: 0.8893 - val_tp: 37.0000 - val_fp: 9.0000 - val_tn: 3184.0000 - val_fn: 4131.0000 - val_binary_acc: 0.4376 - val_precision: 0.8043 - val_recall: 0.0089 - val_f1_score: 0.0176 - val_roc_auc: 0.5149 - val_pr_auc: 0.5740 - val_cohen_kappa: 0.0053 - lr: 1.0000e-04\n",
      "Epoch 12/100\n",
      "921/921 [==============================] - ETA: 0s - loss: 0.6378 - tp: 1240.0000 - fp: 749.0000 - tn: 17993.0000 - fn: 9465.0000 - binary_acc: 0.6531 - precision: 0.6234 - recall: 0.1158 - f1_score: 0.1954 - roc_auc: 0.6465 - pr_auc: 0.5049 - cohen_kappa: 0.0919\n",
      "Epoch 12: ReduceLROnPlateau reducing learning rate to 1.9999999494757503e-05.\n",
      "921/921 [==============================] - 144s 156ms/step - loss: 0.6378 - tp: 1240.0000 - fp: 749.0000 - tn: 17993.0000 - fn: 9465.0000 - binary_acc: 0.6531 - precision: 0.6234 - recall: 0.1158 - f1_score: 0.1954 - roc_auc: 0.6465 - pr_auc: 0.5049 - cohen_kappa: 0.0919 - val_loss: 0.8867 - val_tp: 36.0000 - val_fp: 7.0000 - val_tn: 3186.0000 - val_fn: 4132.0000 - val_binary_acc: 0.4377 - val_precision: 0.8372 - val_recall: 0.0086 - val_f1_score: 0.0171 - val_roc_auc: 0.5242 - val_pr_auc: 0.5893 - val_cohen_kappa: 0.0056 - lr: 1.0000e-04\n",
      "Epoch 13/100\n",
      "921/921 [==============================] - 136s 148ms/step - loss: 0.6324 - tp: 1562.0000 - fp: 909.0000 - tn: 17833.0000 - fn: 9143.0000 - binary_acc: 0.6586 - precision: 0.6321 - recall: 0.1459 - f1_score: 0.2371 - roc_auc: 0.6607 - pr_auc: 0.5176 - cohen_kappa: 0.1167 - val_loss: 0.8870 - val_tp: 46.0000 - val_fp: 9.0000 - val_tn: 3184.0000 - val_fn: 4122.0000 - val_binary_acc: 0.4388 - val_precision: 0.8364 - val_recall: 0.0110 - val_f1_score: 0.0218 - val_roc_auc: 0.5197 - val_pr_auc: 0.5817 - val_cohen_kappa: 0.0071 - lr: 2.0000e-05\n",
      "Epoch 14/100\n",
      "921/921 [==============================] - 136s 148ms/step - loss: 0.6307 - tp: 1720.0000 - fp: 1038.0000 - tn: 17704.0000 - fn: 8985.0000 - binary_acc: 0.6596 - precision: 0.6236 - recall: 0.1607 - f1_score: 0.2555 - roc_auc: 0.6638 - pr_auc: 0.5215 - cohen_kappa: 0.1252 - val_loss: 0.8929 - val_tp: 46.0000 - val_fp: 11.0000 - val_tn: 3182.0000 - val_fn: 4122.0000 - val_binary_acc: 0.4385 - val_precision: 0.8070 - val_recall: 0.0110 - val_f1_score: 0.0218 - val_roc_auc: 0.5208 - val_pr_auc: 0.5809 - val_cohen_kappa: 0.0066 - lr: 2.0000e-05\n",
      "Epoch 15/100\n",
      "921/921 [==============================] - 136s 148ms/step - loss: 0.6300 - tp: 1899.0000 - fp: 1118.0000 - tn: 17624.0000 - fn: 8806.0000 - binary_acc: 0.6630 - precision: 0.6294 - recall: 0.1774 - f1_score: 0.2768 - roc_auc: 0.6648 - pr_auc: 0.5253 - cohen_kappa: 0.1392 - val_loss: 0.8295 - val_tp: 63.0000 - val_fp: 34.0000 - val_tn: 3159.0000 - val_fn: 4105.0000 - val_binary_acc: 0.4377 - val_precision: 0.6495 - val_recall: 0.0151 - val_f1_score: 0.0295 - val_roc_auc: 0.5200 - val_pr_auc: 0.5819 - val_cohen_kappa: 0.0039 - lr: 2.0000e-05\n",
      "Epoch 16/100\n",
      "921/921 [==============================] - 137s 149ms/step - loss: 0.6288 - tp: 2029.0000 - fp: 1201.0000 - tn: 17541.0000 - fn: 8676.0000 - binary_acc: 0.6646 - precision: 0.6282 - recall: 0.1895 - f1_score: 0.2912 - roc_auc: 0.6674 - pr_auc: 0.5282 - cohen_kappa: 0.1475 - val_loss: 0.8517 - val_tp: 64.0000 - val_fp: 30.0000 - val_tn: 3163.0000 - val_fn: 4104.0000 - val_binary_acc: 0.4384 - val_precision: 0.6809 - val_recall: 0.0154 - val_f1_score: 0.0300 - val_roc_auc: 0.5240 - val_pr_auc: 0.5859 - val_cohen_kappa: 0.0052 - lr: 2.0000e-05\n",
      "Epoch 17/100\n",
      "921/921 [==============================] - ETA: 0s - loss: 0.6286 - tp: 2234.0000 - fp: 1316.0000 - tn: 17426.0000 - fn: 8471.0000 - binary_acc: 0.6676 - precision: 0.6293 - recall: 0.2087 - f1_score: 0.3134 - roc_auc: 0.6676 - pr_auc: 0.5279 - cohen_kappa: 0.1616\n",
      "Epoch 17: ReduceLROnPlateau reducing learning rate to 3.999999898951501e-06.\n",
      "921/921 [==============================] - 136s 147ms/step - loss: 0.6286 - tp: 2234.0000 - fp: 1316.0000 - tn: 17426.0000 - fn: 8471.0000 - binary_acc: 0.6676 - precision: 0.6293 - recall: 0.2087 - f1_score: 0.3134 - roc_auc: 0.6676 - pr_auc: 0.5279 - cohen_kappa: 0.1616 - val_loss: 0.9003 - val_tp: 44.0000 - val_fp: 12.0000 - val_tn: 3181.0000 - val_fn: 4124.0000 - val_binary_acc: 0.4381 - val_precision: 0.7857 - val_recall: 0.0106 - val_f1_score: 0.0208 - val_roc_auc: 0.5225 - val_pr_auc: 0.5860 - val_cohen_kappa: 0.0059 - lr: 2.0000e-05\n",
      "Epoch 18/100\n",
      "921/921 [==============================] - 142s 155ms/step - loss: 0.6262 - tp: 2113.0000 - fp: 1176.0000 - tn: 17566.0000 - fn: 8592.0000 - binary_acc: 0.6683 - precision: 0.6424 - recall: 0.1974 - f1_score: 0.3020 - roc_auc: 0.6747 - pr_auc: 0.5365 - cohen_kappa: 0.1581 - val_loss: 0.8803 - val_tp: 50.0000 - val_fp: 22.0000 - val_tn: 3171.0000 - val_fn: 4118.0000 - val_binary_acc: 0.4376 - val_precision: 0.6944 - val_recall: 0.0120 - val_f1_score: 0.0236 - val_roc_auc: 0.5235 - val_pr_auc: 0.5856 - val_cohen_kappa: 0.0044 - lr: 4.0000e-06\n",
      "Epoch 19/100\n",
      "921/921 [==============================] - 137s 149ms/step - loss: 0.6256 - tp: 2217.0000 - fp: 1242.0000 - tn: 17500.0000 - fn: 8488.0000 - binary_acc: 0.6696 - precision: 0.6409 - recall: 0.2071 - f1_score: 0.3130 - roc_auc: 0.6754 - pr_auc: 0.5375 - cohen_kappa: 0.1647 - val_loss: 0.9024 - val_tp: 47.0000 - val_fp: 18.0000 - val_tn: 3175.0000 - val_fn: 4121.0000 - val_binary_acc: 0.4377 - val_precision: 0.7231 - val_recall: 0.0113 - val_f1_score: 0.0222 - val_roc_auc: 0.5256 - val_pr_auc: 0.5874 - val_cohen_kappa: 0.0049 - lr: 4.0000e-06\n",
      "Epoch 20/100\n",
      "921/921 [==============================] - 139s 151ms/step - loss: 0.6256 - tp: 2293.0000 - fp: 1265.0000 - tn: 17477.0000 - fn: 8412.0000 - binary_acc: 0.6714 - precision: 0.6445 - recall: 0.2142 - f1_score: 0.3215 - roc_auc: 0.6756 - pr_auc: 0.5378 - cohen_kappa: 0.1712 - val_loss: 0.8912 - val_tp: 51.0000 - val_fp: 22.0000 - val_tn: 3171.0000 - val_fn: 4117.0000 - val_binary_acc: 0.4377 - val_precision: 0.6986 - val_recall: 0.0122 - val_f1_score: 0.0241 - val_roc_auc: 0.5243 - val_pr_auc: 0.5851 - val_cohen_kappa: 0.0046 - lr: 4.0000e-06\n",
      "Epoch 21/100\n",
      "921/921 [==============================] - 137s 149ms/step - loss: 0.6254 - tp: 2273.0000 - fp: 1265.0000 - tn: 17477.0000 - fn: 8432.0000 - binary_acc: 0.6707 - precision: 0.6425 - recall: 0.2123 - f1_score: 0.3192 - roc_auc: 0.6758 - pr_auc: 0.5392 - cohen_kappa: 0.1691 - val_loss: 0.8830 - val_tp: 53.0000 - val_fp: 27.0000 - val_tn: 3166.0000 - val_fn: 4115.0000 - val_binary_acc: 0.4373 - val_precision: 0.6625 - val_recall: 0.0127 - val_f1_score: 0.0250 - val_roc_auc: 0.5248 - val_pr_auc: 0.5862 - val_cohen_kappa: 0.0037 - lr: 4.0000e-06\n",
      "Epoch 22/100\n",
      "921/921 [==============================] - ETA: 0s - loss: 0.6247 - tp: 2367.0000 - fp: 1305.0000 - tn: 17437.0000 - fn: 8338.0000 - binary_acc: 0.6725 - precision: 0.6446 - recall: 0.2211 - f1_score: 0.3293 - roc_auc: 0.6771 - pr_auc: 0.5409 - cohen_kappa: 0.1763\n",
      "Epoch 22: ReduceLROnPlateau reducing learning rate to 1e-06.\n",
      "921/921 [==============================] - 136s 148ms/step - loss: 0.6247 - tp: 2367.0000 - fp: 1305.0000 - tn: 17437.0000 - fn: 8338.0000 - binary_acc: 0.6725 - precision: 0.6446 - recall: 0.2211 - f1_score: 0.3293 - roc_auc: 0.6771 - pr_auc: 0.5409 - cohen_kappa: 0.1763 - val_loss: 0.8833 - val_tp: 55.0000 - val_fp: 29.0000 - val_tn: 3164.0000 - val_fn: 4113.0000 - val_binary_acc: 0.4373 - val_precision: 0.6548 - val_recall: 0.0132 - val_f1_score: 0.0259 - val_roc_auc: 0.5257 - val_pr_auc: 0.5877 - val_cohen_kappa: 0.0036 - lr: 4.0000e-06\n",
      "Epoch 23/100\n",
      "921/921 [==============================] - 136s 148ms/step - loss: 0.6246 - tp: 2408.0000 - fp: 1407.0000 - tn: 17335.0000 - fn: 8297.0000 - binary_acc: 0.6705 - precision: 0.6312 - recall: 0.2249 - f1_score: 0.3317 - roc_auc: 0.6776 - pr_auc: 0.5404 - cohen_kappa: 0.1739 - val_loss: 0.8899 - val_tp: 53.0000 - val_fp: 27.0000 - val_tn: 3166.0000 - val_fn: 4115.0000 - val_binary_acc: 0.4373 - val_precision: 0.6625 - val_recall: 0.0127 - val_f1_score: 0.0250 - val_roc_auc: 0.5251 - val_pr_auc: 0.5867 - val_cohen_kappa: 0.0037 - lr: 1.0000e-06\n",
      "Epoch 24/100\n",
      "921/921 [==============================] - 137s 148ms/step - loss: 0.6242 - tp: 2391.0000 - fp: 1365.0000 - tn: 17377.0000 - fn: 8314.0000 - binary_acc: 0.6713 - precision: 0.6366 - recall: 0.2234 - f1_score: 0.3307 - roc_auc: 0.6782 - pr_auc: 0.5423 - cohen_kappa: 0.1749 - val_loss: 0.8954 - val_tp: 53.0000 - val_fp: 25.0000 - val_tn: 3168.0000 - val_fn: 4115.0000 - val_binary_acc: 0.4376 - val_precision: 0.6795 - val_recall: 0.0127 - val_f1_score: 0.0250 - val_roc_auc: 0.5255 - val_pr_auc: 0.5869 - val_cohen_kappa: 0.0042 - lr: 1.0000e-06\n",
      "Epoch 25/100\n",
      "921/921 [==============================] - 136s 148ms/step - loss: 0.6241 - tp: 2366.0000 - fp: 1335.0000 - tn: 17407.0000 - fn: 8339.0000 - binary_acc: 0.6715 - precision: 0.6393 - recall: 0.2210 - f1_score: 0.3285 - roc_auc: 0.6782 - pr_auc: 0.5414 - cohen_kappa: 0.1742 - val_loss: 0.8882 - val_tp: 54.0000 - val_fp: 27.0000 - val_tn: 3166.0000 - val_fn: 4114.0000 - val_binary_acc: 0.4374 - val_precision: 0.6667 - val_recall: 0.0130 - val_f1_score: 0.0254 - val_roc_auc: 0.5252 - val_pr_auc: 0.5867 - val_cohen_kappa: 0.0039 - lr: 1.0000e-06\n",
      "Epoch 26/100\n",
      "921/921 [==============================] - 136s 148ms/step - loss: 0.6244 - tp: 2429.0000 - fp: 1388.0000 - tn: 17354.0000 - fn: 8276.0000 - binary_acc: 0.6718 - precision: 0.6364 - recall: 0.2269 - f1_score: 0.3345 - roc_auc: 0.6777 - pr_auc: 0.5408 - cohen_kappa: 0.1773 - val_loss: 0.8868 - val_tp: 54.0000 - val_fp: 27.0000 - val_tn: 3166.0000 - val_fn: 4114.0000 - val_binary_acc: 0.4374 - val_precision: 0.6667 - val_recall: 0.0130 - val_f1_score: 0.0254 - val_roc_auc: 0.5253 - val_pr_auc: 0.5866 - val_cohen_kappa: 0.0039 - lr: 1.0000e-06\n",
      "Epoch 27/100\n",
      "921/921 [==============================] - 136s 148ms/step - loss: 0.6239 - tp: 2415.0000 - fp: 1374.0000 - tn: 17368.0000 - fn: 8290.0000 - binary_acc: 0.6718 - precision: 0.6374 - recall: 0.2256 - f1_score: 0.3332 - roc_auc: 0.6788 - pr_auc: 0.5430 - cohen_kappa: 0.1768 - val_loss: 0.8986 - val_tp: 53.0000 - val_fp: 25.0000 - val_tn: 3168.0000 - val_fn: 4115.0000 - val_binary_acc: 0.4376 - val_precision: 0.6795 - val_recall: 0.0127 - val_f1_score: 0.0250 - val_roc_auc: 0.5256 - val_pr_auc: 0.5869 - val_cohen_kappa: 0.0042 - lr: 1.0000e-06\n",
      "Epoch 28/100\n"
     ]
    },
    {
     "name": "stdout",
     "output_type": "stream",
     "text": [
      "921/921 [==============================] - 136s 147ms/step - loss: 0.6240 - tp: 2382.0000 - fp: 1336.0000 - tn: 17406.0000 - fn: 8323.0000 - binary_acc: 0.6720 - precision: 0.6407 - recall: 0.2225 - f1_score: 0.3303 - roc_auc: 0.6787 - pr_auc: 0.5420 - cohen_kappa: 0.1758 - val_loss: 0.8924 - val_tp: 53.0000 - val_fp: 27.0000 - val_tn: 3166.0000 - val_fn: 4115.0000 - val_binary_acc: 0.4373 - val_precision: 0.6625 - val_recall: 0.0127 - val_f1_score: 0.0250 - val_roc_auc: 0.5249 - val_pr_auc: 0.5864 - val_cohen_kappa: 0.0037 - lr: 1.0000e-06\n",
      "Epoch 29/100\n",
      "921/921 [==============================] - 136s 147ms/step - loss: 0.6240 - tp: 2413.0000 - fp: 1377.0000 - tn: 17365.0000 - fn: 8292.0000 - binary_acc: 0.6716 - precision: 0.6367 - recall: 0.2254 - f1_score: 0.3329 - roc_auc: 0.6784 - pr_auc: 0.5422 - cohen_kappa: 0.1764 - val_loss: 0.8830 - val_tp: 55.0000 - val_fp: 30.0000 - val_tn: 3163.0000 - val_fn: 4113.0000 - val_binary_acc: 0.4372 - val_precision: 0.6471 - val_recall: 0.0132 - val_f1_score: 0.0259 - val_roc_auc: 0.5251 - val_pr_auc: 0.5867 - val_cohen_kappa: 0.0033 - lr: 1.0000e-06\n",
      "Epoch 30/100\n",
      "921/921 [==============================] - 136s 147ms/step - loss: 0.6239 - tp: 2391.0000 - fp: 1354.0000 - tn: 17388.0000 - fn: 8314.0000 - binary_acc: 0.6717 - precision: 0.6385 - recall: 0.2234 - f1_score: 0.3309 - roc_auc: 0.6786 - pr_auc: 0.5423 - cohen_kappa: 0.1756 - val_loss: 0.8776 - val_tp: 57.0000 - val_fp: 30.0000 - val_tn: 3163.0000 - val_fn: 4111.0000 - val_binary_acc: 0.4374 - val_precision: 0.6552 - val_recall: 0.0137 - val_f1_score: 0.0268 - val_roc_auc: 0.5248 - val_pr_auc: 0.5862 - val_cohen_kappa: 0.0037 - lr: 1.0000e-06\n",
      "Epoch 31/100\n",
      "921/921 [==============================] - 136s 147ms/step - loss: 0.6238 - tp: 2462.0000 - fp: 1426.0000 - tn: 17316.0000 - fn: 8243.0000 - binary_acc: 0.6716 - precision: 0.6332 - recall: 0.2300 - f1_score: 0.3374 - roc_auc: 0.6792 - pr_auc: 0.5432 - cohen_kappa: 0.1782 - val_loss: 0.8928 - val_tp: 54.0000 - val_fp: 27.0000 - val_tn: 3166.0000 - val_fn: 4114.0000 - val_binary_acc: 0.4374 - val_precision: 0.6667 - val_recall: 0.0130 - val_f1_score: 0.0254 - val_roc_auc: 0.5247 - val_pr_auc: 0.5860 - val_cohen_kappa: 0.0039 - lr: 1.0000e-06\n",
      "Epoch 32/100\n",
      "921/921 [==============================] - 137s 148ms/step - loss: 0.6238 - tp: 2434.0000 - fp: 1349.0000 - tn: 17393.0000 - fn: 8271.0000 - binary_acc: 0.6733 - precision: 0.6434 - recall: 0.2274 - f1_score: 0.3360 - roc_auc: 0.6790 - pr_auc: 0.5433 - cohen_kappa: 0.1804 - val_loss: 0.8985 - val_tp: 53.0000 - val_fp: 25.0000 - val_tn: 3168.0000 - val_fn: 4115.0000 - val_binary_acc: 0.4376 - val_precision: 0.6795 - val_recall: 0.0127 - val_f1_score: 0.0250 - val_roc_auc: 0.5253 - val_pr_auc: 0.5866 - val_cohen_kappa: 0.0042 - lr: 1.0000e-06\n",
      "Epoch 33/100\n",
      "921/921 [==============================] - 142s 154ms/step - loss: 0.6238 - tp: 2394.0000 - fp: 1358.0000 - tn: 17384.0000 - fn: 8311.0000 - binary_acc: 0.6716 - precision: 0.6381 - recall: 0.2236 - f1_score: 0.3312 - roc_auc: 0.6791 - pr_auc: 0.5434 - cohen_kappa: 0.1756 - val_loss: 0.8894 - val_tp: 55.0000 - val_fp: 29.0000 - val_tn: 3164.0000 - val_fn: 4113.0000 - val_binary_acc: 0.4373 - val_precision: 0.6548 - val_recall: 0.0132 - val_f1_score: 0.0259 - val_roc_auc: 0.5254 - val_pr_auc: 0.5869 - val_cohen_kappa: 0.0036 - lr: 1.0000e-06\n",
      "Epoch 34/100\n",
      "921/921 [==============================] - 139s 151ms/step - loss: 0.6237 - tp: 2504.0000 - fp: 1412.0000 - tn: 17330.0000 - fn: 8201.0000 - binary_acc: 0.6735 - precision: 0.6394 - recall: 0.2339 - f1_score: 0.3425 - roc_auc: 0.6793 - pr_auc: 0.5436 - cohen_kappa: 0.1835 - val_loss: 0.8977 - val_tp: 54.0000 - val_fp: 26.0000 - val_tn: 3167.0000 - val_fn: 4114.0000 - val_binary_acc: 0.4376 - val_precision: 0.6750 - val_recall: 0.0130 - val_f1_score: 0.0254 - val_roc_auc: 0.5256 - val_pr_auc: 0.5872 - val_cohen_kappa: 0.0042 - lr: 1.0000e-06\n",
      "Epoch 35/100\n",
      "921/921 [==============================] - 137s 148ms/step - loss: 0.6236 - tp: 2431.0000 - fp: 1401.0000 - tn: 17341.0000 - fn: 8274.0000 - binary_acc: 0.6714 - precision: 0.6344 - recall: 0.2271 - f1_score: 0.3345 - roc_auc: 0.6794 - pr_auc: 0.5428 - cohen_kappa: 0.1767 - val_loss: 0.8968 - val_tp: 54.0000 - val_fp: 27.0000 - val_tn: 3166.0000 - val_fn: 4114.0000 - val_binary_acc: 0.4374 - val_precision: 0.6667 - val_recall: 0.0130 - val_f1_score: 0.0254 - val_roc_auc: 0.5256 - val_pr_auc: 0.5871 - val_cohen_kappa: 0.0039 - lr: 1.0000e-06\n",
      "Epoch 36/100\n",
      "921/921 [==============================] - 138s 149ms/step - loss: 0.6236 - tp: 2491.0000 - fp: 1450.0000 - tn: 17292.0000 - fn: 8214.0000 - binary_acc: 0.6718 - precision: 0.6321 - recall: 0.2327 - f1_score: 0.3402 - roc_auc: 0.6795 - pr_auc: 0.5433 - cohen_kappa: 0.1797 - val_loss: 0.8945 - val_tp: 54.0000 - val_fp: 29.0000 - val_tn: 3164.0000 - val_fn: 4114.0000 - val_binary_acc: 0.4372 - val_precision: 0.6506 - val_recall: 0.0130 - val_f1_score: 0.0254 - val_roc_auc: 0.5247 - val_pr_auc: 0.5859 - val_cohen_kappa: 0.0034 - lr: 1.0000e-06\n",
      "Epoch 37/100\n",
      "921/921 [==============================] - 146s 158ms/step - loss: 0.6237 - tp: 2472.0000 - fp: 1379.0000 - tn: 17363.0000 - fn: 8233.0000 - binary_acc: 0.6736 - precision: 0.6419 - recall: 0.2309 - f1_score: 0.3397 - roc_auc: 0.6790 - pr_auc: 0.5434 - cohen_kappa: 0.1824 - val_loss: 0.8876 - val_tp: 55.0000 - val_fp: 30.0000 - val_tn: 3163.0000 - val_fn: 4113.0000 - val_binary_acc: 0.4372 - val_precision: 0.6471 - val_recall: 0.0132 - val_f1_score: 0.0259 - val_roc_auc: 0.5250 - val_pr_auc: 0.5863 - val_cohen_kappa: 0.0033 - lr: 1.0000e-06\n",
      "Epoch 38/100\n",
      "921/921 [==============================] - 140s 152ms/step - loss: 0.6235 - tp: 2479.0000 - fp: 1452.0000 - tn: 17290.0000 - fn: 8226.0000 - binary_acc: 0.6713 - precision: 0.6306 - recall: 0.2316 - f1_score: 0.3388 - roc_auc: 0.6796 - pr_auc: 0.5444 - cohen_kappa: 0.1783 - val_loss: 0.9003 - val_tp: 54.0000 - val_fp: 27.0000 - val_tn: 3166.0000 - val_fn: 4114.0000 - val_binary_acc: 0.4374 - val_precision: 0.6667 - val_recall: 0.0130 - val_f1_score: 0.0254 - val_roc_auc: 0.5253 - val_pr_auc: 0.5866 - val_cohen_kappa: 0.0039 - lr: 1.0000e-06\n",
      "Epoch 39/100\n",
      "921/921 [==============================] - 139s 151ms/step - loss: 0.6235 - tp: 2456.0000 - fp: 1396.0000 - tn: 17346.0000 - fn: 8249.0000 - binary_acc: 0.6725 - precision: 0.6376 - recall: 0.2294 - f1_score: 0.3374 - roc_auc: 0.6795 - pr_auc: 0.5435 - cohen_kappa: 0.1796 - val_loss: 0.8956 - val_tp: 55.0000 - val_fp: 28.0000 - val_tn: 3165.0000 - val_fn: 4113.0000 - val_binary_acc: 0.4374 - val_precision: 0.6627 - val_recall: 0.0132 - val_f1_score: 0.0259 - val_roc_auc: 0.5253 - val_pr_auc: 0.5872 - val_cohen_kappa: 0.0039 - lr: 1.0000e-06\n",
      "Epoch 39: early stopping\n"
     ]
    }
   ],
   "source": [
    "history = model.fit(\n",
    "    trainset,\n",
    "    epochs=100,\n",
    "    validation_data=validationset,\n",
    "    callbacks=[early_stopping, reduce_lr_on_plateau],\n",
    ")"
   ]
  },
  {
   "cell_type": "code",
   "execution_count": 91,
   "id": "d4fda3ed",
   "metadata": {},
   "outputs": [
    {
     "data": {
      "image/png": "[encoded data removed]",
      "text/plain": [
       "<Figure size 1296x1080 with 4 Axes>"
      ]
     },
     "metadata": {},
     "output_type": "display_data"
    }
   ],
   "source": [
    "plot_metrics(history)"
   ]
  },
  {
   "cell_type": "code",
   "execution_count": 70,
   "id": "21b3e659",
   "metadata": {
    "scrolled": false
   },
   "outputs": [
    {
     "name": "stdout",
     "output_type": "stream",
     "text": [
      "100/100 [==============================] - 8s 80ms/step - loss: 0.7180 - tp: 234.0000 - fp: 123.0000 - tn: 1544.0000 - fn: 1296.0000 - binary_acc: 0.5561 - precision: 0.6555 - recall: 0.1529 - f1_score: 0.2480 - roc_auc: 0.6189 - pr_auc: 0.6012 - cohen_kappa: 0.0817\n"
     ]
    }
   ],
   "source": [
    "# get the loss value & metrics values for the model in test mode\n",
    "evaluation_metrics = model.evaluate(testset, verbose=1)"
   ]
  },
  {
   "cell_type": "code",
   "execution_count": 72,
   "id": "9fab3d36",
   "metadata": {},
   "outputs": [
    {
     "name": "stdout",
     "output_type": "stream",
     "text": [
      "test loss   : 0.718004047870636\n",
      "tp          : 234.0\n",
      "fp          : 123.0\n",
      "tn          : 1544.0\n",
      "fn          : 1296.0\n",
      "binary_acc  : 0.5561463832855225\n",
      "precision   : 0.6554622054100037\n",
      "recall      : 0.15294118225574493\n",
      "f1_score    : 0.2480127364397049\n",
      "roc_auc     : 0.6188948750495911\n",
      "pr_auc      : 0.6011673212051392\n",
      "cohen_kappa : 0.08173078298568726\n"
     ]
    }
   ],
   "source": [
    "loss = evaluation_metrics.pop(0)\n",
    "\n",
    "print(f\"test loss   : {loss}\")\n",
    "for metric, score in zip(METRICS, evaluation_metrics):\n",
    "\n",
    "    print(f\"{metric.name + ' ' * (12 - len(metric.name))}: {score}\")"
   ]
  },
  {
   "cell_type": "code",
   "execution_count": 137,
   "id": "6af0810e",
   "metadata": {},
   "outputs": [
    {
     "name": "stdout",
     "output_type": "stream",
     "text": [
      "100/100 [==============================] - 8s 78ms/step\n"
     ]
    }
   ],
   "source": [
    "# get predictions for the test dataset\n",
    "preds = model.predict(testset, verbose=1)"
   ]
  },
  {
   "cell_type": "code",
   "execution_count": 138,
   "id": "a425738d",
   "metadata": {},
   "outputs": [],
   "source": [
    "temp_testset = ref_testset.copy()\n",
    "\n",
    "temp_testset[\"label\"] = temp_testset[\"label\"].map(int)"
   ]
  },
  {
   "cell_type": "code",
   "execution_count": 139,
   "id": "7846413c",
   "metadata": {},
   "outputs": [
    {
     "data": {
      "text/plain": [
       "-0.016632124362819356"
      ]
     },
     "execution_count": 139,
     "metadata": {},
     "output_type": "execute_result"
    }
   ],
   "source": [
    "cohen_kappa_score(\n",
    "    temp_testset[\"label\"].values,\n",
    "    np.vectorize(lambda x: 1 if x > 0.5 else 0)(preds.ravel()),\n",
    ")"
   ]
  },
  {
   "cell_type": "code",
   "execution_count": 140,
   "id": "d1306b32",
   "metadata": {},
   "outputs": [],
   "source": [
    "temp_testset[\"prediction\"] = preds.ravel()"
   ]
  },
  {
   "cell_type": "code",
   "execution_count": 141,
   "id": "e7620629",
   "metadata": {},
   "outputs": [],
   "source": [
    "temp_testset = pd.DataFrame(\n",
    "    [*study_oriented_transformation(temp_testset)],\n",
    "    columns=[\"study\", \"label\", \"prediction\"],\n",
    ")"
   ]
  },
  {
   "cell_type": "code",
   "execution_count": 143,
   "id": "82ed6666",
   "metadata": {
    "scrolled": true
   },
   "outputs": [
    {
     "data": {
      "text/plain": [
       "-0.011520968316565794"
      ]
     },
     "execution_count": 143,
     "metadata": {},
     "output_type": "execute_result"
    }
   ],
   "source": [
    "cohen_kappa_score(temp_testset[\"label\"].values, temp_testset[\"prediction\"].values)"
   ]
  },
  {
   "cell_type": "code",
   "execution_count": 144,
   "id": "ba8cf826",
   "metadata": {},
   "outputs": [],
   "source": [
    "# model naming convention: {architecture}-{study-type}-{num-parameters}.h5\n",
    "#\n",
    "# to load model:\n",
    "# model = tf.keras.models.load_model(\n",
    "#     '../models/cnn-all-study-types-3231585.h5',\n",
    "#     custom_objects={'F1Score': F1Score}\n",
    "# )\n",
    "model.save(\"../models/cnn-all-study-types-3231585.h5\")"
   ]
  },
  {
   "cell_type": "code",
   "execution_count": 158,
   "id": "9491c46f",
   "metadata": {},
   "outputs": [],
   "source": [
    "clean_up(model)\n",
    "del temp_testset"
   ]
  },
  {
   "cell_type": "markdown",
   "id": "5ba8e964",
   "metadata": {},
   "source": [
    "#### Only on XR_SHOULDER study type"
   ]
  },
  {
   "cell_type": "code",
   "execution_count": 161,
   "id": "ce4fc24b",
   "metadata": {},
   "outputs": [
    {
     "name": "stdout",
     "output_type": "stream",
     "text": [
      "Found 6704 validated image filenames belonging to 2 classes.\n"
     ]
    }
   ],
   "source": [
    "trainset = training.flow_from_dataframe(\n",
    "    dataframe=ref_trainset[ref_trainset[\"study_type\"] == \"XR_SHOULDER\"],\n",
    "    x_col=\"image_path\",\n",
    "    y_col=\"label\",\n",
    "    target_size=(IMAGE_WIDTH, IMAGE_HEIGHT),\n",
    "    class_mode=\"binary\",\n",
    "    batch_size=32,\n",
    "    seed=SEED,\n",
    "    shuffle=True,\n",
    "    subset=\"training\",\n",
    ")"
   ]
  },
  {
   "cell_type": "code",
   "execution_count": 162,
   "id": "deed28b0",
   "metadata": {},
   "outputs": [
    {
     "name": "stdout",
     "output_type": "stream",
     "text": [
      "Found 1675 validated image filenames belonging to 2 classes.\n"
     ]
    }
   ],
   "source": [
    "validationset = training.flow_from_dataframe(\n",
    "    dataframe=ref_trainset[ref_trainset[\"study_type\"] == \"XR_SHOULDER\"],\n",
    "    x_col=\"image_path\",\n",
    "    y_col=\"label\",\n",
    "    target_size=(IMAGE_WIDTH, IMAGE_HEIGHT),\n",
    "    class_mode=\"binary\",\n",
    "    batch_size=32,\n",
    "    seed=SEED,\n",
    "    subset=\"validation\",\n",
    ")"
   ]
  },
  {
   "cell_type": "code",
   "execution_count": 163,
   "id": "186cf77f",
   "metadata": {},
   "outputs": [
    {
     "name": "stdout",
     "output_type": "stream",
     "text": [
      "Found 563 validated image filenames belonging to 2 classes.\n"
     ]
    }
   ],
   "source": [
    "testset = testing.flow_from_dataframe(\n",
    "    dataframe=ref_testset[ref_testset[\"study_type\"] == \"XR_SHOULDER\"],\n",
    "    x_col=\"image_path\",\n",
    "    y_col=\"label\",\n",
    "    target_size=(IMAGE_WIDTH, IMAGE_HEIGHT),\n",
    "    class_mode=\"binary\",\n",
    "    batch_size=32,\n",
    "    seed=SEED,\n",
    ")"
   ]
  },
  {
   "cell_type": "code",
   "execution_count": 164,
   "id": "0c48907f",
   "metadata": {},
   "outputs": [],
   "source": [
    "model = make_cnn_model()"
   ]
  },
  {
   "cell_type": "code",
   "execution_count": 165,
   "id": "981e8baa",
   "metadata": {
    "scrolled": false
   },
   "outputs": [
    {
     "name": "stdout",
     "output_type": "stream",
     "text": [
      "Epoch 1/100\n",
      "210/210 [==============================] - 34s 153ms/step - loss: 1.2166 - tp: 40.0000 - fp: 71.0000 - tn: 4850.0000 - fn: 3055.0000 - binary_acc: 0.6100 - precision: 0.3604 - recall: 0.0129 - f1_score: 0.0250 - roc_auc: 0.5551 - pr_auc: 0.4223 - cohen_kappa: -0.0018 - val_loss: 1.1372 - val_tp: 6.0000 - val_fp: 0.0000e+00 - val_tn: 72.0000 - val_fn: 1597.0000 - val_binary_acc: 0.0466 - val_precision: 1.0000 - val_recall: 0.0037 - val_f1_score: 0.0075 - val_roc_auc: 0.6261 - val_pr_auc: 0.9745 - val_cohen_kappa: 3.2288e-04 - lr: 1.0000e-04\n",
      "Epoch 2/100\n",
      "210/210 [==============================] - 31s 148ms/step - loss: 0.9153 - tp: 70.0000 - fp: 54.0000 - tn: 4085.0000 - fn: 2495.0000 - binary_acc: 0.6198 - precision: 0.5645 - recall: 0.0273 - f1_score: 0.0521 - roc_auc: 0.6129 - pr_auc: 0.4718 - cohen_kappa: 0.0174 - val_loss: 1.1534 - val_tp: 0.0000e+00 - val_fp: 0.0000e+00 - val_tn: 72.0000 - val_fn: 1603.0000 - val_binary_acc: 0.0430 - val_precision: 0.0000e+00 - val_recall: 0.0000e+00 - val_f1_score: 0.0000e+00 - val_roc_auc: 0.6158 - val_pr_auc: 0.9729 - val_cohen_kappa: 0.0000e+00 - lr: 1.0000e-04\n",
      "Epoch 3/100\n",
      "210/210 [==============================] - 31s 148ms/step - loss: 0.8203 - tp: 77.0000 - fp: 77.0000 - tn: 4062.0000 - fn: 2488.0000 - binary_acc: 0.6174 - precision: 0.5000 - recall: 0.0300 - f1_score: 0.0566 - roc_auc: 0.6255 - pr_auc: 0.4861 - cohen_kappa: 0.0139 - val_loss: 1.0160 - val_tp: 36.0000 - val_fp: 0.0000e+00 - val_tn: 72.0000 - val_fn: 1567.0000 - val_binary_acc: 0.0645 - val_precision: 1.0000 - val_recall: 0.0225 - val_f1_score: 0.0439 - val_roc_auc: 0.6202 - val_pr_auc: 0.9726 - val_cohen_kappa: 0.0020 - lr: 1.0000e-04\n",
      "Epoch 4/100\n",
      "210/210 [==============================] - 32s 151ms/step - loss: 0.7674 - tp: 197.0000 - fp: 132.0000 - tn: 4007.0000 - fn: 2368.0000 - binary_acc: 0.6271 - precision: 0.5988 - recall: 0.0768 - f1_score: 0.1361 - roc_auc: 0.6463 - pr_auc: 0.5167 - cohen_kappa: 0.0538 - val_loss: 1.0069 - val_tp: 60.0000 - val_fp: 0.0000e+00 - val_tn: 72.0000 - val_fn: 1543.0000 - val_binary_acc: 0.0788 - val_precision: 1.0000 - val_recall: 0.0374 - val_f1_score: 0.0722 - val_roc_auc: 0.6525 - val_pr_auc: 0.9761 - val_cohen_kappa: 0.0033 - lr: 1.0000e-04\n",
      "Epoch 5/100\n",
      "210/210 [==============================] - 33s 157ms/step - loss: 0.7405 - tp: 321.0000 - fp: 181.0000 - tn: 3958.0000 - fn: 2244.0000 - binary_acc: 0.6383 - precision: 0.6394 - recall: 0.1251 - f1_score: 0.2093 - roc_auc: 0.6420 - pr_auc: 0.5213 - cohen_kappa: 0.0961 - val_loss: 0.9998 - val_tp: 34.0000 - val_fp: 0.0000e+00 - val_tn: 72.0000 - val_fn: 1569.0000 - val_binary_acc: 0.0633 - val_precision: 1.0000 - val_recall: 0.0212 - val_f1_score: 0.0415 - val_roc_auc: 0.6354 - val_pr_auc: 0.9742 - val_cohen_kappa: 0.0019 - lr: 1.0000e-04\n",
      "Epoch 6/100\n",
      "210/210 [==============================] - 32s 153ms/step - loss: 0.7214 - tp: 331.0000 - fp: 209.0000 - tn: 3930.0000 - fn: 2234.0000 - binary_acc: 0.6356 - precision: 0.6130 - recall: 0.1290 - f1_score: 0.2132 - roc_auc: 0.6554 - pr_auc: 0.5252 - cohen_kappa: 0.0924 - val_loss: 0.9980 - val_tp: 42.0000 - val_fp: 0.0000e+00 - val_tn: 72.0000 - val_fn: 1561.0000 - val_binary_acc: 0.0681 - val_precision: 1.0000 - val_recall: 0.0262 - val_f1_score: 0.0511 - val_roc_auc: 0.6780 - val_pr_auc: 0.9783 - val_cohen_kappa: 0.0023 - lr: 1.0000e-04\n",
      "Epoch 7/100\n",
      "210/210 [==============================] - 31s 149ms/step - loss: 0.7072 - tp: 378.0000 - fp: 199.0000 - tn: 3940.0000 - fn: 2187.0000 - binary_acc: 0.6441 - precision: 0.6551 - recall: 0.1474 - f1_score: 0.2406 - roc_auc: 0.6651 - pr_auc: 0.5393 - cohen_kappa: 0.1165 - val_loss: 0.9941 - val_tp: 171.0000 - val_fp: 1.0000 - val_tn: 71.0000 - val_fn: 1432.0000 - val_binary_acc: 0.1445 - val_precision: 0.9942 - val_recall: 0.1067 - val_f1_score: 0.1927 - val_roc_auc: 0.6935 - val_pr_auc: 0.9798 - val_cohen_kappa: 0.0088 - lr: 1.0000e-04\n",
      "Epoch 8/100\n",
      "210/210 [==============================] - 31s 150ms/step - loss: 0.6994 - tp: 414.0000 - fp: 227.0000 - tn: 3912.0000 - fn: 2151.0000 - binary_acc: 0.6453 - precision: 0.6459 - recall: 0.1614 - f1_score: 0.2583 - roc_auc: 0.6652 - pr_auc: 0.5404 - cohen_kappa: 0.1243 - val_loss: 1.0187 - val_tp: 56.0000 - val_fp: 1.0000 - val_tn: 71.0000 - val_fn: 1547.0000 - val_binary_acc: 0.0758 - val_precision: 0.9825 - val_recall: 0.0349 - val_f1_score: 0.0675 - val_roc_auc: 0.6777 - val_pr_auc: 0.9783 - val_cohen_kappa: 0.0019 - lr: 1.0000e-04\n",
      "Epoch 9/100\n",
      "210/210 [==============================] - 32s 152ms/step - loss: 0.6920 - tp: 440.0000 - fp: 224.0000 - tn: 3915.0000 - fn: 2125.0000 - binary_acc: 0.6496 - precision: 0.6627 - recall: 0.1715 - f1_score: 0.2725 - roc_auc: 0.6725 - pr_auc: 0.5483 - cohen_kappa: 0.1367 - val_loss: 1.0061 - val_tp: 115.0000 - val_fp: 1.0000 - val_tn: 71.0000 - val_fn: 1488.0000 - val_binary_acc: 0.1110 - val_precision: 0.9914 - val_recall: 0.0717 - val_f1_score: 0.1338 - val_roc_auc: 0.6876 - val_pr_auc: 0.9793 - val_cohen_kappa: 0.0053 - lr: 1.0000e-04\n",
      "Epoch 10/100\n",
      "210/210 [==============================] - 32s 150ms/step - loss: 0.6880 - tp: 428.0000 - fp: 271.0000 - tn: 3868.0000 - fn: 2137.0000 - binary_acc: 0.6408 - precision: 0.6123 - recall: 0.1669 - f1_score: 0.2623 - roc_auc: 0.6727 - pr_auc: 0.5447 - cohen_kappa: 0.1177 - val_loss: 0.9738 - val_tp: 170.0000 - val_fp: 2.0000 - val_tn: 70.0000 - val_fn: 1433.0000 - val_binary_acc: 0.1433 - val_precision: 0.9884 - val_recall: 0.1061 - val_f1_score: 0.1915 - val_roc_auc: 0.6888 - val_pr_auc: 0.9790 - val_cohen_kappa: 0.0075 - lr: 1.0000e-04\n",
      "Epoch 11/100\n",
      "210/210 [==============================] - 33s 156ms/step - loss: 0.6847 - tp: 428.0000 - fp: 239.0000 - tn: 3900.0000 - fn: 2137.0000 - binary_acc: 0.6456 - precision: 0.6417 - recall: 0.1669 - f1_score: 0.2649 - roc_auc: 0.6694 - pr_auc: 0.5419 - cohen_kappa: 0.1270 - val_loss: 0.9418 - val_tp: 207.0000 - val_fp: 2.0000 - val_tn: 70.0000 - val_fn: 1396.0000 - val_binary_acc: 0.1654 - val_precision: 0.9904 - val_recall: 0.1291 - val_f1_score: 0.2285 - val_roc_auc: 0.6989 - val_pr_auc: 0.9796 - val_cohen_kappa: 0.0099 - lr: 1.0000e-04\n",
      "Epoch 12/100\n",
      "210/210 [==============================] - 30s 145ms/step - loss: 0.6793 - tp: 530.0000 - fp: 283.0000 - tn: 3856.0000 - fn: 2035.0000 - binary_acc: 0.6542 - precision: 0.6519 - recall: 0.2066 - f1_score: 0.3138 - roc_auc: 0.6798 - pr_auc: 0.5555 - cohen_kappa: 0.1589 - val_loss: 1.0060 - val_tp: 79.0000 - val_fp: 0.0000e+00 - val_tn: 72.0000 - val_fn: 1524.0000 - val_binary_acc: 0.0901 - val_precision: 1.0000 - val_recall: 0.0493 - val_f1_score: 0.0939 - val_roc_auc: 0.6865 - val_pr_auc: 0.9783 - val_cohen_kappa: 0.0044 - lr: 1.0000e-04\n",
      "Epoch 13/100\n",
      "210/210 [==============================] - 32s 153ms/step - loss: 0.6747 - tp: 539.0000 - fp: 257.0000 - tn: 3882.0000 - fn: 2026.0000 - binary_acc: 0.6595 - precision: 0.6771 - recall: 0.2101 - f1_score: 0.3207 - roc_auc: 0.6862 - pr_auc: 0.5700 - cohen_kappa: 0.1704 - val_loss: 0.9870 - val_tp: 166.0000 - val_fp: 2.0000 - val_tn: 70.0000 - val_fn: 1437.0000 - val_binary_acc: 0.1409 - val_precision: 0.9881 - val_recall: 0.1036 - val_f1_score: 0.1875 - val_roc_auc: 0.6822 - val_pr_auc: 0.9783 - val_cohen_kappa: 0.0072 - lr: 1.0000e-04\n",
      "Epoch 14/100\n",
      "210/210 [==============================] - 32s 150ms/step - loss: 0.6704 - tp: 603.0000 - fp: 281.0000 - tn: 3858.0000 - fn: 1962.0000 - binary_acc: 0.6654 - precision: 0.6821 - recall: 0.2351 - f1_score: 0.3497 - roc_auc: 0.6952 - pr_auc: 0.5811 - cohen_kappa: 0.1910 - val_loss: 0.9370 - val_tp: 314.0000 - val_fp: 3.0000 - val_tn: 69.0000 - val_fn: 1289.0000 - val_binary_acc: 0.2287 - val_precision: 0.9905 - val_recall: 0.1959 - val_f1_score: 0.3271 - val_roc_auc: 0.7063 - val_pr_auc: 0.9804 - val_cohen_kappa: 0.0162 - lr: 1.0000e-04\n",
      "Epoch 15/100\n",
      "210/210 [==============================] - 33s 157ms/step - loss: 0.6696 - tp: 596.0000 - fp: 281.0000 - tn: 3858.0000 - fn: 1969.0000 - binary_acc: 0.6644 - precision: 0.6796 - recall: 0.2324 - f1_score: 0.3463 - roc_auc: 0.6902 - pr_auc: 0.5755 - cohen_kappa: 0.1880 - val_loss: 0.9814 - val_tp: 244.0000 - val_fp: 2.0000 - val_tn: 70.0000 - val_fn: 1359.0000 - val_binary_acc: 0.1875 - val_precision: 0.9919 - val_recall: 0.1522 - val_f1_score: 0.2639 - val_roc_auc: 0.7079 - val_pr_auc: 0.9809 - val_cohen_kappa: 0.0124 - lr: 1.0000e-04\n"
     ]
    },
    {
     "name": "stdout",
     "output_type": "stream",
     "text": [
      "Epoch 16/100\n",
      "210/210 [==============================] - 32s 150ms/step - loss: 0.6669 - tp: 688.0000 - fp: 345.0000 - tn: 3794.0000 - fn: 1877.0000 - binary_acc: 0.6686 - precision: 0.6660 - recall: 0.2682 - f1_score: 0.3824 - roc_auc: 0.6951 - pr_auc: 0.5830 - cohen_kappa: 0.2086 - val_loss: 1.0419 - val_tp: 109.0000 - val_fp: 0.0000e+00 - val_tn: 72.0000 - val_fn: 1494.0000 - val_binary_acc: 0.1081 - val_precision: 1.0000 - val_recall: 0.0680 - val_f1_score: 0.1273 - val_roc_auc: 0.7175 - val_pr_auc: 0.9814 - val_cohen_kappa: 0.0062 - lr: 1.0000e-04\n",
      "Epoch 17/100\n",
      "210/210 [==============================] - 33s 156ms/step - loss: 0.6636 - tp: 672.0000 - fp: 290.0000 - tn: 3849.0000 - fn: 1893.0000 - binary_acc: 0.6744 - precision: 0.6985 - recall: 0.2620 - f1_score: 0.3811 - roc_auc: 0.6990 - pr_auc: 0.5940 - cohen_kappa: 0.2178 - val_loss: 0.9699 - val_tp: 318.0000 - val_fp: 3.0000 - val_tn: 69.0000 - val_fn: 1285.0000 - val_binary_acc: 0.2310 - val_precision: 0.9907 - val_recall: 0.1984 - val_f1_score: 0.3306 - val_roc_auc: 0.7042 - val_pr_auc: 0.9798 - val_cohen_kappa: 0.0165 - lr: 1.0000e-04\n",
      "Epoch 18/100\n",
      "210/210 [==============================] - 33s 156ms/step - loss: 0.6606 - tp: 716.0000 - fp: 310.0000 - tn: 3829.0000 - fn: 1849.0000 - binary_acc: 0.6780 - precision: 0.6979 - recall: 0.2791 - f1_score: 0.3988 - roc_auc: 0.7051 - pr_auc: 0.6008 - cohen_kappa: 0.2305 - val_loss: 0.9896 - val_tp: 282.0000 - val_fp: 2.0000 - val_tn: 70.0000 - val_fn: 1321.0000 - val_binary_acc: 0.2101 - val_precision: 0.9930 - val_recall: 0.1759 - val_f1_score: 0.2989 - val_roc_auc: 0.7003 - val_pr_auc: 0.9796 - val_cohen_kappa: 0.0152 - lr: 1.0000e-04\n",
      "Epoch 19/100\n",
      "210/210 [==============================] - ETA: 0s - loss: 0.6615 - tp: 715.0000 - fp: 330.0000 - tn: 3809.0000 - fn: 1850.0000 - binary_acc: 0.6748 - precision: 0.6842 - recall: 0.2788 - f1_score: 0.3961 - roc_auc: 0.7022 - pr_auc: 0.5976 - cohen_kappa: 0.2243\n",
      "Epoch 19: ReduceLROnPlateau reducing learning rate to 1.9999999494757503e-05.\n",
      "210/210 [==============================] - 32s 151ms/step - loss: 0.6615 - tp: 715.0000 - fp: 330.0000 - tn: 3809.0000 - fn: 1850.0000 - binary_acc: 0.6748 - precision: 0.6842 - recall: 0.2788 - f1_score: 0.3961 - roc_auc: 0.7022 - pr_auc: 0.5976 - cohen_kappa: 0.2243 - val_loss: 0.9731 - val_tp: 251.0000 - val_fp: 1.0000 - val_tn: 71.0000 - val_fn: 1352.0000 - val_binary_acc: 0.1922 - val_precision: 0.9960 - val_recall: 0.1566 - val_f1_score: 0.2706 - val_roc_auc: 0.7100 - val_pr_auc: 0.9801 - val_cohen_kappa: 0.0143 - lr: 1.0000e-04\n",
      "Epoch 20/100\n",
      "210/210 [==============================] - 31s 149ms/step - loss: 0.6496 - tp: 777.0000 - fp: 293.0000 - tn: 3846.0000 - fn: 1788.0000 - binary_acc: 0.6896 - precision: 0.7262 - recall: 0.3029 - f1_score: 0.4275 - roc_auc: 0.7323 - pr_auc: 0.6372 - cohen_kappa: 0.2611 - val_loss: 0.9802 - val_tp: 292.0000 - val_fp: 3.0000 - val_tn: 69.0000 - val_fn: 1311.0000 - val_binary_acc: 0.2155 - val_precision: 0.9898 - val_recall: 0.1822 - val_f1_score: 0.3077 - val_roc_auc: 0.7272 - val_pr_auc: 0.9816 - val_cohen_kappa: 0.0145 - lr: 2.0000e-05\n",
      "Epoch 21/100\n",
      "210/210 [==============================] - 33s 155ms/step - loss: 0.6465 - tp: 803.0000 - fp: 300.0000 - tn: 3839.0000 - fn: 1762.0000 - binary_acc: 0.6924 - precision: 0.7280 - recall: 0.3131 - f1_score: 0.4378 - roc_auc: 0.7347 - pr_auc: 0.6368 - cohen_kappa: 0.2698 - val_loss: 1.0557 - val_tp: 195.0000 - val_fp: 1.0000 - val_tn: 71.0000 - val_fn: 1408.0000 - val_binary_acc: 0.1588 - val_precision: 0.9949 - val_recall: 0.1216 - val_f1_score: 0.2168 - val_roc_auc: 0.7180 - val_pr_auc: 0.9812 - val_cohen_kappa: 0.0104 - lr: 2.0000e-05\n",
      "Epoch 22/100\n",
      "210/210 [==============================] - 32s 151ms/step - loss: 0.6458 - tp: 797.0000 - fp: 305.0000 - tn: 3834.0000 - fn: 1768.0000 - binary_acc: 0.6908 - precision: 0.7232 - recall: 0.3107 - f1_score: 0.4347 - roc_auc: 0.7345 - pr_auc: 0.6403 - cohen_kappa: 0.2659 - val_loss: 1.0203 - val_tp: 273.0000 - val_fp: 3.0000 - val_tn: 69.0000 - val_fn: 1330.0000 - val_binary_acc: 0.2042 - val_precision: 0.9891 - val_recall: 0.1703 - val_f1_score: 0.2906 - val_roc_auc: 0.7280 - val_pr_auc: 0.9820 - val_cohen_kappa: 0.0131 - lr: 2.0000e-05\n",
      "Epoch 22: early stopping\n"
     ]
    }
   ],
   "source": [
    "history = model.fit(\n",
    "    trainset,\n",
    "    epochs=100,\n",
    "    validation_data=validationset,\n",
    "    callbacks=[early_stopping, reduce_lr_on_plateau],\n",
    ")"
   ]
  },
  {
   "cell_type": "code",
   "execution_count": 166,
   "id": "a77278a7",
   "metadata": {},
   "outputs": [
    {
     "data": {
      "image/png": "[encoded data removed]",
      "text/plain": [
       "<Figure size 1296x1080 with 4 Axes>"
      ]
     },
     "metadata": {},
     "output_type": "display_data"
    }
   ],
   "source": [
    "plot_metrics(history)"
   ]
  },
  {
   "cell_type": "code",
   "execution_count": 173,
   "id": "7687b013",
   "metadata": {},
   "outputs": [
    {
     "name": "stdout",
     "output_type": "stream",
     "text": [
      "18/18 [==============================] - 1s 78ms/step - loss: 0.7328 - tp: 54.0000 - fp: 6.0000 - tn: 279.0000 - fn: 224.0000 - binary_acc: 0.5915 - precision: 0.9000 - recall: 0.1942 - f1_score: 0.3195 - roc_auc: 0.6958 - pr_auc: 0.7168 - cohen_kappa: 0.1749\n"
     ]
    }
   ],
   "source": [
    "# get the loss value & metrics values for the model in test mode\n",
    "evaluation_metrics = model.evaluate(testset, verbose=1)"
   ]
  },
  {
   "cell_type": "code",
   "execution_count": 174,
   "id": "f6a76183",
   "metadata": {},
   "outputs": [
    {
     "name": "stdout",
     "output_type": "stream",
     "text": [
      "test loss   : 0.7328066229820251\n",
      "tp          : 54.0\n",
      "fp          : 6.0\n",
      "tn          : 279.0\n",
      "fn          : 224.0\n",
      "binary_acc  : 0.5914742350578308\n",
      "precision   : 0.8999999761581421\n",
      "recall      : 0.1942446082830429\n",
      "f1_score    : 0.3195266127586365\n",
      "roc_auc     : 0.6958285570144653\n",
      "pr_auc      : 0.7167665362358093\n",
      "cohen_kappa : 0.17487603425979614\n"
     ]
    }
   ],
   "source": [
    "loss = evaluation_metrics.pop(0)\n",
    "\n",
    "print(f\"test loss   : {loss}\")\n",
    "for metric, score in zip(METRICS, evaluation_metrics):\n",
    "\n",
    "    print(f\"{metric.name + ' ' * (12 - len(metric.name))}: {score}\")"
   ]
  },
  {
   "cell_type": "code",
   "execution_count": 175,
   "id": "90009e74",
   "metadata": {},
   "outputs": [
    {
     "name": "stdout",
     "output_type": "stream",
     "text": [
      "18/18 [==============================] - 1s 78ms/step\n"
     ]
    }
   ],
   "source": [
    "# get predictions for the test dataset\n",
    "preds = model.predict(testset, verbose=1)"
   ]
  },
  {
   "cell_type": "code",
   "execution_count": 176,
   "id": "f2d67393",
   "metadata": {},
   "outputs": [],
   "source": [
    "temp_testset = ref_testset[ref_testset[\"study_type\"] == \"XR_SHOULDER\"].copy()\n",
    "\n",
    "temp_testset[\"label\"] = temp_testset[\"label\"].map(int)"
   ]
  },
  {
   "cell_type": "code",
   "execution_count": 177,
   "id": "d7d86b78",
   "metadata": {},
   "outputs": [
    {
     "data": {
      "text/plain": [
       "0.0026762842978578227"
      ]
     },
     "execution_count": 177,
     "metadata": {},
     "output_type": "execute_result"
    }
   ],
   "source": [
    "cohen_kappa_score(\n",
    "    temp_testset[\"label\"].values,\n",
    "    np.vectorize(lambda x: 1 if x > 0.5 else 0)(preds.ravel()),\n",
    ")"
   ]
  },
  {
   "cell_type": "code",
   "execution_count": 178,
   "id": "98f19d72",
   "metadata": {},
   "outputs": [],
   "source": [
    "temp_testset[\"prediction\"] = preds.ravel()"
   ]
  },
  {
   "cell_type": "code",
   "execution_count": 179,
   "id": "4cb476d9",
   "metadata": {},
   "outputs": [],
   "source": [
    "temp_testset = pd.DataFrame(\n",
    "    [*study_oriented_transformation(temp_testset)],\n",
    "    columns=[\"study\", \"label\", \"prediction\"],\n",
    ")"
   ]
  },
  {
   "cell_type": "code",
   "execution_count": 180,
   "id": "5b85ba17",
   "metadata": {},
   "outputs": [
    {
     "data": {
      "text/plain": [
       "-0.00943089430894295"
      ]
     },
     "execution_count": 180,
     "metadata": {},
     "output_type": "execute_result"
    }
   ],
   "source": [
    "cohen_kappa_score(temp_testset[\"label\"].values, temp_testset[\"prediction\"].values)"
   ]
  },
  {
   "cell_type": "code",
   "execution_count": 181,
   "id": "79d50c5a",
   "metadata": {},
   "outputs": [],
   "source": [
    "# model naming convention: {architecture}-{study-type}-{num-parameters}.h5\n",
    "#\n",
    "# to load model:\n",
    "# model = tf.keras.models.load_model(\n",
    "#     '../models/cnn-XR_SHOULDER-3231585.h5',\n",
    "#     custom_objects={'F1Score': F1Score}\n",
    "# )\n",
    "model.save(\"../models/cnn-XR_SHOULDER-3231585.h5\")"
   ]
  },
  {
   "cell_type": "code",
   "execution_count": 182,
   "id": "18a2e6b5",
   "metadata": {},
   "outputs": [],
   "source": [
    "clean_up(model)\n",
    "del temp_testset"
   ]
  }
 ],
 "metadata": {
  "kernelspec": {
   "display_name": "Python 3 (ipykernel)",
   "language": "python",
   "name": "python3"
  },
  "language_info": {
   "codemirror_mode": {
    "name": "ipython",
    "version": 3
   },
   "file_extension": ".py",
   "mimetype": "text/x-python",
   "name": "python",
   "nbconvert_exporter": "python",
   "pygments_lexer": "ipython3",
   "version": "3.8.10"
  }
 },
 "nbformat": 4,
 "nbformat_minor": 5
}
