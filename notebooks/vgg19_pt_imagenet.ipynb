{
 "cells": [
  {
   "cell_type": "markdown",
   "id": "7a899787",
   "metadata": {},
   "source": [
    "## X-Ray Abnormality Detection | VGG19, pretrained on ImageNet"
   ]
  },
  {
   "cell_type": "markdown",
   "id": "c7764e65",
   "metadata": {},
   "source": [
    "> **Antonopoulos Ilias** ( *p3352004* ) <br />\n",
    "> **Ndoja Silva** ( *p3352017* ) <br />\n",
    "> **MSc in Data Science, AUEB**"
   ]
  },
  {
   "cell_type": "markdown",
   "id": "aa71e65e",
   "metadata": {},
   "source": [
    "## Table of Contents\n",
    "\n",
    "- [Data Loading](#Data-Loading)\n",
    " * [Create a tensorflow input pipeline for the training data](#Create-a-tensorflow-input-pipeline-for-the-training-data)\n",
    "- [VGG19 architecture, pretrained on ImageNet](#VGG19-architecture,-pretrained-on-ImageNet)"
   ]
  },
  {
   "cell_type": "code",
   "execution_count": 1,
   "id": "99fc7dec",
   "metadata": {},
   "outputs": [],
   "source": [
    "import os\n",
    "import pathlib\n",
    "import random\n",
    "import re\n",
    "from glob import glob\n",
    "\n",
    "import matplotlib.pyplot as plt\n",
    "import numpy as np\n",
    "import pandas as pd\n",
    "import tensorflow as tf\n",
    "import tensorflow_addons as tfa\n",
    "from sklearn.metrics import cohen_kappa_score\n",
    "from sklearn.utils import shuffle\n",
    "\n",
    "from utils import (\n",
    "    clean_up,\n",
    "    F1Score,\n",
    "    inspect_df,\n",
    "    plot_metrics,\n",
    ")\n",
    "\n",
    "\n",
    "pd.set_option(\"max_colwidth\", None)\n",
    "plt.style.use(\"dark_background\")"
   ]
  },
  {
   "cell_type": "code",
   "execution_count": 2,
   "id": "6d6c351a",
   "metadata": {},
   "outputs": [
    {
     "name": "stdout",
     "output_type": "stream",
     "text": [
      "2.8.0\n"
     ]
    }
   ],
   "source": [
    "print(tf.__version__)"
   ]
  },
  {
   "cell_type": "code",
   "execution_count": 3,
   "id": "1fa8b39b",
   "metadata": {},
   "outputs": [
    {
     "name": "stdout",
     "output_type": "stream",
     "text": [
      "Num GPUs Available:  1\n"
     ]
    },
    {
     "name": "stderr",
     "output_type": "stream",
     "text": [
      "2022-04-02 14:53:59.831103: I tensorflow/stream_executor/cuda/cuda_gpu_executor.cc:936] successful NUMA node read from SysFS had negative value (-1), but there must be at least one NUMA node, so returning NUMA node zero\n",
      "2022-04-02 14:53:59.852079: I tensorflow/stream_executor/cuda/cuda_gpu_executor.cc:936] successful NUMA node read from SysFS had negative value (-1), but there must be at least one NUMA node, so returning NUMA node zero\n",
      "2022-04-02 14:53:59.852486: I tensorflow/stream_executor/cuda/cuda_gpu_executor.cc:936] successful NUMA node read from SysFS had negative value (-1), but there must be at least one NUMA node, so returning NUMA node zero\n"
     ]
    }
   ],
   "source": [
    "print(\"Num GPUs Available: \", len(tf.config.list_physical_devices(\"GPU\")))"
   ]
  },
  {
   "cell_type": "code",
   "execution_count": 4,
   "id": "8d64d949",
   "metadata": {},
   "outputs": [],
   "source": [
    "gpus = tf.config.experimental.list_physical_devices(\"GPU\")\n",
    "\n",
    "try:\n",
    "    tf.config.experimental.set_memory_growth(gpus[0], True)\n",
    "except IndexError:\n",
    "    print(\"Cannot memory-restrict the GPU, if no GPU exists in system. Ignore...\")\n",
    "    pass"
   ]
  },
  {
   "cell_type": "code",
   "execution_count": 5,
   "id": "a6659fde",
   "metadata": {},
   "outputs": [],
   "source": [
    "SEED = 99910123\n",
    "\n",
    "os.environ[\"PYTHONHASHSEED\"] = str(SEED)\n",
    "random.seed(SEED)\n",
    "tf.random.set_seed(SEED)\n",
    "np.random.seed(SEED)"
   ]
  },
  {
   "cell_type": "markdown",
   "id": "b5346f99",
   "metadata": {},
   "source": [
    "### Data Loading"
   ]
  },
  {
   "cell_type": "code",
   "execution_count": 6,
   "id": "5819c5d3",
   "metadata": {},
   "outputs": [],
   "source": [
    "DATASET_DIR = \"../data/MURA-v1.1/\""
   ]
  },
  {
   "cell_type": "code",
   "execution_count": 7,
   "id": "67d931da",
   "metadata": {},
   "outputs": [
    {
     "data": {
      "text/plain": [
       "['../data/MURA-v1.1/train/XR_WRIST/patient08092/study1_negative/image1.png',\n",
       " '../data/MURA-v1.1/train/XR_FINGER/patient01064/study1_positive/image1.png',\n",
       " '../data/MURA-v1.1/valid/XR_ELBOW/patient11831/study1_positive/image1.png',\n",
       " '../data/MURA-v1.1/train/XR_SHOULDER/patient00442/study1_positive/image1.png',\n",
       " '../data/MURA-v1.1/train/XR_ELBOW/patient06289/study1_negative/image3.png',\n",
       " '../data/MURA-v1.1/train/XR_WRIST/patient08562/study1_negative/image2.png',\n",
       " '../data/MURA-v1.1/train/XR_FINGER/patient04280/study1_negative/image3.png',\n",
       " '../data/MURA-v1.1/train/XR_WRIST/patient07018/study1_positive/image1.png',\n",
       " '../data/MURA-v1.1/train/XR_ELBOW/patient06000/study1_negative/image1.png',\n",
       " '../data/MURA-v1.1/train/XR_SHOULDER/patient00497/study2_negative/image4.png']"
      ]
     },
     "execution_count": 7,
     "metadata": {},
     "output_type": "execute_result"
    }
   ],
   "source": [
    "random.choices(glob(os.path.join(DATASET_DIR, \"*\", \"*\", \"*\", \"*\", \"*.png\")), k=10)"
   ]
  },
  {
   "cell_type": "markdown",
   "id": "3e68ad35",
   "metadata": {},
   "source": [
    "So, the data structure is the following:\n",
    "\n",
    "```\n",
    "\n",
    "└─train {data subset}\n",
    "│   └───XR_ELBOW {study type}\n",
    "│       │  └───patient00011 {patient}\n",
    "│       │         └───study1_negative {study with label}\n",
    "│       │               └───image1.png {view}\n",
    "│       │               └───image2.png \n",
    "│       │               └───image3.png \n",
    "                        └───...\n",
    "   ...\n",
    "   \n",
    "\n",
    "└─valid {data subset}\n",
    "│   └───XR_HUMERUS {study type}\n",
    "│       │  └───patient11216 {patient}\n",
    "│       │         └───study1_negative {study with label}\n",
    "│       │               └───image1.png {view}\n",
    "│       │               └───image2.png \n",
    "                        └───...\n",
    "```"
   ]
  },
  {
   "cell_type": "code",
   "execution_count": 8,
   "id": "0e99c8e4",
   "metadata": {},
   "outputs": [
    {
     "name": "stdout",
     "output_type": "stream",
     "text": [
      "Total PNG images found in dir <../data/MURA-v1.1/>: 40009\n"
     ]
    }
   ],
   "source": [
    "image_count = len(list(pathlib.Path(DATASET_DIR).glob(\"*/*/*/*/*.png\")))\n",
    "\n",
    "print(f\"Total PNG images found in dir <{DATASET_DIR}>: {image_count}\")"
   ]
  },
  {
   "cell_type": "markdown",
   "id": "e3cc7391",
   "metadata": {},
   "source": [
    "We will start by creating a tabular form of the training data (with no actual image files), in order to quickly analyze them. A proper data loader (of the actual image files) will be implemented after that, in a tensorflow-friendly manner."
   ]
  },
  {
   "cell_type": "code",
   "execution_count": 9,
   "id": "6ee568f1",
   "metadata": {
    "scrolled": false
   },
   "outputs": [
    {
     "name": "stdout",
     "output_type": "stream",
     "text": [
      "shape: (36808, 1)\n"
     ]
    },
    {
     "data": {
      "text/html": [
       "<div>\n",
       "<style scoped>\n",
       "    .dataframe tbody tr th:only-of-type {\n",
       "        vertical-align: middle;\n",
       "    }\n",
       "\n",
       "    .dataframe tbody tr th {\n",
       "        vertical-align: top;\n",
       "    }\n",
       "\n",
       "    .dataframe thead th {\n",
       "        text-align: right;\n",
       "    }\n",
       "</style>\n",
       "<table border=\"1\" class=\"dataframe\">\n",
       "  <thead>\n",
       "    <tr style=\"text-align: right;\">\n",
       "      <th></th>\n",
       "      <th>image_path</th>\n",
       "    </tr>\n",
       "  </thead>\n",
       "  <tbody>\n",
       "    <tr>\n",
       "      <th>0</th>\n",
       "      <td>MURA-v1.1/train/XR_SHOULDER/patient00001/study1_positive/image1.png</td>\n",
       "    </tr>\n",
       "    <tr>\n",
       "      <th>1</th>\n",
       "      <td>MURA-v1.1/train/XR_SHOULDER/patient00001/study1_positive/image2.png</td>\n",
       "    </tr>\n",
       "    <tr>\n",
       "      <th>2</th>\n",
       "      <td>MURA-v1.1/train/XR_SHOULDER/patient00001/study1_positive/image3.png</td>\n",
       "    </tr>\n",
       "    <tr>\n",
       "      <th>3</th>\n",
       "      <td>MURA-v1.1/train/XR_SHOULDER/patient00002/study1_positive/image1.png</td>\n",
       "    </tr>\n",
       "    <tr>\n",
       "      <th>4</th>\n",
       "      <td>MURA-v1.1/train/XR_SHOULDER/patient00002/study1_positive/image2.png</td>\n",
       "    </tr>\n",
       "  </tbody>\n",
       "</table>\n",
       "</div>"
      ],
      "text/plain": [
       "                                                            image_path\n",
       "0  MURA-v1.1/train/XR_SHOULDER/patient00001/study1_positive/image1.png\n",
       "1  MURA-v1.1/train/XR_SHOULDER/patient00001/study1_positive/image2.png\n",
       "2  MURA-v1.1/train/XR_SHOULDER/patient00001/study1_positive/image3.png\n",
       "3  MURA-v1.1/train/XR_SHOULDER/patient00002/study1_positive/image1.png\n",
       "4  MURA-v1.1/train/XR_SHOULDER/patient00002/study1_positive/image2.png"
      ]
     },
     "execution_count": 9,
     "metadata": {},
     "output_type": "execute_result"
    }
   ],
   "source": [
    "train_image_paths = pd.read_csv(\n",
    "    os.path.join(DATASET_DIR, \"train_image_paths.csv\"),\n",
    "    names=[\"image_path\"],\n",
    "    header=None,\n",
    "    index_col=False,\n",
    ")\n",
    "\n",
    "inspect_df(train_image_paths)"
   ]
  },
  {
   "cell_type": "code",
   "execution_count": 10,
   "id": "60a69725",
   "metadata": {},
   "outputs": [],
   "source": [
    "train_image_paths[\"image_path\"] = train_image_paths[\"image_path\"].map(\n",
    "    lambda x: os.path.join(\"../data/\", x)\n",
    ")\n",
    "train_image_paths[\"study_type\"] = train_image_paths[\"image_path\"].map(\n",
    "    lambda x: x.split(\"/\")[4]\n",
    ")\n",
    "train_image_paths[\"patient\"] = train_image_paths[\"image_path\"].map(\n",
    "    lambda x: x.split(\"/\")[5]\n",
    ")\n",
    "train_image_paths[\"study\"] = train_image_paths[\"image_path\"].map(\n",
    "    lambda x: x.split(\"/\")[6]\n",
    ")\n",
    "train_image_paths[\"study_path\"] = train_image_paths[\"image_path\"].map(\n",
    "    lambda x: re.sub(r\"image\\d+.png\", \"\", x)\n",
    ")"
   ]
  },
  {
   "cell_type": "code",
   "execution_count": 11,
   "id": "d073e76e",
   "metadata": {},
   "outputs": [
    {
     "name": "stdout",
     "output_type": "stream",
     "text": [
      "shape: (36808, 5)\n"
     ]
    },
    {
     "data": {
      "text/html": [
       "<div>\n",
       "<style scoped>\n",
       "    .dataframe tbody tr th:only-of-type {\n",
       "        vertical-align: middle;\n",
       "    }\n",
       "\n",
       "    .dataframe tbody tr th {\n",
       "        vertical-align: top;\n",
       "    }\n",
       "\n",
       "    .dataframe thead th {\n",
       "        text-align: right;\n",
       "    }\n",
       "</style>\n",
       "<table border=\"1\" class=\"dataframe\">\n",
       "  <thead>\n",
       "    <tr style=\"text-align: right;\">\n",
       "      <th></th>\n",
       "      <th>image_path</th>\n",
       "      <th>study_type</th>\n",
       "      <th>patient</th>\n",
       "      <th>study</th>\n",
       "      <th>study_path</th>\n",
       "    </tr>\n",
       "  </thead>\n",
       "  <tbody>\n",
       "    <tr>\n",
       "      <th>0</th>\n",
       "      <td>../data/MURA-v1.1/train/XR_SHOULDER/patient00001/study1_positive/image1.png</td>\n",
       "      <td>XR_SHOULDER</td>\n",
       "      <td>patient00001</td>\n",
       "      <td>study1_positive</td>\n",
       "      <td>../data/MURA-v1.1/train/XR_SHOULDER/patient00001/study1_positive/</td>\n",
       "    </tr>\n",
       "    <tr>\n",
       "      <th>1</th>\n",
       "      <td>../data/MURA-v1.1/train/XR_SHOULDER/patient00001/study1_positive/image2.png</td>\n",
       "      <td>XR_SHOULDER</td>\n",
       "      <td>patient00001</td>\n",
       "      <td>study1_positive</td>\n",
       "      <td>../data/MURA-v1.1/train/XR_SHOULDER/patient00001/study1_positive/</td>\n",
       "    </tr>\n",
       "    <tr>\n",
       "      <th>2</th>\n",
       "      <td>../data/MURA-v1.1/train/XR_SHOULDER/patient00001/study1_positive/image3.png</td>\n",
       "      <td>XR_SHOULDER</td>\n",
       "      <td>patient00001</td>\n",
       "      <td>study1_positive</td>\n",
       "      <td>../data/MURA-v1.1/train/XR_SHOULDER/patient00001/study1_positive/</td>\n",
       "    </tr>\n",
       "    <tr>\n",
       "      <th>3</th>\n",
       "      <td>../data/MURA-v1.1/train/XR_SHOULDER/patient00002/study1_positive/image1.png</td>\n",
       "      <td>XR_SHOULDER</td>\n",
       "      <td>patient00002</td>\n",
       "      <td>study1_positive</td>\n",
       "      <td>../data/MURA-v1.1/train/XR_SHOULDER/patient00002/study1_positive/</td>\n",
       "    </tr>\n",
       "    <tr>\n",
       "      <th>4</th>\n",
       "      <td>../data/MURA-v1.1/train/XR_SHOULDER/patient00002/study1_positive/image2.png</td>\n",
       "      <td>XR_SHOULDER</td>\n",
       "      <td>patient00002</td>\n",
       "      <td>study1_positive</td>\n",
       "      <td>../data/MURA-v1.1/train/XR_SHOULDER/patient00002/study1_positive/</td>\n",
       "    </tr>\n",
       "  </tbody>\n",
       "</table>\n",
       "</div>"
      ],
      "text/plain": [
       "                                                                    image_path  \\\n",
       "0  ../data/MURA-v1.1/train/XR_SHOULDER/patient00001/study1_positive/image1.png   \n",
       "1  ../data/MURA-v1.1/train/XR_SHOULDER/patient00001/study1_positive/image2.png   \n",
       "2  ../data/MURA-v1.1/train/XR_SHOULDER/patient00001/study1_positive/image3.png   \n",
       "3  ../data/MURA-v1.1/train/XR_SHOULDER/patient00002/study1_positive/image1.png   \n",
       "4  ../data/MURA-v1.1/train/XR_SHOULDER/patient00002/study1_positive/image2.png   \n",
       "\n",
       "    study_type       patient            study  \\\n",
       "0  XR_SHOULDER  patient00001  study1_positive   \n",
       "1  XR_SHOULDER  patient00001  study1_positive   \n",
       "2  XR_SHOULDER  patient00001  study1_positive   \n",
       "3  XR_SHOULDER  patient00002  study1_positive   \n",
       "4  XR_SHOULDER  patient00002  study1_positive   \n",
       "\n",
       "                                                          study_path  \n",
       "0  ../data/MURA-v1.1/train/XR_SHOULDER/patient00001/study1_positive/  \n",
       "1  ../data/MURA-v1.1/train/XR_SHOULDER/patient00001/study1_positive/  \n",
       "2  ../data/MURA-v1.1/train/XR_SHOULDER/patient00001/study1_positive/  \n",
       "3  ../data/MURA-v1.1/train/XR_SHOULDER/patient00002/study1_positive/  \n",
       "4  ../data/MURA-v1.1/train/XR_SHOULDER/patient00002/study1_positive/  "
      ]
     },
     "execution_count": 11,
     "metadata": {},
     "output_type": "execute_result"
    }
   ],
   "source": [
    "inspect_df(train_image_paths)"
   ]
  },
  {
   "cell_type": "code",
   "execution_count": 12,
   "id": "59cf2544",
   "metadata": {
    "scrolled": false
   },
   "outputs": [
    {
     "name": "stdout",
     "output_type": "stream",
     "text": [
      "shape: (13457, 2)\n"
     ]
    },
    {
     "data": {
      "text/html": [
       "<div>\n",
       "<style scoped>\n",
       "    .dataframe tbody tr th:only-of-type {\n",
       "        vertical-align: middle;\n",
       "    }\n",
       "\n",
       "    .dataframe tbody tr th {\n",
       "        vertical-align: top;\n",
       "    }\n",
       "\n",
       "    .dataframe thead th {\n",
       "        text-align: right;\n",
       "    }\n",
       "</style>\n",
       "<table border=\"1\" class=\"dataframe\">\n",
       "  <thead>\n",
       "    <tr style=\"text-align: right;\">\n",
       "      <th></th>\n",
       "      <th>study_path</th>\n",
       "      <th>label</th>\n",
       "    </tr>\n",
       "  </thead>\n",
       "  <tbody>\n",
       "    <tr>\n",
       "      <th>0</th>\n",
       "      <td>MURA-v1.1/train/XR_SHOULDER/patient00001/study1_positive/</td>\n",
       "      <td>1</td>\n",
       "    </tr>\n",
       "    <tr>\n",
       "      <th>1</th>\n",
       "      <td>MURA-v1.1/train/XR_SHOULDER/patient00002/study1_positive/</td>\n",
       "      <td>1</td>\n",
       "    </tr>\n",
       "    <tr>\n",
       "      <th>2</th>\n",
       "      <td>MURA-v1.1/train/XR_SHOULDER/patient00003/study1_positive/</td>\n",
       "      <td>1</td>\n",
       "    </tr>\n",
       "    <tr>\n",
       "      <th>3</th>\n",
       "      <td>MURA-v1.1/train/XR_SHOULDER/patient00004/study1_positive/</td>\n",
       "      <td>1</td>\n",
       "    </tr>\n",
       "    <tr>\n",
       "      <th>4</th>\n",
       "      <td>MURA-v1.1/train/XR_SHOULDER/patient00005/study1_positive/</td>\n",
       "      <td>1</td>\n",
       "    </tr>\n",
       "  </tbody>\n",
       "</table>\n",
       "</div>"
      ],
      "text/plain": [
       "                                                  study_path  label\n",
       "0  MURA-v1.1/train/XR_SHOULDER/patient00001/study1_positive/      1\n",
       "1  MURA-v1.1/train/XR_SHOULDER/patient00002/study1_positive/      1\n",
       "2  MURA-v1.1/train/XR_SHOULDER/patient00003/study1_positive/      1\n",
       "3  MURA-v1.1/train/XR_SHOULDER/patient00004/study1_positive/      1\n",
       "4  MURA-v1.1/train/XR_SHOULDER/patient00005/study1_positive/      1"
      ]
     },
     "execution_count": 12,
     "metadata": {},
     "output_type": "execute_result"
    }
   ],
   "source": [
    "train_labeled_studies = pd.read_csv(\n",
    "    os.path.join(DATASET_DIR, \"train_labeled_studies.csv\"),\n",
    "    names=[\"study_path\", \"label\"],\n",
    "    header=None,\n",
    "    index_col=False,\n",
    ")\n",
    "\n",
    "inspect_df(train_labeled_studies)"
   ]
  },
  {
   "cell_type": "code",
   "execution_count": 13,
   "id": "df9a7f5d",
   "metadata": {},
   "outputs": [],
   "source": [
    "train_labeled_studies[\"study_path\"] = train_labeled_studies[\"study_path\"].map(\n",
    "    lambda x: os.path.join(\"../data/\", x)\n",
    ")\n",
    "train_labeled_studies[\"label\"] = train_labeled_studies[\"label\"].map(str)"
   ]
  },
  {
   "cell_type": "code",
   "execution_count": 14,
   "id": "408b169b",
   "metadata": {
    "scrolled": false
   },
   "outputs": [
    {
     "name": "stdout",
     "output_type": "stream",
     "text": [
      "shape: (13457, 2)\n"
     ]
    },
    {
     "data": {
      "text/html": [
       "<div>\n",
       "<style scoped>\n",
       "    .dataframe tbody tr th:only-of-type {\n",
       "        vertical-align: middle;\n",
       "    }\n",
       "\n",
       "    .dataframe tbody tr th {\n",
       "        vertical-align: top;\n",
       "    }\n",
       "\n",
       "    .dataframe thead th {\n",
       "        text-align: right;\n",
       "    }\n",
       "</style>\n",
       "<table border=\"1\" class=\"dataframe\">\n",
       "  <thead>\n",
       "    <tr style=\"text-align: right;\">\n",
       "      <th></th>\n",
       "      <th>study_path</th>\n",
       "      <th>label</th>\n",
       "    </tr>\n",
       "  </thead>\n",
       "  <tbody>\n",
       "    <tr>\n",
       "      <th>0</th>\n",
       "      <td>../data/MURA-v1.1/train/XR_SHOULDER/patient00001/study1_positive/</td>\n",
       "      <td>1</td>\n",
       "    </tr>\n",
       "    <tr>\n",
       "      <th>1</th>\n",
       "      <td>../data/MURA-v1.1/train/XR_SHOULDER/patient00002/study1_positive/</td>\n",
       "      <td>1</td>\n",
       "    </tr>\n",
       "    <tr>\n",
       "      <th>2</th>\n",
       "      <td>../data/MURA-v1.1/train/XR_SHOULDER/patient00003/study1_positive/</td>\n",
       "      <td>1</td>\n",
       "    </tr>\n",
       "    <tr>\n",
       "      <th>3</th>\n",
       "      <td>../data/MURA-v1.1/train/XR_SHOULDER/patient00004/study1_positive/</td>\n",
       "      <td>1</td>\n",
       "    </tr>\n",
       "    <tr>\n",
       "      <th>4</th>\n",
       "      <td>../data/MURA-v1.1/train/XR_SHOULDER/patient00005/study1_positive/</td>\n",
       "      <td>1</td>\n",
       "    </tr>\n",
       "  </tbody>\n",
       "</table>\n",
       "</div>"
      ],
      "text/plain": [
       "                                                          study_path label\n",
       "0  ../data/MURA-v1.1/train/XR_SHOULDER/patient00001/study1_positive/     1\n",
       "1  ../data/MURA-v1.1/train/XR_SHOULDER/patient00002/study1_positive/     1\n",
       "2  ../data/MURA-v1.1/train/XR_SHOULDER/patient00003/study1_positive/     1\n",
       "3  ../data/MURA-v1.1/train/XR_SHOULDER/patient00004/study1_positive/     1\n",
       "4  ../data/MURA-v1.1/train/XR_SHOULDER/patient00005/study1_positive/     1"
      ]
     },
     "execution_count": 14,
     "metadata": {},
     "output_type": "execute_result"
    }
   ],
   "source": [
    "inspect_df(train_labeled_studies)"
   ]
  },
  {
   "cell_type": "code",
   "execution_count": 15,
   "id": "98c49b41",
   "metadata": {},
   "outputs": [
    {
     "name": "stdout",
     "output_type": "stream",
     "text": [
      "shape: (36808, 6)\n"
     ]
    },
    {
     "data": {
      "text/html": [
       "<div>\n",
       "<style scoped>\n",
       "    .dataframe tbody tr th:only-of-type {\n",
       "        vertical-align: middle;\n",
       "    }\n",
       "\n",
       "    .dataframe tbody tr th {\n",
       "        vertical-align: top;\n",
       "    }\n",
       "\n",
       "    .dataframe thead th {\n",
       "        text-align: right;\n",
       "    }\n",
       "</style>\n",
       "<table border=\"1\" class=\"dataframe\">\n",
       "  <thead>\n",
       "    <tr style=\"text-align: right;\">\n",
       "      <th></th>\n",
       "      <th>image_path</th>\n",
       "      <th>study_type</th>\n",
       "      <th>patient</th>\n",
       "      <th>study</th>\n",
       "      <th>study_path</th>\n",
       "      <th>label</th>\n",
       "    </tr>\n",
       "  </thead>\n",
       "  <tbody>\n",
       "    <tr>\n",
       "      <th>0</th>\n",
       "      <td>../data/MURA-v1.1/train/XR_SHOULDER/patient00001/study1_positive/image1.png</td>\n",
       "      <td>XR_SHOULDER</td>\n",
       "      <td>patient00001</td>\n",
       "      <td>study1_positive</td>\n",
       "      <td>../data/MURA-v1.1/train/XR_SHOULDER/patient00001/study1_positive/</td>\n",
       "      <td>1</td>\n",
       "    </tr>\n",
       "    <tr>\n",
       "      <th>1</th>\n",
       "      <td>../data/MURA-v1.1/train/XR_SHOULDER/patient00001/study1_positive/image2.png</td>\n",
       "      <td>XR_SHOULDER</td>\n",
       "      <td>patient00001</td>\n",
       "      <td>study1_positive</td>\n",
       "      <td>../data/MURA-v1.1/train/XR_SHOULDER/patient00001/study1_positive/</td>\n",
       "      <td>1</td>\n",
       "    </tr>\n",
       "    <tr>\n",
       "      <th>2</th>\n",
       "      <td>../data/MURA-v1.1/train/XR_SHOULDER/patient00001/study1_positive/image3.png</td>\n",
       "      <td>XR_SHOULDER</td>\n",
       "      <td>patient00001</td>\n",
       "      <td>study1_positive</td>\n",
       "      <td>../data/MURA-v1.1/train/XR_SHOULDER/patient00001/study1_positive/</td>\n",
       "      <td>1</td>\n",
       "    </tr>\n",
       "    <tr>\n",
       "      <th>3</th>\n",
       "      <td>../data/MURA-v1.1/train/XR_SHOULDER/patient00002/study1_positive/image1.png</td>\n",
       "      <td>XR_SHOULDER</td>\n",
       "      <td>patient00002</td>\n",
       "      <td>study1_positive</td>\n",
       "      <td>../data/MURA-v1.1/train/XR_SHOULDER/patient00002/study1_positive/</td>\n",
       "      <td>1</td>\n",
       "    </tr>\n",
       "    <tr>\n",
       "      <th>4</th>\n",
       "      <td>../data/MURA-v1.1/train/XR_SHOULDER/patient00002/study1_positive/image2.png</td>\n",
       "      <td>XR_SHOULDER</td>\n",
       "      <td>patient00002</td>\n",
       "      <td>study1_positive</td>\n",
       "      <td>../data/MURA-v1.1/train/XR_SHOULDER/patient00002/study1_positive/</td>\n",
       "      <td>1</td>\n",
       "    </tr>\n",
       "  </tbody>\n",
       "</table>\n",
       "</div>"
      ],
      "text/plain": [
       "                                                                    image_path  \\\n",
       "0  ../data/MURA-v1.1/train/XR_SHOULDER/patient00001/study1_positive/image1.png   \n",
       "1  ../data/MURA-v1.1/train/XR_SHOULDER/patient00001/study1_positive/image2.png   \n",
       "2  ../data/MURA-v1.1/train/XR_SHOULDER/patient00001/study1_positive/image3.png   \n",
       "3  ../data/MURA-v1.1/train/XR_SHOULDER/patient00002/study1_positive/image1.png   \n",
       "4  ../data/MURA-v1.1/train/XR_SHOULDER/patient00002/study1_positive/image2.png   \n",
       "\n",
       "    study_type       patient            study  \\\n",
       "0  XR_SHOULDER  patient00001  study1_positive   \n",
       "1  XR_SHOULDER  patient00001  study1_positive   \n",
       "2  XR_SHOULDER  patient00001  study1_positive   \n",
       "3  XR_SHOULDER  patient00002  study1_positive   \n",
       "4  XR_SHOULDER  patient00002  study1_positive   \n",
       "\n",
       "                                                          study_path label  \n",
       "0  ../data/MURA-v1.1/train/XR_SHOULDER/patient00001/study1_positive/     1  \n",
       "1  ../data/MURA-v1.1/train/XR_SHOULDER/patient00001/study1_positive/     1  \n",
       "2  ../data/MURA-v1.1/train/XR_SHOULDER/patient00001/study1_positive/     1  \n",
       "3  ../data/MURA-v1.1/train/XR_SHOULDER/patient00002/study1_positive/     1  \n",
       "4  ../data/MURA-v1.1/train/XR_SHOULDER/patient00002/study1_positive/     1  "
      ]
     },
     "execution_count": 15,
     "metadata": {},
     "output_type": "execute_result"
    }
   ],
   "source": [
    "ref_trainset = pd.merge(\n",
    "    train_image_paths, train_labeled_studies, how=\"inner\", on=\"study_path\"\n",
    ")\n",
    "\n",
    "inspect_df(ref_trainset)"
   ]
  },
  {
   "cell_type": "markdown",
   "id": "41eafe23",
   "metadata": {},
   "source": [
    "#### Create a tensorflow input pipeline for the training data"
   ]
  },
  {
   "cell_type": "code",
   "execution_count": 16,
   "id": "19f477b2",
   "metadata": {},
   "outputs": [],
   "source": [
    "IMAGE_WIDTH = 224\n",
    "IMAGE_HEIGHT = 224"
   ]
  },
  {
   "cell_type": "markdown",
   "id": "2b1f8382",
   "metadata": {},
   "source": [
    "Since image directory follows a specific ontological structure (7 upper extremities aka study types) we will shuffle the training dataset beforehand in order to ensure that the validation set will be representable of all study types. \n",
    "\n",
    "This is due to the fact that tf.keras `tf.keras.preprocessing.image.ImageDataGenerator` first performs the train-val split and then shuffles per epoch by default."
   ]
  },
  {
   "cell_type": "code",
   "execution_count": 17,
   "id": "00df8aba",
   "metadata": {},
   "outputs": [],
   "source": [
    "ref_trainset = shuffle(ref_trainset, random_state=SEED)"
   ]
  },
  {
   "cell_type": "code",
   "execution_count": 18,
   "id": "c8637a1c",
   "metadata": {},
   "outputs": [],
   "source": [
    "training = tf.keras.preprocessing.image.ImageDataGenerator(\n",
    "    rotation_range=30,\n",
    "    horizontal_flip=True,\n",
    "    fill_mode=\"constant\",\n",
    "    cval=0.0,\n",
    "    validation_split=0.25,\n",
    "    preprocessing_function=tf.keras.applications.vgg19.preprocess_input,\n",
    ")"
   ]
  },
  {
   "cell_type": "code",
   "execution_count": 19,
   "id": "21f38eee",
   "metadata": {},
   "outputs": [
    {
     "name": "stdout",
     "output_type": "stream",
     "text": [
      "Found 27606 validated image filenames belonging to 2 classes.\n"
     ]
    }
   ],
   "source": [
    "trainset = training.flow_from_dataframe(\n",
    "    dataframe=ref_trainset,\n",
    "    x_col=\"image_path\",\n",
    "    y_col=\"label\",\n",
    "    target_size=(IMAGE_WIDTH, IMAGE_HEIGHT),\n",
    "    class_mode=\"binary\",\n",
    "    batch_size=16,\n",
    "    seed=SEED,\n",
    "    shuffle=True,\n",
    "    subset=\"training\",\n",
    ")"
   ]
  },
  {
   "cell_type": "code",
   "execution_count": 20,
   "id": "3d3baff1",
   "metadata": {},
   "outputs": [
    {
     "name": "stdout",
     "output_type": "stream",
     "text": [
      "Found 9202 validated image filenames belonging to 2 classes.\n"
     ]
    }
   ],
   "source": [
    "validationset = training.flow_from_dataframe(\n",
    "    dataframe=ref_trainset,\n",
    "    x_col=\"image_path\",\n",
    "    y_col=\"label\",\n",
    "    target_size=(IMAGE_WIDTH, IMAGE_HEIGHT),\n",
    "    class_mode=\"binary\",\n",
    "    batch_size=16,\n",
    "    seed=SEED,\n",
    "    shuffle=True,\n",
    "    subset=\"validation\",\n",
    ")"
   ]
  },
  {
   "cell_type": "markdown",
   "id": "92e2665b",
   "metadata": {},
   "source": [
    "### VGG19 architecture, pretrained on ImageNet"
   ]
  },
  {
   "cell_type": "code",
   "execution_count": 21,
   "id": "4e3a6125",
   "metadata": {},
   "outputs": [
    {
     "name": "stderr",
     "output_type": "stream",
     "text": [
      "2022-04-02 14:54:01.410779: I tensorflow/core/platform/cpu_feature_guard.cc:151] This TensorFlow binary is optimized with oneAPI Deep Neural Network Library (oneDNN) to use the following CPU instructions in performance-critical operations:  AVX2 FMA\n",
      "To enable them in other operations, rebuild TensorFlow with the appropriate compiler flags.\n",
      "2022-04-02 14:54:01.411508: I tensorflow/stream_executor/cuda/cuda_gpu_executor.cc:936] successful NUMA node read from SysFS had negative value (-1), but there must be at least one NUMA node, so returning NUMA node zero\n",
      "2022-04-02 14:54:01.411687: I tensorflow/stream_executor/cuda/cuda_gpu_executor.cc:936] successful NUMA node read from SysFS had negative value (-1), but there must be at least one NUMA node, so returning NUMA node zero\n",
      "2022-04-02 14:54:01.411805: I tensorflow/stream_executor/cuda/cuda_gpu_executor.cc:936] successful NUMA node read from SysFS had negative value (-1), but there must be at least one NUMA node, so returning NUMA node zero\n",
      "2022-04-02 14:54:02.107360: I tensorflow/stream_executor/cuda/cuda_gpu_executor.cc:936] successful NUMA node read from SysFS had negative value (-1), but there must be at least one NUMA node, so returning NUMA node zero\n",
      "2022-04-02 14:54:02.107528: I tensorflow/stream_executor/cuda/cuda_gpu_executor.cc:936] successful NUMA node read from SysFS had negative value (-1), but there must be at least one NUMA node, so returning NUMA node zero\n",
      "2022-04-02 14:54:02.107652: I tensorflow/stream_executor/cuda/cuda_gpu_executor.cc:936] successful NUMA node read from SysFS had negative value (-1), but there must be at least one NUMA node, so returning NUMA node zero\n",
      "2022-04-02 14:54:02.107984: I tensorflow/core/common_runtime/gpu/gpu_device.cc:1525] Created device /job:localhost/replica:0/task:0/device:GPU:0 with 2156 MB memory:  -> device: 0, name: Quadro T1000, pci bus id: 0000:01:00.0, compute capability: 7.5\n"
     ]
    }
   ],
   "source": [
    "METRICS = [\n",
    "    tf.keras.metrics.TruePositives(name=\"tp\"),\n",
    "    tf.keras.metrics.FalsePositives(name=\"fp\"),\n",
    "    tf.keras.metrics.TrueNegatives(name=\"tn\"),\n",
    "    tf.keras.metrics.FalseNegatives(name=\"fn\"),\n",
    "    tf.keras.metrics.BinaryAccuracy(name=\"binary_acc\"),\n",
    "    tf.keras.metrics.Precision(name=\"precision\"),\n",
    "    tf.keras.metrics.Recall(name=\"recall\"),\n",
    "    F1Score(name=\"f1_score\"),\n",
    "    tf.keras.metrics.AUC(name=\"roc_auc\", curve=\"ROC\"),\n",
    "    tf.keras.metrics.AUC(name=\"pr_auc\", curve=\"PR\"),\n",
    "    tfa.metrics.CohenKappa(name=\"cohen_kappa\", num_classes=2),\n",
    "]"
   ]
  },
  {
   "cell_type": "code",
   "execution_count": 22,
   "id": "30921b05",
   "metadata": {},
   "outputs": [],
   "source": [
    "\"\"\"\n",
    "VGG19 model from \n",
    "`\"Very Deep Convolutional Networks for Large-Scale Image Recognition\" <https://arxiv.org/abs/1409.1556>`_.\n",
    "\n",
    "We will opt for max pooling for feature extraction, since we want to \"emphasize\" any sharp features on the image\n",
    "(e.g hardware placed on human body that most definitely suggests abnormality).\n",
    "\"\"\"\n",
    "vgg = tf.keras.applications.vgg19.VGG19(\n",
    "    include_top=False,  # do not include the fully-connected layer at the top of the network\n",
    "    weights=\"imagenet\",\n",
    "    input_shape=(IMAGE_WIDTH, IMAGE_HEIGHT, 3),\n",
    "    pooling=\"max\",  # pooling mode for feature extraction\n",
    "    classes=2,\n",
    ")"
   ]
  },
  {
   "cell_type": "code",
   "execution_count": 23,
   "id": "202355bd",
   "metadata": {},
   "outputs": [],
   "source": [
    "def make_vgg_model(\n",
    "    base_model: tf.keras.applications.vgg19.VGG19,\n",
    ") -> tf.keras.Model:\n",
    "\n",
    "    # freeze base model\n",
    "    base_model.trainable = False\n",
    "\n",
    "    inputs = tf.keras.Input(shape=(IMAGE_WIDTH, IMAGE_HEIGHT, 3))\n",
    "    # the base model contains batchnorm layer - we want to keep them in inference mode\n",
    "    # when we unfreeze the base model for fine-tuning, so we make sure that the\n",
    "    # base model is running in inference mode here.\n",
    "    x = base_model(inputs, training=False)\n",
    "    x = tf.keras.layers.Dropout(rate=0.2)(x)\n",
    "    output = tf.keras.layers.Dense(units=1, activation=\"sigmoid\")(x)\n",
    "\n",
    "    model = tf.keras.Model(inputs, output)\n",
    "\n",
    "    model.compile(\n",
    "        optimizer=tf.keras.optimizers.Adam(learning_rate=0.001),\n",
    "        loss=tf.keras.losses.BinaryCrossentropy(),\n",
    "        metrics=METRICS,\n",
    "    )\n",
    "\n",
    "    return model"
   ]
  },
  {
   "cell_type": "code",
   "execution_count": 24,
   "id": "b2e68f4f",
   "metadata": {},
   "outputs": [],
   "source": [
    "model = make_vgg_model(base_model=vgg)"
   ]
  },
  {
   "cell_type": "code",
   "execution_count": 25,
   "id": "1c19ad13",
   "metadata": {
    "scrolled": false
   },
   "outputs": [
    {
     "name": "stdout",
     "output_type": "stream",
     "text": [
      "Model: \"model\"\n",
      "_________________________________________________________________\n",
      " Layer (type)                Output Shape              Param #   \n",
      "=================================================================\n",
      " input_2 (InputLayer)        [(None, 224, 224, 3)]     0         \n",
      "                                                                 \n",
      " vgg19 (Functional)          (None, 512)               20024384  \n",
      "                                                                 \n",
      " dropout (Dropout)           (None, 512)               0         \n",
      "                                                                 \n",
      " dense (Dense)               (None, 1)                 513       \n",
      "                                                                 \n",
      "=================================================================\n",
      "Total params: 20,024,897\n",
      "Trainable params: 513\n",
      "Non-trainable params: 20,024,384\n",
      "_________________________________________________________________\n"
     ]
    }
   ],
   "source": [
    "model.summary()"
   ]
  },
  {
   "cell_type": "code",
   "execution_count": 26,
   "id": "97981226",
   "metadata": {
    "scrolled": false
   },
   "outputs": [
    {
     "data": {
      "image/png": "[encoded data removed]",
      "text/plain": [
       "<IPython.core.display.Image object>"
      ]
     },
     "execution_count": 26,
     "metadata": {},
     "output_type": "execute_result"
    }
   ],
   "source": [
    "tf.keras.utils.plot_model(\n",
    "    model,\n",
    "    to_file=\"../static/vgg19_pt_imagenet-all-study-types-20024897.png\",\n",
    "    show_shapes=True,\n",
    "    show_layer_names=True,\n",
    ")"
   ]
  },
  {
   "cell_type": "code",
   "execution_count": 27,
   "id": "571221da",
   "metadata": {},
   "outputs": [],
   "source": [
    "early_stopping = tf.keras.callbacks.EarlyStopping(\n",
    "    monitor=\"val_cohen_kappa\",\n",
    "    verbose=1,\n",
    "    patience=5,\n",
    "    mode=\"max\",\n",
    ")"
   ]
  },
  {
   "cell_type": "code",
   "execution_count": 28,
   "id": "16cd65d0",
   "metadata": {},
   "outputs": [],
   "source": [
    "reduce_lr_on_plateau = tf.keras.callbacks.ReduceLROnPlateau(\n",
    "    monitor=\"val_cohen_kappa\", factor=0.2, verbose=1, patience=7, min_lr=1e-10\n",
    ")"
   ]
  },
  {
   "cell_type": "code",
   "execution_count": 29,
   "id": "aa319ec8",
   "metadata": {
    "scrolled": false
   },
   "outputs": [
    {
     "name": "stdout",
     "output_type": "stream",
     "text": [
      "Epoch 1/20\n"
     ]
    },
    {
     "name": "stderr",
     "output_type": "stream",
     "text": [
      "2022-04-02 14:54:05.960291: I tensorflow/stream_executor/cuda/cuda_dnn.cc:368] Loaded cuDNN version 8303\n",
      "2022-04-02 14:54:07.394112: W tensorflow/core/common_runtime/bfc_allocator.cc:275] Allocator (GPU_0_bfc) ran out of memory trying to allocate 1.74GiB with freed_by_count=0. The caller indicates that this is not a failure, but may mean that there could be performance gains if more memory were available.\n",
      "2022-04-02 14:54:07.394168: W tensorflow/core/common_runtime/bfc_allocator.cc:275] Allocator (GPU_0_bfc) ran out of memory trying to allocate 1.74GiB with freed_by_count=0. The caller indicates that this is not a failure, but may mean that there could be performance gains if more memory were available.\n",
      "2022-04-02 14:54:07.394185: W tensorflow/core/common_runtime/bfc_allocator.cc:275] Allocator (GPU_0_bfc) ran out of memory trying to allocate 2.54GiB with freed_by_count=0. The caller indicates that this is not a failure, but may mean that there could be performance gains if more memory were available.\n",
      "2022-04-02 14:54:07.394201: W tensorflow/core/common_runtime/bfc_allocator.cc:275] Allocator (GPU_0_bfc) ran out of memory trying to allocate 2.54GiB with freed_by_count=0. The caller indicates that this is not a failure, but may mean that there could be performance gains if more memory were available.\n",
      "2022-04-02 14:54:07.817565: W tensorflow/core/common_runtime/bfc_allocator.cc:343] Garbage collection: deallocate free memory regions (i.e., allocations) so that we can re-allocate a larger region to avoid OOM due to memory fragmentation. If you see this message frequently, you are running near the threshold of the available device memory and re-allocation may incur great performance overhead. You may try smaller batch sizes to observe the performance impact. Set TF_ENABLE_GPU_GARBAGE_COLLECTION=false if you'd like to disable this feature.\n",
      "2022-04-02 14:54:08.367442: W tensorflow/core/common_runtime/bfc_allocator.cc:275] Allocator (GPU_0_bfc) ran out of memory trying to allocate 2.30GiB with freed_by_count=0. The caller indicates that this is not a failure, but may mean that there could be performance gains if more memory were available.\n",
      "2022-04-02 14:54:08.367548: W tensorflow/core/common_runtime/bfc_allocator.cc:275] Allocator (GPU_0_bfc) ran out of memory trying to allocate 2.30GiB with freed_by_count=0. The caller indicates that this is not a failure, but may mean that there could be performance gains if more memory were available.\n",
      "2022-04-02 14:54:08.954794: W tensorflow/core/common_runtime/bfc_allocator.cc:275] Allocator (GPU_0_bfc) ran out of memory trying to allocate 2.21GiB with freed_by_count=0. The caller indicates that this is not a failure, but may mean that there could be performance gains if more memory were available.\n",
      "2022-04-02 14:54:08.954840: W tensorflow/core/common_runtime/bfc_allocator.cc:275] Allocator (GPU_0_bfc) ran out of memory trying to allocate 2.21GiB with freed_by_count=0. The caller indicates that this is not a failure, but may mean that there could be performance gains if more memory were available.\n",
      "2022-04-02 14:54:09.512472: W tensorflow/core/common_runtime/bfc_allocator.cc:275] Allocator (GPU_0_bfc) ran out of memory trying to allocate 2.22GiB with freed_by_count=0. The caller indicates that this is not a failure, but may mean that there could be performance gains if more memory were available.\n",
      "2022-04-02 14:54:09.512518: W tensorflow/core/common_runtime/bfc_allocator.cc:275] Allocator (GPU_0_bfc) ran out of memory trying to allocate 2.22GiB with freed_by_count=0. The caller indicates that this is not a failure, but may mean that there could be performance gains if more memory were available.\n"
     ]
    },
    {
     "name": "stdout",
     "output_type": "stream",
     "text": [
      "1726/1726 [==============================] - 545s 312ms/step - loss: 2.5444 - tp: 5643.0000 - fp: 5309.0000 - tn: 11149.0000 - fn: 5505.0000 - binary_acc: 0.6083 - precision: 0.5152 - recall: 0.5062 - f1_score: 0.5107 - roc_auc: 0.6113 - pr_auc: 0.5016 - cohen_kappa: 0.1841 - val_loss: 0.6980 - val_tp: 2111.0000 - val_fp: 1550.0000 - val_tn: 3927.0000 - val_fn: 1614.0000 - val_binary_acc: 0.6562 - val_precision: 0.5766 - val_recall: 0.5667 - val_f1_score: 0.5716 - val_roc_auc: 0.6993 - val_pr_auc: 0.6139 - val_cohen_kappa: 0.2845 - lr: 0.0010\n",
      "Epoch 2/20\n",
      "1726/1726 [==============================] - 547s 317ms/step - loss: 0.8887 - tp: 5481.0000 - fp: 4842.0000 - tn: 11616.0000 - fn: 5667.0000 - binary_acc: 0.6193 - precision: 0.5310 - recall: 0.4917 - f1_score: 0.5105 - roc_auc: 0.6363 - pr_auc: 0.5424 - cohen_kappa: 0.1998 - val_loss: 0.7418 - val_tp: 1298.0000 - val_fp: 682.0000 - val_tn: 4795.0000 - val_fn: 2427.0000 - val_binary_acc: 0.6621 - val_precision: 0.6556 - val_recall: 0.3485 - val_f1_score: 0.4550 - val_roc_auc: 0.6849 - val_pr_auc: 0.5991 - val_cohen_kappa: 0.2421 - lr: 0.0010\n",
      "Epoch 3/20\n",
      "1726/1726 [==============================] - 531s 308ms/step - loss: 0.8408 - tp: 5585.0000 - fp: 4744.0000 - tn: 11714.0000 - fn: 5563.0000 - binary_acc: 0.6266 - precision: 0.5407 - recall: 0.5010 - f1_score: 0.5201 - roc_auc: 0.6480 - pr_auc: 0.5548 - cohen_kappa: 0.2153 - val_loss: 0.9765 - val_tp: 475.0000 - val_fp: 130.0000 - val_tn: 5347.0000 - val_fn: 3250.0000 - val_binary_acc: 0.6327 - val_precision: 0.7851 - val_recall: 0.1275 - val_f1_score: 0.2194 - val_roc_auc: 0.6670 - val_pr_auc: 0.5946 - val_cohen_kappa: 0.1198 - lr: 0.0010\n",
      "Epoch 4/20\n",
      "1726/1726 [==============================] - 525s 304ms/step - loss: 0.8818 - tp: 5476.0000 - fp: 4913.0000 - tn: 11545.0000 - fn: 5672.0000 - binary_acc: 0.6166 - precision: 0.5271 - recall: 0.4912 - f1_score: 0.5085 - roc_auc: 0.6370 - pr_auc: 0.5373 - cohen_kappa: 0.1948 - val_loss: 0.7259 - val_tp: 1686.0000 - val_fp: 1044.0000 - val_tn: 4433.0000 - val_fn: 2039.0000 - val_binary_acc: 0.6650 - val_precision: 0.6176 - val_recall: 0.4526 - val_f1_score: 0.5224 - val_roc_auc: 0.6965 - val_pr_auc: 0.6051 - val_cohen_kappa: 0.2737 - lr: 0.0010\n",
      "Epoch 5/20\n",
      "1726/1726 [==============================] - 535s 310ms/step - loss: 0.8928 - tp: 5495.0000 - fp: 4867.0000 - tn: 11591.0000 - fn: 5653.0000 - binary_acc: 0.6189 - precision: 0.5303 - recall: 0.4929 - f1_score: 0.5109 - roc_auc: 0.6411 - pr_auc: 0.5487 - cohen_kappa: 0.1995 - val_loss: 0.6510 - val_tp: 1871.0000 - val_fp: 1164.0000 - val_tn: 4313.0000 - val_fn: 1854.0000 - val_binary_acc: 0.6720 - val_precision: 0.6165 - val_recall: 0.5023 - val_f1_score: 0.5536 - val_roc_auc: 0.7031 - val_pr_auc: 0.6320 - val_cohen_kappa: 0.2986 - lr: 0.0010\n",
      "Epoch 6/20\n",
      "1726/1726 [==============================] - 543s 314ms/step - loss: 0.8652 - tp: 5479.0000 - fp: 4917.0000 - tn: 11541.0000 - fn: 5669.0000 - binary_acc: 0.6165 - precision: 0.5270 - recall: 0.4915 - f1_score: 0.5086 - roc_auc: 0.6410 - pr_auc: 0.5443 - cohen_kappa: 0.1948 - val_loss: 1.4881 - val_tp: 74.0000 - val_fp: 14.0000 - val_tn: 5463.0000 - val_fn: 3651.0000 - val_binary_acc: 0.6017 - val_precision: 0.8409 - val_recall: 0.0199 - val_f1_score: 0.0388 - val_roc_auc: 0.6636 - val_pr_auc: 0.5788 - val_cohen_kappa: 0.0205 - lr: 0.0010\n",
      "Epoch 7/20\n",
      "1726/1726 [==============================] - 528s 306ms/step - loss: 0.8627 - tp: 5575.0000 - fp: 4819.0000 - tn: 11639.0000 - fn: 5573.0000 - binary_acc: 0.6236 - precision: 0.5364 - recall: 0.5001 - f1_score: 0.5176 - roc_auc: 0.6473 - pr_auc: 0.5560 - cohen_kappa: 0.2096 - val_loss: 0.7827 - val_tp: 834.0000 - val_fp: 379.0000 - val_tn: 5098.0000 - val_fn: 2891.0000 - val_binary_acc: 0.6446 - val_precision: 0.6876 - val_recall: 0.2239 - val_f1_score: 0.3378 - val_roc_auc: 0.6687 - val_pr_auc: 0.5878 - val_cohen_kappa: 0.1734 - lr: 0.0010\n",
      "Epoch 8/20\n",
      "1726/1726 [==============================] - 530s 307ms/step - loss: 0.8694 - tp: 5549.0000 - fp: 4830.0000 - tn: 11628.0000 - fn: 5599.0000 - binary_acc: 0.6222 - precision: 0.5346 - recall: 0.4978 - f1_score: 0.5155 - roc_auc: 0.6432 - pr_auc: 0.5519 - cohen_kappa: 0.2066 - val_loss: 0.6789 - val_tp: 1887.0000 - val_fp: 1346.0000 - val_tn: 4131.0000 - val_fn: 1838.0000 - val_binary_acc: 0.6540 - val_precision: 0.5837 - val_recall: 0.5066 - val_f1_score: 0.5424 - val_roc_auc: 0.6856 - val_pr_auc: 0.5956 - val_cohen_kappa: 0.2665 - lr: 0.0010\n",
      "Epoch 9/20\n",
      "1726/1726 [==============================] - 552s 320ms/step - loss: 0.8991 - tp: 5556.0000 - fp: 4910.0000 - tn: 11548.0000 - fn: 5592.0000 - binary_acc: 0.6196 - precision: 0.5309 - recall: 0.4984 - f1_score: 0.5141 - roc_auc: 0.6409 - pr_auc: 0.5460 - cohen_kappa: 0.2020 - val_loss: 0.6976 - val_tp: 1431.0000 - val_fp: 788.0000 - val_tn: 4689.0000 - val_fn: 2294.0000 - val_binary_acc: 0.6651 - val_precision: 0.6449 - val_recall: 0.3842 - val_f1_score: 0.4815 - val_roc_auc: 0.6987 - val_pr_auc: 0.6081 - val_cohen_kappa: 0.2569 - lr: 0.0010\n",
      "Epoch 10/20\n",
      "1726/1726 [==============================] - 522s 302ms/step - loss: 0.8451 - tp: 5535.0000 - fp: 4788.0000 - tn: 11670.0000 - fn: 5613.0000 - binary_acc: 0.6232 - precision: 0.5362 - recall: 0.4965 - f1_score: 0.5156 - roc_auc: 0.6469 - pr_auc: 0.5519 - cohen_kappa: 0.2081 - val_loss: 0.7056 - val_tp: 1740.0000 - val_fp: 1410.0000 - val_tn: 4067.0000 - val_fn: 1985.0000 - val_binary_acc: 0.6311 - val_precision: 0.5524 - val_recall: 0.4671 - val_f1_score: 0.5062 - val_roc_auc: 0.6550 - val_pr_auc: 0.5675 - val_cohen_kappa: 0.2150 - lr: 0.0010\n",
      "Epoch 10: early stopping\n"
     ]
    }
   ],
   "source": [
    "history = model.fit(\n",
    "    trainset,\n",
    "    epochs=20,\n",
    "    validation_data=validationset,\n",
    "    callbacks=[early_stopping, reduce_lr_on_plateau],\n",
    ")"
   ]
  },
  {
   "cell_type": "code",
   "execution_count": 30,
   "id": "d4fda3ed",
   "metadata": {},
   "outputs": [
    {
     "data": {
      "image/png": "[encoded data removed]",
      "text/plain": [
       "<Figure size 1296x1080 with 4 Axes>"
      ]
     },
     "metadata": {},
     "output_type": "display_data"
    }
   ],
   "source": [
    "plot_metrics(history)"
   ]
  },
  {
   "cell_type": "code",
   "execution_count": 31,
   "id": "96ab3e5e",
   "metadata": {},
   "outputs": [
    {
     "name": "stdout",
     "output_type": "stream",
     "text": [
      "WARNING:tensorflow:Compiled the loaded model, but the compiled metrics have yet to be built. `model.compile_metrics` will be empty until you train or evaluate the model.\n"
     ]
    }
   ],
   "source": [
    "# model naming convention: {architecture}-{which-study-type?}-{num-parameters}.h5\n",
    "#\n",
    "# to load models:\n",
    "# model = tf.keras.models.load_model(\n",
    "#     '../models/vgg19_pt_imagenet-all-study-types-20024897.h5',\n",
    "#     custom_objects={'F1Score': F1Score}\n",
    "# )\n",
    "# vgg = tf.keras.models.load_model(\n",
    "#     '../models/vgg19_base.h5',\n",
    "# )\n",
    "model.save(\"../models/vgg19_pt_imagenet-all-study-types-20024897.h5\")\n",
    "vgg.save(\"../models/vgg19_base.h5\")"
   ]
  },
  {
   "cell_type": "code",
   "execution_count": 32,
   "id": "54ecc66f",
   "metadata": {},
   "outputs": [],
   "source": [
    "# fine-tuning: unfreeze the base model and train the entire model end-to-end with a low learning rate\n",
    "vgg.trainable = True\n",
    "\n",
    "model.compile(\n",
    "    optimizer=tf.keras.optimizers.Adam(\n",
    "        1e-5\n",
    "    ),  # we need small learning rate to avoid catastrophic forgetting\n",
    "    loss=tf.keras.losses.BinaryCrossentropy(),\n",
    "    metrics=METRICS,\n",
    ")"
   ]
  },
  {
   "cell_type": "code",
   "execution_count": 33,
   "id": "3e36539b",
   "metadata": {
    "scrolled": false
   },
   "outputs": [
    {
     "name": "stdout",
     "output_type": "stream",
     "text": [
      "Epoch 1/10\n",
      "1726/1726 [==============================] - 1210s 698ms/step - loss: 0.5449 - tp: 7601.0000 - fp: 3536.0000 - tn: 18399.0000 - fn: 7272.0000 - binary_acc: 0.7064 - precision: 0.6825 - recall: 0.5111 - f1_score: 0.5845 - roc_auc: 0.7441 - pr_auc: 0.6934 - cohen_kappa: 0.3646 - val_loss: 0.4950 - val_tp: 2262.0000 - val_fp: 600.0000 - val_tn: 4877.0000 - val_fn: 1463.0000 - val_binary_acc: 0.7758 - val_precision: 0.7904 - val_recall: 0.6072 - val_f1_score: 0.6868 - val_roc_auc: 0.8230 - val_pr_auc: 0.7928 - val_cohen_kappa: 0.5169 - lr: 1.0000e-05\n",
      "Epoch 2/10\n",
      "1726/1726 [==============================] - 1178s 682ms/step - loss: 0.4839 - tp: 6679.0000 - fp: 1618.0000 - tn: 14840.0000 - fn: 4469.0000 - binary_acc: 0.7795 - precision: 0.8050 - recall: 0.5991 - f1_score: 0.6870 - roc_auc: 0.8310 - pr_auc: 0.8001 - cohen_kappa: 0.5224 - val_loss: 0.4834 - val_tp: 2165.0000 - val_fp: 441.0000 - val_tn: 5036.0000 - val_fn: 1560.0000 - val_binary_acc: 0.7825 - val_precision: 0.8308 - val_recall: 0.5812 - val_f1_score: 0.6839 - val_roc_auc: 0.8357 - val_pr_auc: 0.8032 - val_cohen_kappa: 0.5260 - lr: 1.0000e-05\n",
      "Epoch 3/10\n",
      "1726/1726 [==============================] - 1186s 687ms/step - loss: 0.4581 - tp: 7047.0000 - fp: 1554.0000 - tn: 14904.0000 - fn: 4101.0000 - binary_acc: 0.7952 - precision: 0.8193 - recall: 0.6321 - f1_score: 0.7137 - roc_auc: 0.8490 - pr_auc: 0.8250 - cohen_kappa: 0.5583 - val_loss: 0.4656 - val_tp: 2496.0000 - val_fp: 707.0000 - val_tn: 4770.0000 - val_fn: 1229.0000 - val_binary_acc: 0.7896 - val_precision: 0.7793 - val_recall: 0.6701 - val_f1_score: 0.7206 - val_roc_auc: 0.8491 - val_pr_auc: 0.8218 - val_cohen_kappa: 0.5534 - lr: 1.0000e-05\n",
      "Epoch 4/10\n",
      "1726/1726 [==============================] - 1196s 693ms/step - loss: 0.4413 - tp: 7216.0000 - fp: 1442.0000 - tn: 15016.0000 - fn: 3932.0000 - binary_acc: 0.8053 - precision: 0.8334 - recall: 0.6473 - f1_score: 0.7287 - roc_auc: 0.8587 - pr_auc: 0.8391 - cohen_kappa: 0.5806 - val_loss: 0.4925 - val_tp: 2812.0000 - val_fp: 1129.0000 - val_tn: 4348.0000 - val_fn: 913.0000 - val_binary_acc: 0.7781 - val_precision: 0.7135 - val_recall: 0.7549 - val_f1_score: 0.7336 - val_roc_auc: 0.8517 - val_pr_auc: 0.8264 - val_cohen_kappa: 0.5437 - lr: 1.0000e-05\n",
      "Epoch 5/10\n",
      "1726/1726 [==============================] - 1139s 660ms/step - loss: 0.4221 - tp: 7464.0000 - fp: 1460.0000 - tn: 14998.0000 - fn: 3684.0000 - binary_acc: 0.8137 - precision: 0.8364 - recall: 0.6695 - f1_score: 0.7437 - roc_auc: 0.8720 - pr_auc: 0.8540 - cohen_kappa: 0.6001 - val_loss: 0.4545 - val_tp: 2331.0000 - val_fp: 435.0000 - val_tn: 5042.0000 - val_fn: 1394.0000 - val_binary_acc: 0.8012 - val_precision: 0.8427 - val_recall: 0.6258 - val_f1_score: 0.7182 - val_roc_auc: 0.8599 - val_pr_auc: 0.8345 - val_cohen_kappa: 0.5698 - lr: 1.0000e-05\n",
      "Epoch 6/10\n",
      "1726/1726 [==============================] - 1136s 658ms/step - loss: 0.4135 - tp: 7570.0000 - fp: 1369.0000 - tn: 15089.0000 - fn: 3578.0000 - binary_acc: 0.8208 - precision: 0.8469 - recall: 0.6790 - f1_score: 0.7537 - roc_auc: 0.8766 - pr_auc: 0.8608 - cohen_kappa: 0.6155 - val_loss: 0.4435 - val_tp: 2198.0000 - val_fp: 282.0000 - val_tn: 5195.0000 - val_fn: 1527.0000 - val_binary_acc: 0.8034 - val_precision: 0.8863 - val_recall: 0.5901 - val_f1_score: 0.7085 - val_roc_auc: 0.8660 - val_pr_auc: 0.8422 - val_cohen_kappa: 0.5690 - lr: 1.0000e-05\n",
      "Epoch 7/10\n",
      "1726/1726 [==============================] - 1160s 672ms/step - loss: 0.3992 - tp: 7764.0000 - fp: 1374.0000 - tn: 15084.0000 - fn: 3384.0000 - binary_acc: 0.8276 - precision: 0.8496 - recall: 0.6964 - f1_score: 0.7655 - roc_auc: 0.8864 - pr_auc: 0.8707 - cohen_kappa: 0.6313 - val_loss: 0.4427 - val_tp: 2563.0000 - val_fp: 591.0000 - val_tn: 4886.0000 - val_fn: 1162.0000 - val_binary_acc: 0.8095 - val_precision: 0.8126 - val_recall: 0.6881 - val_f1_score: 0.7452 - val_roc_auc: 0.8646 - val_pr_auc: 0.8388 - val_cohen_kappa: 0.5947 - lr: 1.0000e-05\n",
      "Epoch 8/10\n",
      "1726/1726 [==============================] - ETA: 0s - loss: 0.3863 - tp: 7910.0000 - fp: 1385.0000 - tn: 15073.0000 - fn: 3238.0000 - binary_acc: 0.8325 - precision: 0.8510 - recall: 0.7095 - f1_score: 0.7739 - roc_auc: 0.8937 - pr_auc: 0.8796 - cohen_kappa: 0.6426\n",
      "Epoch 8: ReduceLROnPlateau reducing learning rate to 1.9999999494757505e-06.\n",
      "1726/1726 [==============================] - 1153s 668ms/step - loss: 0.3863 - tp: 7910.0000 - fp: 1385.0000 - tn: 15073.0000 - fn: 3238.0000 - binary_acc: 0.8325 - precision: 0.8510 - recall: 0.7095 - f1_score: 0.7739 - roc_auc: 0.8937 - pr_auc: 0.8796 - cohen_kappa: 0.6426 - val_loss: 0.4494 - val_tp: 2304.0000 - val_fp: 396.0000 - val_tn: 5081.0000 - val_fn: 1421.0000 - val_binary_acc: 0.8025 - val_precision: 0.8533 - val_recall: 0.6185 - val_f1_score: 0.7172 - val_roc_auc: 0.8566 - val_pr_auc: 0.8353 - val_cohen_kappa: 0.5714 - lr: 1.0000e-05\n",
      "Epoch 9/10\n",
      "1726/1726 [==============================] - 1132s 656ms/step - loss: 0.3381 - tp: 8334.0000 - fp: 1096.0000 - tn: 15362.0000 - fn: 2814.0000 - binary_acc: 0.8584 - precision: 0.8838 - recall: 0.7476 - f1_score: 0.8100 - roc_auc: 0.9190 - pr_auc: 0.9087 - cohen_kappa: 0.6983 - val_loss: 0.4345 - val_tp: 2743.0000 - val_fp: 725.0000 - val_tn: 4752.0000 - val_fn: 982.0000 - val_binary_acc: 0.8145 - val_precision: 0.7909 - val_recall: 0.7364 - val_f1_score: 0.7627 - val_roc_auc: 0.8759 - val_pr_auc: 0.8531 - val_cohen_kappa: 0.6107 - lr: 2.0000e-06\n",
      "Epoch 10/10\n",
      "1726/1726 [==============================] - 1129s 654ms/step - loss: 0.3243 - tp: 8517.0000 - fp: 1131.0000 - tn: 15327.0000 - fn: 2631.0000 - binary_acc: 0.8637 - precision: 0.8828 - recall: 0.7640 - f1_score: 0.8191 - roc_auc: 0.9251 - pr_auc: 0.9160 - cohen_kappa: 0.7107 - val_loss: 0.4429 - val_tp: 2839.0000 - val_fp: 832.0000 - val_tn: 4645.0000 - val_fn: 886.0000 - val_binary_acc: 0.8133 - val_precision: 0.7734 - val_recall: 0.7621 - val_f1_score: 0.7677 - val_roc_auc: 0.8778 - val_pr_auc: 0.8550 - val_cohen_kappa: 0.6117 - lr: 2.0000e-06\n"
     ]
    }
   ],
   "source": [
    "history = model.fit(\n",
    "    trainset,\n",
    "    epochs=10,\n",
    "    validation_data=validationset,\n",
    "    callbacks=[early_stopping, reduce_lr_on_plateau],\n",
    ")"
   ]
  },
  {
   "cell_type": "code",
   "execution_count": 34,
   "id": "30e547d7",
   "metadata": {},
   "outputs": [
    {
     "name": "stdout",
     "output_type": "stream",
     "text": [
      "WARNING:tensorflow:Compiled the loaded model, but the compiled metrics have yet to be built. `model.compile_metrics` will be empty until you train or evaluate the model.\n"
     ]
    }
   ],
   "source": [
    "# model naming convention: {architecture}-{which-study-type?}-{num-parameters}.h5\n",
    "#\n",
    "# to load models:\n",
    "# model = tf.keras.models.load_model(\n",
    "#     '../models/vgg19_pt_imagenet-all-study-types-20024897.h5',\n",
    "#     custom_objects={'F1Score': F1Score}\n",
    "# )\n",
    "# vgg = tf.keras.models.load_model(\n",
    "#     '../models/vgg19_base.h5',\n",
    "# )\n",
    "model.save(\"../models/vgg19_pt_imagenet-all-study-types-20024897.h5\")\n",
    "vgg.save(\"../models/vgg19_base.h5\")"
   ]
  },
  {
   "cell_type": "code",
   "execution_count": 35,
   "id": "8da93aed",
   "metadata": {},
   "outputs": [
    {
     "data": {
      "image/png": "[encoded data removed]",
      "text/plain": [
       "<Figure size 1296x1080 with 4 Axes>"
      ]
     },
     "metadata": {},
     "output_type": "display_data"
    }
   ],
   "source": [
    "plot_metrics(history)"
   ]
  },
  {
   "cell_type": "code",
   "execution_count": 36,
   "id": "21b3e659",
   "metadata": {
    "scrolled": false
   },
   "outputs": [
    {
     "name": "stdout",
     "output_type": "stream",
     "text": [
      "576/576 [==============================] - 127s 220ms/step - loss: 0.4402 - tp: 2853.0000 - fp: 823.0000 - tn: 4654.0000 - fn: 872.0000 - binary_acc: 0.8158 - precision: 0.7761 - recall: 0.7659 - f1_score: 0.7710 - roc_auc: 0.8787 - pr_auc: 0.8548 - cohen_kappa: 0.6169\n"
     ]
    }
   ],
   "source": [
    "# get the loss value & metrics values for the model in validation mode\n",
    "evaluation_metrics = model.evaluate(validationset, verbose=1)"
   ]
  },
  {
   "cell_type": "code",
   "execution_count": 37,
   "id": "9fab3d36",
   "metadata": {},
   "outputs": [
    {
     "name": "stdout",
     "output_type": "stream",
     "text": [
      "val loss    : 0.4402495324611664\n",
      "tp          : 2853.0\n",
      "fp          : 823.0\n",
      "tn          : 4654.0\n",
      "fn          : 872.0\n",
      "binary_acc  : 0.8158009052276611\n",
      "precision   : 0.776115357875824\n",
      "recall      : 0.765906035900116\n",
      "f1_score    : 0.7709769010543823\n",
      "roc_auc     : 0.8786700367927551\n",
      "pr_auc      : 0.8547767996788025\n",
      "cohen_kappa : 0.6169393062591553\n"
     ]
    }
   ],
   "source": [
    "loss = evaluation_metrics.pop(0)\n",
    "\n",
    "print(f\"val loss    : {loss}\")\n",
    "for metric, score in zip(METRICS, evaluation_metrics):\n",
    "\n",
    "    print(f\"{metric.name + ' ' * (12 - len(metric.name))}: {score}\")"
   ]
  },
  {
   "cell_type": "code",
   "execution_count": 39,
   "id": "9491c46f",
   "metadata": {},
   "outputs": [],
   "source": [
    "clean_up(model)\n",
    "clean_up(vgg)"
   ]
  }
 ],
 "metadata": {
  "kernelspec": {
   "display_name": "Python 3 (ipykernel)",
   "language": "python",
   "name": "python3"
  },
  "language_info": {
   "codemirror_mode": {
    "name": "ipython",
    "version": 3
   },
   "file_extension": ".py",
   "mimetype": "text/x-python",
   "name": "python",
   "nbconvert_exporter": "python",
   "pygments_lexer": "ipython3",
   "version": "3.8.10"
  }
 },
 "nbformat": 4,
 "nbformat_minor": 5
}
