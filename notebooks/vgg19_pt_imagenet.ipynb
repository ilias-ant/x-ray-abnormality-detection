{
 "cells": [
  {
   "cell_type": "markdown",
   "id": "7a899787",
   "metadata": {},
   "source": [
    "## X-Ray Abnormality Detection | VGG19, pretrained on ImageNet"
   ]
  },
  {
   "cell_type": "markdown",
   "id": "c7764e65",
   "metadata": {},
   "source": [
    "> **Antonopoulos Ilias** ( *p3352004* ) <br />\n",
    "> **Ndoja Silva** ( *p3352017* ) <br />\n",
    "> **MSc in Data Science, AUEB**"
   ]
  },
  {
   "cell_type": "markdown",
   "id": "aa71e65e",
   "metadata": {},
   "source": [
    "## Table of Contents\n",
    "\n",
    "- [Data Loading](#Data-Loading)\n",
    " * [Create a tensorflow input pipeline for the training data](#Create-a-tensorflow-input-pipeline-for-the-training-data)\n",
    " * [Create a tensorflow input pipeline for the testing data](#Create-a-tensorflow-input-pipeline-for-the-testing-data)\n",
    "- [VGG19-architecture,-pretrained-on-ImageNet](#VGG19-architecture,-pretrained-on-ImageNet)"
   ]
  },
  {
   "cell_type": "code",
   "execution_count": 1,
   "id": "99fc7dec",
   "metadata": {},
   "outputs": [],
   "source": [
    "import gc\n",
    "import os\n",
    "import pathlib\n",
    "import random\n",
    "import re\n",
    "from glob import glob\n",
    "from PIL import Image\n",
    "from typing import Iterable\n",
    "\n",
    "import matplotlib.pyplot as plt\n",
    "import numpy as np\n",
    "import pandas as pd\n",
    "import tensorflow as tf\n",
    "import tensorflow_addons as tfa\n",
    "from matplotlib import image\n",
    "from sklearn.metrics import cohen_kappa_score, confusion_matrix, classification_report\n",
    "\n",
    "\n",
    "pd.set_option(\"max_colwidth\", None)\n",
    "plt.style.use(\"dark_background\")"
   ]
  },
  {
   "cell_type": "code",
   "execution_count": 2,
   "id": "6d6c351a",
   "metadata": {},
   "outputs": [
    {
     "name": "stdout",
     "output_type": "stream",
     "text": [
      "2.8.0\n"
     ]
    }
   ],
   "source": [
    "print(tf.__version__)"
   ]
  },
  {
   "cell_type": "code",
   "execution_count": 3,
   "id": "1fa8b39b",
   "metadata": {},
   "outputs": [
    {
     "name": "stdout",
     "output_type": "stream",
     "text": [
      "Num GPUs Available:  1\n"
     ]
    },
    {
     "name": "stderr",
     "output_type": "stream",
     "text": [
      "2022-03-31 21:16:07.148255: I tensorflow/stream_executor/cuda/cuda_gpu_executor.cc:936] successful NUMA node read from SysFS had negative value (-1), but there must be at least one NUMA node, so returning NUMA node zero\n",
      "2022-03-31 21:16:07.169107: I tensorflow/stream_executor/cuda/cuda_gpu_executor.cc:936] successful NUMA node read from SysFS had negative value (-1), but there must be at least one NUMA node, so returning NUMA node zero\n",
      "2022-03-31 21:16:07.169611: I tensorflow/stream_executor/cuda/cuda_gpu_executor.cc:936] successful NUMA node read from SysFS had negative value (-1), but there must be at least one NUMA node, so returning NUMA node zero\n"
     ]
    }
   ],
   "source": [
    "print(\"Num GPUs Available: \", len(tf.config.list_physical_devices(\"GPU\")))"
   ]
  },
  {
   "cell_type": "code",
   "execution_count": 4,
   "id": "8d64d949",
   "metadata": {},
   "outputs": [],
   "source": [
    "gpus = tf.config.experimental.list_physical_devices(\"GPU\")\n",
    "\n",
    "try:\n",
    "    tf.config.experimental.set_memory_growth(gpus[0], True)\n",
    "except IndexError:\n",
    "    print(\"Cannot memory-restrict the GPU, if no GPU exists in system. Ignore...\")\n",
    "    pass"
   ]
  },
  {
   "cell_type": "code",
   "execution_count": 5,
   "id": "a6659fde",
   "metadata": {},
   "outputs": [],
   "source": [
    "SEED = 99910123\n",
    "\n",
    "os.environ[\"PYTHONHASHSEED\"] = str(SEED)\n",
    "random.seed(SEED)\n",
    "tf.random.set_seed(SEED)\n",
    "np.random.seed(SEED)"
   ]
  },
  {
   "cell_type": "markdown",
   "id": "b5346f99",
   "metadata": {},
   "source": [
    "### Data Loading"
   ]
  },
  {
   "cell_type": "code",
   "execution_count": 6,
   "id": "5819c5d3",
   "metadata": {},
   "outputs": [],
   "source": [
    "DATASET_DIR = \"../data/MURA-v1.1/\""
   ]
  },
  {
   "cell_type": "code",
   "execution_count": 7,
   "id": "22e69e6c",
   "metadata": {},
   "outputs": [],
   "source": [
    "def inspect_df(df: pd.DataFrame, n: int = 5) -> pd.DataFrame:\n",
    "    \"\"\"Helper method to easily inspect DataFrames.\"\"\"\n",
    "\n",
    "    print(f\"shape: {df.shape}\")\n",
    "\n",
    "    return df.head(n)"
   ]
  },
  {
   "cell_type": "code",
   "execution_count": 8,
   "id": "67d931da",
   "metadata": {},
   "outputs": [
    {
     "data": {
      "text/plain": [
       "['../data/MURA-v1.1/train/XR_WRIST/patient08092/study1_negative/image1.png',\n",
       " '../data/MURA-v1.1/train/XR_FINGER/patient01064/study1_positive/image1.png',\n",
       " '../data/MURA-v1.1/valid/XR_ELBOW/patient11831/study1_positive/image1.png',\n",
       " '../data/MURA-v1.1/train/XR_SHOULDER/patient00442/study1_positive/image1.png',\n",
       " '../data/MURA-v1.1/train/XR_ELBOW/patient06289/study1_negative/image3.png',\n",
       " '../data/MURA-v1.1/train/XR_WRIST/patient08562/study1_negative/image2.png',\n",
       " '../data/MURA-v1.1/train/XR_FINGER/patient04280/study1_negative/image3.png',\n",
       " '../data/MURA-v1.1/train/XR_WRIST/patient07018/study1_positive/image1.png',\n",
       " '../data/MURA-v1.1/train/XR_ELBOW/patient06000/study1_negative/image1.png',\n",
       " '../data/MURA-v1.1/train/XR_SHOULDER/patient00497/study2_negative/image4.png']"
      ]
     },
     "execution_count": 8,
     "metadata": {},
     "output_type": "execute_result"
    }
   ],
   "source": [
    "random.choices(glob(os.path.join(DATASET_DIR, \"*\", \"*\", \"*\", \"*\", \"*.png\")), k=10)"
   ]
  },
  {
   "cell_type": "markdown",
   "id": "3e68ad35",
   "metadata": {},
   "source": [
    "So, the data structure is the following:\n",
    "\n",
    "```\n",
    "\n",
    "└─train {data subset}\n",
    "│   └───XR_ELBOW {study type}\n",
    "│       │  └───patient00011 {patient}\n",
    "│       │         └───study1_negative {study with label}\n",
    "│       │               └───image1.png {view}\n",
    "│       │               └───image2.png \n",
    "│       │               └───image3.png \n",
    "                        └───...\n",
    "   ...\n",
    "   \n",
    "\n",
    "└─valid {data subset}\n",
    "│   └───XR_HUMERUS {study type}\n",
    "│       │  └───patient11216 {patient}\n",
    "│       │         └───study1_negative {study with label}\n",
    "│       │               └───image1.png {view}\n",
    "│       │               └───image2.png \n",
    "                        └───...\n",
    "```"
   ]
  },
  {
   "cell_type": "code",
   "execution_count": 9,
   "id": "0e99c8e4",
   "metadata": {},
   "outputs": [
    {
     "name": "stdout",
     "output_type": "stream",
     "text": [
      "Total PNG images found in dir <../data/MURA-v1.1/>: 40009\n"
     ]
    }
   ],
   "source": [
    "image_count = len(list(pathlib.Path(DATASET_DIR).glob(\"*/*/*/*/*.png\")))\n",
    "\n",
    "print(f\"Total PNG images found in dir <{DATASET_DIR}>: {image_count}\")"
   ]
  },
  {
   "cell_type": "markdown",
   "id": "e3cc7391",
   "metadata": {},
   "source": [
    "We will start by creating a tabular form of the training data (with no actual image files), in order to quickly analyze them. A proper data loader (of the actual image files) will be implemented after that, in a tensorflow-friendly manner."
   ]
  },
  {
   "cell_type": "code",
   "execution_count": 10,
   "id": "6ee568f1",
   "metadata": {
    "scrolled": false
   },
   "outputs": [
    {
     "name": "stdout",
     "output_type": "stream",
     "text": [
      "shape: (36808, 1)\n"
     ]
    },
    {
     "data": {
      "text/html": [
       "<div>\n",
       "<style scoped>\n",
       "    .dataframe tbody tr th:only-of-type {\n",
       "        vertical-align: middle;\n",
       "    }\n",
       "\n",
       "    .dataframe tbody tr th {\n",
       "        vertical-align: top;\n",
       "    }\n",
       "\n",
       "    .dataframe thead th {\n",
       "        text-align: right;\n",
       "    }\n",
       "</style>\n",
       "<table border=\"1\" class=\"dataframe\">\n",
       "  <thead>\n",
       "    <tr style=\"text-align: right;\">\n",
       "      <th></th>\n",
       "      <th>image_path</th>\n",
       "    </tr>\n",
       "  </thead>\n",
       "  <tbody>\n",
       "    <tr>\n",
       "      <th>0</th>\n",
       "      <td>MURA-v1.1/train/XR_SHOULDER/patient00001/study1_positive/image1.png</td>\n",
       "    </tr>\n",
       "    <tr>\n",
       "      <th>1</th>\n",
       "      <td>MURA-v1.1/train/XR_SHOULDER/patient00001/study1_positive/image2.png</td>\n",
       "    </tr>\n",
       "    <tr>\n",
       "      <th>2</th>\n",
       "      <td>MURA-v1.1/train/XR_SHOULDER/patient00001/study1_positive/image3.png</td>\n",
       "    </tr>\n",
       "    <tr>\n",
       "      <th>3</th>\n",
       "      <td>MURA-v1.1/train/XR_SHOULDER/patient00002/study1_positive/image1.png</td>\n",
       "    </tr>\n",
       "    <tr>\n",
       "      <th>4</th>\n",
       "      <td>MURA-v1.1/train/XR_SHOULDER/patient00002/study1_positive/image2.png</td>\n",
       "    </tr>\n",
       "  </tbody>\n",
       "</table>\n",
       "</div>"
      ],
      "text/plain": [
       "                                                            image_path\n",
       "0  MURA-v1.1/train/XR_SHOULDER/patient00001/study1_positive/image1.png\n",
       "1  MURA-v1.1/train/XR_SHOULDER/patient00001/study1_positive/image2.png\n",
       "2  MURA-v1.1/train/XR_SHOULDER/patient00001/study1_positive/image3.png\n",
       "3  MURA-v1.1/train/XR_SHOULDER/patient00002/study1_positive/image1.png\n",
       "4  MURA-v1.1/train/XR_SHOULDER/patient00002/study1_positive/image2.png"
      ]
     },
     "execution_count": 10,
     "metadata": {},
     "output_type": "execute_result"
    }
   ],
   "source": [
    "train_image_paths = pd.read_csv(\n",
    "    os.path.join(DATASET_DIR, \"train_image_paths.csv\"),\n",
    "    names=[\"image_path\"],\n",
    "    header=None,\n",
    "    index_col=False,\n",
    ")\n",
    "\n",
    "inspect_df(train_image_paths)"
   ]
  },
  {
   "cell_type": "code",
   "execution_count": 11,
   "id": "60a69725",
   "metadata": {},
   "outputs": [],
   "source": [
    "train_image_paths[\"image_path\"] = train_image_paths[\"image_path\"].map(\n",
    "    lambda x: os.path.join(\"../data/\", x)\n",
    ")\n",
    "train_image_paths[\"study_type\"] = train_image_paths[\"image_path\"].map(\n",
    "    lambda x: x.split(\"/\")[3]\n",
    ")\n",
    "train_image_paths[\"patient\"] = train_image_paths[\"image_path\"].map(\n",
    "    lambda x: x.split(\"/\")[4]\n",
    ")\n",
    "train_image_paths[\"study\"] = train_image_paths[\"image_path\"].map(\n",
    "    lambda x: x.split(\"/\")[5]\n",
    ")\n",
    "train_image_paths[\"study_path\"] = train_image_paths[\"image_path\"].map(\n",
    "    lambda x: re.sub(r\"image\\d+.png\", \"\", x)\n",
    ")"
   ]
  },
  {
   "cell_type": "code",
   "execution_count": 12,
   "id": "d073e76e",
   "metadata": {},
   "outputs": [
    {
     "name": "stdout",
     "output_type": "stream",
     "text": [
      "shape: (36808, 5)\n"
     ]
    },
    {
     "data": {
      "text/html": [
       "<div>\n",
       "<style scoped>\n",
       "    .dataframe tbody tr th:only-of-type {\n",
       "        vertical-align: middle;\n",
       "    }\n",
       "\n",
       "    .dataframe tbody tr th {\n",
       "        vertical-align: top;\n",
       "    }\n",
       "\n",
       "    .dataframe thead th {\n",
       "        text-align: right;\n",
       "    }\n",
       "</style>\n",
       "<table border=\"1\" class=\"dataframe\">\n",
       "  <thead>\n",
       "    <tr style=\"text-align: right;\">\n",
       "      <th></th>\n",
       "      <th>image_path</th>\n",
       "      <th>study_type</th>\n",
       "      <th>patient</th>\n",
       "      <th>study</th>\n",
       "      <th>study_path</th>\n",
       "    </tr>\n",
       "  </thead>\n",
       "  <tbody>\n",
       "    <tr>\n",
       "      <th>0</th>\n",
       "      <td>../data/MURA-v1.1/train/XR_SHOULDER/patient00001/study1_positive/image1.png</td>\n",
       "      <td>train</td>\n",
       "      <td>XR_SHOULDER</td>\n",
       "      <td>patient00001</td>\n",
       "      <td>../data/MURA-v1.1/train/XR_SHOULDER/patient00001/study1_positive/</td>\n",
       "    </tr>\n",
       "    <tr>\n",
       "      <th>1</th>\n",
       "      <td>../data/MURA-v1.1/train/XR_SHOULDER/patient00001/study1_positive/image2.png</td>\n",
       "      <td>train</td>\n",
       "      <td>XR_SHOULDER</td>\n",
       "      <td>patient00001</td>\n",
       "      <td>../data/MURA-v1.1/train/XR_SHOULDER/patient00001/study1_positive/</td>\n",
       "    </tr>\n",
       "    <tr>\n",
       "      <th>2</th>\n",
       "      <td>../data/MURA-v1.1/train/XR_SHOULDER/patient00001/study1_positive/image3.png</td>\n",
       "      <td>train</td>\n",
       "      <td>XR_SHOULDER</td>\n",
       "      <td>patient00001</td>\n",
       "      <td>../data/MURA-v1.1/train/XR_SHOULDER/patient00001/study1_positive/</td>\n",
       "    </tr>\n",
       "    <tr>\n",
       "      <th>3</th>\n",
       "      <td>../data/MURA-v1.1/train/XR_SHOULDER/patient00002/study1_positive/image1.png</td>\n",
       "      <td>train</td>\n",
       "      <td>XR_SHOULDER</td>\n",
       "      <td>patient00002</td>\n",
       "      <td>../data/MURA-v1.1/train/XR_SHOULDER/patient00002/study1_positive/</td>\n",
       "    </tr>\n",
       "    <tr>\n",
       "      <th>4</th>\n",
       "      <td>../data/MURA-v1.1/train/XR_SHOULDER/patient00002/study1_positive/image2.png</td>\n",
       "      <td>train</td>\n",
       "      <td>XR_SHOULDER</td>\n",
       "      <td>patient00002</td>\n",
       "      <td>../data/MURA-v1.1/train/XR_SHOULDER/patient00002/study1_positive/</td>\n",
       "    </tr>\n",
       "  </tbody>\n",
       "</table>\n",
       "</div>"
      ],
      "text/plain": [
       "                                                                    image_path  \\\n",
       "0  ../data/MURA-v1.1/train/XR_SHOULDER/patient00001/study1_positive/image1.png   \n",
       "1  ../data/MURA-v1.1/train/XR_SHOULDER/patient00001/study1_positive/image2.png   \n",
       "2  ../data/MURA-v1.1/train/XR_SHOULDER/patient00001/study1_positive/image3.png   \n",
       "3  ../data/MURA-v1.1/train/XR_SHOULDER/patient00002/study1_positive/image1.png   \n",
       "4  ../data/MURA-v1.1/train/XR_SHOULDER/patient00002/study1_positive/image2.png   \n",
       "\n",
       "  study_type      patient         study  \\\n",
       "0      train  XR_SHOULDER  patient00001   \n",
       "1      train  XR_SHOULDER  patient00001   \n",
       "2      train  XR_SHOULDER  patient00001   \n",
       "3      train  XR_SHOULDER  patient00002   \n",
       "4      train  XR_SHOULDER  patient00002   \n",
       "\n",
       "                                                          study_path  \n",
       "0  ../data/MURA-v1.1/train/XR_SHOULDER/patient00001/study1_positive/  \n",
       "1  ../data/MURA-v1.1/train/XR_SHOULDER/patient00001/study1_positive/  \n",
       "2  ../data/MURA-v1.1/train/XR_SHOULDER/patient00001/study1_positive/  \n",
       "3  ../data/MURA-v1.1/train/XR_SHOULDER/patient00002/study1_positive/  \n",
       "4  ../data/MURA-v1.1/train/XR_SHOULDER/patient00002/study1_positive/  "
      ]
     },
     "execution_count": 12,
     "metadata": {},
     "output_type": "execute_result"
    }
   ],
   "source": [
    "inspect_df(train_image_paths)"
   ]
  },
  {
   "cell_type": "code",
   "execution_count": 13,
   "id": "59cf2544",
   "metadata": {
    "scrolled": false
   },
   "outputs": [
    {
     "name": "stdout",
     "output_type": "stream",
     "text": [
      "shape: (13457, 2)\n"
     ]
    },
    {
     "data": {
      "text/html": [
       "<div>\n",
       "<style scoped>\n",
       "    .dataframe tbody tr th:only-of-type {\n",
       "        vertical-align: middle;\n",
       "    }\n",
       "\n",
       "    .dataframe tbody tr th {\n",
       "        vertical-align: top;\n",
       "    }\n",
       "\n",
       "    .dataframe thead th {\n",
       "        text-align: right;\n",
       "    }\n",
       "</style>\n",
       "<table border=\"1\" class=\"dataframe\">\n",
       "  <thead>\n",
       "    <tr style=\"text-align: right;\">\n",
       "      <th></th>\n",
       "      <th>study_path</th>\n",
       "      <th>label</th>\n",
       "    </tr>\n",
       "  </thead>\n",
       "  <tbody>\n",
       "    <tr>\n",
       "      <th>0</th>\n",
       "      <td>MURA-v1.1/train/XR_SHOULDER/patient00001/study1_positive/</td>\n",
       "      <td>1</td>\n",
       "    </tr>\n",
       "    <tr>\n",
       "      <th>1</th>\n",
       "      <td>MURA-v1.1/train/XR_SHOULDER/patient00002/study1_positive/</td>\n",
       "      <td>1</td>\n",
       "    </tr>\n",
       "    <tr>\n",
       "      <th>2</th>\n",
       "      <td>MURA-v1.1/train/XR_SHOULDER/patient00003/study1_positive/</td>\n",
       "      <td>1</td>\n",
       "    </tr>\n",
       "    <tr>\n",
       "      <th>3</th>\n",
       "      <td>MURA-v1.1/train/XR_SHOULDER/patient00004/study1_positive/</td>\n",
       "      <td>1</td>\n",
       "    </tr>\n",
       "    <tr>\n",
       "      <th>4</th>\n",
       "      <td>MURA-v1.1/train/XR_SHOULDER/patient00005/study1_positive/</td>\n",
       "      <td>1</td>\n",
       "    </tr>\n",
       "  </tbody>\n",
       "</table>\n",
       "</div>"
      ],
      "text/plain": [
       "                                                  study_path  label\n",
       "0  MURA-v1.1/train/XR_SHOULDER/patient00001/study1_positive/      1\n",
       "1  MURA-v1.1/train/XR_SHOULDER/patient00002/study1_positive/      1\n",
       "2  MURA-v1.1/train/XR_SHOULDER/patient00003/study1_positive/      1\n",
       "3  MURA-v1.1/train/XR_SHOULDER/patient00004/study1_positive/      1\n",
       "4  MURA-v1.1/train/XR_SHOULDER/patient00005/study1_positive/      1"
      ]
     },
     "execution_count": 13,
     "metadata": {},
     "output_type": "execute_result"
    }
   ],
   "source": [
    "train_labeled_studies = pd.read_csv(\n",
    "    os.path.join(DATASET_DIR, \"train_labeled_studies.csv\"),\n",
    "    names=[\"study_path\", \"label\"],\n",
    "    header=None,\n",
    "    index_col=False,\n",
    ")\n",
    "\n",
    "inspect_df(train_labeled_studies)"
   ]
  },
  {
   "cell_type": "code",
   "execution_count": 14,
   "id": "df9a7f5d",
   "metadata": {},
   "outputs": [],
   "source": [
    "train_labeled_studies[\"study_path\"] = train_labeled_studies[\"study_path\"].map(\n",
    "    lambda x: os.path.join(\"../data/\", x)\n",
    ")\n",
    "train_labeled_studies[\"label\"] = train_labeled_studies[\"label\"].map(str)"
   ]
  },
  {
   "cell_type": "code",
   "execution_count": 15,
   "id": "408b169b",
   "metadata": {
    "scrolled": false
   },
   "outputs": [
    {
     "name": "stdout",
     "output_type": "stream",
     "text": [
      "shape: (13457, 2)\n"
     ]
    },
    {
     "data": {
      "text/html": [
       "<div>\n",
       "<style scoped>\n",
       "    .dataframe tbody tr th:only-of-type {\n",
       "        vertical-align: middle;\n",
       "    }\n",
       "\n",
       "    .dataframe tbody tr th {\n",
       "        vertical-align: top;\n",
       "    }\n",
       "\n",
       "    .dataframe thead th {\n",
       "        text-align: right;\n",
       "    }\n",
       "</style>\n",
       "<table border=\"1\" class=\"dataframe\">\n",
       "  <thead>\n",
       "    <tr style=\"text-align: right;\">\n",
       "      <th></th>\n",
       "      <th>study_path</th>\n",
       "      <th>label</th>\n",
       "    </tr>\n",
       "  </thead>\n",
       "  <tbody>\n",
       "    <tr>\n",
       "      <th>0</th>\n",
       "      <td>../data/MURA-v1.1/train/XR_SHOULDER/patient00001/study1_positive/</td>\n",
       "      <td>1</td>\n",
       "    </tr>\n",
       "    <tr>\n",
       "      <th>1</th>\n",
       "      <td>../data/MURA-v1.1/train/XR_SHOULDER/patient00002/study1_positive/</td>\n",
       "      <td>1</td>\n",
       "    </tr>\n",
       "    <tr>\n",
       "      <th>2</th>\n",
       "      <td>../data/MURA-v1.1/train/XR_SHOULDER/patient00003/study1_positive/</td>\n",
       "      <td>1</td>\n",
       "    </tr>\n",
       "    <tr>\n",
       "      <th>3</th>\n",
       "      <td>../data/MURA-v1.1/train/XR_SHOULDER/patient00004/study1_positive/</td>\n",
       "      <td>1</td>\n",
       "    </tr>\n",
       "    <tr>\n",
       "      <th>4</th>\n",
       "      <td>../data/MURA-v1.1/train/XR_SHOULDER/patient00005/study1_positive/</td>\n",
       "      <td>1</td>\n",
       "    </tr>\n",
       "  </tbody>\n",
       "</table>\n",
       "</div>"
      ],
      "text/plain": [
       "                                                          study_path label\n",
       "0  ../data/MURA-v1.1/train/XR_SHOULDER/patient00001/study1_positive/     1\n",
       "1  ../data/MURA-v1.1/train/XR_SHOULDER/patient00002/study1_positive/     1\n",
       "2  ../data/MURA-v1.1/train/XR_SHOULDER/patient00003/study1_positive/     1\n",
       "3  ../data/MURA-v1.1/train/XR_SHOULDER/patient00004/study1_positive/     1\n",
       "4  ../data/MURA-v1.1/train/XR_SHOULDER/patient00005/study1_positive/     1"
      ]
     },
     "execution_count": 15,
     "metadata": {},
     "output_type": "execute_result"
    }
   ],
   "source": [
    "inspect_df(train_labeled_studies)"
   ]
  },
  {
   "cell_type": "code",
   "execution_count": 16,
   "id": "98c49b41",
   "metadata": {},
   "outputs": [
    {
     "name": "stdout",
     "output_type": "stream",
     "text": [
      "shape: (36808, 6)\n"
     ]
    },
    {
     "data": {
      "text/html": [
       "<div>\n",
       "<style scoped>\n",
       "    .dataframe tbody tr th:only-of-type {\n",
       "        vertical-align: middle;\n",
       "    }\n",
       "\n",
       "    .dataframe tbody tr th {\n",
       "        vertical-align: top;\n",
       "    }\n",
       "\n",
       "    .dataframe thead th {\n",
       "        text-align: right;\n",
       "    }\n",
       "</style>\n",
       "<table border=\"1\" class=\"dataframe\">\n",
       "  <thead>\n",
       "    <tr style=\"text-align: right;\">\n",
       "      <th></th>\n",
       "      <th>image_path</th>\n",
       "      <th>study_type</th>\n",
       "      <th>patient</th>\n",
       "      <th>study</th>\n",
       "      <th>study_path</th>\n",
       "      <th>label</th>\n",
       "    </tr>\n",
       "  </thead>\n",
       "  <tbody>\n",
       "    <tr>\n",
       "      <th>0</th>\n",
       "      <td>../data/MURA-v1.1/train/XR_SHOULDER/patient00001/study1_positive/image1.png</td>\n",
       "      <td>train</td>\n",
       "      <td>XR_SHOULDER</td>\n",
       "      <td>patient00001</td>\n",
       "      <td>../data/MURA-v1.1/train/XR_SHOULDER/patient00001/study1_positive/</td>\n",
       "      <td>1</td>\n",
       "    </tr>\n",
       "    <tr>\n",
       "      <th>1</th>\n",
       "      <td>../data/MURA-v1.1/train/XR_SHOULDER/patient00001/study1_positive/image2.png</td>\n",
       "      <td>train</td>\n",
       "      <td>XR_SHOULDER</td>\n",
       "      <td>patient00001</td>\n",
       "      <td>../data/MURA-v1.1/train/XR_SHOULDER/patient00001/study1_positive/</td>\n",
       "      <td>1</td>\n",
       "    </tr>\n",
       "    <tr>\n",
       "      <th>2</th>\n",
       "      <td>../data/MURA-v1.1/train/XR_SHOULDER/patient00001/study1_positive/image3.png</td>\n",
       "      <td>train</td>\n",
       "      <td>XR_SHOULDER</td>\n",
       "      <td>patient00001</td>\n",
       "      <td>../data/MURA-v1.1/train/XR_SHOULDER/patient00001/study1_positive/</td>\n",
       "      <td>1</td>\n",
       "    </tr>\n",
       "    <tr>\n",
       "      <th>3</th>\n",
       "      <td>../data/MURA-v1.1/train/XR_SHOULDER/patient00002/study1_positive/image1.png</td>\n",
       "      <td>train</td>\n",
       "      <td>XR_SHOULDER</td>\n",
       "      <td>patient00002</td>\n",
       "      <td>../data/MURA-v1.1/train/XR_SHOULDER/patient00002/study1_positive/</td>\n",
       "      <td>1</td>\n",
       "    </tr>\n",
       "    <tr>\n",
       "      <th>4</th>\n",
       "      <td>../data/MURA-v1.1/train/XR_SHOULDER/patient00002/study1_positive/image2.png</td>\n",
       "      <td>train</td>\n",
       "      <td>XR_SHOULDER</td>\n",
       "      <td>patient00002</td>\n",
       "      <td>../data/MURA-v1.1/train/XR_SHOULDER/patient00002/study1_positive/</td>\n",
       "      <td>1</td>\n",
       "    </tr>\n",
       "  </tbody>\n",
       "</table>\n",
       "</div>"
      ],
      "text/plain": [
       "                                                                    image_path  \\\n",
       "0  ../data/MURA-v1.1/train/XR_SHOULDER/patient00001/study1_positive/image1.png   \n",
       "1  ../data/MURA-v1.1/train/XR_SHOULDER/patient00001/study1_positive/image2.png   \n",
       "2  ../data/MURA-v1.1/train/XR_SHOULDER/patient00001/study1_positive/image3.png   \n",
       "3  ../data/MURA-v1.1/train/XR_SHOULDER/patient00002/study1_positive/image1.png   \n",
       "4  ../data/MURA-v1.1/train/XR_SHOULDER/patient00002/study1_positive/image2.png   \n",
       "\n",
       "  study_type      patient         study  \\\n",
       "0      train  XR_SHOULDER  patient00001   \n",
       "1      train  XR_SHOULDER  patient00001   \n",
       "2      train  XR_SHOULDER  patient00001   \n",
       "3      train  XR_SHOULDER  patient00002   \n",
       "4      train  XR_SHOULDER  patient00002   \n",
       "\n",
       "                                                          study_path label  \n",
       "0  ../data/MURA-v1.1/train/XR_SHOULDER/patient00001/study1_positive/     1  \n",
       "1  ../data/MURA-v1.1/train/XR_SHOULDER/patient00001/study1_positive/     1  \n",
       "2  ../data/MURA-v1.1/train/XR_SHOULDER/patient00001/study1_positive/     1  \n",
       "3  ../data/MURA-v1.1/train/XR_SHOULDER/patient00002/study1_positive/     1  \n",
       "4  ../data/MURA-v1.1/train/XR_SHOULDER/patient00002/study1_positive/     1  "
      ]
     },
     "execution_count": 16,
     "metadata": {},
     "output_type": "execute_result"
    }
   ],
   "source": [
    "ref_trainset = pd.merge(\n",
    "    train_image_paths, train_labeled_studies, how=\"inner\", on=\"study_path\"\n",
    ")\n",
    "\n",
    "inspect_df(ref_trainset)"
   ]
  },
  {
   "cell_type": "code",
   "execution_count": 17,
   "id": "530cb791",
   "metadata": {},
   "outputs": [],
   "source": [
    "test_image_paths = pd.read_csv(\n",
    "    os.path.join(DATASET_DIR, \"valid_image_paths.csv\"),\n",
    "    names=[\"image_path\"],\n",
    "    header=None,\n",
    "    index_col=False,\n",
    ")"
   ]
  },
  {
   "cell_type": "code",
   "execution_count": 18,
   "id": "3c564c7c",
   "metadata": {},
   "outputs": [],
   "source": [
    "test_image_paths[\"image_path\"] = test_image_paths[\"image_path\"].map(\n",
    "    lambda x: os.path.join(\"../data/\", x)\n",
    ")\n",
    "test_image_paths[\"study_type\"] = test_image_paths[\"image_path\"].map(\n",
    "    lambda x: x.split(\"/\")[3]\n",
    ")\n",
    "test_image_paths[\"patient\"] = test_image_paths[\"image_path\"].map(\n",
    "    lambda x: x.split(\"/\")[4]\n",
    ")\n",
    "test_image_paths[\"study\"] = test_image_paths[\"image_path\"].map(\n",
    "    lambda x: x.split(\"/\")[5]\n",
    ")\n",
    "test_image_paths[\"study_path\"] = test_image_paths[\"image_path\"].map(\n",
    "    lambda x: re.sub(r\"image\\d+.png\", \"\", x)\n",
    ")"
   ]
  },
  {
   "cell_type": "code",
   "execution_count": 19,
   "id": "02fa25e7",
   "metadata": {},
   "outputs": [],
   "source": [
    "test_labeled_studies = pd.read_csv(\n",
    "    os.path.join(DATASET_DIR, \"valid_labeled_studies.csv\"),\n",
    "    names=[\"study_path\", \"label\"],\n",
    "    header=None,\n",
    "    index_col=False,\n",
    ")"
   ]
  },
  {
   "cell_type": "code",
   "execution_count": 20,
   "id": "3b658d66",
   "metadata": {},
   "outputs": [],
   "source": [
    "test_labeled_studies[\"study_path\"] = test_labeled_studies[\"study_path\"].map(\n",
    "    lambda x: os.path.join(\"../data/\", x)\n",
    ")\n",
    "test_labeled_studies[\"label\"] = test_labeled_studies[\"label\"].map(str)"
   ]
  },
  {
   "cell_type": "code",
   "execution_count": 21,
   "id": "28789518",
   "metadata": {},
   "outputs": [
    {
     "name": "stdout",
     "output_type": "stream",
     "text": [
      "shape: (3197, 6)\n"
     ]
    },
    {
     "data": {
      "text/html": [
       "<div>\n",
       "<style scoped>\n",
       "    .dataframe tbody tr th:only-of-type {\n",
       "        vertical-align: middle;\n",
       "    }\n",
       "\n",
       "    .dataframe tbody tr th {\n",
       "        vertical-align: top;\n",
       "    }\n",
       "\n",
       "    .dataframe thead th {\n",
       "        text-align: right;\n",
       "    }\n",
       "</style>\n",
       "<table border=\"1\" class=\"dataframe\">\n",
       "  <thead>\n",
       "    <tr style=\"text-align: right;\">\n",
       "      <th></th>\n",
       "      <th>image_path</th>\n",
       "      <th>study_type</th>\n",
       "      <th>patient</th>\n",
       "      <th>study</th>\n",
       "      <th>study_path</th>\n",
       "      <th>label</th>\n",
       "    </tr>\n",
       "  </thead>\n",
       "  <tbody>\n",
       "    <tr>\n",
       "      <th>0</th>\n",
       "      <td>../data/MURA-v1.1/valid/XR_WRIST/patient11185/study1_positive/image1.png</td>\n",
       "      <td>valid</td>\n",
       "      <td>XR_WRIST</td>\n",
       "      <td>patient11185</td>\n",
       "      <td>../data/MURA-v1.1/valid/XR_WRIST/patient11185/study1_positive/</td>\n",
       "      <td>1</td>\n",
       "    </tr>\n",
       "    <tr>\n",
       "      <th>1</th>\n",
       "      <td>../data/MURA-v1.1/valid/XR_WRIST/patient11185/study1_positive/image2.png</td>\n",
       "      <td>valid</td>\n",
       "      <td>XR_WRIST</td>\n",
       "      <td>patient11185</td>\n",
       "      <td>../data/MURA-v1.1/valid/XR_WRIST/patient11185/study1_positive/</td>\n",
       "      <td>1</td>\n",
       "    </tr>\n",
       "    <tr>\n",
       "      <th>2</th>\n",
       "      <td>../data/MURA-v1.1/valid/XR_WRIST/patient11185/study1_positive/image3.png</td>\n",
       "      <td>valid</td>\n",
       "      <td>XR_WRIST</td>\n",
       "      <td>patient11185</td>\n",
       "      <td>../data/MURA-v1.1/valid/XR_WRIST/patient11185/study1_positive/</td>\n",
       "      <td>1</td>\n",
       "    </tr>\n",
       "    <tr>\n",
       "      <th>3</th>\n",
       "      <td>../data/MURA-v1.1/valid/XR_WRIST/patient11185/study1_positive/image4.png</td>\n",
       "      <td>valid</td>\n",
       "      <td>XR_WRIST</td>\n",
       "      <td>patient11185</td>\n",
       "      <td>../data/MURA-v1.1/valid/XR_WRIST/patient11185/study1_positive/</td>\n",
       "      <td>1</td>\n",
       "    </tr>\n",
       "    <tr>\n",
       "      <th>4</th>\n",
       "      <td>../data/MURA-v1.1/valid/XR_WRIST/patient11186/study1_positive/image1.png</td>\n",
       "      <td>valid</td>\n",
       "      <td>XR_WRIST</td>\n",
       "      <td>patient11186</td>\n",
       "      <td>../data/MURA-v1.1/valid/XR_WRIST/patient11186/study1_positive/</td>\n",
       "      <td>1</td>\n",
       "    </tr>\n",
       "  </tbody>\n",
       "</table>\n",
       "</div>"
      ],
      "text/plain": [
       "                                                                 image_path  \\\n",
       "0  ../data/MURA-v1.1/valid/XR_WRIST/patient11185/study1_positive/image1.png   \n",
       "1  ../data/MURA-v1.1/valid/XR_WRIST/patient11185/study1_positive/image2.png   \n",
       "2  ../data/MURA-v1.1/valid/XR_WRIST/patient11185/study1_positive/image3.png   \n",
       "3  ../data/MURA-v1.1/valid/XR_WRIST/patient11185/study1_positive/image4.png   \n",
       "4  ../data/MURA-v1.1/valid/XR_WRIST/patient11186/study1_positive/image1.png   \n",
       "\n",
       "  study_type   patient         study  \\\n",
       "0      valid  XR_WRIST  patient11185   \n",
       "1      valid  XR_WRIST  patient11185   \n",
       "2      valid  XR_WRIST  patient11185   \n",
       "3      valid  XR_WRIST  patient11185   \n",
       "4      valid  XR_WRIST  patient11186   \n",
       "\n",
       "                                                       study_path label  \n",
       "0  ../data/MURA-v1.1/valid/XR_WRIST/patient11185/study1_positive/     1  \n",
       "1  ../data/MURA-v1.1/valid/XR_WRIST/patient11185/study1_positive/     1  \n",
       "2  ../data/MURA-v1.1/valid/XR_WRIST/patient11185/study1_positive/     1  \n",
       "3  ../data/MURA-v1.1/valid/XR_WRIST/patient11185/study1_positive/     1  \n",
       "4  ../data/MURA-v1.1/valid/XR_WRIST/patient11186/study1_positive/     1  "
      ]
     },
     "execution_count": 21,
     "metadata": {},
     "output_type": "execute_result"
    }
   ],
   "source": [
    "ref_testset = pd.merge(\n",
    "    test_image_paths, test_labeled_studies, how=\"inner\", on=\"study_path\"\n",
    ")\n",
    "\n",
    "inspect_df(ref_testset)"
   ]
  },
  {
   "cell_type": "markdown",
   "id": "41eafe23",
   "metadata": {},
   "source": [
    "#### Create a tensorflow input pipeline for the training data"
   ]
  },
  {
   "cell_type": "code",
   "execution_count": 22,
   "id": "19f477b2",
   "metadata": {},
   "outputs": [],
   "source": [
    "IMAGE_WIDTH = 224\n",
    "IMAGE_HEIGHT = 224"
   ]
  },
  {
   "cell_type": "code",
   "execution_count": 23,
   "id": "c8637a1c",
   "metadata": {},
   "outputs": [],
   "source": [
    "training = tf.keras.preprocessing.image.ImageDataGenerator(\n",
    "    rotation_range=30,\n",
    "    horizontal_flip=True,\n",
    "    fill_mode=\"constant\",\n",
    "    cval=0.0,\n",
    "    validation_split=0.2,\n",
    "    preprocessing_function=tf.keras.applications.vgg19.preprocess_input,\n",
    ")"
   ]
  },
  {
   "cell_type": "code",
   "execution_count": 24,
   "id": "21f38eee",
   "metadata": {},
   "outputs": [
    {
     "name": "stdout",
     "output_type": "stream",
     "text": [
      "Found 29447 validated image filenames belonging to 2 classes.\n"
     ]
    }
   ],
   "source": [
    "trainset = training.flow_from_dataframe(\n",
    "    dataframe=ref_trainset,\n",
    "    x_col=\"image_path\",\n",
    "    y_col=\"label\",\n",
    "    target_size=(IMAGE_WIDTH, IMAGE_HEIGHT),\n",
    "    class_mode=\"binary\",\n",
    "    batch_size=16,\n",
    "    seed=SEED,\n",
    "    shuffle=True,\n",
    "    subset=\"training\",\n",
    ")"
   ]
  },
  {
   "cell_type": "code",
   "execution_count": 25,
   "id": "3d3baff1",
   "metadata": {},
   "outputs": [
    {
     "name": "stdout",
     "output_type": "stream",
     "text": [
      "Found 7361 validated image filenames belonging to 2 classes.\n"
     ]
    }
   ],
   "source": [
    "validationset = training.flow_from_dataframe(\n",
    "    dataframe=ref_trainset,\n",
    "    x_col=\"image_path\",\n",
    "    y_col=\"label\",\n",
    "    target_size=(IMAGE_WIDTH, IMAGE_HEIGHT),\n",
    "    class_mode=\"binary\",\n",
    "    batch_size=16,\n",
    "    seed=SEED,\n",
    "    shuffle=False,\n",
    "    subset=\"validation\",\n",
    ")"
   ]
  },
  {
   "cell_type": "markdown",
   "id": "6384ad36",
   "metadata": {},
   "source": [
    "#### Create a tensorflow input pipeline for the testing data"
   ]
  },
  {
   "cell_type": "code",
   "execution_count": 26,
   "id": "7a83dfa4",
   "metadata": {},
   "outputs": [],
   "source": [
    "testing = tf.keras.preprocessing.image.ImageDataGenerator(\n",
    "    preprocessing_function=tf.keras.applications.vgg19.preprocess_input,\n",
    ")"
   ]
  },
  {
   "cell_type": "code",
   "execution_count": 27,
   "id": "c466ce62",
   "metadata": {},
   "outputs": [
    {
     "name": "stdout",
     "output_type": "stream",
     "text": [
      "Found 3197 validated image filenames belonging to 2 classes.\n"
     ]
    }
   ],
   "source": [
    "testset = testing.flow_from_dataframe(\n",
    "    dataframe=ref_testset,\n",
    "    x_col=\"image_path\",\n",
    "    y_col=\"label\",\n",
    "    target_size=(IMAGE_WIDTH, IMAGE_HEIGHT),\n",
    "    class_mode=\"binary\",\n",
    "    batch_size=16,\n",
    "    seed=SEED,\n",
    "    shuffle=False,  # this is very important in order to properly use raw predictions to evaluate on study-level!\n",
    ")"
   ]
  },
  {
   "cell_type": "markdown",
   "id": "92e2665b",
   "metadata": {},
   "source": [
    "### VGG19 architecture, pretrained on ImageNet"
   ]
  },
  {
   "cell_type": "code",
   "execution_count": 28,
   "id": "6de7e829",
   "metadata": {},
   "outputs": [],
   "source": [
    "def study_oriented_transformation(dataset: pd.DataFrame) -> Iterable:\n",
    "\n",
    "    for study, group in dataset.groupby(\"study_path\"):\n",
    "\n",
    "        study_label = group[\"label\"].values.take(0)\n",
    "        study_prediction = 1 if group[\"prediction\"].mean() > 0.5 else 0\n",
    "\n",
    "        yield study, study_label, study_prediction"
   ]
  },
  {
   "cell_type": "code",
   "execution_count": 29,
   "id": "53dda1c7",
   "metadata": {},
   "outputs": [],
   "source": [
    "def clean_up(model_):\n",
    "    tf.keras.backend.clear_session()\n",
    "    del model_\n",
    "    gc.collect()"
   ]
  },
  {
   "cell_type": "code",
   "execution_count": 30,
   "id": "404f8518",
   "metadata": {},
   "outputs": [],
   "source": [
    "# the tfa.metrics.F1Score (https://www.tensorflow.org/addons/api_docs/python/tfa/metrics/F1Score)\n",
    "# requires some reshaping that is inconsistent with the other metrics we like to track\n",
    "# so we will define it from scratch\n",
    "\n",
    "\n",
    "class F1Score(tf.keras.metrics.Metric):\n",
    "    def __init__(self, name=\"f1_score\", **kwargs):\n",
    "        super().__init__(name=name, **kwargs)\n",
    "        self.f1 = self.add_weight(name=\"f1\", initializer=\"zeros\")\n",
    "        self.precision_fn = tf.keras.metrics.Precision()\n",
    "        self.recall_fn = tf.keras.metrics.Recall()\n",
    "\n",
    "    def update_state(self, y_true, y_pred, sample_weight=None):\n",
    "        p = self.precision_fn(y_true, y_pred)\n",
    "        r = self.recall_fn(y_true, y_pred)\n",
    "        self.f1.assign(2 * ((p * r) / (p + r + 1e-10)))\n",
    "\n",
    "    def result(self):\n",
    "        return self.f1\n",
    "\n",
    "    def reset_state(self):\n",
    "        # we also need to reset the state of the precision and recall objects\n",
    "        self.precision_fn.reset_state()\n",
    "        self.recall_fn.reset_state()\n",
    "        self.f1.assign(0)"
   ]
  },
  {
   "cell_type": "code",
   "execution_count": 31,
   "id": "4e3a6125",
   "metadata": {},
   "outputs": [
    {
     "name": "stderr",
     "output_type": "stream",
     "text": [
      "2022-03-31 21:16:08.677011: I tensorflow/core/platform/cpu_feature_guard.cc:151] This TensorFlow binary is optimized with oneAPI Deep Neural Network Library (oneDNN) to use the following CPU instructions in performance-critical operations:  AVX2 FMA\n",
      "To enable them in other operations, rebuild TensorFlow with the appropriate compiler flags.\n",
      "2022-03-31 21:16:08.677610: I tensorflow/stream_executor/cuda/cuda_gpu_executor.cc:936] successful NUMA node read from SysFS had negative value (-1), but there must be at least one NUMA node, so returning NUMA node zero\n",
      "2022-03-31 21:16:08.677800: I tensorflow/stream_executor/cuda/cuda_gpu_executor.cc:936] successful NUMA node read from SysFS had negative value (-1), but there must be at least one NUMA node, so returning NUMA node zero\n",
      "2022-03-31 21:16:08.677917: I tensorflow/stream_executor/cuda/cuda_gpu_executor.cc:936] successful NUMA node read from SysFS had negative value (-1), but there must be at least one NUMA node, so returning NUMA node zero\n",
      "2022-03-31 21:16:09.094415: I tensorflow/stream_executor/cuda/cuda_gpu_executor.cc:936] successful NUMA node read from SysFS had negative value (-1), but there must be at least one NUMA node, so returning NUMA node zero\n",
      "2022-03-31 21:16:09.094623: I tensorflow/stream_executor/cuda/cuda_gpu_executor.cc:936] successful NUMA node read from SysFS had negative value (-1), but there must be at least one NUMA node, so returning NUMA node zero\n",
      "2022-03-31 21:16:09.094748: I tensorflow/stream_executor/cuda/cuda_gpu_executor.cc:936] successful NUMA node read from SysFS had negative value (-1), but there must be at least one NUMA node, so returning NUMA node zero\n",
      "2022-03-31 21:16:09.094851: I tensorflow/core/common_runtime/gpu/gpu_device.cc:1525] Created device /job:localhost/replica:0/task:0/device:GPU:0 with 2087 MB memory:  -> device: 0, name: Quadro T1000, pci bus id: 0000:01:00.0, compute capability: 7.5\n"
     ]
    }
   ],
   "source": [
    "METRICS = [\n",
    "    tf.keras.metrics.TruePositives(name=\"tp\"),\n",
    "    tf.keras.metrics.FalsePositives(name=\"fp\"),\n",
    "    tf.keras.metrics.TrueNegatives(name=\"tn\"),\n",
    "    tf.keras.metrics.FalseNegatives(name=\"fn\"),\n",
    "    tf.keras.metrics.BinaryAccuracy(name=\"binary_acc\"),\n",
    "    tf.keras.metrics.Precision(name=\"precision\"),\n",
    "    tf.keras.metrics.Recall(name=\"recall\"),\n",
    "    F1Score(name=\"f1_score\"),\n",
    "    tf.keras.metrics.AUC(name=\"roc_auc\", curve=\"ROC\"),\n",
    "    tf.keras.metrics.AUC(name=\"pr_auc\", curve=\"PR\"),\n",
    "    tfa.metrics.CohenKappa(name=\"cohen_kappa\", num_classes=2),\n",
    "]"
   ]
  },
  {
   "cell_type": "code",
   "execution_count": 32,
   "id": "4d269acc",
   "metadata": {},
   "outputs": [],
   "source": [
    "def plot_metrics(\n",
    "    history: tf.keras.callbacks.History,\n",
    "    metrics: list = [\"loss\", \"cohen_kappa\", \"precision\", \"recall\"],\n",
    ") -> None:\n",
    "\n",
    "    plt.rcParams[\"figure.figsize\"] = (18, 15)\n",
    "\n",
    "    for n, metric in enumerate(metrics):\n",
    "        name = metric.replace(\"_\", \" \").capitalize()\n",
    "        plt.subplot(2, 2, n + 1)\n",
    "        plt.plot(\n",
    "            history.epoch, history.history[metric], linewidth=1.8, label=\"training\"\n",
    "        )\n",
    "        plt.plot(\n",
    "            history.epoch,\n",
    "            history.history[\"val_\" + metric],\n",
    "            linestyle=\"--\",\n",
    "            linewidth=1.8,\n",
    "            label=\"validation\",\n",
    "        )\n",
    "        plt.xlabel(\"epoch\")\n",
    "        plt.ylabel(name)\n",
    "        if metric == \"loss\":\n",
    "            plt.ylim([0, plt.ylim()[1]])\n",
    "        elif metric == \"cohen_kappa\":\n",
    "            plt.ylim([-1, 1])\n",
    "        else:\n",
    "            plt.ylim([0, 1])\n",
    "\n",
    "        plt.legend()"
   ]
  },
  {
   "cell_type": "code",
   "execution_count": 33,
   "id": "30921b05",
   "metadata": {},
   "outputs": [],
   "source": [
    "\"\"\"\n",
    "VGG19 model from \n",
    "`\"Very Deep Convolutional Networks for Large-Scale Image Recognition\" <https://arxiv.org/abs/1409.1556>`_.\n",
    "\n",
    "We will opt for max pooling for feature extraction, since we want to \"emphasize\" any sharp features on the image\n",
    "(e.g hardware placed on human body that most definitely suggests abnormality).\n",
    "\"\"\"\n",
    "vgg = tf.keras.applications.vgg19.VGG19(\n",
    "    include_top=False,  # do not include the fully-connected layer at the top of the network\n",
    "    weights=\"imagenet\",\n",
    "    input_shape=(IMAGE_WIDTH, IMAGE_HEIGHT, 3),\n",
    "    pooling=\"max\",  # pooling mode for feature extraction\n",
    "    classes=2,\n",
    ")"
   ]
  },
  {
   "cell_type": "code",
   "execution_count": 34,
   "id": "202355bd",
   "metadata": {},
   "outputs": [],
   "source": [
    "def make_vgg_model(\n",
    "    base_model: tf.keras.applications.vgg19.VGG19,\n",
    ") -> tf.keras.Model:\n",
    "\n",
    "    # freeze base model\n",
    "    base_model.trainable = False\n",
    "\n",
    "    inputs = tf.keras.Input(shape=(IMAGE_WIDTH, IMAGE_HEIGHT, 3))\n",
    "    # the base model contains batchnorm layer - we want to keep them in inference mode\n",
    "    # when we unfreeze the base model for fine-tuning, so we make sure that the\n",
    "    # base model is running in inference mode here.\n",
    "    x = base_model(inputs, training=False)\n",
    "    x = tf.keras.layers.Dropout(rate=0.2)(x)\n",
    "    output = tf.keras.layers.Dense(units=1, activation=\"sigmoid\")(x)\n",
    "\n",
    "    model = tf.keras.Model(inputs, output)\n",
    "\n",
    "    model.compile(\n",
    "        optimizer=tf.keras.optimizers.Adam(learning_rate=0.001),\n",
    "        loss=tf.keras.losses.BinaryCrossentropy(),\n",
    "        metrics=METRICS,\n",
    "    )\n",
    "\n",
    "    return model"
   ]
  },
  {
   "cell_type": "code",
   "execution_count": 35,
   "id": "b2e68f4f",
   "metadata": {},
   "outputs": [],
   "source": [
    "model = make_vgg_model(base_model=vgg)"
   ]
  },
  {
   "cell_type": "code",
   "execution_count": 36,
   "id": "1c19ad13",
   "metadata": {
    "scrolled": false
   },
   "outputs": [
    {
     "name": "stdout",
     "output_type": "stream",
     "text": [
      "Model: \"model\"\n",
      "_________________________________________________________________\n",
      " Layer (type)                Output Shape              Param #   \n",
      "=================================================================\n",
      " input_2 (InputLayer)        [(None, 224, 224, 3)]     0         \n",
      "                                                                 \n",
      " vgg19 (Functional)          (None, 512)               20024384  \n",
      "                                                                 \n",
      " dropout (Dropout)           (None, 512)               0         \n",
      "                                                                 \n",
      " dense (Dense)               (None, 1)                 513       \n",
      "                                                                 \n",
      "=================================================================\n",
      "Total params: 20,024,897\n",
      "Trainable params: 513\n",
      "Non-trainable params: 20,024,384\n",
      "_________________________________________________________________\n"
     ]
    }
   ],
   "source": [
    "model.summary()"
   ]
  },
  {
   "cell_type": "code",
   "execution_count": 37,
   "id": "97981226",
   "metadata": {
    "scrolled": false
   },
   "outputs": [
    {
     "data": {
      "image/png": "[encoded data removed]",
      "text/plain": [
       "<IPython.core.display.Image object>"
      ]
     },
     "execution_count": 37,
     "metadata": {},
     "output_type": "execute_result"
    }
   ],
   "source": [
    "tf.keras.utils.plot_model(\n",
    "    model,\n",
    "    to_file=\"../static/vgg19_pt_imagenet-all-study-types-20024897.png\",\n",
    "    show_shapes=True,\n",
    "    show_layer_names=True,\n",
    ")"
   ]
  },
  {
   "cell_type": "code",
   "execution_count": 38,
   "id": "571221da",
   "metadata": {},
   "outputs": [],
   "source": [
    "early_stopping = tf.keras.callbacks.EarlyStopping(\n",
    "    monitor=\"val_cohen_kappa\",\n",
    "    verbose=1,\n",
    "    patience=5,\n",
    "    mode=\"max\",\n",
    ")"
   ]
  },
  {
   "cell_type": "code",
   "execution_count": 39,
   "id": "16cd65d0",
   "metadata": {},
   "outputs": [],
   "source": [
    "reduce_lr_on_plateau = tf.keras.callbacks.ReduceLROnPlateau(\n",
    "    monitor=\"val_cohen_kappa\", factor=0.2, verbose=1, patience=7, min_lr=1e-10\n",
    ")"
   ]
  },
  {
   "cell_type": "code",
   "execution_count": 40,
   "id": "aa319ec8",
   "metadata": {
    "scrolled": false
   },
   "outputs": [
    {
     "name": "stdout",
     "output_type": "stream",
     "text": [
      "Epoch 1/20\n"
     ]
    },
    {
     "name": "stderr",
     "output_type": "stream",
     "text": [
      "2022-03-31 21:16:12.824950: I tensorflow/stream_executor/cuda/cuda_dnn.cc:368] Loaded cuDNN version 8303\n",
      "2022-03-31 21:16:14.177388: W tensorflow/core/common_runtime/bfc_allocator.cc:275] Allocator (GPU_0_bfc) ran out of memory trying to allocate 1.74GiB with freed_by_count=0. The caller indicates that this is not a failure, but may mean that there could be performance gains if more memory were available.\n",
      "2022-03-31 21:16:14.177417: W tensorflow/core/common_runtime/bfc_allocator.cc:275] Allocator (GPU_0_bfc) ran out of memory trying to allocate 1.74GiB with freed_by_count=0. The caller indicates that this is not a failure, but may mean that there could be performance gains if more memory were available.\n",
      "2022-03-31 21:16:14.177426: W tensorflow/core/common_runtime/bfc_allocator.cc:275] Allocator (GPU_0_bfc) ran out of memory trying to allocate 2.54GiB with freed_by_count=0. The caller indicates that this is not a failure, but may mean that there could be performance gains if more memory were available.\n",
      "2022-03-31 21:16:14.177434: W tensorflow/core/common_runtime/bfc_allocator.cc:275] Allocator (GPU_0_bfc) ran out of memory trying to allocate 2.54GiB with freed_by_count=0. The caller indicates that this is not a failure, but may mean that there could be performance gains if more memory were available.\n",
      "2022-03-31 21:16:14.531278: W tensorflow/core/common_runtime/bfc_allocator.cc:343] Garbage collection: deallocate free memory regions (i.e., allocations) so that we can re-allocate a larger region to avoid OOM due to memory fragmentation. If you see this message frequently, you are running near the threshold of the available device memory and re-allocation may incur great performance overhead. You may try smaller batch sizes to observe the performance impact. Set TF_ENABLE_GPU_GARBAGE_COLLECTION=false if you'd like to disable this feature.\n",
      "2022-03-31 21:16:15.158609: W tensorflow/core/common_runtime/bfc_allocator.cc:275] Allocator (GPU_0_bfc) ran out of memory trying to allocate 2.30GiB with freed_by_count=0. The caller indicates that this is not a failure, but may mean that there could be performance gains if more memory were available.\n",
      "2022-03-31 21:16:15.158642: W tensorflow/core/common_runtime/bfc_allocator.cc:275] Allocator (GPU_0_bfc) ran out of memory trying to allocate 2.30GiB with freed_by_count=0. The caller indicates that this is not a failure, but may mean that there could be performance gains if more memory were available.\n",
      "2022-03-31 21:16:15.735138: W tensorflow/core/common_runtime/bfc_allocator.cc:275] Allocator (GPU_0_bfc) ran out of memory trying to allocate 2.21GiB with freed_by_count=0. The caller indicates that this is not a failure, but may mean that there could be performance gains if more memory were available.\n",
      "2022-03-31 21:16:15.735170: W tensorflow/core/common_runtime/bfc_allocator.cc:275] Allocator (GPU_0_bfc) ran out of memory trying to allocate 2.21GiB with freed_by_count=0. The caller indicates that this is not a failure, but may mean that there could be performance gains if more memory were available.\n",
      "2022-03-31 21:16:16.335856: W tensorflow/core/common_runtime/bfc_allocator.cc:275] Allocator (GPU_0_bfc) ran out of memory trying to allocate 2.22GiB with freed_by_count=0. The caller indicates that this is not a failure, but may mean that there could be performance gains if more memory were available.\n",
      "2022-03-31 21:16:16.335885: W tensorflow/core/common_runtime/bfc_allocator.cc:275] Allocator (GPU_0_bfc) ran out of memory trying to allocate 2.22GiB with freed_by_count=0. The caller indicates that this is not a failure, but may mean that there could be performance gains if more memory were available.\n"
     ]
    },
    {
     "name": "stdout",
     "output_type": "stream",
     "text": [
      "1841/1841 [==============================] - 510s 273ms/step - loss: 2.3969 - tp: 4998.0000 - fp: 5438.0000 - tn: 13304.0000 - fn: 5707.0000 - binary_acc: 0.6215 - precision: 0.4789 - recall: 0.4669 - f1_score: 0.4728 - roc_auc: 0.6136 - pr_auc: 0.4618 - cohen_kappa: 0.1777 - val_loss: 1.6750 - val_tp: 298.0000 - val_fp: 93.0000 - val_tn: 3100.0000 - val_fn: 3870.0000 - val_binary_acc: 0.4616 - val_precision: 0.7621 - val_recall: 0.0715 - val_f1_score: 0.1307 - val_roc_auc: 0.6091 - val_pr_auc: 0.6612 - val_cohen_kappa: 0.0372 - lr: 0.0010\n",
      "Epoch 2/20\n",
      "1841/1841 [==============================] - 514s 279ms/step - loss: 0.8323 - tp: 4963.0000 - fp: 4658.0000 - tn: 14084.0000 - fn: 5742.0000 - binary_acc: 0.6468 - precision: 0.5159 - recall: 0.4636 - f1_score: 0.4883 - roc_auc: 0.6545 - pr_auc: 0.5204 - cohen_kappa: 0.2199 - val_loss: 2.0122 - val_tp: 132.0000 - val_fp: 42.0000 - val_tn: 3151.0000 - val_fn: 4036.0000 - val_binary_acc: 0.4460 - val_precision: 0.7586 - val_recall: 0.0317 - val_f1_score: 0.0608 - val_roc_auc: 0.5828 - val_pr_auc: 0.6430 - val_cohen_kappa: 0.0162 - lr: 0.0010\n",
      "Epoch 3/20\n",
      "1841/1841 [==============================] - 508s 276ms/step - loss: 0.8314 - tp: 4979.0000 - fp: 4655.0000 - tn: 14087.0000 - fn: 5726.0000 - binary_acc: 0.6475 - precision: 0.5168 - recall: 0.4651 - f1_score: 0.4896 - roc_auc: 0.6530 - pr_auc: 0.5283 - cohen_kappa: 0.2215 - val_loss: 2.5774 - val_tp: 41.0000 - val_fp: 11.0000 - val_tn: 3182.0000 - val_fn: 4127.0000 - val_binary_acc: 0.4378 - val_precision: 0.7885 - val_recall: 0.0098 - val_f1_score: 0.0194 - val_roc_auc: 0.5615 - val_pr_auc: 0.6211 - val_cohen_kappa: 0.0056 - lr: 0.0010\n",
      "Epoch 4/20\n",
      "1841/1841 [==============================] - 511s 277ms/step - loss: 0.8203 - tp: 4945.0000 - fp: 4626.0000 - tn: 14116.0000 - fn: 5760.0000 - binary_acc: 0.6473 - precision: 0.5167 - recall: 0.4619 - f1_score: 0.4878 - roc_auc: 0.6546 - pr_auc: 0.5252 - cohen_kappa: 0.2201 - val_loss: 0.8724 - val_tp: 1682.0000 - val_fp: 863.0000 - val_tn: 2330.0000 - val_fn: 2486.0000 - val_binary_acc: 0.5450 - val_precision: 0.6609 - val_recall: 0.4036 - val_f1_score: 0.5011 - val_roc_auc: 0.5968 - val_pr_auc: 0.6514 - val_cohen_kappa: 0.1258 - lr: 0.0010\n",
      "Epoch 5/20\n",
      "1841/1841 [==============================] - 499s 271ms/step - loss: 0.8198 - tp: 4952.0000 - fp: 4652.0000 - tn: 14090.0000 - fn: 5753.0000 - binary_acc: 0.6467 - precision: 0.5156 - recall: 0.4626 - f1_score: 0.4877 - roc_auc: 0.6587 - pr_auc: 0.5293 - cohen_kappa: 0.2192 - val_loss: 0.8246 - val_tp: 1924.0000 - val_fp: 1006.0000 - val_tn: 2187.0000 - val_fn: 2244.0000 - val_binary_acc: 0.5585 - val_precision: 0.6567 - val_recall: 0.4616 - val_f1_score: 0.5421 - val_roc_auc: 0.6046 - val_pr_auc: 0.6597 - val_cohen_kappa: 0.1402 - lr: 0.0010\n",
      "Epoch 6/20\n",
      "1841/1841 [==============================] - 495s 269ms/step - loss: 0.8244 - tp: 4955.0000 - fp: 4693.0000 - tn: 14049.0000 - fn: 5750.0000 - binary_acc: 0.6454 - precision: 0.5136 - recall: 0.4629 - f1_score: 0.4869 - roc_auc: 0.6538 - pr_auc: 0.5241 - cohen_kappa: 0.2171 - val_loss: 1.7012 - val_tp: 329.0000 - val_fp: 100.0000 - val_tn: 3093.0000 - val_fn: 3839.0000 - val_binary_acc: 0.4649 - val_precision: 0.7669 - val_recall: 0.0789 - val_f1_score: 0.1431 - val_roc_auc: 0.5982 - val_pr_auc: 0.6530 - val_cohen_kappa: 0.0419 - lr: 0.0010\n",
      "Epoch 7/20\n",
      "1841/1841 [==============================] - 496s 270ms/step - loss: 0.8434 - tp: 5016.0000 - fp: 4764.0000 - tn: 13978.0000 - fn: 5689.0000 - binary_acc: 0.6450 - precision: 0.5129 - recall: 0.4686 - f1_score: 0.4897 - roc_auc: 0.6524 - pr_auc: 0.5224 - cohen_kappa: 0.2184 - val_loss: 2.0616 - val_tp: 134.0000 - val_fp: 49.0000 - val_tn: 3144.0000 - val_fn: 4034.0000 - val_binary_acc: 0.4453 - val_precision: 0.7322 - val_recall: 0.0321 - val_f1_score: 0.0616 - val_roc_auc: 0.5726 - val_pr_auc: 0.6304 - val_cohen_kappa: 0.0147 - lr: 0.0010\n",
      "Epoch 8/20\n",
      "1841/1841 [==============================] - 496s 270ms/step - loss: 0.8154 - tp: 5025.0000 - fp: 4606.0000 - tn: 14136.0000 - fn: 5680.0000 - binary_acc: 0.6507 - precision: 0.5218 - recall: 0.4694 - f1_score: 0.4942 - roc_auc: 0.6552 - pr_auc: 0.5285 - cohen_kappa: 0.2286 - val_loss: 0.9082 - val_tp: 1767.0000 - val_fp: 1063.0000 - val_tn: 2130.0000 - val_fn: 2401.0000 - val_binary_acc: 0.5294 - val_precision: 0.6244 - val_recall: 0.4239 - val_f1_score: 0.5050 - val_roc_auc: 0.5658 - val_pr_auc: 0.6249 - val_cohen_kappa: 0.0868 - lr: 0.0010\n",
      "Epoch 9/20\n",
      "1841/1841 [==============================] - 496s 269ms/step - loss: 0.8352 - tp: 5026.0000 - fp: 4752.0000 - tn: 13990.0000 - fn: 5679.0000 - binary_acc: 0.6458 - precision: 0.5140 - recall: 0.4695 - f1_score: 0.4907 - roc_auc: 0.6544 - pr_auc: 0.5235 - cohen_kappa: 0.2200 - val_loss: 0.9174 - val_tp: 1933.0000 - val_fp: 1107.0000 - val_tn: 2086.0000 - val_fn: 2235.0000 - val_binary_acc: 0.5460 - val_precision: 0.6359 - val_recall: 0.4638 - val_f1_score: 0.5363 - val_roc_auc: 0.5797 - val_pr_auc: 0.6383 - val_cohen_kappa: 0.1124 - lr: 0.0010\n",
      "Epoch 10/20\n",
      "1841/1841 [==============================] - ETA: 0s - loss: 0.8420 - tp: 4863.0000 - fp: 4746.0000 - tn: 13996.0000 - fn: 5842.0000 - binary_acc: 0.6404 - precision: 0.5061 - recall: 0.4543 - f1_score: 0.4788 - roc_auc: 0.6457 - pr_auc: 0.5199 - cohen_kappa: 0.2056\n",
      "Epoch 10: ReduceLROnPlateau reducing learning rate to 0.00020000000949949026.\n",
      "1841/1841 [==============================] - 500s 271ms/step - loss: 0.8420 - tp: 4863.0000 - fp: 4746.0000 - tn: 13996.0000 - fn: 5842.0000 - binary_acc: 0.6404 - precision: 0.5061 - recall: 0.4543 - f1_score: 0.4788 - roc_auc: 0.6457 - pr_auc: 0.5199 - cohen_kappa: 0.2056 - val_loss: 1.8053 - val_tp: 160.0000 - val_fp: 44.0000 - val_tn: 3149.0000 - val_fn: 4008.0000 - val_binary_acc: 0.4495 - val_precision: 0.7843 - val_recall: 0.0384 - val_f1_score: 0.0732 - val_roc_auc: 0.5907 - val_pr_auc: 0.6473 - val_cohen_kappa: 0.0215 - lr: 0.0010\n",
      "Epoch 10: early stopping\n"
     ]
    }
   ],
   "source": [
    "history = model.fit(\n",
    "    trainset,\n",
    "    epochs=20,\n",
    "    validation_data=validationset,\n",
    "    callbacks=[early_stopping, reduce_lr_on_plateau],\n",
    ")"
   ]
  },
  {
   "cell_type": "code",
   "execution_count": 41,
   "id": "d4fda3ed",
   "metadata": {},
   "outputs": [
    {
     "data": {
      "image/png": "[encoded data removed]",
      "text/plain": [
       "<Figure size 1296x1080 with 4 Axes>"
      ]
     },
     "metadata": {},
     "output_type": "display_data"
    }
   ],
   "source": [
    "plot_metrics(history)"
   ]
  },
  {
   "cell_type": "code",
   "execution_count": 42,
   "id": "96ab3e5e",
   "metadata": {},
   "outputs": [
    {
     "name": "stdout",
     "output_type": "stream",
     "text": [
      "WARNING:tensorflow:Compiled the loaded model, but the compiled metrics have yet to be built. `model.compile_metrics` will be empty until you train or evaluate the model.\n"
     ]
    }
   ],
   "source": [
    "# model naming convention: {architecture}-{which-study-type?}-{num-parameters}.h5\n",
    "#\n",
    "# to load models:\n",
    "# model = tf.keras.models.load_model(\n",
    "#     '../models/vgg19_pt_imagenet-all-study-types-20024897.h5',\n",
    "#     custom_objects={'F1Score': F1Score}\n",
    "# )\n",
    "# vgg = tf.keras.models.load_model(\n",
    "#     '../models/vgg19_base.h5',\n",
    "# )\n",
    "model.save(\"../models/vgg19_pt_imagenet-all-study-types-20024897.h5\")\n",
    "vgg.save(\"../models/vgg19_base.h5\")"
   ]
  },
  {
   "cell_type": "code",
   "execution_count": 43,
   "id": "54ecc66f",
   "metadata": {},
   "outputs": [],
   "source": [
    "# fine-tuning: unfreeze the base model and train the entire model end-to-end with a low learning rate\n",
    "vgg.trainable = True\n",
    "\n",
    "model.compile(\n",
    "    optimizer=tf.keras.optimizers.Adam(\n",
    "        1e-5\n",
    "    ),  # we need small learning rate to avoid catastrophic forgetting\n",
    "    loss=tf.keras.losses.BinaryCrossentropy(),\n",
    "    metrics=METRICS,\n",
    ")"
   ]
  },
  {
   "cell_type": "code",
   "execution_count": 44,
   "id": "3e36539b",
   "metadata": {
    "scrolled": false
   },
   "outputs": [
    {
     "name": "stdout",
     "output_type": "stream",
     "text": [
      "Epoch 1/10\n",
      "1841/1841 [==============================] - 1219s 659ms/step - loss: 0.5054 - tp: 5594.0000 - fp: 1680.0000 - tn: 20255.0000 - fn: 9279.0000 - binary_acc: 0.7023 - precision: 0.7690 - recall: 0.3761 - f1_score: 0.5052 - roc_auc: 0.6584 - pr_auc: 0.6602 - cohen_kappa: 0.3264 - val_loss: 1.0813 - val_tp: 839.0000 - val_fp: 201.0000 - val_tn: 2992.0000 - val_fn: 3329.0000 - val_binary_acc: 0.5204 - val_precision: 0.8067 - val_recall: 0.2013 - val_f1_score: 0.3222 - val_roc_auc: 0.6328 - val_pr_auc: 0.6985 - val_cohen_kappa: 0.1241 - lr: 1.0000e-05\n",
      "Epoch 2/10\n",
      "1841/1841 [==============================] - 1174s 638ms/step - loss: 0.4467 - tp: 6148.0000 - fp: 1271.0000 - tn: 17471.0000 - fn: 4557.0000 - binary_acc: 0.8021 - precision: 0.8287 - recall: 0.5743 - f1_score: 0.6784 - roc_auc: 0.8448 - pr_auc: 0.8020 - cohen_kappa: 0.5422 - val_loss: 1.5587 - val_tp: 500.0000 - val_fp: 68.0000 - val_tn: 3125.0000 - val_fn: 3668.0000 - val_binary_acc: 0.4925 - val_precision: 0.8803 - val_recall: 0.1200 - val_f1_score: 0.2111 - val_roc_auc: 0.6420 - val_pr_auc: 0.7149 - val_cohen_kappa: 0.0872 - lr: 1.0000e-05\n",
      "Epoch 3/10\n",
      "1841/1841 [==============================] - 1192s 648ms/step - loss: 0.4220 - tp: 6561.0000 - fp: 1246.0000 - tn: 17496.0000 - fn: 4144.0000 - binary_acc: 0.8170 - precision: 0.8404 - recall: 0.6129 - f1_score: 0.7088 - roc_auc: 0.8618 - pr_auc: 0.8247 - cohen_kappa: 0.5801 - val_loss: 1.3210 - val_tp: 549.0000 - val_fp: 64.0000 - val_tn: 3129.0000 - val_fn: 3619.0000 - val_binary_acc: 0.4997 - val_precision: 0.8956 - val_recall: 0.1317 - val_f1_score: 0.2297 - val_roc_auc: 0.6546 - val_pr_auc: 0.7280 - val_cohen_kappa: 0.0988 - lr: 1.0000e-05\n",
      "Epoch 4/10\n",
      "1841/1841 [==============================] - 1170s 635ms/step - loss: 0.4038 - tp: 6851.0000 - fp: 1226.0000 - tn: 17516.0000 - fn: 3854.0000 - binary_acc: 0.8275 - precision: 0.8482 - recall: 0.6400 - f1_score: 0.7295 - roc_auc: 0.8739 - pr_auc: 0.8406 - cohen_kappa: 0.6065 - val_loss: 1.8730 - val_tp: 270.0000 - val_fp: 47.0000 - val_tn: 3146.0000 - val_fn: 3898.0000 - val_binary_acc: 0.4641 - val_precision: 0.8517 - val_recall: 0.0648 - val_f1_score: 0.1204 - val_roc_auc: 0.6214 - val_pr_auc: 0.6876 - val_cohen_kappa: 0.0439 - lr: 1.0000e-05\n",
      "Epoch 5/10\n",
      "1841/1841 [==============================] - 1169s 635ms/step - loss: 0.3848 - tp: 7048.0000 - fp: 1188.0000 - tn: 17554.0000 - fn: 3657.0000 - binary_acc: 0.8355 - precision: 0.8558 - recall: 0.6584 - f1_score: 0.7442 - roc_auc: 0.8855 - pr_auc: 0.8563 - cohen_kappa: 0.6260 - val_loss: 1.7473 - val_tp: 443.0000 - val_fp: 47.0000 - val_tn: 3146.0000 - val_fn: 3725.0000 - val_binary_acc: 0.4876 - val_precision: 0.9041 - val_recall: 0.1063 - val_f1_score: 0.1902 - val_roc_auc: 0.6484 - val_pr_auc: 0.7249 - val_cohen_kappa: 0.0807 - lr: 1.0000e-05\n",
      "Epoch 6/10\n",
      "1841/1841 [==============================] - 1171s 636ms/step - loss: 0.3732 - tp: 7226.0000 - fp: 1151.0000 - tn: 17591.0000 - fn: 3479.0000 - binary_acc: 0.8428 - precision: 0.8626 - recall: 0.6750 - f1_score: 0.7574 - roc_auc: 0.8932 - pr_auc: 0.8646 - cohen_kappa: 0.6436 - val_loss: 1.9555 - val_tp: 389.0000 - val_fp: 56.0000 - val_tn: 3137.0000 - val_fn: 3779.0000 - val_binary_acc: 0.4790 - val_precision: 0.8742 - val_recall: 0.0933 - val_f1_score: 0.1687 - val_roc_auc: 0.6401 - val_pr_auc: 0.7084 - val_cohen_kappa: 0.0667 - lr: 1.0000e-05\n",
      "Epoch 6: early stopping\n"
     ]
    }
   ],
   "source": [
    "history = model.fit(\n",
    "    trainset,\n",
    "    epochs=10,\n",
    "    validation_data=validationset,\n",
    "    callbacks=[early_stopping, reduce_lr_on_plateau],\n",
    ")"
   ]
  },
  {
   "cell_type": "code",
   "execution_count": 45,
   "id": "21b3e659",
   "metadata": {
    "scrolled": false
   },
   "outputs": [
    {
     "name": "stdout",
     "output_type": "stream",
     "text": [
      "200/200 [==============================] - 47s 234ms/step - loss: 0.6549 - tp: 822.0000 - fp: 73.0000 - tn: 1594.0000 - fn: 708.0000 - binary_acc: 0.7557 - precision: 0.9184 - recall: 0.5373 - f1_score: 0.6779 - roc_auc: 0.8150 - pr_auc: 0.8392 - cohen_kappa: 0.5020\n"
     ]
    }
   ],
   "source": [
    "# get the loss value & metrics values for the model in test mode\n",
    "evaluation_metrics = model.evaluate(testset, verbose=1)"
   ]
  },
  {
   "cell_type": "code",
   "execution_count": 46,
   "id": "3dde6265",
   "metadata": {},
   "outputs": [],
   "source": [
    "loss = evaluation_metrics.pop(0)"
   ]
  },
  {
   "cell_type": "code",
   "execution_count": 47,
   "id": "9fab3d36",
   "metadata": {},
   "outputs": [
    {
     "name": "stdout",
     "output_type": "stream",
     "text": [
      "EVALUATION ON TEST DATASET\n",
      "================================\n",
      "loss        : 0.6549336314201355\n",
      "tp          : 822.0\n",
      "fp          : 73.0\n",
      "tn          : 1594.0\n",
      "fn          : 708.0\n",
      "binary_acc  : 0.7557084560394287\n",
      "precision   : 0.9184357523918152\n",
      "recall      : 0.5372549295425415\n",
      "f1_score    : 0.6779381632804871\n",
      "roc_auc     : 0.8150356411933899\n",
      "pr_auc      : 0.8391942977905273\n",
      "cohen_kappa : 0.5020254254341125\n",
      "================================\n"
     ]
    }
   ],
   "source": [
    "print(\"EVALUATION ON TEST DATASET\")\n",
    "print(\"=\" * 32)\n",
    "print(f\"loss        : {loss}\")\n",
    "for metric, score in zip(METRICS, evaluation_metrics):\n",
    "\n",
    "    print(f\"{metric.name + ' ' * (12 - len(metric.name))}: {score}\")\n",
    "print(\"=\" * 32)"
   ]
  },
  {
   "cell_type": "code",
   "execution_count": 48,
   "id": "6af0810e",
   "metadata": {},
   "outputs": [
    {
     "name": "stdout",
     "output_type": "stream",
     "text": [
      "200/200 [==============================] - 41s 207ms/step\n"
     ]
    }
   ],
   "source": [
    "# get predictions for the test dataset\n",
    "preds = model.predict(testset, verbose=1)"
   ]
  },
  {
   "cell_type": "code",
   "execution_count": 49,
   "id": "a425738d",
   "metadata": {},
   "outputs": [],
   "source": [
    "temp_testset = ref_testset.copy()\n",
    "\n",
    "temp_testset[\"label\"] = temp_testset[\"label\"].map(int)"
   ]
  },
  {
   "cell_type": "code",
   "execution_count": 50,
   "id": "7846413c",
   "metadata": {},
   "outputs": [
    {
     "data": {
      "text/plain": [
       "0.502025418700545"
      ]
     },
     "execution_count": 50,
     "metadata": {},
     "output_type": "execute_result"
    }
   ],
   "source": [
    "cohen_kappa_score(\n",
    "    y1=temp_testset[\"label\"].values,\n",
    "    y2=np.vectorize(lambda x: 1 if x > 0.5 else 0)(preds.ravel()),\n",
    ")"
   ]
  },
  {
   "cell_type": "code",
   "execution_count": 51,
   "id": "54151ddb",
   "metadata": {},
   "outputs": [
    {
     "name": "stdout",
     "output_type": "stream",
     "text": [
      "              precision    recall  f1-score   support\n",
      "\n",
      "           0       0.69      0.96      0.80      1667\n",
      "           1       0.92      0.54      0.68      1530\n",
      "\n",
      "    accuracy                           0.76      3197\n",
      "   macro avg       0.81      0.75      0.74      3197\n",
      "weighted avg       0.80      0.76      0.74      3197\n",
      "\n"
     ]
    }
   ],
   "source": [
    "print(\n",
    "    classification_report(\n",
    "        temp_testset[\"label\"].values,\n",
    "        np.vectorize(lambda x: 1 if x > 0.5 else 0)(preds.ravel()),\n",
    "    )\n",
    ")"
   ]
  },
  {
   "cell_type": "code",
   "execution_count": 52,
   "id": "d1306b32",
   "metadata": {},
   "outputs": [],
   "source": [
    "temp_testset[\"prediction\"] = preds.ravel()"
   ]
  },
  {
   "cell_type": "code",
   "execution_count": 53,
   "id": "e7620629",
   "metadata": {},
   "outputs": [],
   "source": [
    "temp_testset = pd.DataFrame(\n",
    "    [*study_oriented_transformation(temp_testset)],\n",
    "    columns=[\"study\", \"label\", \"prediction\"],\n",
    ")"
   ]
  },
  {
   "cell_type": "code",
   "execution_count": 54,
   "id": "82ed6666",
   "metadata": {
    "scrolled": false
   },
   "outputs": [
    {
     "data": {
      "text/plain": [
       "0.5288388637708259"
      ]
     },
     "execution_count": 54,
     "metadata": {},
     "output_type": "execute_result"
    }
   ],
   "source": [
    "cohen_kappa_score(y1=temp_testset[\"label\"].values, y2=temp_testset[\"prediction\"].values)"
   ]
  },
  {
   "cell_type": "code",
   "execution_count": 55,
   "id": "816fae38",
   "metadata": {},
   "outputs": [
    {
     "name": "stdout",
     "output_type": "stream",
     "text": [
      "              precision    recall  f1-score   support\n",
      "\n",
      "           0       0.72      0.96      0.83       661\n",
      "           1       0.92      0.55      0.69       538\n",
      "\n",
      "    accuracy                           0.78      1199\n",
      "   macro avg       0.82      0.75      0.76      1199\n",
      "weighted avg       0.81      0.78      0.76      1199\n",
      "\n"
     ]
    }
   ],
   "source": [
    "print(\n",
    "    classification_report(\n",
    "        temp_testset[\"label\"].values,\n",
    "        temp_testset[\"prediction\"].values,\n",
    "    )\n",
    ")"
   ]
  },
  {
   "cell_type": "code",
   "execution_count": 56,
   "id": "30e547d7",
   "metadata": {},
   "outputs": [
    {
     "name": "stdout",
     "output_type": "stream",
     "text": [
      "WARNING:tensorflow:Compiled the loaded model, but the compiled metrics have yet to be built. `model.compile_metrics` will be empty until you train or evaluate the model.\n"
     ]
    }
   ],
   "source": [
    "# model naming convention: {architecture}-{which-study-type?}-{num-parameters}.h5\n",
    "#\n",
    "# to load models:\n",
    "# model = tf.keras.models.load_model(\n",
    "#     '../models/vgg19_pt_imagenet-all-study-types-20024897.h5',\n",
    "#     custom_objects={'F1Score': F1Score}\n",
    "# )\n",
    "# vgg = tf.keras.models.load_model(\n",
    "#     '../models/vgg19_base.h5',\n",
    "# )\n",
    "model.save(\"../models/vgg19_pt_imagenet-all-study-types-20024897.h5\")\n",
    "vgg.save(\"../models/vgg19_base.h5\")"
   ]
  },
  {
   "cell_type": "code",
   "execution_count": 57,
   "id": "9491c46f",
   "metadata": {},
   "outputs": [],
   "source": [
    "clean_up(model)\n",
    "clean_up(vgg)\n",
    "del temp_testset"
   ]
  }
 ],
 "metadata": {
  "kernelspec": {
   "display_name": "Python 3 (ipykernel)",
   "language": "python",
   "name": "python3"
  },
  "language_info": {
   "codemirror_mode": {
    "name": "ipython",
    "version": 3
   },
   "file_extension": ".py",
   "mimetype": "text/x-python",
   "name": "python",
   "nbconvert_exporter": "python",
   "pygments_lexer": "ipython3",
   "version": "3.8.10"
  }
 },
 "nbformat": 4,
 "nbformat_minor": 5
}
