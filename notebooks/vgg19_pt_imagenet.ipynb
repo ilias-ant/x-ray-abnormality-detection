{
 "cells": [
  {
   "cell_type": "markdown",
   "id": "7a899787",
   "metadata": {},
   "source": [
    "## X-Ray Abnormality Detection | VGG19, pretrained on ImageNet"
   ]
  },
  {
   "cell_type": "markdown",
   "id": "c7764e65",
   "metadata": {},
   "source": [
    "> **Antonopoulos Ilias** ( *p3352004* ) <br />\n",
    "> **Ndoja Silva** ( *p3352017* ) <br />\n",
    "> **MSc in Data Science, AUEB**"
   ]
  },
  {
   "cell_type": "markdown",
   "id": "aa71e65e",
   "metadata": {},
   "source": [
    "## Table of Contents\n",
    "\n",
    "- [Data Loading](#Data-Loading)\n",
    " * [Create a tensorflow input pipeline for the training data](#Create-a-tensorflow-input-pipeline-for-the-training-data)\n",
    "- [VGG19 architecture, pretrained on ImageNet](#VGG19-architecture,-pretrained-on-ImageNet)"
   ]
  },
  {
   "cell_type": "code",
   "execution_count": 1,
   "id": "99fc7dec",
   "metadata": {},
   "outputs": [],
   "source": [
    "import os\n",
    "import pathlib\n",
    "import random\n",
    "import re\n",
    "from glob import glob\n",
    "\n",
    "import matplotlib.pyplot as plt\n",
    "import numpy as np\n",
    "import pandas as pd\n",
    "import tensorflow as tf\n",
    "import tensorflow_addons as tfa\n",
    "from sklearn.metrics import cohen_kappa_score\n",
    "from sklearn.utils import shuffle\n",
    "\n",
    "from utils import (\n",
    "    clean_up,\n",
    "    F1Score,\n",
    "    inspect_df,\n",
    "    plot_metrics,\n",
    ")\n",
    "\n",
    "\n",
    "pd.set_option(\"max_colwidth\", None)\n",
    "plt.style.use(\"dark_background\")"
   ]
  },
  {
   "cell_type": "code",
   "execution_count": 2,
   "id": "6d6c351a",
   "metadata": {},
   "outputs": [
    {
     "name": "stdout",
     "output_type": "stream",
     "text": [
      "2.8.0\n"
     ]
    }
   ],
   "source": [
    "print(tf.__version__)"
   ]
  },
  {
   "cell_type": "code",
   "execution_count": 3,
   "id": "1fa8b39b",
   "metadata": {},
   "outputs": [
    {
     "name": "stdout",
     "output_type": "stream",
     "text": [
      "Num GPUs Available:  1\n"
     ]
    },
    {
     "name": "stderr",
     "output_type": "stream",
     "text": [
      "2022-04-03 11:21:59.786347: I tensorflow/stream_executor/cuda/cuda_gpu_executor.cc:936] successful NUMA node read from SysFS had negative value (-1), but there must be at least one NUMA node, so returning NUMA node zero\n",
      "2022-04-03 11:21:59.813212: I tensorflow/stream_executor/cuda/cuda_gpu_executor.cc:936] successful NUMA node read from SysFS had negative value (-1), but there must be at least one NUMA node, so returning NUMA node zero\n",
      "2022-04-03 11:21:59.813371: I tensorflow/stream_executor/cuda/cuda_gpu_executor.cc:936] successful NUMA node read from SysFS had negative value (-1), but there must be at least one NUMA node, so returning NUMA node zero\n"
     ]
    }
   ],
   "source": [
    "print(\"Num GPUs Available: \", len(tf.config.list_physical_devices(\"GPU\")))"
   ]
  },
  {
   "cell_type": "code",
   "execution_count": 4,
   "id": "8d64d949",
   "metadata": {},
   "outputs": [],
   "source": [
    "gpus = tf.config.experimental.list_physical_devices(\"GPU\")\n",
    "\n",
    "try:\n",
    "    tf.config.experimental.set_memory_growth(gpus[0], True)\n",
    "except IndexError:\n",
    "    print(\"Cannot memory-restrict the GPU, if no GPU exists in system. Ignore...\")\n",
    "    pass"
   ]
  },
  {
   "cell_type": "code",
   "execution_count": 5,
   "id": "a6659fde",
   "metadata": {},
   "outputs": [],
   "source": [
    "SEED = 99910123\n",
    "\n",
    "os.environ[\"PYTHONHASHSEED\"] = str(SEED)\n",
    "random.seed(SEED)\n",
    "tf.random.set_seed(SEED)\n",
    "np.random.seed(SEED)"
   ]
  },
  {
   "cell_type": "markdown",
   "id": "b5346f99",
   "metadata": {},
   "source": [
    "### Data Loading"
   ]
  },
  {
   "cell_type": "code",
   "execution_count": 6,
   "id": "5819c5d3",
   "metadata": {},
   "outputs": [],
   "source": [
    "DATASET_DIR = \"../data/MURA-v1.1/\""
   ]
  },
  {
   "cell_type": "code",
   "execution_count": 7,
   "id": "67d931da",
   "metadata": {},
   "outputs": [
    {
     "data": {
      "text/plain": [
       "['../data/MURA-v1.1/train/XR_WRIST/patient08092/study1_negative/image1.png',\n",
       " '../data/MURA-v1.1/train/XR_FINGER/patient01064/study1_positive/image1.png',\n",
       " '../data/MURA-v1.1/valid/XR_ELBOW/patient11831/study1_positive/image1.png',\n",
       " '../data/MURA-v1.1/train/XR_SHOULDER/patient00442/study1_positive/image1.png',\n",
       " '../data/MURA-v1.1/train/XR_ELBOW/patient06289/study1_negative/image3.png',\n",
       " '../data/MURA-v1.1/train/XR_WRIST/patient08562/study1_negative/image2.png',\n",
       " '../data/MURA-v1.1/train/XR_FINGER/patient04280/study1_negative/image3.png',\n",
       " '../data/MURA-v1.1/train/XR_WRIST/patient07018/study1_positive/image1.png',\n",
       " '../data/MURA-v1.1/train/XR_ELBOW/patient06000/study1_negative/image1.png',\n",
       " '../data/MURA-v1.1/train/XR_SHOULDER/patient00497/study2_negative/image4.png']"
      ]
     },
     "execution_count": 7,
     "metadata": {},
     "output_type": "execute_result"
    }
   ],
   "source": [
    "random.choices(glob(os.path.join(DATASET_DIR, \"*\", \"*\", \"*\", \"*\", \"*.png\")), k=10)"
   ]
  },
  {
   "cell_type": "markdown",
   "id": "3e68ad35",
   "metadata": {},
   "source": [
    "So, the data structure is the following:\n",
    "\n",
    "```\n",
    "\n",
    "└─train {data subset}\n",
    "│   └───XR_ELBOW {study type}\n",
    "│       │  └───patient00011 {patient}\n",
    "│       │         └───study1_negative {study with label}\n",
    "│       │               └───image1.png {view}\n",
    "│       │               └───image2.png \n",
    "│       │               └───image3.png \n",
    "                        └───...\n",
    "   ...\n",
    "   \n",
    "\n",
    "└─valid {data subset}\n",
    "│   └───XR_HUMERUS {study type}\n",
    "│       │  └───patient11216 {patient}\n",
    "│       │         └───study1_negative {study with label}\n",
    "│       │               └───image1.png {view}\n",
    "│       │               └───image2.png \n",
    "                        └───...\n",
    "```"
   ]
  },
  {
   "cell_type": "code",
   "execution_count": 8,
   "id": "0e99c8e4",
   "metadata": {},
   "outputs": [
    {
     "name": "stdout",
     "output_type": "stream",
     "text": [
      "Total PNG images found in dir <../data/MURA-v1.1/>: 40009\n"
     ]
    }
   ],
   "source": [
    "image_count = len(list(pathlib.Path(DATASET_DIR).glob(\"*/*/*/*/*.png\")))\n",
    "\n",
    "print(f\"Total PNG images found in dir <{DATASET_DIR}>: {image_count}\")"
   ]
  },
  {
   "cell_type": "markdown",
   "id": "e3cc7391",
   "metadata": {},
   "source": [
    "We will start by creating a tabular form of the training data (with no actual image files), in order to quickly analyze them. A proper data loader (of the actual image files) will be implemented after that, in a tensorflow-friendly manner."
   ]
  },
  {
   "cell_type": "code",
   "execution_count": 9,
   "id": "6ee568f1",
   "metadata": {
    "scrolled": false
   },
   "outputs": [
    {
     "name": "stdout",
     "output_type": "stream",
     "text": [
      "shape: (36808, 1)\n"
     ]
    },
    {
     "data": {
      "text/html": [
       "<div>\n",
       "<style scoped>\n",
       "    .dataframe tbody tr th:only-of-type {\n",
       "        vertical-align: middle;\n",
       "    }\n",
       "\n",
       "    .dataframe tbody tr th {\n",
       "        vertical-align: top;\n",
       "    }\n",
       "\n",
       "    .dataframe thead th {\n",
       "        text-align: right;\n",
       "    }\n",
       "</style>\n",
       "<table border=\"1\" class=\"dataframe\">\n",
       "  <thead>\n",
       "    <tr style=\"text-align: right;\">\n",
       "      <th></th>\n",
       "      <th>image_path</th>\n",
       "    </tr>\n",
       "  </thead>\n",
       "  <tbody>\n",
       "    <tr>\n",
       "      <th>0</th>\n",
       "      <td>MURA-v1.1/train/XR_SHOULDER/patient00001/study1_positive/image1.png</td>\n",
       "    </tr>\n",
       "    <tr>\n",
       "      <th>1</th>\n",
       "      <td>MURA-v1.1/train/XR_SHOULDER/patient00001/study1_positive/image2.png</td>\n",
       "    </tr>\n",
       "    <tr>\n",
       "      <th>2</th>\n",
       "      <td>MURA-v1.1/train/XR_SHOULDER/patient00001/study1_positive/image3.png</td>\n",
       "    </tr>\n",
       "    <tr>\n",
       "      <th>3</th>\n",
       "      <td>MURA-v1.1/train/XR_SHOULDER/patient00002/study1_positive/image1.png</td>\n",
       "    </tr>\n",
       "    <tr>\n",
       "      <th>4</th>\n",
       "      <td>MURA-v1.1/train/XR_SHOULDER/patient00002/study1_positive/image2.png</td>\n",
       "    </tr>\n",
       "  </tbody>\n",
       "</table>\n",
       "</div>"
      ],
      "text/plain": [
       "                                                            image_path\n",
       "0  MURA-v1.1/train/XR_SHOULDER/patient00001/study1_positive/image1.png\n",
       "1  MURA-v1.1/train/XR_SHOULDER/patient00001/study1_positive/image2.png\n",
       "2  MURA-v1.1/train/XR_SHOULDER/patient00001/study1_positive/image3.png\n",
       "3  MURA-v1.1/train/XR_SHOULDER/patient00002/study1_positive/image1.png\n",
       "4  MURA-v1.1/train/XR_SHOULDER/patient00002/study1_positive/image2.png"
      ]
     },
     "execution_count": 9,
     "metadata": {},
     "output_type": "execute_result"
    }
   ],
   "source": [
    "train_image_paths = pd.read_csv(\n",
    "    os.path.join(DATASET_DIR, \"train_image_paths.csv\"),\n",
    "    names=[\"image_path\"],\n",
    "    header=None,\n",
    "    index_col=False,\n",
    ")\n",
    "\n",
    "inspect_df(train_image_paths)"
   ]
  },
  {
   "cell_type": "code",
   "execution_count": 10,
   "id": "60a69725",
   "metadata": {},
   "outputs": [],
   "source": [
    "train_image_paths[\"image_path\"] = train_image_paths[\"image_path\"].map(\n",
    "    lambda x: os.path.join(\"../data/\", x)\n",
    ")\n",
    "train_image_paths[\"study_type\"] = train_image_paths[\"image_path\"].map(\n",
    "    lambda x: x.split(\"/\")[4]\n",
    ")\n",
    "train_image_paths[\"patient\"] = train_image_paths[\"image_path\"].map(\n",
    "    lambda x: x.split(\"/\")[5]\n",
    ")\n",
    "train_image_paths[\"study\"] = train_image_paths[\"image_path\"].map(\n",
    "    lambda x: x.split(\"/\")[6]\n",
    ")\n",
    "train_image_paths[\"study_path\"] = train_image_paths[\"image_path\"].map(\n",
    "    lambda x: re.sub(r\"image\\d+.png\", \"\", x)\n",
    ")"
   ]
  },
  {
   "cell_type": "code",
   "execution_count": 11,
   "id": "d073e76e",
   "metadata": {},
   "outputs": [
    {
     "name": "stdout",
     "output_type": "stream",
     "text": [
      "shape: (36808, 5)\n"
     ]
    },
    {
     "data": {
      "text/html": [
       "<div>\n",
       "<style scoped>\n",
       "    .dataframe tbody tr th:only-of-type {\n",
       "        vertical-align: middle;\n",
       "    }\n",
       "\n",
       "    .dataframe tbody tr th {\n",
       "        vertical-align: top;\n",
       "    }\n",
       "\n",
       "    .dataframe thead th {\n",
       "        text-align: right;\n",
       "    }\n",
       "</style>\n",
       "<table border=\"1\" class=\"dataframe\">\n",
       "  <thead>\n",
       "    <tr style=\"text-align: right;\">\n",
       "      <th></th>\n",
       "      <th>image_path</th>\n",
       "      <th>study_type</th>\n",
       "      <th>patient</th>\n",
       "      <th>study</th>\n",
       "      <th>study_path</th>\n",
       "    </tr>\n",
       "  </thead>\n",
       "  <tbody>\n",
       "    <tr>\n",
       "      <th>0</th>\n",
       "      <td>../data/MURA-v1.1/train/XR_SHOULDER/patient00001/study1_positive/image1.png</td>\n",
       "      <td>XR_SHOULDER</td>\n",
       "      <td>patient00001</td>\n",
       "      <td>study1_positive</td>\n",
       "      <td>../data/MURA-v1.1/train/XR_SHOULDER/patient00001/study1_positive/</td>\n",
       "    </tr>\n",
       "    <tr>\n",
       "      <th>1</th>\n",
       "      <td>../data/MURA-v1.1/train/XR_SHOULDER/patient00001/study1_positive/image2.png</td>\n",
       "      <td>XR_SHOULDER</td>\n",
       "      <td>patient00001</td>\n",
       "      <td>study1_positive</td>\n",
       "      <td>../data/MURA-v1.1/train/XR_SHOULDER/patient00001/study1_positive/</td>\n",
       "    </tr>\n",
       "    <tr>\n",
       "      <th>2</th>\n",
       "      <td>../data/MURA-v1.1/train/XR_SHOULDER/patient00001/study1_positive/image3.png</td>\n",
       "      <td>XR_SHOULDER</td>\n",
       "      <td>patient00001</td>\n",
       "      <td>study1_positive</td>\n",
       "      <td>../data/MURA-v1.1/train/XR_SHOULDER/patient00001/study1_positive/</td>\n",
       "    </tr>\n",
       "    <tr>\n",
       "      <th>3</th>\n",
       "      <td>../data/MURA-v1.1/train/XR_SHOULDER/patient00002/study1_positive/image1.png</td>\n",
       "      <td>XR_SHOULDER</td>\n",
       "      <td>patient00002</td>\n",
       "      <td>study1_positive</td>\n",
       "      <td>../data/MURA-v1.1/train/XR_SHOULDER/patient00002/study1_positive/</td>\n",
       "    </tr>\n",
       "    <tr>\n",
       "      <th>4</th>\n",
       "      <td>../data/MURA-v1.1/train/XR_SHOULDER/patient00002/study1_positive/image2.png</td>\n",
       "      <td>XR_SHOULDER</td>\n",
       "      <td>patient00002</td>\n",
       "      <td>study1_positive</td>\n",
       "      <td>../data/MURA-v1.1/train/XR_SHOULDER/patient00002/study1_positive/</td>\n",
       "    </tr>\n",
       "  </tbody>\n",
       "</table>\n",
       "</div>"
      ],
      "text/plain": [
       "                                                                    image_path  \\\n",
       "0  ../data/MURA-v1.1/train/XR_SHOULDER/patient00001/study1_positive/image1.png   \n",
       "1  ../data/MURA-v1.1/train/XR_SHOULDER/patient00001/study1_positive/image2.png   \n",
       "2  ../data/MURA-v1.1/train/XR_SHOULDER/patient00001/study1_positive/image3.png   \n",
       "3  ../data/MURA-v1.1/train/XR_SHOULDER/patient00002/study1_positive/image1.png   \n",
       "4  ../data/MURA-v1.1/train/XR_SHOULDER/patient00002/study1_positive/image2.png   \n",
       "\n",
       "    study_type       patient            study  \\\n",
       "0  XR_SHOULDER  patient00001  study1_positive   \n",
       "1  XR_SHOULDER  patient00001  study1_positive   \n",
       "2  XR_SHOULDER  patient00001  study1_positive   \n",
       "3  XR_SHOULDER  patient00002  study1_positive   \n",
       "4  XR_SHOULDER  patient00002  study1_positive   \n",
       "\n",
       "                                                          study_path  \n",
       "0  ../data/MURA-v1.1/train/XR_SHOULDER/patient00001/study1_positive/  \n",
       "1  ../data/MURA-v1.1/train/XR_SHOULDER/patient00001/study1_positive/  \n",
       "2  ../data/MURA-v1.1/train/XR_SHOULDER/patient00001/study1_positive/  \n",
       "3  ../data/MURA-v1.1/train/XR_SHOULDER/patient00002/study1_positive/  \n",
       "4  ../data/MURA-v1.1/train/XR_SHOULDER/patient00002/study1_positive/  "
      ]
     },
     "execution_count": 11,
     "metadata": {},
     "output_type": "execute_result"
    }
   ],
   "source": [
    "inspect_df(train_image_paths)"
   ]
  },
  {
   "cell_type": "code",
   "execution_count": 12,
   "id": "59cf2544",
   "metadata": {
    "scrolled": false
   },
   "outputs": [
    {
     "name": "stdout",
     "output_type": "stream",
     "text": [
      "shape: (13457, 2)\n"
     ]
    },
    {
     "data": {
      "text/html": [
       "<div>\n",
       "<style scoped>\n",
       "    .dataframe tbody tr th:only-of-type {\n",
       "        vertical-align: middle;\n",
       "    }\n",
       "\n",
       "    .dataframe tbody tr th {\n",
       "        vertical-align: top;\n",
       "    }\n",
       "\n",
       "    .dataframe thead th {\n",
       "        text-align: right;\n",
       "    }\n",
       "</style>\n",
       "<table border=\"1\" class=\"dataframe\">\n",
       "  <thead>\n",
       "    <tr style=\"text-align: right;\">\n",
       "      <th></th>\n",
       "      <th>study_path</th>\n",
       "      <th>label</th>\n",
       "    </tr>\n",
       "  </thead>\n",
       "  <tbody>\n",
       "    <tr>\n",
       "      <th>0</th>\n",
       "      <td>MURA-v1.1/train/XR_SHOULDER/patient00001/study1_positive/</td>\n",
       "      <td>1</td>\n",
       "    </tr>\n",
       "    <tr>\n",
       "      <th>1</th>\n",
       "      <td>MURA-v1.1/train/XR_SHOULDER/patient00002/study1_positive/</td>\n",
       "      <td>1</td>\n",
       "    </tr>\n",
       "    <tr>\n",
       "      <th>2</th>\n",
       "      <td>MURA-v1.1/train/XR_SHOULDER/patient00003/study1_positive/</td>\n",
       "      <td>1</td>\n",
       "    </tr>\n",
       "    <tr>\n",
       "      <th>3</th>\n",
       "      <td>MURA-v1.1/train/XR_SHOULDER/patient00004/study1_positive/</td>\n",
       "      <td>1</td>\n",
       "    </tr>\n",
       "    <tr>\n",
       "      <th>4</th>\n",
       "      <td>MURA-v1.1/train/XR_SHOULDER/patient00005/study1_positive/</td>\n",
       "      <td>1</td>\n",
       "    </tr>\n",
       "  </tbody>\n",
       "</table>\n",
       "</div>"
      ],
      "text/plain": [
       "                                                  study_path  label\n",
       "0  MURA-v1.1/train/XR_SHOULDER/patient00001/study1_positive/      1\n",
       "1  MURA-v1.1/train/XR_SHOULDER/patient00002/study1_positive/      1\n",
       "2  MURA-v1.1/train/XR_SHOULDER/patient00003/study1_positive/      1\n",
       "3  MURA-v1.1/train/XR_SHOULDER/patient00004/study1_positive/      1\n",
       "4  MURA-v1.1/train/XR_SHOULDER/patient00005/study1_positive/      1"
      ]
     },
     "execution_count": 12,
     "metadata": {},
     "output_type": "execute_result"
    }
   ],
   "source": [
    "train_labeled_studies = pd.read_csv(\n",
    "    os.path.join(DATASET_DIR, \"train_labeled_studies.csv\"),\n",
    "    names=[\"study_path\", \"label\"],\n",
    "    header=None,\n",
    "    index_col=False,\n",
    ")\n",
    "\n",
    "inspect_df(train_labeled_studies)"
   ]
  },
  {
   "cell_type": "code",
   "execution_count": 13,
   "id": "df9a7f5d",
   "metadata": {},
   "outputs": [],
   "source": [
    "train_labeled_studies[\"study_path\"] = train_labeled_studies[\"study_path\"].map(\n",
    "    lambda x: os.path.join(\"../data/\", x)\n",
    ")\n",
    "train_labeled_studies[\"label\"] = train_labeled_studies[\"label\"].map(str)"
   ]
  },
  {
   "cell_type": "code",
   "execution_count": 14,
   "id": "408b169b",
   "metadata": {
    "scrolled": false
   },
   "outputs": [
    {
     "name": "stdout",
     "output_type": "stream",
     "text": [
      "shape: (13457, 2)\n"
     ]
    },
    {
     "data": {
      "text/html": [
       "<div>\n",
       "<style scoped>\n",
       "    .dataframe tbody tr th:only-of-type {\n",
       "        vertical-align: middle;\n",
       "    }\n",
       "\n",
       "    .dataframe tbody tr th {\n",
       "        vertical-align: top;\n",
       "    }\n",
       "\n",
       "    .dataframe thead th {\n",
       "        text-align: right;\n",
       "    }\n",
       "</style>\n",
       "<table border=\"1\" class=\"dataframe\">\n",
       "  <thead>\n",
       "    <tr style=\"text-align: right;\">\n",
       "      <th></th>\n",
       "      <th>study_path</th>\n",
       "      <th>label</th>\n",
       "    </tr>\n",
       "  </thead>\n",
       "  <tbody>\n",
       "    <tr>\n",
       "      <th>0</th>\n",
       "      <td>../data/MURA-v1.1/train/XR_SHOULDER/patient00001/study1_positive/</td>\n",
       "      <td>1</td>\n",
       "    </tr>\n",
       "    <tr>\n",
       "      <th>1</th>\n",
       "      <td>../data/MURA-v1.1/train/XR_SHOULDER/patient00002/study1_positive/</td>\n",
       "      <td>1</td>\n",
       "    </tr>\n",
       "    <tr>\n",
       "      <th>2</th>\n",
       "      <td>../data/MURA-v1.1/train/XR_SHOULDER/patient00003/study1_positive/</td>\n",
       "      <td>1</td>\n",
       "    </tr>\n",
       "    <tr>\n",
       "      <th>3</th>\n",
       "      <td>../data/MURA-v1.1/train/XR_SHOULDER/patient00004/study1_positive/</td>\n",
       "      <td>1</td>\n",
       "    </tr>\n",
       "    <tr>\n",
       "      <th>4</th>\n",
       "      <td>../data/MURA-v1.1/train/XR_SHOULDER/patient00005/study1_positive/</td>\n",
       "      <td>1</td>\n",
       "    </tr>\n",
       "  </tbody>\n",
       "</table>\n",
       "</div>"
      ],
      "text/plain": [
       "                                                          study_path label\n",
       "0  ../data/MURA-v1.1/train/XR_SHOULDER/patient00001/study1_positive/     1\n",
       "1  ../data/MURA-v1.1/train/XR_SHOULDER/patient00002/study1_positive/     1\n",
       "2  ../data/MURA-v1.1/train/XR_SHOULDER/patient00003/study1_positive/     1\n",
       "3  ../data/MURA-v1.1/train/XR_SHOULDER/patient00004/study1_positive/     1\n",
       "4  ../data/MURA-v1.1/train/XR_SHOULDER/patient00005/study1_positive/     1"
      ]
     },
     "execution_count": 14,
     "metadata": {},
     "output_type": "execute_result"
    }
   ],
   "source": [
    "inspect_df(train_labeled_studies)"
   ]
  },
  {
   "cell_type": "code",
   "execution_count": 15,
   "id": "98c49b41",
   "metadata": {},
   "outputs": [
    {
     "name": "stdout",
     "output_type": "stream",
     "text": [
      "shape: (36808, 6)\n"
     ]
    },
    {
     "data": {
      "text/html": [
       "<div>\n",
       "<style scoped>\n",
       "    .dataframe tbody tr th:only-of-type {\n",
       "        vertical-align: middle;\n",
       "    }\n",
       "\n",
       "    .dataframe tbody tr th {\n",
       "        vertical-align: top;\n",
       "    }\n",
       "\n",
       "    .dataframe thead th {\n",
       "        text-align: right;\n",
       "    }\n",
       "</style>\n",
       "<table border=\"1\" class=\"dataframe\">\n",
       "  <thead>\n",
       "    <tr style=\"text-align: right;\">\n",
       "      <th></th>\n",
       "      <th>image_path</th>\n",
       "      <th>study_type</th>\n",
       "      <th>patient</th>\n",
       "      <th>study</th>\n",
       "      <th>study_path</th>\n",
       "      <th>label</th>\n",
       "    </tr>\n",
       "  </thead>\n",
       "  <tbody>\n",
       "    <tr>\n",
       "      <th>0</th>\n",
       "      <td>../data/MURA-v1.1/train/XR_SHOULDER/patient00001/study1_positive/image1.png</td>\n",
       "      <td>XR_SHOULDER</td>\n",
       "      <td>patient00001</td>\n",
       "      <td>study1_positive</td>\n",
       "      <td>../data/MURA-v1.1/train/XR_SHOULDER/patient00001/study1_positive/</td>\n",
       "      <td>1</td>\n",
       "    </tr>\n",
       "    <tr>\n",
       "      <th>1</th>\n",
       "      <td>../data/MURA-v1.1/train/XR_SHOULDER/patient00001/study1_positive/image2.png</td>\n",
       "      <td>XR_SHOULDER</td>\n",
       "      <td>patient00001</td>\n",
       "      <td>study1_positive</td>\n",
       "      <td>../data/MURA-v1.1/train/XR_SHOULDER/patient00001/study1_positive/</td>\n",
       "      <td>1</td>\n",
       "    </tr>\n",
       "    <tr>\n",
       "      <th>2</th>\n",
       "      <td>../data/MURA-v1.1/train/XR_SHOULDER/patient00001/study1_positive/image3.png</td>\n",
       "      <td>XR_SHOULDER</td>\n",
       "      <td>patient00001</td>\n",
       "      <td>study1_positive</td>\n",
       "      <td>../data/MURA-v1.1/train/XR_SHOULDER/patient00001/study1_positive/</td>\n",
       "      <td>1</td>\n",
       "    </tr>\n",
       "    <tr>\n",
       "      <th>3</th>\n",
       "      <td>../data/MURA-v1.1/train/XR_SHOULDER/patient00002/study1_positive/image1.png</td>\n",
       "      <td>XR_SHOULDER</td>\n",
       "      <td>patient00002</td>\n",
       "      <td>study1_positive</td>\n",
       "      <td>../data/MURA-v1.1/train/XR_SHOULDER/patient00002/study1_positive/</td>\n",
       "      <td>1</td>\n",
       "    </tr>\n",
       "    <tr>\n",
       "      <th>4</th>\n",
       "      <td>../data/MURA-v1.1/train/XR_SHOULDER/patient00002/study1_positive/image2.png</td>\n",
       "      <td>XR_SHOULDER</td>\n",
       "      <td>patient00002</td>\n",
       "      <td>study1_positive</td>\n",
       "      <td>../data/MURA-v1.1/train/XR_SHOULDER/patient00002/study1_positive/</td>\n",
       "      <td>1</td>\n",
       "    </tr>\n",
       "  </tbody>\n",
       "</table>\n",
       "</div>"
      ],
      "text/plain": [
       "                                                                    image_path  \\\n",
       "0  ../data/MURA-v1.1/train/XR_SHOULDER/patient00001/study1_positive/image1.png   \n",
       "1  ../data/MURA-v1.1/train/XR_SHOULDER/patient00001/study1_positive/image2.png   \n",
       "2  ../data/MURA-v1.1/train/XR_SHOULDER/patient00001/study1_positive/image3.png   \n",
       "3  ../data/MURA-v1.1/train/XR_SHOULDER/patient00002/study1_positive/image1.png   \n",
       "4  ../data/MURA-v1.1/train/XR_SHOULDER/patient00002/study1_positive/image2.png   \n",
       "\n",
       "    study_type       patient            study  \\\n",
       "0  XR_SHOULDER  patient00001  study1_positive   \n",
       "1  XR_SHOULDER  patient00001  study1_positive   \n",
       "2  XR_SHOULDER  patient00001  study1_positive   \n",
       "3  XR_SHOULDER  patient00002  study1_positive   \n",
       "4  XR_SHOULDER  patient00002  study1_positive   \n",
       "\n",
       "                                                          study_path label  \n",
       "0  ../data/MURA-v1.1/train/XR_SHOULDER/patient00001/study1_positive/     1  \n",
       "1  ../data/MURA-v1.1/train/XR_SHOULDER/patient00001/study1_positive/     1  \n",
       "2  ../data/MURA-v1.1/train/XR_SHOULDER/patient00001/study1_positive/     1  \n",
       "3  ../data/MURA-v1.1/train/XR_SHOULDER/patient00002/study1_positive/     1  \n",
       "4  ../data/MURA-v1.1/train/XR_SHOULDER/patient00002/study1_positive/     1  "
      ]
     },
     "execution_count": 15,
     "metadata": {},
     "output_type": "execute_result"
    }
   ],
   "source": [
    "ref_trainset = pd.merge(\n",
    "    train_image_paths, train_labeled_studies, how=\"inner\", on=\"study_path\"\n",
    ")\n",
    "\n",
    "inspect_df(ref_trainset)"
   ]
  },
  {
   "cell_type": "markdown",
   "id": "41eafe23",
   "metadata": {},
   "source": [
    "#### Create a tensorflow input pipeline for the training data"
   ]
  },
  {
   "cell_type": "code",
   "execution_count": 16,
   "id": "19f477b2",
   "metadata": {},
   "outputs": [],
   "source": [
    "IMAGE_WIDTH = 224\n",
    "IMAGE_HEIGHT = 224"
   ]
  },
  {
   "cell_type": "markdown",
   "id": "2b1f8382",
   "metadata": {},
   "source": [
    "Since image directory follows a specific ontological structure (7 upper extremities aka study types) we will shuffle the training dataset beforehand in order to ensure that the validation set will be representable of all study types. \n",
    "\n",
    "This is due to the fact that tf.keras `tf.keras.preprocessing.image.ImageDataGenerator` first performs the train-val split and then shuffles per epoch by default."
   ]
  },
  {
   "cell_type": "code",
   "execution_count": 17,
   "id": "00df8aba",
   "metadata": {},
   "outputs": [],
   "source": [
    "ref_trainset = shuffle(ref_trainset, random_state=SEED)"
   ]
  },
  {
   "cell_type": "code",
   "execution_count": 18,
   "id": "c8637a1c",
   "metadata": {},
   "outputs": [],
   "source": [
    "training = tf.keras.preprocessing.image.ImageDataGenerator(\n",
    "    rotation_range=30,\n",
    "    horizontal_flip=True,\n",
    "    fill_mode=\"constant\",\n",
    "    cval=0.0,\n",
    "    validation_split=0.2,\n",
    "    preprocessing_function=tf.keras.applications.vgg19.preprocess_input,\n",
    ")"
   ]
  },
  {
   "cell_type": "code",
   "execution_count": 19,
   "id": "21f38eee",
   "metadata": {},
   "outputs": [
    {
     "name": "stdout",
     "output_type": "stream",
     "text": [
      "Found 29447 validated image filenames belonging to 2 classes.\n"
     ]
    }
   ],
   "source": [
    "trainset = training.flow_from_dataframe(\n",
    "    dataframe=ref_trainset,\n",
    "    x_col=\"image_path\",\n",
    "    y_col=\"label\",\n",
    "    target_size=(IMAGE_WIDTH, IMAGE_HEIGHT),\n",
    "    class_mode=\"binary\",\n",
    "    batch_size=16,\n",
    "    seed=SEED,\n",
    "    shuffle=True,\n",
    "    subset=\"training\",\n",
    ")"
   ]
  },
  {
   "cell_type": "code",
   "execution_count": 20,
   "id": "3d3baff1",
   "metadata": {},
   "outputs": [
    {
     "name": "stdout",
     "output_type": "stream",
     "text": [
      "Found 7361 validated image filenames belonging to 2 classes.\n"
     ]
    }
   ],
   "source": [
    "validationset = training.flow_from_dataframe(\n",
    "    dataframe=ref_trainset,\n",
    "    x_col=\"image_path\",\n",
    "    y_col=\"label\",\n",
    "    target_size=(IMAGE_WIDTH, IMAGE_HEIGHT),\n",
    "    class_mode=\"binary\",\n",
    "    batch_size=16,\n",
    "    seed=SEED,\n",
    "    shuffle=False,\n",
    "    subset=\"validation\",\n",
    ")"
   ]
  },
  {
   "cell_type": "markdown",
   "id": "92e2665b",
   "metadata": {},
   "source": [
    "### VGG19 architecture, pretrained on ImageNet"
   ]
  },
  {
   "cell_type": "code",
   "execution_count": 21,
   "id": "4e3a6125",
   "metadata": {},
   "outputs": [
    {
     "name": "stderr",
     "output_type": "stream",
     "text": [
      "2022-04-03 11:22:04.263427: I tensorflow/core/platform/cpu_feature_guard.cc:151] This TensorFlow binary is optimized with oneAPI Deep Neural Network Library (oneDNN) to use the following CPU instructions in performance-critical operations:  AVX2 FMA\n",
      "To enable them in other operations, rebuild TensorFlow with the appropriate compiler flags.\n",
      "2022-04-03 11:22:04.264292: I tensorflow/stream_executor/cuda/cuda_gpu_executor.cc:936] successful NUMA node read from SysFS had negative value (-1), but there must be at least one NUMA node, so returning NUMA node zero\n",
      "2022-04-03 11:22:04.264486: I tensorflow/stream_executor/cuda/cuda_gpu_executor.cc:936] successful NUMA node read from SysFS had negative value (-1), but there must be at least one NUMA node, so returning NUMA node zero\n",
      "2022-04-03 11:22:04.264599: I tensorflow/stream_executor/cuda/cuda_gpu_executor.cc:936] successful NUMA node read from SysFS had negative value (-1), but there must be at least one NUMA node, so returning NUMA node zero\n",
      "2022-04-03 11:22:04.970451: I tensorflow/stream_executor/cuda/cuda_gpu_executor.cc:936] successful NUMA node read from SysFS had negative value (-1), but there must be at least one NUMA node, so returning NUMA node zero\n",
      "2022-04-03 11:22:04.970825: I tensorflow/stream_executor/cuda/cuda_gpu_executor.cc:936] successful NUMA node read from SysFS had negative value (-1), but there must be at least one NUMA node, so returning NUMA node zero\n",
      "2022-04-03 11:22:04.970952: I tensorflow/stream_executor/cuda/cuda_gpu_executor.cc:936] successful NUMA node read from SysFS had negative value (-1), but there must be at least one NUMA node, so returning NUMA node zero\n",
      "2022-04-03 11:22:04.971397: I tensorflow/core/common_runtime/gpu/gpu_device.cc:1525] Created device /job:localhost/replica:0/task:0/device:GPU:0 with 2128 MB memory:  -> device: 0, name: Quadro T1000, pci bus id: 0000:01:00.0, compute capability: 7.5\n"
     ]
    }
   ],
   "source": [
    "METRICS = [\n",
    "    tf.keras.metrics.TruePositives(name=\"tp\"),\n",
    "    tf.keras.metrics.FalsePositives(name=\"fp\"),\n",
    "    tf.keras.metrics.TrueNegatives(name=\"tn\"),\n",
    "    tf.keras.metrics.FalseNegatives(name=\"fn\"),\n",
    "    tf.keras.metrics.BinaryAccuracy(name=\"binary_acc\"),\n",
    "    tf.keras.metrics.Precision(name=\"precision\"),\n",
    "    tf.keras.metrics.Recall(name=\"recall\"),\n",
    "    F1Score(name=\"f1_score\"),\n",
    "    tf.keras.metrics.AUC(name=\"roc_auc\", curve=\"ROC\"),\n",
    "    tf.keras.metrics.AUC(name=\"pr_auc\", curve=\"PR\"),\n",
    "    tfa.metrics.CohenKappa(name=\"cohen_kappa\", num_classes=2),\n",
    "]"
   ]
  },
  {
   "cell_type": "code",
   "execution_count": 22,
   "id": "30921b05",
   "metadata": {},
   "outputs": [],
   "source": [
    "\"\"\"\n",
    "VGG19 model from \n",
    "`\"Very Deep Convolutional Networks for Large-Scale Image Recognition\" <https://arxiv.org/abs/1409.1556>`_.\n",
    "\n",
    "We will opt for max pooling for feature extraction, since we want to \"emphasize\" any sharp features on the image\n",
    "(e.g hardware placed on human body that most definitely suggests abnormality).\n",
    "\"\"\"\n",
    "vgg = tf.keras.applications.vgg19.VGG19(\n",
    "    include_top=False,  # do not include the fully-connected layer at the top of the network\n",
    "    weights=\"imagenet\",\n",
    "    input_shape=(IMAGE_WIDTH, IMAGE_HEIGHT, 3),\n",
    "    pooling=\"max\",  # pooling mode for feature extraction\n",
    "    classes=2,\n",
    ")"
   ]
  },
  {
   "cell_type": "code",
   "execution_count": 23,
   "id": "202355bd",
   "metadata": {},
   "outputs": [],
   "source": [
    "def make_vgg_model(\n",
    "    base_model: tf.keras.applications.vgg19.VGG19,\n",
    ") -> tf.keras.Model:\n",
    "\n",
    "    # freeze base model\n",
    "    base_model.trainable = False\n",
    "\n",
    "    inputs = tf.keras.Input(shape=(IMAGE_WIDTH, IMAGE_HEIGHT, 3))\n",
    "    x = base_model(inputs, training=False)\n",
    "    x = tf.keras.layers.Dropout(rate=0.2)(x)\n",
    "    output = tf.keras.layers.Dense(units=1, activation=\"sigmoid\")(x)\n",
    "\n",
    "    model = tf.keras.Model(inputs, output)\n",
    "\n",
    "    model.compile(\n",
    "        optimizer=tf.keras.optimizers.Adam(learning_rate=0.0001),\n",
    "        loss=tf.keras.losses.BinaryCrossentropy(),\n",
    "        metrics=METRICS,\n",
    "    )\n",
    "\n",
    "    return model"
   ]
  },
  {
   "cell_type": "code",
   "execution_count": 24,
   "id": "b2e68f4f",
   "metadata": {},
   "outputs": [],
   "source": [
    "model = make_vgg_model(base_model=vgg)"
   ]
  },
  {
   "cell_type": "code",
   "execution_count": 25,
   "id": "1c19ad13",
   "metadata": {
    "scrolled": false
   },
   "outputs": [
    {
     "name": "stdout",
     "output_type": "stream",
     "text": [
      "Model: \"model\"\n",
      "_________________________________________________________________\n",
      " Layer (type)                Output Shape              Param #   \n",
      "=================================================================\n",
      " input_2 (InputLayer)        [(None, 224, 224, 3)]     0         \n",
      "                                                                 \n",
      " vgg19 (Functional)          (None, 512)               20024384  \n",
      "                                                                 \n",
      " dropout (Dropout)           (None, 512)               0         \n",
      "                                                                 \n",
      " dense (Dense)               (None, 1)                 513       \n",
      "                                                                 \n",
      "=================================================================\n",
      "Total params: 20,024,897\n",
      "Trainable params: 513\n",
      "Non-trainable params: 20,024,384\n",
      "_________________________________________________________________\n"
     ]
    }
   ],
   "source": [
    "model.summary()"
   ]
  },
  {
   "cell_type": "code",
   "execution_count": 26,
   "id": "97981226",
   "metadata": {
    "scrolled": false
   },
   "outputs": [
    {
     "data": {
      "image/png": "[encoded data removed]",
      "text/plain": [
       "<IPython.core.display.Image object>"
      ]
     },
     "execution_count": 26,
     "metadata": {},
     "output_type": "execute_result"
    }
   ],
   "source": [
    "tf.keras.utils.plot_model(\n",
    "    model,\n",
    "    to_file=f\"../static/vgg19_pt_imagenet-all-study-types-{model.count_params()}.png\",\n",
    "    show_shapes=True,\n",
    "    show_layer_names=True,\n",
    ")"
   ]
  },
  {
   "cell_type": "code",
   "execution_count": 27,
   "id": "571221da",
   "metadata": {},
   "outputs": [],
   "source": [
    "early_stopping = tf.keras.callbacks.EarlyStopping(\n",
    "    monitor=\"val_cohen_kappa\",\n",
    "    verbose=1,\n",
    "    patience=5,\n",
    "    mode=\"max\",\n",
    "    baseline=0.0,\n",
    "    restore_best_weights=True,\n",
    ")"
   ]
  },
  {
   "cell_type": "code",
   "execution_count": 28,
   "id": "aa319ec8",
   "metadata": {
    "scrolled": false
   },
   "outputs": [
    {
     "name": "stdout",
     "output_type": "stream",
     "text": [
      "Epoch 1/20\n"
     ]
    },
    {
     "name": "stderr",
     "output_type": "stream",
     "text": [
      "2022-04-03 11:22:08.824372: I tensorflow/stream_executor/cuda/cuda_dnn.cc:368] Loaded cuDNN version 8303\n",
      "2022-04-03 11:22:10.273065: W tensorflow/core/common_runtime/bfc_allocator.cc:275] Allocator (GPU_0_bfc) ran out of memory trying to allocate 1.74GiB with freed_by_count=0. The caller indicates that this is not a failure, but may mean that there could be performance gains if more memory were available.\n",
      "2022-04-03 11:22:10.273096: W tensorflow/core/common_runtime/bfc_allocator.cc:275] Allocator (GPU_0_bfc) ran out of memory trying to allocate 1.74GiB with freed_by_count=0. The caller indicates that this is not a failure, but may mean that there could be performance gains if more memory were available.\n",
      "2022-04-03 11:22:10.273104: W tensorflow/core/common_runtime/bfc_allocator.cc:275] Allocator (GPU_0_bfc) ran out of memory trying to allocate 2.54GiB with freed_by_count=0. The caller indicates that this is not a failure, but may mean that there could be performance gains if more memory were available.\n",
      "2022-04-03 11:22:10.273112: W tensorflow/core/common_runtime/bfc_allocator.cc:275] Allocator (GPU_0_bfc) ran out of memory trying to allocate 2.54GiB with freed_by_count=0. The caller indicates that this is not a failure, but may mean that there could be performance gains if more memory were available.\n",
      "2022-04-03 11:22:10.673339: W tensorflow/core/common_runtime/bfc_allocator.cc:343] Garbage collection: deallocate free memory regions (i.e., allocations) so that we can re-allocate a larger region to avoid OOM due to memory fragmentation. If you see this message frequently, you are running near the threshold of the available device memory and re-allocation may incur great performance overhead. You may try smaller batch sizes to observe the performance impact. Set TF_ENABLE_GPU_GARBAGE_COLLECTION=false if you'd like to disable this feature.\n",
      "2022-04-03 11:22:11.214607: W tensorflow/core/common_runtime/bfc_allocator.cc:275] Allocator (GPU_0_bfc) ran out of memory trying to allocate 2.30GiB with freed_by_count=0. The caller indicates that this is not a failure, but may mean that there could be performance gains if more memory were available.\n",
      "2022-04-03 11:22:11.214653: W tensorflow/core/common_runtime/bfc_allocator.cc:275] Allocator (GPU_0_bfc) ran out of memory trying to allocate 2.30GiB with freed_by_count=0. The caller indicates that this is not a failure, but may mean that there could be performance gains if more memory were available.\n",
      "2022-04-03 11:22:11.768311: W tensorflow/core/common_runtime/bfc_allocator.cc:275] Allocator (GPU_0_bfc) ran out of memory trying to allocate 2.21GiB with freed_by_count=0. The caller indicates that this is not a failure, but may mean that there could be performance gains if more memory were available.\n",
      "2022-04-03 11:22:11.768371: W tensorflow/core/common_runtime/bfc_allocator.cc:275] Allocator (GPU_0_bfc) ran out of memory trying to allocate 2.21GiB with freed_by_count=0. The caller indicates that this is not a failure, but may mean that there could be performance gains if more memory were available.\n",
      "2022-04-03 11:22:12.323617: W tensorflow/core/common_runtime/bfc_allocator.cc:275] Allocator (GPU_0_bfc) ran out of memory trying to allocate 2.22GiB with freed_by_count=0. The caller indicates that this is not a failure, but may mean that there could be performance gains if more memory were available.\n",
      "2022-04-03 11:22:12.323661: W tensorflow/core/common_runtime/bfc_allocator.cc:275] Allocator (GPU_0_bfc) ran out of memory trying to allocate 2.22GiB with freed_by_count=0. The caller indicates that this is not a failure, but may mean that there could be performance gains if more memory were available.\n"
     ]
    },
    {
     "name": "stdout",
     "output_type": "stream",
     "text": [
      "1841/1841 [==============================] - 505s 271ms/step - loss: 5.9945 - tp: 5372.0000 - fp: 6707.0000 - tn: 10809.0000 - fn: 6559.0000 - binary_acc: 0.5495 - precision: 0.4447 - recall: 0.4503 - f1_score: 0.4475 - roc_auc: 0.5392 - pr_auc: 0.4357 - cohen_kappa: 0.0672 - val_loss: 3.2321 - val_tp: 1425.0000 - val_fp: 1507.0000 - val_tn: 2912.0000 - val_fn: 1517.0000 - val_binary_acc: 0.5892 - val_precision: 0.4860 - val_recall: 0.4844 - val_f1_score: 0.4852 - val_roc_auc: 0.5967 - val_pr_auc: 0.4823 - val_cohen_kappa: 0.1434\n",
      "Epoch 2/20\n",
      "1841/1841 [==============================] - 494s 268ms/step - loss: 3.9154 - tp: 5877.0000 - fp: 6166.0000 - tn: 11350.0000 - fn: 6054.0000 - binary_acc: 0.5850 - precision: 0.4880 - recall: 0.4926 - f1_score: 0.4903 - roc_auc: 0.5882 - pr_auc: 0.4797 - cohen_kappa: 0.1404 - val_loss: 2.3331 - val_tp: 1200.0000 - val_fp: 1052.0000 - val_tn: 3367.0000 - val_fn: 1742.0000 - val_binary_acc: 0.6204 - val_precision: 0.5329 - val_recall: 0.4079 - val_f1_score: 0.4621 - val_roc_auc: 0.6204 - val_pr_auc: 0.5141 - val_cohen_kappa: 0.1768\n",
      "Epoch 3/20\n",
      "1841/1841 [==============================] - 486s 264ms/step - loss: 2.7594 - tp: 6075.0000 - fp: 5830.0000 - tn: 11686.0000 - fn: 5856.0000 - binary_acc: 0.6032 - precision: 0.5103 - recall: 0.5092 - f1_score: 0.5097 - roc_auc: 0.6145 - pr_auc: 0.5036 - cohen_kappa: 0.1764 - val_loss: 1.6079 - val_tp: 1609.0000 - val_fp: 1360.0000 - val_tn: 3059.0000 - val_fn: 1333.0000 - val_binary_acc: 0.6342 - val_precision: 0.5419 - val_recall: 0.5469 - val_f1_score: 0.5444 - val_roc_auc: 0.6625 - val_pr_auc: 0.5555 - val_cohen_kappa: 0.2388\n",
      "Epoch 4/20\n",
      "1841/1841 [==============================] - 485s 264ms/step - loss: 1.9032 - tp: 6250.0000 - fp: 5600.0000 - tn: 11916.0000 - fn: 5681.0000 - binary_acc: 0.6169 - precision: 0.5274 - recall: 0.5238 - f1_score: 0.5256 - roc_auc: 0.6371 - pr_auc: 0.5312 - cohen_kappa: 0.2044 - val_loss: 1.1301 - val_tp: 1455.0000 - val_fp: 1082.0000 - val_tn: 3337.0000 - val_fn: 1487.0000 - val_binary_acc: 0.6510 - val_precision: 0.5735 - val_recall: 0.4946 - val_f1_score: 0.5311 - val_roc_auc: 0.6775 - val_pr_auc: 0.5859 - val_cohen_kappa: 0.2556\n",
      "Epoch 5/20\n",
      "1841/1841 [==============================] - 485s 264ms/step - loss: 1.2951 - tp: 6256.0000 - fp: 5351.0000 - tn: 12165.0000 - fn: 5675.0000 - binary_acc: 0.6256 - precision: 0.5390 - recall: 0.5243 - f1_score: 0.5316 - roc_auc: 0.6507 - pr_auc: 0.5503 - cohen_kappa: 0.2198 - val_loss: 0.8308 - val_tp: 1261.0000 - val_fp: 710.0000 - val_tn: 3709.0000 - val_fn: 1681.0000 - val_binary_acc: 0.6752 - val_precision: 0.6398 - val_recall: 0.4286 - val_f1_score: 0.5133 - val_roc_auc: 0.7013 - val_pr_auc: 0.6168 - val_cohen_kappa: 0.2836\n",
      "Epoch 6/20\n",
      "1841/1841 [==============================] - 485s 264ms/step - loss: 0.8666 - tp: 6222.0000 - fp: 4861.0000 - tn: 12655.0000 - fn: 5709.0000 - binary_acc: 0.6411 - precision: 0.5614 - recall: 0.5215 - f1_score: 0.5407 - roc_auc: 0.6656 - pr_auc: 0.5767 - cohen_kappa: 0.2468 - val_loss: 0.6578 - val_tp: 1266.0000 - val_fp: 646.0000 - val_tn: 3773.0000 - val_fn: 1676.0000 - val_binary_acc: 0.6846 - val_precision: 0.6621 - val_recall: 0.4303 - val_f1_score: 0.5216 - val_roc_auc: 0.7153 - val_pr_auc: 0.6272 - val_cohen_kappa: 0.3018\n",
      "Epoch 7/20\n",
      "1841/1841 [==============================] - 487s 265ms/step - loss: 0.6676 - tp: 6062.0000 - fp: 4115.0000 - tn: 13401.0000 - fn: 5869.0000 - binary_acc: 0.6610 - precision: 0.5957 - recall: 0.5081 - f1_score: 0.5484 - roc_auc: 0.6910 - pr_auc: 0.6063 - cohen_kappa: 0.2797 - val_loss: 0.5939 - val_tp: 1563.0000 - val_fp: 909.0000 - val_tn: 3510.0000 - val_fn: 1379.0000 - val_binary_acc: 0.6892 - val_precision: 0.6323 - val_recall: 0.5313 - val_f1_score: 0.5774 - val_roc_auc: 0.7305 - val_pr_auc: 0.6509 - val_cohen_kappa: 0.3345\n",
      "Epoch 8/20\n",
      "1841/1841 [==============================] - 493s 268ms/step - loss: 0.6247 - tp: 5838.0000 - fp: 3689.0000 - tn: 13827.0000 - fn: 6093.0000 - binary_acc: 0.6678 - precision: 0.6128 - recall: 0.4893 - f1_score: 0.5441 - roc_auc: 0.7028 - pr_auc: 0.6239 - cohen_kappa: 0.2880 - val_loss: 0.5920 - val_tp: 1195.0000 - val_fp: 504.0000 - val_tn: 3915.0000 - val_fn: 1747.0000 - val_binary_acc: 0.6942 - val_precision: 0.7034 - val_recall: 0.4062 - val_f1_score: 0.5150 - val_roc_auc: 0.7346 - val_pr_auc: 0.6504 - val_cohen_kappa: 0.3143\n",
      "Epoch 9/20\n",
      "1841/1841 [==============================] - 492s 267ms/step - loss: 0.6166 - tp: 5850.0000 - fp: 3607.0000 - tn: 13909.0000 - fn: 6081.0000 - binary_acc: 0.6710 - precision: 0.6186 - recall: 0.4903 - f1_score: 0.5470 - roc_auc: 0.7053 - pr_auc: 0.6261 - cohen_kappa: 0.2941 - val_loss: 0.5837 - val_tp: 1464.0000 - val_fp: 713.0000 - val_tn: 3706.0000 - val_fn: 1478.0000 - val_binary_acc: 0.7024 - val_precision: 0.6725 - val_recall: 0.4976 - val_f1_score: 0.5720 - val_roc_auc: 0.7413 - val_pr_auc: 0.6582 - val_cohen_kappa: 0.3515\n",
      "Epoch 10/20\n",
      "1841/1841 [==============================] - 493s 268ms/step - loss: 0.6157 - tp: 5801.0000 - fp: 3492.0000 - tn: 14024.0000 - fn: 6130.0000 - binary_acc: 0.6732 - precision: 0.6242 - recall: 0.4862 - f1_score: 0.5466 - roc_auc: 0.7057 - pr_auc: 0.6267 - cohen_kappa: 0.2973 - val_loss: 0.5963 - val_tp: 1053.0000 - val_fp: 393.0000 - val_tn: 4026.0000 - val_fn: 1889.0000 - val_binary_acc: 0.6900 - val_precision: 0.7282 - val_recall: 0.3579 - val_f1_score: 0.4799 - val_roc_auc: 0.7349 - val_pr_auc: 0.6576 - val_cohen_kappa: 0.2940\n",
      "Epoch 11/20\n",
      "1841/1841 [==============================] - 494s 268ms/step - loss: 0.6169 - tp: 5825.0000 - fp: 3588.0000 - tn: 13928.0000 - fn: 6106.0000 - binary_acc: 0.6708 - precision: 0.6188 - recall: 0.4882 - f1_score: 0.5458 - roc_auc: 0.7054 - pr_auc: 0.6249 - cohen_kappa: 0.2932 - val_loss: 0.5998 - val_tp: 1905.0000 - val_fp: 1271.0000 - val_tn: 3148.0000 - val_fn: 1037.0000 - val_binary_acc: 0.6865 - val_precision: 0.5998 - val_recall: 0.6475 - val_f1_score: 0.6228 - val_roc_auc: 0.7394 - val_pr_auc: 0.6568 - val_cohen_kappa: 0.3552\n",
      "Epoch 12/20\n",
      "1841/1841 [==============================] - 497s 270ms/step - loss: 0.6138 - tp: 5851.0000 - fp: 3444.0000 - tn: 14072.0000 - fn: 6080.0000 - binary_acc: 0.6766 - precision: 0.6295 - recall: 0.4904 - f1_score: 0.5513 - roc_auc: 0.7085 - pr_auc: 0.6287 - cohen_kappa: 0.3045 - val_loss: 0.5954 - val_tp: 1085.0000 - val_fp: 442.0000 - val_tn: 3977.0000 - val_fn: 1857.0000 - val_binary_acc: 0.6877 - val_precision: 0.7105 - val_recall: 0.3688 - val_f1_score: 0.4856 - val_roc_auc: 0.7305 - val_pr_auc: 0.6526 - val_cohen_kappa: 0.2923\n",
      "Epoch 13/20\n",
      "1841/1841 [==============================] - 497s 270ms/step - loss: 0.6150 - tp: 5822.0000 - fp: 3517.0000 - tn: 13999.0000 - fn: 6109.0000 - binary_acc: 0.6731 - precision: 0.6234 - recall: 0.4880 - f1_score: 0.5474 - roc_auc: 0.7069 - pr_auc: 0.6252 - cohen_kappa: 0.2975 - val_loss: 0.6219 - val_tp: 2159.0000 - val_fp: 1721.0000 - val_tn: 2698.0000 - val_fn: 783.0000 - val_binary_acc: 0.6598 - val_precision: 0.5564 - val_recall: 0.7339 - val_f1_score: 0.6330 - val_roc_auc: 0.7366 - val_pr_auc: 0.6554 - val_cohen_kappa: 0.3270\n",
      "Epoch 14/20\n",
      "1841/1841 [==============================] - 509s 276ms/step - loss: 0.6151 - tp: 5831.0000 - fp: 3461.0000 - tn: 14055.0000 - fn: 6100.0000 - binary_acc: 0.6753 - precision: 0.6275 - recall: 0.4887 - f1_score: 0.5495 - roc_auc: 0.7066 - pr_auc: 0.6252 - cohen_kappa: 0.3018 - val_loss: 0.5860 - val_tp: 1250.0000 - val_fp: 520.0000 - val_tn: 3899.0000 - val_fn: 1692.0000 - val_binary_acc: 0.6995 - val_precision: 0.7062 - val_recall: 0.4249 - val_f1_score: 0.5306 - val_roc_auc: 0.7398 - val_pr_auc: 0.6638 - val_cohen_kappa: 0.3291\n",
      "Epoch 15/20\n",
      "1841/1841 [==============================] - 502s 273ms/step - loss: 0.6139 - tp: 5851.0000 - fp: 3595.0000 - tn: 13921.0000 - fn: 6080.0000 - binary_acc: 0.6714 - precision: 0.6194 - recall: 0.4904 - f1_score: 0.5474 - roc_auc: 0.7073 - pr_auc: 0.6280 - cohen_kappa: 0.2950 - val_loss: 0.6160 - val_tp: 823.0000 - val_fp: 241.0000 - val_tn: 4178.0000 - val_fn: 2119.0000 - val_binary_acc: 0.6794 - val_precision: 0.7735 - val_recall: 0.2797 - val_f1_score: 0.4109 - val_roc_auc: 0.7312 - val_pr_auc: 0.6578 - val_cohen_kappa: 0.2521\n",
      "Epoch 16/20\n"
     ]
    },
    {
     "name": "stdout",
     "output_type": "stream",
     "text": [
      "1841/1841 [==============================] - ETA: 0s - loss: 0.6127 - tp: 5857.0000 - fp: 3484.0000 - tn: 14032.0000 - fn: 6074.0000 - binary_acc: 0.6754 - precision: 0.6270 - recall: 0.4909 - f1_score: 0.5507 - roc_auc: 0.7088 - pr_auc: 0.6300 - cohen_kappa: 0.3025Restoring model weights from the end of the best epoch: 11.\n",
      "1841/1841 [==============================] - 513s 278ms/step - loss: 0.6127 - tp: 5857.0000 - fp: 3484.0000 - tn: 14032.0000 - fn: 6074.0000 - binary_acc: 0.6754 - precision: 0.6270 - recall: 0.4909 - f1_score: 0.5507 - roc_auc: 0.7088 - pr_auc: 0.6300 - cohen_kappa: 0.3025 - val_loss: 0.5918 - val_tp: 1141.0000 - val_fp: 459.0000 - val_tn: 3960.0000 - val_fn: 1801.0000 - val_binary_acc: 0.6930 - val_precision: 0.7131 - val_recall: 0.3878 - val_f1_score: 0.5024 - val_roc_auc: 0.7350 - val_pr_auc: 0.6588 - val_cohen_kappa: 0.3074\n",
      "Epoch 16: early stopping\n"
     ]
    }
   ],
   "source": [
    "history = model.fit(\n",
    "    trainset,\n",
    "    epochs=20,\n",
    "    validation_data=validationset,\n",
    "    callbacks=[early_stopping],\n",
    ")"
   ]
  },
  {
   "cell_type": "code",
   "execution_count": 29,
   "id": "d4fda3ed",
   "metadata": {},
   "outputs": [
    {
     "data": {
      "image/png": "[encoded data removed]",
      "text/plain": [
       "<Figure size 1296x1080 with 4 Axes>"
      ]
     },
     "metadata": {},
     "output_type": "display_data"
    }
   ],
   "source": [
    "plot_metrics(history)"
   ]
  },
  {
   "cell_type": "code",
   "execution_count": 30,
   "id": "96ab3e5e",
   "metadata": {},
   "outputs": [
    {
     "name": "stdout",
     "output_type": "stream",
     "text": [
      "Saving: ../models/vgg19_pt_imagenet-all-study-types-20024897.h5\n",
      "WARNING:tensorflow:Compiled the loaded model, but the compiled metrics have yet to be built. `model.compile_metrics` will be empty until you train or evaluate the model.\n"
     ]
    }
   ],
   "source": [
    "# model naming convention: {architecture}-{which-study-type?}-{num-parameters}.h5\n",
    "#\n",
    "# to load models:\n",
    "# model = tf.keras.models.load_model(\n",
    "#     '../models/vgg19_pt_imagenet-all-study-types-?.h5',\n",
    "#     custom_objects={'F1Score': F1Score}\n",
    "# )\n",
    "# vgg = tf.keras.models.load_model(\n",
    "#     '../models/vgg19_base.h5',\n",
    "# )\n",
    "print(f\"Saving: ../models/vgg19_pt_imagenet-all-study-types-{model.count_params()}.h5\")\n",
    "model.save(f\"../models/vgg19_pt_imagenet-all-study-types-{model.count_params()}.h5\")\n",
    "vgg.save(\"../models/vgg19_base.h5\")"
   ]
  },
  {
   "cell_type": "code",
   "execution_count": 31,
   "id": "54ecc66f",
   "metadata": {},
   "outputs": [],
   "source": [
    "# fine-tuning: unfreeze the base model and train the entire model end-to-end with a low learning rate\n",
    "vgg.trainable = True\n",
    "\n",
    "model.compile(\n",
    "    optimizer=tf.keras.optimizers.Adam(\n",
    "        1e-5\n",
    "    ),  # we need small learning rate to avoid catastrophic forgetting\n",
    "    loss=tf.keras.losses.BinaryCrossentropy(),\n",
    "    metrics=METRICS,\n",
    ")"
   ]
  },
  {
   "cell_type": "code",
   "execution_count": 32,
   "id": "01256e33",
   "metadata": {},
   "outputs": [],
   "source": [
    "reduce_lr_on_plateau = tf.keras.callbacks.ReduceLROnPlateau(\n",
    "    monitor=\"val_cohen_kappa\",\n",
    "    verbose=1,\n",
    "    patience=4,\n",
    "    mode=\"max\",\n",
    "    factor=0.2,\n",
    "    min_lr=1e-10,\n",
    ")"
   ]
  },
  {
   "cell_type": "code",
   "execution_count": 33,
   "id": "3e36539b",
   "metadata": {
    "scrolled": false
   },
   "outputs": [
    {
     "name": "stdout",
     "output_type": "stream",
     "text": [
      "Epoch 1/10\n",
      "1841/1841 [==============================] - 1249s 675ms/step - loss: 0.5295 - tp: 7535.0000 - fp: 2514.0000 - tn: 19421.0000 - fn: 7338.0000 - binary_acc: 0.7323 - precision: 0.7498 - recall: 0.5066 - f1_score: 0.6047 - roc_auc: 0.7809 - pr_auc: 0.7398 - cohen_kappa: 0.4136 - val_loss: 0.5214 - val_tp: 2063.0000 - val_fp: 859.0000 - val_tn: 3560.0000 - val_fn: 879.0000 - val_binary_acc: 0.7639 - val_precision: 0.7060 - val_recall: 0.7012 - val_f1_score: 0.7036 - val_roc_auc: 0.8276 - val_pr_auc: 0.7900 - val_cohen_kappa: 0.5074 - lr: 1.0000e-05\n",
      "Epoch 2/10\n",
      "1841/1841 [==============================] - 1234s 670ms/step - loss: 0.4769 - tp: 7253.0000 - fp: 1714.0000 - tn: 15802.0000 - fn: 4678.0000 - binary_acc: 0.7829 - precision: 0.8089 - recall: 0.6079 - f1_score: 0.6941 - roc_auc: 0.8361 - pr_auc: 0.8082 - cohen_kappa: 0.5311 - val_loss: 0.4687 - val_tp: 1852.0000 - val_fp: 423.0000 - val_tn: 3996.0000 - val_fn: 1090.0000 - val_binary_acc: 0.7945 - val_precision: 0.8141 - val_recall: 0.6295 - val_f1_score: 0.7100 - val_roc_auc: 0.8485 - val_pr_auc: 0.8142 - val_cohen_kappa: 0.5548 - lr: 1.0000e-05\n",
      "Epoch 3/10\n",
      "1841/1841 [==============================] - 1254s 681ms/step - loss: 0.4530 - tp: 7559.0000 - fp: 1550.0000 - tn: 15966.0000 - fn: 4372.0000 - binary_acc: 0.7989 - precision: 0.8298 - recall: 0.6336 - f1_score: 0.7185 - roc_auc: 0.8515 - pr_auc: 0.8311 - cohen_kappa: 0.5664 - val_loss: 0.4852 - val_tp: 2128.0000 - val_fp: 775.0000 - val_tn: 3644.0000 - val_fn: 814.0000 - val_binary_acc: 0.7841 - val_precision: 0.7330 - val_recall: 0.7233 - val_f1_score: 0.7281 - val_roc_auc: 0.8519 - val_pr_auc: 0.8219 - val_cohen_kappa: 0.5492 - lr: 1.0000e-05\n",
      "Epoch 4/10\n",
      "1841/1841 [==============================] - 1289s 700ms/step - loss: 0.4365 - tp: 7832.0000 - fp: 1582.0000 - tn: 15934.0000 - fn: 4099.0000 - binary_acc: 0.8071 - precision: 0.8320 - recall: 0.6564 - f1_score: 0.7338 - roc_auc: 0.8634 - pr_auc: 0.8432 - cohen_kappa: 0.5858 - val_loss: 0.4488 - val_tp: 1798.0000 - val_fp: 302.0000 - val_tn: 4117.0000 - val_fn: 1144.0000 - val_binary_acc: 0.8036 - val_precision: 0.8562 - val_recall: 0.6111 - val_f1_score: 0.7132 - val_roc_auc: 0.8619 - val_pr_auc: 0.8339 - val_cohen_kappa: 0.5701 - lr: 1.0000e-05\n",
      "Epoch 5/10\n",
      "1841/1841 [==============================] - 1287s 699ms/step - loss: 0.4207 - tp: 8083.0000 - fp: 1503.0000 - tn: 16013.0000 - fn: 3848.0000 - binary_acc: 0.8183 - precision: 0.8432 - recall: 0.6775 - f1_score: 0.7513 - roc_auc: 0.8740 - pr_auc: 0.8559 - cohen_kappa: 0.6108 - val_loss: 0.4457 - val_tp: 1801.0000 - val_fp: 298.0000 - val_tn: 4121.0000 - val_fn: 1141.0000 - val_binary_acc: 0.8045 - val_precision: 0.8580 - val_recall: 0.6122 - val_f1_score: 0.7145 - val_roc_auc: 0.8609 - val_pr_auc: 0.8334 - val_cohen_kappa: 0.5721 - lr: 1.0000e-05\n",
      "Epoch 6/10\n",
      "1841/1841 [==============================] - 1273s 691ms/step - loss: 0.4074 - tp: 8217.0000 - fp: 1524.0000 - tn: 15992.0000 - fn: 3714.0000 - binary_acc: 0.8221 - precision: 0.8435 - recall: 0.6887 - f1_score: 0.7583 - roc_auc: 0.8819 - pr_auc: 0.8665 - cohen_kappa: 0.6198 - val_loss: 0.4449 - val_tp: 2005.0000 - val_fp: 497.0000 - val_tn: 3922.0000 - val_fn: 937.0000 - val_binary_acc: 0.8052 - val_precision: 0.8014 - val_recall: 0.6815 - val_f1_score: 0.7366 - val_roc_auc: 0.8627 - val_pr_auc: 0.8376 - val_cohen_kappa: 0.5836 - lr: 1.0000e-05\n",
      "Epoch 7/10\n",
      "1841/1841 [==============================] - 1271s 690ms/step - loss: 0.3957 - tp: 8368.0000 - fp: 1437.0000 - tn: 16079.0000 - fn: 3563.0000 - binary_acc: 0.8302 - precision: 0.8534 - recall: 0.7014 - f1_score: 0.7700 - roc_auc: 0.8880 - pr_auc: 0.8741 - cohen_kappa: 0.6374 - val_loss: 0.4373 - val_tp: 1798.0000 - val_fp: 243.0000 - val_tn: 4176.0000 - val_fn: 1144.0000 - val_binary_acc: 0.8116 - val_precision: 0.8809 - val_recall: 0.6111 - val_f1_score: 0.7217 - val_roc_auc: 0.8689 - val_pr_auc: 0.8443 - val_cohen_kappa: 0.5862 - lr: 1.0000e-05\n",
      "Epoch 8/10\n",
      "1841/1841 [==============================] - 1250s 679ms/step - loss: 0.3819 - tp: 8519.0000 - fp: 1453.0000 - tn: 16063.0000 - fn: 3412.0000 - binary_acc: 0.8348 - precision: 0.8543 - recall: 0.7140 - f1_score: 0.7779 - roc_auc: 0.8963 - pr_auc: 0.8835 - cohen_kappa: 0.6480 - val_loss: 0.4402 - val_tp: 1908.0000 - val_fp: 379.0000 - val_tn: 4040.0000 - val_fn: 1034.0000 - val_binary_acc: 0.8080 - val_precision: 0.8343 - val_recall: 0.6485 - val_f1_score: 0.7298 - val_roc_auc: 0.8624 - val_pr_auc: 0.8392 - val_cohen_kappa: 0.5845 - lr: 1.0000e-05\n",
      "Epoch 9/10\n",
      "1841/1841 [==============================] - 1260s 684ms/step - loss: 0.3700 - tp: 8628.0000 - fp: 1398.0000 - tn: 16118.0000 - fn: 3303.0000 - binary_acc: 0.8404 - precision: 0.8606 - recall: 0.7232 - f1_score: 0.7859 - roc_auc: 0.9029 - pr_auc: 0.8908 - cohen_kappa: 0.6601 - val_loss: 0.4315 - val_tp: 1970.0000 - val_fp: 381.0000 - val_tn: 4038.0000 - val_fn: 972.0000 - val_binary_acc: 0.8162 - val_precision: 0.8379 - val_recall: 0.6696 - val_f1_score: 0.7444 - val_roc_auc: 0.8722 - val_pr_auc: 0.8487 - val_cohen_kappa: 0.6037 - lr: 1.0000e-05\n",
      "Epoch 10/10\n",
      "1841/1841 [==============================] - 1239s 673ms/step - loss: 0.3556 - tp: 8830.0000 - fp: 1349.0000 - tn: 16167.0000 - fn: 3101.0000 - binary_acc: 0.8489 - precision: 0.8675 - recall: 0.7401 - f1_score: 0.7987 - roc_auc: 0.9107 - pr_auc: 0.8991 - cohen_kappa: 0.6790 - val_loss: 0.4354 - val_tp: 1965.0000 - val_fp: 393.0000 - val_tn: 4026.0000 - val_fn: 977.0000 - val_binary_acc: 0.8139 - val_precision: 0.8333 - val_recall: 0.6679 - val_f1_score: 0.7415 - val_roc_auc: 0.8737 - val_pr_auc: 0.8477 - val_cohen_kappa: 0.5988 - lr: 1.0000e-05\n"
     ]
    }
   ],
   "source": [
    "history = model.fit(\n",
    "    trainset,\n",
    "    epochs=10,\n",
    "    validation_data=validationset,\n",
    "    callbacks=[early_stopping, reduce_lr_on_plateau],\n",
    ")"
   ]
  },
  {
   "cell_type": "code",
   "execution_count": 34,
   "id": "30e547d7",
   "metadata": {},
   "outputs": [
    {
     "name": "stdout",
     "output_type": "stream",
     "text": [
      "Saving: ../models/vgg19_pt_imagenet-all-study-types-20024897.h5\n",
      "WARNING:tensorflow:Compiled the loaded model, but the compiled metrics have yet to be built. `model.compile_metrics` will be empty until you train or evaluate the model.\n"
     ]
    }
   ],
   "source": [
    "# model naming convention: {architecture}-{which-study-type?}-{num-parameters}.h5\n",
    "#\n",
    "# to load models:\n",
    "# model = tf.keras.models.load_model(\n",
    "#     '../models/vgg19_pt_imagenet-all-study-types-?.h5',\n",
    "#     custom_objects={'F1Score': F1Score}\n",
    "# )\n",
    "# vgg = tf.keras.models.load_model(\n",
    "#     '../models/vgg19_base.h5',\n",
    "# )\n",
    "print(f\"Saving: ../models/vgg19_pt_imagenet-all-study-types-{model.count_params()}.h5\")\n",
    "model.save(f\"../models/vgg19_pt_imagenet-all-study-types-{model.count_params()}.h5\")\n",
    "vgg.save(\"../models/vgg19_base.h5\")"
   ]
  },
  {
   "cell_type": "code",
   "execution_count": 35,
   "id": "8da93aed",
   "metadata": {},
   "outputs": [
    {
     "data": {
      "image/png": "[encoded data removed]",
      "text/plain": [
       "<Figure size 1296x1080 with 4 Axes>"
      ]
     },
     "metadata": {},
     "output_type": "display_data"
    }
   ],
   "source": [
    "plot_metrics(history)"
   ]
  },
  {
   "cell_type": "code",
   "execution_count": 36,
   "id": "21b3e659",
   "metadata": {
    "scrolled": false
   },
   "outputs": [
    {
     "name": "stdout",
     "output_type": "stream",
     "text": [
      "461/461 [==============================] - 98s 211ms/step - loss: 0.4317 - tp: 1969.0000 - fp: 390.0000 - tn: 4029.0000 - fn: 973.0000 - binary_acc: 0.8148 - precision: 0.8347 - recall: 0.6693 - f1_score: 0.7429 - roc_auc: 0.8769 - pr_auc: 0.8517 - cohen_kappa: 0.6009\n"
     ]
    }
   ],
   "source": [
    "# get the loss value & metrics values for the model in validation mode\n",
    "evaluation_metrics = model.evaluate(validationset, verbose=1)"
   ]
  },
  {
   "cell_type": "code",
   "execution_count": 37,
   "id": "9fab3d36",
   "metadata": {},
   "outputs": [
    {
     "name": "stdout",
     "output_type": "stream",
     "text": [
      "val loss    : 0.4317113161087036\n",
      "tp          : 1969.0\n",
      "fp          : 390.0\n",
      "tn          : 4029.0\n",
      "fn          : 973.0\n",
      "binary_acc  : 0.8148349523544312\n",
      "precision   : 0.8346757292747498\n",
      "recall      : 0.6692726016044617\n",
      "f1_score    : 0.7428786754608154\n",
      "roc_auc     : 0.8769444227218628\n",
      "pr_auc      : 0.8517477512359619\n",
      "cohen_kappa : 0.6009179949760437\n"
     ]
    }
   ],
   "source": [
    "loss = evaluation_metrics.pop(0)\n",
    "\n",
    "print(f\"val loss    : {loss}\")\n",
    "for metric, score in zip(METRICS, evaluation_metrics):\n",
    "\n",
    "    print(f\"{metric.name + ' ' * (12 - len(metric.name))}: {score}\")"
   ]
  },
  {
   "cell_type": "code",
   "execution_count": 38,
   "id": "9491c46f",
   "metadata": {},
   "outputs": [],
   "source": [
    "clean_up(model)\n",
    "clean_up(vgg)"
   ]
  }
 ],
 "metadata": {
  "kernelspec": {
   "display_name": "Python 3 (ipykernel)",
   "language": "python",
   "name": "python3"
  },
  "language_info": {
   "codemirror_mode": {
    "name": "ipython",
    "version": 3
   },
   "file_extension": ".py",
   "mimetype": "text/x-python",
   "name": "python",
   "nbconvert_exporter": "python",
   "pygments_lexer": "ipython3",
   "version": "3.8.10"
  }
 },
 "nbformat": 4,
 "nbformat_minor": 5
}
