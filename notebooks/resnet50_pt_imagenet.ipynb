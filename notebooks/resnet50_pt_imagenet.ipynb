{
 "cells": [
  {
   "cell_type": "markdown",
   "id": "7a899787",
   "metadata": {},
   "source": [
    "## X-Ray Abnormality Detection | ResNet50, pretrained on ImageNet"
   ]
  },
  {
   "cell_type": "markdown",
   "id": "c7764e65",
   "metadata": {},
   "source": [
    "> **Antonopoulos Ilias** ( *p3352004* ) <br />\n",
    "> **Ndoja Silva** ( *p3352017* ) <br />\n",
    "> **MSc in Data Science, AUEB**"
   ]
  },
  {
   "cell_type": "markdown",
   "id": "aa71e65e",
   "metadata": {},
   "source": [
    "## Table of Contents\n",
    "\n",
    "- [Data Loading](#Data-Loading)\n",
    " * [Create a tensorflow input pipeline for the training data](#Create-a-tensorflow-input-pipeline-for-the-training-data)\n",
    "- [ResNet50 architecture, pretrained on ImageNet](#ResNet50-architecture,-pretrained-on-ImageNet)"
   ]
  },
  {
   "cell_type": "code",
   "execution_count": 1,
   "id": "99fc7dec",
   "metadata": {},
   "outputs": [],
   "source": [
    "import os\n",
    "import pathlib\n",
    "import random\n",
    "import re\n",
    "from glob import glob\n",
    "\n",
    "import matplotlib.pyplot as plt\n",
    "import numpy as np\n",
    "import pandas as pd\n",
    "import tensorflow as tf\n",
    "import tensorflow_addons as tfa\n",
    "from sklearn.metrics import cohen_kappa_score\n",
    "from sklearn.utils import shuffle\n",
    "\n",
    "from utils import (\n",
    "    clean_up,\n",
    "    F1Score,\n",
    "    inspect_df,\n",
    "    plot_metrics,\n",
    ")\n",
    "\n",
    "\n",
    "pd.set_option(\"max_colwidth\", None)\n",
    "plt.style.use(\"dark_background\")"
   ]
  },
  {
   "cell_type": "code",
   "execution_count": 2,
   "id": "6d6c351a",
   "metadata": {},
   "outputs": [
    {
     "name": "stdout",
     "output_type": "stream",
     "text": [
      "2.8.0\n"
     ]
    }
   ],
   "source": [
    "print(tf.__version__)"
   ]
  },
  {
   "cell_type": "code",
   "execution_count": 3,
   "id": "1fa8b39b",
   "metadata": {},
   "outputs": [
    {
     "name": "stdout",
     "output_type": "stream",
     "text": [
      "Num GPUs Available:  1\n"
     ]
    },
    {
     "name": "stderr",
     "output_type": "stream",
     "text": [
      "2022-04-05 09:50:44.410554: I tensorflow/stream_executor/cuda/cuda_gpu_executor.cc:936] successful NUMA node read from SysFS had negative value (-1), but there must be at least one NUMA node, so returning NUMA node zero\n",
      "2022-04-05 09:50:44.437341: I tensorflow/stream_executor/cuda/cuda_gpu_executor.cc:936] successful NUMA node read from SysFS had negative value (-1), but there must be at least one NUMA node, so returning NUMA node zero\n",
      "2022-04-05 09:50:44.437496: I tensorflow/stream_executor/cuda/cuda_gpu_executor.cc:936] successful NUMA node read from SysFS had negative value (-1), but there must be at least one NUMA node, so returning NUMA node zero\n"
     ]
    }
   ],
   "source": [
    "print(\"Num GPUs Available: \", len(tf.config.list_physical_devices(\"GPU\")))"
   ]
  },
  {
   "cell_type": "code",
   "execution_count": 4,
   "id": "8d64d949",
   "metadata": {},
   "outputs": [],
   "source": [
    "gpus = tf.config.experimental.list_physical_devices(\"GPU\")\n",
    "\n",
    "try:\n",
    "    tf.config.experimental.set_memory_growth(gpus[0], True)\n",
    "except IndexError:\n",
    "    print(\"Cannot memory-restrict the GPU, if no GPU exists in system. Ignore...\")\n",
    "    pass"
   ]
  },
  {
   "cell_type": "code",
   "execution_count": 5,
   "id": "a6659fde",
   "metadata": {},
   "outputs": [],
   "source": [
    "SEED = 99910123\n",
    "\n",
    "os.environ[\"PYTHONHASHSEED\"] = str(SEED)\n",
    "random.seed(SEED)\n",
    "tf.random.set_seed(SEED)\n",
    "np.random.seed(SEED)"
   ]
  },
  {
   "cell_type": "markdown",
   "id": "b5346f99",
   "metadata": {},
   "source": [
    "### Data Loading"
   ]
  },
  {
   "cell_type": "code",
   "execution_count": 6,
   "id": "5819c5d3",
   "metadata": {},
   "outputs": [],
   "source": [
    "DATASET_DIR = \"../data/MURA-v1.1/\""
   ]
  },
  {
   "cell_type": "code",
   "execution_count": 7,
   "id": "67d931da",
   "metadata": {},
   "outputs": [
    {
     "data": {
      "text/plain": [
       "['../data/MURA-v1.1/train/XR_WRIST/patient08092/study1_negative/image1.png',\n",
       " '../data/MURA-v1.1/train/XR_FINGER/patient01064/study1_positive/image1.png',\n",
       " '../data/MURA-v1.1/valid/XR_ELBOW/patient11831/study1_positive/image1.png',\n",
       " '../data/MURA-v1.1/train/XR_SHOULDER/patient00442/study1_positive/image1.png',\n",
       " '../data/MURA-v1.1/train/XR_ELBOW/patient06289/study1_negative/image3.png',\n",
       " '../data/MURA-v1.1/train/XR_WRIST/patient08562/study1_negative/image2.png',\n",
       " '../data/MURA-v1.1/train/XR_FINGER/patient04280/study1_negative/image3.png',\n",
       " '../data/MURA-v1.1/train/XR_WRIST/patient07018/study1_positive/image1.png',\n",
       " '../data/MURA-v1.1/train/XR_ELBOW/patient06000/study1_negative/image1.png',\n",
       " '../data/MURA-v1.1/train/XR_SHOULDER/patient00497/study2_negative/image4.png']"
      ]
     },
     "execution_count": 7,
     "metadata": {},
     "output_type": "execute_result"
    }
   ],
   "source": [
    "random.choices(glob(os.path.join(DATASET_DIR, \"*\", \"*\", \"*\", \"*\", \"*.png\")), k=10)"
   ]
  },
  {
   "cell_type": "markdown",
   "id": "3e68ad35",
   "metadata": {},
   "source": [
    "So, the data structure is the following:\n",
    "\n",
    "```\n",
    "\n",
    "└─train {data subset}\n",
    "│   └───XR_ELBOW {study type}\n",
    "│       │  └───patient00011 {patient}\n",
    "│       │         └───study1_negative {study with label}\n",
    "│       │               └───image1.png {view}\n",
    "│       │               └───image2.png \n",
    "│       │               └───image3.png \n",
    "                        └───...\n",
    "   ...\n",
    "   \n",
    "\n",
    "└─valid {data subset}\n",
    "│   └───XR_HUMERUS {study type}\n",
    "│       │  └───patient11216 {patient}\n",
    "│       │         └───study1_negative {study with label}\n",
    "│       │               └───image1.png {view}\n",
    "│       │               └───image2.png \n",
    "                        └───...\n",
    "```"
   ]
  },
  {
   "cell_type": "code",
   "execution_count": 8,
   "id": "0e99c8e4",
   "metadata": {},
   "outputs": [
    {
     "name": "stdout",
     "output_type": "stream",
     "text": [
      "Total PNG images found in dir <../data/MURA-v1.1/>: 40009\n"
     ]
    }
   ],
   "source": [
    "image_count = len(list(pathlib.Path(DATASET_DIR).glob(\"*/*/*/*/*.png\")))\n",
    "\n",
    "print(f\"Total PNG images found in dir <{DATASET_DIR}>: {image_count}\")"
   ]
  },
  {
   "cell_type": "markdown",
   "id": "e3cc7391",
   "metadata": {},
   "source": [
    "We will start by creating a tabular form of the training data (with no actual image files), in order to quickly analyze them. A proper data loader (of the actual image files) will be implemented after that, in a tensorflow-friendly manner."
   ]
  },
  {
   "cell_type": "code",
   "execution_count": 9,
   "id": "6ee568f1",
   "metadata": {
    "scrolled": false
   },
   "outputs": [
    {
     "name": "stdout",
     "output_type": "stream",
     "text": [
      "shape: (36808, 1)\n"
     ]
    },
    {
     "data": {
      "text/html": [
       "<div>\n",
       "<style scoped>\n",
       "    .dataframe tbody tr th:only-of-type {\n",
       "        vertical-align: middle;\n",
       "    }\n",
       "\n",
       "    .dataframe tbody tr th {\n",
       "        vertical-align: top;\n",
       "    }\n",
       "\n",
       "    .dataframe thead th {\n",
       "        text-align: right;\n",
       "    }\n",
       "</style>\n",
       "<table border=\"1\" class=\"dataframe\">\n",
       "  <thead>\n",
       "    <tr style=\"text-align: right;\">\n",
       "      <th></th>\n",
       "      <th>image_path</th>\n",
       "    </tr>\n",
       "  </thead>\n",
       "  <tbody>\n",
       "    <tr>\n",
       "      <th>0</th>\n",
       "      <td>MURA-v1.1/train/XR_SHOULDER/patient00001/study1_positive/image1.png</td>\n",
       "    </tr>\n",
       "    <tr>\n",
       "      <th>1</th>\n",
       "      <td>MURA-v1.1/train/XR_SHOULDER/patient00001/study1_positive/image2.png</td>\n",
       "    </tr>\n",
       "    <tr>\n",
       "      <th>2</th>\n",
       "      <td>MURA-v1.1/train/XR_SHOULDER/patient00001/study1_positive/image3.png</td>\n",
       "    </tr>\n",
       "    <tr>\n",
       "      <th>3</th>\n",
       "      <td>MURA-v1.1/train/XR_SHOULDER/patient00002/study1_positive/image1.png</td>\n",
       "    </tr>\n",
       "    <tr>\n",
       "      <th>4</th>\n",
       "      <td>MURA-v1.1/train/XR_SHOULDER/patient00002/study1_positive/image2.png</td>\n",
       "    </tr>\n",
       "  </tbody>\n",
       "</table>\n",
       "</div>"
      ],
      "text/plain": [
       "                                                            image_path\n",
       "0  MURA-v1.1/train/XR_SHOULDER/patient00001/study1_positive/image1.png\n",
       "1  MURA-v1.1/train/XR_SHOULDER/patient00001/study1_positive/image2.png\n",
       "2  MURA-v1.1/train/XR_SHOULDER/patient00001/study1_positive/image3.png\n",
       "3  MURA-v1.1/train/XR_SHOULDER/patient00002/study1_positive/image1.png\n",
       "4  MURA-v1.1/train/XR_SHOULDER/patient00002/study1_positive/image2.png"
      ]
     },
     "execution_count": 9,
     "metadata": {},
     "output_type": "execute_result"
    }
   ],
   "source": [
    "train_image_paths = pd.read_csv(\n",
    "    os.path.join(DATASET_DIR, \"train_image_paths.csv\"),\n",
    "    names=[\"image_path\"],\n",
    "    header=None,\n",
    "    index_col=False,\n",
    ")\n",
    "\n",
    "inspect_df(train_image_paths)"
   ]
  },
  {
   "cell_type": "code",
   "execution_count": 10,
   "id": "60a69725",
   "metadata": {},
   "outputs": [],
   "source": [
    "train_image_paths[\"image_path\"] = train_image_paths[\"image_path\"].map(\n",
    "    lambda x: os.path.join(\"../data/\", x)\n",
    ")\n",
    "train_image_paths[\"study_type\"] = train_image_paths[\"image_path\"].map(\n",
    "    lambda x: x.split(\"/\")[4]\n",
    ")\n",
    "train_image_paths[\"patient\"] = train_image_paths[\"image_path\"].map(\n",
    "    lambda x: x.split(\"/\")[5]\n",
    ")\n",
    "train_image_paths[\"study\"] = train_image_paths[\"image_path\"].map(\n",
    "    lambda x: x.split(\"/\")[6]\n",
    ")\n",
    "train_image_paths[\"study_path\"] = train_image_paths[\"image_path\"].map(\n",
    "    lambda x: re.sub(r\"image\\d+.png\", \"\", x)\n",
    ")"
   ]
  },
  {
   "cell_type": "code",
   "execution_count": 11,
   "id": "d073e76e",
   "metadata": {},
   "outputs": [
    {
     "name": "stdout",
     "output_type": "stream",
     "text": [
      "shape: (36808, 5)\n"
     ]
    },
    {
     "data": {
      "text/html": [
       "<div>\n",
       "<style scoped>\n",
       "    .dataframe tbody tr th:only-of-type {\n",
       "        vertical-align: middle;\n",
       "    }\n",
       "\n",
       "    .dataframe tbody tr th {\n",
       "        vertical-align: top;\n",
       "    }\n",
       "\n",
       "    .dataframe thead th {\n",
       "        text-align: right;\n",
       "    }\n",
       "</style>\n",
       "<table border=\"1\" class=\"dataframe\">\n",
       "  <thead>\n",
       "    <tr style=\"text-align: right;\">\n",
       "      <th></th>\n",
       "      <th>image_path</th>\n",
       "      <th>study_type</th>\n",
       "      <th>patient</th>\n",
       "      <th>study</th>\n",
       "      <th>study_path</th>\n",
       "    </tr>\n",
       "  </thead>\n",
       "  <tbody>\n",
       "    <tr>\n",
       "      <th>0</th>\n",
       "      <td>../data/MURA-v1.1/train/XR_SHOULDER/patient00001/study1_positive/image1.png</td>\n",
       "      <td>XR_SHOULDER</td>\n",
       "      <td>patient00001</td>\n",
       "      <td>study1_positive</td>\n",
       "      <td>../data/MURA-v1.1/train/XR_SHOULDER/patient00001/study1_positive/</td>\n",
       "    </tr>\n",
       "    <tr>\n",
       "      <th>1</th>\n",
       "      <td>../data/MURA-v1.1/train/XR_SHOULDER/patient00001/study1_positive/image2.png</td>\n",
       "      <td>XR_SHOULDER</td>\n",
       "      <td>patient00001</td>\n",
       "      <td>study1_positive</td>\n",
       "      <td>../data/MURA-v1.1/train/XR_SHOULDER/patient00001/study1_positive/</td>\n",
       "    </tr>\n",
       "    <tr>\n",
       "      <th>2</th>\n",
       "      <td>../data/MURA-v1.1/train/XR_SHOULDER/patient00001/study1_positive/image3.png</td>\n",
       "      <td>XR_SHOULDER</td>\n",
       "      <td>patient00001</td>\n",
       "      <td>study1_positive</td>\n",
       "      <td>../data/MURA-v1.1/train/XR_SHOULDER/patient00001/study1_positive/</td>\n",
       "    </tr>\n",
       "    <tr>\n",
       "      <th>3</th>\n",
       "      <td>../data/MURA-v1.1/train/XR_SHOULDER/patient00002/study1_positive/image1.png</td>\n",
       "      <td>XR_SHOULDER</td>\n",
       "      <td>patient00002</td>\n",
       "      <td>study1_positive</td>\n",
       "      <td>../data/MURA-v1.1/train/XR_SHOULDER/patient00002/study1_positive/</td>\n",
       "    </tr>\n",
       "    <tr>\n",
       "      <th>4</th>\n",
       "      <td>../data/MURA-v1.1/train/XR_SHOULDER/patient00002/study1_positive/image2.png</td>\n",
       "      <td>XR_SHOULDER</td>\n",
       "      <td>patient00002</td>\n",
       "      <td>study1_positive</td>\n",
       "      <td>../data/MURA-v1.1/train/XR_SHOULDER/patient00002/study1_positive/</td>\n",
       "    </tr>\n",
       "  </tbody>\n",
       "</table>\n",
       "</div>"
      ],
      "text/plain": [
       "                                                                    image_path  \\\n",
       "0  ../data/MURA-v1.1/train/XR_SHOULDER/patient00001/study1_positive/image1.png   \n",
       "1  ../data/MURA-v1.1/train/XR_SHOULDER/patient00001/study1_positive/image2.png   \n",
       "2  ../data/MURA-v1.1/train/XR_SHOULDER/patient00001/study1_positive/image3.png   \n",
       "3  ../data/MURA-v1.1/train/XR_SHOULDER/patient00002/study1_positive/image1.png   \n",
       "4  ../data/MURA-v1.1/train/XR_SHOULDER/patient00002/study1_positive/image2.png   \n",
       "\n",
       "    study_type       patient            study  \\\n",
       "0  XR_SHOULDER  patient00001  study1_positive   \n",
       "1  XR_SHOULDER  patient00001  study1_positive   \n",
       "2  XR_SHOULDER  patient00001  study1_positive   \n",
       "3  XR_SHOULDER  patient00002  study1_positive   \n",
       "4  XR_SHOULDER  patient00002  study1_positive   \n",
       "\n",
       "                                                          study_path  \n",
       "0  ../data/MURA-v1.1/train/XR_SHOULDER/patient00001/study1_positive/  \n",
       "1  ../data/MURA-v1.1/train/XR_SHOULDER/patient00001/study1_positive/  \n",
       "2  ../data/MURA-v1.1/train/XR_SHOULDER/patient00001/study1_positive/  \n",
       "3  ../data/MURA-v1.1/train/XR_SHOULDER/patient00002/study1_positive/  \n",
       "4  ../data/MURA-v1.1/train/XR_SHOULDER/patient00002/study1_positive/  "
      ]
     },
     "execution_count": 11,
     "metadata": {},
     "output_type": "execute_result"
    }
   ],
   "source": [
    "inspect_df(train_image_paths)"
   ]
  },
  {
   "cell_type": "code",
   "execution_count": 12,
   "id": "59cf2544",
   "metadata": {
    "scrolled": false
   },
   "outputs": [
    {
     "name": "stdout",
     "output_type": "stream",
     "text": [
      "shape: (13457, 2)\n"
     ]
    },
    {
     "data": {
      "text/html": [
       "<div>\n",
       "<style scoped>\n",
       "    .dataframe tbody tr th:only-of-type {\n",
       "        vertical-align: middle;\n",
       "    }\n",
       "\n",
       "    .dataframe tbody tr th {\n",
       "        vertical-align: top;\n",
       "    }\n",
       "\n",
       "    .dataframe thead th {\n",
       "        text-align: right;\n",
       "    }\n",
       "</style>\n",
       "<table border=\"1\" class=\"dataframe\">\n",
       "  <thead>\n",
       "    <tr style=\"text-align: right;\">\n",
       "      <th></th>\n",
       "      <th>study_path</th>\n",
       "      <th>label</th>\n",
       "    </tr>\n",
       "  </thead>\n",
       "  <tbody>\n",
       "    <tr>\n",
       "      <th>0</th>\n",
       "      <td>MURA-v1.1/train/XR_SHOULDER/patient00001/study1_positive/</td>\n",
       "      <td>1</td>\n",
       "    </tr>\n",
       "    <tr>\n",
       "      <th>1</th>\n",
       "      <td>MURA-v1.1/train/XR_SHOULDER/patient00002/study1_positive/</td>\n",
       "      <td>1</td>\n",
       "    </tr>\n",
       "    <tr>\n",
       "      <th>2</th>\n",
       "      <td>MURA-v1.1/train/XR_SHOULDER/patient00003/study1_positive/</td>\n",
       "      <td>1</td>\n",
       "    </tr>\n",
       "    <tr>\n",
       "      <th>3</th>\n",
       "      <td>MURA-v1.1/train/XR_SHOULDER/patient00004/study1_positive/</td>\n",
       "      <td>1</td>\n",
       "    </tr>\n",
       "    <tr>\n",
       "      <th>4</th>\n",
       "      <td>MURA-v1.1/train/XR_SHOULDER/patient00005/study1_positive/</td>\n",
       "      <td>1</td>\n",
       "    </tr>\n",
       "  </tbody>\n",
       "</table>\n",
       "</div>"
      ],
      "text/plain": [
       "                                                  study_path  label\n",
       "0  MURA-v1.1/train/XR_SHOULDER/patient00001/study1_positive/      1\n",
       "1  MURA-v1.1/train/XR_SHOULDER/patient00002/study1_positive/      1\n",
       "2  MURA-v1.1/train/XR_SHOULDER/patient00003/study1_positive/      1\n",
       "3  MURA-v1.1/train/XR_SHOULDER/patient00004/study1_positive/      1\n",
       "4  MURA-v1.1/train/XR_SHOULDER/patient00005/study1_positive/      1"
      ]
     },
     "execution_count": 12,
     "metadata": {},
     "output_type": "execute_result"
    }
   ],
   "source": [
    "train_labeled_studies = pd.read_csv(\n",
    "    os.path.join(DATASET_DIR, \"train_labeled_studies.csv\"),\n",
    "    names=[\"study_path\", \"label\"],\n",
    "    header=None,\n",
    "    index_col=False,\n",
    ")\n",
    "\n",
    "inspect_df(train_labeled_studies)"
   ]
  },
  {
   "cell_type": "code",
   "execution_count": 13,
   "id": "df9a7f5d",
   "metadata": {},
   "outputs": [],
   "source": [
    "train_labeled_studies[\"study_path\"] = train_labeled_studies[\"study_path\"].map(\n",
    "    lambda x: os.path.join(\"../data/\", x)\n",
    ")\n",
    "train_labeled_studies[\"label\"] = train_labeled_studies[\"label\"].map(str)"
   ]
  },
  {
   "cell_type": "code",
   "execution_count": 14,
   "id": "408b169b",
   "metadata": {
    "scrolled": false
   },
   "outputs": [
    {
     "name": "stdout",
     "output_type": "stream",
     "text": [
      "shape: (13457, 2)\n"
     ]
    },
    {
     "data": {
      "text/html": [
       "<div>\n",
       "<style scoped>\n",
       "    .dataframe tbody tr th:only-of-type {\n",
       "        vertical-align: middle;\n",
       "    }\n",
       "\n",
       "    .dataframe tbody tr th {\n",
       "        vertical-align: top;\n",
       "    }\n",
       "\n",
       "    .dataframe thead th {\n",
       "        text-align: right;\n",
       "    }\n",
       "</style>\n",
       "<table border=\"1\" class=\"dataframe\">\n",
       "  <thead>\n",
       "    <tr style=\"text-align: right;\">\n",
       "      <th></th>\n",
       "      <th>study_path</th>\n",
       "      <th>label</th>\n",
       "    </tr>\n",
       "  </thead>\n",
       "  <tbody>\n",
       "    <tr>\n",
       "      <th>0</th>\n",
       "      <td>../data/MURA-v1.1/train/XR_SHOULDER/patient00001/study1_positive/</td>\n",
       "      <td>1</td>\n",
       "    </tr>\n",
       "    <tr>\n",
       "      <th>1</th>\n",
       "      <td>../data/MURA-v1.1/train/XR_SHOULDER/patient00002/study1_positive/</td>\n",
       "      <td>1</td>\n",
       "    </tr>\n",
       "    <tr>\n",
       "      <th>2</th>\n",
       "      <td>../data/MURA-v1.1/train/XR_SHOULDER/patient00003/study1_positive/</td>\n",
       "      <td>1</td>\n",
       "    </tr>\n",
       "    <tr>\n",
       "      <th>3</th>\n",
       "      <td>../data/MURA-v1.1/train/XR_SHOULDER/patient00004/study1_positive/</td>\n",
       "      <td>1</td>\n",
       "    </tr>\n",
       "    <tr>\n",
       "      <th>4</th>\n",
       "      <td>../data/MURA-v1.1/train/XR_SHOULDER/patient00005/study1_positive/</td>\n",
       "      <td>1</td>\n",
       "    </tr>\n",
       "  </tbody>\n",
       "</table>\n",
       "</div>"
      ],
      "text/plain": [
       "                                                          study_path label\n",
       "0  ../data/MURA-v1.1/train/XR_SHOULDER/patient00001/study1_positive/     1\n",
       "1  ../data/MURA-v1.1/train/XR_SHOULDER/patient00002/study1_positive/     1\n",
       "2  ../data/MURA-v1.1/train/XR_SHOULDER/patient00003/study1_positive/     1\n",
       "3  ../data/MURA-v1.1/train/XR_SHOULDER/patient00004/study1_positive/     1\n",
       "4  ../data/MURA-v1.1/train/XR_SHOULDER/patient00005/study1_positive/     1"
      ]
     },
     "execution_count": 14,
     "metadata": {},
     "output_type": "execute_result"
    }
   ],
   "source": [
    "inspect_df(train_labeled_studies)"
   ]
  },
  {
   "cell_type": "code",
   "execution_count": 15,
   "id": "98c49b41",
   "metadata": {
    "scrolled": true
   },
   "outputs": [
    {
     "name": "stdout",
     "output_type": "stream",
     "text": [
      "shape: (36808, 6)\n"
     ]
    },
    {
     "data": {
      "text/html": [
       "<div>\n",
       "<style scoped>\n",
       "    .dataframe tbody tr th:only-of-type {\n",
       "        vertical-align: middle;\n",
       "    }\n",
       "\n",
       "    .dataframe tbody tr th {\n",
       "        vertical-align: top;\n",
       "    }\n",
       "\n",
       "    .dataframe thead th {\n",
       "        text-align: right;\n",
       "    }\n",
       "</style>\n",
       "<table border=\"1\" class=\"dataframe\">\n",
       "  <thead>\n",
       "    <tr style=\"text-align: right;\">\n",
       "      <th></th>\n",
       "      <th>image_path</th>\n",
       "      <th>study_type</th>\n",
       "      <th>patient</th>\n",
       "      <th>study</th>\n",
       "      <th>study_path</th>\n",
       "      <th>label</th>\n",
       "    </tr>\n",
       "  </thead>\n",
       "  <tbody>\n",
       "    <tr>\n",
       "      <th>0</th>\n",
       "      <td>../data/MURA-v1.1/train/XR_SHOULDER/patient00001/study1_positive/image1.png</td>\n",
       "      <td>XR_SHOULDER</td>\n",
       "      <td>patient00001</td>\n",
       "      <td>study1_positive</td>\n",
       "      <td>../data/MURA-v1.1/train/XR_SHOULDER/patient00001/study1_positive/</td>\n",
       "      <td>1</td>\n",
       "    </tr>\n",
       "    <tr>\n",
       "      <th>1</th>\n",
       "      <td>../data/MURA-v1.1/train/XR_SHOULDER/patient00001/study1_positive/image2.png</td>\n",
       "      <td>XR_SHOULDER</td>\n",
       "      <td>patient00001</td>\n",
       "      <td>study1_positive</td>\n",
       "      <td>../data/MURA-v1.1/train/XR_SHOULDER/patient00001/study1_positive/</td>\n",
       "      <td>1</td>\n",
       "    </tr>\n",
       "    <tr>\n",
       "      <th>2</th>\n",
       "      <td>../data/MURA-v1.1/train/XR_SHOULDER/patient00001/study1_positive/image3.png</td>\n",
       "      <td>XR_SHOULDER</td>\n",
       "      <td>patient00001</td>\n",
       "      <td>study1_positive</td>\n",
       "      <td>../data/MURA-v1.1/train/XR_SHOULDER/patient00001/study1_positive/</td>\n",
       "      <td>1</td>\n",
       "    </tr>\n",
       "    <tr>\n",
       "      <th>3</th>\n",
       "      <td>../data/MURA-v1.1/train/XR_SHOULDER/patient00002/study1_positive/image1.png</td>\n",
       "      <td>XR_SHOULDER</td>\n",
       "      <td>patient00002</td>\n",
       "      <td>study1_positive</td>\n",
       "      <td>../data/MURA-v1.1/train/XR_SHOULDER/patient00002/study1_positive/</td>\n",
       "      <td>1</td>\n",
       "    </tr>\n",
       "    <tr>\n",
       "      <th>4</th>\n",
       "      <td>../data/MURA-v1.1/train/XR_SHOULDER/patient00002/study1_positive/image2.png</td>\n",
       "      <td>XR_SHOULDER</td>\n",
       "      <td>patient00002</td>\n",
       "      <td>study1_positive</td>\n",
       "      <td>../data/MURA-v1.1/train/XR_SHOULDER/patient00002/study1_positive/</td>\n",
       "      <td>1</td>\n",
       "    </tr>\n",
       "  </tbody>\n",
       "</table>\n",
       "</div>"
      ],
      "text/plain": [
       "                                                                    image_path  \\\n",
       "0  ../data/MURA-v1.1/train/XR_SHOULDER/patient00001/study1_positive/image1.png   \n",
       "1  ../data/MURA-v1.1/train/XR_SHOULDER/patient00001/study1_positive/image2.png   \n",
       "2  ../data/MURA-v1.1/train/XR_SHOULDER/patient00001/study1_positive/image3.png   \n",
       "3  ../data/MURA-v1.1/train/XR_SHOULDER/patient00002/study1_positive/image1.png   \n",
       "4  ../data/MURA-v1.1/train/XR_SHOULDER/patient00002/study1_positive/image2.png   \n",
       "\n",
       "    study_type       patient            study  \\\n",
       "0  XR_SHOULDER  patient00001  study1_positive   \n",
       "1  XR_SHOULDER  patient00001  study1_positive   \n",
       "2  XR_SHOULDER  patient00001  study1_positive   \n",
       "3  XR_SHOULDER  patient00002  study1_positive   \n",
       "4  XR_SHOULDER  patient00002  study1_positive   \n",
       "\n",
       "                                                          study_path label  \n",
       "0  ../data/MURA-v1.1/train/XR_SHOULDER/patient00001/study1_positive/     1  \n",
       "1  ../data/MURA-v1.1/train/XR_SHOULDER/patient00001/study1_positive/     1  \n",
       "2  ../data/MURA-v1.1/train/XR_SHOULDER/patient00001/study1_positive/     1  \n",
       "3  ../data/MURA-v1.1/train/XR_SHOULDER/patient00002/study1_positive/     1  \n",
       "4  ../data/MURA-v1.1/train/XR_SHOULDER/patient00002/study1_positive/     1  "
      ]
     },
     "execution_count": 15,
     "metadata": {},
     "output_type": "execute_result"
    }
   ],
   "source": [
    "ref_trainset = pd.merge(\n",
    "    train_image_paths, train_labeled_studies, how=\"inner\", on=\"study_path\"\n",
    ")\n",
    "\n",
    "inspect_df(ref_trainset)"
   ]
  },
  {
   "cell_type": "markdown",
   "id": "41eafe23",
   "metadata": {},
   "source": [
    "#### Create a tensorflow input pipeline for the training data"
   ]
  },
  {
   "cell_type": "code",
   "execution_count": 16,
   "id": "19f477b2",
   "metadata": {},
   "outputs": [],
   "source": [
    "IMAGE_WIDTH = 224\n",
    "IMAGE_HEIGHT = 224"
   ]
  },
  {
   "cell_type": "markdown",
   "id": "135b50bf",
   "metadata": {},
   "source": [
    "Since image directory follows a specific ontological structure (7 upper extremities aka study types) we will shuffle the training dataset beforehand in order to ensure that the validation set will be representable of all study types. \n",
    "\n",
    "This is due to the fact that tf.keras `tf.keras.preprocessing.image.ImageDataGenerator` first performs the train-val split and then shuffles per epoch by default."
   ]
  },
  {
   "cell_type": "code",
   "execution_count": 17,
   "id": "ecdf24d7",
   "metadata": {},
   "outputs": [],
   "source": [
    "ref_trainset = shuffle(ref_trainset, random_state=SEED)"
   ]
  },
  {
   "cell_type": "code",
   "execution_count": 18,
   "id": "c8637a1c",
   "metadata": {},
   "outputs": [],
   "source": [
    "# tf.keras.applications.resnet50.preprocess_input:\n",
    "# will convert the input images from RGB to BGR, then will zero-center each color channel\n",
    "# with respect to the ImageNet dataset, without scaling.\n",
    "training = tf.keras.preprocessing.image.ImageDataGenerator(\n",
    "    rotation_range=30,\n",
    "    horizontal_flip=True,\n",
    "    fill_mode=\"constant\",\n",
    "    cval=0.0,\n",
    "    validation_split=0.2,\n",
    "    preprocessing_function=tf.keras.applications.resnet50.preprocess_input,\n",
    ")"
   ]
  },
  {
   "cell_type": "code",
   "execution_count": 19,
   "id": "21f38eee",
   "metadata": {},
   "outputs": [
    {
     "name": "stdout",
     "output_type": "stream",
     "text": [
      "Found 29447 validated image filenames belonging to 2 classes.\n"
     ]
    }
   ],
   "source": [
    "trainset = training.flow_from_dataframe(\n",
    "    dataframe=ref_trainset,\n",
    "    x_col=\"image_path\",\n",
    "    y_col=\"label\",\n",
    "    target_size=(IMAGE_WIDTH, IMAGE_HEIGHT),\n",
    "    class_mode=\"binary\",\n",
    "    batch_size=8,\n",
    "    seed=SEED,\n",
    "    shuffle=True,\n",
    "    subset=\"training\",\n",
    ")"
   ]
  },
  {
   "cell_type": "code",
   "execution_count": 20,
   "id": "3d3baff1",
   "metadata": {},
   "outputs": [
    {
     "name": "stdout",
     "output_type": "stream",
     "text": [
      "Found 7361 validated image filenames belonging to 2 classes.\n"
     ]
    }
   ],
   "source": [
    "validationset = training.flow_from_dataframe(\n",
    "    dataframe=ref_trainset,\n",
    "    x_col=\"image_path\",\n",
    "    y_col=\"label\",\n",
    "    target_size=(IMAGE_WIDTH, IMAGE_HEIGHT),\n",
    "    class_mode=\"binary\",\n",
    "    batch_size=8,\n",
    "    seed=SEED,\n",
    "    shuffle=False,\n",
    "    subset=\"validation\",\n",
    ")"
   ]
  },
  {
   "cell_type": "markdown",
   "id": "92e2665b",
   "metadata": {},
   "source": [
    "### ResNet50 architecture, pretrained on ImageNet"
   ]
  },
  {
   "cell_type": "code",
   "execution_count": 21,
   "id": "4e3a6125",
   "metadata": {},
   "outputs": [
    {
     "name": "stderr",
     "output_type": "stream",
     "text": [
      "2022-04-05 09:50:48.977007: I tensorflow/core/platform/cpu_feature_guard.cc:151] This TensorFlow binary is optimized with oneAPI Deep Neural Network Library (oneDNN) to use the following CPU instructions in performance-critical operations:  AVX2 FMA\n",
      "To enable them in other operations, rebuild TensorFlow with the appropriate compiler flags.\n",
      "2022-04-05 09:50:48.977998: I tensorflow/stream_executor/cuda/cuda_gpu_executor.cc:936] successful NUMA node read from SysFS had negative value (-1), but there must be at least one NUMA node, so returning NUMA node zero\n",
      "2022-04-05 09:50:48.978348: I tensorflow/stream_executor/cuda/cuda_gpu_executor.cc:936] successful NUMA node read from SysFS had negative value (-1), but there must be at least one NUMA node, so returning NUMA node zero\n",
      "2022-04-05 09:50:48.978545: I tensorflow/stream_executor/cuda/cuda_gpu_executor.cc:936] successful NUMA node read from SysFS had negative value (-1), but there must be at least one NUMA node, so returning NUMA node zero\n",
      "2022-04-05 09:50:49.723031: I tensorflow/stream_executor/cuda/cuda_gpu_executor.cc:936] successful NUMA node read from SysFS had negative value (-1), but there must be at least one NUMA node, so returning NUMA node zero\n",
      "2022-04-05 09:50:49.723216: I tensorflow/stream_executor/cuda/cuda_gpu_executor.cc:936] successful NUMA node read from SysFS had negative value (-1), but there must be at least one NUMA node, so returning NUMA node zero\n",
      "2022-04-05 09:50:49.723348: I tensorflow/stream_executor/cuda/cuda_gpu_executor.cc:936] successful NUMA node read from SysFS had negative value (-1), but there must be at least one NUMA node, so returning NUMA node zero\n",
      "2022-04-05 09:50:49.723684: I tensorflow/core/common_runtime/gpu/gpu_device.cc:1525] Created device /job:localhost/replica:0/task:0/device:GPU:0 with 1825 MB memory:  -> device: 0, name: Quadro T1000, pci bus id: 0000:01:00.0, compute capability: 7.5\n"
     ]
    }
   ],
   "source": [
    "METRICS = [\n",
    "    tf.keras.metrics.TruePositives(name=\"tp\"),\n",
    "    tf.keras.metrics.FalsePositives(name=\"fp\"),\n",
    "    tf.keras.metrics.TrueNegatives(name=\"tn\"),\n",
    "    tf.keras.metrics.FalseNegatives(name=\"fn\"),\n",
    "    tf.keras.metrics.BinaryAccuracy(name=\"binary_acc\"),\n",
    "    tf.keras.metrics.Precision(name=\"precision\"),\n",
    "    tf.keras.metrics.Recall(name=\"recall\"),\n",
    "    F1Score(name=\"f1_score\"),\n",
    "    tf.keras.metrics.AUC(name=\"roc_auc\", curve=\"ROC\"),\n",
    "    tf.keras.metrics.AUC(name=\"pr_auc\", curve=\"PR\"),\n",
    "    tfa.metrics.CohenKappa(name=\"cohen_kappa\", num_classes=2),\n",
    "]"
   ]
  },
  {
   "cell_type": "code",
   "execution_count": 22,
   "id": "30921b05",
   "metadata": {},
   "outputs": [
    {
     "name": "stdout",
     "output_type": "stream",
     "text": [
      "Downloading data from https://storage.googleapis.com/tensorflow/keras-applications/resnet/resnet50_weights_tf_dim_ordering_tf_kernels_notop.h5\n",
      "94773248/94765736 [==============================] - 23s 0us/step\n",
      "94781440/94765736 [==============================] - 23s 0us/step\n"
     ]
    }
   ],
   "source": [
    "\"\"\"\n",
    "ResNet50 model from `\"Deep Residual Learning for Image Recognition\" <https://arxiv.org/abs/1512.03385>`_.\n",
    "\n",
    "We will opt for max pooling for feature extraction, since we want to \"emphasize\" any sharp features on the image\n",
    "(e.g hardware placed on human body that most definitely suggests abnormality).\n",
    "\"\"\"\n",
    "resnet = tf.keras.applications.resnet50.ResNet50(\n",
    "    include_top=False,  # do not include the fully-connected layer at the top of the network\n",
    "    weights=\"imagenet\",\n",
    "    input_shape=(IMAGE_WIDTH, IMAGE_HEIGHT, 3),\n",
    "    pooling=\"max\",  # pooling mode for feature extraction\n",
    "    classes=2,\n",
    ")"
   ]
  },
  {
   "cell_type": "code",
   "execution_count": 23,
   "id": "202355bd",
   "metadata": {},
   "outputs": [],
   "source": [
    "def make_resnet_model(\n",
    "    base_model: tf.keras.applications.resnet50.ResNet50,\n",
    ") -> tf.keras.Model:\n",
    "\n",
    "    # freeze base model\n",
    "    base_model.trainable = False\n",
    "\n",
    "    inputs = tf.keras.Input(shape=(IMAGE_WIDTH, IMAGE_HEIGHT, 3))\n",
    "    x = base_model(inputs, training=False)\n",
    "    x = tf.keras.layers.Dropout(rate=0.2)(x)\n",
    "    output = tf.keras.layers.Dense(units=1, activation=\"sigmoid\")(x)\n",
    "\n",
    "    model = tf.keras.Model(inputs, output)\n",
    "\n",
    "    model.compile(\n",
    "        optimizer=tf.keras.optimizers.Adam(learning_rate=0.0001),\n",
    "        loss=tf.keras.losses.BinaryCrossentropy(),\n",
    "        metrics=METRICS,\n",
    "    )\n",
    "\n",
    "    return model"
   ]
  },
  {
   "cell_type": "code",
   "execution_count": 24,
   "id": "b2e68f4f",
   "metadata": {},
   "outputs": [],
   "source": [
    "model = make_resnet_model(base_model=resnet)"
   ]
  },
  {
   "cell_type": "code",
   "execution_count": 25,
   "id": "1c19ad13",
   "metadata": {
    "scrolled": false
   },
   "outputs": [
    {
     "name": "stdout",
     "output_type": "stream",
     "text": [
      "Model: \"model\"\n",
      "_________________________________________________________________\n",
      " Layer (type)                Output Shape              Param #   \n",
      "=================================================================\n",
      " input_2 (InputLayer)        [(None, 224, 224, 3)]     0         \n",
      "                                                                 \n",
      " resnet50 (Functional)       (None, 2048)              23587712  \n",
      "                                                                 \n",
      " dropout (Dropout)           (None, 2048)              0         \n",
      "                                                                 \n",
      " dense (Dense)               (None, 1)                 2049      \n",
      "                                                                 \n",
      "=================================================================\n",
      "Total params: 23,589,761\n",
      "Trainable params: 2,049\n",
      "Non-trainable params: 23,587,712\n",
      "_________________________________________________________________\n"
     ]
    }
   ],
   "source": [
    "model.summary()"
   ]
  },
  {
   "cell_type": "code",
   "execution_count": 26,
   "id": "97981226",
   "metadata": {
    "scrolled": false
   },
   "outputs": [
    {
     "data": {
      "image/png": "[encoded data removed]",
      "text/plain": [
       "<IPython.core.display.Image object>"
      ]
     },
     "execution_count": 26,
     "metadata": {},
     "output_type": "execute_result"
    }
   ],
   "source": [
    "tf.keras.utils.plot_model(\n",
    "    model,\n",
    "    to_file=f\"../static/resnet50_pt_imagenet-all-study-types-{model.count_params()}.png\",\n",
    "    show_shapes=True,\n",
    "    show_layer_names=True,\n",
    ")"
   ]
  },
  {
   "cell_type": "code",
   "execution_count": 27,
   "id": "4213d77b",
   "metadata": {},
   "outputs": [],
   "source": [
    "early_stopping = tf.keras.callbacks.EarlyStopping(\n",
    "    monitor=\"val_cohen_kappa\",\n",
    "    verbose=1,\n",
    "    patience=5,\n",
    "    mode=\"max\",\n",
    "    baseline=0.0,\n",
    "    restore_best_weights=True,\n",
    ")"
   ]
  },
  {
   "cell_type": "code",
   "execution_count": 28,
   "id": "aa319ec8",
   "metadata": {
    "scrolled": false
   },
   "outputs": [
    {
     "name": "stdout",
     "output_type": "stream",
     "text": [
      "Epoch 1/20\n"
     ]
    },
    {
     "name": "stderr",
     "output_type": "stream",
     "text": [
      "2022-04-05 09:51:19.817824: I tensorflow/stream_executor/cuda/cuda_dnn.cc:368] Loaded cuDNN version 8303\n",
      "2022-04-05 09:51:21.647376: W tensorflow/core/common_runtime/bfc_allocator.cc:343] Garbage collection: deallocate free memory regions (i.e., allocations) so that we can re-allocate a larger region to avoid OOM due to memory fragmentation. If you see this message frequently, you are running near the threshold of the available device memory and re-allocation may incur great performance overhead. You may try smaller batch sizes to observe the performance impact. Set TF_ENABLE_GPU_GARBAGE_COLLECTION=false if you'd like to disable this feature.\n",
      "2022-04-05 09:51:21.804275: W tensorflow/core/common_runtime/bfc_allocator.cc:275] Allocator (GPU_0_bfc) ran out of memory trying to allocate 2.28GiB with freed_by_count=0. The caller indicates that this is not a failure, but may mean that there could be performance gains if more memory were available.\n",
      "2022-04-05 09:51:21.804306: W tensorflow/core/common_runtime/bfc_allocator.cc:275] Allocator (GPU_0_bfc) ran out of memory trying to allocate 2.28GiB with freed_by_count=0. The caller indicates that this is not a failure, but may mean that there could be performance gains if more memory were available.\n",
      "2022-04-05 09:51:21.838490: W tensorflow/core/common_runtime/bfc_allocator.cc:275] Allocator (GPU_0_bfc) ran out of memory trying to allocate 2.30GiB with freed_by_count=0. The caller indicates that this is not a failure, but may mean that there could be performance gains if more memory were available.\n",
      "2022-04-05 09:51:21.838523: W tensorflow/core/common_runtime/bfc_allocator.cc:275] Allocator (GPU_0_bfc) ran out of memory trying to allocate 2.30GiB with freed_by_count=0. The caller indicates that this is not a failure, but may mean that there could be performance gains if more memory were available.\n"
     ]
    },
    {
     "name": "stdout",
     "output_type": "stream",
     "text": [
      "3187/3681 [========================>.....] - ETA: 43s - loss: 1.7873 - tp: 4882.0000 - fp: 5306.0000 - tn: 9828.0000 - fn: 5479.0000 - binary_acc: 0.5770 - precision: 0.4792 - recall: 0.4712 - f1_score: 0.4752 - roc_auc: 0.5845 - pr_auc: 0.4791 - cohen_kappa: 0.1209"
     ]
    },
    {
     "name": "stderr",
     "output_type": "stream",
     "text": [
      "2022-04-05 09:56:03.198091: W tensorflow/core/common_runtime/bfc_allocator.cc:275] Allocator (GPU_0_bfc) ran out of memory trying to allocate 2.28GiB with freed_by_count=0. The caller indicates that this is not a failure, but may mean that there could be performance gains if more memory were available.\n",
      "2022-04-05 09:56:03.198121: W tensorflow/core/common_runtime/bfc_allocator.cc:275] Allocator (GPU_0_bfc) ran out of memory trying to allocate 2.28GiB with freed_by_count=0. The caller indicates that this is not a failure, but may mean that there could be performance gains if more memory were available.\n",
      "2022-04-05 09:56:03.231965: W tensorflow/core/common_runtime/bfc_allocator.cc:275] Allocator (GPU_0_bfc) ran out of memory trying to allocate 2.30GiB with freed_by_count=0. The caller indicates that this is not a failure, but may mean that there could be performance gains if more memory were available.\n",
      "2022-04-05 09:56:03.231984: W tensorflow/core/common_runtime/bfc_allocator.cc:275] Allocator (GPU_0_bfc) ran out of memory trying to allocate 2.30GiB with freed_by_count=0. The caller indicates that this is not a failure, but may mean that there could be performance gains if more memory were available.\n"
     ]
    },
    {
     "name": "stdout",
     "output_type": "stream",
     "text": [
      "3681/3681 [==============================] - ETA: 0s - loss: 1.7391 - tp: 5677.0000 - fp: 6054.0000 - tn: 11462.0000 - fn: 6254.0000 - binary_acc: 0.5820 - precision: 0.4839 - recall: 0.4758 - f1_score: 0.4798 - roc_auc: 0.5906 - pr_auc: 0.4845 - cohen_kappa: 0.1305"
     ]
    },
    {
     "name": "stderr",
     "output_type": "stream",
     "text": [
      "2022-04-05 09:58:16.924436: W tensorflow/core/common_runtime/bfc_allocator.cc:275] Allocator (GPU_0_bfc) ran out of memory trying to allocate 2.27GiB with freed_by_count=0. The caller indicates that this is not a failure, but may mean that there could be performance gains if more memory were available.\n",
      "2022-04-05 09:58:16.924467: W tensorflow/core/common_runtime/bfc_allocator.cc:275] Allocator (GPU_0_bfc) ran out of memory trying to allocate 2.27GiB with freed_by_count=0. The caller indicates that this is not a failure, but may mean that there could be performance gains if more memory were available.\n"
     ]
    },
    {
     "name": "stdout",
     "output_type": "stream",
     "text": [
      "3681/3681 [==============================] - 422s 113ms/step - loss: 1.7391 - tp: 5677.0000 - fp: 6054.0000 - tn: 11462.0000 - fn: 6254.0000 - binary_acc: 0.5820 - precision: 0.4839 - recall: 0.4758 - f1_score: 0.4798 - roc_auc: 0.5906 - pr_auc: 0.4845 - cohen_kappa: 0.1305 - val_loss: 0.8941 - val_tp: 1678.0000 - val_fp: 1229.0000 - val_tn: 3190.0000 - val_fn: 1264.0000 - val_binary_acc: 0.6613 - val_precision: 0.5772 - val_recall: 0.5704 - val_f1_score: 0.5738 - val_roc_auc: 0.6985 - val_pr_auc: 0.6068 - val_cohen_kappa: 0.2928\n",
      "Epoch 2/20\n",
      "3681/3681 [==============================] - 460s 125ms/step - loss: 1.1692 - tp: 6374.0000 - fp: 5254.0000 - tn: 12262.0000 - fn: 5557.0000 - binary_acc: 0.6329 - precision: 0.5482 - recall: 0.5342 - f1_score: 0.5411 - roc_auc: 0.6615 - pr_auc: 0.5659 - cohen_kappa: 0.2352 - val_loss: 0.7608 - val_tp: 1368.0000 - val_fp: 700.0000 - val_tn: 3719.0000 - val_fn: 1574.0000 - val_binary_acc: 0.6911 - val_precision: 0.6615 - val_recall: 0.4650 - val_f1_score: 0.5461 - val_roc_auc: 0.7235 - val_pr_auc: 0.6564 - val_cohen_kappa: 0.3226\n",
      "Epoch 3/20\n",
      "3681/3681 [==============================] - 557s 151ms/step - loss: 0.8981 - tp: 6603.0000 - fp: 4811.0000 - tn: 12705.0000 - fn: 5328.0000 - binary_acc: 0.6557 - precision: 0.5785 - recall: 0.5534 - f1_score: 0.5657 - roc_auc: 0.6934 - pr_auc: 0.6120 - cohen_kappa: 0.2807 - val_loss: 0.6341 - val_tp: 1821.0000 - val_fp: 1011.0000 - val_tn: 3408.0000 - val_fn: 1121.0000 - val_binary_acc: 0.7104 - val_precision: 0.6430 - val_recall: 0.6190 - val_f1_score: 0.6308 - val_roc_auc: 0.7583 - val_pr_auc: 0.6998 - val_cohen_kappa: 0.3926\n",
      "Epoch 4/20\n",
      "3681/3681 [==============================] - 535s 145ms/step - loss: 0.7367 - tp: 6754.0000 - fp: 4452.0000 - tn: 13064.0000 - fn: 5177.0000 - binary_acc: 0.6730 - precision: 0.6027 - recall: 0.5661 - f1_score: 0.5838 - roc_auc: 0.7159 - pr_auc: 0.6464 - cohen_kappa: 0.3150 - val_loss: 0.5971 - val_tp: 1398.0000 - val_fp: 475.0000 - val_tn: 3944.0000 - val_fn: 1544.0000 - val_binary_acc: 0.7257 - val_precision: 0.7464 - val_recall: 0.4752 - val_f1_score: 0.5807 - val_roc_auc: 0.7664 - val_pr_auc: 0.7106 - val_cohen_kappa: 0.3915\n",
      "Epoch 5/20\n",
      "3681/3681 [==============================] - 508s 138ms/step - loss: 0.6514 - tp: 6830.0000 - fp: 4053.0000 - tn: 13463.0000 - fn: 5101.0000 - binary_acc: 0.6891 - precision: 0.6276 - recall: 0.5725 - f1_score: 0.5988 - roc_auc: 0.7347 - pr_auc: 0.6713 - cohen_kappa: 0.3459 - val_loss: 0.5537 - val_tp: 1698.0000 - val_fp: 730.0000 - val_tn: 3689.0000 - val_fn: 1244.0000 - val_binary_acc: 0.7318 - val_precision: 0.6993 - val_recall: 0.5772 - val_f1_score: 0.6324 - val_roc_auc: 0.7799 - val_pr_auc: 0.7260 - val_cohen_kappa: 0.4244\n",
      "Epoch 6/20\n",
      "3681/3681 [==============================] - 479s 130ms/step - loss: 0.6123 - tp: 6820.0000 - fp: 3790.0000 - tn: 13726.0000 - fn: 5111.0000 - binary_acc: 0.6977 - precision: 0.6428 - recall: 0.5716 - f1_score: 0.6051 - roc_auc: 0.7464 - pr_auc: 0.6854 - cohen_kappa: 0.3616 - val_loss: 0.6052 - val_tp: 1006.0000 - val_fp: 188.0000 - val_tn: 4231.0000 - val_fn: 1936.0000 - val_binary_acc: 0.7115 - val_precision: 0.8425 - val_recall: 0.3419 - val_f1_score: 0.4865 - val_roc_auc: 0.7783 - val_pr_auc: 0.7299 - val_cohen_kappa: 0.3324\n",
      "Epoch 7/20\n",
      "3681/3681 [==============================] - 559s 152ms/step - loss: 0.5980 - tp: 6784.0000 - fp: 3613.0000 - tn: 13903.0000 - fn: 5147.0000 - binary_acc: 0.7025 - precision: 0.6525 - recall: 0.5686 - f1_score: 0.6077 - roc_auc: 0.7493 - pr_auc: 0.6894 - cohen_kappa: 0.3699 - val_loss: 0.5459 - val_tp: 1892.0000 - val_fp: 937.0000 - val_tn: 3482.0000 - val_fn: 1050.0000 - val_binary_acc: 0.7301 - val_precision: 0.6688 - val_recall: 0.6431 - val_f1_score: 0.6557 - val_roc_auc: 0.7854 - val_pr_auc: 0.7305 - val_cohen_kappa: 0.4338\n",
      "Epoch 8/20\n",
      "3681/3681 [==============================] - 632s 172ms/step - loss: 0.5869 - tp: 6819.0000 - fp: 3580.0000 - tn: 13936.0000 - fn: 5112.0000 - binary_acc: 0.7048 - precision: 0.6557 - recall: 0.5715 - f1_score: 0.6107 - roc_auc: 0.7537 - pr_auc: 0.6970 - cohen_kappa: 0.3748 - val_loss: 0.5430 - val_tp: 1868.0000 - val_fp: 887.0000 - val_tn: 3532.0000 - val_fn: 1074.0000 - val_binary_acc: 0.7336 - val_precision: 0.6780 - val_recall: 0.6349 - val_f1_score: 0.6558 - val_roc_auc: 0.7870 - val_pr_auc: 0.7313 - val_cohen_kappa: 0.4389\n",
      "Epoch 9/20\n",
      "3681/3681 [==============================] - 642s 174ms/step - loss: 0.5871 - tp: 6797.0000 - fp: 3602.0000 - tn: 13914.0000 - fn: 5134.0000 - binary_acc: 0.7033 - precision: 0.6536 - recall: 0.5697 - f1_score: 0.6088 - roc_auc: 0.7537 - pr_auc: 0.6957 - cohen_kappa: 0.3717 - val_loss: 0.5539 - val_tp: 1419.0000 - val_fp: 466.0000 - val_tn: 3953.0000 - val_fn: 1523.0000 - val_binary_acc: 0.7298 - val_precision: 0.7528 - val_recall: 0.4823 - val_f1_score: 0.5879 - val_roc_auc: 0.7817 - val_pr_auc: 0.7186 - val_cohen_kappa: 0.4009\n",
      "Epoch 10/20\n",
      "3681/3681 [==============================] - 627s 170ms/step - loss: 0.5900 - tp: 6779.0000 - fp: 3509.0000 - tn: 14007.0000 - fn: 5152.0000 - binary_acc: 0.7059 - precision: 0.6589 - recall: 0.5682 - f1_score: 0.6102 - roc_auc: 0.7519 - pr_auc: 0.6904 - cohen_kappa: 0.3761 - val_loss: 0.5374 - val_tp: 1767.0000 - val_fp: 772.0000 - val_tn: 3647.0000 - val_fn: 1175.0000 - val_binary_acc: 0.7355 - val_precision: 0.6959 - val_recall: 0.6006 - val_f1_score: 0.6448 - val_roc_auc: 0.7887 - val_pr_auc: 0.7358 - val_cohen_kappa: 0.4359\n",
      "Epoch 11/20\n",
      "3681/3681 [==============================] - 640s 174ms/step - loss: 0.5876 - tp: 6800.0000 - fp: 3525.0000 - tn: 13991.0000 - fn: 5131.0000 - binary_acc: 0.7060 - precision: 0.6586 - recall: 0.5699 - f1_score: 0.6111 - roc_auc: 0.7529 - pr_auc: 0.6939 - cohen_kappa: 0.3768 - val_loss: 0.5583 - val_tp: 1872.0000 - val_fp: 952.0000 - val_tn: 3467.0000 - val_fn: 1070.0000 - val_binary_acc: 0.7253 - val_precision: 0.6629 - val_recall: 0.6363 - val_f1_score: 0.6493 - val_roc_auc: 0.7770 - val_pr_auc: 0.7190 - val_cohen_kappa: 0.4237\n",
      "Epoch 12/20\n",
      "3681/3681 [==============================] - 504s 137ms/step - loss: 0.5913 - tp: 6726.0000 - fp: 3607.0000 - tn: 13909.0000 - fn: 5205.0000 - binary_acc: 0.7008 - precision: 0.6509 - recall: 0.5637 - f1_score: 0.6042 - roc_auc: 0.7484 - pr_auc: 0.6901 - cohen_kappa: 0.3656 - val_loss: 0.5666 - val_tp: 1173.0000 - val_fp: 275.0000 - val_tn: 4144.0000 - val_fn: 1769.0000 - val_binary_acc: 0.7223 - val_precision: 0.8101 - val_recall: 0.3987 - val_f1_score: 0.5344 - val_roc_auc: 0.7847 - val_pr_auc: 0.7340 - val_cohen_kappa: 0.3677\n",
      "Epoch 13/20\n",
      "3681/3681 [==============================] - ETA: 0s - loss: 0.5845 - tp: 6791.0000 - fp: 3478.0000 - tn: 14038.0000 - fn: 5140.0000 - binary_acc: 0.7073 - precision: 0.6613 - recall: 0.5692 - f1_score: 0.6118 - roc_auc: 0.7540 - pr_auc: 0.6940 - cohen_kappa: 0.3790Restoring model weights from the end of the best epoch: 8.\n",
      "3681/3681 [==============================] - 492s 134ms/step - loss: 0.5845 - tp: 6791.0000 - fp: 3478.0000 - tn: 14038.0000 - fn: 5140.0000 - binary_acc: 0.7073 - precision: 0.6613 - recall: 0.5692 - f1_score: 0.6118 - roc_auc: 0.7540 - pr_auc: 0.6940 - cohen_kappa: 0.3790 - val_loss: 0.6168 - val_tp: 923.0000 - val_fp: 136.0000 - val_tn: 4283.0000 - val_fn: 2019.0000 - val_binary_acc: 0.7072 - val_precision: 0.8716 - val_recall: 0.3137 - val_f1_score: 0.4614 - val_roc_auc: 0.7843 - val_pr_auc: 0.7349 - val_cohen_kappa: 0.3168\n",
      "Epoch 13: early stopping\n"
     ]
    }
   ],
   "source": [
    "history = model.fit(\n",
    "    trainset,\n",
    "    epochs=20,\n",
    "    validation_data=validationset,\n",
    "    callbacks=[early_stopping],\n",
    ")"
   ]
  },
  {
   "cell_type": "code",
   "execution_count": 29,
   "id": "d4fda3ed",
   "metadata": {},
   "outputs": [
    {
     "data": {
      "image/png": "[encoded data removed]",
      "text/plain": [
       "<Figure size 1296x1080 with 4 Axes>"
      ]
     },
     "metadata": {},
     "output_type": "display_data"
    }
   ],
   "source": [
    "plot_metrics(history)"
   ]
  },
  {
   "cell_type": "code",
   "execution_count": 31,
   "id": "96ab3e5e",
   "metadata": {},
   "outputs": [
    {
     "name": "stdout",
     "output_type": "stream",
     "text": [
      "Saving: ../models/resnet50_pt_imagenet-all-study-types-23589761.h5\n",
      "WARNING:tensorflow:Compiled the loaded model, but the compiled metrics have yet to be built. `model.compile_metrics` will be empty until you train or evaluate the model.\n"
     ]
    }
   ],
   "source": [
    "# model naming convention: {architecture}-{which-study-type?}-{num-parameters}.h5\n",
    "#\n",
    "# to load models:\n",
    "# model = tf.keras.models.load_model(\n",
    "#     '../models/resnet50_pt_imagenet-all-study-types-?.h5',\n",
    "#     custom_objects={'F1Score': F1Score}\n",
    "# )\n",
    "# densenet = tf.keras.models.load_model(\n",
    "#     '../models/resnet50_base.h5',\n",
    "# )\n",
    "print(\n",
    "    f\"Saving: ../models/resnet50_pt_imagenet-all-study-types-{model.count_params()}.h5\"\n",
    ")\n",
    "model.save(f\"../models/resnet50_pt_imagenet-all-study-types-{model.count_params()}.h5\")\n",
    "resnet.save(\"../models/resnet50_base.h5\")"
   ]
  },
  {
   "cell_type": "code",
   "execution_count": 32,
   "id": "54ecc66f",
   "metadata": {},
   "outputs": [],
   "source": [
    "# fine-tuning: unfreeze the base model and train the entire model end-to-end with a low learning rate\n",
    "resnet.trainable = True\n",
    "\n",
    "model.compile(\n",
    "    optimizer=tf.keras.optimizers.Adam(\n",
    "        1e-5\n",
    "    ),  # we need small learning rate to avoid catastrophic forgetting\n",
    "    loss=tf.keras.losses.BinaryCrossentropy(),\n",
    "    metrics=METRICS,\n",
    ")"
   ]
  },
  {
   "cell_type": "code",
   "execution_count": 33,
   "id": "656215e6",
   "metadata": {},
   "outputs": [],
   "source": [
    "reduce_lr_on_plateau = tf.keras.callbacks.ReduceLROnPlateau(\n",
    "    monitor=\"val_cohen_kappa\",\n",
    "    verbose=1,\n",
    "    patience=4,\n",
    "    mode=\"max\",\n",
    "    factor=0.2,\n",
    "    min_lr=1e-10,\n",
    ")"
   ]
  },
  {
   "cell_type": "code",
   "execution_count": 34,
   "id": "3e36539b",
   "metadata": {
    "scrolled": false
   },
   "outputs": [
    {
     "name": "stdout",
     "output_type": "stream",
     "text": [
      "Epoch 1/10\n",
      "3681/3681 [==============================] - 1182s 319ms/step - loss: 0.5154 - tp: 7781.0000 - fp: 2247.0000 - tn: 19688.0000 - fn: 7092.0000 - binary_acc: 0.7463 - precision: 0.7759 - recall: 0.5232 - f1_score: 0.6250 - roc_auc: 0.7895 - pr_auc: 0.7555 - cohen_kappa: 0.4440 - val_loss: 0.4764 - val_tp: 1895.0000 - val_fp: 573.0000 - val_tn: 3846.0000 - val_fn: 1047.0000 - val_binary_acc: 0.7799 - val_precision: 0.7678 - val_recall: 0.6441 - val_f1_score: 0.7006 - val_roc_auc: 0.8374 - val_pr_auc: 0.8073 - val_cohen_kappa: 0.5287 - lr: 1.0000e-05\n",
      "Epoch 2/10\n",
      "3681/3681 [==============================] - 1142s 310ms/step - loss: 0.4705 - tp: 7351.0000 - fp: 1736.0000 - tn: 15780.0000 - fn: 4580.0000 - binary_acc: 0.7855 - precision: 0.8090 - recall: 0.6161 - f1_score: 0.6995 - roc_auc: 0.8394 - pr_auc: 0.8152 - cohen_kappa: 0.5374 - val_loss: 0.4965 - val_tp: 1368.0000 - val_fp: 152.0000 - val_tn: 4267.0000 - val_fn: 1574.0000 - val_binary_acc: 0.7655 - val_precision: 0.9000 - val_recall: 0.4650 - val_f1_score: 0.6132 - val_roc_auc: 0.8505 - val_pr_auc: 0.8228 - val_cohen_kappa: 0.4684 - lr: 1.0000e-05\n",
      "Epoch 3/10\n",
      "3681/3681 [==============================] - 955s 259ms/step - loss: 0.4489 - tp: 7653.0000 - fp: 1651.0000 - tn: 15865.0000 - fn: 4278.0000 - binary_acc: 0.7987 - precision: 0.8225 - recall: 0.6414 - f1_score: 0.7208 - roc_auc: 0.8542 - pr_auc: 0.8330 - cohen_kappa: 0.5671 - val_loss: 0.4499 - val_tp: 2026.0000 - val_fp: 521.0000 - val_tn: 3898.0000 - val_fn: 916.0000 - val_binary_acc: 0.8048 - val_precision: 0.7954 - val_recall: 0.6886 - val_f1_score: 0.7382 - val_roc_auc: 0.8585 - val_pr_auc: 0.8329 - val_cohen_kappa: 0.5838 - lr: 1.0000e-05\n",
      "Epoch 4/10\n",
      "3681/3681 [==============================] - 966s 263ms/step - loss: 0.4325 - tp: 7823.0000 - fp: 1591.0000 - tn: 15925.0000 - fn: 4108.0000 - binary_acc: 0.8065 - precision: 0.8310 - recall: 0.6557 - f1_score: 0.7330 - roc_auc: 0.8652 - pr_auc: 0.8471 - cohen_kappa: 0.5845 - val_loss: 0.4646 - val_tp: 1569.0000 - val_fp: 200.0000 - val_tn: 4219.0000 - val_fn: 1373.0000 - val_binary_acc: 0.7863 - val_precision: 0.8869 - val_recall: 0.5333 - val_f1_score: 0.6661 - val_roc_auc: 0.8567 - val_pr_auc: 0.8281 - val_cohen_kappa: 0.5229 - lr: 1.0000e-05\n",
      "Epoch 5/10\n",
      "3681/3681 [==============================] - 900s 244ms/step - loss: 0.4195 - tp: 8045.0000 - fp: 1584.0000 - tn: 15932.0000 - fn: 3886.0000 - binary_acc: 0.8142 - precision: 0.8355 - recall: 0.6743 - f1_score: 0.7463 - roc_auc: 0.8737 - pr_auc: 0.8563 - cohen_kappa: 0.6024 - val_loss: 0.4480 - val_tp: 1988.0000 - val_fp: 497.0000 - val_tn: 3922.0000 - val_fn: 954.0000 - val_binary_acc: 0.8029 - val_precision: 0.8000 - val_recall: 0.6757 - val_f1_score: 0.7326 - val_roc_auc: 0.8584 - val_pr_auc: 0.8325 - val_cohen_kappa: 0.5783 - lr: 1.0000e-05\n",
      "Epoch 6/10\n",
      "3681/3681 [==============================] - 899s 244ms/step - loss: 0.4044 - tp: 8252.0000 - fp: 1516.0000 - tn: 16000.0000 - fn: 3679.0000 - binary_acc: 0.8236 - precision: 0.8448 - recall: 0.6916 - f1_score: 0.7606 - roc_auc: 0.8830 - pr_auc: 0.8681 - cohen_kappa: 0.6231 - val_loss: 0.4424 - val_tp: 1983.0000 - val_fp: 461.0000 - val_tn: 3958.0000 - val_fn: 959.0000 - val_binary_acc: 0.8071 - val_precision: 0.8114 - val_recall: 0.6740 - val_f1_score: 0.7364 - val_roc_auc: 0.8613 - val_pr_auc: 0.8372 - val_cohen_kappa: 0.5863 - lr: 1.0000e-05\n",
      "Epoch 7/10\n",
      "3681/3681 [==============================] - 901s 245ms/step - loss: 0.3929 - tp: 8405.0000 - fp: 1531.0000 - tn: 15985.0000 - fn: 3526.0000 - binary_acc: 0.8283 - precision: 0.8459 - recall: 0.7045 - f1_score: 0.7687 - roc_auc: 0.8899 - pr_auc: 0.8749 - cohen_kappa: 0.6340 - val_loss: 0.4653 - val_tp: 1709.0000 - val_fp: 236.0000 - val_tn: 4183.0000 - val_fn: 1233.0000 - val_binary_acc: 0.8004 - val_precision: 0.8787 - val_recall: 0.5809 - val_f1_score: 0.6994 - val_roc_auc: 0.8530 - val_pr_auc: 0.8303 - val_cohen_kappa: 0.5592 - lr: 1.0000e-05\n",
      "Epoch 8/10\n",
      "3681/3681 [==============================] - 936s 254ms/step - loss: 0.3805 - tp: 8513.0000 - fp: 1487.0000 - tn: 16029.0000 - fn: 3418.0000 - binary_acc: 0.8334 - precision: 0.8513 - recall: 0.7135 - f1_score: 0.7763 - roc_auc: 0.8979 - pr_auc: 0.8836 - cohen_kappa: 0.6453 - val_loss: 0.4401 - val_tp: 2106.0000 - val_fp: 588.0000 - val_tn: 3831.0000 - val_fn: 836.0000 - val_binary_acc: 0.8065 - val_precision: 0.7817 - val_recall: 0.7158 - val_f1_score: 0.7473 - val_roc_auc: 0.8670 - val_pr_auc: 0.8418 - val_cohen_kappa: 0.5911 - lr: 1.0000e-05\n",
      "Epoch 9/10\n",
      "3681/3681 [==============================] - 950s 258ms/step - loss: 0.3720 - tp: 8590.0000 - fp: 1425.0000 - tn: 16091.0000 - fn: 3341.0000 - binary_acc: 0.8381 - precision: 0.8577 - recall: 0.7200 - f1_score: 0.7828 - roc_auc: 0.9011 - pr_auc: 0.8893 - cohen_kappa: 0.6554 - val_loss: 0.4377 - val_tp: 2022.0000 - val_fp: 452.0000 - val_tn: 3967.0000 - val_fn: 920.0000 - val_binary_acc: 0.8136 - val_precision: 0.8173 - val_recall: 0.6873 - val_f1_score: 0.7467 - val_roc_auc: 0.8676 - val_pr_auc: 0.8432 - val_cohen_kappa: 0.6010 - lr: 1.0000e-05\n",
      "Epoch 10/10\n",
      "3681/3681 [==============================] - 1012s 275ms/step - loss: 0.3578 - tp: 8775.0000 - fp: 1382.0000 - tn: 16134.0000 - fn: 3156.0000 - binary_acc: 0.8459 - precision: 0.8639 - recall: 0.7355 - f1_score: 0.7945 - roc_auc: 0.9101 - pr_auc: 0.8978 - cohen_kappa: 0.6725 - val_loss: 0.4584 - val_tp: 2125.0000 - val_fp: 599.0000 - val_tn: 3820.0000 - val_fn: 817.0000 - val_binary_acc: 0.8076 - val_precision: 0.7801 - val_recall: 0.7223 - val_f1_score: 0.7501 - val_roc_auc: 0.8654 - val_pr_auc: 0.8350 - val_cohen_kappa: 0.5941 - lr: 1.0000e-05\n"
     ]
    }
   ],
   "source": [
    "history = model.fit(\n",
    "    trainset,\n",
    "    epochs=10,\n",
    "    validation_data=validationset,\n",
    "    callbacks=[early_stopping, reduce_lr_on_plateau],\n",
    ")"
   ]
  },
  {
   "cell_type": "code",
   "execution_count": 35,
   "id": "e9b1776c",
   "metadata": {
    "scrolled": true
   },
   "outputs": [
    {
     "name": "stdout",
     "output_type": "stream",
     "text": [
      "Saving: ../models/resnet50_pt_imagenet-all-study-types-23589761.h5\n",
      "WARNING:tensorflow:Compiled the loaded model, but the compiled metrics have yet to be built. `model.compile_metrics` will be empty until you train or evaluate the model.\n"
     ]
    }
   ],
   "source": [
    "# model naming convention: {architecture}-{which-study-type?}-{num-parameters}.h5\n",
    "#\n",
    "# to load models:\n",
    "# model = tf.keras.models.load_model(\n",
    "#     '../models/resnet50_pt_imagenet-all-study-types-?.h5',\n",
    "#     custom_objects={'F1Score': F1Score}\n",
    "# )\n",
    "# densenet = tf.keras.models.load_model(\n",
    "#     '../models/resnet50_base.h5',\n",
    "# )\n",
    "print(\n",
    "    f\"Saving: ../models/resnet50_pt_imagenet-all-study-types-{model.count_params()}.h5\"\n",
    ")\n",
    "model.save(f\"../models/resnet50_pt_imagenet-all-study-types-{model.count_params()}.h5\")\n",
    "resnet.save(\"../models/resnet50_base.h5\")"
   ]
  },
  {
   "cell_type": "code",
   "execution_count": 36,
   "id": "69bdf980",
   "metadata": {},
   "outputs": [
    {
     "data": {
      "image/png": "[encoded data removed]",
      "text/plain": [
       "<Figure size 1296x1080 with 4 Axes>"
      ]
     },
     "metadata": {},
     "output_type": "display_data"
    }
   ],
   "source": [
    "plot_metrics(history)"
   ]
  },
  {
   "cell_type": "code",
   "execution_count": 37,
   "id": "9660337e",
   "metadata": {},
   "outputs": [
    {
     "name": "stdout",
     "output_type": "stream",
     "text": [
      "921/921 [==============================] - 69s 75ms/step - loss: 0.4655 - tp: 2105.0000 - fp: 620.0000 - tn: 3799.0000 - fn: 837.0000 - binary_acc: 0.8021 - precision: 0.7725 - recall: 0.7155 - f1_score: 0.7429 - roc_auc: 0.8631 - pr_auc: 0.8311 - cohen_kappa: 0.5824\n"
     ]
    }
   ],
   "source": [
    "# get the loss value & metrics values for the model in validation mode\n",
    "evaluation_metrics = model.evaluate(validationset, verbose=1)"
   ]
  },
  {
   "cell_type": "code",
   "execution_count": 38,
   "id": "7e502324",
   "metadata": {},
   "outputs": [
    {
     "name": "stdout",
     "output_type": "stream",
     "text": [
      "val loss    : 0.46551796793937683\n",
      "tp          : 2105.0\n",
      "fp          : 620.0\n",
      "tn          : 3799.0\n",
      "fn          : 837.0\n",
      "binary_acc  : 0.8020649552345276\n",
      "precision   : 0.7724770903587341\n",
      "recall      : 0.7154996395111084\n",
      "f1_score    : 0.7428974509239197\n",
      "roc_auc     : 0.8630924224853516\n",
      "pr_auc      : 0.831084132194519\n",
      "cohen_kappa : 0.5823751091957092\n"
     ]
    }
   ],
   "source": [
    "loss = evaluation_metrics.pop(0)\n",
    "\n",
    "print(f\"val loss    : {loss}\")\n",
    "for metric, score in zip(METRICS, evaluation_metrics):\n",
    "\n",
    "    print(f\"{metric.name + ' ' * (12 - len(metric.name))}: {score}\")"
   ]
  },
  {
   "cell_type": "code",
   "execution_count": 39,
   "id": "9491c46f",
   "metadata": {},
   "outputs": [],
   "source": [
    "clean_up(model)\n",
    "clean_up(resnet)"
   ]
  }
 ],
 "metadata": {
  "kernelspec": {
   "display_name": "Python 3 (ipykernel)",
   "language": "python",
   "name": "python3"
  },
  "language_info": {
   "codemirror_mode": {
    "name": "ipython",
    "version": 3
   },
   "file_extension": ".py",
   "mimetype": "text/x-python",
   "name": "python",
   "nbconvert_exporter": "python",
   "pygments_lexer": "ipython3",
   "version": "3.8.10"
  }
 },
 "nbformat": 4,
 "nbformat_minor": 5
}
